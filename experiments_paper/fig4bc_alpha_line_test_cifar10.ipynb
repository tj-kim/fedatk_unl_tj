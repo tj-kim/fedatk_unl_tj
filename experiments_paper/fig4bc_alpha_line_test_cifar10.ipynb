{
 "cells": [
  {
   "cell_type": "markdown",
   "metadata": {},
   "source": [
    "### Alpha-Line Interpolation Between Robust/Feeble Model\n",
    "\n",
    "##### Summary\n",
    "Load model trained with federated adversarial training (FAT, high robustness against adversarial attacks) and FedAvg (low robustness). We make linear combinations of parameters of models and see if the robustness gradually changes as we sweep between FAT and FedAvg models.\n",
    "\n",
    "Figure 4c"
   ]
  },
  {
   "cell_type": "code",
   "execution_count": 1,
   "metadata": {},
   "outputs": [
    {
     "name": "stdout",
     "output_type": "stream",
     "text": [
      "/home/ubuntu/fedatk_unl_tj\n"
     ]
    }
   ],
   "source": [
    "cd /home/ubuntu/fedatk_unl_tj/"
   ]
  },
  {
   "cell_type": "code",
   "execution_count": 2,
   "metadata": {},
   "outputs": [
    {
     "name": "stderr",
     "output_type": "stream",
     "text": [
      "/home/ubuntu/anaconda3/envs/FedEM_env/lib/python3.9/site-packages/pandas/core/computation/expressions.py:21: UserWarning: Pandas requires version '2.8.4' or newer of 'numexpr' (version '2.7.3' currently installed).\n",
      "  from pandas.core.computation.check import NUMEXPR_INSTALLED\n",
      "/home/ubuntu/anaconda3/envs/FedEM_env/lib/python3.9/site-packages/pandas/core/arrays/masked.py:60: UserWarning: Pandas requires version '1.3.6' or newer of 'bottleneck' (version '1.3.2' currently installed).\n",
      "  from pandas.core import (\n"
     ]
    }
   ],
   "source": [
    "# Import General Libraries\n",
    "import os\n",
    "import argparse\n",
    "import torch\n",
    "import copy\n",
    "import pickle\n",
    "import random\n",
    "import numpy as np\n",
    "import pandas as pd\n",
    "\n",
    "# Import FedEM based Libraries\n",
    "from utils.utils import *\n",
    "from utils.constants import *\n",
    "from utils.args import *\n",
    "from utils.util_notebooks import *\n",
    "from run_experiment import *\n",
    "from models import *\n",
    "\n",
    "# Import Transfer Attack\n",
    "from transfer_attacks.Personalized_NN import *\n",
    "from transfer_attacks.Params import *\n",
    "from transfer_attacks.Transferer import *\n",
    "from transfer_attacks.Args import *\n",
    "from transfer_attacks.TA_utils import *\n",
    "\n",
    "torch.cuda.empty_cache()\n"
   ]
  },
  {
   "cell_type": "code",
   "execution_count": 3,
   "metadata": {},
   "outputs": [
    {
     "name": "stdout",
     "output_type": "stream",
     "text": [
      "==> Clients initialization..\n",
      "===> Building data iterators..\n"
     ]
    },
    {
     "name": "stderr",
     "output_type": "stream",
     "text": [
      " 49%|████▉     | 49/100 [00:00<00:00, 52.14it/s]\n"
     ]
    },
    {
     "name": "stdout",
     "output_type": "stream",
     "text": [
      "===> Initializing clients..\n"
     ]
    },
    {
     "name": "stderr",
     "output_type": "stream",
     "text": [
      "  0%|          | 0/50 [00:00<?, ?it/s]/home/ubuntu/anaconda3/envs/FedEM_env/lib/python3.9/site-packages/torchvision/models/_utils.py:208: UserWarning: The parameter 'pretrained' is deprecated since 0.13 and may be removed in the future, please use 'weights' instead.\n",
      "  warnings.warn(\n",
      "/home/ubuntu/anaconda3/envs/FedEM_env/lib/python3.9/site-packages/torchvision/models/_utils.py:223: UserWarning: Arguments other than a weight enum or `None` for 'weights' are deprecated since 0.13 and may be removed in the future. The current behavior is equivalent to passing `weights=MobileNet_V2_Weights.IMAGENET1K_V1`. You can also use `weights=MobileNet_V2_Weights.DEFAULT` to get the most up-to-date weights.\n",
      "  warnings.warn(msg)\n",
      "100%|██████████| 50/50 [00:29<00:00,  1.72it/s]\n",
      "/home/ubuntu/fedatk_unl_tj/aggregator.py:289: FutureWarning: You are using `torch.load` with `weights_only=False` (the current default value), which uses the default pickle module implicitly. It is possible to construct malicious pickle data which will execute arbitrary code during unpickling (See https://github.com/pytorch/pytorch/blob/main/SECURITY.md#untrusted-models for more details). In a future release, the default value for `weights_only` will be flipped to `True`. This limits the functions that could be executed during unpickling. Arbitrary objects will no longer be allowed to be loaded via this mode unless they are explicitly allowlisted by the user via `torch.serialization.add_safe_globals`. We recommend you start setting `weights_only=True` for any use case where you don't have full control of the loaded file. Please open an issue on GitHub for any issues related to this experimental feature.\n",
      "  learner.model.load_state_dict(torch.load(chkpts_path))\n"
     ]
    }
   ],
   "source": [
    "setting, num_user = \"FedAvg_adv\", 50\n",
    "dataset = 'cifar100'\n",
    "eps = 4\n",
    "\n",
    "try: # Skip loading if already loaded\n",
    "    aggregator\n",
    "except:\n",
    "    aggregator, clients, args_ = set_args(setting, num_user,  experiment = dataset) # Indicate dataset here\n",
    "\n",
    "# Load models for FAT and FedAvg\n",
    "save_path_FAT = '/home/ubuntu/fedatk_unl_tj/weights/cifar100/250123_icml25/FAT/'\n",
    "save_path_FedAvg =  '/home/ubuntu/fedatk_unl_tj/weights/cifar100/250123_icml25/FedAvg/'\n",
    "\n",
    "model_FAT = copy.deepcopy(import_model_weights(num_user, setting, save_path_FAT, aggregator, args_)[0])\n",
    "model_Fedavg = import_model_weights(num_user, setting, save_path_FedAvg, aggregator, args_)[0]\n"
   ]
  },
  {
   "cell_type": "code",
   "execution_count": 4,
   "metadata": {},
   "outputs": [],
   "source": [
    "# Linear extrapolation of model for each layer\n",
    "stepsize_alpha = 0.05\n",
    "alpha_set = np.arange(0,1+stepsize_alpha,stepsize_alpha)\n",
    "\n",
    "models_test = []\n",
    "\n",
    "params_FAT = model_FAT.state_dict()\n",
    "params_FedAvg = model_Fedavg.state_dict()\n",
    "\n",
    "\n",
    "for (a) in alpha_set:\n",
    "    # first make the model with empty weights\n",
    "    new_model = copy.deepcopy(model_FAT)\n",
    "    new_model.eval()\n",
    "    new_weight_dict = copy.deepcopy(params_FAT)\n",
    "    for key in params_FAT:\n",
    "        new_weight_dict[key] = a*params_FedAvg[key] + (1-a)*params_FAT[key] \n",
    "    new_model.load_state_dict(new_weight_dict)\n",
    "    models_test += [new_model]\n"
   ]
  },
  {
   "cell_type": "code",
   "execution_count": 5,
   "metadata": {},
   "outputs": [
    {
     "name": "stdout",
     "output_type": "stream",
     "text": [
      "\t Adv idx: 0\n",
      "\t Adv idx: 1\n",
      "\t Adv idx: 2\n",
      "\t Adv idx: 3\n",
      "\t Adv idx: 4\n",
      "\t Adv idx: 5\n",
      "\t Adv idx: 6\n",
      "\t Adv idx: 7\n",
      "\t Adv idx: 8\n",
      "\t Adv idx: 9\n",
      "\t Adv idx: 10\n",
      "\t Adv idx: 11\n",
      "\t Adv idx: 12\n",
      "\t Adv idx: 13\n",
      "\t Adv idx: 14\n",
      "\t Adv idx: 15\n",
      "\t Adv idx: 16\n",
      "\t Adv idx: 17\n",
      "\t Adv idx: 18\n",
      "\t Adv idx: 19\n",
      "\t Adv idx: 20\n",
      "\t Adv idx: 0\n",
      "\t Adv idx: 1\n",
      "\t Adv idx: 2\n",
      "\t Adv idx: 3\n",
      "\t Adv idx: 4\n",
      "\t Adv idx: 5\n",
      "\t Adv idx: 6\n",
      "\t Adv idx: 7\n",
      "\t Adv idx: 8\n",
      "\t Adv idx: 9\n",
      "\t Adv idx: 10\n",
      "\t Adv idx: 11\n",
      "\t Adv idx: 12\n",
      "\t Adv idx: 13\n",
      "\t Adv idx: 14\n",
      "\t Adv idx: 15\n",
      "\t Adv idx: 16\n",
      "\t Adv idx: 17\n",
      "\t Adv idx: 18\n",
      "\t Adv idx: 19\n",
      "\t Adv idx: 20\n",
      "\t Adv idx: 0\n",
      "\t Adv idx: 1\n",
      "\t Adv idx: 2\n",
      "\t Adv idx: 3\n",
      "\t Adv idx: 4\n",
      "\t Adv idx: 5\n",
      "\t Adv idx: 6\n",
      "\t Adv idx: 7\n",
      "\t Adv idx: 8\n",
      "\t Adv idx: 9\n",
      "\t Adv idx: 10\n",
      "\t Adv idx: 11\n",
      "\t Adv idx: 12\n",
      "\t Adv idx: 13\n",
      "\t Adv idx: 14\n",
      "\t Adv idx: 15\n",
      "\t Adv idx: 16\n",
      "\t Adv idx: 17\n",
      "\t Adv idx: 18\n",
      "\t Adv idx: 19\n",
      "\t Adv idx: 20\n",
      "\t Adv idx: 0\n",
      "\t Adv idx: 1\n",
      "\t Adv idx: 2\n",
      "\t Adv idx: 3\n",
      "\t Adv idx: 4\n",
      "\t Adv idx: 5\n",
      "\t Adv idx: 6\n",
      "\t Adv idx: 7\n",
      "\t Adv idx: 8\n",
      "\t Adv idx: 9\n",
      "\t Adv idx: 10\n",
      "\t Adv idx: 11\n",
      "\t Adv idx: 12\n",
      "\t Adv idx: 13\n",
      "\t Adv idx: 14\n",
      "\t Adv idx: 15\n",
      "\t Adv idx: 16\n",
      "\t Adv idx: 17\n",
      "\t Adv idx: 18\n",
      "\t Adv idx: 19\n",
      "\t Adv idx: 20\n",
      "\t Adv idx: 0\n",
      "\t Adv idx: 1\n",
      "\t Adv idx: 2\n",
      "\t Adv idx: 3\n",
      "\t Adv idx: 4\n",
      "\t Adv idx: 5\n",
      "\t Adv idx: 6\n",
      "\t Adv idx: 7\n",
      "\t Adv idx: 8\n",
      "\t Adv idx: 9\n",
      "\t Adv idx: 10\n",
      "\t Adv idx: 11\n",
      "\t Adv idx: 12\n",
      "\t Adv idx: 13\n",
      "\t Adv idx: 14\n",
      "\t Adv idx: 15\n",
      "\t Adv idx: 16\n",
      "\t Adv idx: 17\n",
      "\t Adv idx: 18\n",
      "\t Adv idx: 19\n",
      "\t Adv idx: 20\n"
     ]
    }
   ],
   "source": [
    "# Perform transfer attack from one client to another and record stats\n",
    "# models_test = [model_Fedavg, model_FAT]\n",
    "\n",
    "alpha_list = alpha_set.tolist()\n",
    "num_trials = 5\n",
    "acc_store_agg = np.zeros([num_trials, len(alpha_list)])\n",
    "adv_store_agg = np.zeros([num_trials, len(alpha_list)])\n",
    "\n",
    "for itt in range(num_trials):\n",
    "\n",
    "    # Run Measurements for both targetted and untargeted analysis\n",
    "    victim_idxs = range(len(models_test))\n",
    "    logs_adv = generate_logs_adv(len(models_test))\n",
    "    custom_batch_size = 100\n",
    "\n",
    "\n",
    "    dataloader = load_client_data(clients = clients, c_id = 0, mode = 'all') # or test/train\n",
    "    cross_attack(logs_adv, victim_idxs, dataloader, models_test, custom_batch_size, eps)\n",
    "\n",
    "    metrics = ['orig_acc_transfers','orig_similarities','adv_acc_transfers','adv_similarities_target',\n",
    "                'adv_similarities_untarget','adv_target','adv_miss']\n",
    "\n",
    "    adv_miss = get_metric_list(\"adv_miss\", logs_adv, victim_idxs)\n",
    "    acc = get_metric_list(\"orig_acc_transfers\", logs_adv, victim_idxs)\n",
    "\n",
    "    # Print along diagonal and plot \"robustness against white-box attacks (self)\"\n",
    "    adv_list = []\n",
    "    acc_list = []\n",
    "    for i in range(adv_miss.shape[0]):\n",
    "        adv_list += [adv_miss[i,i]]\n",
    "        acc_list += [acc[i,i]]\n",
    "\n",
    "    acc_store_agg[itt,:] = np.array(acc_list)\n",
    "    adv_store_agg[itt,:] = np.array(adv_list)\n",
    "\n"
   ]
  },
  {
   "cell_type": "code",
   "execution_count": 6,
   "metadata": {},
   "outputs": [
    {
     "name": "stdout",
     "output_type": "stream",
     "text": [
      "[0.38 0.42 0.40 0.42 0.42 0.44 0.43 0.45 0.43 0.42 0.41 0.39 0.43 0.45\n",
      " 0.39 0.41 0.43 0.40 0.36 0.40 0.41]\n",
      "[0.03 0.04 0.03 0.04 0.04 0.03 0.05 0.04 0.03 0.05 0.02 0.02 0.04 0.05\n",
      " 0.07 0.04 0.07 0.04 0.04 0.04 0.03]\n",
      "[0.12 0.12 0.10 0.08 0.07 0.09 0.06 0.08 0.06 0.06 0.04 0.03 0.02 0.02\n",
      " 0.02 0.02 0.01 0.00 0.00 0.01 0.00]\n",
      "[0.04 0.03 0.02 0.02 0.01 0.03 0.03 0.02 0.02 0.02 0.01 0.01 0.02 0.01\n",
      " 0.01 0.02 0.01 0.00 0.00 0.00 0.00]\n"
     ]
    }
   ],
   "source": [
    "acc_list_true = np.mean(acc_store_agg, axis = 0)\n",
    "adv_list_true = np.mean(adv_store_agg, axis = 0)\n",
    "\n",
    "acc_list_std = np.std(acc_store_agg, axis = 0)\n",
    "adv_list_std = np.std(adv_store_agg, axis = 0)\n",
    "\n",
    "print(acc_list_true)\n",
    "print(acc_list_std)\n",
    "print(adv_list_true)\n",
    "print(adv_list_std)"
   ]
  },
  {
   "cell_type": "code",
   "execution_count": 7,
   "metadata": {},
   "outputs": [
    {
     "name": "stderr",
     "output_type": "stream",
     "text": [
      "findfont: Font family ['normal'] not found. Falling back to DejaVu Sans.\n",
      "findfont: Font family ['normal'] not found. Falling back to DejaVu Sans.\n"
     ]
    },
    {
     "data": {
      "image/png": "[encoded data removed]",
      "text/plain": [
       "<Figure size 480x320 with 1 Axes>"
      ]
     },
     "metadata": {
      "needs_background": "light"
     },
     "output_type": "display_data"
    }
   ],
   "source": [
    "import numpy as np\n",
    "import matplotlib\n",
    "from matplotlib import pyplot as plt\n",
    "\n",
    "# Sample data\n",
    "x = alpha_list\n",
    "y1 = acc_list_true\n",
    "y2 = adv_list_true\n",
    "\n",
    "# Compute standard deviation\n",
    "std1 = acc_list_std  # Replace with actual standard deviation values\n",
    "std2 = adv_list_std  # Replace with actual standard deviation values\n",
    "\n",
    "font = {'family': 'normal',\n",
    "        'weight': 'normal',\n",
    "        'size': 18}\n",
    "\n",
    "plt.rc('font', **font)\n",
    "plt.figure(dpi=80, figsize=(6, 4))\n",
    "\n",
    "# Plot the first line (y1) with shaded region for standard deviation\n",
    "plt.plot(x, y1, label='Test Acc', color='b', linewidth=2, linestyle='-', marker='o', markersize=5)\n",
    "plt.fill_between(x, y1 - std1, y1 + std1, color='b', alpha=0.2)\n",
    "\n",
    "# Plot the second line (y2) with shaded region for standard deviation\n",
    "plt.plot(x, y2, label='Adv Acc', color='r', linewidth=2, linestyle='--', marker='s', markersize=5)\n",
    "plt.fill_between(x, y2 - std2, y2 + std2, color='r', alpha=0.2)\n",
    "\n",
    "# Set plot title and labels\n",
    "plt.title('Interpolation from FAT to FedAvg')\n",
    "plt.xlabel('Proportion of FedAvg Model')\n",
    "plt.ylabel('Accuracy')\n",
    "\n",
    "# Add a legend\n",
    "plt.legend()\n",
    "\n",
    "# Show the plot\n",
    "plt.show()\n"
   ]
  },
  {
   "cell_type": "raw",
   "metadata": {
    "vscode": {
     "languageId": "raw"
    }
   },
   "source": [
    "CIFAR-10\n",
    "ACC\n",
    "[0.82 0.79 0.80 0.82 0.79 0.81 0.81 0.81 0.80 0.78 0.81 0.82 0.81 0.79\n",
    " 0.84 0.85 0.85 0.84 0.86 0.87 0.84]\n",
    "ACC_STD\n",
    "[0.02 0.03 0.02 0.03 0.03 0.03 0.04 0.03 0.02 0.05 0.04 0.03 0.04 0.03\n",
    " 0.02 0.03 0.02 0.03 0.02 0.03 0.03]\n",
    "ADV_ACC\n",
    "[0.39 0.42 0.36 0.39 0.35 0.35 0.31 0.26 0.24 0.19 0.19 0.15 0.11 0.11\n",
    " 0.08 0.06 0.03 0.03 0.02 0.01 0.01]\n",
    "ADV_ACC_STD\n",
    "[0.07 0.05 0.05 0.09 0.03 0.08 0.06 0.03 0.04 0.03 0.03 0.03 0.04 0.02\n",
    " 0.03 0.02 0.01 0.02 0.00 0.01 0.01]\n",
    "\n",
    "CIFAR-100\n",
    "ACC\n",
    "[0.38 0.42 0.40 0.42 0.42 0.44 0.43 0.45 0.43 0.42 0.41 0.39 0.43 0.45\n",
    " 0.39 0.41 0.43 0.40 0.36 0.40 0.41]\n",
    "ACC_STD\n",
    "[0.03 0.04 0.03 0.04 0.04 0.03 0.05 0.04 0.03 0.05 0.02 0.02 0.04 0.05\n",
    " 0.07 0.04 0.07 0.04 0.04 0.04 0.03]\n",
    "ADV_ACC\n",
    "[0.12 0.12 0.10 0.08 0.07 0.09 0.06 0.08 0.06 0.06 0.04 0.03 0.02 0.02\n",
    " 0.02 0.02 0.01 0.00 0.00 0.01 0.00]\n",
    "ADV_ACC_STD\n",
    "[0.04 0.03 0.02 0.02 0.01 0.03 0.03 0.02 0.02 0.02 0.01 0.01 0.02 0.01\n",
    " 0.01 0.02 0.01 0.00 0.00 0.00 0.00]\n",
    "\n",
    "CELEBA\n",
    "\n",
    "FAKENEWSNET"
   ]
  }
 ],
 "metadata": {
  "kernelspec": {
   "display_name": "FedEM_env",
   "language": "python",
   "name": "python3"
  },
  "language_info": {
   "codemirror_mode": {
    "name": "ipython",
    "version": 3
   },
   "file_extension": ".py",
   "mimetype": "text/x-python",
   "name": "python",
   "nbconvert_exporter": "python",
   "pygments_lexer": "ipython3",
   "version": "3.9.6"
  }
 },
 "nbformat": 4,
 "nbformat_minor": 2
}
