{
 "cells": [
  {
   "cell_type": "markdown",
   "metadata": {},
   "source": [
    "### Alpha-Line Interpolation Between Robust/Feeble Model\n",
    "\n",
    "##### Summary\n",
    "Load model trained with federated adversarial training (FAT, high robustness against adversarial attacks) and FedAvg (low robustness). We make linear combinations of parameters of models and see if the robustness gradually changes as we sweep between FAT and FedAvg models.\n",
    "\n",
    "Figure 4c"
   ]
  },
  {
   "cell_type": "raw",
   "metadata": {
    "vscode": {
     "languageId": "raw"
    }
   },
   "source": [
    "cd to_base_directory"
   ]
  },
  {
   "cell_type": "code",
   "execution_count": 2,
   "metadata": {},
   "outputs": [],
   "source": [
    "# Import General Libraries\n",
    "import os\n",
    "import argparse\n",
    "import torch\n",
    "import copy\n",
    "import pickle\n",
    "import random\n",
    "import numpy as np\n",
    "import pandas as pd\n",
    "\n",
    "# Import FedEM based Libraries\n",
    "from utils.utils import *\n",
    "from utils.constants import *\n",
    "from utils.args import *\n",
    "from utils.util_notebooks import *\n",
    "from run_experiment import *\n",
    "from models import *\n",
    "\n",
    "# Import Transfer Attack\n",
    "from transfer_attacks.Personalized_NN import *\n",
    "from transfer_attacks.Params import *\n",
    "from transfer_attacks.Transferer import *\n",
    "from transfer_attacks.Args import *\n",
    "from transfer_attacks.TA_utils import *\n",
    "\n",
    "torch.cuda.empty_cache()\n"
   ]
  },
  {
   "cell_type": "code",
   "execution_count": 3,
   "metadata": {},
   "outputs": [
    {
     "name": "stdout",
     "output_type": "stream",
     "text": [
      "==> Clients initialization..\n",
      "===> Building data iterators..\n"
     ]
    },
    {
     "name": "stderr",
     "output_type": "stream",
     "text": [
      " 49%|████▉     | 39/80 [00:00<00:00, 102.21it/s]\n"
     ]
    },
    {
     "name": "stdout",
     "output_type": "stream",
     "text": [
      "===> Initializing clients..\n"
     ]
    },
    {
     "name": "stderr",
     "output_type": "stream",
     "text": [
      "100%|██████████| 40/40 [00:22<00:00,  1.76it/s]\n"
     ]
    }
   ],
   "source": [
    "setting, num_user = \"FedAvg_adv\", 40\n",
    "\n",
    "try: # Skip loading if already loaded\n",
    "    aggregator\n",
    "except:\n",
    "    aggregator, clients, args_ = set_args(setting, num_user,  experiment = \"cifar10\") # Indicate dataset here\n",
    "\n",
    "# Load models for FAT and FedAvg\n",
    "save_path_FAT = 'path_to_trained_FAT_weights'\n",
    "save_path_FedAvg = 'path_to_trained_Fedavg_weights'\n",
    "\n",
    "model_FAT = copy.deepcopy(import_model_weights(num_user, setting, save_path_FAT, aggregator, args_)[0])\n",
    "model_Fedavg = import_model_weights(num_user, setting, save_path_FedAvg, aggregator, args_)[0]\n"
   ]
  },
  {
   "cell_type": "code",
   "execution_count": 4,
   "metadata": {},
   "outputs": [],
   "source": [
    "# Linear extrapolation of model for each layer\n",
    "stepsize_alpha = 0.05\n",
    "alpha_set = np.arange(0,1+stepsize_alpha,stepsize_alpha)\n",
    "\n",
    "models_test = []\n",
    "\n",
    "params_FAT = model_FAT.state_dict()\n",
    "params_FedAvg = model_Fedavg.state_dict()\n",
    "\n",
    "\n",
    "for (a) in alpha_set:\n",
    "    # first make the model with empty weights\n",
    "    new_model = copy.deepcopy(model_FAT)\n",
    "    new_model.eval()\n",
    "    new_weight_dict = copy.deepcopy(params_FAT)\n",
    "    for key in params_FAT:\n",
    "        new_weight_dict[key] = a*params_FedAvg[key] + (1-a)*params_FAT[key] \n",
    "    new_model.load_state_dict(new_weight_dict)\n",
    "    models_test += [new_model]\n"
   ]
  },
  {
   "cell_type": "code",
   "execution_count": 5,
   "metadata": {},
   "outputs": [
    {
     "name": "stdout",
     "output_type": "stream",
     "text": [
      "\t Adv idx: 0\n",
      "\t Adv idx: 1\n",
      "\t Adv idx: 2\n",
      "\t Adv idx: 3\n",
      "\t Adv idx: 4\n",
      "\t Adv idx: 5\n",
      "\t Adv idx: 6\n",
      "\t Adv idx: 7\n",
      "\t Adv idx: 8\n",
      "\t Adv idx: 9\n",
      "\t Adv idx: 10\n",
      "\t Adv idx: 11\n",
      "\t Adv idx: 12\n",
      "\t Adv idx: 13\n",
      "\t Adv idx: 14\n",
      "\t Adv idx: 15\n",
      "\t Adv idx: 16\n",
      "\t Adv idx: 17\n",
      "\t Adv idx: 18\n",
      "\t Adv idx: 19\n",
      "\t Adv idx: 20\n",
      "\t Adv idx: 0\n",
      "\t Adv idx: 1\n",
      "\t Adv idx: 2\n",
      "\t Adv idx: 3\n",
      "\t Adv idx: 4\n",
      "\t Adv idx: 5\n",
      "\t Adv idx: 6\n",
      "\t Adv idx: 7\n",
      "\t Adv idx: 8\n",
      "\t Adv idx: 9\n",
      "\t Adv idx: 10\n",
      "\t Adv idx: 11\n",
      "\t Adv idx: 12\n",
      "\t Adv idx: 13\n",
      "\t Adv idx: 14\n",
      "\t Adv idx: 15\n",
      "\t Adv idx: 16\n",
      "\t Adv idx: 17\n",
      "\t Adv idx: 18\n",
      "\t Adv idx: 19\n",
      "\t Adv idx: 20\n",
      "\t Adv idx: 0\n",
      "\t Adv idx: 1\n",
      "\t Adv idx: 2\n",
      "\t Adv idx: 3\n",
      "\t Adv idx: 4\n",
      "\t Adv idx: 5\n",
      "\t Adv idx: 6\n",
      "\t Adv idx: 7\n",
      "\t Adv idx: 8\n",
      "\t Adv idx: 9\n",
      "\t Adv idx: 10\n",
      "\t Adv idx: 11\n",
      "\t Adv idx: 12\n",
      "\t Adv idx: 13\n",
      "\t Adv idx: 14\n",
      "\t Adv idx: 15\n",
      "\t Adv idx: 16\n",
      "\t Adv idx: 17\n",
      "\t Adv idx: 18\n",
      "\t Adv idx: 19\n",
      "\t Adv idx: 20\n",
      "\t Adv idx: 0\n",
      "\t Adv idx: 1\n",
      "\t Adv idx: 2\n",
      "\t Adv idx: 3\n",
      "\t Adv idx: 4\n",
      "\t Adv idx: 5\n",
      "\t Adv idx: 6\n",
      "\t Adv idx: 7\n",
      "\t Adv idx: 8\n",
      "\t Adv idx: 9\n",
      "\t Adv idx: 10\n",
      "\t Adv idx: 11\n",
      "\t Adv idx: 12\n",
      "\t Adv idx: 13\n",
      "\t Adv idx: 14\n",
      "\t Adv idx: 15\n",
      "\t Adv idx: 16\n",
      "\t Adv idx: 17\n",
      "\t Adv idx: 18\n",
      "\t Adv idx: 19\n",
      "\t Adv idx: 20\n",
      "\t Adv idx: 0\n",
      "\t Adv idx: 1\n",
      "\t Adv idx: 2\n",
      "\t Adv idx: 3\n",
      "\t Adv idx: 4\n",
      "\t Adv idx: 5\n",
      "\t Adv idx: 6\n",
      "\t Adv idx: 7\n",
      "\t Adv idx: 8\n",
      "\t Adv idx: 9\n",
      "\t Adv idx: 10\n",
      "\t Adv idx: 11\n",
      "\t Adv idx: 12\n",
      "\t Adv idx: 13\n",
      "\t Adv idx: 14\n",
      "\t Adv idx: 15\n",
      "\t Adv idx: 16\n",
      "\t Adv idx: 17\n",
      "\t Adv idx: 18\n",
      "\t Adv idx: 19\n",
      "\t Adv idx: 20\n"
     ]
    }
   ],
   "source": [
    "# Perform transfer attack from one client to another and record stats\n",
    "# models_test = [model_Fedavg, model_FAT]\n",
    "\n",
    "alpha_list = alpha_set.tolist()\n",
    "num_trials = 5\n",
    "acc_store_agg = np.zeros([num_trials, len(alpha_list)])\n",
    "adv_store_agg = np.zeros([num_trials, len(alpha_list)])\n",
    "\n",
    "for itt in range(num_trials):\n",
    "\n",
    "    # Run Measurements for both targetted and untargeted analysis\n",
    "    victim_idxs = range(len(models_test))\n",
    "    logs_adv = generate_logs_adv(len(models_test))\n",
    "    custom_batch_size = 100\n",
    "    eps = 3\n",
    "\n",
    "    dataloader = load_client_data(clients = clients, c_id = 0, mode = 'all') # or test/train\n",
    "    cross_attack(logs_adv, victim_idxs, dataloader, models_test, custom_batch_size, eps)\n",
    "\n",
    "    metrics = ['orig_acc_transfers','orig_similarities','adv_acc_transfers','adv_similarities_target',\n",
    "                'adv_similarities_untarget','adv_target','adv_miss']\n",
    "\n",
    "    adv_miss = get_metric_list(\"adv_miss\", logs_adv, victim_idxs)\n",
    "    acc = get_metric_list(\"orig_acc_transfers\", logs_adv, victim_idxs)\n",
    "\n",
    "    # Print along diagonal and plot \"robustness against white-box attacks (self)\"\n",
    "    adv_list = []\n",
    "    acc_list = []\n",
    "    for i in range(adv_miss.shape[0]):\n",
    "        adv_list += [adv_miss[i,i]]\n",
    "        acc_list += [acc[i,i]]\n",
    "\n",
    "    acc_store_agg[itt,:] = np.array(acc_list)\n",
    "    adv_store_agg[itt,:] = np.array(adv_list)\n",
    "\n"
   ]
  },
  {
   "cell_type": "code",
   "execution_count": 6,
   "metadata": {},
   "outputs": [
    {
     "name": "stdout",
     "output_type": "stream",
     "text": [
      "[0.82 0.81 0.81 0.80 0.81 0.83 0.79 0.82 0.81 0.78 0.81 0.81 0.83 0.82\n",
      " 0.83 0.83 0.83 0.84 0.87 0.85 0.82]\n",
      "[0.03 0.02 0.03 0.07 0.05 0.03 0.05 0.05 0.04 0.05 0.04 0.03 0.02 0.02\n",
      " 0.03 0.03 0.02 0.02 0.01 0.02 0.03]\n",
      "[0.51 0.49 0.48 0.49 0.42 0.42 0.39 0.35 0.34 0.31 0.24 0.18 0.18 0.13\n",
      " 0.11 0.09 0.06 0.05 0.04 0.02 0.01]\n",
      "[0.04 0.04 0.03 0.02 0.03 0.05 0.04 0.03 0.05 0.06 0.03 0.04 0.04 0.05\n",
      " 0.02 0.03 0.02 0.01 0.01 0.02 0.01]\n"
     ]
    }
   ],
   "source": [
    "acc_list_true = np.mean(acc_store_agg, axis = 0)\n",
    "adv_list_true = np.mean(adv_store_agg, axis = 0)\n",
    "\n",
    "acc_list_std = np.std(acc_store_agg, axis = 0)\n",
    "adv_list_std = np.std(adv_store_agg, axis = 0)\n",
    "\n",
    "print(acc_list_true)\n",
    "print(acc_list_std)\n",
    "print(adv_list_true)\n",
    "print(adv_list_std)"
   ]
  },
  {
   "cell_type": "code",
   "execution_count": 9,
   "metadata": {},
   "outputs": [
    {
     "data": {
      "image/png": "[encoded data removed]",
      "text/plain": [
       "<Figure size 480x320 with 1 Axes>"
      ]
     },
     "metadata": {
      "needs_background": "light"
     },
     "output_type": "display_data"
    }
   ],
   "source": [
    "import numpy as np\n",
    "import matplotlib\n",
    "from matplotlib import pyplot as plt\n",
    "\n",
    "# Sample data\n",
    "x = alpha_list\n",
    "y1 = acc_list_true\n",
    "y2 = adv_list_true\n",
    "\n",
    "# Compute standard deviation\n",
    "std1 = acc_list_std  # Replace with actual standard deviation values\n",
    "std2 = adv_list_std  # Replace with actual standard deviation values\n",
    "\n",
    "font = {'family': 'normal',\n",
    "        'weight': 'normal',\n",
    "        'size': 18}\n",
    "\n",
    "plt.rc('font', **font)\n",
    "plt.figure(dpi=80, figsize=(6, 4))\n",
    "\n",
    "# Plot the first line (y1) with shaded region for standard deviation\n",
    "plt.plot(x, y1, label='Test Acc', color='b', linewidth=2, linestyle='-', marker='o', markersize=5)\n",
    "plt.fill_between(x, y1 - std1, y1 + std1, color='b', alpha=0.2)\n",
    "\n",
    "# Plot the second line (y2) with shaded region for standard deviation\n",
    "plt.plot(x, y2, label='Adv Acc', color='r', linewidth=2, linestyle='--', marker='s', markersize=5)\n",
    "plt.fill_between(x, y2 - std2, y2 + std2, color='r', alpha=0.2)\n",
    "\n",
    "# Set plot title and labels\n",
    "plt.title('Interpolation from FAT to FedAvg')\n",
    "plt.xlabel('Proportion of FedAvg Model')\n",
    "plt.ylabel('Accuracy')\n",
    "\n",
    "# Add a legend\n",
    "plt.legend()\n",
    "\n",
    "# Show the plot\n",
    "plt.show()\n"
   ]
  },
  {
   "cell_type": "code",
   "execution_count": null,
   "metadata": {},
   "outputs": [],
   "source": []
  }
 ],
 "metadata": {
  "kernelspec": {
   "display_name": "Python 3",
   "language": "python",
   "name": "python3"
  },
  "language_info": {
   "codemirror_mode": {
    "name": "ipython",
    "version": 3
   },
   "file_extension": ".py",
   "mimetype": "text/x-python",
   "name": "python",
   "nbconvert_exporter": "python",
   "pygments_lexer": "ipython3",
   "version": "3.8.5"
  }
 },
 "nbformat": 4,
 "nbformat_minor": 2
}
