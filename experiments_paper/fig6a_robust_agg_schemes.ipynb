{
 "cells": [
  {
   "cell_type": "markdown",
   "metadata": {},
   "source": [
    "### Model Aggregation Scheme Overview\n",
    "\n",
    "##### Summary\n",
    "Trained 6 models [FedAvg, FAT] x [Vanilla, Trimmed Mean, Median]. Record test acc and adv acc for each setting. Each model has only been trained for 50 round to save time.\n",
    "\n",
    "Table 2 "
   ]
  },
  {
   "cell_type": "code",
   "execution_count": null,
   "metadata": {},
   "outputs": [],
   "source": [
    "cd to_base_directory"
   ]
  },
  {
   "cell_type": "code",
   "execution_count": 2,
   "metadata": {},
   "outputs": [],
   "source": [
    "# Import General Libraries\n",
    "import os\n",
    "import argparse\n",
    "import torch\n",
    "import copy\n",
    "import pickle\n",
    "import random\n",
    "import numpy as np\n",
    "import pandas as pd\n",
    "\n",
    "# Import FedEM based Libraries\n",
    "from utils.utils import *\n",
    "from utils.constants import *\n",
    "from utils.args import *\n",
    "from utils.util_notebooks import *\n",
    "from run_experiment import *\n",
    "from models import *\n",
    "\n",
    "# Import Transfer Attack\n",
    "from transfer_attacks.Personalized_NN import *\n",
    "from transfer_attacks.Params import *\n",
    "from transfer_attacks.Transferer import *\n",
    "from transfer_attacks.Args import *\n",
    "from transfer_attacks.TA_utils import *"
   ]
  },
  {
   "cell_type": "code",
   "execution_count": 3,
   "metadata": {},
   "outputs": [
    {
     "name": "stdout",
     "output_type": "stream",
     "text": [
      "==> Clients initialization..\n",
      "===> Building data iterators..\n"
     ]
    },
    {
     "name": "stderr",
     "output_type": "stream",
     "text": [
      "100%|███████████████████████████████████████████████████████████████████████████████████████████████████████████████████████████████████████████████████████████████████████| 80/80 [00:00<00:00, 159.67it/s]\n"
     ]
    },
    {
     "name": "stdout",
     "output_type": "stream",
     "text": [
      "===> Initializing clients..\n"
     ]
    },
    {
     "name": "stderr",
     "output_type": "stream",
     "text": [
      "100%|████████████████████████████████████████████████████████████████████████████████████████████████████████████████████████████████████████████████████████████████████████| 80/80 [00:15<00:00,  5.13it/s]\n"
     ]
    },
    {
     "name": "stdout",
     "output_type": "stream",
     "text": [
      "==> Test Clients initialization..\n",
      "===> Building data iterators..\n"
     ]
    },
    {
     "name": "stderr",
     "output_type": "stream",
     "text": [
      "0it [00:00, ?it/s]\n"
     ]
    },
    {
     "name": "stdout",
     "output_type": "stream",
     "text": [
      "===> Initializing clients..\n"
     ]
    },
    {
     "name": "stderr",
     "output_type": "stream",
     "text": [
      "0it [00:00, ?it/s]\n"
     ]
    }
   ],
   "source": [
    "setting, num_user = \"FedAvg\", 40\n",
    "\n",
    "try: # Skip loading if already loaded\n",
    "    aggregator\n",
    "except:\n",
    "    aggregator, clients, args_ = set_args(setting, num_user)\n",
    "\n",
    "# Load models for FAT and FedAvg\n",
    "# Change path to where models are stored trained via trimmed mean and median given noniid induced by FAT \n",
    "# model is trained by run_model_training/train_model_noniid_sweep.py\n",
    "save_path_tm_iid = \"weights/cifar10/240131_niid_test/tm_iid/\"\n",
    "save_path_tm_niid = \"weights/cifar10/240131_niid_test/tm_niid/\"\n",
    "save_path_med_iid = \"weights/cifar10/240131_niid_test/med_iid/\"\n",
    "save_path_med_niid = \"weights/cifar10/240131_niid_test/med_niid/\"\n",
    "\n",
    "model_tm_iid = copy.deepcopy(import_model_weights(num_user, setting, save_path_tm_iid, aggregator, args_)[0])\n",
    "model_tm_niid = copy.deepcopy(import_model_weights(num_user, setting, save_path_tm_niid, aggregator, args_)[0])\n",
    "\n",
    "model_med_iid = copy.deepcopy(import_model_weights(num_user, setting, save_path_med_iid, aggregator, args_)[0])\n",
    "model_med_niid = copy.deepcopy(import_model_weights(num_user, setting, save_path_med_niid, aggregator, args_)[0])"
   ]
  },
  {
   "cell_type": "code",
   "execution_count": 13,
   "metadata": {},
   "outputs": [
    {
     "name": "stdout",
     "output_type": "stream",
     "text": [
      "Running cid trial 0\n",
      "\t Adv idx: 0\n",
      "\t Adv idx: 1\n",
      "\t Adv idx: 2\n",
      "\t Adv idx: 3\n",
      "Running cid trial 1\n",
      "\t Adv idx: 0\n",
      "\t Adv idx: 1\n",
      "\t Adv idx: 2\n",
      "\t Adv idx: 3\n",
      "Running cid trial 2\n",
      "\t Adv idx: 0\n",
      "\t Adv idx: 1\n",
      "\t Adv idx: 2\n",
      "\t Adv idx: 3\n",
      "Running cid trial 3\n",
      "\t Adv idx: 0\n",
      "\t Adv idx: 1\n",
      "\t Adv idx: 2\n",
      "\t Adv idx: 3\n",
      "Running cid trial 4\n",
      "\t Adv idx: 0\n",
      "\t Adv idx: 1\n",
      "\t Adv idx: 2\n",
      "\t Adv idx: 3\n"
     ]
    }
   ],
   "source": [
    "metrics = ['orig_acc_transfers','orig_similarities','adv_acc_transfers','adv_similarities_target',\n",
    "            'adv_similarities_untarget','adv_target','adv_miss']\n",
    "\n",
    "# Perform transfer attack from one client to another and record stats\n",
    "models_test = [model_tm_iid, model_tm_niid,model_med_iid,model_med_niid]\n",
    "\n",
    "# Run Measurements for both targetted and untargeted analysis\n",
    "victim_idxs = range(len(models_test))\n",
    "custom_batch_size = 1000\n",
    "eps = 4.5\n",
    "\n",
    "num_cid = 5\n",
    "c_id_list = range(num_cid)\n",
    "\n",
    "acc_store = np.zeros([num_cid, len(models_test)])\n",
    "adv_store = np.zeros([num_cid, len(models_test)])\n",
    "\n",
    "\n",
    "for t in c_id_list:\n",
    "    print(\"Running cid trial\", t)\n",
    "    logs_adv = generate_logs_adv(len(models_test))\n",
    "    dataloader = load_client_data(clients = clients, c_id = t, mode = 'test') # or test/train\n",
    "    cross_attack(logs_adv, victim_idxs, dataloader, models_test, custom_batch_size, eps)\n",
    "    \n",
    "    adv_miss = get_metric_list(\"adv_miss\", logs_adv, victim_idxs)\n",
    "    acc = get_metric_list(\"orig_acc_transfers\", logs_adv, victim_idxs)\n",
    "    adv_target = get_metric_list(\"adv_target\", logs_adv, victim_idxs)\n",
    "    \n",
    "    for m in range(len(models_test)):\n",
    "        acc_store[t,m] = acc[m,m]\n",
    "        adv_store[t,m] = adv_miss[m,m]\n",
    "\n",
    "\n"
   ]
  },
  {
   "cell_type": "code",
   "execution_count": 15,
   "metadata": {},
   "outputs": [
    {
     "data": {
      "text/plain": [
       "array([[0.50, 0.31, 0.62, 0.41],\n",
       "       [0.37, 0.27, 0.52, 0.32],\n",
       "       [0.48, 0.30, 0.53, 0.37],\n",
       "       [0.35, 0.27, 0.51, 0.32],\n",
       "       [0.39, 0.25, 0.49, 0.31]])"
      ]
     },
     "execution_count": 15,
     "metadata": {},
     "output_type": "execute_result"
    }
   ],
   "source": [
    "adv_store"
   ]
  },
  {
   "cell_type": "code",
   "execution_count": 16,
   "metadata": {},
   "outputs": [],
   "source": [
    "# Print along diagonal and plot \"robustness against white-box attacks (self)\"\n",
    "adv_list = []\n",
    "acc_list = []\n",
    "adv_std_list = []\n",
    "acc_std_list = []\n",
    "for i in range(len(models_test)):\n",
    "    adv_list += [np.mean(adv_store[:,i])]\n",
    "    acc_list += [np.mean(acc_store[:,i])]\n",
    "    \n",
    "    adv_std_list += [np.std(adv_store[:,i])]\n",
    "    acc_std_list += [np.std(acc_store[:,i])]\n",
    "\n"
   ]
  },
  {
   "cell_type": "code",
   "execution_count": 19,
   "metadata": {},
   "outputs": [
    {
     "name": "stdout",
     "output_type": "stream",
     "text": [
      "+----------+--------------------+----------------------+--------------------+----------------------+\n",
      "| Setting  |      Test Acc      |     Test Acc STD     |      Adv Acc       |     Adv Acc STD      |\n",
      "+----------+--------------------+----------------------+--------------------+----------------------+\n",
      "|  TM_iid  | 0.7841004610061646 | 0.022007606756669976 | 0.4179572343826294 | 0.05990667874994324  |\n",
      "| TM_niid  | 0.8064494013786316 | 0.019894864418346807 | 0.2787453681230545 | 0.022956325958320107 |\n",
      "| Med_iid  | 0.8043594837188721 | 0.03343577385828096  | 0.5350706219673157 | 0.046885788682681874 |\n",
      "| Med_niid | 0.8113937139511108 | 0.02365371487288273  | 0.3465024471282959 | 0.038851698369482476 |\n",
      "+----------+--------------------+----------------------+--------------------+----------------------+\n"
     ]
    }
   ],
   "source": [
    "from prettytable import PrettyTable\n",
    "\n",
    "# Your lists\n",
    "labels = ['TM_iid', 'TM_niid', 'Med_iid', 'Med_niid']\n",
    "x_values = acc_list\n",
    "y_values = adv_list\n",
    "xstd_values = acc_std_list\n",
    "ystd_values = adv_std_list\n",
    "\n",
    "# Creating the table\n",
    "table = PrettyTable()\n",
    "table.field_names = [\"Setting\", \"Test Acc\", \"Test Acc STD\", \"Adv Acc\", \"Adv Acc STD\"]\n",
    "\n",
    "# Adding rows\n",
    "for label, x, x1, y, y1 in zip(labels, x_values, xstd_values, y_values,ystd_values):\n",
    "    table.add_row([label, x, x1, y, y1])\n",
    "\n",
    "# Printing the table\n",
    "print(table)\n"
   ]
  },
  {
   "cell_type": "code",
   "execution_count": 7,
   "metadata": {},
   "outputs": [
    {
     "data": {
      "text/plain": [
       "array([[0.42, 0.57, 0.57, 0.57],\n",
       "       [0.62, 0.28, 0.58, 0.44],\n",
       "       [0.68, 0.66, 0.53, 0.64],\n",
       "       [0.71, 0.66, 0.68, 0.35]])"
      ]
     },
     "execution_count": 7,
     "metadata": {},
     "output_type": "execute_result"
    }
   ],
   "source": [
    "adv_miss"
   ]
  },
  {
   "cell_type": "code",
   "execution_count": null,
   "metadata": {},
   "outputs": [],
   "source": []
  }
 ],
 "metadata": {
  "kernelspec": {
   "display_name": "FedEM_env",
   "language": "python",
   "name": "fedem_env"
  },
  "language_info": {
   "codemirror_mode": {
    "name": "ipython",
    "version": 3
   },
   "file_extension": ".py",
   "mimetype": "text/x-python",
   "name": "python",
   "nbconvert_exporter": "python",
   "pygments_lexer": "ipython3",
   "version": "3.9.6"
  }
 },
 "nbformat": 4,
 "nbformat_minor": 2
}
