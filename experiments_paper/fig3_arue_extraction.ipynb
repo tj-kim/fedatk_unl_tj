{
 "cells": [
  {
   "cell_type": "markdown",
   "metadata": {},
   "source": [
    "Figure 3 analysis\n",
    "Performing ARU-E (Extractin part) showing that from robust FAT model we can obtain non-robust model"
   ]
  },
  {
   "cell_type": "code",
   "execution_count": 1,
   "metadata": {},
   "outputs": [
    {
     "name": "stdout",
     "output_type": "stream",
     "text": [
      "/home/ubuntu/fedatk_unl_tj\n"
     ]
    }
   ],
   "source": [
    "cd /home/ubuntu/fedatk_unl_tj/"
   ]
  },
  {
   "cell_type": "code",
   "execution_count": 2,
   "metadata": {},
   "outputs": [],
   "source": [
    "# Import General Libraries\n",
    "import os\n",
    "import argparse\n",
    "import torch\n",
    "import copy\n",
    "import pickle\n",
    "import random\n",
    "import numpy as np\n",
    "import pandas as pd\n",
    "\n",
    "# Import FedEM based Libraries\n",
    "from utils.utils import *\n",
    "from utils.constants import *\n",
    "from utils.args import *\n",
    "from utils.util_notebooks import *\n",
    "from run_experiment import *\n",
    "from models import *\n",
    "\n",
    "# Import Transfer Attack\n",
    "from transfer_attacks.Personalized_NN import *\n",
    "from transfer_attacks.Params import *\n",
    "from transfer_attacks.Transferer import *\n",
    "from transfer_attacks.Args import *\n",
    "from transfer_attacks.TA_utils import *"
   ]
  },
  {
   "cell_type": "code",
   "execution_count": 3,
   "metadata": {},
   "outputs": [
    {
     "name": "stdout",
     "output_type": "stream",
     "text": [
      "==> Clients initialization..\n",
      "===> Building data iterators..\n"
     ]
    },
    {
     "name": "stderr",
     "output_type": "stream",
     "text": [
      " 49%|████▉     | 39/80 [00:00<00:00, 169.26it/s]\n"
     ]
    },
    {
     "name": "stdout",
     "output_type": "stream",
     "text": [
      "===> Initializing clients..\n"
     ]
    },
    {
     "name": "stderr",
     "output_type": "stream",
     "text": [
      "  0%|          | 0/40 [00:00<?, ?it/s]/home/ubuntu/anaconda3/envs/FedEM_env/lib/python3.9/site-packages/torchvision/models/_utils.py:208: UserWarning: The parameter 'pretrained' is deprecated since 0.13 and may be removed in the future, please use 'weights' instead.\n",
      "  warnings.warn(\n",
      "/home/ubuntu/anaconda3/envs/FedEM_env/lib/python3.9/site-packages/torchvision/models/_utils.py:223: UserWarning: Arguments other than a weight enum or `None` for 'weights' are deprecated since 0.13 and may be removed in the future. The current behavior is equivalent to passing `weights=MobileNet_V2_Weights.IMAGENET1K_V1`. You can also use `weights=MobileNet_V2_Weights.DEFAULT` to get the most up-to-date weights.\n",
      "  warnings.warn(msg)\n",
      "100%|██████████| 40/40 [00:17<00:00,  2.34it/s]\n",
      "/home/ubuntu/fedatk_unl_tj/aggregator.py:288: FutureWarning: You are using `torch.load` with `weights_only=False` (the current default value), which uses the default pickle module implicitly. It is possible to construct malicious pickle data which will execute arbitrary code during unpickling (See https://github.com/pytorch/pytorch/blob/main/SECURITY.md#untrusted-models for more details). In a future release, the default value for `weights_only` will be flipped to `True`. This limits the functions that could be executed during unpickling. Arbitrary objects will no longer be allowed to be loaded via this mode unless they are explicitly allowlisted by the user via `torch.serialization.add_safe_globals`. We recommend you start setting `weights_only=True` for any use case where you don't have full control of the loaded file. Please open an issue on GitHub for any issues related to this experimental feature.\n",
      "  learner.model.load_state_dict(torch.load(chkpts_path))\n"
     ]
    }
   ],
   "source": [
    "setting, num_user = \"FedAvg_adv\", 40\n",
    "\n",
    "try: # Skip loading if already loaded\n",
    "    aggregator\n",
    "except:\n",
    "    aggregator, clients, args_ = set_args(setting, num_user,  experiment = \"cifar10\") # Indicate dataset here\n",
    "\n",
    "# Load models for FAT and FedAvg\n",
    "save_path_FAT = '/home/ubuntu/fedatk_unl_tj/weights/cifar10/240111_robust_tests/FAT/'\n",
    "save_path_FedAvg = '/home/ubuntu/fedatk_unl_tj/weights/cifar10/240111_robust_tests/fedavg/'\n",
    "\n",
    "model_FAT = copy.deepcopy(import_model_weights(num_user, setting, save_path_FAT, aggregator, args_)[0])\n",
    "model_Fedavg = import_model_weights(num_user, setting, save_path_FedAvg, aggregator, args_)[0]\n"
   ]
  },
  {
   "cell_type": "code",
   "execution_count": 4,
   "metadata": {},
   "outputs": [
    {
     "name": "stdout",
     "output_type": "stream",
     "text": [
      "==> Clients initialization..\n",
      "===> Building data iterators..\n"
     ]
    },
    {
     "name": "stderr",
     "output_type": "stream",
     "text": [
      " 49%|████▉     | 39/80 [00:00<00:00, 172.54it/s]\n"
     ]
    },
    {
     "name": "stdout",
     "output_type": "stream",
     "text": [
      "===> Initializing clients..\n"
     ]
    },
    {
     "name": "stderr",
     "output_type": "stream",
     "text": [
      "100%|██████████| 40/40 [00:16<00:00,  2.43it/s]\n"
     ]
    },
    {
     "name": "stdout",
     "output_type": "stream",
     "text": [
      "round 0 Test acc:  0.8125 ( 0.0 ) adv acc:  0.38750001788139343 ( 0.0 )\n"
     ]
    },
    {
     "name": "stderr",
     "output_type": "stream",
     "text": [
      "/home/ubuntu/fedatk_unl_tj/learners/learner.py:189: UserWarning: The use of `x.T` on tensors of dimension other than 2 to reverse their shape is deprecated and it will throw an error in a future release. Consider `x.mT` to transpose batches of matrices or `x.permute(*torch.arange(x.ndim - 1, -1, -1))` to reverse the dimensions of a tensor. (Triggered internally at ../aten/src/ATen/native/TensorShape.cpp:3683.)\n",
      "  loss = (loss_vec.T @ weights[indices]) / loss_vec.size(0)\n"
     ]
    },
    {
     "name": "stdout",
     "output_type": "stream",
     "text": [
      "round 5 Test acc:  0.5875000357627869 ( 0.0 ) adv acc:  0.17499999701976776 ( 0.0 )\n",
      "round 10 Test acc:  0.625 ( 0.0 ) adv acc:  0.125 ( 0.0 )\n",
      "round 15 Test acc:  0.625 ( 0.0 ) adv acc:  0.1875 ( 0.0 )\n",
      "round 20 Test acc:  0.612500011920929 ( 0.0 ) adv acc:  0.16250000894069672 ( 0.0 )\n",
      "round 25 Test acc:  0.6500000357627869 ( 0.0 ) adv acc:  0.1875 ( 0.0 )\n",
      "round 30 Test acc:  0.6625000238418579 ( 0.0 ) adv acc:  0.16250000894069672 ( 0.0 )\n",
      "==> Clients initialization..\n",
      "===> Building data iterators..\n"
     ]
    },
    {
     "name": "stderr",
     "output_type": "stream",
     "text": [
      " 49%|████▉     | 39/80 [00:00<00:00, 238.16it/s]\n"
     ]
    },
    {
     "name": "stdout",
     "output_type": "stream",
     "text": [
      "===> Initializing clients..\n"
     ]
    },
    {
     "name": "stderr",
     "output_type": "stream",
     "text": [
      "100%|██████████| 40/40 [00:16<00:00,  2.44it/s]\n"
     ]
    },
    {
     "name": "stdout",
     "output_type": "stream",
     "text": [
      "round 0 Test acc:  0.7791666785875956 ( 0.02568505641187949 ) adv acc:  0.4083333412806193 ( 0.031180485657121493 )\n",
      "round 5 Test acc:  0.5041666726271311 ( 0.031180483002122648 ) adv acc:  0.054166668405135475 ( 0.015590239841683623 )\n",
      "round 10 Test acc:  0.6416666706403097 ( 0.04823266268665965 ) adv acc:  0.09999999900658925 ( 0.017677670232111163 )\n",
      "round 15 Test acc:  0.6416666905085245 ( 0.03864006806629781 ) adv acc:  0.08749999975164731 ( 0.03061862148062106 )\n",
      "round 20 Test acc:  0.6500000158945719 ( 0.03679899551102374 ) adv acc:  0.09583333383003871 ( 0.031180479683367245 )\n",
      "round 25 Test acc:  0.6541666785875956 ( 0.015590245483573495 ) adv acc:  0.10416666666666667 ( 0.015590239509808416 )\n",
      "round 30 Test acc:  0.675000011920929 ( 0.010206197528198842 ) adv acc:  0.09166666616996129 ( 0.025685058426280327 )\n",
      "==> Clients initialization..\n",
      "===> Building data iterators..\n"
     ]
    },
    {
     "name": "stderr",
     "output_type": "stream",
     "text": [
      " 49%|████▉     | 39/80 [00:00<00:00, 232.11it/s]\n"
     ]
    },
    {
     "name": "stdout",
     "output_type": "stream",
     "text": [
      "===> Initializing clients..\n"
     ]
    },
    {
     "name": "stderr",
     "output_type": "stream",
     "text": [
      "100%|██████████| 40/40 [00:16<00:00,  2.43it/s]\n"
     ]
    },
    {
     "name": "stdout",
     "output_type": "stream",
     "text": [
      "round 0 Test acc:  0.7674999952316284 ( 0.023184047267113435 ) adv acc:  0.33999999761581423 ( 0.04568917125040484 )\n",
      "round 5 Test acc:  0.700000011920929 ( 0.06661455984068006 ) adv acc:  0.07750000227242708 ( 0.04430011419953345 )\n",
      "round 10 Test acc:  0.7125000119209289 ( 0.06519202130914718 ) adv acc:  0.08250000178813935 ( 0.03221024709438592 )\n",
      "round 15 Test acc:  0.7300000071525574 ( 0.07356969233625668 ) adv acc:  0.08250000104308128 ( 0.023184047347454457 )\n",
      "round 20 Test acc:  0.7775000095367431 ( 0.061947570109187125 ) adv acc:  0.10500000268220902 ( 0.04227883714147613 )\n",
      "round 25 Test acc:  0.7325000166893005 ( 0.09861542029808196 ) adv acc:  0.08500000089406967 ( 0.0215058125786502 )\n",
      "round 30 Test acc:  0.7475000143051147 ( 0.05884301158099558 ) adv acc:  0.08000000044703484 ( 0.028062430453904604 )\n",
      "==> Clients initialization..\n",
      "===> Building data iterators..\n"
     ]
    },
    {
     "name": "stderr",
     "output_type": "stream",
     "text": [
      " 49%|████▉     | 39/80 [00:00<00:00, 244.80it/s]\n"
     ]
    },
    {
     "name": "stdout",
     "output_type": "stream",
     "text": [
      "===> Initializing clients..\n"
     ]
    },
    {
     "name": "stderr",
     "output_type": "stream",
     "text": [
      "100%|██████████| 40/40 [00:15<00:00,  2.56it/s]\n"
     ]
    },
    {
     "name": "stdout",
     "output_type": "stream",
     "text": [
      "round 0 Test acc:  0.787500011920929 ( 0.04069705295484746 ) adv acc:  0.3512500077486038 ( 0.06310952694499937 )\n",
      "round 5 Test acc:  0.6800000131130218 ( 0.06304759600675076 ) adv acc:  0.09375000074505806 ( 0.03633610394234067 )\n",
      "round 10 Test acc:  0.7050000190734863 ( 0.08717798769070162 ) adv acc:  0.09374999981373548 ( 0.04155192502709483 )\n",
      "round 15 Test acc:  0.7087500154972076 ( 0.05943746285282157 ) adv acc:  0.10250000078231096 ( 0.047037219996576334 )\n",
      "round 20 Test acc:  0.7150000095367431 ( 0.07862093419326167 ) adv acc:  0.10750000104308129 ( 0.035881751211938755 )\n",
      "round 25 Test acc:  0.6987500131130219 ( 0.07467639315790132 ) adv acc:  0.1025000018067658 ( 0.04430011306428989 )\n",
      "round 30 Test acc:  0.7037500023841858 ( 0.0776711827586675 ) adv acc:  0.09875000081956387 ( 0.04200074473063862 )\n"
     ]
    }
   ],
   "source": [
    "# Perform 50 rounds of full overfitting on benign data on 200R FAT model\n",
    "num_rounds = 30\n",
    "setting = 'FedAvg_adv'\n",
    "num_users = [1,3,5,10]\n",
    "\n",
    "\n",
    "test_acc_gather = {}\n",
    "adv_acc_gather = {}\n",
    "test_acc_std_gather = {}\n",
    "adv_acc_std_gather = {}\n",
    "\n",
    "peturb_prop = 0.5\n",
    "cutoff_round = 15\n",
    "\n",
    "\n",
    "save_path_FAT150 = '/home/ubuntu/fedatk_unl_tj/weights/cifar10/231031_FAT150round/FAT/'\n",
    "\n",
    "\n",
    "for num_user in num_users:\n",
    "    test_acc_gather[num_user] = []\n",
    "    adv_acc_gather[num_user] = []\n",
    "    test_acc_std_gather[num_user] = []\n",
    "    adv_acc_std_gather[num_user] = []\n",
    "    \n",
    "    aggregator, clients, args_ = set_args(setting, 40)\n",
    "\n",
    "    # Test performance of aggregator on data \n",
    "    aggregator.load_state(dir_path = save_path_FAT150)\n",
    "    \n",
    "    # Trim number of clients\n",
    "    aggregator.clients = aggregator.clients[0:num_user]\n",
    "    aggregator.clients_weights = np.divide(aggregator.clients_weights[0:num_user],np.sum(aggregator.clients_weights[0:num_user].numpy()))\n",
    "    aggregator.n_clients_per_round = num_user\n",
    "    \n",
    "    aggregator.update_clients()\n",
    "    model_FAT = pull_model_from_agg(aggregator)\n",
    "    model_FAT.eval()\n",
    "    \n",
    "    for c in aggregator.clients:\n",
    "        c.unlearning_flag = True\n",
    "    \n",
    "    # Add standard deviation\n",
    "    acc, adv_acc = get_adv_acc(aggregator, model_FAT)\n",
    "\n",
    "    prev_model = copy.deepcopy(model_FAT)\n",
    "\n",
    "    print(\"round\", 0 ,\"Test acc: \", np.mean(acc), \"(\", np.std(acc),\")\", \"adv acc: \", \n",
    "                  np.mean(adv_acc), \"(\", np.std(adv_acc),\")\")\n",
    "    test_acc_gather[num_user] += [np.mean(acc)]\n",
    "    adv_acc_gather[num_user] += [np.mean(adv_acc)]\n",
    "    test_acc_std_gather[num_user] += [np.std(acc)]\n",
    "    adv_acc_std_gather[num_user] += [np.std(adv_acc)]\n",
    "    \n",
    "    # Setting evasion attack parameters\n",
    "    x_min = torch.min(clients[0].adv_nn.dataloader.x_data)\n",
    "    x_max = torch.max(clients[0].adv_nn.dataloader.x_data)\n",
    "    atk_params = PGD_Params()\n",
    "    atk_params.set_params(batch_size=1, iteration = 5,\n",
    "                    target = -1, x_val_min = x_min, x_val_max = x_max,\n",
    "                    step_size = 0.05, step_norm = \"inf\", eps = 4.5, eps_norm = 2)\n",
    "    \n",
    "     # Assign proportion and attack params\n",
    "    for i in range(len(aggregator.clients)):\n",
    "        aggregator.clients[i].set_adv_params(peturb_prop, atk_params)\n",
    "        aggregator.clients[i].update_advnn()\n",
    "        aggregator.clients[i].assign_advdataset()\n",
    "    \n",
    "    for round in range(1,num_rounds+1):\n",
    "        \n",
    "        aggregator.mix()\n",
    "        model_overfit = pull_model_from_agg(aggregator)\n",
    "        \n",
    "        if round%5 == 0:\n",
    "            \n",
    "            if round <= cutoff_round:\n",
    "                for i in range(len(aggregator.clients)):\n",
    "                    aggregator.clients[i].set_adv_params(peturb_prop, atk_params)\n",
    "                    aggregator.clients[i].update_advnn()\n",
    "                    aggregator.clients[i].assign_advdataset()\n",
    "            else:\n",
    "                for i in range(len(aggregator.clients)):\n",
    "                    aggregator.clients[i].reset_dataset()\n",
    "                \n",
    "\n",
    "            model_overfit.eval()\n",
    "            acc, adv_acc = get_adv_acc(aggregator, model_overfit)\n",
    "\n",
    "            print(\"round\", round,\"Test acc: \", np.mean(acc), \"(\", np.std(acc),\")\", \"adv acc: \", \n",
    "                  np.mean(adv_acc), \"(\", np.std(adv_acc),\")\")\n",
    "            test_acc_gather[num_user] += [np.mean(acc)]\n",
    "            adv_acc_gather[num_user] += [np.mean(adv_acc)]\n",
    "            test_acc_std_gather[num_user] += [np.std(acc)]\n",
    "            adv_acc_std_gather[num_user] += [np.std(adv_acc)]\n",
    "\n",
    "    del aggregator, clients, args_"
   ]
  },
  {
   "cell_type": "code",
   "execution_count": 5,
   "metadata": {},
   "outputs": [
    {
     "data": {
      "image/png": "[encoded data removed]",
      "text/plain": [
       "<Figure size 432x288 with 1 Axes>"
      ]
     },
     "metadata": {
      "needs_background": "light"
     },
     "output_type": "display_data"
    }
   ],
   "source": [
    "\n",
    "# Initialize a new figure\n",
    "plt.figure(figsize=(6, 4))\n",
    "\n",
    "# X-axis values: 0 to 30 in intervals of 5 (7 points)\n",
    "x_values = np.arange(0, 35, 5)\n",
    "\n",
    "# Define a colormap\n",
    "colors = plt.get_cmap(\"tab10\").colors\n",
    "\n",
    "# Iterate over each num_user key\n",
    "for i, num_user in enumerate(test_acc_gather.keys()):\n",
    "    # Extract corresponding data for each num_user\n",
    "    test_acc = test_acc_gather[num_user]\n",
    "    adv_acc = adv_acc_gather[num_user]\n",
    "    test_acc_std = test_acc_std_gather[num_user]\n",
    "    adv_acc_std = adv_acc_std_gather[num_user]\n",
    "    \n",
    "    # Get the color for this line\n",
    "    color = colors[i]\n",
    "    \n",
    "    # Plot test accuracy with standard deviation\n",
    "    plt.plot(x_values, test_acc, label=f'Num User={num_user}', color=color)\n",
    "    plt.fill_between(x_values, np.array(test_acc) - np.array(test_acc_std),\n",
    "                     np.array(test_acc) + np.array(test_acc_std), color=color, alpha=0.2)\n",
    "    \n",
    "    # Plot adversarial accuracy with standard deviation (dotted line)\n",
    "    plt.plot(x_values, adv_acc, linestyle='--', color=color)\n",
    "    plt.fill_between(x_values, np.array(adv_acc) - np.array(adv_acc_std),\n",
    "                     np.array(adv_acc) + np.array(adv_acc_std), color=color, alpha=0.2)\n",
    "\n",
    "# Add title and labels with increased font size\n",
    "plt.title('ARU-E Extraction from FAT Model', fontsize=16)\n",
    "plt.xlabel('Rounds of Extraction', fontsize=14)\n",
    "plt.ylabel('Accuracy', fontsize=14)\n",
    "\n",
    "# Combine legend to remove duplicates and label clarity with larger font\n",
    "plt.legend(loc='best', fontsize=12)\n",
    "\n",
    "# Increase tick label font size\n",
    "plt.xticks(fontsize=12)\n",
    "plt.yticks(fontsize=12)\n",
    "\n",
    "\n",
    "# Show the plot\n",
    "plt.show()"
   ]
  },
  {
   "cell_type": "code",
   "execution_count": null,
   "metadata": {},
   "outputs": [],
   "source": []
  }
 ],
 "metadata": {
  "kernelspec": {
   "display_name": "FedEM_env",
   "language": "python",
   "name": "python3"
  },
  "language_info": {
   "codemirror_mode": {
    "name": "ipython",
    "version": 3
   },
   "file_extension": ".py",
   "mimetype": "text/x-python",
   "name": "python",
   "nbconvert_exporter": "python",
   "pygments_lexer": "ipython3",
   "version": "3.9.6"
  }
 },
 "nbformat": 4,
 "nbformat_minor": 4
}
