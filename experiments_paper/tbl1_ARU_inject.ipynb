{
 "cells": [
  {
   "cell_type": "markdown",
   "metadata": {},
   "source": [
    "# Single Round ARU Injection Attack\n",
    "\n",
    "Table 1 ARU row for each"
   ]
  },
  {
   "cell_type": "code",
   "execution_count": 1,
   "metadata": {},
   "outputs": [
    {
     "name": "stdout",
     "output_type": "stream",
     "text": [
      "/home/ubuntu/fedatk_unl_tj\n"
     ]
    }
   ],
   "source": [
    "cd /home/ubuntu/fedatk_unl_tj/"
   ]
  },
  {
   "cell_type": "code",
   "execution_count": 2,
   "metadata": {},
   "outputs": [
    {
     "name": "stderr",
     "output_type": "stream",
     "text": [
      "/home/ubuntu/anaconda3/envs/FedEM_env/lib/python3.9/site-packages/pandas/core/computation/expressions.py:21: UserWarning: Pandas requires version '2.8.4' or newer of 'numexpr' (version '2.7.3' currently installed).\n",
      "  from pandas.core.computation.check import NUMEXPR_INSTALLED\n",
      "/home/ubuntu/anaconda3/envs/FedEM_env/lib/python3.9/site-packages/pandas/core/arrays/masked.py:60: UserWarning: Pandas requires version '1.3.6' or newer of 'bottleneck' (version '1.3.2' currently installed).\n",
      "  from pandas.core import (\n"
     ]
    }
   ],
   "source": [
    "# Import General Libraries\n",
    "import os\n",
    "import argparse\n",
    "import torch\n",
    "import copy\n",
    "import pickle\n",
    "import random\n",
    "import numpy as np\n",
    "import pandas as pd\n",
    "\n",
    "# Import FedEM based Libraries\n",
    "from utils.utils import *\n",
    "from utils.constants import *\n",
    "from utils.args import *\n",
    "from utils.util_notebooks import *\n",
    "from run_experiment import *\n",
    "from models import *\n",
    "\n",
    "# Import Transfer Attack\n",
    "from transfer_attacks.Personalized_NN import *\n",
    "from transfer_attacks.Params import *\n",
    "from transfer_attacks.Transferer import *\n",
    "from transfer_attacks.Args import *\n",
    "from transfer_attacks.TA_utils import *"
   ]
  },
  {
   "cell_type": "code",
   "execution_count": 3,
   "metadata": {},
   "outputs": [
    {
     "name": "stdout",
     "output_type": "stream",
     "text": [
      "==> Clients initialization..\n",
      "===> Building data iterators..\n"
     ]
    },
    {
     "name": "stderr",
     "output_type": "stream",
     "text": [
      " 95%|█████████▌| 19/20 [00:01<00:00, 16.05it/s]\n"
     ]
    },
    {
     "name": "stdout",
     "output_type": "stream",
     "text": [
      "===> Initializing clients..\n"
     ]
    },
    {
     "name": "stderr",
     "output_type": "stream",
     "text": [
      "100%|██████████| 20/20 [00:00<00:00, 21.27it/s]\n",
      "/home/ubuntu/fedatk_unl_tj/aggregator.py:288: FutureWarning: You are using `torch.load` with `weights_only=False` (the current default value), which uses the default pickle module implicitly. It is possible to construct malicious pickle data which will execute arbitrary code during unpickling (See https://github.com/pytorch/pytorch/blob/main/SECURITY.md#untrusted-models for more details). In a future release, the default value for `weights_only` will be flipped to `True`. This limits the functions that could be executed during unpickling. Arbitrary objects will no longer be allowed to be loaded via this mode unless they are explicitly allowlisted by the user via `torch.serialization.add_safe_globals`. We recommend you start setting `weights_only=True` for any use case where you don't have full control of the loaded file. Please open an issue on GitHub for any issues related to this experimental feature.\n",
      "  learner.model.load_state_dict(torch.load(chkpts_path))\n"
     ]
    }
   ],
   "source": [
    "setting, num_user = \"FedAvg_adv\", 20\n",
    "\n",
    "try: # Skip loading if already loaded\n",
    "    aggregator\n",
    "except:\n",
    "    aggregator, clients, args_ = set_args(setting, num_user,  experiment = \"fakenewsnet\") # Indicate dataset here\n",
    "\n",
    "# Load models for FAT and FedAvg\n",
    "save_path_FAT = '/home/ubuntu/fedatk_unl_tj/weights/fakenews/250119_small_architecture_moreconv/FAT_ep02/'\n",
    "save_path_FedAvg =  '/home/ubuntu/fedatk_unl_tj/weights/fakenews/250119_small_architecture_moreconv/FedAvg/'\n",
    "\n",
    "model_FAT = copy.deepcopy(import_model_weights(num_user, setting, save_path_FAT, aggregator, args_)[0])\n",
    "model_Fedavg = import_model_weights(num_user, setting, save_path_FedAvg, aggregator, args_)[0]\n"
   ]
  },
  {
   "cell_type": "code",
   "execution_count": 4,
   "metadata": {},
   "outputs": [],
   "source": [
    "# Calculate uploaded model and download to attacker clients in aggregator\n",
    "# Current version working under the assumption of close to convergence (no benign client pushback)\n",
    "def calc_atk_model(model_inject, model_global, keys, weight_scale, weight_scale_2):\n",
    "\n",
    "    atk_model = copy.deepcopy(model_global)\n",
    "    inject_state_dict = model_inject.state_dict(keep_vars=True)\n",
    "    global_state_dict = model_global.state_dict(keep_vars=True)\n",
    "    return_state_dict = atk_model.state_dict(keep_vars=True)\n",
    "    total_weight = weight_scale * weight_scale_2\n",
    "\n",
    "    for key in keys:\n",
    "        diff = inject_state_dict[key].data.clone() - global_state_dict[key].data.clone()\n",
    "        return_state_dict[key].data = total_weight * diff + global_state_dict[key].data.clone()\n",
    "\n",
    "    return atk_model\n",
    "\n",
    "# Clone data from attack model to client model\n",
    "def clone_model_weights(model_source, model_target, keys):\n",
    "    target_state_dict = model_target.state_dict(keep_vars=True)\n",
    "    source_state_dict = model_source.state_dict(keep_vars=True)\n",
    "    \n",
    "    for key in keys:\n",
    "        target_state_dict[key].data = source_state_dict[key].data.clone()\n",
    "\n",
    "    return\n",
    "\n",
    "# Expand aggregator.mix() function\n",
    "def UNL_mix(aggregator, adv_id, model_inject, keys, weight_scale_2, dump_flag=False, aggregation_op = None, tm_beta = 0.05):\n",
    "    weight_scale = 1/aggregator.clients_weights\n",
    "    model_global = aggregator.global_learners_ensemble[0].model\n",
    "\n",
    "    if aggregation_op == None:\n",
    "        aggregation_op = aggregator.aggregation_op\n",
    "        \n",
    "    # Based on aggregation methods change weight scale\n",
    "    if aggregation_op == \"median\" or aggregation_op == \"krum\":\n",
    "        weight_scale = np.ones(weight_scale.shape)\n",
    "\n",
    "\n",
    "\n",
    "    # Give adversarial clients boosted models and train regular clients 1 round\n",
    "    benign_id = list(range(len(aggregator.clients)))\n",
    "    for a_id in adv_id:\n",
    "        benign_id.remove(a_id)\n",
    "        temp_atk_model = calc_atk_model(model_inject, model_global, keys, weight_scale[a_id], weight_scale_2)\n",
    "        aggregator.clients[a_id].learners_ensemble[0].model = copy.deepcopy(temp_atk_model)\n",
    "\n",
    "    for c_id in benign_id:\n",
    "        aggregator.clients[c_id].step()\n",
    "\n",
    "    # Aggregate model and download\n",
    "    for learner_id, learner in enumerate(aggregator.global_learners_ensemble):\n",
    "        learners = [client.learners_ensemble[learner_id] for client in aggregator.clients]\n",
    "        if aggregation_op is None:\n",
    "            average_learners(learners, learner, weights=aggregator.clients_weights)\n",
    "        elif aggregation_op == 'median':\n",
    "            dump_path = (\n",
    "                os.path.join(aggregator.dump_path, f\"round{aggregator.c_round}_median.pkl\") \n",
    "                if dump_flag\n",
    "                else None\n",
    "            )\n",
    "            byzantine_robust_aggregate_median(\n",
    "                learners, \n",
    "                learner, \n",
    "                dump_path=dump_path\n",
    "            )\n",
    "        elif aggregation_op == 'trimmed_mean':\n",
    "            dump_path = (\n",
    "                os.path.join(aggregator.dump_path, f\"round{aggregator.c_round}_tm.pkl\")\n",
    "                if dump_flag\n",
    "                else None\n",
    "            )\n",
    "            byzantine_robust_aggregate_tm(\n",
    "                learners, \n",
    "                learner, \n",
    "                beta=tm_beta, \n",
    "                dump_path=dump_path\n",
    "            )\n",
    "        elif aggregation_op == 'krum':\n",
    "            dump_path = (\n",
    "                os.path.join(aggregator.dump_path, f\"round{aggregator.c_round}_krum.pkl\")\n",
    "                if dump_flag\n",
    "                else None\n",
    "            )\n",
    "            byzantine_robust_aggregate_krum(\n",
    "                learners, \n",
    "                learner, \n",
    "                dump_path=dump_path\n",
    "            )\n",
    "        elif aggregation_op == 'krum_modelwise':\n",
    "            dump_path = (\n",
    "                os.path.join(aggregator.dump_path, f\"round{aggregator.c_round}_krum_modelwise.pkl\")\n",
    "                if dump_flag\n",
    "                else None\n",
    "            )\n",
    "            byzantine_robust_aggregate_krum_modelwise(\n",
    "                1,\n",
    "                learners,\n",
    "                learner,\n",
    "                dump_path=dump_path\n",
    "            )\n",
    "        else:\n",
    "            raise NotImplementedError\n",
    "\n",
    "\n",
    "    # assign the updated model to all clients\n",
    "    aggregator.update_clients()\n",
    "\n",
    "    aggregator.c_round += 1\n",
    "\n",
    "    # if aggregator.c_round % aggregator.log_freq == 0:\n",
    "    #     aggregator.write_logs()\n",
    "    return "
   ]
  },
  {
   "cell_type": "code",
   "execution_count": 7,
   "metadata": {},
   "outputs": [
    {
     "name": "stdout",
     "output_type": "stream",
     "text": [
      "==> Clients initialization..\n",
      "===> Building data iterators..\n"
     ]
    },
    {
     "name": "stderr",
     "output_type": "stream",
     "text": [
      " 95%|█████████▌| 19/20 [00:01<00:00, 17.63it/s]\n"
     ]
    },
    {
     "name": "stdout",
     "output_type": "stream",
     "text": [
      "===> Initializing clients..\n"
     ]
    },
    {
     "name": "stderr",
     "output_type": "stream",
     "text": [
      "100%|██████████| 20/20 [00:00<00:00, 33.16it/s]\n"
     ]
    },
    {
     "name": "stdout",
     "output_type": "stream",
     "text": [
      "Test acc:  0.7278571456670762 adv acc:  0.0\n"
     ]
    },
    {
     "ename": "NameError",
     "evalue": "name 'adv_id' is not defined",
     "output_type": "error",
     "traceback": [
      "\u001b[0;31m---------------------------------------------------------------------------\u001b[0m",
      "\u001b[0;31mNameError\u001b[0m                                 Traceback (most recent call last)",
      "\u001b[0;32m/tmp/ipykernel_9990/3667700379.py\u001b[0m in \u001b[0;36m<module>\u001b[0;34m\u001b[0m\n\u001b[1;32m     12\u001b[0m \u001b[0;34m\u001b[0m\u001b[0m\n\u001b[1;32m     13\u001b[0m \u001b[0;31m# aggregator.mix()\u001b[0m\u001b[0;34m\u001b[0m\u001b[0;34m\u001b[0m\u001b[0;34m\u001b[0m\u001b[0m\n\u001b[0;32m---> 14\u001b[0;31m \u001b[0mUNL_mix\u001b[0m\u001b[0;34m(\u001b[0m\u001b[0maggregator\u001b[0m\u001b[0;34m,\u001b[0m \u001b[0madv_id\u001b[0m\u001b[0;34m,\u001b[0m \u001b[0mmodel_inject\u001b[0m \u001b[0;34m=\u001b[0m \u001b[0mmodel_Fedavg\u001b[0m\u001b[0;34m,\u001b[0m \u001b[0mkeys\u001b[0m \u001b[0;34m=\u001b[0m \u001b[0mdesired_keys\u001b[0m\u001b[0;34m,\u001b[0m \u001b[0mweight_scale_2\u001b[0m \u001b[0;34m=\u001b[0m \u001b[0mweight2\u001b[0m\u001b[0;34m,\u001b[0m \u001b[0mdump_flag\u001b[0m\u001b[0;34m=\u001b[0m\u001b[0;32mFalse\u001b[0m\u001b[0;34m,\u001b[0m \u001b[0mtm_beta\u001b[0m\u001b[0;34m=\u001b[0m\u001b[0mbeta\u001b[0m\u001b[0;34m)\u001b[0m\u001b[0;34m\u001b[0m\u001b[0;34m\u001b[0m\u001b[0m\n\u001b[0m\u001b[1;32m     15\u001b[0m \u001b[0mmodel_overfit\u001b[0m \u001b[0;34m=\u001b[0m \u001b[0mpull_model_from_agg\u001b[0m\u001b[0;34m(\u001b[0m\u001b[0maggregator\u001b[0m\u001b[0;34m)\u001b[0m\u001b[0;34m\u001b[0m\u001b[0;34m\u001b[0m\u001b[0m\n\u001b[1;32m     16\u001b[0m \u001b[0mmodel_overfit\u001b[0m\u001b[0;34m.\u001b[0m\u001b[0meval\u001b[0m\u001b[0;34m(\u001b[0m\u001b[0;34m)\u001b[0m\u001b[0;34m\u001b[0m\u001b[0;34m\u001b[0m\u001b[0m\n",
      "\u001b[0;31mNameError\u001b[0m: name 'adv_id' is not defined"
     ]
    }
   ],
   "source": [
    "aggregator, clients, args_ = set_args(setting, num_user, experiment = 'fakenewsnet')\n",
    "\n",
    "aggregator.load_state(dir_path = save_path_FAT)\n",
    "aggregator.update_clients()\n",
    "model_FA = pull_model_from_agg(aggregator)\n",
    "model_FA.eval()\n",
    "acc, adv_acc = get_adv_acc(aggregator, model_FA)\n",
    "prev_model = copy.deepcopy(model_FA)\n",
    "print(\"Test acc: \", np.mean(acc), \"adv acc: \", np.mean(adv_acc))\n",
    "\n",
    "# aggregator.aggregation_op = agg_options[agg_choice[i]]\n",
    "\n",
    "# aggregator.mix()\n",
    "UNL_mix(aggregator, adv_id, model_inject = model_Fedavg, keys = desired_keys, weight_scale_2 = weight2, dump_flag=False, tm_beta=beta)\n",
    "model_overfit = pull_model_from_agg(aggregator)\n",
    "model_overfit.eval()\n",
    "acc, adv_acc = get_adv_acc(aggregator, model_overfit)\n",
    "\n",
    "print(\"round\", i,\"Test acc: \", np.mean(acc), \"adv acc: \", np.mean(adv_acc))"
   ]
  },
  {
   "cell_type": "code",
   "execution_count": null,
   "metadata": {},
   "outputs": [],
   "source": []
  }
 ],
 "metadata": {
  "kernelspec": {
   "display_name": "FedEM_env",
   "language": "python",
   "name": "python3"
  },
  "language_info": {
   "codemirror_mode": {
    "name": "ipython",
    "version": 3
   },
   "file_extension": ".py",
   "mimetype": "text/x-python",
   "name": "python",
   "nbconvert_exporter": "python",
   "pygments_lexer": "ipython3",
   "version": "3.9.6"
  }
 },
 "nbformat": 4,
 "nbformat_minor": 2
}
