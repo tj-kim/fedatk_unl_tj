{
 "cells": [
  {
   "cell_type": "code",
   "execution_count": 1,
   "metadata": {},
   "outputs": [
    {
     "name": "stdout",
     "output_type": "stream",
     "text": [
      "/home/ubuntu/fedatk_unl_tj\n"
     ]
    }
   ],
   "source": [
    "cd /home/ubuntu/fedatk_unl_tj/"
   ]
  },
  {
   "cell_type": "code",
   "execution_count": null,
   "metadata": {},
   "outputs": [
    {
     "name": "stderr",
     "output_type": "stream",
     "text": [
      "/home/ubuntu/anaconda3/envs/FedEM_env/lib/python3.9/site-packages/pandas/core/computation/expressions.py:21: UserWarning: Pandas requires version '2.8.4' or newer of 'numexpr' (version '2.7.3' currently installed).\n",
      "  from pandas.core.computation.check import NUMEXPR_INSTALLED\n",
      "/home/ubuntu/anaconda3/envs/FedEM_env/lib/python3.9/site-packages/pandas/core/arrays/masked.py:60: UserWarning: Pandas requires version '1.3.6' or newer of 'bottleneck' (version '1.3.2' currently installed).\n",
      "  from pandas.core import (\n"
     ]
    }
   ],
   "source": [
    "# Import General Libraries\n",
    "import os\n",
    "import argparse\n",
    "import torch\n",
    "import copy\n",
    "import pickle\n",
    "import random\n",
    "import numpy as np\n",
    "import pandas as pd\n",
    "import gc\n",
    "\n",
    "# Import FedEM based Libraries\n",
    "from utils.utils import *\n",
    "from utils.constants import *\n",
    "from utils.args import *\n",
    "from utils.util_notebooks import *\n",
    "from run_experiment import *\n",
    "from models import *\n",
    "\n",
    "# Import Transfer Attack\n",
    "from transfer_attacks.Personalized_NN import *\n",
    "from transfer_attacks.Params import *\n",
    "from transfer_attacks.Transferer import *\n",
    "from transfer_attacks.Args import *\n",
    "from transfer_attacks.TA_utils import *"
   ]
  },
  {
   "cell_type": "code",
   "execution_count": 3,
   "metadata": {},
   "outputs": [
    {
     "name": "stdout",
     "output_type": "stream",
     "text": [
      "==> Clients initialization..\n",
      "===> Building data iterators..\n"
     ]
    },
    {
     "name": "stderr",
     "output_type": "stream",
     "text": [
      " 49%|████▉     | 39/80 [00:00<00:00, 99.68it/s] \n"
     ]
    },
    {
     "name": "stdout",
     "output_type": "stream",
     "text": [
      "===> Initializing clients..\n"
     ]
    },
    {
     "name": "stderr",
     "output_type": "stream",
     "text": [
      "  0%|          | 0/40 [00:00<?, ?it/s]/home/ubuntu/anaconda3/envs/FedEM_env/lib/python3.9/site-packages/torchvision/models/_utils.py:208: UserWarning: The parameter 'pretrained' is deprecated since 0.13 and may be removed in the future, please use 'weights' instead.\n",
      "  warnings.warn(\n",
      "/home/ubuntu/anaconda3/envs/FedEM_env/lib/python3.9/site-packages/torchvision/models/_utils.py:223: UserWarning: Arguments other than a weight enum or `None` for 'weights' are deprecated since 0.13 and may be removed in the future. The current behavior is equivalent to passing `weights=MobileNet_V2_Weights.IMAGENET1K_V1`. You can also use `weights=MobileNet_V2_Weights.DEFAULT` to get the most up-to-date weights.\n",
      "  warnings.warn(msg)\n",
      "100%|██████████| 40/40 [00:17<00:00,  2.28it/s]\n",
      "/home/ubuntu/fedatk_unl_tj/aggregator.py:289: FutureWarning: You are using `torch.load` with `weights_only=False` (the current default value), which uses the default pickle module implicitly. It is possible to construct malicious pickle data which will execute arbitrary code during unpickling (See https://github.com/pytorch/pytorch/blob/main/SECURITY.md#untrusted-models for more details). In a future release, the default value for `weights_only` will be flipped to `True`. This limits the functions that could be executed during unpickling. Arbitrary objects will no longer be allowed to be loaded via this mode unless they are explicitly allowlisted by the user via `torch.serialization.add_safe_globals`. We recommend you start setting `weights_only=True` for any use case where you don't have full control of the loaded file. Please open an issue on GitHub for any issues related to this experimental feature.\n",
      "  learner.model.load_state_dict(torch.load(chkpts_path))\n"
     ]
    }
   ],
   "source": [
    "setting, num_user = \"FedAvg_adv\", 40\n",
    "exp = \"cifar10\"\n",
    "\n",
    "try: # Skip loading if already loaded\n",
    "    aggregator\n",
    "except:\n",
    "    aggregator, clients, args_ = set_args(setting, num_user,  experiment = exp) # Indicate dataset here\n",
    "\n",
    "# Load models for FAT and FedAvg\n",
    "save_path_FAT = '/home/ubuntu/fedatk_unl_tj/weights/cifar10/231031_FAT150round/FAT/'\n",
    "save_path_FedAvg =  '/home/ubuntu/fedatk_unl_tj/weights/cifar10/230922_baseline_train/fedavg/'\n",
    "\n",
    "model_FAT = copy.deepcopy(import_model_weights(num_user, setting, save_path_FAT, aggregator, args_)[0])\n",
    "model_Fedavg = import_model_weights(num_user, setting, save_path_FedAvg, aggregator, args_)[0]\n",
    "\n",
    "# del aggregator, clients, args_\n",
    "# torch.cuda.empty_cache()\n"
   ]
  },
  {
   "cell_type": "code",
   "execution_count": 4,
   "metadata": {},
   "outputs": [],
   "source": [
    "# Obtain parameters for each layer\n",
    "params_FAT = model_FAT.state_dict()\n",
    "params_FedAvg = model_Fedavg.state_dict()\n",
    "\n",
    "# Just take the values of weights and bias for the model\n",
    "desired_keys = [key for key in params_FAT.keys() if 'weight' in key or 'bias' in key]"
   ]
  },
  {
   "cell_type": "code",
   "execution_count": 7,
   "metadata": {},
   "outputs": [
    {
     "name": "stdout",
     "output_type": "stream",
     "text": [
      "updating adv data set\n",
      "  Memory allocated - before adv: 1067.48 MB\n"
     ]
    },
    {
     "ename": "AttributeError",
     "evalue": "'NoneType' object has no attribute 'dataloader'",
     "output_type": "error",
     "traceback": [
      "\u001b[0;31m---------------------------------------------------------------------------\u001b[0m",
      "\u001b[0;31mAttributeError\u001b[0m                            Traceback (most recent call last)",
      "\u001b[0;32m/tmp/ipykernel_2238/3004161485.py\u001b[0m in \u001b[0;36m<module>\u001b[0;34m\u001b[0m\n\u001b[1;32m     31\u001b[0m \u001b[0;34m\u001b[0m\u001b[0m\n\u001b[1;32m     32\u001b[0m     \u001b[0;31m# Setting evasion attack parameters\u001b[0m\u001b[0;34m\u001b[0m\u001b[0;34m\u001b[0m\u001b[0;34m\u001b[0m\u001b[0m\n\u001b[0;32m---> 33\u001b[0;31m     \u001b[0mx_min\u001b[0m \u001b[0;34m=\u001b[0m \u001b[0mtorch\u001b[0m\u001b[0;34m.\u001b[0m\u001b[0mmin\u001b[0m\u001b[0;34m(\u001b[0m\u001b[0maggregator\u001b[0m\u001b[0;34m.\u001b[0m\u001b[0mclients\u001b[0m\u001b[0;34m[\u001b[0m\u001b[0;36m0\u001b[0m\u001b[0;34m]\u001b[0m\u001b[0;34m.\u001b[0m\u001b[0madv_nn\u001b[0m\u001b[0;34m.\u001b[0m\u001b[0mdataloader\u001b[0m\u001b[0;34m.\u001b[0m\u001b[0mx_data\u001b[0m\u001b[0;34m)\u001b[0m\u001b[0;34m.\u001b[0m\u001b[0mdetach\u001b[0m\u001b[0;34m(\u001b[0m\u001b[0;34m)\u001b[0m\u001b[0;34m.\u001b[0m\u001b[0mcuda\u001b[0m\u001b[0;34m(\u001b[0m\u001b[0;34m)\u001b[0m\u001b[0;34m\u001b[0m\u001b[0;34m\u001b[0m\u001b[0m\n\u001b[0m\u001b[1;32m     34\u001b[0m     \u001b[0mx_max\u001b[0m \u001b[0;34m=\u001b[0m \u001b[0mtorch\u001b[0m\u001b[0;34m.\u001b[0m\u001b[0mmax\u001b[0m\u001b[0;34m(\u001b[0m\u001b[0maggregator\u001b[0m\u001b[0;34m.\u001b[0m\u001b[0mclients\u001b[0m\u001b[0;34m[\u001b[0m\u001b[0;36m0\u001b[0m\u001b[0;34m]\u001b[0m\u001b[0;34m.\u001b[0m\u001b[0madv_nn\u001b[0m\u001b[0;34m.\u001b[0m\u001b[0mdataloader\u001b[0m\u001b[0;34m.\u001b[0m\u001b[0mx_data\u001b[0m\u001b[0;34m)\u001b[0m\u001b[0;34m.\u001b[0m\u001b[0mdetach\u001b[0m\u001b[0;34m(\u001b[0m\u001b[0;34m)\u001b[0m\u001b[0;34m.\u001b[0m\u001b[0mcuda\u001b[0m\u001b[0;34m(\u001b[0m\u001b[0;34m)\u001b[0m\u001b[0;34m\u001b[0m\u001b[0;34m\u001b[0m\u001b[0m\n\u001b[1;32m     35\u001b[0m     \u001b[0matk_params\u001b[0m \u001b[0;34m=\u001b[0m \u001b[0mPGD_Params\u001b[0m\u001b[0;34m(\u001b[0m\u001b[0;34m)\u001b[0m\u001b[0;34m\u001b[0m\u001b[0;34m\u001b[0m\u001b[0m\n",
      "\u001b[0;31mAttributeError\u001b[0m: 'NoneType' object has no attribute 'dataloader'"
     ]
    }
   ],
   "source": [
    "num_aru = [5, 10 ,15]\n",
    "beta_params = [0.05, 0.05, 0.05]\n",
    "weight2_list = [1 ,1, 1]\n",
    "layer_threshold = [150, 50, 50]\n",
    "num_rounds = 10\n",
    "eps_train = 4.5\n",
    "eps_attack = 4\n",
    "\n",
    "agg_options = [\"median_sublayers\", \"median_sublayers\", \"median_sublayers\"]\n",
    "# agg_options = ['median', 'median', 'median']\n",
    "\n",
    "result_list = []\n",
    "for itt in range(len(num_aru)):\n",
    "    result_list += [{}]\n",
    "\n",
    "# setting, num_user = \"FedAvg_adv\", 20\n",
    "save_path_FedAvg_150R = save_path_FAT\n",
    "# aggregator, clients, args_ = set_args(setting, num_user,  experiment = exp)\n",
    "torch.cuda.empty_cache()\n",
    "\n",
    "agg_choice = random.choices(range(3),k=num_rounds)\n",
    "\n",
    "if True:\n",
    "    print(\"updating adv data set\")\n",
    "\n",
    "    print(f\"  Memory allocated - before adv: {torch.cuda.memory_allocated() / 1e6:.2f} MB\")\n",
    "\n",
    "    # add adv dataset update\n",
    "    Fu = np.ones(num_user) * 0.4\n",
    "    # Fu[0:10] = 1\n",
    "\n",
    "    # Setting evasion attack parameters\n",
    "    x_min = torch.min(aggregator.clients[0].adv_nn.dataloader.x_data).detach().cuda()\n",
    "    x_max = torch.max(aggregator.clients[0].adv_nn.dataloader.x_data).detach().cuda()\n",
    "    atk_params = PGD_Params()\n",
    "    atk_params.set_params(batch_size=1, iteration = 10,\n",
    "                    target = -1, x_val_min = x_min, x_val_max = x_max,\n",
    "                    step_size = 0.05, step_norm = \"inf\", eps = eps_train, eps_norm = 2)\n",
    "\n",
    "    # Assign proportion and attack params\n",
    "    for c in range(len(aggregator.clients)):\n",
    "        if Fu[c] > 0:\n",
    "            print (c)\n",
    "            aggregator.clients[c].set_adv_params(Fu[c], atk_params)\n",
    "            aggregator.clients[c].update_advnn()\n",
    "\n",
    "            aggregator.clients[c].assign_advdataset()\n",
    "\n",
    "            # print(f\"  Memory allocated - after adv: {torch.cuda.memory_allocated() / 1e6:.2f} MB\")\n",
    "            aggregator.clients[c].del_advnn()\n",
    "\n",
    "    \n",
    "    "
   ]
  },
  {
   "cell_type": "code",
   "execution_count": 8,
   "metadata": {},
   "outputs": [
    {
     "name": "stdout",
     "output_type": "stream",
     "text": [
      "Test acc:  0.8021875008940696 adv acc:  0.35218749977648256\n",
      "  Memory allocated - pre agg: 1067.48 MB\n",
      "  Memory allocated - post UNL MIX: 1059.83 MB\n",
      "  Memory allocated - post ADV ACC: 1078.06 MB\n",
      "Round 0 Test acc:  0.7987500011920929 adv acc:  0.33687499910593033\n",
      "  Memory allocated - pre agg: 1059.83 MB\n",
      "  Memory allocated - post UNL MIX: 1063.73 MB\n",
      "  Memory allocated - post ADV ACC: 1081.87 MB\n",
      "Round 1 Test acc:  0.8046875029802323 adv acc:  0.32562500014901163\n",
      "  Memory allocated - pre agg: 1063.73 MB\n",
      "  Memory allocated - post UNL MIX: 1065.66 MB\n",
      "  Memory allocated - post ADV ACC: 1083.89 MB\n",
      "Round 2 Test acc:  0.798124997317791 adv acc:  0.3168750017881393\n",
      "  Memory allocated - pre agg: 1065.66 MB\n",
      "  Memory allocated - post UNL MIX: 1066.22 MB\n",
      "  Memory allocated - post ADV ACC: 1085.73 MB\n",
      "Round 3 Test acc:  0.7906250059604645 adv acc:  0.28968749940395355\n",
      "  Memory allocated - pre agg: 1066.22 MB\n",
      "  Memory allocated - post UNL MIX: 1064.68 MB\n",
      "  Memory allocated - post ADV ACC: 1082.82 MB\n",
      "Round 4 Test acc:  0.7753124997019768 adv acc:  0.26656249575316904\n",
      "  Memory allocated - pre agg: 1064.68 MB\n",
      "  Memory allocated - post UNL MIX: 1066.67 MB\n",
      "  Memory allocated - post ADV ACC: 1084.93 MB\n",
      "Round 5 Test acc:  0.7687499985098839 adv acc:  0.23937499821186065\n",
      "  Memory allocated - pre agg: 1066.67 MB\n",
      "  Memory allocated - post UNL MIX: 1063.03 MB\n",
      "  Memory allocated - post ADV ACC: 1081.52 MB\n",
      "Round 6 Test acc:  0.7521874994039536 adv acc:  0.21874999888241292\n",
      "  Memory allocated - pre agg: 1063.03 MB\n",
      "  Memory allocated - post UNL MIX: 1064.89 MB\n",
      "  Memory allocated - post ADV ACC: 1083.11 MB\n",
      "Round 7 Test acc:  0.7303125023841858 adv acc:  0.18531249966472388\n",
      "  Memory allocated - pre agg: 1064.89 MB\n",
      "  Memory allocated - post UNL MIX: 1068.23 MB\n",
      "  Memory allocated - post ADV ACC: 1086.37 MB\n",
      "Round 8 Test acc:  0.7034375026822091 adv acc:  0.15718750013038515\n",
      "  Memory allocated - pre agg: 1068.23 MB\n",
      "  Memory allocated - post UNL MIX: 1064.57 MB\n",
      "  Memory allocated - post ADV ACC: 1082.81 MB\n",
      "Round 9 Test acc:  0.6756250008940696 adv acc:  0.14000000045634806\n"
     ]
    }
   ],
   "source": [
    "for itt in range(len(beta_params)):\n",
    "    \n",
    "    aggregator_temp = aggregator\n",
    "\n",
    "    # Perform rounds of FAT on FedAvg model\n",
    "    num_adv = num_aru[itt]\n",
    "    weight2 = 1 / num_adv * weight2_list[itt]\n",
    "    adv_id = random.sample(range(10, num_user), num_adv)  # excluding 0-9 as Fu = 1\n",
    "    beta = beta_params[itt]\n",
    "\n",
    "    test_acc_gather = []\n",
    "    adv_acc_gather = []\n",
    "    test_acc_std = []\n",
    "    adv_acc_std = []\n",
    "    cosine_gather_layers = np.zeros([num_rounds, len(desired_keys)])\n",
    "\n",
    "    aggregator_temp.tm_rate = beta\n",
    "\n",
    "    # Test performance of aggregator on data\n",
    "    aggregator_temp.load_state(dir_path=save_path_FedAvg_150R)\n",
    "    aggregator_temp.update_clients()\n",
    "    model_FA = pull_model_from_agg(aggregator_temp)\n",
    "    model_FA.eval()\n",
    "    acc, adv_acc = get_adv_acc(aggregator_temp, model_FA, eps=eps_attack)\n",
    "\n",
    "    print(\"Test acc: \", np.mean(acc), \"adv acc: \", np.mean(adv_acc))\n",
    "    test_acc_gather += [np.mean(acc)]\n",
    "    adv_acc_gather += [np.mean(adv_acc)]\n",
    "    test_acc_std += [np.std(acc)]\n",
    "    adv_acc_std += [np.std(adv_acc)]\n",
    "\n",
    "    del model_FA, acc, adv_acc\n",
    "\n",
    "    for i in range(num_rounds):\n",
    "        # Memory profiling before round starts\n",
    "        print(f\"  Memory allocated - pre agg: {torch.cuda.memory_allocated() / 1e6:.2f} MB\")\n",
    "        torch.cuda.reset_peak_memory_stats()\n",
    "\n",
    "        # Per round Freq\n",
    "        aggregator_temp.aggregation_op = agg_options[itt]\n",
    "\n",
    "        # Perform UNL aggregation\n",
    "        UNL_mix(aggregator_temp, adv_id, model_inject=model_Fedavg, keys=desired_keys, \n",
    "                weight_scale_2=weight2, dump_flag=False, tm_beta=beta, \n",
    "                median_threshold=layer_threshold[itt])\n",
    "        print(f\"  Memory allocated - post UNL MIX: {torch.cuda.memory_allocated() / 1e6:.2f} MB\")\n",
    "\n",
    "        model_overfit = pull_model_from_agg(aggregator_temp)\n",
    "        model_overfit.eval()\n",
    "        acc, adv_acc = get_adv_acc(aggregator_temp, model_overfit, eps=eps_attack)\n",
    "\n",
    "        print(f\"  Memory allocated - post ADV ACC: {torch.cuda.memory_allocated() / 1e6:.2f} MB\")\n",
    "\n",
    "        print(\"Round\", i, \"Test acc: \", np.mean(acc), \"adv acc: \", np.mean(adv_acc))\n",
    "        test_acc_gather += [np.mean(acc)]\n",
    "        adv_acc_gather += [np.mean(adv_acc)]\n",
    "        test_acc_std += [np.std(acc)]\n",
    "        adv_acc_std += [np.std(adv_acc)]\n",
    "\n",
    "        result_list[itt]['test_acc'] = test_acc_gather\n",
    "        result_list[itt]['adv_acc'] = adv_acc_gather\n",
    "        result_list[itt]['test_std'] = test_acc_std\n",
    "        result_list[itt]['adv_std'] = adv_acc_std\n",
    "        result_list[itt]['num_clients'] = num_adv\n",
    "        result_list[itt]['beta'] = beta\n",
    "        result_list[itt]['weight2'] = weight2_list[itt]\n",
    "\n",
    "        # Clean up after each round\n",
    "        del model_overfit\n",
    "    torch.cuda.empty_cache()\n",
    "    break\n",
    "\n"
   ]
  },
  {
   "cell_type": "code",
   "execution_count": null,
   "metadata": {},
   "outputs": [],
   "source": []
  }
 ],
 "metadata": {
  "kernelspec": {
   "display_name": "FedEM_env",
   "language": "python",
   "name": "python3"
  },
  "language_info": {
   "codemirror_mode": {
    "name": "ipython",
    "version": 3
   },
   "file_extension": ".py",
   "mimetype": "text/x-python",
   "name": "python",
   "nbconvert_exporter": "python",
   "pygments_lexer": "ipython3",
   "version": "3.9.6"
  }
 },
 "nbformat": 4,
 "nbformat_minor": 2
}
