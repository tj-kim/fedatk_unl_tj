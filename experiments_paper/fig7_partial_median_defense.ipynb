{
 "cells": [
  {
   "cell_type": "code",
   "execution_count": 1,
   "metadata": {},
   "outputs": [
    {
     "name": "stdout",
     "output_type": "stream",
     "text": [
      "/home/ubuntu/fedatk_unl_tj\n"
     ]
    }
   ],
   "source": [
    "cd /home/ubuntu/fedatk_unl_tj/"
   ]
  },
  {
   "cell_type": "code",
   "execution_count": 2,
   "metadata": {},
   "outputs": [
    {
     "name": "stderr",
     "output_type": "stream",
     "text": [
      "/home/ubuntu/anaconda3/envs/FedEM_env/lib/python3.9/site-packages/pandas/core/computation/expressions.py:21: UserWarning: Pandas requires version '2.8.4' or newer of 'numexpr' (version '2.7.3' currently installed).\n",
      "  from pandas.core.computation.check import NUMEXPR_INSTALLED\n",
      "/home/ubuntu/anaconda3/envs/FedEM_env/lib/python3.9/site-packages/pandas/core/arrays/masked.py:60: UserWarning: Pandas requires version '1.3.6' or newer of 'bottleneck' (version '1.3.2' currently installed).\n",
      "  from pandas.core import (\n"
     ]
    }
   ],
   "source": [
    "# Import General Libraries\n",
    "import os\n",
    "import argparse\n",
    "import torch\n",
    "import copy\n",
    "import pickle\n",
    "import random\n",
    "import numpy as np\n",
    "import pandas as pd\n",
    "import gc\n",
    "\n",
    "# Import FedEM based Libraries\n",
    "from utils.utils import *\n",
    "from utils.constants import *\n",
    "from utils.args import *\n",
    "from utils.util_notebooks import *\n",
    "from run_experiment import *\n",
    "from models import *\n",
    "\n",
    "# Import Transfer Attack\n",
    "from transfer_attacks.Personalized_NN import *\n",
    "from transfer_attacks.Params import *\n",
    "from transfer_attacks.Transferer import *\n",
    "from transfer_attacks.Args import *\n",
    "from transfer_attacks.TA_utils import *"
   ]
  },
  {
   "cell_type": "code",
   "execution_count": 3,
   "metadata": {},
   "outputs": [
    {
     "name": "stdout",
     "output_type": "stream",
     "text": [
      "==> Clients initialization..\n",
      "===> Building data iterators..\n"
     ]
    },
    {
     "name": "stderr",
     "output_type": "stream",
     "text": [
      " 49%|████▉     | 39/80 [00:00<00:00, 76.66it/s] \n"
     ]
    },
    {
     "name": "stdout",
     "output_type": "stream",
     "text": [
      "===> Initializing clients..\n"
     ]
    },
    {
     "name": "stderr",
     "output_type": "stream",
     "text": [
      "  0%|          | 0/40 [00:00<?, ?it/s]/home/ubuntu/anaconda3/envs/FedEM_env/lib/python3.9/site-packages/torchvision/models/_utils.py:208: UserWarning: The parameter 'pretrained' is deprecated since 0.13 and may be removed in the future, please use 'weights' instead.\n",
      "  warnings.warn(\n",
      "/home/ubuntu/anaconda3/envs/FedEM_env/lib/python3.9/site-packages/torchvision/models/_utils.py:223: UserWarning: Arguments other than a weight enum or `None` for 'weights' are deprecated since 0.13 and may be removed in the future. The current behavior is equivalent to passing `weights=MobileNet_V2_Weights.IMAGENET1K_V1`. You can also use `weights=MobileNet_V2_Weights.DEFAULT` to get the most up-to-date weights.\n",
      "  warnings.warn(msg)\n",
      "100%|██████████| 40/40 [00:15<00:00,  2.59it/s]\n",
      "/home/ubuntu/fedatk_unl_tj/aggregator.py:289: FutureWarning: You are using `torch.load` with `weights_only=False` (the current default value), which uses the default pickle module implicitly. It is possible to construct malicious pickle data which will execute arbitrary code during unpickling (See https://github.com/pytorch/pytorch/blob/main/SECURITY.md#untrusted-models for more details). In a future release, the default value for `weights_only` will be flipped to `True`. This limits the functions that could be executed during unpickling. Arbitrary objects will no longer be allowed to be loaded via this mode unless they are explicitly allowlisted by the user via `torch.serialization.add_safe_globals`. We recommend you start setting `weights_only=True` for any use case where you don't have full control of the loaded file. Please open an issue on GitHub for any issues related to this experimental feature.\n",
      "  learner.model.load_state_dict(torch.load(chkpts_path))\n"
     ]
    }
   ],
   "source": [
    "setting, num_user = \"FedAvg_adv\", 40\n",
    "exp = \"cifar10\"\n",
    "\n",
    "try: # Skip loading if already loaded\n",
    "    aggregator\n",
    "except:\n",
    "    aggregator, clients, args_ = set_args(setting, num_user,  experiment = exp) # Indicate dataset here\n",
    "\n",
    "# Load models for FAT and FedAvg\n",
    "save_path_FAT = '/home/ubuntu/fedatk_unl_tj/weights/cifar10/231031_FAT150round/FAT/'\n",
    "save_path_FedAvg =  '/home/ubuntu/fedatk_unl_tj/weights/cifar10/230922_baseline_train/fedavg/'\n",
    "\n",
    "model_FAT = copy.deepcopy(import_model_weights(num_user, setting, save_path_FAT, aggregator, args_)[0])\n",
    "model_Fedavg = import_model_weights(num_user, setting, save_path_FedAvg, aggregator, args_)[0]\n",
    "\n",
    "# del aggregator, clients, args_\n",
    "# torch.cuda.empty_cache()\n"
   ]
  },
  {
   "cell_type": "code",
   "execution_count": 4,
   "metadata": {},
   "outputs": [],
   "source": [
    "# Obtain parameters for each layer\n",
    "params_FAT = model_FAT.state_dict()\n",
    "params_FedAvg = model_Fedavg.state_dict()\n",
    "\n",
    "# Just take the values of weights and bias for the model\n",
    "desired_keys = [key for key in params_FAT.keys() if 'weight' in key or 'bias' in key]"
   ]
  },
  {
   "cell_type": "code",
   "execution_count": 5,
   "metadata": {},
   "outputs": [],
   "source": [
    "num_aru = [10 ,15, 17]\n",
    "beta_params = [0.05, 0.05, 0.05]\n",
    "weight2_list = [1 ,1, 1]\n",
    "layer_threshold = [50, 50, 50]\n",
    "num_rounds = 1\n",
    "eps = 4\n",
    "\n",
    "agg_options = [\"median_sublayers\", \"median_sublayers\", \"median_sublayers\"]\n",
    "\n",
    "result_list = []\n",
    "for itt in range(len(num_aru)):\n",
    "    result_list += [{}]\n",
    "\n",
    "# setting, num_user = \"FedAvg_adv\", 20\n",
    "save_path_FedAvg_150R = save_path_FAT\n",
    "# aggregator, clients, args_ = set_args(setting, num_user,  experiment = exp)\n",
    "torch.cuda.empty_cache()\n",
    "\n",
    "agg_choice = random.choices(range(3),k=num_rounds)\n",
    "\n",
    "if False:\n",
    "    print(\"updating adv data set\")\n",
    "\n",
    "    print(f\"  Memory allocated - before adv: {torch.cuda.memory_allocated() / 1e6:.2f} MB\")\n",
    "\n",
    "    # add adv dataset update\n",
    "    Fu = np.zeros(num_user)\n",
    "    Fu[0:10] = 1\n",
    "\n",
    "    # Setting evasion attack parameters\n",
    "    x_min = torch.min(aggregator.clients[0].adv_nn.dataloader.x_data).detach().cuda()\n",
    "    x_max = torch.max(aggregator.clients[0].adv_nn.dataloader.x_data).detach().cuda()\n",
    "    atk_params = PGD_Params()\n",
    "    atk_params.set_params(batch_size=1, iteration = 10,\n",
    "                    target = -1, x_val_min = x_min, x_val_max = x_max,\n",
    "                    step_size = 0.05, step_norm = \"inf\", eps = eps, eps_norm = 2)\n",
    "\n",
    "    # Assign proportion and attack params\n",
    "    for c in range(len(aggregator.clients)):\n",
    "        if Fu[c] > 0:\n",
    "            print (c)\n",
    "            aggregator.clients[c].set_adv_params(Fu[c], atk_params)\n",
    "            aggregator.clients[c].update_advnn()\n",
    "\n",
    "            aggregator.clients[c].assign_advdataset()\n",
    "\n",
    "            # print(f\"  Memory allocated - after adv: {torch.cuda.memory_allocated() / 1e6:.2f} MB\")\n",
    "            aggregator.clients[c].del_advnn()\n",
    "\n",
    "    \n",
    "    "
   ]
  },
  {
   "cell_type": "code",
   "execution_count": 6,
   "metadata": {},
   "outputs": [
    {
     "name": "stdout",
     "output_type": "stream",
     "text": [
      "Test acc:  0.0203125 adv acc:  0.009687499701976776\n",
      "  Memory allocated - pre agg: 1159.63 MB\n",
      "  Memory allocated - 1 pre step: 1264.42 MB\n",
      "  Memory allocated - 1-x stepping...: 1283.34 MB\n"
     ]
    },
    {
     "name": "stderr",
     "output_type": "stream",
     "text": [
      "/home/ubuntu/fedatk_unl_tj/learners/learner.py:190: UserWarning: The use of `x.T` on tensors of dimension other than 2 to reverse their shape is deprecated and it will throw an error in a future release. Consider `x.mT` to transpose batches of matrices or `x.permute(*torch.arange(x.ndim - 1, -1, -1))` to reverse the dimensions of a tensor. (Triggered internally at ../aten/src/ATen/native/TensorShape.cpp:3683.)\n",
      "  loss = (loss_vec.T @ weights[indices]) / loss_vec.size(0)\n"
     ]
    },
    {
     "name": "stdout",
     "output_type": "stream",
     "text": [
      "  Memory allocated - 1-x stepping...: 1301.70 MB\n",
      "  Memory allocated - 1-x stepping...: 1320.07 MB\n",
      "  Memory allocated - 1-x stepping...: 1338.02 MB\n",
      "  Memory allocated - 1-x stepping...: 1355.97 MB\n",
      "  Memory allocated - 1-x stepping...: 1374.50 MB\n",
      "  Memory allocated - 1-x stepping...: 1392.45 MB\n",
      "  Memory allocated - 1-x stepping...: 1410.40 MB\n",
      "  Memory allocated - 1-x stepping...: 1429.03 MB\n",
      "  Memory allocated - 1-x stepping...: 1446.98 MB\n",
      "  Memory allocated - 1-x stepping...: 1465.34 MB\n",
      "  Memory allocated - 1-x stepping...: 1483.30 MB\n",
      "  Memory allocated - 1-x stepping...: 1501.31 MB\n",
      "  Memory allocated - 1-x stepping...: 1519.94 MB\n",
      "  Memory allocated - 1-x stepping...: 1538.56 MB\n",
      "  Memory allocated - 1-x stepping...: 1557.55 MB\n",
      "  Memory allocated - 1-x stepping...: 1575.50 MB\n",
      "  Memory allocated - 1-x stepping...: 1593.88 MB\n",
      "  Memory allocated - 1-x stepping...: 1611.83 MB\n",
      "  Memory allocated - 1-x stepping...: 1629.95 MB\n",
      "  Memory allocated - 1-x stepping...: 1647.90 MB\n",
      "  Memory allocated - 1-x stepping...: 1665.85 MB\n",
      "  Memory allocated - 1-x stepping...: 1683.87 MB\n",
      "  Memory allocated - 1-x stepping...: 1703.33 MB\n",
      "  Memory allocated - 1-x stepping...: 1722.07 MB\n",
      "  Memory allocated - 1-x stepping...: 1741.34 MB\n",
      "  Memory allocated - 1-x stepping...: 1759.29 MB\n",
      "  Memory allocated - 1-x stepping...: 1777.41 MB\n",
      "  Memory allocated - 1-x stepping...: 1796.03 MB\n",
      "  Memory allocated - 1-x stepping...: 1814.70 MB\n",
      "  Memory allocated - 2-1 pre-byz: 1814.70 MB\n",
      "  Memory allocated - 2-2 post-byz: 1814.70 MB\n",
      "  Memory allocated - post UNL MIX: 1805.54 MB\n",
      "  Memory allocated - post ADV ACC: 1823.96 MB\n",
      "Round 0 Test acc:  0.007187499850988388 adv acc:  0.000937500037252903\n",
      "Test acc:  0.0203125 adv acc:  0.010000000149011612\n",
      "  Memory allocated - pre agg: 1805.54 MB\n",
      "  Memory allocated - 1 pre step: 1903.88 MB\n",
      "  Memory allocated - 1-x stepping...: 1903.88 MB\n",
      "  Memory allocated - 1-x stepping...: 1903.88 MB\n",
      "  Memory allocated - 1-x stepping...: 1903.88 MB\n",
      "  Memory allocated - 1-x stepping...: 1903.88 MB\n",
      "  Memory allocated - 1-x stepping...: 1903.88 MB\n",
      "  Memory allocated - 1-x stepping...: 1903.88 MB\n",
      "  Memory allocated - 1-x stepping...: 1903.88 MB\n",
      "  Memory allocated - 1-x stepping...: 1904.55 MB\n",
      "  Memory allocated - 1-x stepping...: 1904.55 MB\n",
      "  Memory allocated - 1-x stepping...: 1904.55 MB\n",
      "  Memory allocated - 1-x stepping...: 1904.55 MB\n",
      "  Memory allocated - 1-x stepping...: 1913.87 MB\n",
      "  Memory allocated - 1-x stepping...: 1914.15 MB\n",
      "  Memory allocated - 1-x stepping...: 1923.13 MB\n",
      "  Memory allocated - 1-x stepping...: 1923.68 MB\n",
      "  Memory allocated - 1-x stepping...: 1932.66 MB\n",
      "  Memory allocated - 1-x stepping...: 1932.66 MB\n",
      "  Memory allocated - 1-x stepping...: 1932.66 MB\n",
      "  Memory allocated - 1-x stepping...: 1931.99 MB\n",
      "  Memory allocated - 1-x stepping...: 1932.49 MB\n",
      "  Memory allocated - 1-x stepping...: 1941.47 MB\n",
      "  Memory allocated - 1-x stepping...: 1942.49 MB\n",
      "  Memory allocated - 1-x stepping...: 1942.55 MB\n",
      "  Memory allocated - 1-x stepping...: 1942.55 MB\n",
      "  Memory allocated - 1-x stepping...: 1951.59 MB\n",
      "  Memory allocated - 2-1 pre-byz: 1951.59 MB\n"
     ]
    },
    {
     "ename": "KeyboardInterrupt",
     "evalue": "",
     "output_type": "error",
     "traceback": [
      "\u001b[0;31m---------------------------------------------------------------------------\u001b[0m",
      "\u001b[0;31mKeyboardInterrupt\u001b[0m                         Traceback (most recent call last)",
      "\u001b[0;32m/tmp/ipykernel_44543/794172115.py\u001b[0m in \u001b[0;36m<module>\u001b[0;34m\u001b[0m\n\u001b[1;32m     41\u001b[0m \u001b[0;34m\u001b[0m\u001b[0m\n\u001b[1;32m     42\u001b[0m         \u001b[0;31m# Perform UNL aggregation\u001b[0m\u001b[0;34m\u001b[0m\u001b[0;34m\u001b[0m\u001b[0;34m\u001b[0m\u001b[0m\n\u001b[0;32m---> 43\u001b[0;31m         UNL_mix(aggregator_temp, adv_id, model_inject=model_Fedavg, keys=desired_keys, \n\u001b[0m\u001b[1;32m     44\u001b[0m                 \u001b[0mweight_scale_2\u001b[0m\u001b[0;34m=\u001b[0m\u001b[0mweight2\u001b[0m\u001b[0;34m,\u001b[0m \u001b[0mdump_flag\u001b[0m\u001b[0;34m=\u001b[0m\u001b[0;32mFalse\u001b[0m\u001b[0;34m,\u001b[0m \u001b[0mtm_beta\u001b[0m\u001b[0;34m=\u001b[0m\u001b[0mbeta\u001b[0m\u001b[0;34m,\u001b[0m\u001b[0;34m\u001b[0m\u001b[0;34m\u001b[0m\u001b[0m\n\u001b[1;32m     45\u001b[0m                 median_threshold=layer_threshold[itt])\n",
      "\u001b[0;32m~/fedatk_unl_tj/utils/util_notebooks.py\u001b[0m in \u001b[0;36mUNL_mix\u001b[0;34m(aggregator, adv_id, model_inject, keys, weight_scale_2, dump_flag, aggregation_op, tm_beta, median_threshold)\u001b[0m\n\u001b[1;32m    477\u001b[0m             )\n\u001b[1;32m    478\u001b[0m             \u001b[0mprint\u001b[0m\u001b[0;34m(\u001b[0m\u001b[0;34mf\"  Memory allocated - 2-1 pre-byz: {torch.cuda.memory_allocated() / 1e6:.2f} MB\"\u001b[0m\u001b[0;34m)\u001b[0m\u001b[0;34m\u001b[0m\u001b[0;34m\u001b[0m\u001b[0m\n\u001b[0;32m--> 479\u001b[0;31m             byzantine_robust_aggregate_median_with_threshold(\n\u001b[0m\u001b[1;32m    480\u001b[0m                 \u001b[0mlearners\u001b[0m\u001b[0;34m,\u001b[0m\u001b[0;34m\u001b[0m\u001b[0;34m\u001b[0m\u001b[0m\n\u001b[1;32m    481\u001b[0m                 \u001b[0mlearner\u001b[0m\u001b[0;34m,\u001b[0m\u001b[0;34m\u001b[0m\u001b[0;34m\u001b[0m\u001b[0m\n",
      "\u001b[0;32m~/fedatk_unl_tj/utils/torch_utils.py\u001b[0m in \u001b[0;36mbyzantine_robust_aggregate_median_with_threshold\u001b[0;34m(learners, target_learner, threshold, weights, dump_path)\u001b[0m\n\u001b[1;32m    424\u001b[0m             \u001b[0mtarget_state_dict\u001b[0m\u001b[0;34m[\u001b[0m\u001b[0mkey\u001b[0m\u001b[0;34m]\u001b[0m\u001b[0;34m.\u001b[0m\u001b[0mdata\u001b[0m\u001b[0;34m.\u001b[0m\u001b[0mfill_\u001b[0m\u001b[0;34m(\u001b[0m\u001b[0;36m0\u001b[0m\u001b[0;34m)\u001b[0m\u001b[0;34m\u001b[0m\u001b[0;34m\u001b[0m\u001b[0m\n\u001b[1;32m    425\u001b[0m             \u001b[0;32mfor\u001b[0m \u001b[0mlearner\u001b[0m \u001b[0;32min\u001b[0m \u001b[0mlearners\u001b[0m\u001b[0;34m:\u001b[0m\u001b[0;34m\u001b[0m\u001b[0;34m\u001b[0m\u001b[0m\n\u001b[0;32m--> 426\u001b[0;31m                 \u001b[0mstate_dict\u001b[0m \u001b[0;34m=\u001b[0m \u001b[0mlearner\u001b[0m\u001b[0;34m.\u001b[0m\u001b[0mmodel\u001b[0m\u001b[0;34m.\u001b[0m\u001b[0mstate_dict\u001b[0m\u001b[0;34m(\u001b[0m\u001b[0;34m)\u001b[0m\u001b[0;34m\u001b[0m\u001b[0;34m\u001b[0m\u001b[0m\n\u001b[0m\u001b[1;32m    427\u001b[0m                 \u001b[0mtarget_state_dict\u001b[0m\u001b[0;34m[\u001b[0m\u001b[0mkey\u001b[0m\u001b[0;34m]\u001b[0m\u001b[0;34m.\u001b[0m\u001b[0mdata\u001b[0m \u001b[0;34m+=\u001b[0m \u001b[0mstate_dict\u001b[0m\u001b[0;34m[\u001b[0m\u001b[0mkey\u001b[0m\u001b[0;34m]\u001b[0m\u001b[0;34m.\u001b[0m\u001b[0mdata\u001b[0m\u001b[0;34m.\u001b[0m\u001b[0mclone\u001b[0m\u001b[0;34m(\u001b[0m\u001b[0;34m)\u001b[0m\u001b[0;34m\u001b[0m\u001b[0;34m\u001b[0m\u001b[0m\n\u001b[1;32m    428\u001b[0m \u001b[0;34m\u001b[0m\u001b[0m\n",
      "\u001b[0;32m~/anaconda3/envs/FedEM_env/lib/python3.9/site-packages/torch/nn/modules/module.py\u001b[0m in \u001b[0;36mstate_dict\u001b[0;34m(self, destination, prefix, keep_vars, *args)\u001b[0m\n\u001b[1;32m   2217\u001b[0m         \u001b[0;32mfor\u001b[0m \u001b[0mname\u001b[0m\u001b[0;34m,\u001b[0m \u001b[0mmodule\u001b[0m \u001b[0;32min\u001b[0m \u001b[0mself\u001b[0m\u001b[0;34m.\u001b[0m\u001b[0m_modules\u001b[0m\u001b[0;34m.\u001b[0m\u001b[0mitems\u001b[0m\u001b[0;34m(\u001b[0m\u001b[0;34m)\u001b[0m\u001b[0;34m:\u001b[0m\u001b[0;34m\u001b[0m\u001b[0;34m\u001b[0m\u001b[0m\n\u001b[1;32m   2218\u001b[0m             \u001b[0;32mif\u001b[0m \u001b[0mmodule\u001b[0m \u001b[0;32mis\u001b[0m \u001b[0;32mnot\u001b[0m \u001b[0;32mNone\u001b[0m\u001b[0;34m:\u001b[0m\u001b[0;34m\u001b[0m\u001b[0;34m\u001b[0m\u001b[0m\n\u001b[0;32m-> 2219\u001b[0;31m                 module.state_dict(\n\u001b[0m\u001b[1;32m   2220\u001b[0m                     \u001b[0mdestination\u001b[0m\u001b[0;34m=\u001b[0m\u001b[0mdestination\u001b[0m\u001b[0;34m,\u001b[0m\u001b[0;34m\u001b[0m\u001b[0;34m\u001b[0m\u001b[0m\n\u001b[1;32m   2221\u001b[0m                     \u001b[0mprefix\u001b[0m\u001b[0;34m=\u001b[0m\u001b[0mprefix\u001b[0m \u001b[0;34m+\u001b[0m \u001b[0mname\u001b[0m \u001b[0;34m+\u001b[0m \u001b[0;34m\".\"\u001b[0m\u001b[0;34m,\u001b[0m\u001b[0;34m\u001b[0m\u001b[0;34m\u001b[0m\u001b[0m\n",
      "\u001b[0;32m~/anaconda3/envs/FedEM_env/lib/python3.9/site-packages/torch/nn/modules/module.py\u001b[0m in \u001b[0;36mstate_dict\u001b[0;34m(self, destination, prefix, keep_vars, *args)\u001b[0m\n\u001b[1;32m   2217\u001b[0m         \u001b[0;32mfor\u001b[0m \u001b[0mname\u001b[0m\u001b[0;34m,\u001b[0m \u001b[0mmodule\u001b[0m \u001b[0;32min\u001b[0m \u001b[0mself\u001b[0m\u001b[0;34m.\u001b[0m\u001b[0m_modules\u001b[0m\u001b[0;34m.\u001b[0m\u001b[0mitems\u001b[0m\u001b[0;34m(\u001b[0m\u001b[0;34m)\u001b[0m\u001b[0;34m:\u001b[0m\u001b[0;34m\u001b[0m\u001b[0;34m\u001b[0m\u001b[0m\n\u001b[1;32m   2218\u001b[0m             \u001b[0;32mif\u001b[0m \u001b[0mmodule\u001b[0m \u001b[0;32mis\u001b[0m \u001b[0;32mnot\u001b[0m \u001b[0;32mNone\u001b[0m\u001b[0;34m:\u001b[0m\u001b[0;34m\u001b[0m\u001b[0;34m\u001b[0m\u001b[0m\n\u001b[0;32m-> 2219\u001b[0;31m                 module.state_dict(\n\u001b[0m\u001b[1;32m   2220\u001b[0m                     \u001b[0mdestination\u001b[0m\u001b[0;34m=\u001b[0m\u001b[0mdestination\u001b[0m\u001b[0;34m,\u001b[0m\u001b[0;34m\u001b[0m\u001b[0;34m\u001b[0m\u001b[0m\n\u001b[1;32m   2221\u001b[0m                     \u001b[0mprefix\u001b[0m\u001b[0;34m=\u001b[0m\u001b[0mprefix\u001b[0m \u001b[0;34m+\u001b[0m \u001b[0mname\u001b[0m \u001b[0;34m+\u001b[0m \u001b[0;34m\".\"\u001b[0m\u001b[0;34m,\u001b[0m\u001b[0;34m\u001b[0m\u001b[0;34m\u001b[0m\u001b[0m\n",
      "\u001b[0;32m~/anaconda3/envs/FedEM_env/lib/python3.9/site-packages/torch/nn/modules/module.py\u001b[0m in \u001b[0;36mstate_dict\u001b[0;34m(self, destination, prefix, keep_vars, *args)\u001b[0m\n\u001b[1;32m   2217\u001b[0m         \u001b[0;32mfor\u001b[0m \u001b[0mname\u001b[0m\u001b[0;34m,\u001b[0m \u001b[0mmodule\u001b[0m \u001b[0;32min\u001b[0m \u001b[0mself\u001b[0m\u001b[0;34m.\u001b[0m\u001b[0m_modules\u001b[0m\u001b[0;34m.\u001b[0m\u001b[0mitems\u001b[0m\u001b[0;34m(\u001b[0m\u001b[0;34m)\u001b[0m\u001b[0;34m:\u001b[0m\u001b[0;34m\u001b[0m\u001b[0;34m\u001b[0m\u001b[0m\n\u001b[1;32m   2218\u001b[0m             \u001b[0;32mif\u001b[0m \u001b[0mmodule\u001b[0m \u001b[0;32mis\u001b[0m \u001b[0;32mnot\u001b[0m \u001b[0;32mNone\u001b[0m\u001b[0;34m:\u001b[0m\u001b[0;34m\u001b[0m\u001b[0;34m\u001b[0m\u001b[0m\n\u001b[0;32m-> 2219\u001b[0;31m                 module.state_dict(\n\u001b[0m\u001b[1;32m   2220\u001b[0m                     \u001b[0mdestination\u001b[0m\u001b[0;34m=\u001b[0m\u001b[0mdestination\u001b[0m\u001b[0;34m,\u001b[0m\u001b[0;34m\u001b[0m\u001b[0;34m\u001b[0m\u001b[0m\n\u001b[1;32m   2221\u001b[0m                     \u001b[0mprefix\u001b[0m\u001b[0;34m=\u001b[0m\u001b[0mprefix\u001b[0m \u001b[0;34m+\u001b[0m \u001b[0mname\u001b[0m \u001b[0;34m+\u001b[0m \u001b[0;34m\".\"\u001b[0m\u001b[0;34m,\u001b[0m\u001b[0;34m\u001b[0m\u001b[0;34m\u001b[0m\u001b[0m\n",
      "\u001b[0;32m~/anaconda3/envs/FedEM_env/lib/python3.9/site-packages/torch/nn/modules/module.py\u001b[0m in \u001b[0;36mstate_dict\u001b[0;34m(self, destination, prefix, keep_vars, *args)\u001b[0m\n\u001b[1;32m   2217\u001b[0m         \u001b[0;32mfor\u001b[0m \u001b[0mname\u001b[0m\u001b[0;34m,\u001b[0m \u001b[0mmodule\u001b[0m \u001b[0;32min\u001b[0m \u001b[0mself\u001b[0m\u001b[0;34m.\u001b[0m\u001b[0m_modules\u001b[0m\u001b[0;34m.\u001b[0m\u001b[0mitems\u001b[0m\u001b[0;34m(\u001b[0m\u001b[0;34m)\u001b[0m\u001b[0;34m:\u001b[0m\u001b[0;34m\u001b[0m\u001b[0;34m\u001b[0m\u001b[0m\n\u001b[1;32m   2218\u001b[0m             \u001b[0;32mif\u001b[0m \u001b[0mmodule\u001b[0m \u001b[0;32mis\u001b[0m \u001b[0;32mnot\u001b[0m \u001b[0;32mNone\u001b[0m\u001b[0;34m:\u001b[0m\u001b[0;34m\u001b[0m\u001b[0;34m\u001b[0m\u001b[0m\n\u001b[0;32m-> 2219\u001b[0;31m                 module.state_dict(\n\u001b[0m\u001b[1;32m   2220\u001b[0m                     \u001b[0mdestination\u001b[0m\u001b[0;34m=\u001b[0m\u001b[0mdestination\u001b[0m\u001b[0;34m,\u001b[0m\u001b[0;34m\u001b[0m\u001b[0;34m\u001b[0m\u001b[0m\n\u001b[1;32m   2221\u001b[0m                     \u001b[0mprefix\u001b[0m\u001b[0;34m=\u001b[0m\u001b[0mprefix\u001b[0m \u001b[0;34m+\u001b[0m \u001b[0mname\u001b[0m \u001b[0;34m+\u001b[0m \u001b[0;34m\".\"\u001b[0m\u001b[0;34m,\u001b[0m\u001b[0;34m\u001b[0m\u001b[0;34m\u001b[0m\u001b[0m\n",
      "\u001b[0;32m~/anaconda3/envs/FedEM_env/lib/python3.9/site-packages/torch/nn/modules/module.py\u001b[0m in \u001b[0;36mstate_dict\u001b[0;34m(self, destination, prefix, keep_vars, *args)\u001b[0m\n\u001b[1;32m   2212\u001b[0m             \u001b[0mdestination\u001b[0m\u001b[0;34m.\u001b[0m\u001b[0m_metadata\u001b[0m\u001b[0;34m[\u001b[0m\u001b[0mprefix\u001b[0m\u001b[0;34m[\u001b[0m\u001b[0;34m:\u001b[0m\u001b[0;34m-\u001b[0m\u001b[0;36m1\u001b[0m\u001b[0;34m]\u001b[0m\u001b[0;34m]\u001b[0m \u001b[0;34m=\u001b[0m \u001b[0mlocal_metadata\u001b[0m\u001b[0;34m\u001b[0m\u001b[0;34m\u001b[0m\u001b[0m\n\u001b[1;32m   2213\u001b[0m \u001b[0;34m\u001b[0m\u001b[0m\n\u001b[0;32m-> 2214\u001b[0;31m         \u001b[0;32mfor\u001b[0m \u001b[0mhook\u001b[0m \u001b[0;32min\u001b[0m \u001b[0mself\u001b[0m\u001b[0;34m.\u001b[0m\u001b[0m_state_dict_pre_hooks\u001b[0m\u001b[0;34m.\u001b[0m\u001b[0mvalues\u001b[0m\u001b[0;34m(\u001b[0m\u001b[0;34m)\u001b[0m\u001b[0;34m:\u001b[0m\u001b[0;34m\u001b[0m\u001b[0;34m\u001b[0m\u001b[0m\n\u001b[0m\u001b[1;32m   2215\u001b[0m             \u001b[0mhook\u001b[0m\u001b[0;34m(\u001b[0m\u001b[0mself\u001b[0m\u001b[0;34m,\u001b[0m \u001b[0mprefix\u001b[0m\u001b[0;34m,\u001b[0m \u001b[0mkeep_vars\u001b[0m\u001b[0;34m)\u001b[0m\u001b[0;34m\u001b[0m\u001b[0;34m\u001b[0m\u001b[0m\n\u001b[1;32m   2216\u001b[0m         \u001b[0mself\u001b[0m\u001b[0;34m.\u001b[0m\u001b[0m_save_to_state_dict\u001b[0m\u001b[0;34m(\u001b[0m\u001b[0mdestination\u001b[0m\u001b[0;34m,\u001b[0m \u001b[0mprefix\u001b[0m\u001b[0;34m,\u001b[0m \u001b[0mkeep_vars\u001b[0m\u001b[0;34m)\u001b[0m\u001b[0;34m\u001b[0m\u001b[0;34m\u001b[0m\u001b[0m\n",
      "\u001b[0;31mKeyboardInterrupt\u001b[0m: "
     ]
    }
   ],
   "source": [
    "for itt in range(len(beta_params)):\n",
    "    \n",
    "    aggregator_temp = aggregator\n",
    "\n",
    "    # Perform rounds of FAT on FedAvg model\n",
    "    num_adv = num_aru[itt]\n",
    "    weight2 = 1 / num_adv * weight2_list[itt]\n",
    "    adv_id = random.sample(range(10, num_user), num_adv)  # excluding 0-9 as Fu = 1\n",
    "    beta = beta_params[itt]\n",
    "\n",
    "    test_acc_gather = []\n",
    "    adv_acc_gather = []\n",
    "    test_acc_std = []\n",
    "    adv_acc_std = []\n",
    "    cosine_gather_layers = np.zeros([num_rounds, len(desired_keys)])\n",
    "\n",
    "    aggregator_temp.tm_rate = beta\n",
    "\n",
    "    # Test performance of aggregator on data\n",
    "    aggregator_temp.load_state(dir_path=save_path_FedAvg_150R)\n",
    "    aggregator_temp.update_clients()\n",
    "    model_FA = pull_model_from_agg(aggregator_temp)\n",
    "    model_FA.eval()\n",
    "    acc, adv_acc = get_adv_acc(aggregator_temp, model_FA, eps=eps)\n",
    "\n",
    "    print(\"Test acc: \", np.mean(acc), \"adv acc: \", np.mean(adv_acc))\n",
    "    test_acc_gather += [np.mean(acc)]\n",
    "    adv_acc_gather += [np.mean(adv_acc)]\n",
    "    test_acc_std += [np.std(acc)]\n",
    "    adv_acc_std += [np.std(adv_acc)]\n",
    "\n",
    "    del model_FA, acc, adv_acc\n",
    "\n",
    "    for i in range(num_rounds):\n",
    "        # Memory profiling before round starts\n",
    "        print(f\"  Memory allocated - pre agg: {torch.cuda.memory_allocated() / 1e6:.2f} MB\")\n",
    "        torch.cuda.reset_peak_memory_stats()\n",
    "\n",
    "        # Per round Freq\n",
    "        aggregator_temp.aggregation_op = agg_options[itt]\n",
    "\n",
    "        # Perform UNL aggregation\n",
    "        UNL_mix(aggregator_temp, adv_id, model_inject=model_Fedavg, keys=desired_keys, \n",
    "                weight_scale_2=weight2, dump_flag=False, tm_beta=beta, \n",
    "                median_threshold=layer_threshold[itt])\n",
    "        print(f\"  Memory allocated - post UNL MIX: {torch.cuda.memory_allocated() / 1e6:.2f} MB\")\n",
    "\n",
    "        model_overfit = pull_model_from_agg(aggregator_temp)\n",
    "        model_overfit.eval()\n",
    "        acc, adv_acc = get_adv_acc(aggregator_temp, model_overfit, eps=eps)\n",
    "\n",
    "        print(f\"  Memory allocated - post ADV ACC: {torch.cuda.memory_allocated() / 1e6:.2f} MB\")\n",
    "\n",
    "        print(\"Round\", i, \"Test acc: \", np.mean(acc), \"adv acc: \", np.mean(adv_acc))\n",
    "        test_acc_gather += [np.mean(acc)]\n",
    "        adv_acc_gather += [np.mean(adv_acc)]\n",
    "        test_acc_std += [np.std(acc)]\n",
    "        adv_acc_std += [np.std(adv_acc)]\n",
    "\n",
    "        result_list[itt]['test_acc'] = test_acc_gather\n",
    "        result_list[itt]['adv_acc'] = adv_acc_gather\n",
    "        result_list[itt]['test_std'] = test_acc_std\n",
    "        result_list[itt]['adv_std'] = adv_acc_std\n",
    "        result_list[itt]['num_clients'] = num_adv\n",
    "        result_list[itt]['beta'] = beta\n",
    "        result_list[itt]['weight2'] = weight2_list[itt]\n",
    "\n",
    "        # Clean up after each round\n",
    "        del model_overfit\n",
    "    del aggregator_temp\n",
    "    torch.cuda.empty_cache()\n",
    "\n"
   ]
  },
  {
   "cell_type": "code",
   "execution_count": null,
   "metadata": {},
   "outputs": [],
   "source": []
  }
 ],
 "metadata": {
  "kernelspec": {
   "display_name": "FedEM_env",
   "language": "python",
   "name": "python3"
  },
  "language_info": {
   "codemirror_mode": {
    "name": "ipython",
    "version": 3
   },
   "file_extension": ".py",
   "mimetype": "text/x-python",
   "name": "python",
   "nbconvert_exporter": "python",
   "pygments_lexer": "ipython3",
   "version": "3.9.6"
  }
 },
 "nbformat": 4,
 "nbformat_minor": 2
}
