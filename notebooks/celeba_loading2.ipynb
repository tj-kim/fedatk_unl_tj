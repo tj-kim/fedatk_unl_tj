{
 "cells": [
  {
   "cell_type": "code",
   "execution_count": 1,
   "metadata": {},
   "outputs": [
    {
     "name": "stdout",
     "output_type": "stream",
     "text": [
      "/home/ubuntu/fedatk_unl_tj\n"
     ]
    }
   ],
   "source": [
    "cd /home/ubuntu/fedatk_unl_tj"
   ]
  },
  {
   "cell_type": "code",
   "execution_count": 2,
   "metadata": {},
   "outputs": [],
   "source": [
    "import os\n",
    "import gc\n",
    "import numpy as np\n",
    "import torch\n",
    "import pickle\n",
    "from torch.utils.data import DataLoader\n",
    "from torchvision import datasets\n",
    "from torchvision.transforms import Compose, ToTensor, Normalize\n",
    "\n",
    "\n",
    "def batch_labels(targets):\n",
    "    stacked_labels = torch.stack(targets)\n",
    "    transposed_labels = stacked_labels.T\n",
    "    processed_labels = transposed_labels.tolist()\n",
    "    \n",
    "    return [int(\"\".join(map(str, sublist)), 2) for sublist in processed_labels]\n",
    "\n",
    "def transform_target(x, required_labels):\n",
    "    return [x[label] for label in required_labels]\n",
    "\n",
    "\n",
    "def save_numpy_batch(file_path, data, labels):\n",
    "    # Save data and labels as numpy arrays\n",
    "    with open(file_path, \"wb\") as f:\n",
    "        pickle.dump((data, labels), f)\n",
    "\n",
    "\n",
    "def load_numpy_batches(file_dir):\n",
    "    # Load all batches from the directory and concatenate them\n",
    "    data_list, label_list = [], []\n",
    "    for file_name in sorted(os.listdir(file_dir)):  # Sort to maintain batch order\n",
    "        file_path = os.path.join(file_dir, file_name)\n",
    "        with open(file_path, \"rb\") as f:\n",
    "            data, labels = pickle.load(f)\n",
    "            data_list.append(data)\n",
    "            label_list.append(labels)\n",
    "    return np.concatenate(data_list, axis=0), np.concatenate(label_list, axis=0)\n",
    "\n",
    "\n",
    "def get_celeba_new(batch_size=2048):\n",
    "    celeba_path = os.path.join(\"data\", \"celeba\", \"raw_data\")\n",
    "    assert os.path.isdir(celeba_path), \"Download CelebA dataset!\"\n",
    "\n",
    "    transform = Compose([\n",
    "        ToTensor(),\n",
    "        Normalize(\n",
    "            (0.4914, 0.4822, 0.4465),\n",
    "            (0.2023, 0.1994, 0.2010)\n",
    "        )\n",
    "    ])\n",
    "\n",
    "    # Load train and test indices\n",
    "    train_idx = np.load('data/celeba/train_idx.npy', allow_pickle=True)\n",
    "    test_idx = np.load('data/celeba/test_idx.npy', allow_pickle=True)\n",
    "\n",
    "    # Prepare directories for temporary files\n",
    "    os.makedirs(\"celeba_pickle/train_batches\", exist_ok=True)\n",
    "    os.makedirs(\"celeba_pickle/test_batches\", exist_ok=True)\n",
    "\n",
    "    # Load train set\n",
    "    print(\"Processing train set...\")\n",
    "    celeba_train = datasets.CelebA(\n",
    "        root=celeba_path,\n",
    "        split='train',\n",
    "        download=False,\n",
    "        transform=transform,\n",
    "        target_transform=lambda x: transform_target(x, required_labels=[31, 20, 15, 35])  # Adjust labels\n",
    "    )\n",
    "    celeba_train = torch.utils.data.Subset(celeba_train, train_idx)\n",
    "    train_loader = DataLoader(celeba_train, batch_size=batch_size, shuffle=False)\n",
    "\n",
    "    for batch_idx, (data, targets) in enumerate(train_loader):\n",
    "        print(f\"Saving train batch {batch_idx + 1}/{len(train_loader)}\")\n",
    "\n",
    "        # Convert the data to float16 before saving it\n",
    "        data = data.half()  # Convert to float16\n",
    "        save_numpy_batch(\n",
    "            f\"celeba_pickle/train_batches/train_batch_{batch_idx}.pkl\",\n",
    "            data.numpy(),\n",
    "            batch_labels(targets)\n",
    "        )\n",
    "\n",
    "        del data, targets\n",
    "        torch.cuda.empty_cache()\n",
    "        gc.collect()\n",
    "\n",
    "    # Load test set\n",
    "    print(\"Processing test set...\")\n",
    "    celeba_test = datasets.CelebA(\n",
    "        root=celeba_path,\n",
    "        split='test',\n",
    "        download=False,\n",
    "        transform=transform,\n",
    "        target_transform=lambda x: transform_target(x, required_labels=[31, 20, 15, 35])\n",
    "    )\n",
    "    celeba_test = torch.utils.data.Subset(celeba_test, test_idx)\n",
    "    test_loader = DataLoader(celeba_test, batch_size=batch_size, shuffle=False)\n",
    "\n",
    "    for batch_idx, (data, targets) in enumerate(test_loader):\n",
    "        print(f\"Saving test batch {batch_idx + 1}/{len(test_loader)}\")\n",
    "\n",
    "        # Convert the data to float16 before saving it\n",
    "        data = data.half()  # Convert to float16\n",
    "        save_numpy_batch(\n",
    "            f\"celeba_pickle/test_batches/test_batch_{batch_idx}.pkl\",\n",
    "            data.numpy(),\n",
    "            batch_labels(targets)\n",
    "        )\n",
    "\n",
    "        del data, targets\n",
    "        torch.cuda.empty_cache()\n",
    "        gc.collect()\n",
    "\n",
    "    # Load and combine all batches\n",
    "    print(\"Combining train batches...\")\n",
    "    x_train, y_train = load_numpy_batches(\"celeba_pickle/train_batches\")\n",
    "    print(\"Combining test batches...\")\n",
    "    x_test, y_test = load_numpy_batches(\"celeba_pickle/test_batches\")\n",
    "\n",
    "    # Convert to PyTorch tensors\n",
    "    x = torch.from_numpy(np.concatenate([x_train, x_test], axis=0))\n",
    "    y = torch.from_numpy(np.concatenate([y_train, y_test], axis=0))\n",
    "\n",
    "    return x, y\n"
   ]
  },
  {
   "cell_type": "code",
   "execution_count": null,
   "metadata": {},
   "outputs": [],
   "source": [
    "# x, y = get_celeba_new()"
   ]
  },
  {
   "cell_type": "code",
   "execution_count": 4,
   "metadata": {},
   "outputs": [
    {
     "name": "stdout",
     "output_type": "stream",
     "text": [
      "Combining train batches...\n",
      "Combining test batches...\n"
     ]
    }
   ],
   "source": [
    "def get_celeba():\n",
    "    # Load and combine all batches\n",
    "    print(\"Combining train batches...\")\n",
    "    x_train, y_train = load_numpy_batches(\"celeba_pickle/train_batches\")\n",
    "    x_train_tensor = torch.from_numpy(x_train)\n",
    "    y_train_tensor = torch.from_numpy(y_train)\n",
    "\n",
    "    print(\"Combining test batches...\")\n",
    "    x_test, y_test = load_numpy_batches(\"celeba_pickle/test_batches\")\n",
    "\n",
    "    # Convert to PyTorch tensors\n",
    "    x = torch.from_numpy(np.concatenate([x_train, x_test], axis=0))\n",
    "    y = torch.from_numpy(np.concatenate([y_train, y_test], axis=0))\n",
    "\n",
    "    del x_train, y_train, x_test, y_test\n",
    "\n",
    "    return x, y"
   ]
  },
  {
   "cell_type": "code",
   "execution_count": 6,
   "metadata": {},
   "outputs": [
    {
     "data": {
      "text/plain": [
       "torch.Size([182732, 3, 55, 45])"
      ]
     },
     "execution_count": 6,
     "metadata": {},
     "output_type": "execute_result"
    }
   ],
   "source": [
    "x.shape"
   ]
  },
  {
   "cell_type": "code",
   "execution_count": 7,
   "metadata": {},
   "outputs": [
    {
     "data": {
      "text/plain": [
       "torch.Size([182732])"
      ]
     },
     "execution_count": 7,
     "metadata": {},
     "output_type": "execute_result"
    }
   ],
   "source": [
    "y.shape"
   ]
  },
  {
   "cell_type": "code",
   "execution_count": 8,
   "metadata": {},
   "outputs": [],
   "source": [
    "torch.cuda.empty_cache()"
   ]
  },
  {
   "cell_type": "code",
   "execution_count": null,
   "metadata": {},
   "outputs": [],
   "source": []
  }
 ],
 "metadata": {
  "kernelspec": {
   "display_name": "FedEM_env",
   "language": "python",
   "name": "python3"
  },
  "language_info": {
   "codemirror_mode": {
    "name": "ipython",
    "version": 3
   },
   "file_extension": ".py",
   "mimetype": "text/x-python",
   "name": "python",
   "nbconvert_exporter": "python",
   "pygments_lexer": "ipython3",
   "version": "3.9.6"
  }
 },
 "nbformat": 4,
 "nbformat_minor": 2
}
