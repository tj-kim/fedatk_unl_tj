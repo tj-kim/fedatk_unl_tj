{
 "cells": [
  {
   "cell_type": "markdown",
   "metadata": {},
   "source": [
    "### Multiround UNL Attack Trimmed Mean Non iid\n",
    "\n",
    "Feb 1 2024\n",
    "TJ Kim\n",
    "\n",
    "##### Summary\n",
    "Load FAT model trained for 150 rounds and for 50 rounds try and inject FedAvg model into the system. Try different scaling rates and spread out the model replacement attack.\n",
    "\n",
    "Against trimmed mean defense [aru client = 10, tm = 0.2, beta = 0.15] we test the following non iid cases\n",
    "- Case 1: All clients have adv prop G = 0.4 (more iid case)\n",
    "- Case 2: First 15 clietns have G = 1, rest have 0\n",
    "- Case 3: First 10 clients have G = 1, rest have 0 (least iid case)"
   ]
  },
  {
   "cell_type": "code",
   "execution_count": 2,
   "metadata": {},
   "outputs": [
    {
     "name": "stdout",
     "output_type": "stream",
     "text": [
      "/home/ubuntu/fedatk_unl_tj\n"
     ]
    }
   ],
   "source": [
    "cd /home/ubuntu/fedatk_unl_tj/"
   ]
  },
  {
   "cell_type": "code",
   "execution_count": 3,
   "metadata": {},
   "outputs": [],
   "source": [
    "# Import General Libraries\n",
    "import os\n",
    "import argparse\n",
    "import torch\n",
    "import copy\n",
    "import pickle\n",
    "import random\n",
    "import numpy as np\n",
    "import pandas as pd\n",
    "\n",
    "# Import FedEM based Libraries\n",
    "from utils.utils import *\n",
    "from utils.constants import *\n",
    "from utils.args import *\n",
    "from utils.util_notebooks import *\n",
    "from run_experiment import *\n",
    "from models import *\n",
    "\n",
    "# Import Transfer Attack\n",
    "from transfer_attacks.Personalized_NN import *\n",
    "from transfer_attacks.Params import *\n",
    "from transfer_attacks.Transferer import *\n",
    "from transfer_attacks.Args import *\n",
    "from transfer_attacks.TA_utils import *"
   ]
  },
  {
   "cell_type": "code",
   "execution_count": 4,
   "metadata": {},
   "outputs": [
    {
     "name": "stdout",
     "output_type": "stream",
     "text": [
      "==> Clients initialization..\n",
      "===> Building data iterators..\n"
     ]
    },
    {
     "name": "stderr",
     "output_type": "stream",
     "text": [
      "100%|██████████| 80/80 [00:00<00:00, 156.94it/s]\n"
     ]
    },
    {
     "name": "stdout",
     "output_type": "stream",
     "text": [
      "===> Initializing clients..\n"
     ]
    },
    {
     "name": "stderr",
     "output_type": "stream",
     "text": [
      "100%|██████████| 80/80 [00:37<00:00,  2.16it/s]\n"
     ]
    },
    {
     "name": "stdout",
     "output_type": "stream",
     "text": [
      "==> Test Clients initialization..\n",
      "===> Building data iterators..\n"
     ]
    },
    {
     "name": "stderr",
     "output_type": "stream",
     "text": [
      "0it [00:00, ?it/s]\n"
     ]
    },
    {
     "name": "stdout",
     "output_type": "stream",
     "text": [
      "===> Initializing clients..\n"
     ]
    },
    {
     "name": "stderr",
     "output_type": "stream",
     "text": [
      "0it [00:00, ?it/s]\n"
     ]
    }
   ],
   "source": [
    "setting, num_user = \"FedAvg_adv\", 40\n",
    "\n",
    "try: # Skip loading if already loaded\n",
    "    aggregator\n",
    "except:\n",
    "    aggregator, clients, args_ = set_args(setting, num_user)\n",
    "\n",
    "# Load models for FAT and FedAvg\n",
    "save_path_FAT = 'weights/cifar10/230922_baseline_train/FAT/'\n",
    "save_path_FedAvg = 'weights/cifar10/230922_baseline_train/fedavg/'\n",
    "\n",
    "model_FAT = copy.deepcopy(import_model_weights(num_user, setting, save_path_FAT, aggregator, args_)[0])\n",
    "model_Fedavg = import_model_weights(num_user, setting, save_path_FedAvg, aggregator, args_)[0]\n"
   ]
  },
  {
   "cell_type": "code",
   "execution_count": 5,
   "metadata": {},
   "outputs": [],
   "source": [
    "# Obtain parameters for each layer\n",
    "params_FAT = model_FAT.state_dict()\n",
    "params_FedAvg = model_Fedavg.state_dict()\n",
    "\n",
    "# Just take the values of weights and bias for the model\n",
    "desired_keys = [key for key in params_FAT.keys() if 'weight' in key or 'bias' in key]"
   ]
  },
  {
   "cell_type": "code",
   "execution_count": 6,
   "metadata": {},
   "outputs": [],
   "source": [
    "# Calculate uploaded model and download to attacker clients in aggregator\n",
    "# Current version working under the assumption of close to convergence (no benign client pushback)\n",
    "def calc_atk_model(model_inject, model_global, keys, weight_scale, weight_scale_2):\n",
    "\n",
    "    atk_model = copy.deepcopy(model_global)\n",
    "    inject_state_dict = model_inject.state_dict(keep_vars=True)\n",
    "    global_state_dict = model_global.state_dict(keep_vars=True)\n",
    "    return_state_dict = atk_model.state_dict(keep_vars=True)\n",
    "    total_weight = weight_scale * weight_scale_2\n",
    "\n",
    "    for key in keys:\n",
    "        diff = inject_state_dict[key].data.clone() - global_state_dict[key].data.clone()\n",
    "        return_state_dict[key].data = total_weight * diff + global_state_dict[key].data.clone()\n",
    "\n",
    "    return atk_model\n",
    "\n",
    "# Clone data from attack model to client model\n",
    "def clone_model_weights(model_source, model_target, keys):\n",
    "    target_state_dict = model_target.state_dict(keep_vars=True)\n",
    "    source_state_dict = model_source.state_dict(keep_vars=True)\n",
    "    \n",
    "    for key in keys:\n",
    "        target_state_dict[key].data = source_state_dict[key].data.clone()\n",
    "\n",
    "    return\n",
    "\n",
    "# Expand aggregator.mix() function\n",
    "def UNL_mix(aggregator, adv_id, model_inject, keys, weight_scale_2, dump_flag=False, aggregation_op = None, tm_beta = 0.05):\n",
    "    weight_scale = 1/aggregator.clients_weights\n",
    "    model_global = aggregator.global_learners_ensemble[0].model\n",
    "\n",
    "    if aggregation_op == None:\n",
    "        aggregation_op = aggregator.aggregation_op\n",
    "\n",
    "    # Give adversarial clients boosted models and train regular clients 1 round\n",
    "    benign_id = list(range(len(aggregator.clients)))\n",
    "    for a_id in adv_id:\n",
    "        benign_id.remove(a_id)\n",
    "        temp_atk_model = calc_atk_model(model_inject, model_global, keys, weight_scale[a_id], weight_scale_2)\n",
    "        aggregator.clients[a_id].learners_ensemble[0].model = copy.deepcopy(temp_atk_model)\n",
    "\n",
    "    for c_id in benign_id:\n",
    "        aggregator.clients[c_id].step()\n",
    "\n",
    "    # Aggregate model and download\n",
    "    for learner_id, learner in enumerate(aggregator.global_learners_ensemble):\n",
    "        learners = [client.learners_ensemble[learner_id] for client in aggregator.clients]\n",
    "        if aggregation_op is None:\n",
    "            average_learners(learners, learner, weights=aggregator.clients_weights)\n",
    "        elif aggregation_op == 'median':\n",
    "            dump_path = (\n",
    "                os.path.join(aggregator.dump_path, f\"round{aggregator.c_round}_median.pkl\") \n",
    "                if dump_flag\n",
    "                else None\n",
    "            )\n",
    "            byzantine_robust_aggregate_median(\n",
    "                learners, \n",
    "                learner, \n",
    "                dump_path=dump_path\n",
    "            )\n",
    "        elif aggregation_op == 'trimmed_mean':\n",
    "            dump_path = (\n",
    "                os.path.join(aggregator.dump_path, f\"round{aggregator.c_round}_tm.pkl\")\n",
    "                if dump_flag\n",
    "                else None\n",
    "            )\n",
    "            byzantine_robust_aggregate_tm(\n",
    "                learners, \n",
    "                learner, \n",
    "                beta=tm_beta, \n",
    "                dump_path=dump_path\n",
    "            )\n",
    "        elif aggregation_op == 'krum':\n",
    "            dump_path = (\n",
    "                os.path.join(aggregator.dump_path, f\"round{aggregator.c_round}_krum.pkl\")\n",
    "                if dump_flag\n",
    "                else None\n",
    "            )\n",
    "            byzantine_robust_aggregate_krum(\n",
    "                learners, \n",
    "                learner, \n",
    "                dump_path=dump_path\n",
    "            )\n",
    "        elif aggregation_op == 'krum_modelwise':\n",
    "            dump_path = (\n",
    "                os.path.join(aggregator.dump_path, f\"round{aggregator.c_round}_krum_modelwise.pkl\")\n",
    "                if dump_flag\n",
    "                else None\n",
    "            )\n",
    "            byzantine_robust_aggregate_krum_modelwise(\n",
    "                1,\n",
    "                learners,\n",
    "                learner,\n",
    "                dump_path=dump_path\n",
    "            )\n",
    "        else:\n",
    "            raise NotImplementedError\n",
    "\n",
    "\n",
    "    # assign the updated model to all clients\n",
    "    aggregator.update_clients()\n",
    "\n",
    "    aggregator.c_round += 1\n",
    "\n",
    "    # if aggregator.c_round % aggregator.log_freq == 0:\n",
    "    #     aggregator.write_logs()\n",
    "    return "
   ]
  },
  {
   "cell_type": "code",
   "execution_count": 7,
   "metadata": {},
   "outputs": [
    {
     "name": "stdout",
     "output_type": "stream",
     "text": [
      "==> Clients initialization..\n",
      "===> Building data iterators..\n"
     ]
    },
    {
     "name": "stderr",
     "output_type": "stream",
     "text": [
      "100%|██████████| 80/80 [00:00<00:00, 220.62it/s]\n"
     ]
    },
    {
     "name": "stdout",
     "output_type": "stream",
     "text": [
      "===> Initializing clients..\n"
     ]
    },
    {
     "name": "stderr",
     "output_type": "stream",
     "text": [
      "100%|██████████| 80/80 [00:32<00:00,  2.48it/s]\n"
     ]
    },
    {
     "name": "stdout",
     "output_type": "stream",
     "text": [
      "==> Test Clients initialization..\n",
      "===> Building data iterators..\n"
     ]
    },
    {
     "name": "stderr",
     "output_type": "stream",
     "text": [
      "0it [00:00, ?it/s]\n"
     ]
    },
    {
     "name": "stdout",
     "output_type": "stream",
     "text": [
      "===> Initializing clients..\n"
     ]
    },
    {
     "name": "stderr",
     "output_type": "stream",
     "text": [
      "0it [00:00, ?it/s]\n"
     ]
    },
    {
     "name": "stdout",
     "output_type": "stream",
     "text": [
      "updating adv data set\n",
      "Test acc:  0.8078125134110451 adv acc:  0.35593750290572646\n",
      "round 0 Test acc:  0.7956250086426735 adv acc:  0.269375004991889\n",
      "round 1 Test acc:  0.7559375151991844 adv acc:  0.18093750346451998\n",
      "round 2 Test acc:  0.7256250113248826 adv acc:  0.12062500175088645\n",
      "round 3 Test acc:  0.7137500137090683 adv acc:  0.06750000100582838\n",
      "round 4 Test acc:  0.7153125092387199 adv acc:  0.035937500605359676\n",
      "round 5 Test acc:  0.7412500113248826 adv acc:  0.028750000637955964\n",
      "round 6 Test acc:  0.7631250113248825 adv acc:  0.019375000381842256\n",
      "round 7 Test acc:  0.77312500923872 adv acc:  0.01625000035855919\n",
      "round 8 Test acc:  0.7928125098347664 adv acc:  0.014687500288709998\n",
      "round 9 Test acc:  0.8103125125169754 adv acc:  0.009375000139698386\n",
      "round 10 Test acc:  0.8256250128149987 adv acc:  0.006250000116415322\n",
      "round 11 Test acc:  0.8290625110268592 adv acc:  0.006250000116415322\n",
      "round 12 Test acc:  0.8262500122189522 adv acc:  0.008125000167638063\n",
      "round 13 Test acc:  0.8331250116229058 adv acc:  0.0037500000558793544\n",
      "round 14 Test acc:  0.8418750137090683 adv acc:  0.0034375000512227418\n",
      "round 15 Test acc:  0.8396875113248825 adv acc:  0.0031250000465661287\n",
      "round 16 Test acc:  0.8390625104308128 adv acc:  0.0037500000558793544\n",
      "round 17 Test acc:  0.8434375137090683 adv acc:  0.0037500000558793544\n",
      "round 18 Test acc:  0.8475000128149986 adv acc:  0.0037500000558793544\n",
      "round 19 Test acc:  0.8506250128149986 adv acc:  0.00218750003259629\n",
      "round 20 Test acc:  0.8384375095367431 adv acc:  0.002500000037252903\n",
      "round 21 Test acc:  0.851562513411045 adv acc:  0.0015625000232830644\n",
      "round 22 Test acc:  0.8496875107288361 adv acc:  0.0009375000139698386\n",
      "round 23 Test acc:  0.8512500122189521 adv acc:  0.00218750003259629\n",
      "round 24 Test acc:  0.8515625119209289 adv acc:  0.0015625000232830644\n",
      "updating adv data set\n",
      "Test acc:  0.8068750128149986 adv acc:  0.35281250439584255\n",
      "round 0 Test acc:  0.7762500122189522 adv acc:  0.26875000484287737\n",
      "round 1 Test acc:  0.7325000166893005 adv acc:  0.17937500290572644\n",
      "round 2 Test acc:  0.7128125101327896 adv acc:  0.11031250255182386\n",
      "round 3 Test acc:  0.717500014603138 adv acc:  0.06812500124797224\n",
      "round 4 Test acc:  0.7268750131130218 adv acc:  0.03593750083819032\n",
      "round 5 Test acc:  0.7365625098347663 adv acc:  0.023750000540167092\n",
      "round 6 Test acc:  0.7693750128149986 adv acc:  0.012812500260770321\n",
      "round 7 Test acc:  0.7812500119209289 adv acc:  0.014375000260770321\n",
      "round 8 Test acc:  0.8003125116229057 adv acc:  0.011562500195577741\n",
      "round 9 Test acc:  0.8212500110268592 adv acc:  0.008437500125728548\n",
      "round 10 Test acc:  0.8215625122189522 adv acc:  0.007812500139698387\n",
      "round 11 Test acc:  0.8384375154972077 adv acc:  0.004687500093132258\n",
      "round 12 Test acc:  0.8381250113248825 adv acc:  0.005625000107102096\n",
      "round 13 Test acc:  0.8450000137090683 adv acc:  0.005000000074505806\n",
      "round 14 Test acc:  0.8425000116229058 adv acc:  0.0034375000512227418\n",
      "round 15 Test acc:  0.8493750095367432 adv acc:  0.0028125000419095157\n",
      "round 16 Test acc:  0.8459375143051148 adv acc:  0.002500000037252903\n",
      "round 17 Test acc:  0.8484375163912773 adv acc:  0.0028125000419095157\n",
      "round 18 Test acc:  0.8537500128149986 adv acc:  0.0018750000279396772\n",
      "round 19 Test acc:  0.8512500077486038 adv acc:  0.0015625000232830644\n",
      "round 20 Test acc:  0.8415625110268593 adv acc:  0.0012500000186264515\n",
      "round 21 Test acc:  0.8528125137090683 adv acc:  0.0031250000465661287\n",
      "round 22 Test acc:  0.8500000104308129 adv acc:  0.0015625000232830644\n",
      "round 23 Test acc:  0.8543750137090683 adv acc:  0.002500000037252903\n",
      "round 24 Test acc:  0.8500000089406967 adv acc:  0.0018750000279396772\n",
      "updating adv data set\n",
      "Test acc:  0.8012500092387199 adv acc:  0.34875000566244124\n",
      "round 0 Test acc:  0.7896875157952309 adv acc:  0.2900000046938658\n",
      "round 1 Test acc:  0.7581250160932541 adv acc:  0.215312503837049\n",
      "round 2 Test acc:  0.7393750131130219 adv acc:  0.13656250229105354\n",
      "round 3 Test acc:  0.7168750137090683 adv acc:  0.09531250153668225\n",
      "round 4 Test acc:  0.7353125095367432 adv acc:  0.0575000012293458\n",
      "round 5 Test acc:  0.745625014603138 adv acc:  0.03312500077299774\n",
      "round 6 Test acc:  0.7637500107288361 adv acc:  0.024375000433064998\n",
      "round 7 Test acc:  0.7759375110268593 adv acc:  0.01843750043772161\n",
      "round 8 Test acc:  0.7875000089406967 adv acc:  0.015937500284053385\n",
      "round 9 Test acc:  0.8075000077486039 adv acc:  0.0068750001024454836\n",
      "round 10 Test acc:  0.8162500143051148 adv acc:  0.010000000149011612\n",
      "round 11 Test acc:  0.8312500074505806 adv acc:  0.005937500088475644\n",
      "round 12 Test acc:  0.8362500131130218 adv acc:  0.0071875001303851604\n",
      "round 13 Test acc:  0.8393750101327896 adv acc:  0.005000000074505806\n",
      "round 14 Test acc:  0.8418750047683716 adv acc:  0.005625000107102096\n",
      "round 15 Test acc:  0.8331250086426735 adv acc:  0.00437500006519258\n",
      "round 16 Test acc:  0.8428125113248826 adv acc:  0.002500000037252903\n",
      "round 17 Test acc:  0.84343750923872 adv acc:  0.0028125000419095157\n",
      "round 18 Test acc:  0.8496875062584877 adv acc:  0.0028125000419095157\n",
      "round 19 Test acc:  0.8468750104308128 adv acc:  0.0031250000465661287\n",
      "round 20 Test acc:  0.8534375116229057 adv acc:  0.0028125000419095157\n",
      "round 21 Test acc:  0.8443750113248825 adv acc:  0.0031250000465661287\n",
      "round 22 Test acc:  0.8378125116229057 adv acc:  0.0018750000279396772\n",
      "round 23 Test acc:  0.848437511920929 adv acc:  0.002500000037252903\n",
      "round 24 Test acc:  0.8471875116229057 adv acc:  0.0015625000232830644\n"
     ]
    }
   ],
   "source": [
    "beta_params = [0.1,0.1,0.1]\n",
    "num_aru = [10,10,10]\n",
    "weight2_list = [0.2,0.2,0.2]\n",
    "Fu_count = [30,15,10]\n",
    "G_count = [0.4,1,1]\n",
    "num_rounds = 25\n",
    "\n",
    "\n",
    "result_list = []\n",
    "for itt in range(len(beta_params)):\n",
    "    result_list += [{}]\n",
    "\n",
    "setting, num_user = \"FedAvg_adv\", 40\n",
    "save_path_FedAvg_150R = 'weights/cifar10/231031_FAT150round/FAT'\n",
    "aggregator, clients, args_ = set_args(setting, num_user)\n",
    "aggregator.aggregation_op = 'trimmed_mean'\n",
    "\n",
    "\n",
    "for itt in range(len(beta_params)):\n",
    "    print(\"updating adv data set\")\n",
    "    Fu = np.zeros(num_user)\n",
    "    Fu[0:Fu_count[itt]] = 1 * G_count[itt]\n",
    "\n",
    "    # Setting evasion attack parameters\n",
    "    x_min = torch.min(clients[0].adv_nn.dataloader.x_data)\n",
    "    x_max = torch.max(clients[0].adv_nn.dataloader.x_data)\n",
    "    atk_params = PGD_Params()\n",
    "    atk_params.set_params(batch_size=1, iteration = 10,\n",
    "                    target = -1, x_val_min = x_min, x_val_max = x_max,\n",
    "                    step_size = 0.05, step_norm = \"inf\", eps = 4.5, eps_norm = 2)\n",
    "\n",
    "    # Assign proportion and attack params\n",
    "    for c in range(len(clients)):\n",
    "        if Fu[c] > 0:\n",
    "            aggregator.clients[c].set_adv_params(Fu[c], atk_params)\n",
    "            aggregator.clients[c].update_advnn()\n",
    "            aggregator.clients[c].assign_advdataset()\n",
    "\n",
    "    # Perform 50 rounds of FAT on FedAvg model \n",
    "    num_adv = num_aru[itt]\n",
    "    weight2 = 1/num_adv * weight2_list[itt]\n",
    "    adv_id = random.sample(range(Fu_count[itt],num_user), num_adv) # excluding 0-9 as Fu = 1\n",
    "    beta = beta_params[itt]\n",
    "\n",
    "    test_acc_gather = []\n",
    "    adv_acc_gather = []\n",
    "    test_acc_std = []\n",
    "    adv_acc_std = []\n",
    "\n",
    "    aggregator.tm_rate = beta\n",
    "\n",
    "    # Test performance of aggregator on data \n",
    "    aggregator.load_state(dir_path = save_path_FedAvg_150R)\n",
    "    aggregator.update_clients()\n",
    "    model_FA = pull_model_from_agg(aggregator)\n",
    "    model_FA.eval()\n",
    "    acc, adv_acc = get_adv_acc(aggregator, model_FA)\n",
    "\n",
    "    prev_model = copy.deepcopy(model_FA)\n",
    "\n",
    "    print(\"Test acc: \", np.mean(acc), \"adv acc: \", np.mean(adv_acc))\n",
    "    test_acc_gather+= [np.mean(acc)]\n",
    "    adv_acc_gather += [np.mean(adv_acc)]\n",
    "    test_acc_std += [np.std(acc)]\n",
    "    adv_acc_std += [np.std(adv_acc)]\n",
    "\n",
    "\n",
    "\n",
    "    for i in range(num_rounds):\n",
    "\n",
    "        # Per round Freq\n",
    "\n",
    "        # aggregator.mix()\n",
    "        UNL_mix(aggregator, adv_id, model_inject = model_Fedavg, keys = desired_keys, weight_scale_2 = weight2, dump_flag=False, tm_beta=beta)\n",
    "        model_overfit = pull_model_from_agg(aggregator)\n",
    "        model_overfit.eval()\n",
    "        acc, adv_acc = get_adv_acc(aggregator, model_overfit)\n",
    "\n",
    "        print(\"round\", i,\"Test acc: \", np.mean(acc), \"adv acc: \", np.mean(adv_acc))\n",
    "        test_acc_gather+= [np.mean(acc)]\n",
    "        adv_acc_gather += [np.mean(adv_acc)]\n",
    "        test_acc_std += [np.std(acc)]\n",
    "        adv_acc_std += [np.std(adv_acc)]\n",
    "        prev_model = copy.deepcopy(model_overfit)\n",
    "\n",
    "        result_list[itt]['test_acc'] = copy.deepcopy(test_acc_gather)\n",
    "        result_list[itt]['adv_acc'] = copy.deepcopy(adv_acc_gather)\n",
    "        result_list[itt]['test_std'] = copy.deepcopy(test_acc_std)\n",
    "        result_list[itt]['adv_std'] = copy.deepcopy(adv_acc_std)\n",
    "        result_list[itt]['num_clients'] = num_adv\n",
    "        result_list[itt]['beta'] = beta\n",
    "        result_list[itt]['weight2'] = weight2_list[itt]\n",
    "        # Perform gradient direction gathering\n",
    "\n",
    "    "
   ]
  },
  {
   "cell_type": "code",
   "execution_count": 9,
   "metadata": {},
   "outputs": [],
   "source": [
    "import pickle\n",
    "\n",
    "a = result_list\n",
    "\n",
    "with open('saved_results/tmsweep_niid/240201_02_beta01.pk', 'wb') as handle:\n",
    "    pickle.dump(a, handle, protocol=pickle.HIGHEST_PROTOCOL)"
   ]
  },
  {
   "cell_type": "code",
   "execution_count": 12,
   "metadata": {},
   "outputs": [],
   "source": [
    "# load relevant information and plot \n",
    "# plot_settings = [[5, 0.05, 0.3],[5, 0.1, 0.2],[5, 0.2, 0.1],[10, 0.2, 0.15]] # [num_aru, tm_param, scale]\n",
    "plot_settings = [\"FAT Client = 30\", \"FAT Client = 15\", \"FAT Client = 10\"]\n",
    "adv_acc_plotter = []\n",
    "adv_std_plotter = []\n",
    "\n",
    "# LINE NO 1\n",
    "with open('saved_results/tmsweep_niid/240201_01.pk', 'rb') as handle:\n",
    "    loaded = pickle.load(handle)\n",
    "adv_acc_plotter += [loaded[0][\"adv_acc\"]]\n",
    "adv_std_plotter += [loaded[0][\"adv_std\"]]\n",
    "\n",
    "adv_acc_plotter += [loaded[1][\"adv_acc\"]]\n",
    "adv_std_plotter += [loaded[1][\"adv_std\"]]\n",
    "\n",
    "adv_acc_plotter += [loaded[2][\"adv_acc\"]]\n",
    "adv_std_plotter += [loaded[2][\"adv_std\"]]\n"
   ]
  },
  {
   "cell_type": "code",
   "execution_count": 13,
   "metadata": {},
   "outputs": [
    {
     "data": {
      "image/png": "[encoded data removed]",
      "text/plain": [
       "<Figure size 480x320 with 1 Axes>"
      ]
     },
     "metadata": {
      "needs_background": "light"
     },
     "output_type": "display_data"
    }
   ],
   "source": [
    "import matplotlib.pyplot as plt\n",
    "import numpy as np\n",
    "\n",
    "font = {'family' : 'normal',\n",
    "        'weight' : 'normal',\n",
    "        'size'   : 18}\n",
    "\n",
    "plt.rc('font', **font)\n",
    "plt.figure(dpi=80, figsize=(6,4))\n",
    "\n",
    "# Generate some sample data\n",
    "x = range(len(adv_acc_plotter[0]))  # 100 points from 0 to 10\n",
    "\n",
    "# Plotting the lines\n",
    "# plt.plot(x, y1, label='Test Acc')\n",
    "label_list = plot_settings\n",
    "for i in range(len(label_list)):\n",
    "    y = np.array(adv_acc_plotter[i])\n",
    "    error = np.array(adv_std_plotter[i])\n",
    "    plt.plot(x, y, label= str(label_list[i]))\n",
    "    plt.fill_between(x, y-error, y+error,\n",
    "    alpha=0.2)\n",
    "\n",
    "# Adding labels and title\n",
    "plt.xlabel('Injection Rounds')\n",
    "plt.ylabel('Adv. Acc. (Robustness)')\n",
    "plt.title('Trimmed Mean and FAT Distribution \\n [tm_param = 0.2, scale = 0.2]', fontsize = 'medium')\n",
    "\n",
    "# Adding a legend\n",
    "plt.legend( loc=1, fontsize='x-small')\n",
    "\n",
    "# Display the plot\n",
    "plt.show()\n"
   ]
  },
  {
   "cell_type": "code",
   "execution_count": null,
   "metadata": {},
   "outputs": [],
   "source": []
  }
 ],
 "metadata": {
  "kernelspec": {
   "display_name": "FedEM_env",
   "language": "python",
   "name": "python3"
  },
  "language_info": {
   "codemirror_mode": {
    "name": "ipython",
    "version": 3
   },
   "file_extension": ".py",
   "mimetype": "text/x-python",
   "name": "python",
   "nbconvert_exporter": "python",
   "pygments_lexer": "ipython3",
   "version": "3.9.6"
  }
 },
 "nbformat": 4,
 "nbformat_minor": 2
}
