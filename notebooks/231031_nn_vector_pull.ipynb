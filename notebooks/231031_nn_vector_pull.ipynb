{
 "cells": [
  {
   "cell_type": "markdown",
   "metadata": {},
   "source": [
    "### NN Vector Pull for Direction\n",
    "\n",
    "Oct 31 2023\n",
    "TJ Kim\n",
    "\n",
    "##### Summary\n",
    "Load any NN model. Obtain layer by layer the unit direction vector (against vector of zeros). See if cosine similarity can be used as a metric to measure direction."
   ]
  },
  {
   "cell_type": "code",
   "execution_count": 1,
   "metadata": {},
   "outputs": [
    {
     "name": "stdout",
     "output_type": "stream",
     "text": [
      "/home/ubuntu/fedatk_unl_tj\n"
     ]
    }
   ],
   "source": [
    "cd /home/ubuntu/fedatk_unl_tj/"
   ]
  },
  {
   "cell_type": "code",
   "execution_count": 2,
   "metadata": {},
   "outputs": [],
   "source": [
    "# Import General Libraries\n",
    "import os\n",
    "import argparse\n",
    "import torch\n",
    "import copy\n",
    "import pickle\n",
    "import random\n",
    "import numpy as np\n",
    "import pandas as pd\n",
    "\n",
    "# Import FedEM based Libraries\n",
    "from utils.utils import *\n",
    "from utils.constants import *\n",
    "from utils.args import *\n",
    "from utils.util_notebooks import *\n",
    "from run_experiment import *\n",
    "from models import *\n",
    "\n",
    "# Import Transfer Attack\n",
    "from transfer_attacks.Personalized_NN import *\n",
    "from transfer_attacks.Params import *\n",
    "from transfer_attacks.Transferer import *\n",
    "from transfer_attacks.Args import *\n",
    "from transfer_attacks.TA_utils import *"
   ]
  },
  {
   "cell_type": "code",
   "execution_count": 3,
   "metadata": {},
   "outputs": [
    {
     "name": "stdout",
     "output_type": "stream",
     "text": [
      "==> Clients initialization..\n",
      "===> Building data iterators..\n"
     ]
    },
    {
     "name": "stderr",
     "output_type": "stream",
     "text": [
      "100%|██████████| 80/80 [00:00<00:00, 134.79it/s]\n"
     ]
    },
    {
     "name": "stdout",
     "output_type": "stream",
     "text": [
      "===> Initializing clients..\n"
     ]
    },
    {
     "name": "stderr",
     "output_type": "stream",
     "text": [
      "100%|██████████| 80/80 [00:17<00:00,  4.60it/s]\n"
     ]
    },
    {
     "name": "stdout",
     "output_type": "stream",
     "text": [
      "==> Test Clients initialization..\n",
      "===> Building data iterators..\n"
     ]
    },
    {
     "name": "stderr",
     "output_type": "stream",
     "text": [
      "0it [00:00, ?it/s]\n"
     ]
    },
    {
     "name": "stdout",
     "output_type": "stream",
     "text": [
      "===> Initializing clients..\n"
     ]
    },
    {
     "name": "stderr",
     "output_type": "stream",
     "text": [
      "0it [00:00, ?it/s]\n"
     ]
    },
    {
     "name": "stdout",
     "output_type": "stream",
     "text": [
      "++++++++++++++++++++++++++++++\n",
      "Global..\n",
      "Train Loss: 2.299 | Train Acc: 10.548% |Test Loss: 2.297 | Test Acc: 10.511% |\n",
      "++++++++++++++++++++++++++++++++++++++++++++++++++\n",
      "################################################################################\n"
     ]
    }
   ],
   "source": [
    "setting, num_user = \"FedAvg\", 40\n",
    "\n",
    "try: # Skip loading if already loaded\n",
    "    aggregator\n",
    "except:\n",
    "    aggregator, clients, args_ = set_args(setting, num_user)\n",
    "\n",
    "# Load models for FAT and FedAvg\n",
    "save_path_FAT = 'weights/cifar10/230922_baseline_train/FAT/'\n",
    "save_path_FedAvg = 'weights/cifar10/230922_baseline_train/fedavg/'\n",
    "\n",
    "model_FAT = copy.deepcopy(import_model_weights(num_user, setting, save_path_FAT, aggregator, args_)[0])\n",
    "model_Fedavg = import_model_weights(num_user, setting, save_path_FedAvg, aggregator, args_)[0]\n"
   ]
  },
  {
   "cell_type": "code",
   "execution_count": 11,
   "metadata": {},
   "outputs": [],
   "source": [
    "from sklearn.metrics.pairwise import cosine_similarity\n",
    "\n",
    "def matrix_cosine_similarity(mat1, mat2):\n",
    "    vec1 = mat1.cpu().numpy().flatten()\n",
    "    vec2 = mat2.cpu().numpy().flatten()\n",
    "    return cosine_similarity([vec1], [vec2])[0][0]\n",
    "\n",
    "def get_adv_acc(aggregator, model, batch_size = 500):\n",
    "    num_clients = len(aggregator.clients)\n",
    "\n",
    "    # Dataloader for datax\n",
    "    data_x = []\n",
    "    daniloader = clients[0].val_iterator\n",
    "    for (x,y,idx) in daniloader.dataset:\n",
    "        data_x.append(x)\n",
    "\n",
    "    data_x = torch.stack(data_x)\n",
    "    victim_idxs = range(num_clients)\n",
    "\n",
    "    # Save matrix\n",
    "    test_acc_save = np.zeros([1])\n",
    "    adv_acc_save = np.zeros([1])\n",
    "\n",
    "    for c_id in range(1):\n",
    "        dataloader = load_client_data(clients = aggregator.clients, c_id = c_id, mode = 'test')\n",
    "        batch_size = min(batch_size, dataloader.y_data.shape[0])\n",
    "\n",
    "        t1 = Transferer(models_list = [model] * num_clients, dataloader=dataloader)\n",
    "        t1.generate_victims(victim_idxs)\n",
    "        t1.atk_params = PGD_Params()\n",
    "        t1.atk_params.set_params(batch_size=batch_size, iteration = 10, target = -1,\n",
    "                                x_val_min = torch.min(data_x), x_val_max = torch.max(data_x),\n",
    "                                step_size = 0.05, step_norm = \"inf\", eps = 4, eps_norm = 2)\n",
    "        t1.generate_advNN(c_id)\n",
    "        t1.generate_xadv(atk_type=\"pgd\")\n",
    "        t1.send_to_victims(victim_idxs)\n",
    "        test_acc_save[c_id] = t1.orig_acc_transfers[0]\n",
    "        adv_acc_save[c_id] = t1.adv_acc_transfers[0]\n",
    "\n",
    "    return test_acc_save, adv_acc_save\n",
    "\n",
    "def pull_model_from_agg(aggregator):\n",
    "        \n",
    "    # This is where the models are stored -- one for each mixture --> learner.model for nn\n",
    "    hypotheses = aggregator.global_learners_ensemble.learners\n",
    "\n",
    "    # obtain the state dict for each of the weights \n",
    "    weights_h = []\n",
    "\n",
    "    for h in hypotheses:\n",
    "        weights_h += [h.model.state_dict()]\n",
    "    \n",
    "    # first make the model with empty weights\n",
    "    new_model = copy.deepcopy(hypotheses[0].model)\n",
    "    return new_model"
   ]
  },
  {
   "cell_type": "code",
   "execution_count": 5,
   "metadata": {},
   "outputs": [],
   "source": [
    "# Obtain parameters for each layer\n",
    "params_FAT = model_FAT.state_dict()\n",
    "params_FedAvg = model_Fedavg.state_dict()\n",
    "\n",
    "# Just take the values of weights and bias for the model\n",
    "desired_keys = [key for key in params_FAT.keys() if 'weight' in key or 'bias' in key]"
   ]
  },
  {
   "cell_type": "code",
   "execution_count": 6,
   "metadata": {},
   "outputs": [],
   "source": [
    "# Find mag norm \n",
    "mag_norm_FedAvg2FAT = []\n",
    "for key in desired_keys: #params_FAT:\n",
    "\n",
    "    diff = params_FAT[key] - params_FedAvg[key]\n",
    "    l2_norm = torch.norm(diff, p=2)\n",
    "\n",
    "    mag_norm_FedAvg2FAT += [diff/torch.norm(diff,p=2)]\n"
   ]
  },
  {
   "cell_type": "code",
   "execution_count": 13,
   "metadata": {},
   "outputs": [
    {
     "name": "stdout",
     "output_type": "stream",
     "text": [
      "Test acc:  0.7750000357627869 adv acc:  0.375\n",
      "round 0 Test acc:  0.7875000238418579 adv acc:  0.38750001788139343\n",
      "round 1 Test acc:  0.7875000238418579 adv acc:  0.3499999940395355\n",
      "round 2 Test acc:  0.800000011920929 adv acc:  0.375\n",
      "round 3 Test acc:  0.7875000238418579 adv acc:  0.36250001192092896\n",
      "round 4 Test acc:  0.7875000238418579 adv acc:  0.375\n",
      "round 5 Test acc:  0.7875000238418579 adv acc:  0.4000000059604645\n",
      "round 6 Test acc:  0.800000011920929 adv acc:  0.375\n",
      "round 7 Test acc:  0.800000011920929 adv acc:  0.4124999940395355\n",
      "round 8 Test acc:  0.800000011920929 adv acc:  0.375\n",
      "++++++++++++++++++++++++++++++\n",
      "Global..\n",
      "Train Loss: 0.157 | Train Acc: 96.197% |Test Loss: 0.586 | Test Acc: 80.833% |\n",
      "++++++++++++++++++++++++++++++++++++++++++++++++++\n",
      "################################################################################\n",
      "round 9 Test acc:  0.800000011920929 adv acc:  0.4000000059604645\n",
      "round 10 Test acc:  0.7875000238418579 adv acc:  0.4000000059604645\n",
      "round 11 Test acc:  0.7875000238418579 adv acc:  0.38750001788139343\n",
      "round 12 Test acc:  0.800000011920929 adv acc:  0.4124999940395355\n",
      "round 13 Test acc:  0.800000011920929 adv acc:  0.4000000059604645\n",
      "round 14 Test acc:  0.8125 adv acc:  0.4000000059604645\n",
      "round 15 Test acc:  0.800000011920929 adv acc:  0.38750001788139343\n",
      "round 16 Test acc:  0.8125 adv acc:  0.375\n",
      "round 17 Test acc:  0.800000011920929 adv acc:  0.4000000059604645\n",
      "round 18 Test acc:  0.8125 adv acc:  0.4124999940395355\n",
      "++++++++++++++++++++++++++++++\n",
      "Global..\n",
      "Train Loss: 0.141 | Train Acc: 96.417% |Test Loss: 0.586 | Test Acc: 81.189% |\n",
      "++++++++++++++++++++++++++++++++++++++++++++++++++\n",
      "################################################################################\n",
      "round 19 Test acc:  0.8125 adv acc:  0.36250001192092896\n",
      "round 20 Test acc:  0.8125 adv acc:  0.38750001788139343\n",
      "round 21 Test acc:  0.8125 adv acc:  0.4000000059604645\n",
      "round 22 Test acc:  0.800000011920929 adv acc:  0.36250001192092896\n",
      "round 23 Test acc:  0.800000011920929 adv acc:  0.375\n",
      "round 24 Test acc:  0.800000011920929 adv acc:  0.4000000059604645\n",
      "round 25 Test acc:  0.800000011920929 adv acc:  0.38750001788139343\n",
      "round 26 Test acc:  0.8125 adv acc:  0.38750001788139343\n",
      "round 27 Test acc:  0.8125 adv acc:  0.36250001192092896\n",
      "round 28 Test acc:  0.8125 adv acc:  0.375\n",
      "++++++++++++++++++++++++++++++\n",
      "Global..\n",
      "Train Loss: 0.130 | Train Acc: 96.618% |Test Loss: 0.588 | Test Acc: 81.178% |\n",
      "++++++++++++++++++++++++++++++++++++++++++++++++++\n",
      "################################################################################\n",
      "round 29 Test acc:  0.800000011920929 adv acc:  0.375\n",
      "round 30 Test acc:  0.800000011920929 adv acc:  0.38750001788139343\n",
      "round 31 Test acc:  0.8125 adv acc:  0.375\n",
      "round 32 Test acc:  0.8125 adv acc:  0.36250001192092896\n",
      "round 33 Test acc:  0.800000011920929 adv acc:  0.375\n",
      "round 34 Test acc:  0.8125 adv acc:  0.375\n",
      "round 35 Test acc:  0.8125 adv acc:  0.36250001192092896\n",
      "round 36 Test acc:  0.8125 adv acc:  0.375\n",
      "round 37 Test acc:  0.8125 adv acc:  0.375\n",
      "round 38 Test acc:  0.8125 adv acc:  0.36250001192092896\n",
      "++++++++++++++++++++++++++++++\n",
      "Global..\n",
      "Train Loss: 0.122 | Train Acc: 96.768% |Test Loss: 0.591 | Test Acc: 81.256% |\n",
      "++++++++++++++++++++++++++++++++++++++++++++++++++\n",
      "################################################################################\n",
      "round 39 Test acc:  0.8125 adv acc:  0.375\n",
      "round 40 Test acc:  0.8125 adv acc:  0.36250001192092896\n",
      "round 41 Test acc:  0.8125 adv acc:  0.3499999940395355\n",
      "round 42 Test acc:  0.8125 adv acc:  0.375\n",
      "round 43 Test acc:  0.8125 adv acc:  0.3499999940395355\n",
      "round 44 Test acc:  0.8125 adv acc:  0.3375000059604645\n",
      "round 45 Test acc:  0.8125 adv acc:  0.3499999940395355\n",
      "round 46 Test acc:  0.8125 adv acc:  0.36250001192092896\n",
      "round 47 Test acc:  0.800000011920929 adv acc:  0.3499999940395355\n",
      "round 48 Test acc:  0.800000011920929 adv acc:  0.38750001788139343\n",
      "++++++++++++++++++++++++++++++\n",
      "Global..\n",
      "Train Loss: 0.115 | Train Acc: 96.902% |Test Loss: 0.594 | Test Acc: 81.367% |\n",
      "++++++++++++++++++++++++++++++++++++++++++++++++++\n",
      "################################################################################\n",
      "round 49 Test acc:  0.8125 adv acc:  0.3499999940395355\n",
      "Test acc:  0.8125 adv acc:  0.375\n"
     ]
    }
   ],
   "source": [
    "# Perform 50 rounds of full overfitting on benign data on 200R FAT model\n",
    "num_rounds = 50\n",
    "\n",
    "test_acc_gather = []\n",
    "adv_acc_gather = []\n",
    "\n",
    "# Test performance of aggregator on data \n",
    "aggregator.load_state(dir_path = save_path_FAT)\n",
    "aggregator.update_clients()\n",
    "model_FAT = pull_model_from_agg(aggregator)\n",
    "acc, adv_acc = get_adv_acc(aggregator, model_FAT)\n",
    "print(\"Test acc: \", np.mean(acc), \"adv acc: \", np.mean(adv_acc))\n",
    "test_acc_gather+= [np.mean(acc)]\n",
    "adv_acc_gather += [np.mean(adv_acc)]\n",
    "\n",
    "for i in range(num_rounds):\n",
    "    aggregator.mix()\n",
    "    model_overfit = pull_model_from_agg(aggregator)\n",
    "    acc, adv_acc = get_adv_acc(aggregator, model_overfit)\n",
    "    print(\"round\", i,\"Test acc: \", np.mean(acc), \"adv acc: \", np.mean(adv_acc))\n",
    "    test_acc_gather+= [np.mean(acc)]\n",
    "    adv_acc_gather += [np.mean(adv_acc)]\n",
    "aggregator.update_clients()\n",
    "\n",
    "model_overfit = pull_model_from_agg(aggregator)\n",
    "acc, adv_acc = get_adv_acc(aggregator, model_overfit)\n",
    "print(\"Test acc: \", np.mean(acc), \"adv acc: \", np.mean(adv_acc))\n"
   ]
  },
  {
   "cell_type": "code",
   "execution_count": 14,
   "metadata": {},
   "outputs": [
    {
     "data": {
      "image/png": "[encoded data removed]",
      "text/plain": [
       "<Figure size 432x288 with 1 Axes>"
      ]
     },
     "metadata": {
      "needs_background": "light"
     },
     "output_type": "display_data"
    }
   ],
   "source": [
    "import matplotlib.pyplot as plt\n",
    "import numpy as np\n",
    "\n",
    "# Generate some sample data\n",
    "x = range(len(test_acc_gather))  # 100 points from 0 to 10\n",
    "y1 = test_acc_gather               # Sine function for the first line\n",
    "y2 = adv_acc_gather             # Cosine function for the second line\n",
    "\n",
    "# Plotting the lines\n",
    "plt.plot(x, y1, label='Test Acc')\n",
    "plt.plot(x, y2, label='Adv Acc')\n",
    "\n",
    "# Adding labels and title\n",
    "plt.xlabel('Rounds Overfit')\n",
    "plt.ylabel('Accuracy')\n",
    "plt.title('Overfitting on FAT with Benign Data')\n",
    "\n",
    "# Adding a legend\n",
    "plt.legend()\n",
    "\n",
    "# Display the plot\n",
    "plt.show()\n"
   ]
  },
  {
   "cell_type": "code",
   "execution_count": null,
   "metadata": {},
   "outputs": [],
   "source": []
  }
 ],
 "metadata": {
  "kernelspec": {
   "display_name": "FedEM_env",
   "language": "python",
   "name": "python3"
  },
  "language_info": {
   "codemirror_mode": {
    "name": "ipython",
    "version": 3
   },
   "file_extension": ".py",
   "mimetype": "text/x-python",
   "name": "python",
   "nbconvert_exporter": "python",
   "pygments_lexer": "ipython3",
   "version": "3.9.6"
  }
 },
 "nbformat": 4,
 "nbformat_minor": 2
}
