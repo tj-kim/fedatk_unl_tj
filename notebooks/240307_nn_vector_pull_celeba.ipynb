{
 "cells": [
  {
   "cell_type": "markdown",
   "metadata": {},
   "source": [
    "### NN Vector Pull for Direction\n",
    "\n",
    "Mar 07 20232024\n",
    "TJ Kim\n",
    "\n",
    "##### Summary\n",
    "Load any NN model. Obtain layer by layer the unit direction vector (against vector of zeros). See if cosine similarity can be used as a metric to measure direction.\n",
    "\n",
    "Performing for celeba"
   ]
  },
  {
   "cell_type": "code",
   "execution_count": 1,
   "metadata": {},
   "outputs": [
    {
     "name": "stdout",
     "output_type": "stream",
     "text": [
      "/home/ubuntu/fedatk_unl_tj\n"
     ]
    }
   ],
   "source": [
    "cd /home/ubuntu/fedatk_unl_tj/"
   ]
  },
  {
   "cell_type": "code",
   "execution_count": 2,
   "metadata": {},
   "outputs": [],
   "source": [
    "# Import General Libraries\n",
    "import os\n",
    "import argparse\n",
    "import torch\n",
    "import copy\n",
    "import pickle\n",
    "import random\n",
    "import numpy as np\n",
    "import pandas as pd\n",
    "\n",
    "# Import FedEM based Libraries\n",
    "from utils.utils import *\n",
    "from utils.constants import *\n",
    "from utils.args import *\n",
    "from utils.util_notebooks import *\n",
    "from run_experiment import *\n",
    "from models import *\n",
    "\n",
    "# Import Transfer Attack\n",
    "from transfer_attacks.Personalized_NN import *\n",
    "from transfer_attacks.Params import *\n",
    "from transfer_attacks.Transferer import *\n",
    "from transfer_attacks.Args import *\n",
    "from transfer_attacks.TA_utils import *"
   ]
  },
  {
   "cell_type": "code",
   "execution_count": 3,
   "metadata": {},
   "outputs": [
    {
     "name": "stdout",
     "output_type": "stream",
     "text": [
      "==> Clients initialization..\n",
      "===> Building data iterators..\n"
     ]
    },
    {
     "name": "stderr",
     "output_type": "stream",
     "text": [
      " 26%|██▌       | 39/150 [00:00<00:00, 143.46it/s]\n"
     ]
    },
    {
     "name": "stdout",
     "output_type": "stream",
     "text": [
      "===> Initializing clients..\n"
     ]
    },
    {
     "name": "stderr",
     "output_type": "stream",
     "text": [
      "100%|██████████| 40/40 [00:12<00:00,  3.30it/s]\n"
     ]
    }
   ],
   "source": [
    "setting, num_user, experiment  = \"FedAvg_adv\", 40, 'celeba'\n",
    "\n",
    "try: # Skip loading if already loaded\n",
    "    aggregator\n",
    "except:\n",
    "    aggregator, clients, args_ = set_args(setting, num_user, experiment)\n",
    "\n",
    "# Load models for FAT and FedAvg\n",
    "save_path_FAT = 'weights/celeba/240229_LateFAT/FAT/'\n",
    "save_path_FedAvg = 'weights/celeba/240222_FedAvg200round_lr001/fedavg/'\n",
    "\n",
    "model_FAT = copy.deepcopy(import_model_weights(num_user, setting, save_path_FAT, aggregator, args_)[0])\n",
    "model_Fedavg = import_model_weights(num_user, setting, save_path_FedAvg, aggregator, args_)[0]\n"
   ]
  },
  {
   "cell_type": "code",
   "execution_count": 4,
   "metadata": {},
   "outputs": [],
   "source": [
    "# Obtain parameters for each layer\n",
    "params_FAT = model_FAT.state_dict()\n",
    "params_FedAvg = model_Fedavg.state_dict()\n",
    "\n",
    "# Just take the values of weights and bias for the model\n",
    "desired_keys = [key for key in params_FAT.keys() if 'weight' in key or 'bias' in key]"
   ]
  },
  {
   "cell_type": "code",
   "execution_count": 5,
   "metadata": {},
   "outputs": [],
   "source": [
    "# Find mag norm \n",
    "mag_norm_FedAvg2FAT = []\n",
    "for key in desired_keys: #params_FAT:\n",
    "\n",
    "    diff = params_FAT[key] - params_FedAvg[key]\n",
    "    l2_norm = torch.norm(diff, p=2)\n",
    "\n",
    "    mag_norm_FedAvg2FAT += [diff/torch.norm(diff,p=2)]\n"
   ]
  },
  {
   "cell_type": "code",
   "execution_count": 6,
   "metadata": {},
   "outputs": [
    {
     "name": "stdout",
     "output_type": "stream",
     "text": [
      "Test acc:  0.6989255131222307 adv acc:  0.3364627562463284\n",
      "round 0 Test acc:  0.19689020048826933 adv acc:  0.10952647374942899\n",
      "round 1 Test acc:  0.1925666698254645 adv acc:  0.08127941396087408\n",
      "round 2 Test acc:  0.2765735412016511 adv acc:  0.027799020614475013\n",
      "round 3 Test acc:  0.46417158283293247 adv acc:  0.049244119040668013\n",
      "round 4 Test acc:  0.6256147221662104 adv acc:  0.04462745236232877\n",
      "round 5 Test acc:  0.6865647302009166 adv acc:  0.042940197279676795\n",
      "round 6 Test acc:  0.7206804098561406 adv acc:  0.03393137326929718\n",
      "round 7 Test acc:  0.7415627682581544 adv acc:  0.02066568674053997\n",
      "round 8 Test acc:  0.7300225736573338 adv acc:  0.01939117710571736\n",
      "round 9 Test acc:  0.7304843382909894 adv acc:  0.022752941725775598\n",
      "round 10 Test acc:  0.7187970833852887 adv acc:  0.025152941758278757\n",
      "round 11 Test acc:  0.7572735527530312 adv acc:  0.022945098555646838\n",
      "round 12 Test acc:  0.7273059064522386 adv acc:  0.01868235334986821\n",
      "round 13 Test acc:  0.744654924608767 adv acc:  0.016261765104718506\n",
      "round 14 Test acc:  0.7307294385507703 adv acc:  0.026061765430495144\n",
      "round 15 Test acc:  0.7356578635051847 adv acc:  0.014928431704174728\n",
      "round 16 Test acc:  0.7269549259915948 adv acc:  0.02118235338712111\n",
      "round 17 Test acc:  0.7364951247349382 adv acc:  0.021915686945430935\n",
      "round 18 Test acc:  0.7178392412140966 adv acc:  0.02387843212345615\n",
      "round 19 Test acc:  0.726166689582169 adv acc:  0.015541176858823747\n"
     ]
    }
   ],
   "source": [
    "# Perform 50 rounds of full overfitting on benign data on 200R FAT model\n",
    "num_rounds = 20\n",
    "\n",
    "setting = 'FedAvg_adv'\n",
    "\n",
    "test_acc_gather = []\n",
    "adv_acc_gather = []\n",
    "cosine_gather_layers = np.zeros([num_rounds, len(desired_keys)])\n",
    "\n",
    "save_path_FAT150 = save_path_FAT\n",
    "\n",
    "# aggregator, clients, args_ = set_args(setting, num_user)\n",
    "\n",
    "for client in aggregator.clients:\n",
    "    client.dataset_name = experiment\n",
    "\n",
    "# Test performance of aggregator on data \n",
    "aggregator.load_state(dir_path = save_path_FAT150)\n",
    "aggregator.update_clients()\n",
    "model_FAT = pull_model_from_agg(aggregator)\n",
    "model_FAT.eval()\n",
    "acc, adv_acc = get_adv_acc(aggregator, model_FAT)\n",
    "\n",
    "prev_model = copy.deepcopy(model_FAT)\n",
    "\n",
    "print(\"Test acc: \", np.mean(acc), \"adv acc: \", np.mean(adv_acc))\n",
    "test_acc_gather+= [np.mean(acc)]\n",
    "adv_acc_gather += [np.mean(adv_acc)]\n",
    "\n",
    "# Setting evasion attack parameters\n",
    "x_min = torch.min(clients[0].adv_nn.dataloader.x_data)\n",
    "x_max = torch.max(clients[0].adv_nn.dataloader.x_data)\n",
    "atk_params = PGD_Params()\n",
    "atk_params.set_params(batch_size=1, iteration = 10,\n",
    "                target = -1, x_val_min = x_min, x_val_max = x_max,\n",
    "                step_size = 0.05, step_norm = \"inf\", eps = 4.5, eps_norm = 2)\n",
    "\n",
    "\n",
    "for i in range(num_rounds):\n",
    "    # if i%2 == 0:\n",
    "    #     # add adv dataset update\n",
    "    #     G = 0.5\n",
    "    #     Fu = np.ones(num_user) * G\n",
    "\n",
    "    #     # Assign proportion and attack params\n",
    "    #     for c in range(len(clients)):\n",
    "    #         aggregator.clients[c].set_unhard(unhard = True, unharden_portion = 0.5)\n",
    "    #         aggregator.clients[c].set_adv_params(Fu[c], atk_params)\n",
    "    #         aggregator.clients[c].update_advnn()\n",
    "    #         aggregator.clients[c].assign_advdataset()\n",
    "\n",
    "    aggregator.mix()\n",
    "    model_overfit = pull_model_from_agg(aggregator)\n",
    "    model_overfit.eval()\n",
    "    acc, adv_acc = get_adv_acc(aggregator, model_overfit)\n",
    "\n",
    "    diffnn = get_diff_NN(prev_model, model_overfit, desired_keys)\n",
    "\n",
    "    cosine_gather_layers[i,:] = diff_cosine_similarity(diffnn, mag_norm_FedAvg2FAT, len(desired_keys))\n",
    "    print(\"round\", i,\"Test acc: \", np.mean(acc), \"adv acc: \", np.mean(adv_acc))\n",
    "    test_acc_gather+= [np.mean(acc)]\n",
    "    adv_acc_gather += [np.mean(adv_acc)]\n",
    "    prev_model = copy.deepcopy(model_overfit)\n",
    "    # Perform gradient direction gathering\n",
    "\n",
    "\n"
   ]
  },
  {
   "cell_type": "code",
   "execution_count": 7,
   "metadata": {},
   "outputs": [
    {
     "data": {
      "image/png": "[encoded data removed]",
      "text/plain": [
       "<Figure size 432x288 with 1 Axes>"
      ]
     },
     "metadata": {
      "needs_background": "light"
     },
     "output_type": "display_data"
    }
   ],
   "source": [
    "import matplotlib.pyplot as plt\n",
    "import numpy as np\n",
    "\n",
    "# Generate some sample data\n",
    "x = range(len(test_acc_gather))  # 100 points from 0 to 10\n",
    "y1 = test_acc_gather               # Sine function for the first line\n",
    "y2 = adv_acc_gather             # Cosine function for the second line\n",
    "\n",
    "# Plotting the lines\n",
    "# plt.plot(x, y1, label='Test Acc')\n",
    "plt.plot(x, y2, label='Adv Acc')\n",
    "\n",
    "# Adding labels and title\n",
    "plt.xlabel('Rounds Overfit')\n",
    "plt.ylabel('Accuracy')\n",
    "plt.title('Overfitting on FAT with Benign Data')\n",
    "\n",
    "# Adding a legend\n",
    "plt.legend()\n",
    "\n",
    "# Display the plot\n",
    "plt.show()\n"
   ]
  },
  {
   "cell_type": "code",
   "execution_count": 8,
   "metadata": {},
   "outputs": [
    {
     "name": "stderr",
     "output_type": "stream",
     "text": [
      "findfont: Font family ['normal'] not found. Falling back to DejaVu Sans.\n",
      "findfont: Font family ['normal'] not found. Falling back to DejaVu Sans.\n"
     ]
    },
    {
     "data": {
      "image/png": "[encoded data removed]",
      "text/plain": [
       "<Figure size 480x320 with 1 Axes>"
      ]
     },
     "metadata": {
      "needs_background": "light"
     },
     "output_type": "display_data"
    }
   ],
   "source": [
    "np.mean(cosine_gather_layers,axis = 1)\n",
    "\n",
    "import matplotlib.pyplot as plt\n",
    "import numpy as np\n",
    "\n",
    "font = {'family' : 'normal',\n",
    "        'weight' : 'normal',\n",
    "        'size'   : 18}\n",
    "\n",
    "plt.rc('font', **font)\n",
    "plt.figure(dpi=80, figsize=(6,4))\n",
    "\n",
    "# Generate some sample data\n",
    "y1 = np.mean(cosine_gather_layers,axis = 1)\n",
    "x = range(len(y1))  # 100 points from 0 to 10\n",
    "\n",
    "\n",
    "# Plotting the lines\n",
    "plt.plot(x, y1)\n",
    "\n",
    "# Adding labels and title\n",
    "plt.xlabel('Rounds Overfit')\n",
    "plt.ylabel('Cosine Angle of Updates')\n",
    "plt.title('Cosine Angle During Overfitting')\n",
    "\n",
    "# Adding a legend\n",
    "# plt.legend()\n",
    "\n",
    "# Display the plot\n",
    "plt.show()\n"
   ]
  },
  {
   "cell_type": "code",
   "execution_count": 9,
   "metadata": {},
   "outputs": [
    {
     "name": "stdout",
     "output_type": "stream",
     "text": [
      "range(0, 20)\n",
      "[0.13 0.13 0.11 0.10 0.06 0.04 0.04 0.04 0.05 0.04 0.04 0.04 0.04 0.04\n",
      " 0.03 0.03 0.05 0.04 0.04 0.05]\n",
      "[0.3364627562463284, 0.10952647374942899, 0.08127941396087408, 0.027799020614475013, 0.049244119040668013, 0.04462745236232877, 0.042940197279676795, 0.03393137326929718, 0.02066568674053997, 0.01939117710571736, 0.022752941725775598, 0.025152941758278757, 0.022945098555646838, 0.01868235334986821, 0.016261765104718506, 0.026061765430495144, 0.014928431704174728, 0.02118235338712111, 0.021915686945430935, 0.02387843212345615, 0.015541176858823747]\n"
     ]
    }
   ],
   "source": [
    "print(x)\n",
    "print(y1)\n",
    "print(y2)\n"
   ]
  },
  {
   "cell_type": "markdown",
   "metadata": {},
   "source": [
    "Trial 1\n",
    "\n",
    "[0.11 0.12 0.12 0.10 0.09 0.08 0.07 0.07 0.06 0.06 0.07 0.06 0.07 0.05\n",
    " 0.06 0.05 0.06 0.06 0.07 0.06]\n",
    "[0.3100000023841858, 0.27400001883506775, 0.3060000240802765, 0.25600001215934753, 0.25, 0.20400001108646393, 0.21000000834465027, 0.23000000417232513, 0.22600001096725464, 0.19200000166893005, 0.23600001633167267, 0.20000000298023224, 0.23600001633167267, 0.2800000011920929, 0.25, 0.20200000703334808, 0.21000000834465027, 0.23400001227855682, 0.2600000202655792, 0.23000000417232513, 0.1860000044107437]"
   ]
  },
  {
   "cell_type": "code",
   "execution_count": 10,
   "metadata": {},
   "outputs": [
    {
     "data": {
      "text/plain": [
       "array([0.03, 0.03, 0.01, 0.00, 0.00, 0.01, -0.02, -0.03, -0.04, -0.04,\n",
       "       -0.04, -0.04, -0.04, -0.04, -0.04, -0.04, -0.04, -0.04, -0.04,\n",
       "       -0.05])"
      ]
     },
     "execution_count": 10,
     "metadata": {},
     "output_type": "execute_result"
    }
   ],
   "source": [
    "# Get number of params per desired key\n",
    "size = np.zeros(len(desired_keys))\n",
    "i = 0\n",
    "for key in desired_keys:\n",
    "    size[i]=params_FAT[key].flatten().shape[0]\n",
    "    i += 1\n",
    "\n",
    "prop = size/np.sum(size)\n",
    "\n",
    "cosine_propped = np.zeros(cosine_gather_layers.shape)\n",
    "\n",
    "# for t in range(num_rounds):\n",
    "#     cosine_propped[t,:] = np.average(cosine_gather_layers[t,:], weights = prop)\n",
    "\n",
    "np.average(cosine_gather_layers, weights = prop, axis = 1)"
   ]
  },
  {
   "cell_type": "code",
   "execution_count": 11,
   "metadata": {},
   "outputs": [
    {
     "data": {
      "text/plain": [
       "Text(0.5, 1.0, 'Per Layer Cosine Angle Round 1')"
      ]
     },
     "execution_count": 11,
     "metadata": {},
     "output_type": "execute_result"
    },
    {
     "data": {
      "image/png": "[encoded data removed]",
      "text/plain": [
       "<Figure size 480x320 with 1 Axes>"
      ]
     },
     "metadata": {
      "needs_background": "light"
     },
     "output_type": "display_data"
    }
   ],
   "source": [
    "font = {'family' : 'normal',\n",
    "        'weight' : 'normal',\n",
    "        'size'   : 18}\n",
    "\n",
    "plt.rc('font', **font)\n",
    "plt.figure(dpi=80, figsize=(6,4))\n",
    "\n",
    "plt.plot(cosine_gather_layers[0],'.')\n",
    "\n",
    "# Adding labels and title\n",
    "plt.xlabel('MobilenetV2 Layer Index')\n",
    "plt.ylabel('Cosine Angle of Updates')\n",
    "plt.title('Per Layer Cosine Angle Round 1')"
   ]
  },
  {
   "cell_type": "code",
   "execution_count": null,
   "metadata": {},
   "outputs": [],
   "source": []
  }
 ],
 "metadata": {
  "kernelspec": {
   "display_name": "FedEM_env",
   "language": "python",
   "name": "python3"
  },
  "language_info": {
   "codemirror_mode": {
    "name": "ipython",
    "version": 3
   },
   "file_extension": ".py",
   "mimetype": "text/x-python",
   "name": "python",
   "nbconvert_exporter": "python",
   "pygments_lexer": "ipython3",
   "version": "3.9.6"
  }
 },
 "nbformat": 4,
 "nbformat_minor": 2
}
