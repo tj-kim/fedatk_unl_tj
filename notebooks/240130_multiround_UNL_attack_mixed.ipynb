{
 "cells": [
  {
   "cell_type": "markdown",
   "metadata": {},
   "source": [
    "### Multiround UNL Attack Mixed\n",
    "\n",
    "Jan 30 2024\n",
    "TJ Kim\n",
    "\n",
    "##### Summary\n",
    "Load FAT model trained for 150 rounds and for 50 rounds try and inject FedAvg model into the system. Try different scaling rates and spread out the model replacement attack.\n",
    "\n",
    "Doing this for mixed defense aggregation as a comparison plot for icml submission. Rotate randomly through median, tm, and krum"
   ]
  },
  {
   "cell_type": "code",
   "execution_count": 1,
   "metadata": {},
   "outputs": [
    {
     "name": "stdout",
     "output_type": "stream",
     "text": [
      "/home/ubuntu/fedatk_unl_tj\n"
     ]
    }
   ],
   "source": [
    "cd /home/ubuntu/fedatk_unl_tj/"
   ]
  },
  {
   "cell_type": "code",
   "execution_count": 2,
   "metadata": {},
   "outputs": [],
   "source": [
    "# Import General Libraries\n",
    "import os\n",
    "import argparse\n",
    "import torch\n",
    "import copy\n",
    "import pickle\n",
    "import random\n",
    "import numpy as np\n",
    "import pandas as pd\n",
    "\n",
    "# Import FedEM based Libraries\n",
    "from utils.utils import *\n",
    "from utils.constants import *\n",
    "from utils.args import *\n",
    "from utils.util_notebooks import *\n",
    "from run_experiment import *\n",
    "from models import *\n",
    "\n",
    "# Import Transfer Attack\n",
    "from transfer_attacks.Personalized_NN import *\n",
    "from transfer_attacks.Params import *\n",
    "from transfer_attacks.Transferer import *\n",
    "from transfer_attacks.Args import *\n",
    "from transfer_attacks.TA_utils import *"
   ]
  },
  {
   "cell_type": "code",
   "execution_count": 6,
   "metadata": {},
   "outputs": [
    {
     "name": "stdout",
     "output_type": "stream",
     "text": [
      "==> Clients initialization..\n",
      "===> Building data iterators..\n"
     ]
    },
    {
     "name": "stderr",
     "output_type": "stream",
     "text": [
      "100%|██████████| 80/80 [00:00<00:00, 143.73it/s]\n"
     ]
    },
    {
     "name": "stdout",
     "output_type": "stream",
     "text": [
      "===> Initializing clients..\n"
     ]
    },
    {
     "name": "stderr",
     "output_type": "stream",
     "text": [
      "100%|██████████| 80/80 [00:37<00:00,  2.12it/s]\n"
     ]
    },
    {
     "name": "stdout",
     "output_type": "stream",
     "text": [
      "==> Test Clients initialization..\n",
      "===> Building data iterators..\n"
     ]
    },
    {
     "name": "stderr",
     "output_type": "stream",
     "text": [
      "0it [00:00, ?it/s]\n"
     ]
    },
    {
     "name": "stdout",
     "output_type": "stream",
     "text": [
      "===> Initializing clients..\n"
     ]
    },
    {
     "name": "stderr",
     "output_type": "stream",
     "text": [
      "0it [00:00, ?it/s]\n"
     ]
    }
   ],
   "source": [
    "setting, num_user = \"FedAvg_adv\", 40\n",
    "\n",
    "try: # Skip loading if already loaded\n",
    "    aggregator\n",
    "except:\n",
    "    aggregator, clients, args_ = set_args(setting, num_user)\n",
    "\n",
    "# Load models for FAT and FedAvg\n",
    "save_path_FAT = 'weights/cifar10/230922_baseline_train/FAT/'\n",
    "save_path_FedAvg = 'weights/cifar10/230922_baseline_train/fedavg/'\n",
    "\n",
    "model_FAT = copy.deepcopy(import_model_weights(num_user, setting, save_path_FAT, aggregator, args_)[0])\n",
    "model_Fedavg = import_model_weights(num_user, setting, save_path_FedAvg, aggregator, args_)[0]\n"
   ]
  },
  {
   "cell_type": "code",
   "execution_count": 7,
   "metadata": {},
   "outputs": [],
   "source": [
    "# Obtain parameters for each layer\n",
    "params_FAT = model_FAT.state_dict()\n",
    "params_FedAvg = model_Fedavg.state_dict()\n",
    "\n",
    "# Just take the values of weights and bias for the model\n",
    "desired_keys = [key for key in params_FAT.keys() if 'weight' in key or 'bias' in key]"
   ]
  },
  {
   "cell_type": "code",
   "execution_count": 8,
   "metadata": {},
   "outputs": [],
   "source": [
    "# Calculate uploaded model and download to attacker clients in aggregator\n",
    "# Current version working under the assumption of close to convergence (no benign client pushback)\n",
    "def calc_atk_model(model_inject, model_global, keys, weight_scale, weight_scale_2):\n",
    "\n",
    "    atk_model = copy.deepcopy(model_global)\n",
    "    inject_state_dict = model_inject.state_dict(keep_vars=True)\n",
    "    global_state_dict = model_global.state_dict(keep_vars=True)\n",
    "    return_state_dict = atk_model.state_dict(keep_vars=True)\n",
    "    total_weight = weight_scale * weight_scale_2\n",
    "\n",
    "    for key in keys:\n",
    "        diff = inject_state_dict[key].data.clone() - global_state_dict[key].data.clone()\n",
    "        return_state_dict[key].data = total_weight * diff + global_state_dict[key].data.clone()\n",
    "\n",
    "    return atk_model\n",
    "\n",
    "# Clone data from attack model to client model\n",
    "def clone_model_weights(model_source, model_target, keys):\n",
    "    target_state_dict = model_target.state_dict(keep_vars=True)\n",
    "    source_state_dict = model_source.state_dict(keep_vars=True)\n",
    "    \n",
    "    for key in keys:\n",
    "        target_state_dict[key].data = source_state_dict[key].data.clone()\n",
    "\n",
    "    return\n",
    "\n",
    "# Expand aggregator.mix() function\n",
    "def UNL_mix(aggregator, adv_id, model_inject, keys, weight_scale_2, dump_flag=False, aggregation_op = None, tm_beta = 0.05):\n",
    "    weight_scale = 1/aggregator.clients_weights\n",
    "    model_global = aggregator.global_learners_ensemble[0].model\n",
    "\n",
    "    if aggregation_op == None:\n",
    "        aggregation_op = aggregator.aggregation_op\n",
    "        \n",
    "    # Based on aggregation methods change weight scale\n",
    "    if aggregation_op == \"median\" or aggregation_op == \"krum\":\n",
    "        weight_scale = np.ones(weight_scale.shape)\n",
    "\n",
    "\n",
    "\n",
    "    # Give adversarial clients boosted models and train regular clients 1 round\n",
    "    benign_id = list(range(len(aggregator.clients)))\n",
    "    for a_id in adv_id:\n",
    "        benign_id.remove(a_id)\n",
    "        temp_atk_model = calc_atk_model(model_inject, model_global, keys, weight_scale[a_id], weight_scale_2)\n",
    "        aggregator.clients[a_id].learners_ensemble[0].model = copy.deepcopy(temp_atk_model)\n",
    "\n",
    "    for c_id in benign_id:\n",
    "        aggregator.clients[c_id].step()\n",
    "\n",
    "    # Aggregate model and download\n",
    "    for learner_id, learner in enumerate(aggregator.global_learners_ensemble):\n",
    "        learners = [client.learners_ensemble[learner_id] for client in aggregator.clients]\n",
    "        if aggregation_op is None:\n",
    "            average_learners(learners, learner, weights=aggregator.clients_weights)\n",
    "        elif aggregation_op == 'median':\n",
    "            dump_path = (\n",
    "                os.path.join(aggregator.dump_path, f\"round{aggregator.c_round}_median.pkl\") \n",
    "                if dump_flag\n",
    "                else None\n",
    "            )\n",
    "            byzantine_robust_aggregate_median(\n",
    "                learners, \n",
    "                learner, \n",
    "                dump_path=dump_path\n",
    "            )\n",
    "        elif aggregation_op == 'trimmed_mean':\n",
    "            dump_path = (\n",
    "                os.path.join(aggregator.dump_path, f\"round{aggregator.c_round}_tm.pkl\")\n",
    "                if dump_flag\n",
    "                else None\n",
    "            )\n",
    "            byzantine_robust_aggregate_tm(\n",
    "                learners, \n",
    "                learner, \n",
    "                beta=tm_beta, \n",
    "                dump_path=dump_path\n",
    "            )\n",
    "        elif aggregation_op == 'krum':\n",
    "            dump_path = (\n",
    "                os.path.join(aggregator.dump_path, f\"round{aggregator.c_round}_krum.pkl\")\n",
    "                if dump_flag\n",
    "                else None\n",
    "            )\n",
    "            byzantine_robust_aggregate_krum(\n",
    "                learners, \n",
    "                learner, \n",
    "                dump_path=dump_path\n",
    "            )\n",
    "        elif aggregation_op == 'krum_modelwise':\n",
    "            dump_path = (\n",
    "                os.path.join(aggregator.dump_path, f\"round{aggregator.c_round}_krum_modelwise.pkl\")\n",
    "                if dump_flag\n",
    "                else None\n",
    "            )\n",
    "            byzantine_robust_aggregate_krum_modelwise(\n",
    "                1,\n",
    "                learners,\n",
    "                learner,\n",
    "                dump_path=dump_path\n",
    "            )\n",
    "        else:\n",
    "            raise NotImplementedError\n",
    "\n",
    "\n",
    "    # assign the updated model to all clients\n",
    "    aggregator.update_clients()\n",
    "\n",
    "    aggregator.c_round += 1\n",
    "\n",
    "    # if aggregator.c_round % aggregator.log_freq == 0:\n",
    "    #     aggregator.write_logs()\n",
    "    return "
   ]
  },
  {
   "cell_type": "code",
   "execution_count": 44,
   "metadata": {},
   "outputs": [
    {
     "name": "stdout",
     "output_type": "stream",
     "text": [
      "==> Clients initialization..\n",
      "===> Building data iterators..\n"
     ]
    },
    {
     "name": "stderr",
     "output_type": "stream",
     "text": [
      "100%|██████████| 80/80 [00:00<00:00, 225.35it/s]\n"
     ]
    },
    {
     "name": "stdout",
     "output_type": "stream",
     "text": [
      "===> Initializing clients..\n"
     ]
    },
    {
     "name": "stderr",
     "output_type": "stream",
     "text": [
      "100%|██████████| 80/80 [00:30<00:00,  2.58it/s]\n"
     ]
    },
    {
     "name": "stdout",
     "output_type": "stream",
     "text": [
      "==> Test Clients initialization..\n",
      "===> Building data iterators..\n"
     ]
    },
    {
     "name": "stderr",
     "output_type": "stream",
     "text": [
      "0it [00:00, ?it/s]\n"
     ]
    },
    {
     "name": "stdout",
     "output_type": "stream",
     "text": [
      "===> Initializing clients..\n"
     ]
    },
    {
     "name": "stderr",
     "output_type": "stream",
     "text": [
      "0it [00:00, ?it/s]\n"
     ]
    },
    {
     "name": "stdout",
     "output_type": "stream",
     "text": [
      "updating adv data set\n",
      "Test acc:  0.7950000122189522 adv acc:  0.3375000063329935\n",
      "round 0 Test acc:  0.8046875104308129 adv acc:  0.3425000045448542\n",
      "round 1 Test acc:  0.7421875163912773 adv acc:  0.20937500502914191\n",
      "round 2 Test acc:  0.6928125113248825 adv acc:  0.09437500208150595\n",
      "round 3 Test acc:  0.6603125102818013 adv acc:  0.03343750066123903\n",
      "round 4 Test acc:  0.7434375166893006 adv acc:  0.04406250077299774\n",
      "round 5 Test acc:  0.7978125110268592 adv acc:  0.05281250067055225\n",
      "round 6 Test acc:  0.8178125083446502 adv acc:  0.05093750096857548\n",
      "round 7 Test acc:  0.8296875119209289 adv acc:  0.04812500120606274\n",
      "round 8 Test acc:  0.8296875119209289 adv acc:  0.04843750095460564\n",
      "round 9 Test acc:  0.8362500131130218 adv acc:  0.04625000092200935\n",
      "round 10 Test acc:  0.846562510728836 adv acc:  0.040625000605359674\n",
      "round 11 Test acc:  0.8303125098347663 adv acc:  0.0421875006519258\n",
      "round 12 Test acc:  0.825000011920929 adv acc:  0.024687500414438547\n",
      "round 13 Test acc:  0.8525000125169754 adv acc:  0.02468750048428774\n",
      "round 14 Test acc:  0.8431250154972076 adv acc:  0.024062500498257578\n",
      "round 15 Test acc:  0.8296875104308128 adv acc:  0.015312500321306289\n",
      "round 16 Test acc:  0.8331250116229058 adv acc:  0.012812500307336449\n",
      "round 17 Test acc:  0.842187511920929 adv acc:  0.01343750029336661\n",
      "round 18 Test acc:  0.842187513411045 adv acc:  0.010000000218860805\n",
      "round 19 Test acc:  0.8546875149011612 adv acc:  0.0071875001303851604\n",
      "round 20 Test acc:  0.8500000149011612 adv acc:  0.009687500144354998\n",
      "round 21 Test acc:  0.8493750110268593 adv acc:  0.01031250017695129\n",
      "round 22 Test acc:  0.8484375074505806 adv acc:  0.008750000153668225\n",
      "round 23 Test acc:  0.8490625128149987 adv acc:  0.008750000153668225\n",
      "round 24 Test acc:  0.8575000122189522 adv acc:  0.0068750001024454836\n",
      "round 25 Test acc:  0.8446875080466271 adv acc:  0.008125000190921128\n",
      "round 26 Test acc:  0.8500000163912773 adv acc:  0.004062500060535967\n",
      "round 27 Test acc:  0.8471875086426734 adv acc:  0.004062500060535967\n",
      "round 28 Test acc:  0.8512500151991844 adv acc:  0.005937500111758709\n",
      "round 29 Test acc:  0.8478125095367431 adv acc:  0.00437500006519258\n",
      "Test acc:  0.7906250104308128 adv acc:  0.33375000581145287\n",
      "round 0 Test acc:  0.8046875089406967 adv acc:  0.3431250065565109\n",
      "round 1 Test acc:  0.8156250149011612 adv acc:  0.3337500050663948\n",
      "round 2 Test acc:  0.8006250128149986 adv acc:  0.3300000071525574\n",
      "round 3 Test acc:  0.8100000113248825 adv acc:  0.32093750722706316\n",
      "round 4 Test acc:  0.8093750163912773 adv acc:  0.31218750812113283\n",
      "round 5 Test acc:  0.8084375083446502 adv acc:  0.3131250038743019\n",
      "round 6 Test acc:  0.8121875107288361 adv acc:  0.3168750051409006\n",
      "round 7 Test acc:  0.8128125041723251 adv acc:  0.3012500062584877\n",
      "round 8 Test acc:  0.8121875122189521 adv acc:  0.30812500678002835\n",
      "round 9 Test acc:  0.8159375086426734 adv acc:  0.3081250064074993\n",
      "round 10 Test acc:  0.805312517285347 adv acc:  0.3084375075995922\n",
      "round 11 Test acc:  0.8121875062584877 adv acc:  0.302500007301569\n",
      "round 12 Test acc:  0.8075000122189522 adv acc:  0.2893750049173832\n",
      "round 13 Test acc:  0.8168750137090683 adv acc:  0.28531250543892384\n",
      "round 14 Test acc:  0.8156250089406967 adv acc:  0.2821875046938658\n",
      "round 15 Test acc:  0.8171875089406967 adv acc:  0.2781250042840838\n",
      "round 16 Test acc:  0.8196875065565109 adv acc:  0.27187500335276127\n",
      "round 17 Test acc:  0.8168750107288361 adv acc:  0.24750000312924386\n",
      "round 18 Test acc:  0.8143750101327896 adv acc:  0.2575000062584877\n",
      "round 19 Test acc:  0.8281250104308129 adv acc:  0.2518750041723251\n",
      "round 20 Test acc:  0.8271875128149986 adv acc:  0.25093750581145285\n",
      "round 21 Test acc:  0.825000011920929 adv acc:  0.25062500350177286\n",
      "round 22 Test acc:  0.8256250143051147 adv acc:  0.24562500603497028\n",
      "round 23 Test acc:  0.8250000134110451 adv acc:  0.25156250335276126\n",
      "round 24 Test acc:  0.8109375104308129 adv acc:  0.2346875049173832\n",
      "round 25 Test acc:  0.8175000160932541 adv acc:  0.22437500357627868\n",
      "round 26 Test acc:  0.821562510728836 adv acc:  0.21031250543892382\n",
      "round 27 Test acc:  0.8168750092387199 adv acc:  0.2171875037252903\n",
      "round 28 Test acc:  0.8262500062584877 adv acc:  0.2118750035762787\n",
      "round 29 Test acc:  0.8275000140070915 adv acc:  0.20687500331550837\n",
      "Test acc:  0.8084375128149986 adv acc:  0.3493750050663948\n",
      "round 0 Test acc:  0.8050000086426735 adv acc:  0.34687500856816766\n",
      "round 1 Test acc:  0.786875008046627 adv acc:  0.26625000685453415\n",
      "round 2 Test acc:  0.7075000092387199 adv acc:  0.16031250283122062\n",
      "round 3 Test acc:  0.6325000077486038 adv acc:  0.08593750116415322\n",
      "round 4 Test acc:  0.6075000122189522 adv acc:  0.04906250091735274\n",
      "round 5 Test acc:  0.5725000113248825 adv acc:  0.034062500670552255\n",
      "round 6 Test acc:  0.568750011920929 adv acc:  0.029062500619329513\n",
      "round 7 Test acc:  0.5693750143051147 adv acc:  0.024375000479631127\n",
      "round 8 Test acc:  0.568750011920929 adv acc:  0.022812500479631126\n",
      "round 9 Test acc:  0.5703125111758709 adv acc:  0.017500000330619513\n",
      "round 10 Test acc:  0.5793750122189522 adv acc:  0.015000000293366612\n",
      "round 11 Test acc:  0.6015625089406967 adv acc:  0.013125000265426933\n",
      "round 12 Test acc:  0.6521875113248825 adv acc:  0.0068750001024454836\n",
      "round 13 Test acc:  0.6690625131130219 adv acc:  0.0062500000931322575\n",
      "round 14 Test acc:  0.6640625149011612 adv acc:  0.0065625000977888705\n",
      "round 15 Test acc:  0.6750000089406967 adv acc:  0.0034375000512227418\n",
      "round 16 Test acc:  0.6737500131130219 adv acc:  0.00437500006519258\n",
      "round 17 Test acc:  0.6618750110268593 adv acc:  0.002500000037252903\n",
      "round 18 Test acc:  0.6981250151991845 adv acc:  0.003437500074505806\n",
      "round 19 Test acc:  0.6896875157952309 adv acc:  0.00218750003259629\n",
      "round 20 Test acc:  0.7043750062584877 adv acc:  0.002500000037252903\n",
      "round 21 Test acc:  0.7096875116229058 adv acc:  0.00218750003259629\n",
      "round 22 Test acc:  0.7006250128149987 adv acc:  0.002500000037252903\n",
      "round 23 Test acc:  0.7209375113248825 adv acc:  0.00218750003259629\n",
      "round 24 Test acc:  0.7156250104308128 adv acc:  0.00218750003259629\n",
      "round 25 Test acc:  0.706562516093254 adv acc:  0.0009375000139698386\n",
      "round 26 Test acc:  0.7165625110268593 adv acc:  0.0009375000139698386\n",
      "round 27 Test acc:  0.7125000074505806 adv acc:  0.0015625000232830644\n",
      "round 28 Test acc:  0.7078125104308128 adv acc:  0.0015625000232830644\n",
      "round 29 Test acc:  0.7112500160932541 adv acc:  0.0006250000093132258\n"
     ]
    }
   ],
   "source": [
    "num_aru = [5,10,20]\n",
    "beta_params = [0.05,0.20,0.25]\n",
    "weight2_list = [0.3,0.3,0.2]\n",
    "num_rounds = 30\n",
    "\n",
    "agg_options = [\"trimmed_mean\", \"median\", \"krum\"]\n",
    "\n",
    "result_list = []\n",
    "for itt in range(len(num_aru)):\n",
    "    result_list += [{}]\n",
    "\n",
    "setting, num_user = \"FedAvg_adv\", 40\n",
    "save_path_FedAvg_150R = 'weights/cifar10/231031_FAT150round/FAT'\n",
    "aggregator, clients, args_ = set_args(setting, num_user)\n",
    "\n",
    "agg_choice = random.choices(range(3),k=num_rounds)\n",
    "\n",
    "if True:\n",
    "    print(\"updating adv data set\")\n",
    "    # add adv dataset update\n",
    "    Fu = np.zeros(num_user)\n",
    "    Fu[0:10] = 1\n",
    "\n",
    "    # Setting evasion attack parameters\n",
    "    x_min = torch.min(clients[0].adv_nn.dataloader.x_data)\n",
    "    x_max = torch.max(clients[0].adv_nn.dataloader.x_data)\n",
    "    atk_params = PGD_Params()\n",
    "    atk_params.set_params(batch_size=1, iteration = 10,\n",
    "                    target = -1, x_val_min = x_min, x_val_max = x_max,\n",
    "                    step_size = 0.05, step_norm = \"inf\", eps = 4.5, eps_norm = 2)\n",
    "\n",
    "    # Assign proportion and attack params\n",
    "    for c in range(len(clients)):\n",
    "        if Fu[c] > 0:\n",
    "            aggregator.clients[c].set_adv_params(Fu[c], atk_params)\n",
    "            aggregator.clients[c].update_advnn()\n",
    "            aggregator.clients[c].assign_advdataset()\n",
    "\n",
    "for itt in range(len(beta_params)):\n",
    "    # Perform 50 rounds of FAT on FedAvg model \n",
    "    num_adv = num_aru[itt]\n",
    "    weight2 = 1/num_adv * weight2_list[itt]\n",
    "    adv_id = random.sample(range(10,num_user), num_adv) # excluding 0-9 as Fu = 1\n",
    "    beta = beta_params[itt]\n",
    "\n",
    "    test_acc_gather = []\n",
    "    adv_acc_gather = []\n",
    "    test_acc_std = []\n",
    "    adv_acc_std = []\n",
    "    cosine_gather_layers = np.zeros([num_rounds, len(desired_keys)])\n",
    "\n",
    "    aggregator.tm_rate = beta\n",
    "\n",
    "    # Test performance of aggregator on data \n",
    "    aggregator.load_state(dir_path = save_path_FedAvg_150R)\n",
    "    aggregator.update_clients()\n",
    "    model_FA = pull_model_from_agg(aggregator)\n",
    "    model_FA.eval()\n",
    "    acc, adv_acc = get_adv_acc(aggregator, model_FA)\n",
    "\n",
    "    prev_model = copy.deepcopy(model_FA)\n",
    "\n",
    "    print(\"Test acc: \", np.mean(acc), \"adv acc: \", np.mean(adv_acc))\n",
    "    test_acc_gather+= [np.mean(acc)]\n",
    "    adv_acc_gather += [np.mean(adv_acc)]\n",
    "    test_acc_std += [np.std(acc)]\n",
    "    adv_acc_std += [np.std(adv_acc)]\n",
    "\n",
    "\n",
    "\n",
    "    for i in range(num_rounds):\n",
    "\n",
    "        # Per round Freq\n",
    "        aggregator.aggregation_op = agg_options[agg_choice[i]]\n",
    "\n",
    "        # aggregator.mix()\n",
    "        UNL_mix(aggregator, adv_id, model_inject = model_Fedavg, keys = desired_keys, weight_scale_2 = weight2, dump_flag=False, tm_beta=beta)\n",
    "        model_overfit = pull_model_from_agg(aggregator)\n",
    "        model_overfit.eval()\n",
    "        acc, adv_acc = get_adv_acc(aggregator, model_overfit)\n",
    "\n",
    "        print(\"round\", i,\"Test acc: \", np.mean(acc), \"adv acc: \", np.mean(adv_acc))\n",
    "        test_acc_gather+= [np.mean(acc)]\n",
    "        adv_acc_gather += [np.mean(adv_acc)]\n",
    "        test_acc_std += [np.std(acc)]\n",
    "        adv_acc_std += [np.std(adv_acc)]\n",
    "        prev_model = copy.deepcopy(model_overfit)\n",
    "\n",
    "        result_list[itt]['test_acc'] = copy.deepcopy(test_acc_gather)\n",
    "        result_list[itt]['adv_acc'] = copy.deepcopy(adv_acc_gather)\n",
    "        result_list[itt]['test_std'] = copy.deepcopy(test_acc_std)\n",
    "        result_list[itt]['adv_std'] = copy.deepcopy(adv_acc_std)\n",
    "        result_list[itt]['num_clients'] = num_adv\n",
    "        result_list[itt]['beta'] = beta\n",
    "        result_list[itt]['weight2'] = weight2_list[itt]\n",
    "        # Perform gradient direction gathering\n",
    "\n",
    "    "
   ]
  },
  {
   "cell_type": "code",
   "execution_count": 46,
   "metadata": {},
   "outputs": [],
   "source": [
    "import pickle\n",
    "\n",
    "a = result_list\n",
    "\n",
    "with open('saved_results/mixed_sweep/240131_03_harder.pk', 'wb') as handle:\n",
    "    pickle.dump(a, handle, protocol=pickle.HIGHEST_PROTOCOL)"
   ]
  },
  {
   "cell_type": "code",
   "execution_count": 42,
   "metadata": {},
   "outputs": [],
   "source": [
    "# load relevant information and plot \n",
    "plot_settings = [[5,0.5],[10,0.5],[20,0.5]] # [num_aru, scale]\n",
    "\n",
    "adv_acc_plotter1 = []\n",
    "adv_std_plotter1 = []\n",
    "\n",
    "# LINE NO 1\n",
    "with open('saved_results/mixed_sweep/240130_01.pk', 'rb') as handle:\n",
    "    loaded = pickle.load(handle)\n",
    "adv_acc_plotter1 += [loaded[0][\"adv_acc\"]]\n",
    "adv_std_plotter1 += [loaded[0][\"adv_std\"]]\n",
    "\n",
    "# line no 2\n",
    "adv_acc_plotter1 += [loaded[1][\"adv_acc\"]]\n",
    "adv_std_plotter1 += [loaded[1][\"adv_std\"]]\n",
    "\n",
    "# line no 3\n",
    "adv_acc_plotter1 += [loaded[2][\"adv_acc\"]]\n",
    "adv_std_plotter1 += [loaded[2][\"adv_std\"]]\n",
    "\n",
    "adv_acc_plotter2 = []\n",
    "adv_std_plotter2 = []\n",
    "\n",
    "# LINE NO 1\n",
    "with open('saved_results/mixed_sweep/240131_01.pk', 'rb') as handle:\n",
    "    loaded = pickle.load(handle)\n",
    "adv_acc_plotter2 += [loaded[0][\"adv_acc\"]]\n",
    "adv_std_plotter2 += [loaded[0][\"adv_std\"]]\n",
    "\n",
    "# line no 2\n",
    "adv_acc_plotter2 += [loaded[1][\"adv_acc\"]]\n",
    "adv_std_plotter2 += [loaded[1][\"adv_std\"]]\n",
    "\n",
    "# line no 3\n",
    "adv_acc_plotter2 += [loaded[2][\"adv_acc\"]]\n",
    "adv_std_plotter2 += [loaded[2][\"adv_std\"]]\n",
    "\n",
    "adv_acc_plotter3 = []\n",
    "adv_std_plotter3 = []\n",
    "\n",
    "# LINE NO 1\n",
    "with open('saved_results/mixed_sweep/240131_02.pk', 'rb') as handle:\n",
    "    loaded = pickle.load(handle)\n",
    "adv_acc_plotter3 += [loaded[0][\"adv_acc\"]]\n",
    "adv_std_plotter3 += [loaded[0][\"adv_std\"]]\n",
    "\n",
    "# line no 2\n",
    "adv_acc_plotter3 += [loaded[1][\"adv_acc\"]]\n",
    "adv_std_plotter3 += [loaded[1][\"adv_std\"]]\n",
    "\n",
    "# line no 3\n",
    "adv_acc_plotter3 += [loaded[2][\"adv_acc\"]]\n",
    "adv_std_plotter3 += [loaded[2][\"adv_std\"]]\n",
    "\n",
    "\n",
    "adv_acc_plotter = []\n",
    "adv_std_plotter = []\n",
    "\n",
    "for i in range(len(adv_std_plotter2)):\n",
    "    appended = np.zeros([3,len(adv_acc_plotter2[i])])\n",
    "    appended[0], appended[1], appended[2]  = adv_acc_plotter1[i], adv_acc_plotter2[i],adv_acc_plotter3[i]\n",
    "    adv_acc_plotter += [np.mean(appended,axis=0)]\n",
    "\n",
    "    appended = np.zeros([3,len(adv_std_plotter2[i])])\n",
    "    appended[0], appended[1],  appended[2]  = adv_std_plotter1[i], adv_std_plotter2[i], adv_std_plotter3[i]\n",
    "    adv_std_plotter += [np.mean(appended,axis=0)]\n"
   ]
  },
  {
   "cell_type": "code",
   "execution_count": 37,
   "metadata": {},
   "outputs": [
    {
     "data": {
      "text/plain": [
       "[array([0.07, 0.06, 0.04, 0.03, 0.03, 0.02, 0.03, 0.02, 0.02, 0.02, 0.02,\n",
       "        0.02, 0.02, 0.02, 0.01, 0.01, 0.01, 0.01, 0.01, 0.01, 0.01, 0.01,\n",
       "        0.00, 0.00, 0.01, 0.00, 0.00, 0.00, 0.00, 0.00, 0.00]),\n",
       " array([0.09, 0.04, 0.01, 0.01, 0.02, 0.02, 0.02, 0.02, 0.01, 0.01, 0.01,\n",
       "        0.01, 0.01, 0.01, 0.00, 0.00, 0.00, 0.00, 0.00, 0.00, 0.00, 0.00,\n",
       "        0.00, 0.00, 0.00, 0.00, 0.00, 0.00, 0.00, 0.00, 0.00]),\n",
       " array([0.08, 0.04, 0.01, 0.00, 0.00, 0.00, 0.00, 0.00, 0.00, 0.00, 0.00,\n",
       "        0.00, 0.00, 0.00, 0.00, 0.00, 0.00, 0.00, 0.00, 0.00, 0.00, 0.00,\n",
       "        0.00, 0.00, 0.00, 0.00, 0.00, 0.00, 0.00, 0.00, 0.00])]"
      ]
     },
     "execution_count": 37,
     "metadata": {},
     "output_type": "execute_result"
    }
   ],
   "source": [
    "adv_std_plotter"
   ]
  },
  {
   "cell_type": "code",
   "execution_count": 49,
   "metadata": {},
   "outputs": [
    {
     "data": {
      "image/png": "[encoded data removed]",
      "text/plain": [
       "<Figure size 480x320 with 1 Axes>"
      ]
     },
     "metadata": {
      "needs_background": "light"
     },
     "output_type": "display_data"
    }
   ],
   "source": [
    "import matplotlib.pyplot as plt\n",
    "import numpy as np\n",
    "\n",
    "font = {'family' : 'normal',\n",
    "        'weight' : 'normal',\n",
    "        'size'   : 18}\n",
    "\n",
    "plt.rc('font', **font)\n",
    "plt.figure(dpi=80, figsize=(6,4))\n",
    "\n",
    "plot_settings = [[5,0.05,0.3],[10,0.2, 0.3],[20,0.25, 0.2]]\n",
    "\n",
    "num_aru = [5,10,20]\n",
    "beta_params = [0.05,0.20,0.25]\n",
    "weight2_list = [0.3,0.3,0.2]\n",
    "\n",
    "# Generate some sample data\n",
    "x = range(len(adv_acc_plotter[0]))  # 100 points from 0 to 10\n",
    "\n",
    "# Plotting the lines\n",
    "# plt.plot(x, y1, label='Test Acc')\n",
    "label_list = plot_settings\n",
    "for i in range(len(label_list)):\n",
    "    y = np.array(result_list[i]['adv_acc'])\n",
    "    error = np.array(result_list[i]['adv_std'])\n",
    "    plt.plot(x, y, label= str(label_list[i]))\n",
    "    plt.fill_between(x, y-error, y+error,\n",
    "    alpha=0.2)\n",
    "\n",
    "# Adding labels and title\n",
    "plt.xlabel('Injection Rounds')\n",
    "plt.ylabel('Adv. Acc. (Robustness)')\n",
    "plt.title('ARU vs Mixed Defenses \\n Legend - [#ARU client, tm_param, scale]', fontsize = 'medium')\n",
    "\n",
    "# Adding a legend\n",
    "plt.legend( loc=1, fontsize='small')\n",
    "\n",
    "\n",
    "# Display the plot\n",
    "plt.show()\n"
   ]
  },
  {
   "cell_type": "code",
   "execution_count": null,
   "metadata": {},
   "outputs": [],
   "source": []
  }
 ],
 "metadata": {
  "kernelspec": {
   "display_name": "FedEM_env",
   "language": "python",
   "name": "python3"
  },
  "language_info": {
   "codemirror_mode": {
    "name": "ipython",
    "version": 3
   },
   "file_extension": ".py",
   "mimetype": "text/x-python",
   "name": "python",
   "nbconvert_exporter": "python",
   "pygments_lexer": "ipython3",
   "version": "3.9.6"
  }
 },
 "nbformat": 4,
 "nbformat_minor": 2
}
