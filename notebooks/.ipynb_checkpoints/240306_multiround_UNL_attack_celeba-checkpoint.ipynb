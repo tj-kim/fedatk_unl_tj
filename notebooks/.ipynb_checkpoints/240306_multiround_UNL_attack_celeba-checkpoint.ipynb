{
 "cells": [
  {
   "cell_type": "markdown",
   "metadata": {},
   "source": [
    "### Multiround UNL Attack \n",
    "\n",
    "March 6 2024\n",
    "TJ Kim\n",
    "\n",
    "##### Summary\n",
    "Load FAT model trained for 150 rounds and for 50 rounds try and inject FedAvg model into the system. Try different scaling rates and spread out the model replacement attack.\n",
    "\n",
    "Copying CIFAR-10 for CELEBA data set -- expect things to go wrong initially due to results in celeba alpha line experiments."
   ]
  },
  {
   "cell_type": "code",
   "execution_count": 1,
   "metadata": {},
   "outputs": [
    {
     "name": "stdout",
     "output_type": "stream",
     "text": [
      "/home/ubuntu/fedatk_unl_tj\n"
     ]
    }
   ],
   "source": [
    "cd /home/ubuntu/fedatk_unl_tj/"
   ]
  },
  {
   "cell_type": "code",
   "execution_count": 2,
   "metadata": {},
   "outputs": [],
   "source": [
    "# Import General Libraries\n",
    "import os\n",
    "import argparse\n",
    "import torch\n",
    "import copy\n",
    "import pickle\n",
    "import random\n",
    "import numpy as np\n",
    "import pandas as pd\n",
    "\n",
    "# Import FedEM based Libraries\n",
    "from utils.utils import *\n",
    "from utils.constants import *\n",
    "from utils.args import *\n",
    "from utils.util_notebooks import *\n",
    "from run_experiment import *\n",
    "from models import *\n",
    "\n",
    "# Import Transfer Attack\n",
    "from transfer_attacks.Personalized_NN import *\n",
    "from transfer_attacks.Params import *\n",
    "from transfer_attacks.Transferer import *\n",
    "from transfer_attacks.Args import *\n",
    "from transfer_attacks.TA_utils import *"
   ]
  },
  {
   "cell_type": "code",
   "execution_count": 3,
   "metadata": {},
   "outputs": [
    {
     "name": "stdout",
     "output_type": "stream",
     "text": [
      "==> Clients initialization..\n",
      "===> Building data iterators..\n"
     ]
    },
    {
     "name": "stderr",
     "output_type": "stream",
     "text": [
      " 26%|█████████████████████████████████▊                                                                                                | 39/150 [00:00<00:01, 108.68it/s]\n"
     ]
    },
    {
     "name": "stdout",
     "output_type": "stream",
     "text": [
      "===> Initializing clients..\n"
     ]
    },
    {
     "name": "stderr",
     "output_type": "stream",
     "text": [
      "100%|████████████████████████████████████████████████████████████████████████████████████████████████████████████████████████████████████| 40/40 [00:05<00:00,  7.96it/s]\n"
     ]
    }
   ],
   "source": [
    "setting, num_user, experiment = \"FedAvg_adv\", 40, 'celeba'\n",
    "\n",
    "try: # Skip loading if already loaded\n",
    "    aggregator\n",
    "except:\n",
    "    aggregator, clients, args_ = set_args(setting, num_user, experiment)\n",
    "\n",
    "for client in aggregator.clients:\n",
    "    client.dataset_name = experiment\n",
    "\n",
    "# Load models for FAT and FedAvg\n",
    "save_path_FAT = 'weights/celeba/240311_small_architecture_moreconv/FAT/'\n",
    "save_path_FedAvg = 'weights/celeba/240311_small_architecture_moreconv/FedAvg/'\n",
    "\n",
    "model_FAT = copy.deepcopy(import_model_weights(num_user, setting, save_path_FAT, aggregator, args_)[0])\n",
    "model_Fedavg = import_model_weights(num_user, setting, save_path_FedAvg, aggregator, args_)[0]\n"
   ]
  },
  {
   "cell_type": "code",
   "execution_count": 4,
   "metadata": {},
   "outputs": [],
   "source": [
    "# Obtain parameters for each layer\n",
    "params_FAT = model_FAT.state_dict()\n",
    "params_FedAvg = model_Fedavg.state_dict()\n",
    "\n",
    "# Just take the values of weights and bias for the model\n",
    "desired_keys = [key for key in params_FAT.keys() if 'weight' in key or 'bias' in key]"
   ]
  },
  {
   "cell_type": "code",
   "execution_count": 5,
   "metadata": {},
   "outputs": [],
   "source": [
    "# copy model_FedAvg batch norm info to model_FAT \n",
    "def copy_batchnorm_layers(source_model, target_model):\n",
    "    params_target = target_model.state_dict()\n",
    "    params_source = source_model.state_dict()\n",
    "\n",
    "    new_model = copy.deepcopy(target_model)\n",
    "    new_model.eval()\n",
    "    new_weight_dict = copy.deepcopy(params_target)\n",
    "    for key in params_target:\n",
    "        if \"bn\" in key:\n",
    "            new_weight_dict[key] = params_source[key]\n",
    "\n",
    "\n",
    "    new_model.load_state_dict(new_weight_dict)\n",
    "    return new_model\n"
   ]
  },
  {
   "cell_type": "code",
   "execution_count": 6,
   "metadata": {},
   "outputs": [],
   "source": [
    "# Find mag norm \n",
    "mag_norm_FAT2FedAvg = []\n",
    "for key in desired_keys: #params_FAT:\n",
    "\n",
    "    diff =  params_FAT[key] - params_FedAvg[key]\n",
    "    l2_norm = torch.norm(diff, p=2)\n",
    "\n",
    "    mag_norm_FAT2FedAvg += [diff/torch.norm(diff,p=2)]\n"
   ]
  },
  {
   "cell_type": "code",
   "execution_count": 7,
   "metadata": {},
   "outputs": [
    {
     "name": "stdout",
     "output_type": "stream",
     "text": [
      "updating adv data set\n",
      "Test acc:  0.6526568761095405 adv acc:  0.41476569809019564\n",
      "round 0 Test acc:  0.706655902788043 adv acc:  0.1127284349873662\n",
      "round 1 Test acc:  0.7528911959379911 adv acc:  0.2808686367236078\n",
      "round 2 Test acc:  0.7297127682715654 adv acc:  0.11704412158578634\n",
      "round 3 Test acc:  0.7195804182440042 adv acc:  0.23058824157342314\n",
      "round 4 Test acc:  0.7572902180254459 adv acc:  0.11169510139152408\n",
      "round 5 Test acc:  0.7548088485375046 adv acc:  0.15185294542461633\n",
      "round 6 Test acc:  0.7568872755393385 adv acc:  0.15686078919097782\n",
      "round 7 Test acc:  0.7410294348374009 adv acc:  0.13837059224024414\n",
      "round 8 Test acc:  0.750970614887774 adv acc:  0.16006177021190524\n",
      "round 9 Test acc:  0.7319666909053921 adv acc:  0.14019902385771274\n",
      "round 10 Test acc:  0.7475715914741159 adv acc:  0.16027647582814097\n",
      "round 11 Test acc:  0.7623019831255078 adv acc:  0.14875294603407382\n",
      "round 12 Test acc:  0.7428617866709828 adv acc:  0.16881373105570674\n",
      "round 13 Test acc:  0.7474980602040887 adv acc:  0.15330980913713574\n",
      "round 14 Test acc:  0.7481088491156698 adv acc:  0.1544735345058143\n",
      "round 15 Test acc:  0.7619284527376294 adv acc:  0.14850784791633487\n",
      "round 16 Test acc:  0.7331539416685701 adv acc:  0.13871176894754172\n",
      "round 17 Test acc:  0.7366715939715505 adv acc:  0.15481078801676632\n",
      "round 18 Test acc:  0.72879707980901 adv acc:  0.12729216171428562\n",
      "round 19 Test acc:  0.7314137471839786 adv acc:  0.14051961228251458\n"
     ]
    }
   ],
   "source": [
    "beta_params = [0.2]\n",
    "num_aru = [5]\n",
    "weight2_list = [1]\n",
    "num_rounds = 20\n",
    "\n",
    "\n",
    "result_list = []\n",
    "for itt in range(len(beta_params)):\n",
    "    result_list += [{}]\n",
    "\n",
    "setting, num_user, experiment = \"FedAvg_adv\", 40, \"celeba\"\n",
    "save_path_FedAvg_150R = save_path_FAT\n",
    "# aggregator, clients, args_ = set_args(setting, num_user, experiment)\n",
    "aggregator.aggregation_op =  None\n",
    "\n",
    "if True:\n",
    "    print(\"updating adv data set\")\n",
    "    # add adv dataset update\n",
    "    Fu = np.zeros(num_user)\n",
    "    Fu[0:10] = 1\n",
    "\n",
    "    # Setting evasion attack parameters\n",
    "    x_min = torch.min(clients[0].adv_nn.dataloader.x_data)\n",
    "    x_max = torch.max(clients[0].adv_nn.dataloader.x_data)\n",
    "    atk_params = PGD_Params()\n",
    "    atk_params.set_params(batch_size=1, iteration = 10,\n",
    "                    target = -1, x_val_min = x_min, x_val_max = x_max,\n",
    "                    step_size = 0.05, step_norm = \"inf\", eps = 4.5, eps_norm = 2)\n",
    "\n",
    "    # Assign proportion and attack params\n",
    "    for c in range(len(clients)):\n",
    "        if Fu[c] > 0:\n",
    "            aggregator.clients[c].set_adv_params(Fu[c], atk_params)\n",
    "            aggregator.clients[c].update_advnn()\n",
    "            aggregator.clients[c].assign_advdataset()\n",
    "\n",
    "for itt in range(len(beta_params)):\n",
    "    # Perform 50 rounds of FAT on FedAvg model \n",
    "    num_adv = num_aru[itt]\n",
    "    weight2 = 1/num_adv * weight2_list[itt]\n",
    "    adv_id = random.sample(range(10,num_user), num_adv) # excluding 0-9 as Fu = 1\n",
    "    beta = beta_params[itt]\n",
    "\n",
    "    test_acc_gather = []\n",
    "    adv_acc_gather = []\n",
    "    test_acc_std = []\n",
    "    adv_acc_std = []\n",
    "    cosine_gather_layers = np.zeros([num_rounds, len(desired_keys)])\n",
    "\n",
    "    aggregator.tm_rate = beta\n",
    "\n",
    "    # Test performance of aggregator on data \n",
    "    aggregator.load_state(dir_path = save_path_FedAvg_150R)\n",
    "    aggregator.update_clients()\n",
    "    model_FA = pull_model_from_agg(aggregator)\n",
    "    model_FA.eval()\n",
    "    model_FA = copy_batchnorm_layers(model_Fedavg, model_FA)\n",
    "    acc, adv_acc = get_adv_acc(aggregator, model_FA)\n",
    "\n",
    "    prev_model = copy.deepcopy(model_FA)\n",
    "\n",
    "    print(\"Test acc: \", np.mean(acc), \"adv acc: \", np.mean(adv_acc))\n",
    "    test_acc_gather+= [np.mean(acc)]\n",
    "    adv_acc_gather += [np.mean(adv_acc)]\n",
    "    test_acc_std += [np.std(acc)]\n",
    "    adv_acc_std += [np.std(adv_acc)]\n",
    "\n",
    "\n",
    "\n",
    "    for i in range(num_rounds):\n",
    "\n",
    "        # Per round Freq\n",
    "\n",
    "        # aggregator.mix()\n",
    "        UNL_mix(aggregator, adv_id, model_inject = model_Fedavg, keys = desired_keys, weight_scale_2 = weight2, dump_flag=False, tm_beta=beta)\n",
    "        model_overfit = pull_model_from_agg(aggregator)\n",
    "        model_overfit.eval()\n",
    "        model_overfit = copy_batchnorm_layers(model_Fedavg, model_overfit)\n",
    "\n",
    "        acc, adv_acc = get_adv_acc(aggregator, model_overfit)\n",
    "\n",
    "        print(\"round\", i,\"Test acc: \", np.mean(acc), \"adv acc: \", np.mean(adv_acc))\n",
    "        test_acc_gather+= [np.mean(acc)]\n",
    "        adv_acc_gather += [np.mean(adv_acc)]\n",
    "        test_acc_std += [np.std(acc)]\n",
    "        adv_acc_std += [np.std(adv_acc)]\n",
    "        prev_model = copy.deepcopy(model_overfit)\n",
    "\n",
    "        result_list[itt]['test_acc'] = copy.deepcopy(test_acc_gather)\n",
    "        result_list[itt]['adv_acc'] = copy.deepcopy(adv_acc_gather)\n",
    "        result_list[itt]['test_std'] = copy.deepcopy(test_acc_std)\n",
    "        result_list[itt]['adv_std'] = copy.deepcopy(adv_acc_std)\n",
    "        result_list[itt]['num_clients'] = num_adv\n",
    "        result_list[itt]['beta'] = beta\n",
    "        result_list[itt]['weight2'] = weight2_list[itt]\n",
    "        # Perform gradient direction gathering\n",
    "\n",
    "    "
   ]
  },
  {
   "cell_type": "code",
   "execution_count": 10,
   "metadata": {},
   "outputs": [
    {
     "name": "stdout",
     "output_type": "stream",
     "text": [
      "test acc std 0.0\n"
     ]
    }
   ],
   "source": [
    "test_acc_list = []\n",
    "for itt in range(len(result_list)):\n",
    "    test_acc_list += [result_list[itt]['test_acc'][-1]]\n",
    "print(\"test acc std\", np.std(test_acc_list))\n",
    "    "
   ]
  },
  {
   "cell_type": "code",
   "execution_count": 12,
   "metadata": {},
   "outputs": [
    {
     "data": {
      "text/plain": [
       "[{'test_acc': [0.6526568761095405,\n",
       "   0.706655902788043,\n",
       "   0.7528911959379911,\n",
       "   0.7297127682715654,\n",
       "   0.7195804182440042,\n",
       "   0.7572902180254459,\n",
       "   0.7548088485375046,\n",
       "   0.7568872755393385,\n",
       "   0.7410294348374009,\n",
       "   0.750970614887774,\n",
       "   0.7319666909053921,\n",
       "   0.7475715914741159,\n",
       "   0.7623019831255078,\n",
       "   0.7428617866709828,\n",
       "   0.7474980602040887,\n",
       "   0.7481088491156698,\n",
       "   0.7619284527376294,\n",
       "   0.7331539416685701,\n",
       "   0.7366715939715505,\n",
       "   0.72879707980901,\n",
       "   0.7314137471839786],\n",
       "  'adv_acc': [0.41476569809019564,\n",
       "   0.1127284349873662,\n",
       "   0.2808686367236078,\n",
       "   0.11704412158578634,\n",
       "   0.23058824157342314,\n",
       "   0.11169510139152408,\n",
       "   0.15185294542461633,\n",
       "   0.15686078919097782,\n",
       "   0.13837059224024414,\n",
       "   0.16006177021190524,\n",
       "   0.14019902385771274,\n",
       "   0.16027647582814097,\n",
       "   0.14875294603407382,\n",
       "   0.16881373105570674,\n",
       "   0.15330980913713574,\n",
       "   0.1544735345058143,\n",
       "   0.14850784791633487,\n",
       "   0.13871176894754172,\n",
       "   0.15481078801676632,\n",
       "   0.12729216171428562,\n",
       "   0.14051961228251458],\n",
       "  'test_std': [0.2027379660429805,\n",
       "   0.19138385196477872,\n",
       "   0.19334020227249116,\n",
       "   0.14762114645815685,\n",
       "   0.18471953219657314,\n",
       "   0.1551276706538975,\n",
       "   0.17684423338908575,\n",
       "   0.19521206454127513,\n",
       "   0.19694894546675676,\n",
       "   0.17518636929291811,\n",
       "   0.20917119522129163,\n",
       "   0.18223232543498227,\n",
       "   0.18319016940130697,\n",
       "   0.159650986439281,\n",
       "   0.184508793031604,\n",
       "   0.1806242556075824,\n",
       "   0.18612504386528547,\n",
       "   0.17553131107616488,\n",
       "   0.18423301467025469,\n",
       "   0.17141691496322256,\n",
       "   0.18970042894908437],\n",
       "  'adv_std': [0.15722419048918967,\n",
       "   0.09473012773428273,\n",
       "   0.15463718617992214,\n",
       "   0.05917867722215915,\n",
       "   0.1292405241712838,\n",
       "   0.07298053835703594,\n",
       "   0.10619155700025816,\n",
       "   0.12151900087612275,\n",
       "   0.10522919809672118,\n",
       "   0.11321772837566724,\n",
       "   0.10169490897280606,\n",
       "   0.11029124807804085,\n",
       "   0.11593531127767959,\n",
       "   0.13320827079897218,\n",
       "   0.12290143196002475,\n",
       "   0.11062782612246858,\n",
       "   0.10833545551201845,\n",
       "   0.1013163279548466,\n",
       "   0.0999153577418083,\n",
       "   0.09894298930508497,\n",
       "   0.09368477843983133],\n",
       "  'num_clients': 5,\n",
       "  'beta': 0.2,\n",
       "  'weight2': 1}]"
      ]
     },
     "execution_count": 12,
     "metadata": {},
     "output_type": "execute_result"
    }
   ],
   "source": [
    "result_list"
   ]
  },
  {
   "cell_type": "code",
   "execution_count": null,
   "metadata": {},
   "outputs": [],
   "source": []
  }
 ],
 "metadata": {
  "kernelspec": {
   "display_name": "FedEM_env",
   "language": "python",
   "name": "fedem_env"
  },
  "language_info": {
   "codemirror_mode": {
    "name": "ipython",
    "version": 3
   },
   "file_extension": ".py",
   "mimetype": "text/x-python",
   "name": "python",
   "nbconvert_exporter": "python",
   "pygments_lexer": "ipython3",
   "version": "3.9.6"
  }
 },
 "nbformat": 4,
 "nbformat_minor": 2
}
