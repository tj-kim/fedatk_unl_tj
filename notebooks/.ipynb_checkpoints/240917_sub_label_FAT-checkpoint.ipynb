{
 "cells": [
  {
   "cell_type": "code",
   "execution_count": 1,
   "metadata": {},
   "outputs": [
    {
     "name": "stdout",
     "output_type": "stream",
     "text": [
      "/home/ubuntu/fedatk_unl_tj\n"
     ]
    }
   ],
   "source": [
    "cd /home/ubuntu/fedatk_unl_tj/"
   ]
  },
  {
   "cell_type": "code",
   "execution_count": 2,
   "metadata": {},
   "outputs": [],
   "source": [
    "# Import General Libraries\n",
    "import os\n",
    "import argparse\n",
    "import torch\n",
    "import copy\n",
    "import pickle\n",
    "import random\n",
    "import numpy as np\n",
    "import pandas as pd\n",
    "\n",
    "# Import FedEM based Libraries\n",
    "from utils.utils import *\n",
    "from utils.constants import *\n",
    "from utils.args import *\n",
    "from utils.util_notebooks import *\n",
    "from run_experiment import *\n",
    "from models import *\n",
    "\n",
    "# Import Transfer Attack\n",
    "from transfer_attacks.Personalized_NN import *\n",
    "from transfer_attacks.Params import *\n",
    "from transfer_attacks.Transferer import *\n",
    "from transfer_attacks.Args import *\n",
    "from transfer_attacks.TA_utils import *\n",
    "\n",
    "torch.cuda.empty_cache()\n"
   ]
  },
  {
   "cell_type": "code",
   "execution_count": 4,
   "metadata": {},
   "outputs": [],
   "source": [
    "setting, num_user = \"FedAvg_adv\", 40\n",
    "\n",
    "try: # Skip loading if already loaded\n",
    "    aggregator\n",
    "except:\n",
    "    aggregator, clients, args_ = set_args(setting, num_user,  experiment = \"cifar10\")\n",
    "\n",
    "# Load models for FAT and FedAvg\n",
    "save_path_FAT = 'weights/cifar10/230922_baseline_train/FAT/'\n",
    "save_path_FedAvg = 'weights/cifar10/230922_baseline_train/fedavg/'\n",
    "# save_path_FAT_sub_label = 'weights/cifar10/fat2/240917_subset_label_v2_G05/FAT/'\n",
    "# save_path_FAT_sub_label = 'weights/cifar10/fat2/240920_subset_label_transfer_G05/FAT/'\n",
    "save_path_FAT_sub_label = 'weights/cifar10/fat2/241011_subset_label_targeted_G05/FAT/'\n",
    "\n",
    "model_FAT = copy.deepcopy(import_model_weights(num_user, setting, save_path_FAT, aggregator, args_)[0])\n",
    "model_Fedavg = copy.deepcopy(import_model_weights(num_user, setting, save_path_FedAvg, aggregator, args_)[0])\n",
    "model_FAT_sub_label = import_model_weights(num_user, setting, save_path_FAT_sub_label, aggregator, args_)[0]"
   ]
  },
  {
   "cell_type": "code",
   "execution_count": 5,
   "metadata": {},
   "outputs": [],
   "source": [
    "# Perform transfer attack from one client to another and record stats\n",
    "# models_test = [model_Fedavg, model_FAT]\n",
    "\n",
    "models_test = [model_Fedavg, model_FAT, model_FAT_sub_label]\n",
    "\n",
    "num_trials = 1\n",
    "acc_store_agg = np.zeros([len(models_test)])\n",
    "adv_store_agg = np.zeros([len(models_test)])\n",
    "\n",
    "# for itt in range(num_trials):\n",
    "\n",
    "# Run Measurements for both targetted and untargeted analysis\n",
    "victim_idxs = range(len(models_test))\n",
    "logs_adv = generate_logs_adv(len(models_test))\n",
    "custom_batch_size = 100\n",
    "eps = 3\n",
    "\n",
    "dataloader = load_client_data(clients = clients, c_id = 0, mode = 'all') # or test/train"
   ]
  },
  {
   "cell_type": "code",
   "execution_count": 6,
   "metadata": {},
   "outputs": [
    {
     "data": {
      "image/png": "[encoded data removed]",
      "text/plain": [
       "<Figure size 432x288 with 1 Axes>"
      ]
     },
     "metadata": {
      "needs_background": "light"
     },
     "output_type": "display_data"
    }
   ],
   "source": [
    "dataloader.y_data\n",
    "\n",
    "# Convert tensor to numpy array for plotting\n",
    "values = dataloader.y_data.numpy()\n",
    "\n",
    "# Create histogram\n",
    "plt.hist(values, bins=10, range=(0, 9), edgecolor='black')\n",
    "\n",
    "# Add labels and title\n",
    "plt.xlabel('Integer Value')\n",
    "plt.ylabel('Frequency')\n",
    "plt.title('Histogram of Tensor Values (0-9)')\n",
    "\n",
    "# Show plot\n",
    "plt.show()"
   ]
  },
  {
   "cell_type": "code",
   "execution_count": 7,
   "metadata": {},
   "outputs": [
    {
     "name": "stdout",
     "output_type": "stream",
     "text": [
      "\t Adv idx: 0\n",
      "\t Adv idx: 1\n",
      "\t Adv idx: 2\n",
      "\t Adv idx: 0\n",
      "\t Adv idx: 1\n",
      "\t Adv idx: 2\n"
     ]
    }
   ],
   "source": [
    "non_target_labels= [0,1,2,3,4]\n",
    "target_labels = [5,6,7,8,9]\n",
    "\n",
    "logs_adv_target = copy.deepcopy(logs_adv)\n",
    "logs_adv_non_target = logs_adv\n",
    "\n",
    "cross_attack_target(logs_adv_target, victim_idxs, dataloader, models_test, \n",
    "                        target_labels, custom_batch_size=500, eps=4.5, atk_steps=10)\n",
    "\n",
    "metrics = ['orig_acc_transfers','orig_similarities','adv_acc_transfers','adv_similarities_target',\n",
    "            'adv_similarities_untarget','adv_target','adv_miss']\n",
    "\n",
    "adv_miss = get_metric_list(\"adv_miss\", logs_adv_target, victim_idxs)\n",
    "acc = get_metric_list(\"orig_acc_transfers\", logs_adv_target, victim_idxs)\n",
    "\n",
    "# Print along diagonal and plot \"robustness against white-box attacks (self)\"\n",
    "adv_list_target = []\n",
    "acc_list_target = []\n",
    "for i in range(adv_miss.shape[0]):\n",
    "    adv_list_target += [adv_miss[i,i]]\n",
    "    acc_list_target += [acc[i,i]]\n",
    "    \n",
    "\n",
    "cross_attack_target(logs_adv_non_target, victim_idxs, dataloader, models_test, \n",
    "                        non_target_labels, custom_batch_size=500, eps=4.5, atk_steps=10)\n",
    "\n",
    "adv_miss = get_metric_list(\"adv_miss\", logs_adv_non_target, victim_idxs)\n",
    "acc = get_metric_list(\"orig_acc_transfers\", logs_adv_non_target, victim_idxs)\n",
    "\n",
    "# Print along diagonal and plot \"robustness against white-box attacks (self)\"\n",
    "adv_list_ntarget = []\n",
    "acc_list_ntarget = []\n",
    "for i in range(adv_miss.shape[0]):\n",
    "    adv_list_ntarget += [adv_miss[i,i]]\n",
    "    acc_list_ntarget += [acc[i,i]]"
   ]
  },
  {
   "cell_type": "code",
   "execution_count": 8,
   "metadata": {},
   "outputs": [
    {
     "name": "stdout",
     "output_type": "stream",
     "text": [
      "### Non Targets 0-4 ###\n",
      "[model_Fedavg, model_FAT, model_FAT_sub_label]\n",
      "Test Acc: [0.8122605085372925, 0.7659574151039124, 0.8192770481109619]\n",
      "Adv  Acc: [0.003937007859349251, 0.3410852551460266, 0.0043668122962117195]\n",
      "\n",
      "### Targets 5-9 ###\n",
      "[model_Fedavg, model_FAT, model_FAT_sub_label]\n",
      "Test Acc: [0.8920000195503235, 0.8253968954086304, 0.8167939186096191]\n",
      "Adv  Acc: [0.016129031777381897, 0.40833336114883423, 0.12903225421905518]\n"
     ]
    }
   ],
   "source": [
    "print(\"### Non Targets 0-4 ###\")\n",
    "print(\"[model_Fedavg, model_FAT, model_FAT_sub_label]\")\n",
    "print(\"Test Acc:\", acc_list_ntarget)\n",
    "print(\"Adv  Acc:\", adv_list_ntarget)\n",
    "\n",
    "\n",
    "print(\"\\n### Targets 5-9 ###\")\n",
    "print(\"[model_Fedavg, model_FAT, model_FAT_sub_label]\")\n",
    "print(\"Test Acc:\", acc_list_target)\n",
    "print(\"Adv  Acc:\", adv_list_target)"
   ]
  },
  {
   "cell_type": "raw",
   "metadata": {
    "vscode": {
     "languageId": "raw"
    }
   },
   "source": [
    "G = 1 For Select Target Label ADV Training\n",
    "\n",
    "### Non Targets 0-4 ###\n",
    "[model_Fedavg, model_FAT, model_FAT_sub_label]\n",
    "Test Acc: [0.7803922295570374, 0.7704917788505554, 0.8405172228813171]\n",
    "Adv  Acc: [0.004115226212888956, 0.31063827872276306, 0.0039840638637542725]\n",
    "\n",
    "### Targets 5-9 ###\n",
    "[model_Fedavg, model_FAT, model_FAT_sub_label]\n",
    "Test Acc: [0.8784314393997192, 0.8683127164840698, 0.21757321059703827]\n",
    "Adv  Acc: [0.011952191591262817, 0.43083006143569946, 0.03212851285934448]\n",
    "\n",
    "\n",
    "G = 0.5 For Select Target Label ADV Training\n",
    "### Non Targets 0-4 ###\n",
    "[model_Fedavg, model_FAT, model_FAT_sub_label]\n",
    "Test Acc: [0.8803088665008545, 0.7983870506286621, 0.7984189987182617]\n",
    "Adv  Acc: [0.016736401244997978, 0.3650793731212616, 0.007843137718737125]\n",
    "\n",
    "### Targets 5-9 ###\n",
    "[model_Fedavg, model_FAT, model_FAT_sub_label]\n",
    "Test Acc: [0.8543307185173035, 0.8163264989852905, 0.8630706071853638]\n",
    "Adv  Acc: [0.0154440151527524, 0.38059699535369873, 0.38056680560112]\n",
    "\n",
    "G = 0.5 For Select Target Label ADV Training with TRANSFER\n",
    "### Non Targets 0-4 ###\n",
    "[model_Fedavg, model_FAT, model_FAT_sub_label]\n",
    "Test Acc: [0.806034505367279, 0.7654320597648621, 0.7346153855323792]\n",
    "Adv  Acc: [0.007874015718698502, 0.36437249183654785, 0.019685039296746254]\n",
    "\n",
    "### Targets 5-9 ###\n",
    "[model_Fedavg, model_FAT, model_FAT_sub_label]\n",
    "Test Acc: [0.8286852836608887, 0.8239700198173523, 0.8638132214546204]\n",
    "Adv  Acc: [0.0039840638637542725, 0.5041322112083435, 0.36466166377067566]\n",
    "\n",
    "G = 0.5 For Select Target Label ADV Training with targeted PGD onto unselected labels\n",
    "### Non Targets 0-4 ###\n",
    "[model_Fedavg, model_FAT, model_FAT_sub_label]\n",
    "Test Acc: [0.8122605085372925, 0.7659574151039124, 0.8192770481109619]\n",
    "Adv  Acc: [0.003937007859349251, 0.3410852551460266, 0.0043668122962117195]\n",
    "\n",
    "### Targets 5-9 ###\n",
    "[model_Fedavg, model_FAT, model_FAT_sub_label]\n",
    "Test Acc: [0.8920000195503235, 0.8253968954086304, 0.8167939186096191]\n",
    "Adv  Acc: [0.016129031777381897, 0.40833336114883423, 0.12903225421905518]"
   ]
  }
 ],
 "metadata": {
  "kernelspec": {
   "display_name": "FedEM_env",
   "language": "python",
   "name": "fedem_env"
  },
  "language_info": {
   "codemirror_mode": {
    "name": "ipython",
    "version": 3
   },
   "file_extension": ".py",
   "mimetype": "text/x-python",
   "name": "python",
   "nbconvert_exporter": "python",
   "pygments_lexer": "ipython3",
   "version": "3.9.6"
  }
 },
 "nbformat": 4,
 "nbformat_minor": 2
}
