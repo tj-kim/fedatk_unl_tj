{
 "cells": [
  {
   "cell_type": "code",
   "execution_count": 1,
   "metadata": {},
   "outputs": [
    {
     "name": "stdout",
     "output_type": "stream",
     "text": [
      "/home/ubuntu/fedatk_unl_tj\n"
     ]
    }
   ],
   "source": [
    "cd /home/ubuntu/fedatk_unl_tj/"
   ]
  },
  {
   "cell_type": "code",
   "execution_count": 2,
   "metadata": {},
   "outputs": [],
   "source": [
    "# Import General Libraries\n",
    "import os\n",
    "import argparse\n",
    "import torch\n",
    "import copy\n",
    "import pickle\n",
    "import random\n",
    "import numpy as np\n",
    "import pandas as pd\n",
    "\n",
    "# Import FedEM based Libraries\n",
    "from utils.utils import *\n",
    "from utils.constants import *\n",
    "from utils.args import *\n",
    "from utils.util_notebooks import *\n",
    "from run_experiment import *\n",
    "from models import *\n",
    "\n",
    "# Import Transfer Attack\n",
    "from transfer_attacks.Personalized_NN import *\n",
    "from transfer_attacks.Params import *\n",
    "from transfer_attacks.Transferer import *\n",
    "from transfer_attacks.Args import *\n",
    "from transfer_attacks.TA_utils import *\n",
    "from transfer_attacks.unnormalize import *\n",
    "\n",
    "torch.cuda.empty_cache()\n"
   ]
  },
  {
   "cell_type": "code",
   "execution_count": 3,
   "metadata": {},
   "outputs": [
    {
     "name": "stdout",
     "output_type": "stream",
     "text": [
      "==> Clients initialization..\n",
      "===> Building data iterators..\n"
     ]
    },
    {
     "name": "stderr",
     "output_type": "stream",
     "text": [
      " 49%|████▉     | 39/80 [00:00<00:00, 183.66it/s]\n"
     ]
    },
    {
     "name": "stdout",
     "output_type": "stream",
     "text": [
      "===> Initializing clients..\n"
     ]
    },
    {
     "name": "stderr",
     "output_type": "stream",
     "text": [
      "100%|██████████| 40/40 [00:18<00:00,  2.12it/s]\n"
     ]
    }
   ],
   "source": [
    "setting, num_user = \"FedAvg_adv\", 40\n",
    "\n",
    "try: # Skip loading if already loaded\n",
    "    aggregator\n",
    "except:\n",
    "    aggregator, clients, args_ = set_args(setting, num_user,  experiment = \"cifar10\")\n"
   ]
  },
  {
   "cell_type": "code",
   "execution_count": 4,
   "metadata": {},
   "outputs": [],
   "source": [
    "target_labels = [5,6,7,8,9] # these are the labels we will adv train on only \n",
    "donate_labels = [0,1,2,3,4]\n",
    "\n",
    " # Other Argument Parameters\n",
    "Q = 10 # update per round\n",
    "G = 0.5\n",
    "S = 0.05 # Threshold\n",
    "step_size = 0.01\n",
    "K = 10\n",
    "eps = 4.5\n",
    "\n",
    "num_clients = len(clients)\n",
    "\n",
    "# Randomized Parameters\n",
    "# Ru = np.random.uniform(0, 0.5, size=num_clients)\n",
    "Ru = np.ones(num_clients)\n",
    "\n",
    "# Set attack parameters\n",
    "x_min = torch.min(clients[0].adv_nn.dataloader.x_data)\n",
    "x_max = torch.max(clients[0].adv_nn.dataloader.x_data)\n",
    "atk_params = PGD_Params()\n",
    "atk_params.set_params(batch_size=1, iteration = K,\n",
    "                target = -1, x_val_min = x_min, x_val_max = x_max,\n",
    "                step_size = 0.05, step_norm = \"inf\", eps = eps, eps_norm = 2)\n",
    "\n"
   ]
  },
  {
   "cell_type": "code",
   "execution_count": 5,
   "metadata": {},
   "outputs": [
    {
     "name": "stdout",
     "output_type": "stream",
     "text": [
      "Training..\n"
     ]
    },
    {
     "name": "stderr",
     "output_type": "stream",
     "text": [
      "  0%|          | 0/10 [00:00<?, ?it/s]"
     ]
    }
   ],
   "source": [
    "# Obtain the central controller decision making variables (static)\n",
    "num_h = args_.n_learners= 3\n",
    "Du = np.zeros(len(clients))\n",
    "\n",
    "for i in range(len(clients)):\n",
    "    num_data = clients[i].train_iterator.dataset.targets.shape[0]\n",
    "    Du[i] = num_data\n",
    "D = np.sum(Du) # Total number of data points\n",
    "\n",
    "# Train the model\n",
    "print(\"Training..\")\n",
    "pbar = tqdm(total=args_.n_rounds)\n",
    "current_round = 0\n",
    "\n",
    "# If statement catching every Q rounds -- update dataset\n",
    "# print(\"Round:\", current_round, \"Calculation Adv\")\n",
    "# Obtaining hypothesis information\n",
    "Whu = np.zeros([num_clients,num_h]) # Hypothesis weight for each user\n",
    "for i in range(len(clients)):\n",
    "    # print(\"client\", i)\n",
    "    temp_client = aggregator.clients[i]\n",
    "    hyp_weights = temp_client.learners_ensemble.learners_weights\n",
    "    Whu[i] = hyp_weights\n",
    "\n",
    "row_sums = Whu.sum(axis=1)\n",
    "Whu = Whu / row_sums[:, np.newaxis]\n",
    "Wh = np.sum(Whu,axis=0)/num_clients\n",
    "\n",
    "# Solve for adversarial ratio at every client\n",
    "# Fu = solve_proportions(G, num_clients, num_h, Du, Whu, S, Ru, step_size)\n",
    "Fu = np.ones(num_clients) * G\n",
    "\n",
    "# Assign proportion and attack params\n",
    "for i in range(len(clients)):\n",
    "    aggregator.clients[i].set_adv_params(Fu[i], atk_params)\n",
    "    aggregator.clients[i].update_advnn()\n",
    "    aggregator.clients[i].assign_advdataset_by_labels(target_labels)\n",
    "    aggregator.clients[i].transfer_advdataset(donate_labels)"
   ]
  },
  {
   "cell_type": "code",
   "execution_count": 6,
   "metadata": {},
   "outputs": [
    {
     "data": {
      "image/png": "[encoded data removed]",
      "text/plain": [
       "<Figure size 432x288 with 1 Axes>"
      ]
     },
     "metadata": {
      "needs_background": "light"
     },
     "output_type": "display_data"
    }
   ],
   "source": [
    "cidx = 2\n",
    "\n",
    "nil = aggregator.clients[cidx].collected_perturbations.float()\n",
    "nil_l2 = torch.norm(nil.view(nil.size(0),-1), dim = 1)\n",
    "\n",
    "a = aggregator.clients[cidx].train_iterator.dataset.data.float()\n",
    "b = aggregator.clients[cidx].og_dataloader.dataset.data.float()\n",
    "tensor = a - b\n",
    "d = torch.norm(tensor.view(tensor.size(0), -1), dim=1)\n",
    "# # Plot the image using matplotlib\n",
    "plt.imshow(a[0]/255)\n",
    "plt.title(\"CIFAR-10 Image (Float Format)\")\n",
    "plt.axis('off')  # Turn off the axis\n",
    "plt.show()"
   ]
  },
  {
   "cell_type": "code",
   "execution_count": 7,
   "metadata": {},
   "outputs": [],
   "source": [
    "si = np.where(d != 0)[0]"
   ]
  },
  {
   "cell_type": "code",
   "execution_count": 8,
   "metadata": {},
   "outputs": [
    {
     "data": {
      "text/plain": [
       "array([  1,   3,   4,   5,  10,  12,  14,  15,  20,  21,  25,  26,  28,\n",
       "        30,  32,  34,  35,  36,  37,  38,  39,  40,  41,  42,  43,  46,\n",
       "        51,  52,  55,  57,  58,  61,  63,  66,  67,  68,  69,  71,  74,\n",
       "        78,  79,  80,  82,  83,  84,  85,  87,  88,  90,  92,  98, 102,\n",
       "       105, 106, 109, 110, 112, 114, 115, 117, 121, 125, 127, 128, 129,\n",
       "       130, 131, 132, 133, 136, 137, 144, 145, 148, 153, 156, 157, 158,\n",
       "       159, 160, 162, 163, 166, 167, 169, 171, 173, 175, 178, 179, 180,\n",
       "       184, 188, 193, 194, 195, 196, 198, 199, 202, 203, 204, 205, 206,\n",
       "       207, 208, 209, 210, 212, 213, 216, 223, 224, 227, 232, 233, 235,\n",
       "       238, 239, 240, 241, 242, 243, 244, 245, 247, 248, 251, 254, 256,\n",
       "       258, 259, 261, 263, 264, 266, 270, 271, 272, 273, 278, 281, 285,\n",
       "       288, 291, 294, 298, 300, 302, 303, 304, 305, 307, 309, 311, 312,\n",
       "       313, 315, 319, 321, 323, 325, 331, 332, 333, 340, 341, 342, 343,\n",
       "       344, 345, 349, 350, 351, 352, 354, 358, 360, 364, 365, 366, 367,\n",
       "       371, 372, 374, 376, 377, 378, 379, 383, 385, 386, 387, 389, 390,\n",
       "       392, 395, 396, 397, 398, 400, 402, 406, 407, 409, 412, 413, 414,\n",
       "       415, 417, 418, 419, 423, 424, 431, 433, 434, 437, 438, 439, 441,\n",
       "       442])"
      ]
     },
     "execution_count": 8,
     "metadata": {},
     "output_type": "execute_result"
    }
   ],
   "source": [
    "si"
   ]
  },
  {
   "cell_type": "code",
   "execution_count": 9,
   "metadata": {},
   "outputs": [
    {
     "data": {
      "text/plain": [
       "array([  1,   3,   4,  10,  15,  20,  25,  36,  37,  40,  46,  51,  52,\n",
       "        57,  63,  67,  68,  69,  71,  79,  82,  83,  84,  87,  92,  98,\n",
       "       102, 105, 106, 109, 114, 115, 121, 125, 127, 128, 129, 130, 131,\n",
       "       136, 137, 153, 157, 159, 160, 166, 167, 173, 178, 179, 180, 194,\n",
       "       195, 198, 202, 203, 204, 205, 207, 209, 213, 223, 224, 232, 235,\n",
       "       238, 242, 245, 248, 251, 263, 264, 266, 270, 273, 278, 281, 285,\n",
       "       291, 300, 303, 304, 305, 307, 312, 313, 325, 341, 342, 343, 344,\n",
       "       345, 349, 350, 352, 358, 364, 366, 371, 379, 383, 386, 387, 392,\n",
       "       397, 398, 400, 402, 406, 414, 415, 418, 419, 424, 431, 438, 442])"
      ]
     },
     "execution_count": 9,
     "metadata": {},
     "output_type": "execute_result"
    }
   ],
   "source": [
    "aggregator.clients[cidx].sample_idxs_store.sort()\n",
    "aggregator.clients[cidx].sample_idxs_store"
   ]
  },
  {
   "cell_type": "code",
   "execution_count": 10,
   "metadata": {},
   "outputs": [],
   "source": [
    "c = a[si] - b[si]"
   ]
  },
  {
   "cell_type": "code",
   "execution_count": 11,
   "metadata": {},
   "outputs": [
    {
     "data": {
      "text/plain": [
       "torch.Size([117, 32, 32, 3])"
      ]
     },
     "execution_count": 11,
     "metadata": {},
     "output_type": "execute_result"
    }
   ],
   "source": [
    "nil.shape"
   ]
  },
  {
   "cell_type": "code",
   "execution_count": 12,
   "metadata": {},
   "outputs": [
    {
     "data": {
      "text/plain": [
       "torch.Size([222, 32, 32, 3])"
      ]
     },
     "execution_count": 12,
     "metadata": {},
     "output_type": "execute_result"
    }
   ],
   "source": [
    "c.shape"
   ]
  },
  {
   "cell_type": "code",
   "execution_count": 13,
   "metadata": {},
   "outputs": [
    {
     "data": {
      "text/plain": [
       "tensor([[[  29.,   29.,   13.],\n",
       "         [  36.,   32.,   19.],\n",
       "         [  40.,   39.,   27.],\n",
       "         ...,\n",
       "         [ 156.,  169.,  168.],\n",
       "         [ 162.,  171.,  165.],\n",
       "         [ 168.,  167.,  161.]],\n",
       "\n",
       "        [[-204., -206.,   40.],\n",
       "         [  50., -206.,   46.],\n",
       "         [-202., -200.,   49.],\n",
       "         ...,\n",
       "         [-108.,  166.,  180.],\n",
       "         [-103.,  -82.,  183.],\n",
       "         [ 157.,  170.,  170.]],\n",
       "\n",
       "        [[  47.,   43.,   31.],\n",
       "         [  48.,   45.,   42.],\n",
       "         [  47.,   46.,   40.],\n",
       "         ...,\n",
       "         [ 131.,  158.,  170.],\n",
       "         [ 134.,  162.,  180.],\n",
       "         [-105.,  167.,  180.]],\n",
       "\n",
       "        ...,\n",
       "\n",
       "        [[ -57.,  -40.,  -81.],\n",
       "         [ -58.,  -44.,  -97.],\n",
       "         [ -63.,  -50., -100.],\n",
       "         ...,\n",
       "         [  -4.,    1.,  -51.],\n",
       "         [ -32.,  -26.,  -67.],\n",
       "         [ -29.,  -25.,  -76.]],\n",
       "\n",
       "        [[ -50.,  -34.,  -76.],\n",
       "         [ -44.,  -32.,  -67.],\n",
       "         [ -46.,  -27.,  -74.],\n",
       "         ...,\n",
       "         [   1.,   14.,  -40.],\n",
       "         [ -19.,  -10.,  -58.],\n",
       "         [ -22.,  -12.,  -71.]],\n",
       "\n",
       "        [[ -16.,  -14.,  -62.],\n",
       "         [ -30.,  -13.,  -61.],\n",
       "         [ -36.,  -22.,  -72.],\n",
       "         ...,\n",
       "         [ -26.,  -13.,  -67.],\n",
       "         [ -27.,  -12.,  -63.],\n",
       "         [ -29.,  -22.,  -77.]]])"
      ]
     },
     "execution_count": 13,
     "metadata": {},
     "output_type": "execute_result"
    }
   ],
   "source": [
    "c[0]"
   ]
  },
  {
   "cell_type": "code",
   "execution_count": 14,
   "metadata": {},
   "outputs": [
    {
     "data": {
      "text/plain": [
       "tensor([[[  29.,   29.,   13.],\n",
       "         [  36.,   32.,   19.],\n",
       "         [  40.,   39.,   27.],\n",
       "         ...,\n",
       "         [ 156.,  169.,  168.],\n",
       "         [ 162.,  171.,  165.],\n",
       "         [ 168.,  167.,  161.]],\n",
       "\n",
       "        [[-204., -206.,   40.],\n",
       "         [  50., -206.,   46.],\n",
       "         [-202., -200.,   49.],\n",
       "         ...,\n",
       "         [-108.,  166.,  180.],\n",
       "         [-103.,  -82.,  183.],\n",
       "         [ 157.,  170.,  170.]],\n",
       "\n",
       "        [[  47.,   43.,   31.],\n",
       "         [  48.,   45.,   42.],\n",
       "         [  47.,   46.,   40.],\n",
       "         ...,\n",
       "         [ 131.,  158.,  170.],\n",
       "         [ 134.,  162.,  180.],\n",
       "         [-105.,  167.,  180.]],\n",
       "\n",
       "        ...,\n",
       "\n",
       "        [[ -57.,  -40.,  -81.],\n",
       "         [ -58.,  -44.,  -97.],\n",
       "         [ -63.,  -50., -100.],\n",
       "         ...,\n",
       "         [  -4.,    1.,  -51.],\n",
       "         [ -32.,  -26.,  -67.],\n",
       "         [ -29.,  -25.,  -76.]],\n",
       "\n",
       "        [[ -50.,  -34.,  -76.],\n",
       "         [ -44.,  -32.,  -67.],\n",
       "         [ -46.,  -27.,  -74.],\n",
       "         ...,\n",
       "         [   1.,   14.,  -40.],\n",
       "         [ -19.,  -10.,  -58.],\n",
       "         [ -22.,  -12.,  -71.]],\n",
       "\n",
       "        [[ -16.,  -14.,  -62.],\n",
       "         [ -30.,  -13.,  -61.],\n",
       "         [ -36.,  -22.,  -72.],\n",
       "         ...,\n",
       "         [ -26.,  -13.,  -67.],\n",
       "         [ -27.,  -12.,  -63.],\n",
       "         [ -29.,  -22.,  -77.]]])"
      ]
     },
     "execution_count": 14,
     "metadata": {},
     "output_type": "execute_result"
    }
   ],
   "source": [
    "nil[0]"
   ]
  },
  {
   "cell_type": "code",
   "execution_count": 16,
   "metadata": {},
   "outputs": [
    {
     "data": {
      "text/plain": [
       "array([  5,  12,  14,  21,  26,  28,  30,  32,  34,  35,  38,  39,  41,\n",
       "        42,  43,  55,  58,  61,  66,  74,  78,  80,  85,  88,  90, 110,\n",
       "       112, 117, 132, 133, 144, 145, 148, 156, 158, 162, 163, 169, 171,\n",
       "       175, 184, 188, 193, 196, 199, 206, 208, 210, 212, 216, 227, 233,\n",
       "       239, 240, 241, 243, 244, 247, 254, 256, 258, 259, 261, 271, 272,\n",
       "       288, 294, 298, 302, 309, 311, 315, 319, 321, 323, 331, 332, 333,\n",
       "       340, 351, 354, 360, 365, 367, 372, 374, 376, 377, 378, 385, 389,\n",
       "       390, 395, 396, 407, 409, 412, 413, 417, 423, 433, 434, 437, 439,\n",
       "       441])"
      ]
     },
     "execution_count": 16,
     "metadata": {},
     "output_type": "execute_result"
    }
   ],
   "source": [
    "aggregator.clients[cidx].sample_idx_donate.sort()\n",
    "aggregator.clients[cidx].sample_idx_donate"
   ]
  },
  {
   "cell_type": "code",
   "execution_count": 24,
   "metadata": {},
   "outputs": [
    {
     "data": {
      "text/plain": [
       "[<matplotlib.lines.Line2D at 0x7fc1942403a0>]"
      ]
     },
     "execution_count": 24,
     "metadata": {},
     "output_type": "execute_result"
    },
    {
     "data": {
      "image/png": "[encoded data removed]",
      "text/plain": [
       "<Figure size 432x288 with 1 Axes>"
      ]
     },
     "metadata": {
      "needs_background": "light"
     },
     "output_type": "display_data"
    }
   ],
   "source": [
    "import matplotlib.pyplot as plt\n",
    "nil2 = nil/255\n",
    "n2l2 = torch.norm(nil2.view(nil2.size(0),-1), dim = 1)\n",
    "plt.plot(n2l2)"
   ]
  },
  {
   "cell_type": "code",
   "execution_count": 21,
   "metadata": {},
   "outputs": [
    {
     "data": {
      "text/plain": [
       "torch.Size([117, 32, 32, 3])"
      ]
     },
     "execution_count": 21,
     "metadata": {},
     "output_type": "execute_result"
    }
   ],
   "source": []
  },
  {
   "cell_type": "code",
   "execution_count": 28,
   "metadata": {},
   "outputs": [
    {
     "data": {
      "text/plain": [
       "[<matplotlib.lines.Line2D at 0x7fc1941b3640>]"
      ]
     },
     "execution_count": 28,
     "metadata": {},
     "output_type": "execute_result"
    },
    {
     "data": {
      "image/png": "[encoded data removed]",
      "text/plain": [
       "<Figure size 432x288 with 1 Axes>"
      ]
     },
     "metadata": {
      "needs_background": "light"
     },
     "output_type": "display_data"
    }
   ],
   "source": [
    "c2 = c/255\n",
    "c2l2 = torch.norm(c2.view(c2.size(0),-1), dim = 1)\n",
    "plt.plot(c2l2)"
   ]
  },
  {
   "cell_type": "code",
   "execution_count": null,
   "metadata": {},
   "outputs": [],
   "source": []
  }
 ],
 "metadata": {
  "kernelspec": {
   "display_name": "Python 3",
   "language": "python",
   "name": "python3"
  },
  "language_info": {
   "codemirror_mode": {
    "name": "ipython",
    "version": 3
   },
   "file_extension": ".py",
   "mimetype": "text/x-python",
   "name": "python",
   "nbconvert_exporter": "python",
   "pygments_lexer": "ipython3",
   "version": "3.8.5"
  }
 },
 "nbformat": 4,
 "nbformat_minor": 2
}
