{
 "cells": [
  {
   "cell_type": "markdown",
   "metadata": {},
   "source": [
    "### NN Vector Pull for Direction\n",
    "\n",
    "Oct 31 2023\n",
    "TJ Kim\n",
    "\n",
    "##### Summary\n",
    "Load any NN model. Obtain layer by layer the unit direction vector (against vector of zeros). See if cosine similarity can be used as a metric to measure direction."
   ]
  },
  {
   "cell_type": "code",
   "execution_count": 1,
   "metadata": {},
   "outputs": [
    {
     "name": "stdout",
     "output_type": "stream",
     "text": [
      "/home/ubuntu/fedatk_unl_tj\n"
     ]
    }
   ],
   "source": [
    "cd /home/ubuntu/fedatk_unl_tj/"
   ]
  },
  {
   "cell_type": "code",
   "execution_count": 2,
   "metadata": {},
   "outputs": [],
   "source": [
    "# Import General Libraries\n",
    "import os\n",
    "import argparse\n",
    "import torch\n",
    "import copy\n",
    "import pickle\n",
    "import random\n",
    "import numpy as np\n",
    "import pandas as pd\n",
    "\n",
    "# Import FedEM based Libraries\n",
    "from utils.utils import *\n",
    "from utils.constants import *\n",
    "from utils.args import *\n",
    "from utils.util_notebooks import *\n",
    "from run_experiment import *\n",
    "from models import *\n",
    "\n",
    "# Import Transfer Attack\n",
    "from transfer_attacks.Personalized_NN import *\n",
    "from transfer_attacks.Params import *\n",
    "from transfer_attacks.Transferer import *\n",
    "from transfer_attacks.Args import *\n",
    "from transfer_attacks.TA_utils import *"
   ]
  },
  {
   "cell_type": "code",
   "execution_count": 3,
   "metadata": {},
   "outputs": [
    {
     "name": "stdout",
     "output_type": "stream",
     "text": [
      "==> Clients initialization..\n",
      "===> Building data iterators..\n"
     ]
    },
    {
     "name": "stderr",
     "output_type": "stream",
     "text": [
      "100%|██████████| 80/80 [00:00<00:00, 133.63it/s]\n"
     ]
    },
    {
     "name": "stdout",
     "output_type": "stream",
     "text": [
      "===> Initializing clients..\n"
     ]
    },
    {
     "name": "stderr",
     "output_type": "stream",
     "text": [
      "100%|██████████| 80/80 [00:18<00:00,  4.24it/s]\n"
     ]
    },
    {
     "name": "stdout",
     "output_type": "stream",
     "text": [
      "==> Test Clients initialization..\n",
      "===> Building data iterators..\n"
     ]
    },
    {
     "name": "stderr",
     "output_type": "stream",
     "text": [
      "0it [00:00, ?it/s]\n"
     ]
    },
    {
     "name": "stdout",
     "output_type": "stream",
     "text": [
      "===> Initializing clients..\n"
     ]
    },
    {
     "name": "stderr",
     "output_type": "stream",
     "text": [
      "0it [00:00, ?it/s]\n"
     ]
    }
   ],
   "source": [
    "setting, num_user = \"FedAvg\", 40\n",
    "\n",
    "try: # Skip loading if already loaded\n",
    "    aggregator\n",
    "except:\n",
    "    aggregator, clients, args_ = set_args(setting, num_user)\n",
    "\n",
    "# Load models for FAT and FedAvg\n",
    "save_path_FAT = 'weights/cifar10/230922_baseline_train/FAT/'\n",
    "save_path_FedAvg = 'weights/cifar10/230922_baseline_train/fedavg/'\n",
    "\n",
    "model_FAT = copy.deepcopy(import_model_weights(num_user, setting, save_path_FAT, aggregator, args_)[0])\n",
    "model_Fedavg = import_model_weights(num_user, setting, save_path_FedAvg, aggregator, args_)[0]\n"
   ]
  },
  {
   "cell_type": "code",
   "execution_count": 4,
   "metadata": {},
   "outputs": [],
   "source": [
    "from sklearn.metrics.pairwise import cosine_similarity\n",
    "\n",
    "def matrix_cosine_similarity(mat1, mat2):\n",
    "    vec1 = mat1.cpu().numpy().flatten()\n",
    "    vec2 = mat2.cpu().numpy().flatten()\n",
    "    return cosine_similarity([vec1], [vec2])[0][0]\n",
    "\n",
    "def get_diff_NN( model1, model2, desired_keys):\n",
    "\n",
    "    param_model1 = model1.state_dict()\n",
    "    param_model2 = model2.state_dict()\n",
    "\n",
    "    mag_norm_122 = []\n",
    "    for key in desired_keys: #params_FAT:\n",
    "\n",
    "        diff = param_model1[key] - param_model2[key]\n",
    "        l2_norm = torch.norm(diff, p=2)\n",
    "\n",
    "        mag_norm_122 += [diff/torch.norm(diff,p=2)]\n",
    "    return mag_norm_122\n",
    "\n",
    "def diff_cosine_similarity(diff, baseline, key_length):\n",
    "    values_stored = np.zeros(key_length)\n",
    "\n",
    "    for i in range(key_length):\n",
    "        values_stored[i] = matrix_cosine_similarity(diff[i], baseline[i])\n",
    "\n",
    "    return values_stored \n",
    "\n",
    "def get_adv_acc(aggregator, model, batch_size = 500, data_mode = \"all\", c_id = 0):\n",
    "    num_clients = len(aggregator.clients)\n",
    "\n",
    "    # Dataloader for datax\n",
    "    data_x = []\n",
    "    daniloader = clients[0].val_iterator\n",
    "    for (x,y,idx) in daniloader.dataset:\n",
    "        data_x.append(x)\n",
    "\n",
    "    data_x = torch.stack(data_x)\n",
    "    victim_idxs = range(num_clients)\n",
    "\n",
    "    # Save matrix\n",
    "    test_acc_save = np.zeros([1])\n",
    "    adv_acc_save = np.zeros([1])\n",
    "\n",
    "    dataloader = load_client_data(clients = aggregator.clients, c_id = c_id, mode = data_mode)\n",
    "    batch_size = min(batch_size, dataloader.y_data.shape[0])\n",
    "\n",
    "    t1 = Transferer(models_list = [model] * num_clients, dataloader=dataloader)\n",
    "    t1.generate_victims(victim_idxs)\n",
    "    t1.atk_params = PGD_Params()\n",
    "    t1.atk_params.set_params(batch_size=batch_size, iteration = 10, target = -1,\n",
    "                            x_val_min = torch.min(data_x), x_val_max = torch.max(data_x),\n",
    "                            step_size = 0.05, step_norm = \"inf\", eps = 4, eps_norm = 2)\n",
    "    t1.generate_advNN(c_id)\n",
    "    t1.generate_xadv(atk_type=\"pgd\")\n",
    "    t1.send_to_victims(victim_idxs)\n",
    "    test_acc_save[0] = t1.orig_acc_transfers[0]\n",
    "    adv_acc_save[0] = t1.adv_acc_transfers[0]\n",
    "\n",
    "    return test_acc_save, adv_acc_save\n",
    "\n",
    "def pull_model_from_agg(aggregator):\n",
    "        \n",
    "    # This is where the models are stored -- one for each mixture --> learner.model for nn\n",
    "    hypotheses = aggregator.global_learners_ensemble.learners\n",
    "\n",
    "    # obtain the state dict for each of the weights \n",
    "    weights_h = []\n",
    "\n",
    "    for h in hypotheses:\n",
    "        weights_h += [h.model.state_dict()]\n",
    "    \n",
    "    # first make the model with empty weights\n",
    "    new_model = copy.deepcopy(hypotheses[0].model)\n",
    "    return new_model"
   ]
  },
  {
   "cell_type": "code",
   "execution_count": 5,
   "metadata": {},
   "outputs": [],
   "source": [
    "# Obtain parameters for each layer\n",
    "params_FAT = model_FAT.state_dict()\n",
    "params_FedAvg = model_Fedavg.state_dict()\n",
    "\n",
    "# Just take the values of weights and bias for the model\n",
    "desired_keys = [key for key in params_FAT.keys() if 'weight' in key or 'bias' in key]"
   ]
  },
  {
   "cell_type": "code",
   "execution_count": 6,
   "metadata": {},
   "outputs": [],
   "source": [
    "# Find mag norm \n",
    "mag_norm_FedAvg2FAT = []\n",
    "for key in desired_keys: #params_FAT:\n",
    "\n",
    "    diff = params_FAT[key] - params_FedAvg[key]\n",
    "    l2_norm = torch.norm(diff, p=2)\n",
    "\n",
    "    mag_norm_FedAvg2FAT += [diff/torch.norm(diff,p=2)]\n"
   ]
  },
  {
   "cell_type": "code",
   "execution_count": 7,
   "metadata": {},
   "outputs": [
    {
     "name": "stdout",
     "output_type": "stream",
     "text": [
      "==> Clients initialization..\n",
      "===> Building data iterators..\n"
     ]
    },
    {
     "name": "stderr",
     "output_type": "stream",
     "text": [
      "100%|██████████| 80/80 [00:00<00:00, 124.59it/s]\n"
     ]
    },
    {
     "name": "stdout",
     "output_type": "stream",
     "text": [
      "===> Initializing clients..\n"
     ]
    },
    {
     "name": "stderr",
     "output_type": "stream",
     "text": [
      "100%|██████████| 80/80 [00:33<00:00,  2.36it/s]\n"
     ]
    },
    {
     "name": "stdout",
     "output_type": "stream",
     "text": [
      "==> Test Clients initialization..\n",
      "===> Building data iterators..\n"
     ]
    },
    {
     "name": "stderr",
     "output_type": "stream",
     "text": [
      "0it [00:00, ?it/s]\n"
     ]
    },
    {
     "name": "stdout",
     "output_type": "stream",
     "text": [
      "===> Initializing clients..\n"
     ]
    },
    {
     "name": "stderr",
     "output_type": "stream",
     "text": [
      "0it [00:00, ?it/s]\n"
     ]
    },
    {
     "name": "stdout",
     "output_type": "stream",
     "text": [
      "Test acc:  0.7640000581741333 adv acc:  0.3100000023841858\n",
      "round 0 Test acc:  0.7680000066757202 adv acc:  0.27400001883506775\n",
      "round 1 Test acc:  0.7680000066757202 adv acc:  0.3060000240802765\n",
      "round 2 Test acc:  0.8060000538825989 adv acc:  0.25600001215934753\n",
      "round 3 Test acc:  0.7920000553131104 adv acc:  0.25\n",
      "round 4 Test acc:  0.812000036239624 adv acc:  0.20400001108646393\n",
      "round 5 Test acc:  0.8260000348091125 adv acc:  0.21000000834465027\n",
      "round 6 Test acc:  0.8040000200271606 adv acc:  0.23000000417232513\n",
      "round 7 Test acc:  0.812000036239624 adv acc:  0.22600001096725464\n",
      "round 8 Test acc:  0.812000036239624 adv acc:  0.19200000166893005\n",
      "round 9 Test acc:  0.8360000252723694 adv acc:  0.23600001633167267\n",
      "round 10 Test acc:  0.8100000619888306 adv acc:  0.20000000298023224\n",
      "round 11 Test acc:  0.8020000457763672 adv acc:  0.23600001633167267\n",
      "round 12 Test acc:  0.8260000348091125 adv acc:  0.2800000011920929\n",
      "round 13 Test acc:  0.8140000104904175 adv acc:  0.25\n",
      "round 14 Test acc:  0.8400000333786011 adv acc:  0.20200000703334808\n",
      "round 15 Test acc:  0.8340000510215759 adv acc:  0.21000000834465027\n",
      "round 16 Test acc:  0.8420000672340393 adv acc:  0.23400001227855682\n",
      "round 17 Test acc:  0.8420000672340393 adv acc:  0.2600000202655792\n",
      "round 18 Test acc:  0.8320000171661377 adv acc:  0.23000000417232513\n",
      "round 19 Test acc:  0.800000011920929 adv acc:  0.1860000044107437\n"
     ]
    }
   ],
   "source": [
    "# Perform 50 rounds of full overfitting on benign data on 200R FAT model\n",
    "num_rounds = 20\n",
    "\n",
    "setting = 'FedAvg_adv'\n",
    "\n",
    "test_acc_gather = []\n",
    "adv_acc_gather = []\n",
    "cosine_gather_layers = np.zeros([num_rounds, len(desired_keys)])\n",
    "\n",
    "save_path_FAT150 = 'weights/cifar10/231031_FAT150round/FAT/'\n",
    "\n",
    "aggregator, clients, args_ = set_args(setting, num_user)\n",
    "\n",
    "# Test performance of aggregator on data \n",
    "aggregator.load_state(dir_path = save_path_FAT150)\n",
    "aggregator.update_clients()\n",
    "model_FAT = pull_model_from_agg(aggregator)\n",
    "model_FAT.eval()\n",
    "acc, adv_acc = get_adv_acc(aggregator, model_FAT)\n",
    "\n",
    "prev_model = copy.deepcopy(model_FAT)\n",
    "\n",
    "print(\"Test acc: \", np.mean(acc), \"adv acc: \", np.mean(adv_acc))\n",
    "test_acc_gather+= [np.mean(acc)]\n",
    "adv_acc_gather += [np.mean(adv_acc)]\n",
    "\n",
    "# Setting evasion attack parameters\n",
    "x_min = torch.min(clients[0].adv_nn.dataloader.x_data)\n",
    "x_max = torch.max(clients[0].adv_nn.dataloader.x_data)\n",
    "atk_params = PGD_Params()\n",
    "atk_params.set_params(batch_size=1, iteration = 10,\n",
    "                target = -1, x_val_min = x_min, x_val_max = x_max,\n",
    "                step_size = 0.05, step_norm = \"inf\", eps = 4.5, eps_norm = 2)\n",
    "\n",
    "\n",
    "for i in range(num_rounds):\n",
    "    # if i%2 == 0:\n",
    "    #     # add adv dataset update\n",
    "    #     G = 0.5\n",
    "    #     Fu = np.ones(num_user) * G\n",
    "\n",
    "    #     # Assign proportion and attack params\n",
    "    #     for c in range(len(clients)):\n",
    "    #         aggregator.clients[c].set_unhard(unhard = True, unharden_portion = 0.5)\n",
    "    #         aggregator.clients[c].set_adv_params(Fu[c], atk_params)\n",
    "    #         aggregator.clients[c].update_advnn()\n",
    "    #         aggregator.clients[c].assign_advdataset()\n",
    "\n",
    "    aggregator.mix()\n",
    "    model_overfit = pull_model_from_agg(aggregator)\n",
    "    model_overfit.eval()\n",
    "    acc, adv_acc = get_adv_acc(aggregator, model_overfit)\n",
    "\n",
    "    diffnn = get_diff_NN(prev_model, model_overfit, desired_keys)\n",
    "\n",
    "    cosine_gather_layers[i,:] = diff_cosine_similarity(diffnn, mag_norm_FedAvg2FAT, len(desired_keys))\n",
    "    print(\"round\", i,\"Test acc: \", np.mean(acc), \"adv acc: \", np.mean(adv_acc))\n",
    "    test_acc_gather+= [np.mean(acc)]\n",
    "    adv_acc_gather += [np.mean(adv_acc)]\n",
    "    prev_model = copy.deepcopy(model_overfit)\n",
    "    # Perform gradient direction gathering\n",
    "\n",
    "\n"
   ]
  },
  {
   "cell_type": "code",
   "execution_count": 14,
   "metadata": {},
   "outputs": [
    {
     "data": {
      "image/png": "[encoded data removed]",
      "text/plain": [
       "<Figure size 432x288 with 1 Axes>"
      ]
     },
     "metadata": {
      "needs_background": "light"
     },
     "output_type": "display_data"
    }
   ],
   "source": [
    "import matplotlib.pyplot as plt\n",
    "import numpy as np\n",
    "\n",
    "# Generate some sample data\n",
    "x = range(len(test_acc_gather))  # 100 points from 0 to 10\n",
    "y1 = test_acc_gather               # Sine function for the first line\n",
    "y2 = adv_acc_gather             # Cosine function for the second line\n",
    "\n",
    "# Plotting the lines\n",
    "# plt.plot(x, y1, label='Test Acc')\n",
    "plt.plot(x, y2, label='Adv Acc')\n",
    "\n",
    "# Adding labels and title\n",
    "plt.xlabel('Rounds Overfit')\n",
    "plt.ylabel('Accuracy')\n",
    "plt.title('Overfitting on FAT with Benign Data')\n",
    "\n",
    "# Adding a legend\n",
    "plt.legend()\n",
    "\n",
    "# Display the plot\n",
    "plt.show()\n"
   ]
  },
  {
   "cell_type": "code",
   "execution_count": 17,
   "metadata": {},
   "outputs": [
    {
     "data": {
      "image/png": "[encoded data removed]",
      "text/plain": [
       "<Figure size 480x320 with 1 Axes>"
      ]
     },
     "metadata": {
      "needs_background": "light"
     },
     "output_type": "display_data"
    }
   ],
   "source": [
    "np.mean(cosine_gather_layers,axis = 1)\n",
    "\n",
    "import matplotlib.pyplot as plt\n",
    "import numpy as np\n",
    "\n",
    "font = {'family' : 'normal',\n",
    "        'weight' : 'normal',\n",
    "        'size'   : 18}\n",
    "\n",
    "plt.rc('font', **font)\n",
    "plt.figure(dpi=80, figsize=(6,4))\n",
    "\n",
    "# Generate some sample data\n",
    "y1 = np.mean(cosine_gather_layers,axis = 1)\n",
    "x = range(len(y1))  # 100 points from 0 to 10\n",
    "\n",
    "\n",
    "# Plotting the lines\n",
    "plt.plot(x, y1)\n",
    "\n",
    "# Adding labels and title\n",
    "plt.xlabel('Rounds Overfit')\n",
    "plt.ylabel('Cosine Angle of Updates')\n",
    "plt.title('Cosine Angle During Overfitting')\n",
    "\n",
    "# Adding a legend\n",
    "# plt.legend()\n",
    "\n",
    "# Display the plot\n",
    "plt.show()\n"
   ]
  },
  {
   "cell_type": "code",
   "execution_count": 19,
   "metadata": {},
   "outputs": [
    {
     "name": "stdout",
     "output_type": "stream",
     "text": [
      "range(0, 20)\n",
      "[0.11 0.12 0.12 0.10 0.09 0.08 0.07 0.07 0.06 0.06 0.07 0.06 0.07 0.05\n",
      " 0.06 0.05 0.06 0.06 0.07 0.06]\n",
      "[0.3100000023841858, 0.27400001883506775, 0.3060000240802765, 0.25600001215934753, 0.25, 0.20400001108646393, 0.21000000834465027, 0.23000000417232513, 0.22600001096725464, 0.19200000166893005, 0.23600001633167267, 0.20000000298023224, 0.23600001633167267, 0.2800000011920929, 0.25, 0.20200000703334808, 0.21000000834465027, 0.23400001227855682, 0.2600000202655792, 0.23000000417232513, 0.1860000044107437]\n"
     ]
    }
   ],
   "source": [
    "print(x)\n",
    "print(y1)\n",
    "print(y2)\n"
   ]
  },
  {
   "cell_type": "markdown",
   "metadata": {},
   "source": [
    "Trial 1\n",
    "\n",
    "[0.11 0.12 0.12 0.10 0.09 0.08 0.07 0.07 0.06 0.06 0.07 0.06 0.07 0.05\n",
    " 0.06 0.05 0.06 0.06 0.07 0.06]\n",
    "[0.3100000023841858, 0.27400001883506775, 0.3060000240802765, 0.25600001215934753, 0.25, 0.20400001108646393, 0.21000000834465027, 0.23000000417232513, 0.22600001096725464, 0.19200000166893005, 0.23600001633167267, 0.20000000298023224, 0.23600001633167267, 0.2800000011920929, 0.25, 0.20200000703334808, 0.21000000834465027, 0.23400001227855682, 0.2600000202655792, 0.23000000417232513, 0.1860000044107437]"
   ]
  },
  {
   "cell_type": "code",
   "execution_count": 20,
   "metadata": {},
   "outputs": [
    {
     "data": {
      "text/plain": [
       "array([0.05, 0.04, 0.04, 0.03, 0.03, 0.02, 0.01, 0.01, 0.01, 0.00, 0.00,\n",
       "       0.00, 0.00, 0.00, 0.00, 0.00, 0.01, 0.01, 0.00, 0.00])"
      ]
     },
     "execution_count": 20,
     "metadata": {},
     "output_type": "execute_result"
    }
   ],
   "source": [
    "# Get number of params per desired key\n",
    "size = np.zeros(len(desired_keys))\n",
    "i = 0\n",
    "for key in desired_keys:\n",
    "    size[i]=params_FAT[key].flatten().shape[0]\n",
    "    i += 1\n",
    "\n",
    "prop = size/np.sum(size)\n",
    "\n",
    "cosine_propped = np.zeros(cosine_gather_layers.shape)\n",
    "\n",
    "# for t in range(num_rounds):\n",
    "#     cosine_propped[t,:] = np.average(cosine_gather_layers[t,:], weights = prop)\n",
    "\n",
    "np.average(cosine_gather_layers, weights = prop, axis = 1)"
   ]
  },
  {
   "cell_type": "code",
   "execution_count": 23,
   "metadata": {},
   "outputs": [
    {
     "data": {
      "text/plain": [
       "Text(0.5, 1.0, 'Per Layer Cosine Angle Round 1')"
      ]
     },
     "execution_count": 23,
     "metadata": {},
     "output_type": "execute_result"
    },
    {
     "data": {
      "image/png": "[encoded data removed]",
      "text/plain": [
       "<Figure size 480x320 with 1 Axes>"
      ]
     },
     "metadata": {
      "needs_background": "light"
     },
     "output_type": "display_data"
    }
   ],
   "source": [
    "font = {'family' : 'normal',\n",
    "        'weight' : 'normal',\n",
    "        'size'   : 18}\n",
    "\n",
    "plt.rc('font', **font)\n",
    "plt.figure(dpi=80, figsize=(6,4))\n",
    "\n",
    "plt.plot(cosine_gather_layers[0],'.')\n",
    "\n",
    "# Adding labels and title\n",
    "plt.xlabel('MobilenetV2 Layer Index')\n",
    "plt.ylabel('Cosine Angle of Updates')\n",
    "plt.title('Per Layer Cosine Angle Round 1')"
   ]
  },
  {
   "cell_type": "code",
   "execution_count": null,
   "metadata": {},
   "outputs": [],
   "source": []
  }
 ],
 "metadata": {
  "kernelspec": {
   "display_name": "Python 3",
   "language": "python",
   "name": "python3"
  },
  "language_info": {
   "codemirror_mode": {
    "name": "ipython",
    "version": 3
   },
   "file_extension": ".py",
   "mimetype": "text/x-python",
   "name": "python",
   "nbconvert_exporter": "python",
   "pygments_lexer": "ipython3",
   "version": "3.8.5"
  }
 },
 "nbformat": 4,
 "nbformat_minor": 2
}
