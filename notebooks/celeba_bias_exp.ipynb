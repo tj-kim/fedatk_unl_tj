{
 "cells": [
  {
   "cell_type": "code",
   "execution_count": 1,
   "metadata": {},
   "outputs": [
    {
     "name": "stdout",
     "output_type": "stream",
     "text": [
      "/home/ubuntu/fedatk_unl_tj\n"
     ]
    }
   ],
   "source": [
    "cd /home/ubuntu/fedatk_unl_tj/"
   ]
  },
  {
   "cell_type": "code",
   "execution_count": 2,
   "metadata": {},
   "outputs": [
    {
     "name": "stderr",
     "output_type": "stream",
     "text": [
      "/home/ubuntu/anaconda3/envs/FedEM_env/lib/python3.9/site-packages/pandas/core/computation/expressions.py:21: UserWarning: Pandas requires version '2.8.4' or newer of 'numexpr' (version '2.7.3' currently installed).\n",
      "  from pandas.core.computation.check import NUMEXPR_INSTALLED\n",
      "/home/ubuntu/anaconda3/envs/FedEM_env/lib/python3.9/site-packages/pandas/core/arrays/masked.py:60: UserWarning: Pandas requires version '1.3.6' or newer of 'bottleneck' (version '1.3.2' currently installed).\n",
      "  from pandas.core import (\n"
     ]
    }
   ],
   "source": [
    "# Import General Libraries\n",
    "import os\n",
    "import argparse\n",
    "import torch\n",
    "import copy\n",
    "import pickle\n",
    "import random\n",
    "import numpy as np\n",
    "import pandas as pd\n",
    "import gc\n",
    "\n",
    "# Import FedEM based Libraries\n",
    "from utils.utils import *\n",
    "from utils.constants import *\n",
    "from utils.args import *\n",
    "from utils.util_notebooks import *\n",
    "from run_experiment import *\n",
    "from models import *\n",
    "\n",
    "# Import Transfer Attack\n",
    "from transfer_attacks.Personalized_NN import *\n",
    "from transfer_attacks.Params import *\n",
    "from transfer_attacks.Transferer import *\n",
    "from transfer_attacks.Args import *\n",
    "from transfer_attacks.TA_utils import *"
   ]
  },
  {
   "cell_type": "code",
   "execution_count": 31,
   "metadata": {},
   "outputs": [
    {
     "name": "stderr",
     "output_type": "stream",
     "text": [
      "/home/ubuntu/fedatk_unl_tj/aggregator.py:289: FutureWarning: You are using `torch.load` with `weights_only=False` (the current default value), which uses the default pickle module implicitly. It is possible to construct malicious pickle data which will execute arbitrary code during unpickling (See https://github.com/pytorch/pytorch/blob/main/SECURITY.md#untrusted-models for more details). In a future release, the default value for `weights_only` will be flipped to `True`. This limits the functions that could be executed during unpickling. Arbitrary objects will no longer be allowed to be loaded via this mode unless they are explicitly allowlisted by the user via `torch.serialization.add_safe_globals`. We recommend you start setting `weights_only=True` for any use case where you don't have full control of the loaded file. Please open an issue on GitHub for any issues related to this experimental feature.\n",
      "  learner.model.load_state_dict(torch.load(chkpts_path))\n"
     ]
    }
   ],
   "source": [
    "setting, num_user = \"FedAvg_adv\", 40\n",
    "dataset = 'celeba'\n",
    "eps = 4\n",
    "\n",
    "try: # Skip loading if already loaded\n",
    "    aggregator\n",
    "except:\n",
    "    aggregator, clients, args_ = set_args(setting, num_user,  experiment = dataset) # Indicate dataset here\n",
    "\n",
    "# Load models for FAT and FedAvg\n",
    "save_path_FAT = '/home/ubuntu/fedatk_unl_tj/weights/celeba/250123_icml25/FAT/'\n",
    "save_path_FedAvg =  '/home/ubuntu/fedatk_unl_tj/weights/celeba/250123_icml25/FedAvg/'\n",
    "\n",
    "# save_path_FAT = '/home/ubuntu/fedatk_unl_tj/weights/fakenews/250119_small_architecture_moreconv/FAT_ep02/'\n",
    "# save_path_FedAvg = '/home/ubuntu/fedatk_unl_tj/weights/fakenews/250119_small_architecture_moreconv/FedAvg/'\n",
    "\n",
    "model_FAT = copy.deepcopy(import_model_weights(num_user, setting, save_path_FAT, aggregator, args_)[0])\n",
    "model_Fedavg = import_model_weights(num_user, setting, save_path_FedAvg, aggregator, args_)[0]\n"
   ]
  },
  {
   "cell_type": "code",
   "execution_count": 32,
   "metadata": {},
   "outputs": [
    {
     "name": "stdout",
     "output_type": "stream",
     "text": [
      "replaced  conv1_bn.weight\n",
      "replaced  conv1_bn.bias\n",
      "replaced  conv2_bn.weight\n",
      "replaced  conv2_bn.bias\n",
      "replaced  conv3_bn.weight\n",
      "replaced  conv3_bn.bias\n"
     ]
    }
   ],
   "source": [
    "# Linear extrapolation of model for each layer\n",
    "stepsize_alpha = 0.05\n",
    "alpha_set = np.arange(0,1+stepsize_alpha,stepsize_alpha)\n",
    "\n",
    "models_test = []\n",
    "\n",
    "params_FAT = model_FAT.state_dict()\n",
    "params_FedAvg = model_Fedavg.state_dict()\n",
    "\n",
    "\n",
    "# keep_keys = [\n",
    "#     'conv1_bn.weight', 'conv1_bn.bias', 'conv1_bn.running_mean', 'conv1_bn.running_var', 'conv1_bn.num_batches_tracked',\n",
    "#     'conv2_bn.weight', 'conv2_bn.bias', 'conv2_bn.running_mean', 'conv2_bn.running_var', 'conv2_bn.num_batches_tracked', \n",
    "#     'conv3_bn.weight', 'conv3_bn.bias', 'conv3_bn.running_mean', 'conv3_bn.running_var', 'conv3_bn.num_batches_tracked',\n",
    "# ]\n",
    "\n",
    "keep_keys = [\n",
    "    'conv1_bn.weight', 'conv1_bn.bias',\n",
    "    'conv2_bn.weight', 'conv2_bn.bias',\n",
    "    'conv3_bn.weight', 'conv3_bn.bias', \n",
    "]\n",
    "\n",
    "params_FedAvg_adj = copy.deepcopy(params_FedAvg)\n",
    "for key in params_FedAvg_adj.keys():\n",
    "    if key in keep_keys:\n",
    "        print('replaced ', key)\n",
    "        params_FedAvg_adj[key] = copy.deepcopy(params_FAT[key]) \n",
    "\n",
    "# params_FAT_adj = copy.deepcopy(params_FAT)\n",
    "# for key in params_FAT_adj.keys():\n",
    "#     if key in keep_keys:\n",
    "#         print('replaced ', key)\n",
    "#         params_FAT_adj[key] = copy.deepcopy(params_FedAvg[key]) "
   ]
  },
  {
   "cell_type": "code",
   "execution_count": 33,
   "metadata": {},
   "outputs": [
    {
     "data": {
      "text/plain": [
       "odict_keys(['conv1.weight', 'conv1.bias', 'conv1_bn.weight', 'conv1_bn.bias', 'conv1_bn.running_mean', 'conv1_bn.running_var', 'conv1_bn.num_batches_tracked', 'conv2.weight', 'conv2.bias', 'conv2_bn.weight', 'conv2_bn.bias', 'conv2_bn.running_mean', 'conv2_bn.running_var', 'conv2_bn.num_batches_tracked', 'conv3.weight', 'conv3.bias', 'conv3_bn.weight', 'conv3_bn.bias', 'conv3_bn.running_mean', 'conv3_bn.running_var', 'conv3_bn.num_batches_tracked', 'fc1.weight', 'fc1.bias', 'output.weight', 'output.bias'])"
      ]
     },
     "execution_count": 33,
     "metadata": {},
     "output_type": "execute_result"
    }
   ],
   "source": [
    "params_FedAvg_adj.keys()"
   ]
  },
  {
   "cell_type": "code",
   "execution_count": 34,
   "metadata": {},
   "outputs": [],
   "source": [
    "\n",
    "for (a) in alpha_set:\n",
    "    # first make the model with empty weights\n",
    "    new_model = copy.deepcopy(model_FAT)\n",
    "    new_model.eval()\n",
    "    new_weight_dict = copy.deepcopy(params_FAT)\n",
    "    for key in params_FAT:\n",
    "        # new_weight_dict[key] = a*params_FedAvg[key] + (1-a)*params_FAT[key] \n",
    "        new_weight_dict[key] = a*params_FedAvg_adj[key] + (1-a)*params_FAT[key] \n",
    "        # new_weight_dict[key] = a*params_FedAvg[key] + (1-a)*params_FAT_adj[key] \n",
    "    new_model.load_state_dict(new_weight_dict)\n",
    "    models_test += [new_model]\n"
   ]
  },
  {
   "cell_type": "code",
   "execution_count": 35,
   "metadata": {},
   "outputs": [
    {
     "name": "stdout",
     "output_type": "stream",
     "text": [
      "iter  0\n",
      "\t Adv idx: 0\n",
      "\t Adv idx: 1\n",
      "\t Adv idx: 2\n",
      "\t Adv idx: 3\n",
      "\t Adv idx: 4\n",
      "\t Adv idx: 5\n",
      "\t Adv idx: 6\n",
      "\t Adv idx: 7\n",
      "\t Adv idx: 8\n",
      "\t Adv idx: 9\n",
      "\t Adv idx: 10\n",
      "\t Adv idx: 11\n",
      "\t Adv idx: 12\n",
      "\t Adv idx: 13\n",
      "\t Adv idx: 14\n",
      "\t Adv idx: 15\n",
      "\t Adv idx: 16\n",
      "\t Adv idx: 17\n",
      "\t Adv idx: 18\n",
      "\t Adv idx: 19\n",
      "\t Adv idx: 20\n",
      "iter  1\n",
      "\t Adv idx: 0\n",
      "\t Adv idx: 1\n",
      "\t Adv idx: 2\n",
      "\t Adv idx: 3\n",
      "\t Adv idx: 4\n",
      "\t Adv idx: 5\n",
      "\t Adv idx: 6\n",
      "\t Adv idx: 7\n",
      "\t Adv idx: 8\n",
      "\t Adv idx: 9\n",
      "\t Adv idx: 10\n",
      "\t Adv idx: 11\n",
      "\t Adv idx: 12\n",
      "\t Adv idx: 13\n",
      "\t Adv idx: 14\n",
      "\t Adv idx: 15\n",
      "\t Adv idx: 16\n",
      "\t Adv idx: 17\n",
      "\t Adv idx: 18\n",
      "\t Adv idx: 19\n",
      "\t Adv idx: 20\n"
     ]
    }
   ],
   "source": [
    "# Perform transfer attack from one client to another and record stats\n",
    "# models_test = [model_Fedavg, model_FAT]\n",
    "\n",
    "alpha_list = alpha_set.tolist()\n",
    "num_trials = 2\n",
    "acc_store_agg = np.zeros([num_trials, len(alpha_list)])\n",
    "adv_store_agg = np.zeros([num_trials, len(alpha_list)])\n",
    "\n",
    "for itt in range(num_trials):\n",
    "    print('iter ', itt)\n",
    "\n",
    "    # Run Measurements for both targetted and untargeted analysis\n",
    "    victim_idxs = range(len(models_test))\n",
    "    logs_adv = generate_logs_adv(len(models_test))\n",
    "    custom_batch_size = 100\n",
    "\n",
    "\n",
    "    dataloader = load_client_data(clients = clients, c_id = 0, mode = 'all') # or test/train\n",
    "    cross_attack(logs_adv, victim_idxs, dataloader, models_test, custom_batch_size, eps)\n",
    "\n",
    "    metrics = ['orig_acc_transfers','orig_similarities','adv_acc_transfers','adv_similarities_target',\n",
    "                'adv_similarities_untarget','adv_target','adv_miss']\n",
    "\n",
    "    adv_miss = get_metric_list(\"adv_miss\", logs_adv, victim_idxs)\n",
    "    acc = get_metric_list(\"orig_acc_transfers\", logs_adv, victim_idxs)\n",
    "\n",
    "    # Print along diagonal and plot \"robustness against white-box attacks (self)\"\n",
    "    adv_list = []\n",
    "    acc_list = []\n",
    "    for i in range(adv_miss.shape[0]):\n",
    "        adv_list += [adv_miss[i,i]]\n",
    "        acc_list += [acc[i,i]]\n",
    "\n",
    "    acc_store_agg[itt,:] = np.array(acc_list)\n",
    "    adv_store_agg[itt,:] = np.array(adv_list)\n",
    "\n"
   ]
  },
  {
   "cell_type": "code",
   "execution_count": 36,
   "metadata": {},
   "outputs": [
    {
     "name": "stdout",
     "output_type": "stream",
     "text": [
      "[0.78 0.81 0.76 0.76 0.77 0.69 0.72 0.62 0.63 0.48 0.47 0.38 0.24 0.16\n",
      " 0.22 0.21 0.20 0.16 0.20 0.22 0.79]\n",
      "[0.02 0.00 0.02 0.05 0.00 0.05 0.02 0.02 0.06 0.00 0.01 0.00 0.03 0.04\n",
      " 0.03 0.01 0.02 0.00 0.03 0.02 0.01]\n",
      "[0.55 0.56 0.55 0.51 0.49 0.49 0.50 0.46 0.30 0.26 0.23 0.23 0.21 0.21\n",
      " 0.18 0.20 0.25 0.20 0.24 0.19 0.14]\n",
      "[0.03 0.01 0.01 0.07 0.03 0.03 0.06 0.01 0.01 0.01 0.02 0.04 0.01 0.02\n",
      " 0.01 0.01 0.06 0.02 0.03 0.02 0.03]\n"
     ]
    },
    {
     "data": {
      "image/png": "[encoded data removed]",
      "text/plain": [
       "<Figure size 480x320 with 1 Axes>"
      ]
     },
     "metadata": {
      "needs_background": "light"
     },
     "output_type": "display_data"
    }
   ],
   "source": [
    "acc_list_true = np.mean(acc_store_agg, axis = 0)\n",
    "adv_list_true = np.mean(adv_store_agg, axis = 0)\n",
    "\n",
    "acc_list_std = np.std(acc_store_agg, axis = 0)\n",
    "adv_list_std = np.std(adv_store_agg, axis = 0)\n",
    "\n",
    "print(acc_list_true)\n",
    "print(acc_list_std)\n",
    "print(adv_list_true)\n",
    "print(adv_list_std)\n",
    "\n",
    "import numpy as np\n",
    "import matplotlib\n",
    "from matplotlib import pyplot as plt\n",
    "\n",
    "# Sample data\n",
    "x = alpha_list\n",
    "y1 = acc_list_true\n",
    "y2 = adv_list_true\n",
    "\n",
    "# Compute standard deviation\n",
    "std1 = acc_list_std  # Replace with actual standard deviation values\n",
    "std2 = adv_list_std  # Replace with actual standard deviation values\n",
    "\n",
    "font = {'family': 'normal',\n",
    "        'weight': 'normal',\n",
    "        'size': 18}\n",
    "\n",
    "plt.rc('font', **font)\n",
    "plt.figure(dpi=80, figsize=(6, 4))\n",
    "\n",
    "# Plot the first line (y1) with shaded region for standard deviation\n",
    "plt.plot(x, y1, label='Test Acc', color='b', linewidth=2, linestyle='-', marker='o', markersize=5)\n",
    "plt.fill_between(x, y1 - std1, y1 + std1, color='b', alpha=0.2)\n",
    "\n",
    "# Plot the second line (y2) with shaded region for standard deviation\n",
    "plt.plot(x, y2, label='Adv Acc', color='r', linewidth=2, linestyle='--', marker='s', markersize=5)\n",
    "plt.fill_between(x, y2 - std2, y2 + std2, color='r', alpha=0.2)\n",
    "\n",
    "# Set plot title and labels\n",
    "plt.title('Interpolation from FAT to FedAvg')\n",
    "plt.xlabel('Proportion of FedAvg Model')\n",
    "plt.ylabel('Accuracy')\n",
    "\n",
    "# Add a legend\n",
    "plt.legend()\n",
    "\n",
    "# Show the plot\n",
    "plt.show()\n"
   ]
  },
  {
   "cell_type": "code",
   "execution_count": null,
   "metadata": {},
   "outputs": [],
   "source": []
  }
 ],
 "metadata": {
  "kernelspec": {
   "display_name": "FedEM_env",
   "language": "python",
   "name": "python3"
  },
  "language_info": {
   "codemirror_mode": {
    "name": "ipython",
    "version": 3
   },
   "file_extension": ".py",
   "mimetype": "text/x-python",
   "name": "python",
   "nbconvert_exporter": "python",
   "pygments_lexer": "ipython3",
   "version": "3.9.6"
  }
 },
 "nbformat": 4,
 "nbformat_minor": 2
}
