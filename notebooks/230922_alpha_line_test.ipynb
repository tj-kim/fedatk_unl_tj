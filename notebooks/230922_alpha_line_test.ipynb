{
 "cells": [
  {
   "cell_type": "markdown",
   "metadata": {},
   "source": [
    "### Alpha-Line Interpolation Between Robust/Feeble Model\n",
    "\n",
    "Sept 24 2023\n",
    "TJ Kim\n",
    "\n",
    "##### Summary\n",
    "Load model trained with federated adversarial training (FAT, high robustness against adversarial attacks) and FedAvg (low robustness). We make linear combinations of parameters of models and see if the robustness gradually changes as we sweep between FAT and FedAvg models."
   ]
  },
  {
   "cell_type": "code",
   "execution_count": 1,
   "metadata": {},
   "outputs": [
    {
     "name": "stdout",
     "output_type": "stream",
     "text": [
      "/home/ubuntu/fedatk_unl_tj\n"
     ]
    }
   ],
   "source": [
    "cd /home/ubuntu/fedatk_unl_tj/"
   ]
  },
  {
   "cell_type": "code",
   "execution_count": 2,
   "metadata": {},
   "outputs": [],
   "source": [
    "# Import General Libraries\n",
    "import os\n",
    "import argparse\n",
    "import torch\n",
    "import copy\n",
    "import pickle\n",
    "import random\n",
    "import numpy as np\n",
    "import pandas as pd\n",
    "\n",
    "# Import FedEM based Libraries\n",
    "from utils.utils import *\n",
    "from utils.constants import *\n",
    "from utils.args import *\n",
    "from utils.util_notebooks import *\n",
    "from run_experiment import *\n",
    "from models import *\n",
    "\n",
    "# Import Transfer Attack\n",
    "from transfer_attacks.Personalized_NN import *\n",
    "from transfer_attacks.Params import *\n",
    "from transfer_attacks.Transferer import *\n",
    "from transfer_attacks.Args import *\n",
    "from transfer_attacks.TA_utils import *"
   ]
  },
  {
   "cell_type": "code",
   "execution_count": 3,
   "metadata": {},
   "outputs": [
    {
     "name": "stdout",
     "output_type": "stream",
     "text": [
      "==> Clients initialization..\n",
      "===> Building data iterators..\n"
     ]
    },
    {
     "name": "stderr",
     "output_type": "stream",
     "text": [
      "100%|██████████| 80/80 [00:00<00:00, 153.35it/s]\n"
     ]
    },
    {
     "name": "stdout",
     "output_type": "stream",
     "text": [
      "===> Initializing clients..\n"
     ]
    },
    {
     "name": "stderr",
     "output_type": "stream",
     "text": [
      "100%|██████████| 80/80 [00:14<00:00,  5.47it/s]\n"
     ]
    },
    {
     "name": "stdout",
     "output_type": "stream",
     "text": [
      "==> Test Clients initialization..\n",
      "===> Building data iterators..\n"
     ]
    },
    {
     "name": "stderr",
     "output_type": "stream",
     "text": [
      "0it [00:00, ?it/s]\n"
     ]
    },
    {
     "name": "stdout",
     "output_type": "stream",
     "text": [
      "===> Initializing clients..\n"
     ]
    },
    {
     "name": "stderr",
     "output_type": "stream",
     "text": [
      "0it [00:00, ?it/s]\n"
     ]
    }
   ],
   "source": [
    "setting, num_user = \"FedAvg\", 40\n",
    "\n",
    "try: # Skip loading if already loaded\n",
    "    aggregator\n",
    "except:\n",
    "    aggregator, clients, args_ = set_args(setting, num_user)\n",
    "\n",
    "# Load models for FAT and FedAvg\n",
    "save_path_FAT = 'weights/cifar10/230922_baseline_train/FAT/'\n",
    "save_path_FedAvg = 'weights/cifar10/230922_baseline_train/fedavg/'\n",
    "\n",
    "model_FAT = copy.deepcopy(import_model_weights(num_user, setting, save_path_FAT, aggregator, args_)[0])\n",
    "model_Fedavg = import_model_weights(num_user, setting, save_path_FedAvg, aggregator, args_)[0]\n"
   ]
  },
  {
   "cell_type": "code",
   "execution_count": 4,
   "metadata": {},
   "outputs": [],
   "source": [
    "# Linear extrapolation of model for each layer\n",
    "stepsize_alpha = 0.05\n",
    "alpha_set = np.arange(0,1+stepsize_alpha,stepsize_alpha)\n",
    "\n",
    "models_test = []\n",
    "\n",
    "params_FAT = model_FAT.state_dict()\n",
    "params_FedAvg = model_Fedavg.state_dict()\n",
    "\n",
    "\n",
    "for (a) in alpha_set:\n",
    "    # first make the model with empty weights\n",
    "    new_model = copy.deepcopy(model_FAT)\n",
    "    new_model.eval()\n",
    "    new_weight_dict = copy.deepcopy(params_FAT)\n",
    "    for key in params_FAT:\n",
    "        new_weight_dict[key] = a*params_FedAvg[key] + (1-a)*params_FAT[key] \n",
    "    new_model.load_state_dict(new_weight_dict)\n",
    "    models_test += [new_model]\n"
   ]
  },
  {
   "cell_type": "code",
   "execution_count": 5,
   "metadata": {},
   "outputs": [
    {
     "name": "stdout",
     "output_type": "stream",
     "text": [
      "\t Adv idx: 0\n",
      "\t Adv idx: 1\n",
      "\t Adv idx: 2\n",
      "\t Adv idx: 3\n",
      "\t Adv idx: 4\n",
      "\t Adv idx: 5\n",
      "\t Adv idx: 6\n",
      "\t Adv idx: 7\n",
      "\t Adv idx: 8\n",
      "\t Adv idx: 9\n",
      "\t Adv idx: 10\n",
      "\t Adv idx: 11\n",
      "\t Adv idx: 12\n",
      "\t Adv idx: 13\n",
      "\t Adv idx: 14\n",
      "\t Adv idx: 15\n",
      "\t Adv idx: 16\n",
      "\t Adv idx: 17\n",
      "\t Adv idx: 18\n",
      "\t Adv idx: 19\n",
      "\t Adv idx: 20\n"
     ]
    }
   ],
   "source": [
    "# Perform transfer attack from one client to another and record stats\n",
    "# models_test = [model_Fedavg, model_FAT]\n",
    "\n",
    "# Run Measurements for both targetted and untargeted analysis\n",
    "victim_idxs = range(len(models_test))\n",
    "logs_adv = generate_logs_adv(len(models_test))\n",
    "custom_batch_size = 500\n",
    "eps = 3\n",
    "\n",
    "dataloader = load_client_data(clients = clients, c_id = 0, mode = 'all') # or test/train\n",
    "cross_attack(logs_adv, victim_idxs, dataloader, models_test, custom_batch_size, eps)"
   ]
  },
  {
   "cell_type": "code",
   "execution_count": 6,
   "metadata": {},
   "outputs": [],
   "source": [
    "metrics = ['orig_acc_transfers','orig_similarities','adv_acc_transfers','adv_similarities_target',\n",
    "            'adv_similarities_untarget','adv_target','adv_miss']\n",
    "\n",
    "adv_miss = get_metric_list(\"adv_miss\", logs_adv, victim_idxs)\n",
    "acc = get_metric_list(\"orig_acc_transfers\", logs_adv, victim_idxs)\n",
    "\n",
    "# Print along diagonal and plot \"robustness against white-box attacks (self)\"\n",
    "alpha_list = alpha_set.tolist()\n",
    "adv_list = []\n",
    "acc_list = []\n",
    "for i in range(adv_miss.shape[0]):\n",
    "    adv_list += [adv_miss[i,i]]\n",
    "    acc_list += [acc[i,i]]\n",
    "\n"
   ]
  },
  {
   "cell_type": "code",
   "execution_count": 18,
   "metadata": {},
   "outputs": [
    {
     "data": {
      "image/png": "[encoded data removed]",
      "text/plain": [
       "<Figure size 480x320 with 1 Axes>"
      ]
     },
     "metadata": {
      "needs_background": "light"
     },
     "output_type": "display_data"
    }
   ],
   "source": [
    "import matplotlib\n",
    "from matplotlib import pyplot as plt\n",
    "\n",
    "x = alpha_list\n",
    "y1 = acc_list\n",
    "y2 = adv_list\n",
    "\n",
    "font = {'family' : 'normal',\n",
    "        'weight' : 'bold',\n",
    "        'size'   : 18}\n",
    "\n",
    "plt.rc('font', **font)\n",
    "plt.figure(dpi=80, figsize=(6,4))\n",
    "\n",
    "# Create a figure and axis\n",
    "# fig, ax = plt.subplots()\n",
    "\n",
    "# Plot the first line (y1)\n",
    "plt.plot(x, y1, label='Test Acc', color='b', linewidth=2, linestyle='-', marker='o', markersize=5)\n",
    "\n",
    "# Plot the second line (y2)\n",
    "plt.plot(x, y2, label='Adv Acc', color='r', linewidth=2, linestyle='--', marker='s', markersize=5)\n",
    "\n",
    "# Set plot title and labels\n",
    "plt.title('Interpolation from FAT to FedAvg')\n",
    "plt.xlabel('Proportion of FedAvg Model')\n",
    "plt.ylabel('Accuracy')\n",
    "\n",
    "# Add a legend\n",
    "plt.legend()\n",
    "\n",
    "# Customize the grid\n",
    "# ax.grid(True, linestyle='--', alpha=0.7)\n",
    "\n",
    "# Customize the plot style\n",
    "# plt.style.use('seaborn-darkgrid')\n",
    "\n",
    "# Show the plot\n",
    "plt.show()"
   ]
  },
  {
   "cell_type": "code",
   "execution_count": null,
   "metadata": {},
   "outputs": [],
   "source": []
  }
 ],
 "metadata": {
  "kernelspec": {
   "display_name": "FedEM_env",
   "language": "python",
   "name": "python3"
  },
  "language_info": {
   "codemirror_mode": {
    "name": "ipython",
    "version": 3
   },
   "file_extension": ".py",
   "mimetype": "text/x-python",
   "name": "python",
   "nbconvert_exporter": "python",
   "pygments_lexer": "ipython3",
   "version": "3.9.6"
  },
  "orig_nbformat": 4
 },
 "nbformat": 4,
 "nbformat_minor": 2
}
