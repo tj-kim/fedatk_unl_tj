{
 "cells": [
  {
   "cell_type": "markdown",
   "metadata": {},
   "source": [
    "### NN Vector Pull for Direction\n",
    "\n",
    "Jan 17 2024\n",
    "TJ Kim\n",
    "\n",
    "##### Summary\n",
    "Load any NN model. Obtain layer by layer the unit direction vector (against vector of zeros). See if cosine similarity can be used as a metric to measure direction. Previously this was done to overfit a FAT model and push it towards FedAvg model. Now, the goal is to perform adversarial training on a FedAvg model to pull towards FAT model."
   ]
  },
  {
   "cell_type": "code",
   "execution_count": 1,
   "metadata": {},
   "outputs": [
    {
     "name": "stdout",
     "output_type": "stream",
     "text": [
      "/home/ubuntu/fedatk_unl_tj\n"
     ]
    }
   ],
   "source": [
    "cd /home/ubuntu/fedatk_unl_tj/"
   ]
  },
  {
   "cell_type": "code",
   "execution_count": 2,
   "metadata": {},
   "outputs": [],
   "source": [
    "# Import General Libraries\n",
    "import os\n",
    "import argparse\n",
    "import torch\n",
    "import copy\n",
    "import pickle\n",
    "import random\n",
    "import numpy as np\n",
    "import pandas as pd\n",
    "\n",
    "# Import FedEM based Libraries\n",
    "from utils.utils import *\n",
    "from utils.constants import *\n",
    "from utils.args import *\n",
    "from utils.util_notebooks import *\n",
    "from run_experiment import *\n",
    "from models import *\n",
    "\n",
    "# Import Transfer Attack\n",
    "from transfer_attacks.Personalized_NN import *\n",
    "from transfer_attacks.Params import *\n",
    "from transfer_attacks.Transferer import *\n",
    "from transfer_attacks.Args import *\n",
    "from transfer_attacks.TA_utils import *"
   ]
  },
  {
   "cell_type": "code",
   "execution_count": 3,
   "metadata": {},
   "outputs": [
    {
     "name": "stdout",
     "output_type": "stream",
     "text": [
      "==> Clients initialization..\n",
      "===> Building data iterators..\n"
     ]
    },
    {
     "name": "stderr",
     "output_type": "stream",
     "text": [
      "100%|██████████| 80/80 [00:00<00:00, 163.46it/s]\n"
     ]
    },
    {
     "name": "stdout",
     "output_type": "stream",
     "text": [
      "===> Initializing clients..\n"
     ]
    },
    {
     "name": "stderr",
     "output_type": "stream",
     "text": [
      "100%|██████████| 80/80 [00:36<00:00,  2.22it/s]\n"
     ]
    },
    {
     "name": "stdout",
     "output_type": "stream",
     "text": [
      "==> Test Clients initialization..\n",
      "===> Building data iterators..\n"
     ]
    },
    {
     "name": "stderr",
     "output_type": "stream",
     "text": [
      "0it [00:00, ?it/s]\n"
     ]
    },
    {
     "name": "stdout",
     "output_type": "stream",
     "text": [
      "===> Initializing clients..\n"
     ]
    },
    {
     "name": "stderr",
     "output_type": "stream",
     "text": [
      "0it [00:00, ?it/s]\n"
     ]
    }
   ],
   "source": [
    "setting, num_user = \"FedAvg_adv\", 40\n",
    "\n",
    "try: # Skip loading if already loaded\n",
    "    aggregator\n",
    "except:\n",
    "    aggregator, clients, args_ = set_args(setting, num_user)\n",
    "\n",
    "# Load models for FAT and FedAvg\n",
    "save_path_FAT = 'weights/cifar10/230922_baseline_train/FAT/'\n",
    "save_path_FedAvg = 'weights/cifar10/230922_baseline_train/fedavg/'\n",
    "\n",
    "model_FAT = copy.deepcopy(import_model_weights(num_user, setting, save_path_FAT, aggregator, args_)[0])\n",
    "model_Fedavg = import_model_weights(num_user, setting, save_path_FedAvg, aggregator, args_)[0]\n"
   ]
  },
  {
   "cell_type": "code",
   "execution_count": 4,
   "metadata": {},
   "outputs": [],
   "source": [
    "# Obtain parameters for each layer\n",
    "params_FAT = model_FAT.state_dict()\n",
    "params_FedAvg = model_Fedavg.state_dict()\n",
    "\n",
    "# Just take the values of weights and bias for the model\n",
    "desired_keys = [key for key in params_FAT.keys() if 'weight' in key or 'bias' in key]"
   ]
  },
  {
   "cell_type": "code",
   "execution_count": 5,
   "metadata": {},
   "outputs": [],
   "source": [
    "# Find mag norm \n",
    "mag_norm_FAT2FedAvg = []\n",
    "for key in desired_keys: #params_FAT:\n",
    "\n",
    "    diff =  params_FedAvg[key] - params_FAT[key]\n",
    "    l2_norm = torch.norm(diff, p=2)\n",
    "\n",
    "    mag_norm_FAT2FedAvg += [diff/torch.norm(diff,p=2)]\n"
   ]
  },
  {
   "cell_type": "code",
   "execution_count": 20,
   "metadata": {},
   "outputs": [
    {
     "name": "stdout",
     "output_type": "stream",
     "text": [
      "==> Clients initialization..\n",
      "===> Building data iterators..\n"
     ]
    },
    {
     "name": "stderr",
     "output_type": "stream",
     "text": [
      "100%|██████████| 80/80 [00:00<00:00, 218.22it/s]\n"
     ]
    },
    {
     "name": "stdout",
     "output_type": "stream",
     "text": [
      "===> Initializing clients..\n"
     ]
    },
    {
     "name": "stderr",
     "output_type": "stream",
     "text": [
      "100%|██████████| 80/80 [00:33<00:00,  2.39it/s]\n"
     ]
    },
    {
     "name": "stdout",
     "output_type": "stream",
     "text": [
      "==> Test Clients initialization..\n",
      "===> Building data iterators..\n"
     ]
    },
    {
     "name": "stderr",
     "output_type": "stream",
     "text": [
      "0it [00:00, ?it/s]\n"
     ]
    },
    {
     "name": "stdout",
     "output_type": "stream",
     "text": [
      "===> Initializing clients..\n"
     ]
    },
    {
     "name": "stderr",
     "output_type": "stream",
     "text": [
      "0it [00:00, ?it/s]\n"
     ]
    },
    {
     "name": "stdout",
     "output_type": "stream",
     "text": [
      "Test acc:  0.8125 adv acc:  0.012500000186264515\n",
      "updating adv data set\n",
      "round 0 Test acc:  0.699999988079071 adv acc:  0.0625\n",
      "round 1 Test acc:  0.737500011920929 adv acc:  0.17499999701976776\n",
      "round 2 Test acc:  0.75 adv acc:  0.17499999701976776\n",
      "round 3 Test acc:  0.7875000238418579 adv acc:  0.1875\n",
      "round 4 Test acc:  0.800000011920929 adv acc:  0.1875\n",
      "round 5 Test acc:  0.8125 adv acc:  0.20000000298023224\n",
      "round 6 Test acc:  0.8125 adv acc:  0.1875\n",
      "round 7 Test acc:  0.8125 adv acc:  0.1875\n",
      "round 8 Test acc:  0.8125 adv acc:  0.1875\n",
      "round 9 Test acc:  0.8125 adv acc:  0.1875\n",
      "updating adv data set\n",
      "round 10 Test acc:  0.7750000357627869 adv acc:  0.17499999701976776\n",
      "round 11 Test acc:  0.7750000357627869 adv acc:  0.20000000298023224\n",
      "round 12 Test acc:  0.7750000357627869 adv acc:  0.1875\n",
      "round 13 Test acc:  0.7750000357627869 adv acc:  0.20000000298023224\n",
      "round 14 Test acc:  0.7875000238418579 adv acc:  0.22500000894069672\n",
      "round 15 Test acc:  0.7875000238418579 adv acc:  0.20000000298023224\n",
      "round 16 Test acc:  0.7875000238418579 adv acc:  0.1875\n",
      "round 17 Test acc:  0.7875000238418579 adv acc:  0.21250000596046448\n",
      "round 18 Test acc:  0.7750000357627869 adv acc:  0.1875\n",
      "round 19 Test acc:  0.7750000357627869 adv acc:  0.1875\n",
      "updating adv data set\n",
      "round 20 Test acc:  0.7750000357627869 adv acc:  0.1875\n",
      "round 21 Test acc:  0.7750000357627869 adv acc:  0.1875\n",
      "round 22 Test acc:  0.7875000238418579 adv acc:  0.21250000596046448\n",
      "round 23 Test acc:  0.7875000238418579 adv acc:  0.1875\n",
      "round 24 Test acc:  0.7875000238418579 adv acc:  0.22500000894069672\n",
      "round 25 Test acc:  0.7875000238418579 adv acc:  0.20000000298023224\n",
      "round 26 Test acc:  0.7875000238418579 adv acc:  0.21250000596046448\n",
      "round 27 Test acc:  0.7875000238418579 adv acc:  0.23749999701976776\n",
      "round 28 Test acc:  0.7750000357627869 adv acc:  0.21250000596046448\n",
      "round 29 Test acc:  0.762499988079071 adv acc:  0.21250000596046448\n",
      "updating adv data set\n",
      "round 30 Test acc:  0.7750000357627869 adv acc:  0.21250000596046448\n",
      "round 31 Test acc:  0.800000011920929 adv acc:  0.22500000894069672\n",
      "round 32 Test acc:  0.800000011920929 adv acc:  0.21250000596046448\n",
      "round 33 Test acc:  0.8125 adv acc:  0.20000000298023224\n",
      "round 34 Test acc:  0.8125 adv acc:  0.21250000596046448\n",
      "round 35 Test acc:  0.8125 adv acc:  0.22500000894069672\n",
      "round 36 Test acc:  0.8125 adv acc:  0.25\n",
      "round 37 Test acc:  0.8125 adv acc:  0.23749999701976776\n",
      "round 38 Test acc:  0.8125 adv acc:  0.23749999701976776\n",
      "round 39 Test acc:  0.800000011920929 adv acc:  0.22500000894069672\n",
      "updating adv data set\n",
      "round 40 Test acc:  0.800000011920929 adv acc:  0.21250000596046448\n",
      "round 41 Test acc:  0.800000011920929 adv acc:  0.21250000596046448\n",
      "round 42 Test acc:  0.800000011920929 adv acc:  0.22500000894069672\n",
      "round 43 Test acc:  0.7875000238418579 adv acc:  0.23749999701976776\n",
      "round 44 Test acc:  0.7750000357627869 adv acc:  0.22500000894069672\n",
      "round 45 Test acc:  0.7750000357627869 adv acc:  0.23749999701976776\n",
      "round 46 Test acc:  0.762499988079071 adv acc:  0.23749999701976776\n",
      "round 47 Test acc:  0.762499988079071 adv acc:  0.22500000894069672\n",
      "round 48 Test acc:  0.762499988079071 adv acc:  0.23749999701976776\n",
      "round 49 Test acc:  0.762499988079071 adv acc:  0.25\n"
     ]
    }
   ],
   "source": [
    "# Perform 50 rounds of FAT on FedAvg model \n",
    "num_rounds = 50\n",
    "setting, num_user = \"FedAvg_adv\", 40\n",
    "\n",
    "\n",
    "test_acc_gather = []\n",
    "adv_acc_gather = []\n",
    "cosine_gather_layers = np.zeros([num_rounds, len(desired_keys)])\n",
    "\n",
    "save_path_FedAvg_150R = 'weights/cifar10/240117_FedAvg150round/FedAvg/'\n",
    "\n",
    "aggregator, clients, args_ = set_args(setting, num_user)\n",
    "\n",
    "# Test performance of aggregator on data \n",
    "aggregator.load_state(dir_path = save_path_FedAvg_150R)\n",
    "aggregator.update_clients()\n",
    "model_FA = pull_model_from_agg(aggregator)\n",
    "model_FA.eval()\n",
    "acc, adv_acc = get_adv_acc(aggregator, model_FA)\n",
    "\n",
    "prev_model = copy.deepcopy(model_FA)\n",
    "\n",
    "print(\"Test acc: \", np.mean(acc), \"adv acc: \", np.mean(adv_acc))\n",
    "test_acc_gather+= [np.mean(acc)]\n",
    "adv_acc_gather += [np.mean(adv_acc)]\n",
    "\n",
    "# Setting evasion attack parameters\n",
    "x_min = torch.min(clients[0].adv_nn.dataloader.x_data)\n",
    "x_max = torch.max(clients[0].adv_nn.dataloader.x_data)\n",
    "atk_params = PGD_Params()\n",
    "atk_params.set_params(batch_size=1, iteration = 10,\n",
    "                target = -1, x_val_min = x_min, x_val_max = x_max,\n",
    "                step_size = 0.05, step_norm = \"inf\", eps = 4.5, eps_norm = 2)\n",
    "\n",
    "adv_update_rnd_freq = 10\n",
    "\n",
    "for i in range(num_rounds):\n",
    "\n",
    "    # Per round Freq\n",
    "    if i%adv_update_rnd_freq == 0:\n",
    "        print(\"updating adv data set\")\n",
    "        # add adv dataset update\n",
    "        G = 0.5\n",
    "        Fu = np.ones(num_user) * G\n",
    "\n",
    "        # Assign proportion and attack params\n",
    "        for c in range(len(clients)):\n",
    "            aggregator.clients[c].set_adv_params(Fu[c], atk_params)\n",
    "            aggregator.clients[c].update_advnn()\n",
    "            aggregator.clients[c].assign_advdataset()\n",
    "\n",
    "    aggregator.mix()\n",
    "    model_overfit = pull_model_from_agg(aggregator)\n",
    "    model_overfit.eval()\n",
    "    acc, adv_acc = get_adv_acc(aggregator, model_overfit)\n",
    "\n",
    "    diffnn = get_diff_NN(prev_model, model_overfit, desired_keys)\n",
    "\n",
    "    cosine_gather_layers[i,:] = diff_cosine_similarity(diffnn, mag_norm_FAT2FedAvg, len(desired_keys))\n",
    "    print(\"round\", i,\"Test acc: \", np.mean(acc), \"adv acc: \", np.mean(adv_acc))\n",
    "    test_acc_gather+= [np.mean(acc)]\n",
    "    adv_acc_gather += [np.mean(adv_acc)]\n",
    "    prev_model = copy.deepcopy(model_overfit)\n",
    "    # Perform gradient direction gathering"
   ]
  },
  {
   "cell_type": "code",
   "execution_count": 21,
   "metadata": {},
   "outputs": [
    {
     "data": {
      "text/plain": [
       "(158,)"
      ]
     },
     "execution_count": 21,
     "metadata": {},
     "output_type": "execute_result"
    }
   ],
   "source": [
    "diff_cosine_similarity(diffnn, mag_norm_FAT2FedAvg, len(desired_keys)).shape"
   ]
  },
  {
   "cell_type": "code",
   "execution_count": 22,
   "metadata": {},
   "outputs": [
    {
     "data": {
      "image/png": "[encoded data removed]",
      "text/plain": [
       "<Figure size 432x288 with 1 Axes>"
      ]
     },
     "metadata": {
      "needs_background": "light"
     },
     "output_type": "display_data"
    }
   ],
   "source": [
    "import matplotlib.pyplot as plt\n",
    "import numpy as np\n",
    "\n",
    "# Generate some sample data\n",
    "x = range(len(test_acc_gather))  # 100 points from 0 to 10\n",
    "y1 = test_acc_gather               # Sine function for the first line\n",
    "y2 = adv_acc_gather             # Cosine function for the second line\n",
    "\n",
    "# Plotting the lines\n",
    "# plt.plot(x, y1, label='Test Acc')\n",
    "plt.plot(x, y2, label='Adv Acc')\n",
    "\n",
    "# Adding labels and title\n",
    "plt.xlabel('Rounds Overfit')\n",
    "plt.ylabel('Accuracy')\n",
    "plt.title('Overfitting on FAT with Benign Data')\n",
    "\n",
    "# Adding a legend\n",
    "plt.legend()\n",
    "\n",
    "# Display the plot\n",
    "plt.show()\n"
   ]
  },
  {
   "cell_type": "code",
   "execution_count": 23,
   "metadata": {},
   "outputs": [
    {
     "data": {
      "image/png": "[encoded data removed]",
      "text/plain": [
       "<Figure size 432x288 with 1 Axes>"
      ]
     },
     "metadata": {
      "needs_background": "light"
     },
     "output_type": "display_data"
    }
   ],
   "source": [
    "np.mean(cosine_gather_layers,axis = 1)\n",
    "\n",
    "import matplotlib.pyplot as plt\n",
    "import numpy as np\n",
    "\n",
    "# Generate some sample data\n",
    "y1 = np.mean(cosine_gather_layers,axis = 1)\n",
    "x = range(len(y1))  # 100 points from 0 to 10\n",
    "\n",
    "\n",
    "# Plotting the lines\n",
    "plt.plot(x, y1, label='Cosine Angle')\n",
    "\n",
    "# Adding labels and title\n",
    "plt.xlabel('Rounds Overfit')\n",
    "plt.ylabel('Cosine Angle of Deltas')\n",
    "plt.title('Cosine Anglue During Overfitting')\n",
    "\n",
    "# Adding a legend\n",
    "# plt.legend()\n",
    "\n",
    "# Display the plot\n",
    "plt.show()\n"
   ]
  },
  {
   "cell_type": "code",
   "execution_count": 24,
   "metadata": {},
   "outputs": [
    {
     "data": {
      "text/plain": [
       "array([0.71, 0.67, 0.58, 0.57, 0.56, 0.63, 0.50, 0.50, 0.56, 0.50, 0.45,\n",
       "       0.38, 0.41, 0.38, 0.36, 0.36, 0.35, 0.32, 0.31, 0.30, 0.35, 0.39,\n",
       "       0.40, 0.36, 0.37, 0.36, 0.36, 0.34, 0.34, 0.34, 0.36, 0.39, 0.44,\n",
       "       0.42, 0.45, 0.44, 0.43, 0.41, 0.44, 0.42, 0.49, 0.52, 0.53, 0.54,\n",
       "       0.53, 0.54, 0.53, 0.55, 0.54, 0.50])"
      ]
     },
     "execution_count": 24,
     "metadata": {},
     "output_type": "execute_result"
    }
   ],
   "source": [
    "cosine_gather_layers[:,10]"
   ]
  },
  {
   "cell_type": "code",
   "execution_count": 25,
   "metadata": {},
   "outputs": [
    {
     "data": {
      "text/plain": [
       "array([0.12, 0.14, 0.10, 0.06, 0.06, 0.05, 0.04, 0.04, 0.04, 0.04, 0.09,\n",
       "       0.09, 0.09, 0.09, 0.09, 0.09, 0.09, 0.09, 0.09, 0.09, 0.10, 0.10,\n",
       "       0.10, 0.10, 0.10, 0.10, 0.10, 0.10, 0.10, 0.10, 0.10, 0.10, 0.10,\n",
       "       0.10, 0.10, 0.10, 0.10, 0.10, 0.10, 0.10, 0.11, 0.11, 0.11, 0.11,\n",
       "       0.11, 0.11, 0.11, 0.11, 0.11, 0.11])"
      ]
     },
     "execution_count": 25,
     "metadata": {},
     "output_type": "execute_result"
    }
   ],
   "source": [
    "# Get number of params per desired key\n",
    "size = np.zeros(len(desired_keys))\n",
    "i = 0\n",
    "for key in desired_keys:\n",
    "    size[i]=params_FAT[key].flatten().shape[0]\n",
    "    i += 1\n",
    "\n",
    "prop = size/np.sum(size)\n",
    "\n",
    "cosine_propped = np.zeros(cosine_gather_layers.shape)\n",
    "\n",
    "# for t in range(num_rounds):\n",
    "#     cosine_propped[t,:] = np.average(cosine_gather_layers[t,:], weights = prop)\n",
    "\n",
    "np.average(cosine_gather_layers, weights = prop, axis = 1)"
   ]
  },
  {
   "cell_type": "code",
   "execution_count": 26,
   "metadata": {},
   "outputs": [
    {
     "data": {
      "text/plain": [
       "0.04939374553427972"
      ]
     },
     "execution_count": 26,
     "metadata": {},
     "output_type": "execute_result"
    }
   ],
   "source": [
    "np.average(cosine_gather_layers[5], weights = prop)"
   ]
  },
  {
   "cell_type": "code",
   "execution_count": 27,
   "metadata": {},
   "outputs": [
    {
     "data": {
      "text/plain": [
       "[<matplotlib.lines.Line2D at 0x7f2f714ca0d0>]"
      ]
     },
     "execution_count": 27,
     "metadata": {},
     "output_type": "execute_result"
    },
    {
     "data": {
      "image/png": "[encoded data removed]",
      "text/plain": [
       "<Figure size 432x288 with 1 Axes>"
      ]
     },
     "metadata": {
      "needs_background": "light"
     },
     "output_type": "display_data"
    }
   ],
   "source": [
    "plt.plot(cosine_gather_layers[0])"
   ]
  },
  {
   "cell_type": "code",
   "execution_count": null,
   "metadata": {},
   "outputs": [],
   "source": []
  }
 ],
 "metadata": {
  "kernelspec": {
   "display_name": "FedEM_env",
   "language": "python",
   "name": "python3"
  },
  "language_info": {
   "codemirror_mode": {
    "name": "ipython",
    "version": 3
   },
   "file_extension": ".py",
   "mimetype": "text/x-python",
   "name": "python",
   "nbconvert_exporter": "python",
   "pygments_lexer": "ipython3",
   "version": "3.9.6"
  }
 },
 "nbformat": 4,
 "nbformat_minor": 2
}
