{
 "cells": [
  {
   "cell_type": "markdown",
   "metadata": {},
   "source": [
    "### Model Aggregation Scheme Overview\n",
    "\n",
    "Jan 14 2024\n",
    "TJ Kim\n",
    "\n",
    "##### Summary\n",
    "Trained 6 models [FedAvg, FAT] x [Vanilla, Trimmed Mean, Median]. Record test acc and adv acc for each setting. Each model has only been trained for 50 round to save time.\n",
    "\n",
    "Goal is to see if robust aggregation schemes harm performances, as we want to discredit the effectiveness of robust aggregation schemes against our proposed attack."
   ]
  },
  {
   "cell_type": "code",
   "execution_count": 1,
   "metadata": {},
   "outputs": [
    {
     "name": "stdout",
     "output_type": "stream",
     "text": [
      "/home/ubuntu/fedatk_unl_tj\n"
     ]
    }
   ],
   "source": [
    "cd /home/ubuntu/fedatk_unl_tj/"
   ]
  },
  {
   "cell_type": "code",
   "execution_count": 2,
   "metadata": {},
   "outputs": [],
   "source": [
    "# Import General Libraries\n",
    "import os\n",
    "import argparse\n",
    "import torch\n",
    "import copy\n",
    "import pickle\n",
    "import random\n",
    "import numpy as np\n",
    "import pandas as pd\n",
    "\n",
    "# Import FedEM based Libraries\n",
    "from utils.utils import *\n",
    "from utils.constants import *\n",
    "from utils.args import *\n",
    "from utils.util_notebooks import *\n",
    "from run_experiment import *\n",
    "from models import *\n",
    "\n",
    "# Import Transfer Attack\n",
    "from transfer_attacks.Personalized_NN import *\n",
    "from transfer_attacks.Params import *\n",
    "from transfer_attacks.Transferer import *\n",
    "from transfer_attacks.Args import *\n",
    "from transfer_attacks.TA_utils import *"
   ]
  },
  {
   "cell_type": "code",
   "execution_count": 3,
   "metadata": {},
   "outputs": [
    {
     "name": "stdout",
     "output_type": "stream",
     "text": [
      "==> Clients initialization..\n",
      "===> Building data iterators..\n"
     ]
    },
    {
     "name": "stderr",
     "output_type": "stream",
     "text": [
      "100%|██████████| 80/80 [00:00<00:00, 159.18it/s]\n"
     ]
    },
    {
     "name": "stdout",
     "output_type": "stream",
     "text": [
      "===> Initializing clients..\n"
     ]
    },
    {
     "name": "stderr",
     "output_type": "stream",
     "text": [
      "100%|██████████| 80/80 [00:14<00:00,  5.36it/s]\n"
     ]
    },
    {
     "name": "stdout",
     "output_type": "stream",
     "text": [
      "==> Test Clients initialization..\n",
      "===> Building data iterators..\n"
     ]
    },
    {
     "name": "stderr",
     "output_type": "stream",
     "text": [
      "0it [00:00, ?it/s]\n"
     ]
    },
    {
     "name": "stdout",
     "output_type": "stream",
     "text": [
      "===> Initializing clients..\n"
     ]
    },
    {
     "name": "stderr",
     "output_type": "stream",
     "text": [
      "0it [00:00, ?it/s]\n"
     ]
    }
   ],
   "source": [
    "setting, num_user = \"FedAvg\", 40\n",
    "\n",
    "try: # Skip loading if already loaded\n",
    "    aggregator\n",
    "except:\n",
    "    aggregator, clients, args_ = set_args(setting, num_user)\n",
    "\n",
    "# Load models for FAT and FedAvg\n",
    "save_path_FAT = 'weights/cifar10/240115_robust_tests/FAT/'\n",
    "save_path_FedAvg = 'weights/cifar10/240111_robust_tests/fedavg/'\n",
    "\n",
    "save_path_FAT_tm = 'weights/cifar10/240115_robust_tests/FAT_tm/'\n",
    "save_path_FedAvg_tm = 'weights/cifar10/240111_robust_tests/fedavg_tm/'\n",
    "\n",
    "save_path_FAT_med = 'weights/cifar10/240115_robust_tests/FAT_md/'\n",
    "save_path_FedAvg_med = 'weights/cifar10/240111_robust_tests/fedavg_md/'\n",
    "\n",
    "# save_paths = [save_path_FedAvg, save_path_FAT,\n",
    "#               save_path_FedAvg_tm, save_path_FAT_tm,\n",
    "#               save_path_FedAvg_med, save_path_FAT_med]\n",
    "\n",
    "# models_test = []\n",
    "\n",
    "# for m_i in range(len(save_paths)):\n",
    "#     aggregator, clients, args_ = set_args(setting, num_user)\n",
    "#     models_test += [import_model_weights(num_user, setting, save_paths[m_i], aggregator, args_)[0]]\n",
    "\n",
    "model_FAT = copy.deepcopy(import_model_weights(num_user, setting, save_path_FAT, aggregator, args_)[0])\n",
    "model_Fedavg = copy.deepcopy(import_model_weights(num_user, setting, save_path_FedAvg, aggregator, args_)[0])\n",
    "\n",
    "model_FAT_tm = copy.deepcopy(import_model_weights(num_user, setting, save_path_FAT_tm, aggregator, args_)[0])\n",
    "model_Fedavg_tm = copy.deepcopy(import_model_weights(num_user, setting, save_path_FedAvg_tm, aggregator, args_)[0])\n",
    "\n",
    "model_FAT_med = copy.deepcopy(import_model_weights(num_user, setting, save_path_FAT_med, aggregator, args_)[0])\n",
    "model_Fedavg_med = copy.deepcopy(import_model_weights(num_user, setting, save_path_FedAvg_med, aggregator, args_)[0])"
   ]
  },
  {
   "cell_type": "code",
   "execution_count": 4,
   "metadata": {},
   "outputs": [
    {
     "name": "stdout",
     "output_type": "stream",
     "text": [
      "\t Adv idx: 0\n",
      "\t Adv idx: 1\n",
      "\t Adv idx: 2\n",
      "\t Adv idx: 3\n",
      "\t Adv idx: 4\n",
      "\t Adv idx: 5\n"
     ]
    }
   ],
   "source": [
    "# Perform transfer attack from one client to another and record stats\n",
    "models_test = [model_Fedavg, model_FAT, model_Fedavg_tm, model_FAT_tm, model_Fedavg_med, model_FAT_med]\n",
    "# models_test = [model_FAT]\n",
    "\n",
    "# Run Measurements for both targetted and untargeted analysis\n",
    "victim_idxs = range(len(models_test))\n",
    "logs_adv = generate_logs_adv(len(models_test))\n",
    "custom_batch_size = 1000\n",
    "eps = 4.5\n",
    "\n",
    "dataloader = load_client_data(clients = clients, c_id = 0, mode = 'all') # or test/train\n",
    "cross_attack(logs_adv, victim_idxs, dataloader, models_test, custom_batch_size, eps)"
   ]
  },
  {
   "cell_type": "code",
   "execution_count": 5,
   "metadata": {},
   "outputs": [],
   "source": [
    "metrics = ['orig_acc_transfers','orig_similarities','adv_acc_transfers','adv_similarities_target',\n",
    "            'adv_similarities_untarget','adv_target','adv_miss']\n",
    "\n",
    "adv_miss = get_metric_list(\"adv_miss\", logs_adv, victim_idxs)\n",
    "acc = get_metric_list(\"orig_acc_transfers\", logs_adv, victim_idxs)\n",
    "adv_target = get_metric_list(\"adv_target\", logs_adv, victim_idxs)\n",
    "\n",
    "# Print along diagonal and plot \"robustness against white-box attacks (self)\"\n",
    "adv_list = []\n",
    "acc_list = []\n",
    "for i in range(adv_miss.shape[0]):\n",
    "    adv_list += [adv_miss[i,i]]\n",
    "    acc_list += [acc[i,i]]\n",
    "\n"
   ]
  },
  {
   "cell_type": "code",
   "execution_count": 6,
   "metadata": {},
   "outputs": [
    {
     "name": "stdout",
     "output_type": "stream",
     "text": [
      "+------------+--------------------+----------------------+\n",
      "|  Setting   |      Test Acc      |       Adv Acc        |\n",
      "+------------+--------------------+----------------------+\n",
      "|   FedAvg   | 0.8560000658035278 | 0.01100000087171793  |\n",
      "|    FAT     | 0.8080000281333923 | 0.36100003123283386  |\n",
      "| FedAvg TM  | 0.8210000395774841 | 0.013000000268220901 |\n",
      "|   FAT TM   | 0.7910000085830688 | 0.39400002360343933  |\n",
      "| FedAvg Med | 0.815000057220459  | 0.09300000220537186  |\n",
      "|  FAT Med   | 0.7950000166893005 |  0.5430000424385071  |\n",
      "+------------+--------------------+----------------------+\n"
     ]
    }
   ],
   "source": [
    "from prettytable import PrettyTable\n",
    "\n",
    "# Your lists\n",
    "labels = ['FedAvg', 'FAT', 'FedAvg TM', 'FAT TM','FedAvg Med', 'FAT Med']\n",
    "x_values = acc_list\n",
    "y_values = adv_list\n",
    "\n",
    "# Creating the table\n",
    "table = PrettyTable()\n",
    "table.field_names = [\"Setting\", \"Test Acc\", \"Adv Acc\"]\n",
    "\n",
    "# Adding rows\n",
    "for label, x, y in zip(labels, x_values, y_values):\n",
    "    table.add_row([label, x, y])\n",
    "\n",
    "# Printing the table\n",
    "print(table)\n"
   ]
  },
  {
   "cell_type": "code",
   "execution_count": null,
   "metadata": {},
   "outputs": [],
   "source": []
  }
 ],
 "metadata": {
  "kernelspec": {
   "display_name": "FedEM_env",
   "language": "python",
   "name": "python3"
  },
  "language_info": {
   "codemirror_mode": {
    "name": "ipython",
    "version": 3
   },
   "file_extension": ".py",
   "mimetype": "text/x-python",
   "name": "python",
   "nbconvert_exporter": "python",
   "pygments_lexer": "ipython3",
   "version": "3.9.6"
  }
 },
 "nbformat": 4,
 "nbformat_minor": 2
}
