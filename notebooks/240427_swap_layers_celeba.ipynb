{
 "cells": [
  {
   "cell_type": "markdown",
   "metadata": {},
   "source": [
    "# Swapping Convolution Layers Test\n",
    "April 27, 2024\n",
    "\n",
    "##### Summary:\n",
    "Swap first 50 layers between FAT and FedAvg models of CIFAR-10 data set and measure test acc + robustness. The goal is to see if injecting a fraction of the model via ARU can reduce robustness of it significantly\n",
    "\n",
    "Running for Celeba"
   ]
  },
  {
   "cell_type": "code",
   "execution_count": 1,
   "metadata": {},
   "outputs": [
    {
     "name": "stdout",
     "output_type": "stream",
     "text": [
      "/home/ubuntu/fedatk_unl_tj\n"
     ]
    }
   ],
   "source": [
    "cd /home/ubuntu/fedatk_unl_tj/"
   ]
  },
  {
   "cell_type": "code",
   "execution_count": 2,
   "metadata": {},
   "outputs": [],
   "source": [
    "# Import General Libraries\n",
    "import os\n",
    "import argparse\n",
    "import torch\n",
    "import copy\n",
    "import pickle\n",
    "import random\n",
    "import numpy as np\n",
    "import pandas as pd\n",
    "\n",
    "# Import FedEM based Libraries\n",
    "from utils.utils import *\n",
    "from utils.constants import *\n",
    "from utils.args import *\n",
    "from utils.util_notebooks import *\n",
    "from run_experiment import *\n",
    "from models import *\n",
    "\n",
    "# Import Transfer Attack\n",
    "from transfer_attacks.Personalized_NN import *\n",
    "from transfer_attacks.Params import *\n",
    "from transfer_attacks.Transferer import *\n",
    "from transfer_attacks.Args import *\n",
    "from transfer_attacks.TA_utils import *"
   ]
  },
  {
   "cell_type": "code",
   "execution_count": 4,
   "metadata": {},
   "outputs": [],
   "source": [
    "setting, num_user, experiment  = \"FedAvg_adv\", 40, 'celeba'\n",
    "\n",
    "try: # Skip loading if already loaded\n",
    "    aggregator\n",
    "except:\n",
    "    aggregator, clients, args_ = set_args(setting, num_user, experiment)\n",
    "\n",
    "# Load models for FAT and FedAvg\n",
    "save_path_FAT = 'weights/celeba/240311_small_architecture_moreconv/FAT/'\n",
    "save_path_FedAvg = 'weights/celeba/240311_small_architecture_moreconv/FedAvg/'\n",
    "\n",
    "model_FAT = copy.deepcopy(import_model_weights(num_user, setting, save_path_FAT, aggregator, args_)[0])\n",
    "model_Fedavg = import_model_weights(num_user, setting, save_path_FedAvg, aggregator, args_)[0]"
   ]
  },
  {
   "cell_type": "code",
   "execution_count": 5,
   "metadata": {},
   "outputs": [],
   "source": [
    "# Obtain parameters for each layer\n",
    "params_FAT = model_FAT.state_dict()\n",
    "params_FedAvg = model_Fedavg.state_dict()\n",
    "\n",
    "# Just take the values of weights and bias for the model\n",
    "desired_keys = [key for key in params_FAT.keys() if 'weight' in key or 'bias' in key]"
   ]
  },
  {
   "cell_type": "code",
   "execution_count": 9,
   "metadata": {},
   "outputs": [
    {
     "data": {
      "text/plain": [
       "['conv1.weight',\n",
       " 'conv1.bias',\n",
       " 'conv1_bn.weight',\n",
       " 'conv1_bn.bias',\n",
       " 'conv2.weight',\n",
       " 'conv2.bias',\n",
       " 'conv2_bn.weight',\n",
       " 'conv2_bn.bias',\n",
       " 'conv3.weight',\n",
       " 'conv3.bias',\n",
       " 'conv3_bn.weight',\n",
       " 'conv3_bn.bias',\n",
       " 'fc1.weight',\n",
       " 'fc1.bias',\n",
       " 'output.weight',\n",
       " 'output.bias']"
      ]
     },
     "execution_count": 9,
     "metadata": {},
     "output_type": "execute_result"
    }
   ],
   "source": [
    "desired_keys"
   ]
  },
  {
   "cell_type": "code",
   "execution_count": 6,
   "metadata": {},
   "outputs": [],
   "source": [
    "# Gather statistics layer by layer\n",
    "# 1. Number of paramters per layer\n",
    "# 2. Standard Deviation per layer \n",
    "# 3. Difference between np.mean layer(FedAvg - FAT) * num param\n",
    "\n",
    "num_params_list = []\n",
    "std_params_list_FedAvg = []\n",
    "std_params_list_FAT = []\n",
    "diff_normalized = []\n",
    "\n",
    "for key in desired_keys:\n",
    "    mat_FedAvg = params_FedAvg[key]\n",
    "    mat_FAT = params_FAT[key]\n",
    "    num_params = params_FedAvg[key].numel()\n",
    "    num_params_list += [num_params]\n",
    "\n",
    "\n",
    "    if num_params > 1:\n",
    "        std_params = torch.std(mat_FedAvg)\n",
    "        std_params_list_FedAvg += [std_params]\n",
    "        std_params_list_FAT += [torch.std(mat_FAT)]\n",
    "        diff_normalized += [torch.mean(torch.abs(mat_FedAvg - mat_FAT)/std_params)]\n",
    "    else:\n",
    "        std_params_list_FedAvg += [0]\n",
    "        std_params_list_FAT += [0]\n",
    "        diff_normalized += [torch.abs(mat_FedAvg - mat_FAT)]\n",
    "\n",
    "\n"
   ]
  },
  {
   "cell_type": "code",
   "execution_count": 7,
   "metadata": {},
   "outputs": [
    {
     "data": {
      "text/plain": [
       "[<matplotlib.lines.Line2D at 0x7f7e066cff40>]"
      ]
     },
     "execution_count": 7,
     "metadata": {},
     "output_type": "execute_result"
    },
    {
     "data": {
      "image/png": "[encoded data removed]",
      "text/plain": [
       "<Figure size 432x288 with 1 Axes>"
      ]
     },
     "metadata": {
      "needs_background": "light"
     },
     "output_type": "display_data"
    }
   ],
   "source": [
    "\n",
    "plt.plot(num_params_list)"
   ]
  },
  {
   "cell_type": "code",
   "execution_count": 8,
   "metadata": {},
   "outputs": [
    {
     "data": {
      "text/plain": [
       "[<matplotlib.lines.Line2D at 0x7f7e06620dc0>]"
      ]
     },
     "execution_count": 8,
     "metadata": {},
     "output_type": "execute_result"
    },
    {
     "data": {
      "image/png": "[encoded data removed]",
      "text/plain": [
       "<Figure size 432x288 with 1 Axes>"
      ]
     },
     "metadata": {
      "needs_background": "light"
     },
     "output_type": "display_data"
    }
   ],
   "source": [
    "list_of_doubles = [tensor.item() for tensor in diff_normalized]\n",
    "plt.plot(list_of_doubles)"
   ]
  },
  {
   "cell_type": "code",
   "execution_count": 10,
   "metadata": {},
   "outputs": [],
   "source": [
    "# Linear extrapolation of model for each layer\n",
    "stepsize_alpha = 0.05\n",
    "alpha_set = np.arange(0,1+stepsize_alpha,stepsize_alpha)\n",
    "\n",
    "params_FAT = model_FAT.state_dict()\n",
    "params_FedAvg = model_Fedavg.state_dict()\n",
    "\n",
    "# Make the model with just 50 first layers\n",
    "new_model = copy.deepcopy(model_FAT)\n",
    "new_model.eval()\n",
    "new_weight_dict = copy.deepcopy(params_FAT)\n",
    "\n",
    "counter = 0\n",
    "threshold = 12\n",
    "for key in params_FAT:\n",
    "    new_weight_dict[key] = params_FedAvg[key]\n",
    "    counter += 1\n",
    "    if counter >= threshold:\n",
    "        break\n",
    "\n",
    "new_model.load_state_dict(new_weight_dict)\n",
    "\n",
    "models_test = [model_Fedavg, model_FAT, new_model]\n"
   ]
  },
  {
   "cell_type": "code",
   "execution_count": 11,
   "metadata": {},
   "outputs": [
    {
     "name": "stdout",
     "output_type": "stream",
     "text": [
      "\t Adv idx: 0\n",
      "\t Adv idx: 1\n",
      "\t Adv idx: 2\n",
      "\t Adv idx: 0\n",
      "\t Adv idx: 1\n",
      "\t Adv idx: 2\n",
      "\t Adv idx: 0\n",
      "\t Adv idx: 1\n",
      "\t Adv idx: 2\n",
      "\t Adv idx: 0\n",
      "\t Adv idx: 1\n",
      "\t Adv idx: 2\n",
      "\t Adv idx: 0\n",
      "\t Adv idx: 1\n",
      "\t Adv idx: 2\n"
     ]
    }
   ],
   "source": [
    "# Perform transfer attack from one client to another and record stats\n",
    "# models_test = [model_Fedavg, model_FAT]\n",
    "\n",
    "num_trials = 5\n",
    "acc_store_agg = np.zeros([num_trials, len(models_test)])\n",
    "adv_store_agg = np.zeros([num_trials, len(models_test)])\n",
    "\n",
    "for itt in range(num_trials):\n",
    "\n",
    "    # Run Measurements for both targetted and untargeted analysis\n",
    "    victim_idxs = range(len(models_test))\n",
    "    logs_adv = generate_logs_adv(len(models_test))\n",
    "    custom_batch_size = 100\n",
    "    eps = 3\n",
    "\n",
    "    dataloader = load_client_data(clients = clients, c_id = 0, mode = 'all') # or test/train\n",
    "    cross_attack(logs_adv, victim_idxs, dataloader, models_test, custom_batch_size, eps)\n",
    "\n",
    "    metrics = ['orig_acc_transfers','orig_similarities','adv_acc_transfers','adv_similarities_target',\n",
    "                'adv_similarities_untarget','adv_target','adv_miss']\n",
    "\n",
    "    adv_miss = get_metric_list(\"adv_miss\", logs_adv, victim_idxs)\n",
    "    acc = get_metric_list(\"orig_acc_transfers\", logs_adv, victim_idxs)\n",
    "\n",
    "    # Print along diagonal and plot \"robustness against white-box attacks (self)\"\n",
    "    adv_list = []\n",
    "    acc_list = []\n",
    "    for i in range(adv_miss.shape[0]):\n",
    "        adv_list += [adv_miss[i,i]]\n",
    "        acc_list += [acc[i,i]]\n",
    "\n",
    "    acc_store_agg[itt,:] = np.array(acc_list)\n",
    "    adv_store_agg[itt,:] = np.array(adv_list)\n",
    "\n"
   ]
  },
  {
   "cell_type": "code",
   "execution_count": 12,
   "metadata": {},
   "outputs": [
    {
     "name": "stdout",
     "output_type": "stream",
     "text": [
      "model   :  FAvg FAT  Repl \n",
      "Test Acc: [0.79 0.75 0.77]\n",
      "Adv  Acc: [0.27 0.61 0.44]\n"
     ]
    }
   ],
   "source": [
    "acc_list_true = np.mean(acc_store_agg, axis = 0)\n",
    "adv_list_true = np.mean(adv_store_agg, axis = 0)\n",
    "\n",
    "acc_list_std = np.std(acc_store_agg, axis = 0)\n",
    "adv_list_std = np.std(adv_store_agg, axis = 0)\n",
    "\n",
    "print(\"model   :  FAvg FAT  Repl \")\n",
    "print(\"Test Acc:\",acc_list_true)\n",
    "print(\"Adv  Acc:\",adv_list_true)"
   ]
  },
  {
   "cell_type": "code",
   "execution_count": null,
   "metadata": {},
   "outputs": [],
   "source": []
  }
 ],
 "metadata": {
  "kernelspec": {
   "display_name": "FedEM_env",
   "language": "python",
   "name": "python3"
  },
  "language_info": {
   "codemirror_mode": {
    "name": "ipython",
    "version": 3
   },
   "file_extension": ".py",
   "mimetype": "text/x-python",
   "name": "python",
   "nbconvert_exporter": "python",
   "pygments_lexer": "ipython3",
   "version": "3.9.6"
  }
 },
 "nbformat": 4,
 "nbformat_minor": 2
}
