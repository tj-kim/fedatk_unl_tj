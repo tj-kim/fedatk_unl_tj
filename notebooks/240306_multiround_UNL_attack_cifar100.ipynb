{
 "cells": [
  {
   "cell_type": "markdown",
   "metadata": {},
   "source": [
    "### Multiround UNL Attack \n",
    "\n",
    "March 6 2024\n",
    "TJ Kim\n",
    "\n",
    "##### Summary\n",
    "Load FAT model trained for 150 rounds and for 50 rounds try and inject FedAvg model into the system. Try different scaling rates and spread out the model replacement attack.\n",
    "\n",
    "Copying CIFAR-10 for CELEBA data set -- expect things to go wrong initially due to results in celeba alpha line experiments."
   ]
  },
  {
   "cell_type": "code",
   "execution_count": 1,
   "metadata": {},
   "outputs": [
    {
     "name": "stdout",
     "output_type": "stream",
     "text": [
      "/home/ubuntu/fedatk_unl_tj\n"
     ]
    }
   ],
   "source": [
    "cd /home/ubuntu/fedatk_unl_tj/"
   ]
  },
  {
   "cell_type": "code",
   "execution_count": 2,
   "metadata": {},
   "outputs": [],
   "source": [
    "# Import General Libraries\n",
    "import os\n",
    "import argparse\n",
    "import torch\n",
    "import copy\n",
    "import pickle\n",
    "import random\n",
    "import numpy as np\n",
    "import pandas as pd\n",
    "\n",
    "# Import FedEM based Libraries\n",
    "from utils.utils import *\n",
    "from utils.constants import *\n",
    "from utils.args import *\n",
    "from utils.util_notebooks import *\n",
    "from run_experiment import *\n",
    "from models import *\n",
    "\n",
    "# Import Transfer Attack\n",
    "from transfer_attacks.Personalized_NN import *\n",
    "from transfer_attacks.Params import *\n",
    "from transfer_attacks.Transferer import *\n",
    "from transfer_attacks.Args import *\n",
    "from transfer_attacks.TA_utils import *"
   ]
  },
  {
   "cell_type": "code",
   "execution_count": 3,
   "metadata": {},
   "outputs": [
    {
     "name": "stdout",
     "output_type": "stream",
     "text": [
      "==> Clients initialization..\n",
      "===> Building data iterators..\n"
     ]
    },
    {
     "name": "stderr",
     "output_type": "stream",
     "text": [
      " 39%|███▉      | 39/100 [00:00<00:00, 342.43it/s]\n"
     ]
    },
    {
     "name": "stdout",
     "output_type": "stream",
     "text": [
      "===> Initializing clients..\n"
     ]
    },
    {
     "name": "stderr",
     "output_type": "stream",
     "text": [
      "100%|██████████| 40/40 [00:09<00:00,  4.31it/s]\n"
     ]
    }
   ],
   "source": [
    "setting, num_user, experiment  = \"FedAvg\", 40, 'cifar100'\n",
    "\n",
    "try: # Skip loading if already loaded\n",
    "    aggregator\n",
    "except:\n",
    "    aggregator, clients, args_ = set_args(setting, num_user, experiment)\n",
    "\n",
    "\n",
    "for client in aggregator.clients:\n",
    "    client.dataset_name = experiment\n",
    "\n",
    "# Load models for FAT and FedAvg\n",
    "save_path_FAT = 'weights/cifar100/240222_FedAvg200round_lr001/FAT/'\n",
    "save_path_FedAvg = 'weights/cifar100/240222_FedAvg200round_lr001/FedAvg/'\n",
    "\n",
    "model_FAT = copy.deepcopy(import_model_weights(num_user, setting, save_path_FAT, aggregator, args_)[0])\n",
    "model_Fedavg = import_model_weights(num_user, setting, save_path_FedAvg, aggregator, args_)[0]\n"
   ]
  },
  {
   "cell_type": "code",
   "execution_count": 4,
   "metadata": {},
   "outputs": [],
   "source": [
    "# Obtain parameters for each layer\n",
    "params_FAT = model_FAT.state_dict()\n",
    "params_FedAvg = model_Fedavg.state_dict()\n",
    "\n",
    "# Just take the values of weights and bias for the model\n",
    "desired_keys = [key for key in params_FAT.keys() if 'weight' in key or 'bias' in key]"
   ]
  },
  {
   "cell_type": "code",
   "execution_count": 5,
   "metadata": {},
   "outputs": [],
   "source": [
    "# Find mag norm \n",
    "mag_norm_FAT2FedAvg = []\n",
    "for key in desired_keys: #params_FAT:\n",
    "\n",
    "    diff =  params_FAT[key] - params_FedAvg[key]\n",
    "    l2_norm = torch.norm(diff, p=2)\n",
    "\n",
    "    mag_norm_FAT2FedAvg += [diff/torch.norm(diff,p=2)]\n"
   ]
  },
  {
   "cell_type": "code",
   "execution_count": 6,
   "metadata": {},
   "outputs": [
    {
     "name": "stdout",
     "output_type": "stream",
     "text": [
      "==> Clients initialization..\n",
      "===> Building data iterators..\n"
     ]
    },
    {
     "name": "stderr",
     "output_type": "stream",
     "text": [
      " 39%|███▉      | 39/100 [00:00<00:00, 313.59it/s]\n"
     ]
    },
    {
     "name": "stdout",
     "output_type": "stream",
     "text": [
      "===> Initializing clients..\n"
     ]
    },
    {
     "name": "stderr",
     "output_type": "stream",
     "text": [
      "100%|██████████| 40/40 [00:12<00:00,  3.20it/s]\n"
     ]
    },
    {
     "name": "stdout",
     "output_type": "stream",
     "text": [
      "updating adv data set\n",
      "Test acc:  0.411458358168602 adv acc:  0.08416667128913105\n",
      "round 0 Test acc:  0.4168750196695328 adv acc:  0.08083333747927099\n",
      "round 1 Test acc:  0.41395835727453234 adv acc:  0.07312500369735062\n",
      "round 2 Test acc:  0.4135416880249977 adv acc:  0.06604166978504508\n",
      "round 3 Test acc:  0.4135416872799397 adv acc:  0.06041666988749057\n",
      "round 4 Test acc:  0.4145833574235439 adv acc:  0.056666669948026535\n",
      "round 5 Test acc:  0.41687502190470693 adv acc:  0.055625003133900466\n",
      "round 6 Test acc:  0.4150000222027302 adv acc:  0.05958333667367697\n",
      "round 7 Test acc:  0.41395835429430006 adv acc:  0.05958333676680923\n",
      "round 8 Test acc:  0.4127083532512188 adv acc:  0.05958333674352616\n",
      "round 9 Test acc:  0.41312502324581146 adv acc:  0.05895833692047745\n",
      "round 10 Test acc:  0.41375002190470694 adv acc:  0.05541666990611702\n",
      "round 11 Test acc:  0.412708356231451 adv acc:  0.05666667043697089\n",
      "round 12 Test acc:  0.414791689068079 adv acc:  0.054791670036502184\n",
      "round 13 Test acc:  0.414791689068079 adv acc:  0.05583333682734519\n",
      "round 14 Test acc:  0.4145833566784859 adv acc:  0.05479166996665299\n",
      "round 15 Test acc:  0.4141666904091835 adv acc:  0.055416670208796856\n",
      "round 16 Test acc:  0.4158333547413349 adv acc:  0.05541667034849525\n",
      "round 17 Test acc:  0.41416668742895124 adv acc:  0.056875003525055944\n",
      "round 18 Test acc:  0.41500002071261405 adv acc:  0.055833336478099224\n",
      "round 19 Test acc:  0.4143750213086605 adv acc:  0.0568750032922253\n",
      "round 20 Test acc:  0.4143750213086605 adv acc:  0.054375003464519976\n",
      "round 21 Test acc:  0.4145833559334278 adv acc:  0.05375000312924385\n",
      "round 22 Test acc:  0.4147916905581951 adv acc:  0.056666670041158794\n",
      "round 23 Test acc:  0.4143750235438347 adv acc:  0.05500000307802111\n",
      "round 24 Test acc:  0.4145833566784859 adv acc:  0.057083336543291806\n",
      "round 25 Test acc:  0.41437502279877664 adv acc:  0.0541666696080938\n",
      "round 26 Test acc:  0.4147916905581951 adv acc:  0.05333333644084633\n",
      "round 27 Test acc:  0.4139583557844162 adv acc:  0.055833336617797616\n",
      "round 28 Test acc:  0.41437502279877664 adv acc:  0.05458333620335907\n",
      "round 29 Test acc:  0.41500002294778826 adv acc:  0.05416667014360428\n"
     ]
    }
   ],
   "source": [
    "beta_params = [0.2]\n",
    "num_aru = [5]\n",
    "weight2_list = [0.05]\n",
    "num_rounds = 30\n",
    "\n",
    "\n",
    "result_list = []\n",
    "for itt in range(len(beta_params)):\n",
    "    result_list += [{}]\n",
    "\n",
    "setting, num_user, experiment = \"FedAvg_adv\", 40, \"cifar100\"\n",
    "save_path_FedAvg_150R = save_path_FAT\n",
    "aggregator, clients, args_ = set_args(setting, num_user, experiment)\n",
    "aggregator.aggregation_op = 'trimmed_mean'\n",
    "\n",
    "if True:\n",
    "    print(\"updating adv data set\")\n",
    "    # add adv dataset update\n",
    "    Fu = np.zeros(num_user)\n",
    "    Fu[0:10] = 1\n",
    "\n",
    "    # Setting evasion attack parameters\n",
    "    x_min = torch.min(clients[0].adv_nn.dataloader.x_data)\n",
    "    x_max = torch.max(clients[0].adv_nn.dataloader.x_data)\n",
    "    atk_params = PGD_Params()\n",
    "    atk_params.set_params(batch_size=1, iteration = 10,\n",
    "                    target = -1, x_val_min = x_min, x_val_max = x_max,\n",
    "                    step_size = 0.05, step_norm = \"inf\", eps = 4.5, eps_norm = 2)\n",
    "\n",
    "    # Assign proportion and attack params\n",
    "    for c in range(len(clients)):\n",
    "        if Fu[c] > 0:\n",
    "            aggregator.clients[c].set_adv_params(Fu[c], atk_params)\n",
    "            aggregator.clients[c].update_advnn()\n",
    "            aggregator.clients[c].assign_advdataset()\n",
    "\n",
    "for itt in range(len(beta_params)):\n",
    "    # Perform 50 rounds of FAT on FedAvg model \n",
    "    num_adv = num_aru[itt]\n",
    "    weight2 = 1/num_adv * weight2_list[itt]\n",
    "    adv_id = random.sample(range(10,num_user), num_adv) # excluding 0-9 as Fu = 1\n",
    "    beta = beta_params[itt]\n",
    "\n",
    "    test_acc_gather = []\n",
    "    adv_acc_gather = []\n",
    "    test_acc_std = []\n",
    "    adv_acc_std = []\n",
    "    cosine_gather_layers = np.zeros([num_rounds, len(desired_keys)])\n",
    "\n",
    "    aggregator.tm_rate = beta\n",
    "\n",
    "    # Test performance of aggregator on data \n",
    "    aggregator.load_state(dir_path = save_path_FedAvg_150R)\n",
    "    aggregator.update_clients()\n",
    "    model_FA = pull_model_from_agg(aggregator)\n",
    "    model_FA.eval()\n",
    "    acc, adv_acc = get_adv_acc(aggregator, model_FA)\n",
    "\n",
    "    prev_model = copy.deepcopy(model_FA)\n",
    "\n",
    "    print(\"Test acc: \", np.mean(acc), \"adv acc: \", np.mean(adv_acc))\n",
    "    test_acc_gather+= [np.mean(acc)]\n",
    "    adv_acc_gather += [np.mean(adv_acc)]\n",
    "    test_acc_std += [np.std(acc)]\n",
    "    adv_acc_std += [np.std(adv_acc)]\n",
    "\n",
    "\n",
    "\n",
    "    for i in range(num_rounds):\n",
    "\n",
    "        # Per round Freq\n",
    "\n",
    "        # aggregator.mix()\n",
    "        UNL_mix(aggregator, adv_id, model_inject = model_Fedavg, keys = desired_keys, weight_scale_2 = weight2, dump_flag=False, tm_beta=beta)\n",
    "        model_overfit = pull_model_from_agg(aggregator)\n",
    "        model_overfit.eval()\n",
    "        acc, adv_acc = get_adv_acc(aggregator, model_overfit)\n",
    "\n",
    "        print(\"round\", i,\"Test acc: \", np.mean(acc), \"adv acc: \", np.mean(adv_acc))\n",
    "        test_acc_gather+= [np.mean(acc)]\n",
    "        adv_acc_gather += [np.mean(adv_acc)]\n",
    "        test_acc_std += [np.std(acc)]\n",
    "        adv_acc_std += [np.std(adv_acc)]\n",
    "        prev_model = copy.deepcopy(model_overfit)\n",
    "\n",
    "        result_list[itt]['test_acc'] = copy.deepcopy(test_acc_gather)\n",
    "        result_list[itt]['adv_acc'] = copy.deepcopy(adv_acc_gather)\n",
    "        result_list[itt]['test_std'] = copy.deepcopy(test_acc_std)\n",
    "        result_list[itt]['adv_std'] = copy.deepcopy(adv_acc_std)\n",
    "        result_list[itt]['num_clients'] = num_adv\n",
    "        result_list[itt]['beta'] = beta\n",
    "        result_list[itt]['weight2'] = weight2_list[itt]\n",
    "        # Perform gradient direction gathering\n",
    "\n",
    "    "
   ]
  },
  {
   "cell_type": "code",
   "execution_count": 7,
   "metadata": {},
   "outputs": [],
   "source": [
    "import pickle\n",
    "\n",
    "a = result_list\n",
    "\n",
    "with open('saved_results/tmsweep/cifar100/tm_test.pk', 'wb') as handle:\n",
    "    pickle.dump(a, handle, protocol=pickle.HIGHEST_PROTOCOL)"
   ]
  },
  {
   "cell_type": "code",
   "execution_count": 8,
   "metadata": {},
   "outputs": [],
   "source": [
    "# load relevant information and plot \n",
    "plot_settings = [[5, 0.2, 0.05]]\n",
    "\n",
    "adv_acc_plotter = []\n",
    "adv_std_plotter = []\n",
    "\n",
    "# LINE NO 1\n",
    "with open('saved_results/tmsweep/cifar100/tm_test.pk', 'rb') as handle:\n",
    "    loaded = pickle.load(handle)\n",
    "adv_acc_plotter += [loaded[0][\"adv_acc\"]]\n",
    "adv_std_plotter += [loaded[0][\"adv_std\"]]\n",
    "\n"
   ]
  },
  {
   "cell_type": "code",
   "execution_count": 9,
   "metadata": {},
   "outputs": [
    {
     "name": "stderr",
     "output_type": "stream",
     "text": [
      "findfont: Font family ['normal'] not found. Falling back to DejaVu Sans.\n",
      "findfont: Font family ['normal'] not found. Falling back to DejaVu Sans.\n"
     ]
    },
    {
     "data": {
      "image/png": "[encoded data removed]",
      "text/plain": [
       "<Figure size 480x320 with 1 Axes>"
      ]
     },
     "metadata": {
      "needs_background": "light"
     },
     "output_type": "display_data"
    }
   ],
   "source": [
    "import matplotlib.pyplot as plt\n",
    "import numpy as np\n",
    "\n",
    "font = {'family' : 'normal',\n",
    "        'weight' : 'normal',\n",
    "        'size'   : 18}\n",
    "\n",
    "plt.rc('font', **font)\n",
    "plt.figure(dpi=80, figsize=(6,4))\n",
    "\n",
    "# Generate some sample data\n",
    "x = range(len(adv_acc_plotter[0]))  # 100 points from 0 to 10\n",
    "\n",
    "# Plotting the lines\n",
    "# plt.plot(x, y1, label='Test Acc')\n",
    "label_list = plot_settings\n",
    "for i in range(len(label_list)):\n",
    "    y = np.array(adv_acc_plotter[i])\n",
    "    error = np.array(adv_std_plotter[i])\n",
    "    plt.plot(x, y, label= str(label_list[i]))\n",
    "    plt.fill_between(x, y-error, y+error,\n",
    "    alpha=0.2)\n",
    "\n",
    "# Adding labels and title\n",
    "plt.xlabel('Injection Rounds')\n",
    "plt.ylabel('Adv. Acc. (Robustness)')\n",
    "plt.title('ARU vs Trimmed Mean Defense \\n Legend - [#ARU client, tm_param, scale: β]', fontsize = 'medium')\n",
    "\n",
    "# Adding a legend\n",
    "plt.legend( loc=1, fontsize='x-small')\n",
    "\n",
    "# Display the plot\n",
    "plt.show()\n"
   ]
  },
  {
   "cell_type": "code",
   "execution_count": 10,
   "metadata": {},
   "outputs": [
    {
     "data": {
      "text/plain": [
       "[0.03342695367408653,\n",
       " 0.03313482760826842,\n",
       " 0.03120761112493294,\n",
       " 0.02924914015313411,\n",
       " 0.0294480490175457,\n",
       " 0.030799533136291093,\n",
       " 0.029010745246278485,\n",
       " 0.030593097161605066,\n",
       " 0.031598063112551915,\n",
       " 0.02925878499115747,\n",
       " 0.0291897246209446,\n",
       " 0.030762872102790783,\n",
       " 0.02857738259010815,\n",
       " 0.027943863210414376,\n",
       " 0.02994207526373033,\n",
       " 0.02686692515178314,\n",
       " 0.029904363079524994,\n",
       " 0.028415935615227726,\n",
       " 0.02904065170421146,\n",
       " 0.026431253696189837,\n",
       " 0.028740186484742275,\n",
       " 0.027825568294897556,\n",
       " 0.029341737776016768,\n",
       " 0.030459446441157365,\n",
       " 0.025873625585216865,\n",
       " 0.02925878443047594,\n",
       " 0.029344696051928833,\n",
       " 0.027938425983621472,\n",
       " 0.027588243762806657,\n",
       " 0.02945983771595869,\n",
       " 0.02661453418200713]"
      ]
     },
     "execution_count": 10,
     "metadata": {},
     "output_type": "execute_result"
    }
   ],
   "source": [
    "loaded[0][\"adv_std\"]"
   ]
  },
  {
   "cell_type": "code",
   "execution_count": null,
   "metadata": {},
   "outputs": [],
   "source": []
  }
 ],
 "metadata": {
  "kernelspec": {
   "display_name": "FedEM_env",
   "language": "python",
   "name": "python3"
  },
  "language_info": {
   "codemirror_mode": {
    "name": "ipython",
    "version": 3
   },
   "file_extension": ".py",
   "mimetype": "text/x-python",
   "name": "python",
   "nbconvert_exporter": "python",
   "pygments_lexer": "ipython3",
   "version": "3.9.6"
  }
 },
 "nbformat": 4,
 "nbformat_minor": 2
}
