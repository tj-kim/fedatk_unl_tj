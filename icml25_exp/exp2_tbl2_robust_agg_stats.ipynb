{
 "cells": [
  {
   "cell_type": "markdown",
   "metadata": {
    "vscode": {
     "languageId": "plaintext"
    }
   },
   "source": [
    "### Experiment 2 - Table 2\n",
    "\n",
    "Calculating test accuracy and robustness (adversarial accuracy, adv. acc) for different datasets and different settings, given Trimmed mean and median aggregation schemes"
   ]
  },
  {
   "cell_type": "code",
   "execution_count": 1,
   "metadata": {},
   "outputs": [
    {
     "name": "stdout",
     "output_type": "stream",
     "text": [
      "/home/ubuntu/fedatk_unl_tj\n"
     ]
    }
   ],
   "source": [
    "cd /home/ubuntu/fedatk_unl_tj/"
   ]
  },
  {
   "cell_type": "code",
   "execution_count": 2,
   "metadata": {},
   "outputs": [
    {
     "name": "stderr",
     "output_type": "stream",
     "text": [
      "/home/ubuntu/anaconda3/envs/FedEM_env/lib/python3.9/site-packages/pandas/core/computation/expressions.py:21: UserWarning: Pandas requires version '2.8.4' or newer of 'numexpr' (version '2.7.3' currently installed).\n",
      "  from pandas.core.computation.check import NUMEXPR_INSTALLED\n",
      "/home/ubuntu/anaconda3/envs/FedEM_env/lib/python3.9/site-packages/pandas/core/arrays/masked.py:60: UserWarning: Pandas requires version '1.3.6' or newer of 'bottleneck' (version '1.3.2' currently installed).\n",
      "  from pandas.core import (\n"
     ]
    }
   ],
   "source": [
    "# Import General Libraries\n",
    "import os\n",
    "import argparse\n",
    "import torch\n",
    "import copy\n",
    "import pickle\n",
    "import random\n",
    "import numpy as np\n",
    "import pandas as pd\n",
    "import gc\n",
    "\n",
    "# Import FedEM based Libraries\n",
    "from utils.utils import *\n",
    "from utils.constants import *\n",
    "from utils.args import *\n",
    "from utils.util_notebooks import *\n",
    "from utils.util_notebooks import set_args, import_model_weights, get_adv_acc\n",
    "from run_experiment import *\n",
    "from models import *\n",
    "\n",
    "# Import Transfer Attack\n",
    "from transfer_attacks.Personalized_NN import *\n",
    "from transfer_attacks.Params import *\n",
    "from transfer_attacks.Transferer import *\n",
    "from transfer_attacks.Args import *\n",
    "from transfer_attacks.TA_utils import *\n"
   ]
  },
  {
   "cell_type": "code",
   "execution_count": 3,
   "metadata": {},
   "outputs": [],
   "source": [
    "# Specify aggregation method, number of clients, and dataset\n",
    "setting, num_user = \"FedAvg_adv\", 20\n",
    "exp = \"fakenewsnet\"\n",
    "\n",
    "# Load models for FAT and FedAvg - write down path to where weights are saved\n",
    "# save_path_FAT = '/home/ubuntu/fedatk_unl_tj/weights/celeba/250123_icml25/FAT/'\n",
    "# save_path_FedAvg =  '/home/ubuntu/fedatk_unl_tj/weights/celeba/250123_icml25/FedAvg/'\n",
    "# save_path_FAT = '/home/ubuntu/fedatk_unl_tj/weights/cifar10/231031_FAT150round/FAT/'\n",
    "# save_path_FedAvg =  '/home/ubuntu/fedatk_unl_tj/weights/cifar10/230922_baseline_train/fedavg/'\n",
    "save_path_FAT = '/home/ubuntu/fedatk_unl_tj/weights/fakenews/250119_small_architecture_moreconv/FAT_ep02/'\n",
    "save_path_FedAvg =  '/home/ubuntu/fedatk_unl_tj/weights/fakenews/250119_small_architecture_moreconv/FedAvg/'\n",
    "\n",
    "# Attack parameters for performing PGD \n",
    "eps_attack = 0.1\n",
    "eps_train = 0.2\n",
    "step_size = 0.01\n",
    "steps = 10"
   ]
  },
  {
   "cell_type": "code",
   "execution_count": 4,
   "metadata": {},
   "outputs": [
    {
     "name": "stdout",
     "output_type": "stream",
     "text": [
      "==> Clients initialization..\n",
      "===> Building data iterators..\n"
     ]
    },
    {
     "name": "stderr",
     "output_type": "stream",
     "text": [
      " 95%|█████████▌| 19/20 [00:02<00:00,  8.91it/s]\n"
     ]
    },
    {
     "name": "stdout",
     "output_type": "stream",
     "text": [
      "===> Initializing clients..\n"
     ]
    },
    {
     "name": "stderr",
     "output_type": "stream",
     "text": [
      "100%|██████████| 20/20 [00:01<00:00, 16.98it/s]\n",
      "/home/ubuntu/fedatk_unl_tj/aggregator.py:289: FutureWarning: You are using `torch.load` with `weights_only=False` (the current default value), which uses the default pickle module implicitly. It is possible to construct malicious pickle data which will execute arbitrary code during unpickling (See https://github.com/pytorch/pytorch/blob/main/SECURITY.md#untrusted-models for more details). In a future release, the default value for `weights_only` will be flipped to `True`. This limits the functions that could be executed during unpickling. Arbitrary objects will no longer be allowed to be loaded via this mode unless they are explicitly allowlisted by the user via `torch.serialization.add_safe_globals`. We recommend you start setting `weights_only=True` for any use case where you don't have full control of the loaded file. Please open an issue on GitHub for any issues related to this experimental feature.\n",
      "  learner.model.load_state_dict(torch.load(chkpts_path))\n"
     ]
    }
   ],
   "source": [
    "# Generate instance of aggregator that holds all clients, data and models and load relevant models in\n",
    "try: # Skip loading if already loaded\n",
    "    aggregator\n",
    "except:\n",
    "    aggregator, clients, args_ = set_args(setting, num_user,  experiment = exp) # Indicate dataset here\n",
    "\n",
    "model_FAT = copy.deepcopy(import_model_weights(num_user, setting, save_path_FAT, aggregator, args_)[0])\n",
    "model_Fedavg = copy.deepcopy(import_model_weights(num_user, setting, save_path_FedAvg, aggregator, args_)[0])\n",
    "\n",
    "# Obtain parameters for each layer\n",
    "params_FAT = model_FAT.state_dict()\n",
    "params_FedAvg = model_Fedavg.state_dict()\n",
    "\n",
    "# Just take the values of weights and bias for the model\n",
    "desired_keys = params_FAT.keys() # [key for key in params_FAT.keys() if 'weight' in key or 'bias' in key] # "
   ]
  },
  {
   "cell_type": "code",
   "execution_count": 6,
   "metadata": {},
   "outputs": [
    {
     "name": "stdout",
     "output_type": "stream",
     "text": [
      "round  0\n",
      "trimmed mean, N removed:  1\n",
      "weight scale: \n",
      " [18.00 18.00 18.00 18.00 18.00 18.00 18.00 18.00 18.00 18.00 18.00 18.00\n",
      " 18.00 18.00 18.00 18.00 18.00 18.00 18.00 18.00]\n"
     ]
    },
    {
     "name": "stderr",
     "output_type": "stream",
     "text": [
      "/home/ubuntu/fedatk_unl_tj/learners/learner.py:192: UserWarning: The use of `x.T` on tensors of dimension other than 2 to reverse their shape is deprecated and it will throw an error in a future release. Consider `x.mT` to transpose batches of matrices or `x.permute(*torch.arange(x.ndim - 1, -1, -1))` to reverse the dimensions of a tensor. (Triggered internally at ../aten/src/ATen/native/TensorShape.cpp:3683.)\n",
      "  loss = (loss_vec.T @ weights[indices]) / loss_vec.size(0)\n"
     ]
    },
    {
     "name": "stdout",
     "output_type": "stream",
     "text": [
      "TRIMMED MEAN\n",
      "Test acc:  0.6971428573131562  ( 0.07445036642699503 )  adv acc:  0.3692857213318348  ( 0.060318032633704916 ) \n"
     ]
    }
   ],
   "source": [
    "# Take measurement for ARU attack\n",
    "aggregator.load_state(dir_path=save_path_FAT)\n",
    "aggregator.update_clients()\n",
    "aggregation_op = 'trimmed_mean'\n",
    "aggregator.op = aggregation_op\n",
    "weight_scale_2 = 1\n",
    "atk_rounds = 1\n",
    "tm_beta = 0.05\n",
    "\n",
    "if False:\n",
    "    print(\"updating adv data set\")\n",
    "\n",
    "    # add adv dataset update - have last 15 clients generate adv examples \n",
    "    Fu = np.ones(num_user)\n",
    "    Fu[25:] = 0\n",
    "\n",
    "    # Setting evasion attack parameters\n",
    "    x_min = torch.min(aggregator.clients[0].adv_nn.dataloader.x_data).detach().cuda()\n",
    "    x_max = torch.max(aggregator.clients[0].adv_nn.dataloader.x_data).detach().cuda()\n",
    "    atk_params = PGD_Params()\n",
    "    atk_params.set_params(batch_size=1, iteration = steps,\n",
    "                    target = -1, x_val_min = x_min, x_val_max = x_max,\n",
    "                    step_size = step_size, step_norm = \"inf\", eps = eps_train, eps_norm = 2)\n",
    "\n",
    "    # Assign proportion and attack params\n",
    "    for c in range(len(aggregator.clients)):\n",
    "        if Fu[c] > 0:\n",
    "            # print (c)\n",
    "            aggregator.clients[c].set_adv_params(Fu[c], atk_params)\n",
    "            aggregator.clients[c].update_advnn()\n",
    "\n",
    "            aggregator.clients[c].assign_advdataset()\n",
    "\n",
    "\n",
    "for i in range(atk_rounds):\n",
    "    print('round ', i)\n",
    "    UNL_mix(aggregator, adv_id=[0], model_inject=model_Fedavg, weight_scale_2 = weight_scale_2, keys=desired_keys, aggregation_op = aggregation_op, tm_beta = tm_beta)\n",
    "\n",
    "\n",
    "model_overfit = pull_model_from_agg(aggregator)\n",
    "model_overfit.eval()\n",
    "acc, adv_acc = get_adv_acc(aggregator, model_overfit, eps=eps_attack, step_size = step_size, steps = steps)\n",
    "print(\"TRIMMED MEAN\")\n",
    "print(\"Test acc: \", np.mean(acc), \" (\", np.std(acc),\") \", \"adv acc: \", np.mean(adv_acc),\" (\", np.std(adv_acc),\") \")"
   ]
  },
  {
   "cell_type": "code",
   "execution_count": 7,
   "metadata": {},
   "outputs": [
    {
     "name": "stderr",
     "output_type": "stream",
     "text": [
      "findfont: Font family ['normal'] not found. Falling back to DejaVu Sans.\n",
      "findfont: Font family ['normal'] not found. Falling back to DejaVu Sans.\n",
      "findfont: Font family ['normal'] not found. Falling back to DejaVu Sans.\n"
     ]
    },
    {
     "name": "stdout",
     "output_type": "stream",
     "text": [
      "Submodule Name                 Mean Cosine Similarity         Std Dev\n",
      "=================================================================\n",
      "conv1                                    0.99998933      0.00000010 \n",
      "conv2                                    0.96397662      0.00052369 \n",
      "conv3                                    0.93490654      0.00153739 !!!\n",
      "fc1                                      0.70274884      0.04830325 !!!\n",
      "fc2                                      0.34229782      0.44475055 !!!\n"
     ]
    },
    {
     "data": {
      "image/png": "[encoded data removed]",
      "text/plain": [
       "<Figure size 480x320 with 1 Axes>"
      ]
     },
     "metadata": {
      "needs_background": "light"
     },
     "output_type": "display_data"
    }
   ],
   "source": [
    "dataloader = load_client_data(clients = aggregator.clients, c_id = 0, mode = 'test')\n",
    "x_data = dataloader.x_data.to(torch.float32)\n",
    "y_data = dataloader.y_data\n",
    "# Example usage\n",
    "# labs1, cs1 , std_dev1= compare_top_level_outputs_with_cosine_similarity(model_overfit, model_Fedavg, x_data.cuda())\n",
    "labs1, cs1 , std_dev1= compare_top_level_outputs_with_cosine_similarity_fnn(model_overfit, model_Fedavg, x_data.cuda())\n",
    "# Plotting setup\n",
    "font = {'family': 'normal', 'weight': 'normal', 'size': 13}\n",
    "threshold = 0.95\n",
    "\n",
    "# Set font and figure size\n",
    "plt.rc('font', **font)\n",
    "plt.figure(dpi=80, figsize=(6, 4))\n",
    "\n",
    "# Plot Cosine Similarities for both sets of inputs\n",
    "line_color1 = 'b'  # Color for benign input\n",
    "line_color2 = 'r'  # Color for adversarial input\n",
    "\n",
    "plt.plot(labs1, cs1, marker=\"o\", color=line_color1, label=\"Benign Input\")\n",
    "\n",
    "# Overlay standard deviation ranges with matching colors\n",
    "plt.fill_between(labs1, \n",
    "                 np.array(cs1) - std_dev1, \n",
    "                 np.array(cs1) + std_dev1, \n",
    "                 color=line_color1, alpha=0.2)\n",
    "\n",
    "\n",
    "# Add threshold line (optional)\n",
    "# plt.axhline(y=threshold, color=\"r\", linestyle=\"--\", label=f\"Threshold = {threshold}\")\n",
    "\n",
    "# Plot settings\n",
    "plt.xticks(rotation=45, ha=\"right\", fontsize=9)\n",
    "plt.ylabel(\"Cosine Similarity\")\n",
    "plt.title(\"Layer Comparison\")\n",
    "plt.legend()\n",
    "plt.tight_layout()\n",
    "\n",
    "# Display the plot\n",
    "plt.show()"
   ]
  },
  {
   "cell_type": "code",
   "execution_count": 8,
   "metadata": {},
   "outputs": [
    {
     "name": "stdout",
     "output_type": "stream",
     "text": [
      "round  0\n",
      "MEDIAN\n",
      "Test acc:  0.6700000062584877  ( 0.07254836334162194 )  adv acc:  0.3857142925262451  ( 0.05458563438799332 ) \n"
     ]
    }
   ],
   "source": [
    "# Take measurement for ARU attack\n",
    "aggregator.load_state(dir_path=save_path_FAT)\n",
    "aggregator.update_clients()\n",
    "aggregator.op = None\n",
    "weight_scale_2 = 1\n",
    "atk_rounds = 1\n",
    "aggregation_op = 'median'\n",
    "\n",
    "for i in range(atk_rounds):\n",
    "    print('round ', i)\n",
    "    UNL_mix(aggregator, adv_id=[0], model_inject=model_Fedavg, weight_scale_2 = weight_scale_2, keys=desired_keys, aggregation_op = aggregation_op)\n",
    "\n",
    "model_overfit = pull_model_from_agg(aggregator)\n",
    "model_overfit.eval()\n",
    "acc, adv_acc = get_adv_acc(aggregator, model_overfit, eps=eps_attack, step_size = step_size, steps = steps)\n",
    "print(\"MEDIAN\")\n",
    "print(\"Test acc: \", np.mean(acc), \" (\", np.std(acc),\") \", \"adv acc: \", np.mean(adv_acc),\" (\", np.std(adv_acc),\") \")"
   ]
  },
  {
   "cell_type": "raw",
   "metadata": {
    "vscode": {
     "languageId": "raw"
    }
   },
   "source": [
    "+------------+\n",
    "   CIFAR-10\n",
    "+------------+\n",
    "TRIMMED MEAN\n",
    "Test acc:  0.8106250017881393  ( 0.06792401922991079 )  adv acc:  0.42281250208616256  ( 0.09278198469542658 ) \n",
    "MEDIAN\n",
    "Test acc:  0.8090625017881393  ( 0.0718063540552197 )  adv acc:  0.4162500001490116  ( 0.09487656929085697 ) \n",
    "+------------+\n",
    "  CIFAR-100 \n",
    "+------------+\n",
    "TRIMMED MEAN\n",
    "Test acc:  0.41699999928474424  ( 0.06087236076019487 )  adv acc:  0.0998333352431655  ( 0.0362280589669199 ) \n",
    "MEDIAN\n",
    "Test acc:  0.4119999986886978  ( 0.06099089150180985 )  adv acc:  0.09283333513885736  ( 0.034440367166359925 ) \n",
    "\n",
    "+------------+\n",
    "   CELEBA\n",
    "+------------+\n",
    "TRIMMED MEAN\n",
    "Test acc:  0.7955490246415138  ( 0.07708568593379833 )  adv acc:  0.4646460834890604  ( 0.10703386173837182 ) \n",
    "MEDIAN\n",
    "Test acc:  0.7857490211725235  ( 0.08315555114653786 )  adv acc:  0.48127941638231275  ( 0.10045630335886205 ) \n",
    "\n",
    "+------------+\n",
    " FAKENEWSNET\n",
    "+------------+\n",
    "TRIMMED MEAN\n",
    "Test acc:  0.6971428573131562  ( 0.07445036642699503 )  adv acc:  0.3692857213318348  ( 0.060318032633704916 )\n",
    "MEDIAN\n",
    "Test acc:  0.6700000062584877  ( 0.07254836334162194 )  adv acc:  0.3857142925262451  ( 0.05458563438799332 ) "
   ]
  }
 ],
 "metadata": {
  "kernelspec": {
   "display_name": "FedEM_env",
   "language": "python",
   "name": "python3"
  },
  "language_info": {
   "codemirror_mode": {
    "name": "ipython",
    "version": 3
   },
   "file_extension": ".py",
   "mimetype": "text/x-python",
   "name": "python",
   "nbconvert_exporter": "python",
   "pygments_lexer": "ipython3",
   "version": "3.9.6"
  }
 },
 "nbformat": 4,
 "nbformat_minor": 2
}
