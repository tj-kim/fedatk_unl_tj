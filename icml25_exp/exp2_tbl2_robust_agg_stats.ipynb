{
 "cells": [
  {
   "cell_type": "markdown",
   "metadata": {
    "vscode": {
     "languageId": "plaintext"
    }
   },
   "source": [
    "### Experiment 2 - Table 2\n",
    "\n",
    "Calculating test accuracy and robustness (adversarial accuracy, adv. acc) for different datasets and different settings, given Trimmed mean and median aggregation schemes"
   ]
  },
  {
   "cell_type": "code",
   "execution_count": 1,
   "metadata": {},
   "outputs": [
    {
     "name": "stdout",
     "output_type": "stream",
     "text": [
      "/home/ubuntu/fedatk_unl_tj\n"
     ]
    }
   ],
   "source": [
    "cd /home/ubuntu/fedatk_unl_tj/"
   ]
  },
  {
   "cell_type": "code",
   "execution_count": 2,
   "metadata": {},
   "outputs": [
    {
     "name": "stderr",
     "output_type": "stream",
     "text": [
      "/home/ubuntu/anaconda3/envs/FedEM_env/lib/python3.9/site-packages/pandas/core/computation/expressions.py:21: UserWarning: Pandas requires version '2.8.4' or newer of 'numexpr' (version '2.7.3' currently installed).\n",
      "  from pandas.core.computation.check import NUMEXPR_INSTALLED\n",
      "/home/ubuntu/anaconda3/envs/FedEM_env/lib/python3.9/site-packages/pandas/core/arrays/masked.py:60: UserWarning: Pandas requires version '1.3.6' or newer of 'bottleneck' (version '1.3.2' currently installed).\n",
      "  from pandas.core import (\n"
     ]
    }
   ],
   "source": [
    "# Import General Libraries\n",
    "import os\n",
    "import argparse\n",
    "import torch\n",
    "import copy\n",
    "import pickle\n",
    "import random\n",
    "import numpy as np\n",
    "import pandas as pd\n",
    "import gc\n",
    "\n",
    "# Import FedEM based Libraries\n",
    "from utils.utils import *\n",
    "from utils.constants import *\n",
    "from utils.args import *\n",
    "from utils.util_notebooks import *\n",
    "from run_experiment import *\n",
    "from models import *\n",
    "\n",
    "# Import Transfer Attack\n",
    "from transfer_attacks.Personalized_NN import *\n",
    "from transfer_attacks.Params import *\n",
    "from transfer_attacks.Transferer import *\n",
    "from transfer_attacks.Args import *\n",
    "from transfer_attacks.TA_utils import *"
   ]
  },
  {
   "cell_type": "code",
   "execution_count": 3,
   "metadata": {},
   "outputs": [],
   "source": [
    "# Set parameters for taking measurements\n",
    "\n",
    "# Specify aggregation method, number of clients, and dataset\n",
    "setting, num_user = \"FedAvg_adv\", 40\n",
    "exp = \"cifar10\"\n",
    "\n",
    "# Load models for FAT and FedAvg - write down path to where weights are saved\n",
    "save_path_FAT = '/home/ubuntu/fedatk_unl_tj/weights/cifar10/250123_icml25/FAT/'\n",
    "save_path_FedAvg =  '/home/ubuntu/fedatk_unl_tj/weights/cifar10/250123_icml25/FedAvg/'\n",
    "# save_path_FAT = '/home/ubuntu/fedatk_unl_tj/weights/fakenews/250119_small_architecture_moreconv/FAT_ep02/'\n",
    "# save_path_FedAvg =  '/home/ubuntu/fedatk_unl_tj/weights/fakenews/250119_small_architecture_moreconv/FedAvg/'\n",
    "\n",
    "# Attack parameters for performing PGD \n",
    "eps_attack = 4.0\n",
    "eps_train = 4.5\n",
    "step_size = 0.01\n",
    "steps = 10"
   ]
  },
  {
   "cell_type": "code",
   "execution_count": 4,
   "metadata": {},
   "outputs": [
    {
     "name": "stdout",
     "output_type": "stream",
     "text": [
      "==> Clients initialization..\n",
      "===> Building data iterators..\n"
     ]
    },
    {
     "name": "stderr",
     "output_type": "stream",
     "text": [
      " 49%|████▉     | 39/80 [00:01<00:01, 29.28it/s]\n"
     ]
    },
    {
     "name": "stdout",
     "output_type": "stream",
     "text": [
      "===> Initializing clients..\n"
     ]
    },
    {
     "name": "stderr",
     "output_type": "stream",
     "text": [
      "  0%|          | 0/40 [00:00<?, ?it/s]/home/ubuntu/anaconda3/envs/FedEM_env/lib/python3.9/site-packages/torchvision/models/_utils.py:208: UserWarning: The parameter 'pretrained' is deprecated since 0.13 and may be removed in the future, please use 'weights' instead.\n",
      "  warnings.warn(\n",
      "/home/ubuntu/anaconda3/envs/FedEM_env/lib/python3.9/site-packages/torchvision/models/_utils.py:223: UserWarning: Arguments other than a weight enum or `None` for 'weights' are deprecated since 0.13 and may be removed in the future. The current behavior is equivalent to passing `weights=MobileNet_V2_Weights.IMAGENET1K_V1`. You can also use `weights=MobileNet_V2_Weights.DEFAULT` to get the most up-to-date weights.\n",
      "  warnings.warn(msg)\n",
      "100%|██████████| 40/40 [00:24<00:00,  1.64it/s]\n",
      "/home/ubuntu/fedatk_unl_tj/aggregator.py:289: FutureWarning: You are using `torch.load` with `weights_only=False` (the current default value), which uses the default pickle module implicitly. It is possible to construct malicious pickle data which will execute arbitrary code during unpickling (See https://github.com/pytorch/pytorch/blob/main/SECURITY.md#untrusted-models for more details). In a future release, the default value for `weights_only` will be flipped to `True`. This limits the functions that could be executed during unpickling. Arbitrary objects will no longer be allowed to be loaded via this mode unless they are explicitly allowlisted by the user via `torch.serialization.add_safe_globals`. We recommend you start setting `weights_only=True` for any use case where you don't have full control of the loaded file. Please open an issue on GitHub for any issues related to this experimental feature.\n",
      "  learner.model.load_state_dict(torch.load(chkpts_path))\n"
     ]
    }
   ],
   "source": [
    "# Generate instance of aggregator that holds all clients, data and models and load relevant models in\n",
    "try: # Skip loading if already loaded\n",
    "    aggregator\n",
    "except:\n",
    "    aggregator, clients, args_ = set_args(setting, num_user,  experiment = exp) # Indicate dataset here\n",
    "\n",
    "model_FAT = copy.deepcopy(import_model_weights(num_user, setting, save_path_FAT, aggregator, args_)[0])\n",
    "model_Fedavg = copy.deepcopy(import_model_weights(num_user, setting, save_path_FedAvg, aggregator, args_)[0])\n",
    "\n",
    "# Obtain parameters for each layer\n",
    "params_FAT = model_FAT.state_dict()\n",
    "params_FedAvg = model_Fedavg.state_dict()\n",
    "\n",
    "# Just take the values of weights and bias for the model\n",
    "desired_keys = params_FAT.keys() # [key for key in params_FAT.keys() if 'weight' in key or 'bias' in key]"
   ]
  },
  {
   "cell_type": "code",
   "execution_count": 5,
   "metadata": {},
   "outputs": [
    {
     "name": "stdout",
     "output_type": "stream",
     "text": [
      "round  0\n",
      "trimmed mean, N removed:  0\n",
      "weight scale: \n",
      " [40.00 40.00 40.00 40.00 40.00 40.00 40.00 40.00 40.00 40.00 40.00 40.00\n",
      " 40.00 40.00 40.00 40.00 40.00 40.00 40.00 40.00 40.00 40.00 40.00 40.00\n",
      " 40.00 40.00 40.00 40.00 40.00 40.00 40.00 40.00 40.00 40.00 40.00 40.00\n",
      " 40.00 40.00 40.00 40.00]\n"
     ]
    },
    {
     "name": "stderr",
     "output_type": "stream",
     "text": [
      "/home/ubuntu/fedatk_unl_tj/learners/learner.py:192: UserWarning: The use of `x.T` on tensors of dimension other than 2 to reverse their shape is deprecated and it will throw an error in a future release. Consider `x.mT` to transpose batches of matrices or `x.permute(*torch.arange(x.ndim - 1, -1, -1))` to reverse the dimensions of a tensor. (Triggered internally at ../aten/src/ATen/native/TensorShape.cpp:3683.)\n",
      "  loss = (loss_vec.T @ weights[indices]) / loss_vec.size(0)\n"
     ]
    },
    {
     "name": "stdout",
     "output_type": "stream",
     "text": [
      "TRIMMED MEAN\n",
      "Test acc:  0.1000000003958121  ( 0.06489173620864029 )  adv acc:  0.1000000003958121  ( 0.06489173620864029 ) \n"
     ]
    }
   ],
   "source": [
    "# Take measurement for ARU attack\n",
    "aggregator.load_state(dir_path=save_path_FAT)\n",
    "aggregator.update_clients()\n",
    "aggregator.op = None\n",
    "weight_scale_2 = 1\n",
    "atk_rounds = 1\n",
    "aggregation_op = 'trimmed_mean'\n",
    "tm_beta = 0.0\n",
    "\n",
    "if False:\n",
    "    print(\"updating adv data set\")\n",
    "\n",
    "    # add adv dataset update\n",
    "    Fu = np.ones(num_user) * 0.5\n",
    "\n",
    "    # Setting evasion attack parameters\n",
    "    x_min = torch.min(aggregator.clients[0].adv_nn.dataloader.x_data).detach().cuda()\n",
    "    x_max = torch.max(aggregator.clients[0].adv_nn.dataloader.x_data).detach().cuda()\n",
    "    atk_params = PGD_Params()\n",
    "    atk_params.set_params(batch_size=1, iteration = steps,\n",
    "                    target = -1, x_val_min = x_min, x_val_max = x_max,\n",
    "                    step_size = step_size, step_norm = \"inf\", eps = eps_train, eps_norm = 2)\n",
    "\n",
    "    # Assign proportion and attack params\n",
    "    for c in range(len(aggregator.clients)):\n",
    "        if Fu[c] > 0:\n",
    "            # print (c)\n",
    "            aggregator.clients[c].set_adv_params(Fu[c], atk_params)\n",
    "            aggregator.clients[c].update_advnn()\n",
    "\n",
    "            aggregator.clients[c].assign_advdataset()\n",
    "\n",
    "            # print(f\"  Memory allocated - after adv: {torch.cuda.memory_allocated() / 1e6:.2f} MB\")\n",
    "            aggregator.clients[c].del_advnn()\n",
    "\n",
    "for i in range(atk_rounds):\n",
    "    print('round ', i)\n",
    "    UNL_mix(aggregator, adv_id=[0], model_inject=model_Fedavg, weight_scale_2 = weight_scale_2, keys=desired_keys, aggregation_op = aggregation_op, tm_beta = tm_beta)\n",
    "\n",
    "model_overfit = pull_model_from_agg(aggregator)\n",
    "model_overfit.eval()\n",
    "acc, adv_acc = get_adv_acc(aggregator, model_overfit, eps=eps_attack, step_size = step_size, steps = steps)\n",
    "print(\"TRIMMED MEAN\")\n",
    "print(\"Test acc: \", np.mean(acc), \" (\", np.std(acc),\") \", \"adv acc: \", np.mean(adv_acc),\" (\", np.std(adv_acc),\") \")"
   ]
  },
  {
   "cell_type": "code",
   "execution_count": 28,
   "metadata": {},
   "outputs": [
    {
     "data": {
      "text/plain": [
       "2.0"
      ]
     },
     "execution_count": 28,
     "metadata": {},
     "output_type": "execute_result"
    }
   ],
   "source": [
    "# beta = 0.05\n",
    "# N_removed = int(beta*len(aggregator.clients))\n",
    "# N_removed\n",
    "\n",
    "# a = list(range(len(aggregator.clients)))\n",
    "# len(a[N_removed:-N_removed])\n",
    "# 40 * beta \n",
    "\n",
    "# sorted_params, indices = torch.sort(torch.stack(param_val[key], dim=0), dim=0)\n",
    "# target_state_dict[key].data = torch.mean(sorted_params[N_removed:-N_removed], dim=0)\n",
    "# removed_indices = torch.cat((indices[:N_removed], indices[-N_removed:]), dim=0)\n",
    "# sort_indices.append((key, removed_indices))"
   ]
  },
  {
   "cell_type": "code",
   "execution_count": 6,
   "metadata": {},
   "outputs": [
    {
     "name": "stdout",
     "output_type": "stream",
     "text": [
      "round  0\n",
      "MEDIAN\n",
      "Test acc:  0.8159375011920929  ( 0.06993230591122046 )  adv acc:  0.41531250029802325  ( 0.09607481865270066 ) \n"
     ]
    }
   ],
   "source": [
    "# Take measurement for ARU attack\n",
    "aggregator.load_state(dir_path=save_path_FAT)\n",
    "aggregator.update_clients()\n",
    "aggregator.op = None\n",
    "weight_scale_2 = 1\n",
    "atk_rounds = 1\n",
    "aggregation_op = 'median'\n",
    "\n",
    "for i in range(atk_rounds):\n",
    "    print('round ', i)\n",
    "    UNL_mix(aggregator, adv_id=[0], model_inject=model_Fedavg, weight_scale_2 = weight_scale_2, keys=desired_keys, aggregation_op = aggregation_op)\n",
    "\n",
    "model_overfit = pull_model_from_agg(aggregator)\n",
    "model_overfit.eval()\n",
    "acc, adv_acc = get_adv_acc(aggregator, model_overfit, eps=eps_attack, step_size = step_size, steps = steps)\n",
    "print(\"MEDIAN\")\n",
    "print(\"Test acc: \", np.mean(acc), \" (\", np.std(acc),\") \", \"adv acc: \", np.mean(adv_acc),\" (\", np.std(adv_acc),\") \")"
   ]
  },
  {
   "cell_type": "raw",
   "metadata": {
    "vscode": {
     "languageId": "raw"
    }
   },
   "source": [
    "+------------+\n",
    "   CIFAR-10\n",
    "+------------+\n",
    "TRIMMED MEAN\n",
    "Test acc:  0.8109374985098838  ( 0.06579962030900176 )  adv acc:  0.4062499970197678  ( 0.10081697324331584 ) \n",
    "MEDIAN\n",
    "Test acc:  0.8159375011920929  ( 0.06993230591122046 )  adv acc:  0.41531250029802325  ( 0.09607481865270066 ) \n",
    "\n",
    "+------------+\n",
    "  CIFAR-100 \n",
    "+------------+\n",
    "TRIMMED MEAN\n",
    "MEDIAN\n",
    "\n",
    "+------------+\n",
    "   CELEBA\n",
    "+------------+\n",
    "TRIMMED MEAN\n",
    "MEDIAN\n",
    "\n",
    "+------------+\n",
    " FAKENEWSNET\n",
    "+------------+\n",
    "TRIMMED MEAN\n",
    "MEDIAN\n"
   ]
  }
 ],
 "metadata": {
  "kernelspec": {
   "display_name": "FedEM_env",
   "language": "python",
   "name": "python3"
  },
  "language_info": {
   "codemirror_mode": {
    "name": "ipython",
    "version": 3
   },
   "file_extension": ".py",
   "mimetype": "text/x-python",
   "name": "python",
   "nbconvert_exporter": "python",
   "pygments_lexer": "ipython3",
   "version": "3.9.6"
  }
 },
 "nbformat": 4,
 "nbformat_minor": 2
}
