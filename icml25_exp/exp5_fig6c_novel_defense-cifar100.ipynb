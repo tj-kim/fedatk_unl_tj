{
 "cells": [
  {
   "cell_type": "markdown",
   "metadata": {},
   "source": [
    "### Multiround UNL Attack Mixed\n",
    "\n",
    "Figure 5abc, and 6c\n",
    "Adjust the aggregation method accordingly based on hyperparameters (trimmed mean cutoff) to replicate results\n",
    "\n",
    "Can also use this code to perform experiments for table 2\n",
    "\n",
    "##### Summary\n",
    "Load FAT model trained for 150 rounds and for 50 rounds try and inject FedAvg model into the system. Try different scaling rates and spread out the model replacement attack."
   ]
  },
  {
   "cell_type": "code",
   "execution_count": 1,
   "metadata": {},
   "outputs": [
    {
     "name": "stdout",
     "output_type": "stream",
     "text": [
      "/home/ubuntu/fedatk_unl_tj\n"
     ]
    }
   ],
   "source": [
    "cd /home/ubuntu/fedatk_unl_tj/"
   ]
  },
  {
   "cell_type": "code",
   "execution_count": 2,
   "metadata": {},
   "outputs": [
    {
     "name": "stderr",
     "output_type": "stream",
     "text": [
      "/home/ubuntu/anaconda3/envs/FedEM_env/lib/python3.9/site-packages/pandas/core/computation/expressions.py:21: UserWarning: Pandas requires version '2.8.4' or newer of 'numexpr' (version '2.7.3' currently installed).\n",
      "  from pandas.core.computation.check import NUMEXPR_INSTALLED\n",
      "/home/ubuntu/anaconda3/envs/FedEM_env/lib/python3.9/site-packages/pandas/core/arrays/masked.py:60: UserWarning: Pandas requires version '1.3.6' or newer of 'bottleneck' (version '1.3.2' currently installed).\n",
      "  from pandas.core import (\n"
     ]
    }
   ],
   "source": [
    "# Import General Libraries\n",
    "import os\n",
    "import argparse\n",
    "import torch\n",
    "import copy\n",
    "import pickle\n",
    "import random\n",
    "import numpy as np\n",
    "import pandas as pd\n",
    "\n",
    "# Import FedEM based Libraries\n",
    "from utils.utils import *\n",
    "from utils.constants import *\n",
    "from utils.args import *\n",
    "from utils.util_notebooks import *\n",
    "from run_experiment import *\n",
    "from models import *\n",
    "\n",
    "# Import Transfer Attack\n",
    "from transfer_attacks.Personalized_NN import *\n",
    "from transfer_attacks.Params import *\n",
    "from transfer_attacks.Transferer import *\n",
    "from transfer_attacks.Args import *\n",
    "from transfer_attacks.TA_utils import *"
   ]
  },
  {
   "cell_type": "code",
   "execution_count": 3,
   "metadata": {},
   "outputs": [],
   "source": [
    "# Specify aggregation method, number of clients, and dataset\n",
    "setting, num_user = \"FedAvg_adv\", 50\n",
    "exp = \"cifar100\"\n",
    "\n",
    "# Load models for FAT and FedAvg - write down path to where weights are saved\n",
    "save_path_FAT = '/home/ubuntu/fedatk_unl_tj/weights/cifar100/250123_icml25/FAT/'\n",
    "save_path_FedAvg =  '/home/ubuntu/fedatk_unl_tj/weights/cifar100/250123_icml25/FedAvg/'\n",
    "save_path_FedAvg_150R = save_path_FAT #'/home/ubuntu/fedatk_unl_tj/weights/cifar100/250123_icml25/FAT_R50/'\n",
    "\n",
    "# save_path_FAT = '/home/ubuntu/fedatk_unl_tj/weights/fakenews/250119_small_architecture_moreconv/FAT_ep02/'\n",
    "# save_path_FedAvg =  '/home/ubuntu/fedatk_unl_tj/weights/fakenews/250119_small_architecture_moreconv/FedAvg/'\n",
    "\n",
    "# Attack parameters for performing PGD \n",
    "eps_attack = 4.0\n",
    "eps_train = 4.5\n",
    "step_size = 0.01\n",
    "steps = 10"
   ]
  },
  {
   "cell_type": "code",
   "execution_count": 4,
   "metadata": {},
   "outputs": [
    {
     "name": "stdout",
     "output_type": "stream",
     "text": [
      "==> Clients initialization..\n",
      "===> Building data iterators..\n"
     ]
    },
    {
     "name": "stderr",
     "output_type": "stream",
     "text": [
      " 49%|████▉     | 49/100 [00:00<00:00, 160.71it/s]\n"
     ]
    },
    {
     "name": "stdout",
     "output_type": "stream",
     "text": [
      "===> Initializing clients..\n"
     ]
    },
    {
     "name": "stderr",
     "output_type": "stream",
     "text": [
      "  0%|          | 0/50 [00:00<?, ?it/s]/home/ubuntu/anaconda3/envs/FedEM_env/lib/python3.9/site-packages/torchvision/models/_utils.py:208: UserWarning: The parameter 'pretrained' is deprecated since 0.13 and may be removed in the future, please use 'weights' instead.\n",
      "  warnings.warn(\n",
      "/home/ubuntu/anaconda3/envs/FedEM_env/lib/python3.9/site-packages/torchvision/models/_utils.py:223: UserWarning: Arguments other than a weight enum or `None` for 'weights' are deprecated since 0.13 and may be removed in the future. The current behavior is equivalent to passing `weights=MobileNet_V2_Weights.IMAGENET1K_V1`. You can also use `weights=MobileNet_V2_Weights.DEFAULT` to get the most up-to-date weights.\n",
      "  warnings.warn(msg)\n",
      "100%|██████████| 50/50 [00:17<00:00,  2.84it/s]\n",
      "/home/ubuntu/fedatk_unl_tj/aggregator.py:289: FutureWarning: You are using `torch.load` with `weights_only=False` (the current default value), which uses the default pickle module implicitly. It is possible to construct malicious pickle data which will execute arbitrary code during unpickling (See https://github.com/pytorch/pytorch/blob/main/SECURITY.md#untrusted-models for more details). In a future release, the default value for `weights_only` will be flipped to `True`. This limits the functions that could be executed during unpickling. Arbitrary objects will no longer be allowed to be loaded via this mode unless they are explicitly allowlisted by the user via `torch.serialization.add_safe_globals`. We recommend you start setting `weights_only=True` for any use case where you don't have full control of the loaded file. Please open an issue on GitHub for any issues related to this experimental feature.\n",
      "  learner.model.load_state_dict(torch.load(chkpts_path))\n"
     ]
    }
   ],
   "source": [
    "# Generate instance of aggregator that holds all clients, data and models and load relevant models in\n",
    "try: # Skip loading if already loaded\n",
    "    aggregator_og\n",
    "except:\n",
    "    aggregator_og, clients, args_ = set_args(setting, num_user,  experiment = exp) # Indicate dataset here\n",
    "\n",
    "model_FAT = copy.deepcopy(import_model_weights(num_user, setting, save_path_FAT, aggregator_og, args_)[0])\n",
    "model_Fedavg = copy.deepcopy(import_model_weights(num_user, setting, save_path_FedAvg, aggregator_og, args_)[0])\n",
    "\n",
    "# Obtain parameters for each layer\n",
    "params_FAT = model_FAT.state_dict()\n",
    "params_FedAvg = model_Fedavg.state_dict()\n",
    "\n",
    "# Just take the values of weights and bias for the model\n",
    "desired_keys = params_FAT.keys() # [key for key in params_FAT.keys() if 'weight' in key or 'bias' in key] # "
   ]
  },
  {
   "cell_type": "code",
   "execution_count": 5,
   "metadata": {},
   "outputs": [
    {
     "name": "stdout",
     "output_type": "stream",
     "text": [
      "==> Clients initialization..\n",
      "===> Building data iterators..\n"
     ]
    },
    {
     "name": "stderr",
     "output_type": "stream",
     "text": [
      " 49%|████▉     | 49/100 [00:00<00:00, 236.02it/s]\n"
     ]
    },
    {
     "name": "stdout",
     "output_type": "stream",
     "text": [
      "===> Initializing clients..\n"
     ]
    },
    {
     "name": "stderr",
     "output_type": "stream",
     "text": [
      "100%|██████████| 50/50 [00:20<00:00,  2.42it/s]\n"
     ]
    },
    {
     "name": "stdout",
     "output_type": "stream",
     "text": [
      "updating adv data set\n",
      "Test acc:  0.415333331823349 adv acc:  0.10616666849702597\n"
     ]
    },
    {
     "name": "stderr",
     "output_type": "stream",
     "text": [
      "/home/ubuntu/fedatk_unl_tj/learners/learner.py:192: UserWarning: The use of `x.T` on tensors of dimension other than 2 to reverse their shape is deprecated and it will throw an error in a future release. Consider `x.mT` to transpose batches of matrices or `x.permute(*torch.arange(x.ndim - 1, -1, -1))` to reverse the dimensions of a tensor. (Triggered internally at ../aten/src/ATen/native/TensorShape.cpp:3683.)\n",
      "  loss = (loss_vec.T @ weights[indices]) / loss_vec.size(0)\n"
     ]
    },
    {
     "name": "stdout",
     "output_type": "stream",
     "text": [
      "Successfully copied values of 'features.17.conv.1.1.running_var' from source_model to target_model.\n",
      "Values of 'features.17.conv.1.1.running_var' successfully updated in the new model.\n",
      "round 0 Test acc:  0.41033333212137224 adv acc:  0.08816666871309281\n",
      "Successfully copied values of 'features.17.conv.1.1.running_var' from source_model to target_model.\n",
      "Values of 'features.17.conv.1.1.running_var' successfully updated in the new model.\n",
      "round 1 Test acc:  0.40349999845027923 adv acc:  0.06866666834801435\n",
      "Successfully copied values of 'features.17.conv.1.1.running_var' from source_model to target_model.\n",
      "Values of 'features.17.conv.1.1.running_var' successfully updated in the new model.\n",
      "round 2 Test acc:  0.40233333349227907 adv acc:  0.051833334732800725\n",
      "Successfully copied values of 'features.17.conv.1.1.running_var' from source_model to target_model.\n",
      "Values of 'features.17.conv.1.1.running_var' successfully updated in the new model.\n",
      "round 3 Test acc:  0.39716666519641874 adv acc:  0.04050000114366412\n",
      "Successfully copied values of 'features.17.conv.1.1.running_var' from source_model to target_model.\n",
      "Values of 'features.17.conv.1.1.running_var' successfully updated in the new model.\n",
      "round 4 Test acc:  0.39816666305065157 adv acc:  0.03383333433419466\n",
      "Successfully copied values of 'features.17.conv.1.1.running_var' from source_model to target_model.\n",
      "Values of 'features.17.conv.1.1.running_var' successfully updated in the new model.\n",
      "round 5 Test acc:  0.3971666646003723 adv acc:  0.030333334244787694\n",
      "Successfully copied values of 'features.17.conv.1.1.running_var' from source_model to target_model.\n",
      "Values of 'features.17.conv.1.1.running_var' successfully updated in the new model.\n",
      "round 6 Test acc:  0.3926666688919067 adv acc:  0.027666667513549327\n",
      "Successfully copied values of 'features.17.conv.1.1.running_var' from source_model to target_model.\n",
      "Values of 'features.17.conv.1.1.running_var' successfully updated in the new model.\n",
      "round 7 Test acc:  0.3855000016093254 adv acc:  0.02516666742041707\n",
      "Successfully copied values of 'features.17.conv.1.1.running_var' from source_model to target_model.\n",
      "Values of 'features.17.conv.1.1.running_var' successfully updated in the new model.\n",
      "round 8 Test acc:  0.3801666659116745 adv acc:  0.020500000715255737\n",
      "Successfully copied values of 'features.17.conv.1.1.running_var' from source_model to target_model.\n",
      "Values of 'features.17.conv.1.1.running_var' successfully updated in the new model.\n",
      "round 9 Test acc:  0.3769999980926514 adv acc:  0.01866666730493307\n",
      "Successfully copied values of 'features.17.conv.1.1.running_var' from source_model to target_model.\n",
      "Values of 'features.17.conv.1.1.running_var' successfully updated in the new model.\n",
      "round 10 Test acc:  0.3729999998211861 adv acc:  0.01866666739806533\n",
      "Successfully copied values of 'features.17.conv.1.1.running_var' from source_model to target_model.\n",
      "Values of 'features.17.conv.1.1.running_var' successfully updated in the new model.\n",
      "round 11 Test acc:  0.3679999998211861 adv acc:  0.016000000555068256\n",
      "Successfully copied values of 'features.17.conv.1.1.running_var' from source_model to target_model.\n",
      "Values of 'features.17.conv.1.1.running_var' successfully updated in the new model.\n",
      "round 12 Test acc:  0.3666666665673256 adv acc:  0.01683333396911621\n",
      "Successfully copied values of 'features.17.conv.1.1.running_var' from source_model to target_model.\n",
      "Values of 'features.17.conv.1.1.running_var' successfully updated in the new model.\n",
      "round 13 Test acc:  0.36716666698455813 adv acc:  0.015833333842456342\n",
      "Successfully copied values of 'features.17.conv.1.1.running_var' from source_model to target_model.\n",
      "Values of 'features.17.conv.1.1.running_var' successfully updated in the new model.\n",
      "round 14 Test acc:  0.3659999993443489 adv acc:  0.014333333875983954\n",
      "Successfully copied values of 'features.17.conv.1.1.running_var' from source_model to target_model.\n",
      "Values of 'features.17.conv.1.1.running_var' successfully updated in the new model.\n",
      "round 15 Test acc:  0.3671666657924652 adv acc:  0.014833333902060986\n",
      "Successfully copied values of 'features.17.conv.1.1.running_var' from source_model to target_model.\n",
      "Values of 'features.17.conv.1.1.running_var' successfully updated in the new model.\n",
      "round 16 Test acc:  0.36799999833106994 adv acc:  0.015500000584870577\n",
      "Successfully copied values of 'features.17.conv.1.1.running_var' from source_model to target_model.\n",
      "Values of 'features.17.conv.1.1.running_var' successfully updated in the new model.\n",
      "round 17 Test acc:  0.3663333311676979 adv acc:  0.014166667181998492\n",
      "Successfully copied values of 'features.17.conv.1.1.running_var' from source_model to target_model.\n",
      "Values of 'features.17.conv.1.1.running_var' successfully updated in the new model.\n",
      "round 18 Test acc:  0.3659999993443489 adv acc:  0.01366666730493307\n",
      "Successfully copied values of 'features.17.conv.1.1.running_var' from source_model to target_model.\n",
      "Values of 'features.17.conv.1.1.running_var' successfully updated in the new model.\n",
      "round 19 Test acc:  0.3654999992251396 adv acc:  0.013000000473111869\n",
      "Test acc:  0.415333331823349 adv acc:  0.10583333533257246\n",
      "Successfully copied values of 'features.17.conv.1.1.running_var' from source_model to target_model.\n",
      "Values of 'features.17.conv.1.1.running_var' successfully updated in the new model.\n",
      "round 0 Test acc:  0.41150000095367434 adv acc:  0.09466666873544455\n",
      "Successfully copied values of 'features.17.conv.1.1.running_var' from source_model to target_model.\n",
      "Values of 'features.17.conv.1.1.running_var' successfully updated in the new model.\n",
      "round 1 Test acc:  0.40649999856948854 adv acc:  0.08250000208616257\n",
      "Successfully copied values of 'features.17.conv.1.1.running_var' from source_model to target_model.\n",
      "Values of 'features.17.conv.1.1.running_var' successfully updated in the new model.\n",
      "round 2 Test acc:  0.40966666519641876 adv acc:  0.06966666832566261\n",
      "Successfully copied values of 'features.17.conv.1.1.running_var' from source_model to target_model.\n",
      "Values of 'features.17.conv.1.1.running_var' successfully updated in the new model.\n",
      "round 3 Test acc:  0.40499999701976774 adv acc:  0.061500001288950445\n",
      "Successfully copied values of 'features.17.conv.1.1.running_var' from source_model to target_model.\n",
      "Values of 'features.17.conv.1.1.running_var' successfully updated in the new model.\n",
      "round 4 Test acc:  0.4018333321809769 adv acc:  0.052500001415610315\n",
      "Successfully copied values of 'features.17.conv.1.1.running_var' from source_model to target_model.\n",
      "Values of 'features.17.conv.1.1.running_var' successfully updated in the new model.\n",
      "round 5 Test acc:  0.39766666531562805 adv acc:  0.04466666771098971\n",
      "Successfully copied values of 'features.17.conv.1.1.running_var' from source_model to target_model.\n",
      "Values of 'features.17.conv.1.1.running_var' successfully updated in the new model.\n",
      "round 6 Test acc:  0.3926666647195816 adv acc:  0.037166667748242614\n",
      "Successfully copied values of 'features.17.conv.1.1.running_var' from source_model to target_model.\n",
      "Values of 'features.17.conv.1.1.running_var' successfully updated in the new model.\n",
      "round 7 Test acc:  0.3878333306312561 adv acc:  0.03283333448693156\n",
      "Successfully copied values of 'features.17.conv.1.1.running_var' from source_model to target_model.\n",
      "Values of 'features.17.conv.1.1.running_var' successfully updated in the new model.\n",
      "round 8 Test acc:  0.385333331823349 adv acc:  0.03050000101327896\n",
      "Successfully copied values of 'features.17.conv.1.1.running_var' from source_model to target_model.\n",
      "Values of 'features.17.conv.1.1.running_var' successfully updated in the new model.\n",
      "round 9 Test acc:  0.3829999995231628 adv acc:  0.02733333433046937\n",
      "Successfully copied values of 'features.17.conv.1.1.running_var' from source_model to target_model.\n",
      "Values of 'features.17.conv.1.1.running_var' successfully updated in the new model.\n",
      "round 10 Test acc:  0.3795000004768372 adv acc:  0.025666667558252813\n",
      "Successfully copied values of 'features.17.conv.1.1.running_var' from source_model to target_model.\n",
      "Values of 'features.17.conv.1.1.running_var' successfully updated in the new model.\n",
      "round 11 Test acc:  0.3748333328962326 adv acc:  0.025666667632758617\n",
      "Successfully copied values of 'features.17.conv.1.1.running_var' from source_model to target_model.\n",
      "Values of 'features.17.conv.1.1.running_var' successfully updated in the new model.\n",
      "round 12 Test acc:  0.3701666659116745 adv acc:  0.02266666755080223\n",
      "Successfully copied values of 'features.17.conv.1.1.running_var' from source_model to target_model.\n",
      "Values of 'features.17.conv.1.1.running_var' successfully updated in the new model.\n",
      "round 13 Test acc:  0.3681666672229767 adv acc:  0.021000000834465026\n",
      "Successfully copied values of 'features.17.conv.1.1.running_var' from source_model to target_model.\n",
      "Values of 'features.17.conv.1.1.running_var' successfully updated in the new model.\n",
      "round 14 Test acc:  0.36799999952316287 adv acc:  0.021333334129303695\n",
      "Successfully copied values of 'features.17.conv.1.1.running_var' from source_model to target_model.\n",
      "Values of 'features.17.conv.1.1.running_var' successfully updated in the new model.\n",
      "round 15 Test acc:  0.3670000004768372 adv acc:  0.021166667491197586\n",
      "Successfully copied values of 'features.17.conv.1.1.running_var' from source_model to target_model.\n",
      "Values of 'features.17.conv.1.1.running_var' successfully updated in the new model.\n",
      "round 16 Test acc:  0.36666666507720946 adv acc:  0.021000000853091477\n",
      "Successfully copied values of 'features.17.conv.1.1.running_var' from source_model to target_model.\n",
      "Values of 'features.17.conv.1.1.running_var' successfully updated in the new model.\n",
      "round 17 Test acc:  0.3659999993443489 adv acc:  0.01950000073760748\n",
      "Successfully copied values of 'features.17.conv.1.1.running_var' from source_model to target_model.\n",
      "Values of 'features.17.conv.1.1.running_var' successfully updated in the new model.\n",
      "round 18 Test acc:  0.3646666678786278 adv acc:  0.01816666729748249\n",
      "Successfully copied values of 'features.17.conv.1.1.running_var' from source_model to target_model.\n",
      "Values of 'features.17.conv.1.1.running_var' successfully updated in the new model.\n",
      "round 19 Test acc:  0.3640000006556511 adv acc:  0.019500000700354576\n",
      "Test acc:  0.415333331823349 adv acc:  0.10583333510905504\n",
      "Successfully copied values of 'features.17.conv.1.1.running_var' from source_model to target_model.\n",
      "Values of 'features.17.conv.1.1.running_var' successfully updated in the new model.\n",
      "round 0 Test acc:  0.4139999973773956 adv acc:  0.10550000183284283\n",
      "Successfully copied values of 'features.17.conv.1.1.running_var' from source_model to target_model.\n",
      "Values of 'features.17.conv.1.1.running_var' successfully updated in the new model.\n",
      "round 1 Test acc:  0.41266666412353514 adv acc:  0.10366666816174984\n",
      "Successfully copied values of 'features.17.conv.1.1.running_var' from source_model to target_model.\n",
      "Values of 'features.17.conv.1.1.running_var' successfully updated in the new model.\n",
      "round 2 Test acc:  0.41283333361148833 adv acc:  0.10583333499729633\n",
      "Successfully copied values of 'features.17.conv.1.1.running_var' from source_model to target_model.\n",
      "Values of 'features.17.conv.1.1.running_var' successfully updated in the new model.\n",
      "round 3 Test acc:  0.414166664481163 adv acc:  0.10350000210106373\n",
      "Successfully copied values of 'features.17.conv.1.1.running_var' from source_model to target_model.\n",
      "Values of 'features.17.conv.1.1.running_var' successfully updated in the new model.\n",
      "round 4 Test acc:  0.41349999845027924 adv acc:  0.10183333460241556\n",
      "Successfully copied values of 'features.17.conv.1.1.running_var' from source_model to target_model.\n",
      "Values of 'features.17.conv.1.1.running_var' successfully updated in the new model.\n",
      "round 5 Test acc:  0.4130000001192093 adv acc:  0.10216666843742132\n",
      "Successfully copied values of 'features.17.conv.1.1.running_var' from source_model to target_model.\n",
      "Values of 'features.17.conv.1.1.running_var' successfully updated in the new model.\n",
      "round 6 Test acc:  0.41366666853427886 adv acc:  0.10066666837781668\n",
      "Successfully copied values of 'features.17.conv.1.1.running_var' from source_model to target_model.\n",
      "Values of 'features.17.conv.1.1.running_var' successfully updated in the new model.\n",
      "round 7 Test acc:  0.4128333353996277 adv acc:  0.10100000184029341\n",
      "Successfully copied values of 'features.17.conv.1.1.running_var' from source_model to target_model.\n",
      "Values of 'features.17.conv.1.1.running_var' successfully updated in the new model.\n",
      "round 8 Test acc:  0.41283333480358125 adv acc:  0.09950000178068877\n",
      "Successfully copied values of 'features.17.conv.1.1.running_var' from source_model to target_model.\n",
      "Values of 'features.17.conv.1.1.running_var' successfully updated in the new model.\n",
      "round 9 Test acc:  0.41266666889190673 adv acc:  0.10133333537727594\n",
      "Successfully copied values of 'features.17.conv.1.1.running_var' from source_model to target_model.\n",
      "Values of 'features.17.conv.1.1.running_var' successfully updated in the new model.\n",
      "round 10 Test acc:  0.4116666668653488 adv acc:  0.10016666825860739\n",
      "Successfully copied values of 'features.17.conv.1.1.running_var' from source_model to target_model.\n",
      "Values of 'features.17.conv.1.1.running_var' successfully updated in the new model.\n",
      "round 11 Test acc:  0.41183333277702333 adv acc:  0.09850000213831663\n",
      "Successfully copied values of 'features.17.conv.1.1.running_var' from source_model to target_model.\n",
      "Values of 'features.17.conv.1.1.running_var' successfully updated in the new model.\n",
      "round 12 Test acc:  0.4119999998807907 adv acc:  0.09933333497494459\n",
      "Successfully copied values of 'features.17.conv.1.1.running_var' from source_model to target_model.\n",
      "Values of 'features.17.conv.1.1.running_var' successfully updated in the new model.\n",
      "round 13 Test acc:  0.41116666674613955 adv acc:  0.09950000207871199\n",
      "Successfully copied values of 'features.17.conv.1.1.running_var' from source_model to target_model.\n",
      "Values of 'features.17.conv.1.1.running_var' successfully updated in the new model.\n",
      "round 14 Test acc:  0.41133333384990695 adv acc:  0.09866666849702596\n",
      "Successfully copied values of 'features.17.conv.1.1.running_var' from source_model to target_model.\n",
      "Values of 'features.17.conv.1.1.running_var' successfully updated in the new model.\n",
      "round 15 Test acc:  0.4108333331346512 adv acc:  0.09816666882485152\n",
      "Successfully copied values of 'features.17.conv.1.1.running_var' from source_model to target_model.\n",
      "Values of 'features.17.conv.1.1.running_var' successfully updated in the new model.\n",
      "round 16 Test acc:  0.41150000095367434 adv acc:  0.09883333463221788\n",
      "Successfully copied values of 'features.17.conv.1.1.running_var' from source_model to target_model.\n",
      "Values of 'features.17.conv.1.1.running_var' successfully updated in the new model.\n",
      "round 17 Test acc:  0.4126666659116745 adv acc:  0.0993333351239562\n",
      "Successfully copied values of 'features.17.conv.1.1.running_var' from source_model to target_model.\n",
      "Values of 'features.17.conv.1.1.running_var' successfully updated in the new model.\n",
      "round 18 Test acc:  0.41266666531562807 adv acc:  0.0973333353176713\n",
      "Successfully copied values of 'features.17.conv.1.1.running_var' from source_model to target_model.\n",
      "Values of 'features.17.conv.1.1.running_var' successfully updated in the new model.\n",
      "round 19 Test acc:  0.4130000001192093 adv acc:  0.09750000175088644\n"
     ]
    }
   ],
   "source": [
    "num_aru = [5, 10, 10]\n",
    "beta_params = [0.05, 0.1, 0.2]\n",
    "weight2_list = [0.3,  0.3, 0.1]\n",
    "agg_options = [\"median_sublayers\", \"median_sublayers\", \"median_sublayers\"]\n",
    "\n",
    "median_layers = ['features.1.', 'features.2.', 'features.4.', 'features.14.', 'features.17.']  # period is important \n",
    "\n",
    "num_rounds = 20\n",
    "eps = eps_attack\n",
    "\n",
    "result_list = []\n",
    "for itt in range(len(num_aru)):\n",
    "    result_list += [{}]\n",
    "\n",
    "# setting, num_user = \"FedAvg_adv\", 20\n",
    "aggregator, clients, args_ = set_args(setting, num_user,  experiment = exp)\n",
    "\n",
    "agg_choice = random.choices(range(3),k=num_rounds)\n",
    "\n",
    "if True:\n",
    "    print(\"updating adv data set\")\n",
    "    # add adv dataset update\n",
    "    Fu = np.zeros(num_user)\n",
    "    Fu[0:20] = 1\n",
    "\n",
    "    # Setting evasion attack parameters\n",
    "    x_min = torch.min(clients[0].adv_nn.dataloader.x_data)\n",
    "    x_max = torch.max(clients[0].adv_nn.dataloader.x_data)\n",
    "    atk_params = PGD_Params()\n",
    "    atk_params.set_params(batch_size=1, iteration = 10,\n",
    "                    target = -1, x_val_min = x_min, x_val_max = x_max,\n",
    "                    step_size = 0.05, step_norm = \"inf\", eps = eps, eps_norm = 2)\n",
    "\n",
    "    # Assign proportion and attack params\n",
    "    for c in range(len(clients)):\n",
    "        if Fu[c] > 0:\n",
    "            aggregator.clients[c].set_adv_params(Fu[c], atk_params)\n",
    "            aggregator.clients[c].update_advnn()\n",
    "            aggregator.clients[c].assign_advdataset()\n",
    "\n",
    "for itt in range(len(beta_params)):\n",
    "    # Perform 50 rounds of FAT on FedAvg model \n",
    "    num_adv = num_aru[itt]\n",
    "    weight2 = 1/num_adv * weight2_list[itt]\n",
    "    adv_id = random.sample(range(20,num_user), num_adv) # excluding 0-9 as Fu = 1\n",
    "    beta = beta_params[itt]\n",
    "\n",
    "    test_acc_gather = []\n",
    "    adv_acc_gather = []\n",
    "    test_acc_std = []\n",
    "    adv_acc_std = []\n",
    "    cosine_gather_layers = np.zeros([num_rounds, len(desired_keys)])\n",
    "\n",
    "    aggregator.tm_rate = beta\n",
    "\n",
    "    # Test performance of aggregator on data \n",
    "    aggregator.load_state(dir_path = save_path_FedAvg_150R)\n",
    "    aggregator.update_clients()\n",
    "    model_FA = pull_model_from_agg(aggregator)\n",
    "    model_FA.eval()\n",
    "    acc, adv_acc = get_adv_acc(aggregator, model_FA, eps = eps)\n",
    "\n",
    "    # prev_model = copy.deepcopy(model_FA)\n",
    "\n",
    "    print(\"Test acc: \", np.mean(acc), \"adv acc: \", np.mean(adv_acc))\n",
    "    test_acc_gather+= [np.mean(acc)]\n",
    "    adv_acc_gather += [np.mean(adv_acc)]\n",
    "    test_acc_std += [np.std(acc)]\n",
    "    adv_acc_std += [np.std(adv_acc)]\n",
    "\n",
    "\n",
    "    for i in range(num_rounds):\n",
    "\n",
    "        # Per round Freq\n",
    "        aggregator.aggregation_op = agg_options[itt]\n",
    "\n",
    "        # aggregator.mix()\n",
    "        UNL_mix_novel(aggregator, adv_id, model_inject = model_Fedavg, keys = desired_keys, weight_scale_2 = weight2, dump_flag=False, tm_beta=beta, median_layers = median_layers)\n",
    "        model_overfit = pull_model_from_agg(aggregator)\n",
    "        model_overfit.eval()\n",
    "        acc, adv_acc = get_adv_acc(aggregator, model_overfit, eps = eps)\n",
    "\n",
    "        print(\"round\", i,\"Test acc: \", np.mean(acc), \"adv acc: \", np.mean(adv_acc))\n",
    "        test_acc_gather+= [np.mean(acc)]\n",
    "        adv_acc_gather += [np.mean(adv_acc)]\n",
    "        test_acc_std += [np.std(acc)]\n",
    "        adv_acc_std += [np.std(adv_acc)]\n",
    "        # prev_model = copy.deepcopy(model_overfit)\n",
    "\n",
    "        result_list[itt]['test_acc'] = copy.deepcopy(test_acc_gather)\n",
    "        result_list[itt]['adv_acc'] = copy.deepcopy(adv_acc_gather)\n",
    "        result_list[itt]['test_std'] = copy.deepcopy(test_acc_std)\n",
    "        result_list[itt]['adv_std'] = copy.deepcopy(adv_acc_std)\n",
    "        result_list[itt]['num_clients'] = num_adv\n",
    "        result_list[itt]['beta'] = beta\n",
    "        result_list[itt]['weight2'] = weight2_list[itt]\n",
    "        # Perform gradient direction gathering\n",
    "\n",
    "        del model_overfit\n",
    "        gc.collect()\n",
    "        torch.cuda.empty_cache()\n",
    "\n",
    "\n",
    "    "
   ]
  },
  {
   "cell_type": "code",
   "execution_count": 6,
   "metadata": {},
   "outputs": [],
   "source": [
    "import pickle\n",
    "\n",
    "a = result_list\n",
    "\n",
    "with open('saved_results/mixed_sweep/250128_5b_msub_arui_cifar100.pk', 'wb') as handle:\n",
    "    pickle.dump(a, handle, protocol=pickle.HIGHEST_PROTOCOL)"
   ]
  },
  {
   "cell_type": "code",
   "execution_count": 7,
   "metadata": {},
   "outputs": [],
   "source": [
    "# with open('saved_results/mixed_sweep/250128_5b_msub_arui_cifar100.pk', 'rb') as handle:\n",
    "#     result_list = pickle.load(handle)"
   ]
  },
  {
   "cell_type": "code",
   "execution_count": 8,
   "metadata": {},
   "outputs": [
    {
     "name": "stderr",
     "output_type": "stream",
     "text": [
      "findfont: Font family ['normal'] not found. Falling back to DejaVu Sans.\n",
      "findfont: Font family ['normal'] not found. Falling back to DejaVu Sans.\n"
     ]
    },
    {
     "data": {
      "image/png": "[encoded data removed]",
      "text/plain": [
       "<Figure size 480x320 with 1 Axes>"
      ]
     },
     "metadata": {
      "needs_background": "light"
     },
     "output_type": "display_data"
    }
   ],
   "source": [
    "import matplotlib.pyplot as plt\n",
    "import numpy as np\n",
    "\n",
    "font = {'family' : 'normal',\n",
    "        'weight' : 'normal',\n",
    "        'size'   : 18}\n",
    "\n",
    "plt.rc('font', **font)\n",
    "plt.figure(dpi=80, figsize=(6,4))\n",
    "\n",
    "plot_settings = [[5 ,0.05,0.3],[10, 0.1, 0.3], [10, 0.2, 0.1]]\n",
    "\n",
    "# Generate some sample data\n",
    "x = range(num_rounds+1)  # 100 points from 0 to 10\n",
    "\n",
    "# Plotting the lines\n",
    "# plt.plot(x, y1, label='Test Acc')\n",
    "label_list = plot_settings\n",
    "for i in range(len(label_list)):\n",
    "    y = np.array(result_list[i]['adv_acc'])\n",
    "    error = np.array(result_list[i]['adv_std'])\n",
    "    plt.plot(x, y, label= str(label_list[i]))\n",
    "    plt.fill_between(x, y-error, y+error,\n",
    "    alpha=0.2)\n",
    "\n",
    "# Adding labels and title\n",
    "plt.xlabel('Injection Rounds')\n",
    "plt.ylabel('Adv. Acc. (Robustness)')\n",
    "plt.title('CIFAR-100: ARU vs Hybrid Defense \\n Legend - [#ARU client, tm_param, β]', fontsize = 'medium')\n",
    "\n",
    "# Adding a legend\n",
    "plt.legend( loc=\"best\", fontsize=13)\n",
    "\n",
    "\n",
    "# Display the plot\n",
    "plt.show()\n"
   ]
  },
  {
   "cell_type": "raw",
   "metadata": {
    "vscode": {
     "languageId": "raw"
    }
   },
   "source": [
    "'saved_results/mixed_sweep/250127_5b_tm_arui.pk'\n",
    "plot_settings = [[5 ,0.05,0.3],[5 ,0.2, 0.05],[5, 0.2, 0.1], [10, 0.2, 0.15]]\n",
    "num_round = 15\n",
    "\n",
    "'saved_results/mixed_sweep/250127_5b_tm_arui_2.pk'\n",
    "plot_settings = [[5 ,0.05,0.3],[5 ,0.1, 0.2],[10, 0.1, 0.3], [10, 0.2, 0.2]]\n",
    "num_round = 20\n"
   ]
  }
 ],
 "metadata": {
  "kernelspec": {
   "display_name": "FedEM_env",
   "language": "python",
   "name": "python3"
  },
  "language_info": {
   "codemirror_mode": {
    "name": "ipython",
    "version": 3
   },
   "file_extension": ".py",
   "mimetype": "text/x-python",
   "name": "python",
   "nbconvert_exporter": "python",
   "pygments_lexer": "ipython3",
   "version": "3.9.6"
  }
 },
 "nbformat": 4,
 "nbformat_minor": 2
}
