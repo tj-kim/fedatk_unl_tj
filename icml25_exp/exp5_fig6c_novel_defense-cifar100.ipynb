{
 "cells": [
  {
   "cell_type": "markdown",
   "metadata": {},
   "source": [
    "### Multiround UNL Attack Mixed\n",
    "\n",
    "Figure 5abc, and 6c\n",
    "Adjust the aggregation method accordingly based on hyperparameters (trimmed mean cutoff) to replicate results\n",
    "\n",
    "Can also use this code to perform experiments for table 2\n",
    "\n",
    "##### Summary\n",
    "Load FAT model trained for 150 rounds and for 50 rounds try and inject FedAvg model into the system. Try different scaling rates and spread out the model replacement attack."
   ]
  },
  {
   "cell_type": "code",
   "execution_count": 1,
   "metadata": {},
   "outputs": [
    {
     "name": "stdout",
     "output_type": "stream",
     "text": [
      "/home/ubuntu/fedatk_unl_tj\n"
     ]
    }
   ],
   "source": [
    "cd /home/ubuntu/fedatk_unl_tj/"
   ]
  },
  {
   "cell_type": "code",
   "execution_count": 2,
   "metadata": {},
   "outputs": [
    {
     "name": "stderr",
     "output_type": "stream",
     "text": [
      "/home/ubuntu/anaconda3/envs/FedEM_env/lib/python3.9/site-packages/pandas/core/computation/expressions.py:21: UserWarning: Pandas requires version '2.8.4' or newer of 'numexpr' (version '2.7.3' currently installed).\n",
      "  from pandas.core.computation.check import NUMEXPR_INSTALLED\n",
      "/home/ubuntu/anaconda3/envs/FedEM_env/lib/python3.9/site-packages/pandas/core/arrays/masked.py:60: UserWarning: Pandas requires version '1.3.6' or newer of 'bottleneck' (version '1.3.2' currently installed).\n",
      "  from pandas.core import (\n"
     ]
    }
   ],
   "source": [
    "# Import General Libraries\n",
    "import os\n",
    "import argparse\n",
    "import torch\n",
    "import copy\n",
    "import pickle\n",
    "import random\n",
    "import numpy as np\n",
    "import pandas as pd\n",
    "\n",
    "# Import FedEM based Libraries\n",
    "from utils.utils import *\n",
    "from utils.constants import *\n",
    "from utils.args import *\n",
    "from utils.util_notebooks import *\n",
    "from run_experiment import *\n",
    "from models import *\n",
    "\n",
    "# Import Transfer Attack\n",
    "from transfer_attacks.Personalized_NN import *\n",
    "from transfer_attacks.Params import *\n",
    "from transfer_attacks.Transferer import *\n",
    "from transfer_attacks.Args import *\n",
    "from transfer_attacks.TA_utils import *"
   ]
  },
  {
   "cell_type": "code",
   "execution_count": 3,
   "metadata": {},
   "outputs": [],
   "source": [
    "# Specify aggregation method, number of clients, and dataset\n",
    "setting, num_user = \"FedAvg_adv\", 50\n",
    "exp = \"cifar100\"\n",
    "\n",
    "# Load models for FAT and FedAvg - write down path to where weights are saved\n",
    "save_path_FAT = '/home/ubuntu/fedatk_unl_tj/weights/cifar100/250123_icml25/FAT/'\n",
    "save_path_FedAvg =  '/home/ubuntu/fedatk_unl_tj/weights/cifar100/250123_icml25/FedAvg/'\n",
    "save_path_FedAvg_150R = save_path_FAT #'/home/ubuntu/fedatk_unl_tj/weights/cifar100/250123_icml25/FAT_R50/'\n",
    "\n",
    "# save_path_FAT = '/home/ubuntu/fedatk_unl_tj/weights/fakenews/250119_small_architecture_moreconv/FAT_ep02/'\n",
    "# save_path_FedAvg =  '/home/ubuntu/fedatk_unl_tj/weights/fakenews/250119_small_architecture_moreconv/FedAvg/'\n",
    "\n",
    "# Attack parameters for performing PGD \n",
    "eps_attack = 4.0\n",
    "eps_train = 4.5\n",
    "step_size = 0.01\n",
    "steps = 10"
   ]
  },
  {
   "cell_type": "code",
   "execution_count": 4,
   "metadata": {},
   "outputs": [
    {
     "name": "stdout",
     "output_type": "stream",
     "text": [
      "==> Clients initialization..\n",
      "===> Building data iterators..\n"
     ]
    },
    {
     "name": "stderr",
     "output_type": "stream",
     "text": [
      " 49%|████▉     | 49/100 [00:00<00:00, 137.64it/s]\n"
     ]
    },
    {
     "name": "stdout",
     "output_type": "stream",
     "text": [
      "===> Initializing clients..\n"
     ]
    },
    {
     "name": "stderr",
     "output_type": "stream",
     "text": [
      "  0%|          | 0/50 [00:00<?, ?it/s]/home/ubuntu/anaconda3/envs/FedEM_env/lib/python3.9/site-packages/torchvision/models/_utils.py:208: UserWarning: The parameter 'pretrained' is deprecated since 0.13 and may be removed in the future, please use 'weights' instead.\n",
      "  warnings.warn(\n",
      "/home/ubuntu/anaconda3/envs/FedEM_env/lib/python3.9/site-packages/torchvision/models/_utils.py:223: UserWarning: Arguments other than a weight enum or `None` for 'weights' are deprecated since 0.13 and may be removed in the future. The current behavior is equivalent to passing `weights=MobileNet_V2_Weights.IMAGENET1K_V1`. You can also use `weights=MobileNet_V2_Weights.DEFAULT` to get the most up-to-date weights.\n",
      "  warnings.warn(msg)\n",
      "100%|██████████| 50/50 [00:19<00:00,  2.57it/s]\n",
      "/home/ubuntu/fedatk_unl_tj/aggregator.py:289: FutureWarning: You are using `torch.load` with `weights_only=False` (the current default value), which uses the default pickle module implicitly. It is possible to construct malicious pickle data which will execute arbitrary code during unpickling (See https://github.com/pytorch/pytorch/blob/main/SECURITY.md#untrusted-models for more details). In a future release, the default value for `weights_only` will be flipped to `True`. This limits the functions that could be executed during unpickling. Arbitrary objects will no longer be allowed to be loaded via this mode unless they are explicitly allowlisted by the user via `torch.serialization.add_safe_globals`. We recommend you start setting `weights_only=True` for any use case where you don't have full control of the loaded file. Please open an issue on GitHub for any issues related to this experimental feature.\n",
      "  learner.model.load_state_dict(torch.load(chkpts_path))\n"
     ]
    }
   ],
   "source": [
    "# Generate instance of aggregator that holds all clients, data and models and load relevant models in\n",
    "try: # Skip loading if already loaded\n",
    "    aggregator_og\n",
    "except:\n",
    "    aggregator_og, clients, args_ = set_args(setting, num_user,  experiment = exp) # Indicate dataset here\n",
    "\n",
    "model_FAT = copy.deepcopy(import_model_weights(num_user, setting, save_path_FAT, aggregator_og, args_)[0])\n",
    "model_Fedavg = copy.deepcopy(import_model_weights(num_user, setting, save_path_FedAvg, aggregator_og, args_)[0])\n",
    "\n",
    "# Obtain parameters for each layer\n",
    "params_FAT = model_FAT.state_dict()\n",
    "params_FedAvg = model_Fedavg.state_dict()\n",
    "\n",
    "# Just take the values of weights and bias for the model\n",
    "desired_keys = params_FAT.keys() # [key for key in params_FAT.keys() if 'weight' in key or 'bias' in key] # "
   ]
  },
  {
   "cell_type": "code",
   "execution_count": 5,
   "metadata": {},
   "outputs": [
    {
     "name": "stdout",
     "output_type": "stream",
     "text": [
      "==> Clients initialization..\n",
      "===> Building data iterators..\n"
     ]
    },
    {
     "name": "stderr",
     "output_type": "stream",
     "text": [
      " 49%|████▉     | 49/100 [00:00<00:00, 189.03it/s]\n"
     ]
    },
    {
     "name": "stdout",
     "output_type": "stream",
     "text": [
      "===> Initializing clients..\n"
     ]
    },
    {
     "name": "stderr",
     "output_type": "stream",
     "text": [
      "100%|██████████| 50/50 [00:17<00:00,  2.81it/s]\n"
     ]
    },
    {
     "name": "stdout",
     "output_type": "stream",
     "text": [
      "updating adv data set\n",
      "Test acc:  0.415333331823349 adv acc:  0.10650000188499689\n"
     ]
    },
    {
     "name": "stderr",
     "output_type": "stream",
     "text": [
      "/home/ubuntu/fedatk_unl_tj/learners/learner.py:192: UserWarning: The use of `x.T` on tensors of dimension other than 2 to reverse their shape is deprecated and it will throw an error in a future release. Consider `x.mT` to transpose batches of matrices or `x.permute(*torch.arange(x.ndim - 1, -1, -1))` to reverse the dimensions of a tensor. (Triggered internally at ../aten/src/ATen/native/TensorShape.cpp:3683.)\n",
      "  loss = (loss_vec.T @ weights[indices]) / loss_vec.size(0)\n"
     ]
    },
    {
     "name": "stdout",
     "output_type": "stream",
     "text": [
      "Successfully copied values of 'features.17.conv.1.1.running_var' from source_model to target_model.\n",
      "Values of 'features.17.conv.1.1.running_var' successfully updated in the new model.\n",
      "round 0 Test acc:  0.4099999976158142 adv acc:  0.08583333514630795\n",
      "Successfully copied values of 'features.17.conv.1.1.running_var' from source_model to target_model.\n",
      "Values of 'features.17.conv.1.1.running_var' successfully updated in the new model.\n",
      "round 1 Test acc:  0.4055000001192093 adv acc:  0.0676666682958603\n",
      "Successfully copied values of 'features.17.conv.1.1.running_var' from source_model to target_model.\n",
      "Values of 'features.17.conv.1.1.running_var' successfully updated in the new model.\n",
      "round 2 Test acc:  0.40149999916553497 adv acc:  0.050000001396983865\n",
      "Successfully copied values of 'features.17.conv.1.1.running_var' from source_model to target_model.\n",
      "Values of 'features.17.conv.1.1.running_var' successfully updated in the new model.\n",
      "round 3 Test acc:  0.39583333253860475 adv acc:  0.03966666776686907\n",
      "Successfully copied values of 'features.17.conv.1.1.running_var' from source_model to target_model.\n",
      "Values of 'features.17.conv.1.1.running_var' successfully updated in the new model.\n",
      "round 4 Test acc:  0.3968333345651627 adv acc:  0.03300000110641122\n",
      "Successfully copied values of 'features.17.conv.1.1.running_var' from source_model to target_model.\n",
      "Values of 'features.17.conv.1.1.running_var' successfully updated in the new model.\n",
      "round 5 Test acc:  0.39433333337306975 adv acc:  0.030333334393799306\n",
      "Successfully copied values of 'features.17.conv.1.1.running_var' from source_model to target_model.\n",
      "Values of 'features.17.conv.1.1.running_var' successfully updated in the new model.\n",
      "round 6 Test acc:  0.38933333337306975 adv acc:  0.026166667509824038\n",
      "Successfully copied values of 'features.17.conv.1.1.running_var' from source_model to target_model.\n",
      "Values of 'features.17.conv.1.1.running_var' successfully updated in the new model.\n",
      "round 7 Test acc:  0.3855000013113022 adv acc:  0.02300000086426735\n",
      "Successfully copied values of 'features.17.conv.1.1.running_var' from source_model to target_model.\n",
      "Values of 'features.17.conv.1.1.running_var' successfully updated in the new model.\n",
      "round 8 Test acc:  0.3811666661500931 adv acc:  0.022000000812113285\n",
      "Successfully copied values of 'features.17.conv.1.1.running_var' from source_model to target_model.\n",
      "Values of 'features.17.conv.1.1.running_var' successfully updated in the new model.\n",
      "round 9 Test acc:  0.37566666543483734 adv acc:  0.019666667338460685\n",
      "Successfully copied values of 'features.17.conv.1.1.running_var' from source_model to target_model.\n",
      "Values of 'features.17.conv.1.1.running_var' successfully updated in the new model.\n",
      "round 10 Test acc:  0.3726666676998138 adv acc:  0.0190000007301569\n",
      "Successfully copied values of 'features.17.conv.1.1.running_var' from source_model to target_model.\n",
      "Values of 'features.17.conv.1.1.running_var' successfully updated in the new model.\n",
      "round 11 Test acc:  0.3696666669845581 adv acc:  0.017833334002643822\n",
      "Successfully copied values of 'features.17.conv.1.1.running_var' from source_model to target_model.\n",
      "Values of 'features.17.conv.1.1.running_var' successfully updated in the new model.\n",
      "round 12 Test acc:  0.3693333333730698 adv acc:  0.018000000678002833\n",
      "Successfully copied values of 'features.17.conv.1.1.running_var' from source_model to target_model.\n",
      "Values of 'features.17.conv.1.1.running_var' successfully updated in the new model.\n",
      "round 13 Test acc:  0.36799999833106994 adv acc:  0.01616666726768017\n",
      "Successfully copied values of 'features.17.conv.1.1.running_var' from source_model to target_model.\n",
      "Values of 'features.17.conv.1.1.running_var' successfully updated in the new model.\n",
      "round 14 Test acc:  0.36549999862909316 adv acc:  0.016666667275130748\n",
      "Successfully copied values of 'features.17.conv.1.1.running_var' from source_model to target_model.\n",
      "Values of 'features.17.conv.1.1.running_var' successfully updated in the new model.\n",
      "round 15 Test acc:  0.36566666543483733 adv acc:  0.016000000592321158\n",
      "Successfully copied values of 'features.17.conv.1.1.running_var' from source_model to target_model.\n",
      "Values of 'features.17.conv.1.1.running_var' successfully updated in the new model.\n",
      "round 16 Test acc:  0.3653333333134651 adv acc:  0.015666667278856038\n",
      "Successfully copied values of 'features.17.conv.1.1.running_var' from source_model to target_model.\n",
      "Values of 'features.17.conv.1.1.running_var' successfully updated in the new model.\n",
      "round 17 Test acc:  0.3656666669249535 adv acc:  0.015000000689178705\n",
      "Successfully copied values of 'features.17.conv.1.1.running_var' from source_model to target_model.\n",
      "Values of 'features.17.conv.1.1.running_var' successfully updated in the new model.\n",
      "round 18 Test acc:  0.3651666682958603 adv acc:  0.01533333394676447\n",
      "Successfully copied values of 'features.17.conv.1.1.running_var' from source_model to target_model.\n",
      "Values of 'features.17.conv.1.1.running_var' successfully updated in the new model.\n",
      "round 19 Test acc:  0.3651666682958603 adv acc:  0.015333333909511566\n",
      "Test acc:  0.415333331823349 adv acc:  0.10633333463221789\n",
      "Successfully copied values of 'features.17.conv.1.1.running_var' from source_model to target_model.\n",
      "Values of 'features.17.conv.1.1.running_var' successfully updated in the new model.\n",
      "round 0 Test acc:  0.41250000238418577 adv acc:  0.09466666880995035\n",
      "Successfully copied values of 'features.17.conv.1.1.running_var' from source_model to target_model.\n",
      "Values of 'features.17.conv.1.1.running_var' successfully updated in the new model.\n",
      "round 1 Test acc:  0.4058333319425583 adv acc:  0.08033333580940961\n",
      "Successfully copied values of 'features.17.conv.1.1.running_var' from source_model to target_model.\n",
      "Values of 'features.17.conv.1.1.running_var' successfully updated in the new model.\n",
      "round 2 Test acc:  0.4083333331346512 adv acc:  0.07000000156462192\n",
      "Successfully copied values of 'features.17.conv.1.1.running_var' from source_model to target_model.\n",
      "Values of 'features.17.conv.1.1.running_var' successfully updated in the new model.\n",
      "round 3 Test acc:  0.4055000001192093 adv acc:  0.061000001318752765\n",
      "Successfully copied values of 'features.17.conv.1.1.running_var' from source_model to target_model.\n",
      "Values of 'features.17.conv.1.1.running_var' successfully updated in the new model.\n",
      "round 4 Test acc:  0.40216666340827945 adv acc:  0.05266666792333126\n",
      "Successfully copied values of 'features.17.conv.1.1.running_var' from source_model to target_model.\n",
      "Values of 'features.17.conv.1.1.running_var' successfully updated in the new model.\n"
     ]
    },
    {
     "ename": "KeyboardInterrupt",
     "evalue": "",
     "output_type": "error",
     "traceback": [
      "\u001b[0;31m---------------------------------------------------------------------------\u001b[0m",
      "\u001b[0;31mKeyboardInterrupt\u001b[0m                         Traceback (most recent call last)",
      "\u001b[0;32m/tmp/ipykernel_536892/502844474.py\u001b[0m in \u001b[0;36m<module>\u001b[0;34m\u001b[0m\n\u001b[1;32m     79\u001b[0m         \u001b[0mmodel_overfit\u001b[0m \u001b[0;34m=\u001b[0m \u001b[0mpull_model_from_agg\u001b[0m\u001b[0;34m(\u001b[0m\u001b[0maggregator\u001b[0m\u001b[0;34m)\u001b[0m\u001b[0;34m\u001b[0m\u001b[0;34m\u001b[0m\u001b[0m\n\u001b[1;32m     80\u001b[0m         \u001b[0mmodel_overfit\u001b[0m\u001b[0;34m.\u001b[0m\u001b[0meval\u001b[0m\u001b[0;34m(\u001b[0m\u001b[0;34m)\u001b[0m\u001b[0;34m\u001b[0m\u001b[0;34m\u001b[0m\u001b[0m\n\u001b[0;32m---> 81\u001b[0;31m         \u001b[0macc\u001b[0m\u001b[0;34m,\u001b[0m \u001b[0madv_acc\u001b[0m \u001b[0;34m=\u001b[0m \u001b[0mget_adv_acc\u001b[0m\u001b[0;34m(\u001b[0m\u001b[0maggregator\u001b[0m\u001b[0;34m,\u001b[0m \u001b[0mmodel_overfit\u001b[0m\u001b[0;34m,\u001b[0m \u001b[0meps\u001b[0m \u001b[0;34m=\u001b[0m \u001b[0meps\u001b[0m\u001b[0;34m)\u001b[0m\u001b[0;34m\u001b[0m\u001b[0;34m\u001b[0m\u001b[0m\n\u001b[0m\u001b[1;32m     82\u001b[0m \u001b[0;34m\u001b[0m\u001b[0m\n\u001b[1;32m     83\u001b[0m         \u001b[0mprint\u001b[0m\u001b[0;34m(\u001b[0m\u001b[0;34m\"round\"\u001b[0m\u001b[0;34m,\u001b[0m \u001b[0mi\u001b[0m\u001b[0;34m,\u001b[0m\u001b[0;34m\"Test acc: \"\u001b[0m\u001b[0;34m,\u001b[0m \u001b[0mnp\u001b[0m\u001b[0;34m.\u001b[0m\u001b[0mmean\u001b[0m\u001b[0;34m(\u001b[0m\u001b[0macc\u001b[0m\u001b[0;34m)\u001b[0m\u001b[0;34m,\u001b[0m \u001b[0;34m\"adv acc: \"\u001b[0m\u001b[0;34m,\u001b[0m \u001b[0mnp\u001b[0m\u001b[0;34m.\u001b[0m\u001b[0mmean\u001b[0m\u001b[0;34m(\u001b[0m\u001b[0madv_acc\u001b[0m\u001b[0;34m)\u001b[0m\u001b[0;34m)\u001b[0m\u001b[0;34m\u001b[0m\u001b[0;34m\u001b[0m\u001b[0m\n",
      "\u001b[0;32m~/fedatk_unl_tj/utils/util_notebooks.py\u001b[0m in \u001b[0;36mget_adv_acc\u001b[0;34m(aggregator, model, batch_size, eps, step_size, steps)\u001b[0m\n\u001b[1;32m    369\u001b[0m                                 step_size = step_size, step_norm = \"inf\", eps = eps, eps_norm = 2)\n\u001b[1;32m    370\u001b[0m         \u001b[0mt1\u001b[0m\u001b[0;34m.\u001b[0m\u001b[0mgenerate_advNN\u001b[0m\u001b[0;34m(\u001b[0m\u001b[0mc_id\u001b[0m\u001b[0;34m)\u001b[0m\u001b[0;34m\u001b[0m\u001b[0;34m\u001b[0m\u001b[0m\n\u001b[0;32m--> 371\u001b[0;31m         \u001b[0mt1\u001b[0m\u001b[0;34m.\u001b[0m\u001b[0mgenerate_xadv\u001b[0m\u001b[0;34m(\u001b[0m\u001b[0matk_type\u001b[0m\u001b[0;34m=\u001b[0m\u001b[0;34m\"pgd\"\u001b[0m\u001b[0;34m)\u001b[0m\u001b[0;34m\u001b[0m\u001b[0;34m\u001b[0m\u001b[0m\n\u001b[0m\u001b[1;32m    372\u001b[0m         \u001b[0mt1\u001b[0m\u001b[0;34m.\u001b[0m\u001b[0msend_to_victims\u001b[0m\u001b[0;34m(\u001b[0m\u001b[0mvictim_idxs\u001b[0m\u001b[0;34m)\u001b[0m\u001b[0;34m\u001b[0m\u001b[0;34m\u001b[0m\u001b[0m\n\u001b[1;32m    373\u001b[0m         \u001b[0mtest_acc_save\u001b[0m\u001b[0;34m[\u001b[0m\u001b[0mc_id\u001b[0m\u001b[0;34m]\u001b[0m \u001b[0;34m=\u001b[0m \u001b[0mcopy\u001b[0m\u001b[0;34m.\u001b[0m\u001b[0mdeepcopy\u001b[0m\u001b[0;34m(\u001b[0m\u001b[0mt1\u001b[0m\u001b[0;34m.\u001b[0m\u001b[0morig_acc_transfers\u001b[0m\u001b[0;34m[\u001b[0m\u001b[0;36m0\u001b[0m\u001b[0;34m]\u001b[0m\u001b[0;34m)\u001b[0m\u001b[0;34m\u001b[0m\u001b[0;34m\u001b[0m\u001b[0m\n",
      "\u001b[0;32m~/fedatk_unl_tj/transfer_attacks/Transferer.py\u001b[0m in \u001b[0;36mgenerate_xadv\u001b[0;34m(self, atk_type, mode)\u001b[0m\n\u001b[1;32m     94\u001b[0m             \u001b[0mself\u001b[0m\u001b[0;34m.\u001b[0m\u001b[0madvNN\u001b[0m\u001b[0;34m.\u001b[0m\u001b[0mi_fgsm\u001b[0m\u001b[0;34m(\u001b[0m\u001b[0mself\u001b[0m\u001b[0;34m.\u001b[0m\u001b[0matk_params\u001b[0m\u001b[0;34m,\u001b[0m \u001b[0mmode\u001b[0m\u001b[0;34m=\u001b[0m\u001b[0mmode\u001b[0m\u001b[0;34m)\u001b[0m\u001b[0;34m\u001b[0m\u001b[0;34m\u001b[0m\u001b[0m\n\u001b[1;32m     95\u001b[0m         \u001b[0;32melif\u001b[0m \u001b[0;34m(\u001b[0m\u001b[0matk_type\u001b[0m \u001b[0;34m==\u001b[0m \u001b[0;34m\"PGD\"\u001b[0m\u001b[0;34m)\u001b[0m \u001b[0;32mor\u001b[0m \u001b[0;34m(\u001b[0m\u001b[0matk_type\u001b[0m \u001b[0;34m==\u001b[0m \u001b[0;34m\"pgd\"\u001b[0m\u001b[0;34m)\u001b[0m\u001b[0;34m:\u001b[0m\u001b[0;34m\u001b[0m\u001b[0;34m\u001b[0m\u001b[0m\n\u001b[0;32m---> 96\u001b[0;31m             \u001b[0mself\u001b[0m\u001b[0;34m.\u001b[0m\u001b[0madvNN\u001b[0m\u001b[0;34m.\u001b[0m\u001b[0mpgd\u001b[0m\u001b[0;34m(\u001b[0m\u001b[0mself\u001b[0m\u001b[0;34m.\u001b[0m\u001b[0matk_params\u001b[0m\u001b[0;34m,\u001b[0m \u001b[0mmode\u001b[0m\u001b[0;34m=\u001b[0m\u001b[0mmode\u001b[0m\u001b[0;34m)\u001b[0m\u001b[0;34m\u001b[0m\u001b[0;34m\u001b[0m\u001b[0m\n\u001b[0m\u001b[1;32m     97\u001b[0m         \u001b[0;32melse\u001b[0m\u001b[0;34m:\u001b[0m\u001b[0;34m\u001b[0m\u001b[0;34m\u001b[0m\u001b[0m\n\u001b[1;32m     98\u001b[0m             \u001b[0mprint\u001b[0m\u001b[0;34m(\u001b[0m\u001b[0;34m\"Attak type unidentified -- Running IFSGM\"\u001b[0m\u001b[0;34m)\u001b[0m\u001b[0;34m\u001b[0m\u001b[0;34m\u001b[0m\u001b[0m\n",
      "\u001b[0;32m~/fedatk_unl_tj/transfer_attacks/Personalized_NN.py\u001b[0m in \u001b[0;36mpgd\u001b[0;34m(self, atk_params, print_info, mode)\u001b[0m\n\u001b[1;32m    432\u001b[0m         \u001b[0mself\u001b[0m\u001b[0;34m.\u001b[0m\u001b[0my_orig\u001b[0m \u001b[0;34m=\u001b[0m \u001b[0mself\u001b[0m\u001b[0;34m.\u001b[0m\u001b[0my_orig\u001b[0m\u001b[0;34m.\u001b[0m\u001b[0mdetach\u001b[0m\u001b[0;34m(\u001b[0m\u001b[0;34m)\u001b[0m\u001b[0;34m.\u001b[0m\u001b[0mcpu\u001b[0m\u001b[0;34m(\u001b[0m\u001b[0;34m)\u001b[0m\u001b[0;34m\u001b[0m\u001b[0;34m\u001b[0m\u001b[0m\n\u001b[1;32m    433\u001b[0m \u001b[0;34m\u001b[0m\u001b[0m\n\u001b[0;32m--> 434\u001b[0;31m         \u001b[0mgc\u001b[0m\u001b[0;34m.\u001b[0m\u001b[0mcollect\u001b[0m\u001b[0;34m(\u001b[0m\u001b[0;34m)\u001b[0m\u001b[0;34m\u001b[0m\u001b[0;34m\u001b[0m\u001b[0m\n\u001b[0m\u001b[1;32m    435\u001b[0m         \u001b[0mtorch\u001b[0m\u001b[0;34m.\u001b[0m\u001b[0mcuda\u001b[0m\u001b[0;34m.\u001b[0m\u001b[0mempty_cache\u001b[0m\u001b[0;34m(\u001b[0m\u001b[0;34m)\u001b[0m\u001b[0;34m\u001b[0m\u001b[0;34m\u001b[0m\u001b[0m\n\u001b[1;32m    436\u001b[0m \u001b[0;34m\u001b[0m\u001b[0m\n",
      "\u001b[0;31mKeyboardInterrupt\u001b[0m: "
     ]
    }
   ],
   "source": [
    "num_aru = [5, 10, 10]\n",
    "beta_params = [0.05, 0.1, 0.2]\n",
    "weight2_list = [0.3,  0.3, 0.1]\n",
    "agg_options = [\"median_sublayers\", \"median_sublayers\", \"median_sublayers\"]\n",
    "\n",
    "median_layers = ['features.1.', 'features.2.', 'features.4.', 'features.14.', 'features.17.']  # period is important \n",
    "\n",
    "num_rounds = 20\n",
    "eps = eps_attack\n",
    "\n",
    "result_list = []\n",
    "for itt in range(len(num_aru)):\n",
    "    result_list += [{}]\n",
    "\n",
    "# setting, num_user = \"FedAvg_adv\", 20\n",
    "aggregator, clients, args_ = set_args(setting, num_user,  experiment = exp)\n",
    "\n",
    "agg_choice = random.choices(range(3),k=num_rounds)\n",
    "\n",
    "if True:\n",
    "    print(\"updating adv data set\")\n",
    "    # add adv dataset update\n",
    "    Fu = np.zeros(num_user)\n",
    "    Fu[0:20] = 1\n",
    "\n",
    "    # Setting evasion attack parameters\n",
    "    x_min = torch.min(clients[0].adv_nn.dataloader.x_data)\n",
    "    x_max = torch.max(clients[0].adv_nn.dataloader.x_data)\n",
    "    atk_params = PGD_Params()\n",
    "    atk_params.set_params(batch_size=1, iteration = 10,\n",
    "                    target = -1, x_val_min = x_min, x_val_max = x_max,\n",
    "                    step_size = 0.05, step_norm = \"inf\", eps = eps, eps_norm = 2)\n",
    "\n",
    "    # Assign proportion and attack params\n",
    "    for c in range(len(clients)):\n",
    "        if Fu[c] > 0:\n",
    "            aggregator.clients[c].set_adv_params(Fu[c], atk_params)\n",
    "            aggregator.clients[c].update_advnn()\n",
    "            aggregator.clients[c].assign_advdataset()\n",
    "\n",
    "for itt in range(len(beta_params)):\n",
    "    # Perform 50 rounds of FAT on FedAvg model \n",
    "    num_adv = num_aru[itt]\n",
    "    weight2 = 1/num_adv * weight2_list[itt]\n",
    "    adv_id = random.sample(range(20,num_user), num_adv) # excluding 0-9 as Fu = 1\n",
    "    beta = beta_params[itt]\n",
    "\n",
    "    test_acc_gather = []\n",
    "    adv_acc_gather = []\n",
    "    test_acc_std = []\n",
    "    adv_acc_std = []\n",
    "    cosine_gather_layers = np.zeros([num_rounds, len(desired_keys)])\n",
    "\n",
    "    aggregator.tm_rate = beta\n",
    "\n",
    "    # Test performance of aggregator on data \n",
    "    aggregator.load_state(dir_path = save_path_FedAvg_150R)\n",
    "    aggregator.update_clients()\n",
    "    model_FA = pull_model_from_agg(aggregator)\n",
    "    model_FA.eval()\n",
    "    acc, adv_acc = get_adv_acc(aggregator, model_FA, eps = eps)\n",
    "\n",
    "    # prev_model = copy.deepcopy(model_FA)\n",
    "\n",
    "    print(\"Test acc: \", np.mean(acc), \"adv acc: \", np.mean(adv_acc))\n",
    "    test_acc_gather+= [np.mean(acc)]\n",
    "    adv_acc_gather += [np.mean(adv_acc)]\n",
    "    test_acc_std += [np.std(acc)]\n",
    "    adv_acc_std += [np.std(adv_acc)]\n",
    "\n",
    "\n",
    "    for i in range(num_rounds):\n",
    "\n",
    "        # Per round Freq\n",
    "        aggregator.aggregation_op = agg_options[itt]\n",
    "\n",
    "        # aggregator.mix()\n",
    "        UNL_mix_novel(aggregator, adv_id, model_inject = model_Fedavg, keys = desired_keys, weight_scale_2 = weight2, dump_flag=False, tm_beta=beta, median_layers = median_layers)\n",
    "        model_overfit = pull_model_from_agg(aggregator)\n",
    "        model_overfit.eval()\n",
    "        acc, adv_acc = get_adv_acc(aggregator, model_overfit, eps = eps)\n",
    "\n",
    "        print(\"round\", i,\"Test acc: \", np.mean(acc), \"adv acc: \", np.mean(adv_acc))\n",
    "        test_acc_gather+= [np.mean(acc)]\n",
    "        adv_acc_gather += [np.mean(adv_acc)]\n",
    "        test_acc_std += [np.std(acc)]\n",
    "        adv_acc_std += [np.std(adv_acc)]\n",
    "        # prev_model = copy.deepcopy(model_overfit)\n",
    "\n",
    "        result_list[itt]['test_acc'] = copy.deepcopy(test_acc_gather)\n",
    "        result_list[itt]['adv_acc'] = copy.deepcopy(adv_acc_gather)\n",
    "        result_list[itt]['test_std'] = copy.deepcopy(test_acc_std)\n",
    "        result_list[itt]['adv_std'] = copy.deepcopy(adv_acc_std)\n",
    "        result_list[itt]['num_clients'] = num_adv\n",
    "        result_list[itt]['beta'] = beta\n",
    "        result_list[itt]['weight2'] = weight2_list[itt]\n",
    "        # Perform gradient direction gathering\n",
    "\n",
    "        del model_overfit\n",
    "        gc.collect()\n",
    "        torch.cuda.empty_cache()\n",
    "\n",
    "\n",
    "    "
   ]
  },
  {
   "cell_type": "code",
   "execution_count": 7,
   "metadata": {},
   "outputs": [],
   "source": [
    "import pickle\n",
    "\n",
    "a = result_list\n",
    "\n",
    "with open('saved_results/mixed_sweep/250128_5b_msub_arui_cifar100.pk', 'wb') as handle:\n",
    "    pickle.dump(a, handle, protocol=pickle.HIGHEST_PROTOCOL)"
   ]
  },
  {
   "cell_type": "code",
   "execution_count": 8,
   "metadata": {},
   "outputs": [],
   "source": [
    "# with open('saved_results/mixed_sweep/250128_5b_msub_arui_cifar100.pk', 'rb') as handle:\n",
    "#     result_list = pickle.load(handle)"
   ]
  },
  {
   "cell_type": "code",
   "execution_count": 10,
   "metadata": {},
   "outputs": [
    {
     "data": {
      "image/png": "[encoded data removed]",
      "text/plain": [
       "<Figure size 480x320 with 1 Axes>"
      ]
     },
     "metadata": {
      "needs_background": "light"
     },
     "output_type": "display_data"
    }
   ],
   "source": [
    "import matplotlib.pyplot as plt\n",
    "import numpy as np\n",
    "\n",
    "font = {'family' : 'normal',\n",
    "        'weight' : 'normal',\n",
    "        'size'   : 18}\n",
    "\n",
    "plt.rc('font', **font)\n",
    "plt.figure(dpi=80, figsize=(6,4))\n",
    "\n",
    "plot_settings = [[5 ,0.05,0.3],[10, 0.1, 0.3], [10, 0.2, 0.1]]\n",
    "\n",
    "# Generate some sample data\n",
    "x = range(num_rounds+1)  # 100 points from 0 to 10\n",
    "\n",
    "# Plotting the lines\n",
    "# plt.plot(x, y1, label='Test Acc')\n",
    "label_list = plot_settings\n",
    "for i in range(len(label_list)):\n",
    "    y = np.array(result_list[i]['adv_acc'])\n",
    "    error = np.array(result_list[i]['adv_std'])\n",
    "    plt.plot(x, y, label= str(label_list[i]))\n",
    "    plt.fill_between(x, y-error, y+error,\n",
    "    alpha=0.2)\n",
    "\n",
    "# Adding labels and title\n",
    "plt.xlabel('Injection Rounds')\n",
    "plt.ylabel('Adv. Acc. (Robustness)')\n",
    "plt.title('CIFAR-100: ARU vs Hybrid Defense \\n Legend - [#ARU client, tm_param, β]', fontsize = 'medium')\n",
    "\n",
    "# Adding a legend\n",
    "plt.legend( loc=\"best\", fontsize=13)\n",
    "\n",
    "\n",
    "# Display the plot\n",
    "plt.show()\n"
   ]
  },
  {
   "cell_type": "raw",
   "metadata": {
    "vscode": {
     "languageId": "raw"
    }
   },
   "source": [
    "'saved_results/mixed_sweep/250127_5b_tm_arui.pk'\n",
    "plot_settings = [[5 ,0.05,0.3],[5 ,0.2, 0.05],[5, 0.2, 0.1], [10, 0.2, 0.15]]\n",
    "num_round = 15\n",
    "\n",
    "'saved_results/mixed_sweep/250127_5b_tm_arui_2.pk'\n",
    "plot_settings = [[5 ,0.05,0.3],[5 ,0.1, 0.2],[10, 0.1, 0.3], [10, 0.2, 0.2]]\n",
    "num_round = 20\n"
   ]
  }
 ],
 "metadata": {
  "kernelspec": {
   "display_name": "FedEM_env",
   "language": "python",
   "name": "python3"
  },
  "language_info": {
   "codemirror_mode": {
    "name": "ipython",
    "version": 3
   },
   "file_extension": ".py",
   "mimetype": "text/x-python",
   "name": "python",
   "nbconvert_exporter": "python",
   "pygments_lexer": "ipython3",
   "version": "3.9.6"
  }
 },
 "nbformat": 4,
 "nbformat_minor": 2
}
