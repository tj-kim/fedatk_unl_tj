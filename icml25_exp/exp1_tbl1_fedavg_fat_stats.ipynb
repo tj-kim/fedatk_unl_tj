{
 "cells": [
  {
   "cell_type": "markdown",
   "metadata": {},
   "source": [
    "### Experiment 1 - Table 1\n",
    "\n",
    "Calculating test accuracy and robustness (adversarial accuracy, adv. acc) for different datasets and different settings. Tested across FedAvg, Federated Adversarial Training (FAT), and single shot ARU attack (against no defenses)."
   ]
  },
  {
   "cell_type": "code",
   "execution_count": 1,
   "metadata": {},
   "outputs": [
    {
     "name": "stdout",
     "output_type": "stream",
     "text": [
      "/home/ubuntu/fedatk_unl_tj\n"
     ]
    }
   ],
   "source": [
    "cd /home/ubuntu/fedatk_unl_tj/"
   ]
  },
  {
   "cell_type": "code",
   "execution_count": 2,
   "metadata": {},
   "outputs": [
    {
     "name": "stderr",
     "output_type": "stream",
     "text": [
      "/home/ubuntu/anaconda3/envs/FedEM_env/lib/python3.9/site-packages/pandas/core/computation/expressions.py:21: UserWarning: Pandas requires version '2.8.4' or newer of 'numexpr' (version '2.7.3' currently installed).\n",
      "  from pandas.core.computation.check import NUMEXPR_INSTALLED\n",
      "/home/ubuntu/anaconda3/envs/FedEM_env/lib/python3.9/site-packages/pandas/core/arrays/masked.py:60: UserWarning: Pandas requires version '1.3.6' or newer of 'bottleneck' (version '1.3.2' currently installed).\n",
      "  from pandas.core import (\n"
     ]
    }
   ],
   "source": [
    "# Import General Libraries\n",
    "import os\n",
    "import argparse\n",
    "import torch\n",
    "import copy\n",
    "import pickle\n",
    "import random\n",
    "import numpy as np\n",
    "import pandas as pd\n",
    "import gc\n",
    "\n",
    "# Import FedEM based Libraries\n",
    "from utils.utils import *\n",
    "from utils.constants import *\n",
    "from utils.args import *\n",
    "from utils.util_notebooks import *\n",
    "from run_experiment import *\n",
    "from models import *\n",
    "\n",
    "# Import Transfer Attack\n",
    "from transfer_attacks.Personalized_NN import *\n",
    "from transfer_attacks.Params import *\n",
    "from transfer_attacks.Transferer import *\n",
    "from transfer_attacks.Args import *\n",
    "from transfer_attacks.TA_utils import *"
   ]
  },
  {
   "cell_type": "code",
   "execution_count": 3,
   "metadata": {},
   "outputs": [],
   "source": [
    "# Set parameters for taking measurements\n",
    "\n",
    "# Specify aggregation method, number of clients, and dataset\n",
    "setting, num_user = \"FedAvg_adv\", 40\n",
    "exp = \"cifar10\"\n",
    "\n",
    "# Load models for FAT and FedAvg - write down path to where weights are saved\n",
    "save_path_FAT = '/home/ubuntu/fedatk_unl_tj/weights/cifar10/250123_icml25/FAT/'\n",
    "save_path_FedAvg =  '/home/ubuntu/fedatk_unl_tj/weights/cifar10/250123_icml25/FedAvg/'\n",
    "# save_path_FAT = '/home/ubuntu/fedatk_unl_tj/weights/fakenews/250119_small_architecture_moreconv/FAT_ep02/'\n",
    "# save_path_FedAvg =  '/home/ubuntu/fedatk_unl_tj/weights/fakenews/250119_small_architecture_moreconv/FedAvg/'\n",
    "\n",
    "# Attack parameters for performing PGD \n",
    "# eps_attack = 0.1\n",
    "# eps_train = 0.2\n",
    "eps_attack = 4\n",
    "eps_train = 4.5\n",
    "step_size = 0.01\n",
    "steps = 10\n",
    "step_size = 0.01\n",
    "steps = 10"
   ]
  },
  {
   "cell_type": "code",
   "execution_count": null,
   "metadata": {},
   "outputs": [
    {
     "name": "stdout",
     "output_type": "stream",
     "text": [
      "==> Clients initialization..\n",
      "===> Building data iterators..\n"
     ]
    },
    {
     "name": "stderr",
     "output_type": "stream",
     "text": [
      " 49%|████▉     | 39/80 [00:00<00:00, 117.07it/s]\n"
     ]
    },
    {
     "name": "stdout",
     "output_type": "stream",
     "text": [
      "===> Initializing clients..\n"
     ]
    },
    {
     "name": "stderr",
     "output_type": "stream",
     "text": [
      "  0%|          | 0/40 [00:00<?, ?it/s]/home/ubuntu/anaconda3/envs/FedEM_env/lib/python3.9/site-packages/torchvision/models/_utils.py:208: UserWarning: The parameter 'pretrained' is deprecated since 0.13 and may be removed in the future, please use 'weights' instead.\n",
      "  warnings.warn(\n",
      "/home/ubuntu/anaconda3/envs/FedEM_env/lib/python3.9/site-packages/torchvision/models/_utils.py:223: UserWarning: Arguments other than a weight enum or `None` for 'weights' are deprecated since 0.13 and may be removed in the future. The current behavior is equivalent to passing `weights=MobileNet_V2_Weights.IMAGENET1K_V1`. You can also use `weights=MobileNet_V2_Weights.DEFAULT` to get the most up-to-date weights.\n",
      "  warnings.warn(msg)\n",
      "  2%|▎         | 1/40 [00:01<00:44,  1.13s/it]"
     ]
    }
   ],
   "source": [
    "# Generate instance of aggregator that holds all clients, data and models and load relevant models in\n",
    "try: # Skip loading if already loaded\n",
    "    aggregator\n",
    "except:\n",
    "    aggregator, clients, args_ = set_args(setting, num_user,  experiment = exp) # Indicate dataset here\n",
    "\n",
    "model_FAT = copy.deepcopy(import_model_weights(num_user, setting, save_path_FAT, aggregator, args_)[0])\n",
    "model_Fedavg = copy.deepcopy(import_model_weights(num_user, setting, save_path_FedAvg, aggregator, args_)[0])\n",
    "\n",
    "# Obtain parameters for each layer\n",
    "params_FAT = model_FAT.state_dict()\n",
    "params_FedAvg = model_Fedavg.state_dict()\n",
    "\n",
    "# Just take the values of weights and bias for the model\n",
    "desired_keys = params_FAT.keys() # [key for key in params_FAT.keys() if 'weight' in key or 'bias' in key] "
   ]
  },
  {
   "cell_type": "code",
   "execution_count": 5,
   "metadata": {},
   "outputs": [
    {
     "data": {
      "text/plain": [
       "'cifar10'"
      ]
     },
     "execution_count": 5,
     "metadata": {},
     "output_type": "execute_result"
    }
   ],
   "source": [
    "aggregator.clients[0].dataset_name"
   ]
  },
  {
   "cell_type": "code",
   "execution_count": 6,
   "metadata": {},
   "outputs": [
    {
     "name": "stdout",
     "output_type": "stream",
     "text": [
      "Test acc:  0.8584374994039535  ( 0.06252421354405596 )  adv acc:  0.008125000121071934  ( 0.011021995219583273 ) \n"
     ]
    }
   ],
   "source": [
    "# Take measurement for FedAvg model\n",
    "aggregator.load_state(dir_path=save_path_FedAvg)\n",
    "aggregator.update_clients()\n",
    "model_FA = pull_model_from_agg(aggregator)\n",
    "model_FA.eval()\n",
    "acc, adv_acc = get_adv_acc(aggregator, model_FA, eps=eps_attack, step_size = step_size, steps = steps)\n",
    "\n",
    "print(\"Test acc: \", np.mean(acc), \" (\", np.std(acc),\") \", \"adv acc: \", np.mean(adv_acc),\" (\", np.std(adv_acc),\") \")"
   ]
  },
  {
   "cell_type": "code",
   "execution_count": 7,
   "metadata": {},
   "outputs": [
    {
     "name": "stdout",
     "output_type": "stream",
     "text": [
      "Test acc:  0.8006250038743019  ( 0.06903067497160445 )  adv acc:  0.42562499791383746  ( 0.11476708532804013 ) \n"
     ]
    }
   ],
   "source": [
    "# Take measurement for FAT model\n",
    "aggregator.load_state(dir_path=save_path_FAT)\n",
    "aggregator.update_clients()\n",
    "model_FA = pull_model_from_agg(aggregator)\n",
    "model_FA.eval()\n",
    "acc, adv_acc = get_adv_acc(aggregator, model_FA, eps=eps_attack, step_size = step_size, steps = steps)\n",
    "\n",
    "print(\"Test acc: \", np.mean(acc), \" (\", np.std(acc),\") \", \"adv acc: \", np.mean(adv_acc),\" (\", np.std(adv_acc),\") \")"
   ]
  },
  {
   "cell_type": "code",
   "execution_count": 10,
   "metadata": {},
   "outputs": [
    {
     "name": "stdout",
     "output_type": "stream",
     "text": [
      "updating adv data set\n",
      "round  0\n"
     ]
    },
    {
     "name": "stderr",
     "output_type": "stream",
     "text": [
      "/home/ubuntu/fedatk_unl_tj/learners/learner.py:192: UserWarning: The use of `x.T` on tensors of dimension other than 2 to reverse their shape is deprecated and it will throw an error in a future release. Consider `x.mT` to transpose batches of matrices or `x.permute(*torch.arange(x.ndim - 1, -1, -1))` to reverse the dimensions of a tensor. (Triggered internally at ../aten/src/ATen/native/TensorShape.cpp:3683.)\n",
      "  loss = (loss_vec.T @ weights[indices]) / loss_vec.size(0)\n"
     ]
    },
    {
     "name": "stdout",
     "output_type": "stream",
     "text": [
      "Test acc:  0.8546874985098839  ( 0.06594786805830148 )  adv acc:  0.005937500088475644  ( 0.007899515530064788 ) \n"
     ]
    }
   ],
   "source": [
    "# Take measurement for ARU attack\n",
    "aggregator.load_state(dir_path=save_path_FAT)\n",
    "aggregator.update_clients()\n",
    "\n",
    "weight_scale_2 = 1\n",
    "atk_rounds = 1\n",
    "aggregation_op = None\n",
    "aggregator.op = aggregation_op\n",
    "\n",
    "if False:\n",
    "    print(\"updating adv data set\")\n",
    "\n",
    "    # add adv dataset update\n",
    "    Fu = np.ones(num_user) * 0.5\n",
    "\n",
    "    # Setting evasion attack parameters\n",
    "    x_min = torch.min(aggregator.clients[0].adv_nn.dataloader.x_data).detach().cuda()\n",
    "    x_max = torch.max(aggregator.clients[0].adv_nn.dataloader.x_data).detach().cuda()\n",
    "    atk_params = PGD_Params()\n",
    "    atk_params.set_params(batch_size=1, iteration = steps,\n",
    "                    target = -1, x_val_min = x_min, x_val_max = x_max,\n",
    "                    step_size = step_size, step_norm = \"inf\", eps = eps_train, eps_norm = 2)\n",
    "\n",
    "    # Assign proportion and attack params\n",
    "    for c in range(len(aggregator.clients)):\n",
    "        if Fu[c] > 0:\n",
    "            # print (c)\n",
    "            aggregator.clients[c].set_adv_params(Fu[c], atk_params)\n",
    "            aggregator.clients[c].update_advnn()\n",
    "\n",
    "            aggregator.clients[c].assign_advdataset()\n",
    "\n",
    "            # print(f\"  Memory allocated - after adv: {torch.cuda.memory_allocated() / 1e6:.2f} MB\")\n",
    "            # aggregator.clients[c].del_advnn()\n",
    "\n",
    "for i in range(atk_rounds):\n",
    "    print('round ', i)\n",
    "    UNL_mix(aggregator, adv_id=[0], model_inject=model_Fedavg, weight_scale_2 = weight_scale_2, keys=desired_keys, aggregation_op = aggregation_op)\n",
    "\n",
    "model_overfit = pull_model_from_agg(aggregator)\n",
    "model_overfit.eval()\n",
    "acc, adv_acc = get_adv_acc(aggregator, model_overfit, eps=eps_attack, step_size = step_size, steps = steps)\n",
    "print(\"Test acc: \", np.mean(acc), \" (\", np.std(acc),\") \", \"adv acc: \", np.mean(adv_acc),\" (\", np.std(adv_acc),\") \")"
   ]
  },
  {
   "cell_type": "raw",
   "metadata": {
    "vscode": {
     "languageId": "raw"
    }
   },
   "source": [
    "+------------+\n",
    "   CIFAR-10\n",
    "+------------+\n",
    "FEDAVG\n",
    "Test acc:  0.8453125  ( 0.06517329760270035 )  adv acc:  0.0009375000139698386  ( 0.003292391846826942 ) \n",
    "FAT\n",
    "Test acc:  0.8053125023841858  ( 0.062179639753241506 )  adv acc:  0.42718749940395356  ( 0.11071103716023395 ) \n",
    "ARU\n",
    "Test acc:  0.8503124997019768  ( 0.06467995534110826 )  adv acc:  0.004687500069849193  ( 0.00605153656862401 ) \n",
    "\n",
    "+------------+\n",
    "  CIFAR-100 \n",
    "+------------+\n",
    "FEDAVG\n",
    "Test acc:  0.3886666649580002  ( 0.0688952506384579 )  adv acc:  0.007333333659917116  ( 0.009809293057329792 ) \n",
    "FAT\n",
    "Test acc:  0.415333331823349  ( 0.06615133951132829 )  adv acc:  0.1056666685268283  ( 0.03672117192476301 ) \n",
    "ARU\n",
    "Test acc:  0.3895000001788139  ( 0.06736735892826758 )  adv acc:  0.0043333335220813755  ( 0.006716480795534227 ) \n",
    "\n",
    "+------------+\n",
    "   CELEBA\n",
    "+------------+\n",
    "Custom CNN\n",
    "FEDAVG\n",
    "Test acc:  0.8182705894112587  ( 0.07046646628468432 )  adv acc:  0.0926921590231359  ( 0.06263242605562697 ) \n",
    "FAT\n",
    "Test acc:  0.7992833361029625  ( 0.07952074774353737 )  adv acc:  0.5838598109781742  ( 0.09185201249879199 ) \n",
    "ARU - without client step\n",
    "Test acc:  0.8321362763643265  ( 0.07661232768665208 )  adv acc:  0.09742647288367152  ( 0.057188610310651346 ) \n",
    "\n",
    "mobilenetv2\n",
    "FEDAVG\n",
    "Test acc:  0.8011627495288849  ( 0.08127150567636975 )  adv acc:  0.00010000000474974513  ( 0.0006244998295019886 ) \n",
    "FAT\n",
    "Test acc:  0.8090735271573066  ( 0.08258339517243724 )  adv acc:  0.5158392231911421  ( 0.0967569295603549 ) \n",
    "ARU\n",
    "Test acc:  0.8223107874393463  ( 0.07493393519365932 )  adv acc:  0.0013500000233761967  ( 0.007815209647701552 ) \n",
    "\n",
    "+------------+\n",
    " FAKENEWSNET\n",
    "+------------+\n",
    "FEDAVG\n",
    "Test acc:  0.7821428537368774  ( 0.05418694061844876 )  adv acc:  0.05000000125728547  ( 0.019430673136934223 ) \n",
    "FAT \n",
    "Test acc:  0.7278571456670762  ( 0.048545160504614424 )  adv acc:  0.37928572073578837  ( 0.06364361669331016 ) \n",
    "ARU\n",
    "Test acc:  0.7857142865657807  ( 0.05749888890368477 )  adv acc:  0.058571429923176765  ( 0.0185714292411621 ) "
   ]
  },
  {
   "cell_type": "raw",
   "metadata": {},
   "source": []
  }
 ],
 "metadata": {
  "kernelspec": {
   "display_name": "FedEM_env",
   "language": "python",
   "name": "python3"
  },
  "language_info": {
   "codemirror_mode": {
    "name": "ipython",
    "version": 3
   },
   "file_extension": ".py",
   "mimetype": "text/x-python",
   "name": "python",
   "nbconvert_exporter": "python",
   "pygments_lexer": "ipython3",
   "version": "3.9.6"
  }
 },
 "nbformat": 4,
 "nbformat_minor": 2
}
