{
 "cells": [
  {
   "cell_type": "markdown",
   "metadata": {},
   "source": [
    "### Experiment 1 - Table 1\n",
    "\n",
    "Calculating test accuracy and robustness (adversarial accuracy, adv. acc) for different datasets and different settings. Tested across FedAvg, Federated Adversarial Training (FAT), and single shot ARU attack (against no defenses)."
   ]
  },
  {
   "cell_type": "code",
   "execution_count": 1,
   "metadata": {},
   "outputs": [
    {
     "name": "stdout",
     "output_type": "stream",
     "text": [
      "/home/ubuntu/fedatk_unl_tj\n"
     ]
    }
   ],
   "source": [
    "cd /home/ubuntu/fedatk_unl_tj/"
   ]
  },
  {
   "cell_type": "code",
   "execution_count": 2,
   "metadata": {},
   "outputs": [
    {
     "name": "stderr",
     "output_type": "stream",
     "text": [
      "/home/ubuntu/anaconda3/envs/FedEM_env/lib/python3.9/site-packages/pandas/core/computation/expressions.py:21: UserWarning: Pandas requires version '2.8.4' or newer of 'numexpr' (version '2.7.3' currently installed).\n",
      "  from pandas.core.computation.check import NUMEXPR_INSTALLED\n",
      "/home/ubuntu/anaconda3/envs/FedEM_env/lib/python3.9/site-packages/pandas/core/arrays/masked.py:60: UserWarning: Pandas requires version '1.3.6' or newer of 'bottleneck' (version '1.3.2' currently installed).\n",
      "  from pandas.core import (\n"
     ]
    }
   ],
   "source": [
    "# Import General Libraries\n",
    "import os\n",
    "import argparse\n",
    "import torch\n",
    "import copy\n",
    "import pickle\n",
    "import random\n",
    "import numpy as np\n",
    "import pandas as pd\n",
    "import gc\n",
    "\n",
    "# Import FedEM based Libraries\n",
    "from utils.utils import *\n",
    "from utils.constants import *\n",
    "from utils.args import *\n",
    "from utils.util_notebooks import *\n",
    "from run_experiment import *\n",
    "from models import *\n",
    "\n",
    "# Import Transfer Attack\n",
    "from transfer_attacks.Personalized_NN import *\n",
    "from transfer_attacks.Params import *\n",
    "from transfer_attacks.Transferer import *\n",
    "from transfer_attacks.Args import *\n",
    "from transfer_attacks.TA_utils import *"
   ]
  },
  {
   "cell_type": "code",
   "execution_count": 3,
   "metadata": {},
   "outputs": [],
   "source": [
    "# Set parameters for taking measurements\n",
    "\n",
    "# Specify aggregation method, number of clients, and dataset\n",
    "setting, num_user = \"FedAvg_adv\", 40\n",
    "exp = \"celeba\"\n",
    "\n",
    "# Load models for FAT and FedAvg - write down path to where weights are saved\n",
    "save_path_FAT = '/home/ubuntu/fedatk_unl_tj/weights/celeba/250123_icml25/FAT/'\n",
    "save_path_FedAvg =  '/home/ubuntu/fedatk_unl_tj/weights/celeba/250123_icml25/FedAvg/'\n",
    "\n",
    "# Attack parameters for performing PGD \n",
    "eps_attack = 4.0\n",
    "eps_train = 4.5\n",
    "step_size = 0.01\n",
    "steps = 10"
   ]
  },
  {
   "cell_type": "code",
   "execution_count": 4,
   "metadata": {},
   "outputs": [
    {
     "name": "stdout",
     "output_type": "stream",
     "text": [
      "==> Clients initialization..\n",
      "===> Building data iterators..\n"
     ]
    },
    {
     "name": "stderr",
     "output_type": "stream",
     "text": [
      " 49%|████▉     | 49/100 [00:00<00:00, 180.34it/s]\n"
     ]
    },
    {
     "name": "stdout",
     "output_type": "stream",
     "text": [
      "===> Initializing clients..\n"
     ]
    },
    {
     "name": "stderr",
     "output_type": "stream",
     "text": [
      "  0%|          | 0/50 [00:00<?, ?it/s]/home/ubuntu/anaconda3/envs/FedEM_env/lib/python3.9/site-packages/torchvision/models/_utils.py:208: UserWarning: The parameter 'pretrained' is deprecated since 0.13 and may be removed in the future, please use 'weights' instead.\n",
      "  warnings.warn(\n",
      "/home/ubuntu/anaconda3/envs/FedEM_env/lib/python3.9/site-packages/torchvision/models/_utils.py:223: UserWarning: Arguments other than a weight enum or `None` for 'weights' are deprecated since 0.13 and may be removed in the future. The current behavior is equivalent to passing `weights=MobileNet_V2_Weights.IMAGENET1K_V1`. You can also use `weights=MobileNet_V2_Weights.DEFAULT` to get the most up-to-date weights.\n",
      "  warnings.warn(msg)\n",
      "100%|██████████| 50/50 [00:20<00:00,  2.42it/s]\n",
      "/home/ubuntu/fedatk_unl_tj/aggregator.py:289: FutureWarning: You are using `torch.load` with `weights_only=False` (the current default value), which uses the default pickle module implicitly. It is possible to construct malicious pickle data which will execute arbitrary code during unpickling (See https://github.com/pytorch/pytorch/blob/main/SECURITY.md#untrusted-models for more details). In a future release, the default value for `weights_only` will be flipped to `True`. This limits the functions that could be executed during unpickling. Arbitrary objects will no longer be allowed to be loaded via this mode unless they are explicitly allowlisted by the user via `torch.serialization.add_safe_globals`. We recommend you start setting `weights_only=True` for any use case where you don't have full control of the loaded file. Please open an issue on GitHub for any issues related to this experimental feature.\n",
      "  learner.model.load_state_dict(torch.load(chkpts_path))\n"
     ]
    }
   ],
   "source": [
    "# Generate instance of aggregator that holds all clients, data and models and load relevant models in\n",
    "try: # Skip loading if already loaded\n",
    "    aggregator\n",
    "except:\n",
    "    aggregator, clients, args_ = set_args(setting, num_user,  experiment = exp) # Indicate dataset here\n",
    "\n",
    "model_FAT = copy.deepcopy(import_model_weights(num_user, setting, save_path_FAT, aggregator, args_)[0])\n",
    "model_Fedavg = copy.deepcopy(import_model_weights(num_user, setting, save_path_FedAvg, aggregator, args_)[0])\n",
    "\n",
    "# Obtain parameters for each layer\n",
    "params_FAT = model_FAT.state_dict()\n",
    "params_FedAvg = model_Fedavg.state_dict()\n",
    "\n",
    "# Just take the values of weights and bias for the model\n",
    "desired_keys = [key for key in params_FAT.keys() if 'weight' in key or 'bias' in key]"
   ]
  },
  {
   "cell_type": "code",
   "execution_count": 5,
   "metadata": {},
   "outputs": [
    {
     "name": "stdout",
     "output_type": "stream",
     "text": [
      "Test acc:  0.3886666649580002  ( 0.0688952506384579 )  adv acc:  0.007000000327825546  ( 0.01032257548813183 ) \n"
     ]
    }
   ],
   "source": [
    "# Take measurement for FedAvg model\n",
    "aggregator.load_state(dir_path=save_path_FedAvg)\n",
    "aggregator.update_clients()\n",
    "model_FA = pull_model_from_agg(aggregator)\n",
    "model_FA.eval()\n",
    "acc, adv_acc = get_adv_acc(aggregator, model_FA, eps=eps_attack, step_size = step_size, steps = steps)\n",
    "\n",
    "print(\"Test acc: \", np.mean(acc), \" (\", np.std(acc),\") \", \"adv acc: \", np.mean(adv_acc),\" (\", np.std(adv_acc),\") \")"
   ]
  },
  {
   "cell_type": "code",
   "execution_count": 6,
   "metadata": {},
   "outputs": [
    {
     "name": "stdout",
     "output_type": "stream",
     "text": [
      "Test acc:  0.415333331823349  ( 0.06615133951132829 )  adv acc:  0.10600000139325857  ( 0.03666818136191935 ) \n"
     ]
    }
   ],
   "source": [
    "# Take measurement for FAT model\n",
    "aggregator.load_state(dir_path=save_path_FAT)\n",
    "aggregator.update_clients()\n",
    "model_FA = pull_model_from_agg(aggregator)\n",
    "model_FA.eval()\n",
    "acc, adv_acc = get_adv_acc(aggregator, model_FA, eps=eps_attack, step_size = step_size, steps = steps)\n",
    "\n",
    "print(\"Test acc: \", np.mean(acc), \" (\", np.std(acc),\") \", \"adv acc: \", np.mean(adv_acc),\" (\", np.std(adv_acc),\") \")"
   ]
  },
  {
   "cell_type": "code",
   "execution_count": 7,
   "metadata": {},
   "outputs": [
    {
     "name": "stderr",
     "output_type": "stream",
     "text": [
      "/home/ubuntu/fedatk_unl_tj/learners/learner.py:192: UserWarning: The use of `x.T` on tensors of dimension other than 2 to reverse their shape is deprecated and it will throw an error in a future release. Consider `x.mT` to transpose batches of matrices or `x.permute(*torch.arange(x.ndim - 1, -1, -1))` to reverse the dimensions of a tensor. (Triggered internally at ../aten/src/ATen/native/TensorShape.cpp:3683.)\n",
      "  loss = (loss_vec.T @ weights[indices]) / loss_vec.size(0)\n"
     ]
    },
    {
     "name": "stdout",
     "output_type": "stream",
     "text": [
      "Test acc:  0.010500000417232513  ( 0.011762700286789588 )  adv acc:  0.0038333335146307945  ( 0.006057594199304999 ) \n"
     ]
    }
   ],
   "source": [
    "# Take measurement for ARU attack\n",
    "aggregator.load_state(dir_path=save_path_FAT)\n",
    "aggregator.update_clients()\n",
    "aggregator.op = None\n",
    "weight_scale_2 = 1\n",
    "\n",
    "if False:\n",
    "    print(\"updating adv data set\")\n",
    "\n",
    "    # add adv dataset update\n",
    "    Fu = np.ones(num_user) * 0.5\n",
    "\n",
    "    # Setting evasion attack parameters\n",
    "    x_min = torch.min(aggregator.clients[0].adv_nn.dataloader.x_data).detach().cuda()\n",
    "    x_max = torch.max(aggregator.clients[0].adv_nn.dataloader.x_data).detach().cuda()\n",
    "    atk_params = PGD_Params()\n",
    "    atk_params.set_params(batch_size=1, iteration = steps,\n",
    "                    target = -1, x_val_min = x_min, x_val_max = x_max,\n",
    "                    step_size = step_size, step_norm = \"inf\", eps = eps_train, eps_norm = 2)\n",
    "\n",
    "    # Assign proportion and attack params\n",
    "    for c in range(len(aggregator.clients)):\n",
    "        if Fu[c] > 0:\n",
    "            print (c)\n",
    "            aggregator.clients[c].set_adv_params(Fu[c], atk_params)\n",
    "            aggregator.clients[c].update_advnn()\n",
    "\n",
    "            aggregator.clients[c].assign_advdataset()\n",
    "\n",
    "            # print(f\"  Memory allocated - after adv: {torch.cuda.memory_allocated() / 1e6:.2f} MB\")\n",
    "            aggregator.clients[c].del_advnn()\n",
    "\n",
    "\n",
    "UNL_mix(aggregator, adv_id=[0], model_inject=model_Fedavg, weight_scale_2 = weight_scale_2, keys=desired_keys, aggregation_op = None)\n",
    "\n",
    "model_overfit = pull_model_from_agg(aggregator)\n",
    "model_overfit.eval()\n",
    "acc, adv_acc = get_adv_acc(aggregator, model_overfit, eps=eps_attack, step_size = step_size, steps = steps)\n",
    "print(\"Test acc: \", np.mean(acc), \" (\", np.std(acc),\") \", \"adv acc: \", np.mean(adv_acc),\" (\", np.std(adv_acc),\") \")"
   ]
  },
  {
   "cell_type": "raw",
   "metadata": {
    "vscode": {
     "languageId": "raw"
    }
   },
   "source": [
    "+------------+\n",
    "   CIFAR-10\n",
    "+------------+\n",
    "FEDAVG\n",
    "Test acc:  0.8453125  ( 0.06517329760270035 )  adv acc:  0.0009375000139698386  ( 0.003292391846826942 ) \n",
    "FAT\n",
    "Test acc:  0.8053125023841858  ( 0.062179639753241506 )  adv acc:  0.42718749940395356  ( 0.11071103716023395 ) \n",
    "ARU\n",
    "\n",
    "+------------+\n",
    "  CIFAR-100 \n",
    "+------------+\n",
    "FEDAVG\n",
    "Test acc:  0.3886666649580002  ( 0.0688952506384579 )  adv acc:  0.007333333659917116  ( 0.009809293057329792 ) \n",
    "FAT\n",
    "\n",
    "ARU\n",
    "\n",
    "+------------+\n",
    "   CELEBA\n",
    "+------------+\n",
    "\n",
    "\n",
    "+------------+\n",
    " FAKENEWSNET\n",
    "+------------+\n",
    "FEDAVG\n",
    "Test acc:  0.7821428537368774  ( 0.05418694061844876 )  adv acc:  0.05000000125728547  ( 0.019430673136934223 ) \n",
    "FAT \n",
    "Test acc:  0.7278571456670762  ( 0.048545160504614424 )  adv acc:  0.37928572073578837  ( 0.06364361669331016 ) \n",
    "ARU\n",
    "Test acc:  0.7114285737276077  ( 0.06555881970883871 )  adv acc:  0.1385714326053858  ( 0.03383634176247311 ) "
   ]
  }
 ],
 "metadata": {
  "kernelspec": {
   "display_name": "FedEM_env",
   "language": "python",
   "name": "python3"
  },
  "language_info": {
   "codemirror_mode": {
    "name": "ipython",
    "version": 3
   },
   "file_extension": ".py",
   "mimetype": "text/x-python",
   "name": "python",
   "nbconvert_exporter": "python",
   "pygments_lexer": "ipython3",
   "version": "3.9.6"
  }
 },
 "nbformat": 4,
 "nbformat_minor": 2
}
