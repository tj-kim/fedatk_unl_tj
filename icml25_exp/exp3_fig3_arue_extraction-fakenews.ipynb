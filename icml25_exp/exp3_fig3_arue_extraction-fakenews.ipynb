{
 "cells": [
  {
   "cell_type": "markdown",
   "metadata": {},
   "source": [
    "Figure 3 analysis\n",
    "Performing ARU-E (Extractin part) showing that from robust FAT model we can obtain non-robust model"
   ]
  },
  {
   "cell_type": "code",
   "execution_count": 1,
   "metadata": {},
   "outputs": [
    {
     "name": "stdout",
     "output_type": "stream",
     "text": [
      "/home/ubuntu/fedatk_unl_tj\n"
     ]
    }
   ],
   "source": [
    "cd /home/ubuntu/fedatk_unl_tj/"
   ]
  },
  {
   "cell_type": "code",
   "execution_count": 2,
   "metadata": {},
   "outputs": [
    {
     "name": "stderr",
     "output_type": "stream",
     "text": [
      "/home/ubuntu/anaconda3/envs/FedEM_env/lib/python3.9/site-packages/pandas/core/computation/expressions.py:21: UserWarning: Pandas requires version '2.8.4' or newer of 'numexpr' (version '2.7.3' currently installed).\n",
      "  from pandas.core.computation.check import NUMEXPR_INSTALLED\n",
      "/home/ubuntu/anaconda3/envs/FedEM_env/lib/python3.9/site-packages/pandas/core/arrays/masked.py:60: UserWarning: Pandas requires version '1.3.6' or newer of 'bottleneck' (version '1.3.2' currently installed).\n",
      "  from pandas.core import (\n"
     ]
    }
   ],
   "source": [
    "# Import General Libraries\n",
    "import os\n",
    "import argparse\n",
    "import torch\n",
    "import copy\n",
    "import pickle\n",
    "import random\n",
    "import numpy as np\n",
    "import pandas as pd\n",
    "\n",
    "# Import FedEM based Libraries\n",
    "from utils.utils import *\n",
    "from utils.constants import *\n",
    "from utils.args import *\n",
    "from utils.util_notebooks import *\n",
    "from run_experiment import *\n",
    "from models import *\n",
    "\n",
    "# Import Transfer Attack\n",
    "from transfer_attacks.Personalized_NN import *\n",
    "from transfer_attacks.Params import *\n",
    "from transfer_attacks.Transferer import *\n",
    "from transfer_attacks.Args import *\n",
    "from transfer_attacks.TA_utils import *"
   ]
  },
  {
   "cell_type": "code",
   "execution_count": 3,
   "metadata": {},
   "outputs": [],
   "source": [
    "# Specify aggregation method, number of clients, and dataset\n",
    "setting, num_user = \"FedAvg_adv\", 20\n",
    "exp = \"fakenewsnet\"\n",
    "\n",
    "# Load models for FAT and FedAvg - write down path to where weights are saved\n",
    "# save_path_FAT = '/home/ubuntu/fedatk_unl_tj/weights/celeba/250123_icml25/FAT/'\n",
    "# save_path_FedAvg =  '/home/ubuntu/fedatk_unl_tj/weights/celeba/250123_icml25/FedAvg/'\n",
    "save_path_FAT = '/home/ubuntu/fedatk_unl_tj/weights/fakenews/250119_small_architecture_moreconv/FAT_ep02/'\n",
    "save_path_FedAvg =  '/home/ubuntu/fedatk_unl_tj/weights/fakenews/250119_small_architecture_moreconv/FedAvg/'\n",
    "\n",
    "# Attack parameters for performing PGD \n",
    "eps_attack = 0.1\n",
    "eps_train = 0.2\n",
    "step_size = 0.01\n",
    "steps = 10"
   ]
  },
  {
   "cell_type": "code",
   "execution_count": 4,
   "metadata": {},
   "outputs": [
    {
     "name": "stdout",
     "output_type": "stream",
     "text": [
      "==> Clients initialization..\n",
      "===> Building data iterators..\n"
     ]
    },
    {
     "name": "stderr",
     "output_type": "stream",
     "text": [
      " 95%|█████████▌| 19/20 [00:01<00:00, 16.95it/s]\n"
     ]
    },
    {
     "name": "stdout",
     "output_type": "stream",
     "text": [
      "===> Initializing clients..\n"
     ]
    },
    {
     "name": "stderr",
     "output_type": "stream",
     "text": [
      "100%|██████████| 20/20 [00:00<00:00, 20.31it/s]\n",
      "/home/ubuntu/fedatk_unl_tj/aggregator.py:289: FutureWarning: You are using `torch.load` with `weights_only=False` (the current default value), which uses the default pickle module implicitly. It is possible to construct malicious pickle data which will execute arbitrary code during unpickling (See https://github.com/pytorch/pytorch/blob/main/SECURITY.md#untrusted-models for more details). In a future release, the default value for `weights_only` will be flipped to `True`. This limits the functions that could be executed during unpickling. Arbitrary objects will no longer be allowed to be loaded via this mode unless they are explicitly allowlisted by the user via `torch.serialization.add_safe_globals`. We recommend you start setting `weights_only=True` for any use case where you don't have full control of the loaded file. Please open an issue on GitHub for any issues related to this experimental feature.\n",
      "  learner.model.load_state_dict(torch.load(chkpts_path))\n"
     ]
    }
   ],
   "source": [
    "# Generate instance of aggregator that holds all clients, data and models and load relevant models in\n",
    "try: # Skip loading if already loaded\n",
    "    aggregator_og\n",
    "except:\n",
    "    aggregator_og, clients, args_ = set_args(setting, num_user,  experiment = exp) # Indicate dataset here\n",
    "\n",
    "model_FAT = copy.deepcopy(import_model_weights(num_user, setting, save_path_FAT, aggregator_og, args_)[0])\n",
    "model_Fedavg = copy.deepcopy(import_model_weights(num_user, setting, save_path_FedAvg, aggregator_og, args_)[0])\n",
    "\n",
    "# Obtain parameters for each layer\n",
    "params_FAT = model_FAT.state_dict()\n",
    "params_FedAvg = model_Fedavg.state_dict()\n",
    "\n",
    "# Just take the values of weights and bias for the model\n",
    "desired_keys = params_FAT.keys() # [key for key in params_FAT.keys() if 'weight' in key or 'bias' in key] # "
   ]
  },
  {
   "cell_type": "code",
   "execution_count": 12,
   "metadata": {},
   "outputs": [
    {
     "name": "stdout",
     "output_type": "stream",
     "text": [
      "==> Clients initialization..\n",
      "===> Building data iterators..\n"
     ]
    },
    {
     "name": "stderr",
     "output_type": "stream",
     "text": [
      "  0%|          | 0/20 [00:00<?, ?it/s]\n"
     ]
    },
    {
     "name": "stdout",
     "output_type": "stream",
     "text": [
      "===> Initializing clients..\n"
     ]
    },
    {
     "name": "stderr",
     "output_type": "stream",
     "text": [
      "100%|██████████| 1/1 [00:00<00:00, 31.82it/s]\n"
     ]
    },
    {
     "name": "stdout",
     "output_type": "stream",
     "text": [
      "round 0 Test acc:  0.48500000685453415 ( 0.06396347967863475 ) adv acc:  0.48500000685453415 ( 0.06396347967863475 )\n",
      "round 1 Test acc:  0.48500000685453415 ( 0.06396347967863475 ) adv acc:  0.48500000685453415 ( 0.06396347967863475 )\n",
      "round 2 Test acc:  0.48500000685453415 ( 0.06396347967863475 ) adv acc:  0.48500000685453415 ( 0.06396347967863475 )\n",
      "round 3 Test acc:  0.48500000685453415 ( 0.06396347967863475 ) adv acc:  0.48500000685453415 ( 0.06396347967863475 )\n",
      "round 4 Test acc:  0.48500000685453415 ( 0.06396347967863475 ) adv acc:  0.48500000685453415 ( 0.06396347967863475 )\n",
      "round 5 Test acc:  0.48500000685453415 ( 0.06396347967863475 ) adv acc:  0.48500000685453415 ( 0.06396347967863475 )\n",
      "round 6 Test acc:  0.48500000685453415 ( 0.06396347967863475 ) adv acc:  0.48500000685453415 ( 0.06396347967863475 )\n",
      "round 7 Test acc:  0.48500000685453415 ( 0.06396347967863475 ) adv acc:  0.48500000685453415 ( 0.06396347967863475 )\n",
      "round 8 Test acc:  0.48500000685453415 ( 0.06396347967863475 ) adv acc:  0.48500000685453415 ( 0.06396347967863475 )\n",
      "round 9 Test acc:  0.48500000685453415 ( 0.06396347967863475 ) adv acc:  0.48500000685453415 ( 0.06396347967863475 )\n",
      "round 10 Test acc:  0.48500000685453415 ( 0.06396347967863475 ) adv acc:  0.48500000685453415 ( 0.06396347967863475 )\n",
      "round 11 Test acc:  0.48500000685453415 ( 0.06396347967863475 ) adv acc:  0.48500000685453415 ( 0.06396347967863475 )\n",
      "round 12 Test acc:  0.48500000685453415 ( 0.06396347967863475 ) adv acc:  0.48500000685453415 ( 0.06396347967863475 )\n",
      "round 13 Test acc:  0.48500000685453415 ( 0.06396347967863475 ) adv acc:  0.48500000685453415 ( 0.06396347967863475 )\n",
      "round 14 Test acc:  0.48500000685453415 ( 0.06396347967863475 ) adv acc:  0.48500000685453415 ( 0.06396347967863475 )\n",
      "round 15 Test acc:  0.48500000685453415 ( 0.06396347967863475 ) adv acc:  0.48500000685453415 ( 0.06396347967863475 )\n",
      "round 16 Test acc:  0.48500000685453415 ( 0.06396347967863475 ) adv acc:  0.48500000685453415 ( 0.06396347967863475 )\n",
      "round 17 Test acc:  0.48500000685453415 ( 0.06396347967863475 ) adv acc:  0.48500000685453415 ( 0.06396347967863475 )\n",
      "round 18 Test acc:  0.48500000685453415 ( 0.06396347967863475 ) adv acc:  0.47142857909202573 ( 0.062105902808679475 )\n",
      "round 19 Test acc:  0.490000008046627 ( 0.06358346969805069 ) adv acc:  0.4300000071525574 ( 0.06804860171427504 )\n",
      "round 20 Test acc:  0.510000005364418 ( 0.06911983020607754 ) adv acc:  0.33928572535514834 ( 0.054748965551489864 )\n",
      "==> Clients initialization..\n",
      "===> Building data iterators..\n"
     ]
    },
    {
     "name": "stderr",
     "output_type": "stream",
     "text": [
      " 10%|█         | 2/20 [00:00<00:01, 13.12it/s]\n"
     ]
    },
    {
     "name": "stdout",
     "output_type": "stream",
     "text": [
      "===> Initializing clients..\n"
     ]
    },
    {
     "name": "stderr",
     "output_type": "stream",
     "text": [
      "100%|██████████| 3/3 [00:00<00:00, 42.60it/s]\n"
     ]
    },
    {
     "name": "stdout",
     "output_type": "stream",
     "text": [
      "round 0 Test acc:  0.48500000685453415 ( 0.06396347967863475 ) adv acc:  0.48500000685453415 ( 0.06396347967863475 )\n",
      "round 1 Test acc:  0.5150000095367432 ( 0.06396348215803313 ) adv acc:  0.5150000095367432 ( 0.06396348215803313 )\n",
      "round 2 Test acc:  0.5150000095367432 ( 0.06396348215803313 ) adv acc:  0.5150000095367432 ( 0.06396348215803313 )\n",
      "round 3 Test acc:  0.517142866551876 ( 0.06334228679722777 ) adv acc:  0.40214286297559737 ( 0.046571206689005426 )\n",
      "round 4 Test acc:  0.48500000685453415 ( 0.06396347967863475 ) adv acc:  0.48500000685453415 ( 0.06396347967863475 )\n",
      "round 5 Test acc:  0.48500000685453415 ( 0.06396347967863475 ) adv acc:  0.48500000685453415 ( 0.06396347967863475 )\n",
      "round 6 Test acc:  0.48500000685453415 ( 0.06396347967863475 ) adv acc:  0.48500000685453415 ( 0.06396347967863475 )\n",
      "round 7 Test acc:  0.48500000685453415 ( 0.06396347967863475 ) adv acc:  0.48500000685453415 ( 0.06396347967863475 )\n",
      "round 8 Test acc:  0.48500000685453415 ( 0.06396347967863475 ) adv acc:  0.48500000685453415 ( 0.06396347967863475 )\n",
      "round 9 Test acc:  0.48500000685453415 ( 0.06396347967863475 ) adv acc:  0.48500000685453415 ( 0.06396347967863475 )\n",
      "round 10 Test acc:  0.48500000685453415 ( 0.06396347967863475 ) adv acc:  0.48500000685453415 ( 0.06396347967863475 )\n",
      "round 11 Test acc:  0.48500000685453415 ( 0.06396347967863475 ) adv acc:  0.48500000685453415 ( 0.06396347967863475 )\n",
      "round 12 Test acc:  0.48500000685453415 ( 0.06396347967863475 ) adv acc:  0.4707142934203148 ( 0.06332214600294872 )\n",
      "round 13 Test acc:  0.4864285781979561 ( 0.06332214519612685 ) adv acc:  0.4314285755157471 ( 0.06253162092493697 )\n",
      "round 14 Test acc:  0.4978571504354477 ( 0.06377175845066542 ) adv acc:  0.3507142961025238 ( 0.05650988810589339 )\n",
      "round 15 Test acc:  0.5135714322328567 ( 0.06783458060262854 ) adv acc:  0.27071429416537285 ( 0.05486067867597612 )\n",
      "round 16 Test acc:  0.5471428647637367 ( 0.05716071326590103 ) adv acc:  0.20142857693135738 ( 0.05586061583232789 )\n",
      "round 17 Test acc:  0.5907143026590347 ( 0.0626416655423811 ) adv acc:  0.1492857189849019 ( 0.05060350187168139 )\n",
      "round 18 Test acc:  0.64214286506176 ( 0.05632902334869959 ) adv acc:  0.10714285969734191 ( 0.04297602705297179 )\n",
      "round 19 Test acc:  0.6800000011920929 ( 0.054660360109146225 ) adv acc:  0.08928571715950966 ( 0.03610500741660564 )\n",
      "round 20 Test acc:  0.6964285761117935 ( 0.0551204576191096 ) adv acc:  0.09642857485450804 ( 0.04037452390767361 )\n",
      "==> Clients initialization..\n",
      "===> Building data iterators..\n"
     ]
    },
    {
     "name": "stderr",
     "output_type": "stream",
     "text": [
      " 20%|██        | 4/20 [00:00<00:01, 13.89it/s]\n"
     ]
    },
    {
     "name": "stdout",
     "output_type": "stream",
     "text": [
      "===> Initializing clients..\n"
     ]
    },
    {
     "name": "stderr",
     "output_type": "stream",
     "text": [
      "100%|██████████| 5/5 [00:00<00:00, 40.11it/s]\n"
     ]
    },
    {
     "name": "stdout",
     "output_type": "stream",
     "text": [
      "round 0 Test acc:  0.48500000685453415 ( 0.06396347967863475 ) adv acc:  0.48500000685453415 ( 0.06396347967863475 )\n",
      "round 1 Test acc:  0.5150000095367432 ( 0.06396348215803313 ) adv acc:  0.5150000095367432 ( 0.06396348215803313 )\n",
      "round 2 Test acc:  0.5150000095367432 ( 0.06396348215803313 ) adv acc:  0.5150000095367432 ( 0.06396348215803313 )\n",
      "round 3 Test acc:  0.5150000095367432 ( 0.06396348215803313 ) adv acc:  0.5150000095367432 ( 0.06396348215803313 )\n",
      "round 4 Test acc:  0.5150000095367432 ( 0.06396348215803313 ) adv acc:  0.5150000095367432 ( 0.06396348215803313 )\n",
      "round 5 Test acc:  0.5150000095367432 ( 0.06396348215803313 ) adv acc:  0.5150000095367432 ( 0.06396348215803313 )\n",
      "round 6 Test acc:  0.5150000095367432 ( 0.06396348215803313 ) adv acc:  0.5114285811781883 ( 0.06414270200166078 )\n",
      "round 7 Test acc:  0.5157142952084541 ( 0.06306783283290204 ) adv acc:  0.45642857998609543 ( 0.04917171488098732 )\n",
      "round 8 Test acc:  0.5314285784959794 ( 0.06633249852850409 ) adv acc:  0.2514285780489445 ( 0.04725096148562121 )\n",
      "round 9 Test acc:  0.5900000110268593 ( 0.05943612582491119 ) adv acc:  0.0907142891548574 ( 0.0290232155796988 )\n",
      "round 10 Test acc:  0.620714296400547 ( 0.07346733085058152 ) adv acc:  0.03928571511059999 ( 0.02207362524998699 )\n",
      "round 11 Test acc:  0.6521428674459457 ( 0.055746325433423734 ) adv acc:  0.03285714350640774 ( 0.023947221705777132 )\n",
      "round 12 Test acc:  0.6692857176065445 ( 0.05719193620237943 ) adv acc:  0.030000000447034835 ( 0.023861847887694358 )\n",
      "round 13 Test acc:  0.6750000059604645 ( 0.05361902099506057 ) adv acc:  0.03428571503609419 ( 0.022314999949948705 )\n",
      "round 14 Test acc:  0.6750000089406967 ( 0.04987228535230238 ) adv acc:  0.03714285772293806 ( 0.021380899945391257 )\n",
      "round 15 Test acc:  0.6785714268684387 ( 0.04791574085179699 ) adv acc:  0.0407142864074558 ( 0.018776342623350525 )\n",
      "round 16 Test acc:  0.6721428632736206 ( 0.043206900789804346 ) adv acc:  0.054285715939477085 ( 0.020995627206435788 )\n",
      "round 17 Test acc:  0.6685714364051819 ( 0.04130523081069864 ) adv acc:  0.06857143030501903 ( 0.020503857904916715 )\n",
      "round 18 Test acc:  0.6664285778999328 ( 0.051956611805456174 ) adv acc:  0.08714285902678967 ( 0.02114092707998226 )\n",
      "round 19 Test acc:  0.662142863869667 ( 0.05772471278669923 ) adv acc:  0.10500000268220902 ( 0.02225776708800235 )\n",
      "round 20 Test acc:  0.6642857253551483 ( 0.052391771870120646 ) adv acc:  0.12714286148548126 ( 0.023430315125707063 )\n",
      "==> Clients initialization..\n",
      "===> Building data iterators..\n"
     ]
    },
    {
     "name": "stderr",
     "output_type": "stream",
     "text": [
      " 45%|████▌     | 9/20 [00:00<00:00, 16.03it/s]\n"
     ]
    },
    {
     "name": "stdout",
     "output_type": "stream",
     "text": [
      "===> Initializing clients..\n"
     ]
    },
    {
     "name": "stderr",
     "output_type": "stream",
     "text": [
      "100%|██████████| 10/10 [00:00<00:00, 41.95it/s]\n"
     ]
    },
    {
     "name": "stdout",
     "output_type": "stream",
     "text": [
      "round 0 Test acc:  0.48500000685453415 ( 0.06396347967863475 ) adv acc:  0.48500000685453415 ( 0.06396347967863475 )\n",
      "round 1 Test acc:  0.5150000095367432 ( 0.06396348215803313 ) adv acc:  0.5150000095367432 ( 0.06396348215803313 )\n",
      "round 2 Test acc:  0.5150000095367432 ( 0.06396348215803313 ) adv acc:  0.5150000095367432 ( 0.06396348215803313 )\n",
      "round 3 Test acc:  0.5150000095367432 ( 0.06396348215803313 ) adv acc:  0.5150000095367432 ( 0.06396348215803313 )\n",
      "round 4 Test acc:  0.48500000685453415 ( 0.06396347967863475 ) adv acc:  0.48500000685453415 ( 0.06396347967863475 )\n",
      "round 5 Test acc:  0.54785715341568 ( 0.05292949159788495 ) adv acc:  0.10500000286847352 ( 0.04122486987087031 )\n",
      "round 6 Test acc:  0.6114285796880722 ( 0.0683030415219696 ) adv acc:  0.025714286090806126 ( 0.023733211674059722 )\n",
      "round 7 Test acc:  0.632142859697342 ( 0.0702582676091894 ) adv acc:  0.016428571613505482 ( 0.015827514391211512 )\n",
      "round 8 Test acc:  0.632857146859169 ( 0.0627759210642621 ) adv acc:  0.01928571453318 ( 0.01645959832318118 )\n",
      "round 9 Test acc:  0.635000005364418 ( 0.06348308021128728 ) adv acc:  0.027857143431901932 ( 0.0204415551283518 )\n",
      "round 10 Test acc:  0.6278571501374245 ( 0.061357927241782254 ) adv acc:  0.03357142880558968 ( 0.02644786956638615 )\n",
      "round 11 Test acc:  0.6335714370012283 ( 0.05946615549103637 ) adv acc:  0.035000000661239025 ( 0.027654945129424843 )\n",
      "round 12 Test acc:  0.6321428656578064 ( 0.06125806580596456 ) adv acc:  0.03928571506403387 ( 0.02923340394405415 )\n",
      "round 13 Test acc:  0.6364285737276077 ( 0.05776006509922962 ) adv acc:  0.042142858169972895 ( 0.02909344678585129 )\n",
      "round 14 Test acc:  0.6457142978906631 ( 0.058658463766082566 ) adv acc:  0.04500000108964741 ( 0.027948569300806046 )\n",
      "round 15 Test acc:  0.6535714387893676 ( 0.0607562820059994 ) adv acc:  0.044285715604200956 ( 0.029589023144298187 )\n",
      "round 16 Test acc:  0.6678571492433548 ( 0.05323705322293707 ) adv acc:  0.04357142960652709 ( 0.029093446884172102 )\n",
      "round 17 Test acc:  0.6764285802841187 ( 0.05737008290793084 ) adv acc:  0.05142857260070741 ( 0.02871393177145761 )\n",
      "round 18 Test acc:  0.6914285749197007 ( 0.05447335899766862 ) adv acc:  0.056428573373705146 ( 0.029442092790220472 )\n",
      "round 19 Test acc:  0.6821428596973419 ( 0.053998296172954714 ) adv acc:  0.07071428773924708 ( 0.031126798851656964 )\n",
      "round 20 Test acc:  0.6871428608894348 ( 0.054379620661101954 ) adv acc:  0.08928571688011289 ( 0.03749149704593862 )\n"
     ]
    }
   ],
   "source": [
    "# Perform 50 rounds of full overfitting on benign data on 200R FAT model\n",
    "num_rounds = 20\n",
    "num_users = [1,3,5,10]\n",
    "\n",
    "test_acc_gather = {}\n",
    "adv_acc_gather = {}\n",
    "test_acc_std_gather = {}\n",
    "adv_acc_std_gather = {}\n",
    "\n",
    "peturb_prop = 0.5\n",
    "cutoff_round = 5\n",
    "\n",
    "\n",
    "# save_path_FAT150 = '/home/ubuntu/fedatk_unl_tj/weights/cifar10/250123_icml25/FAT_R50/'\n",
    "\n",
    "for num_user in num_users:\n",
    "    aggregator, clients, args_ = set_args(setting, num_user,  experiment = exp)\n",
    "\n",
    "    test_acc_gather[num_user] = []\n",
    "    adv_acc_gather[num_user] = []\n",
    "    test_acc_std_gather[num_user] = []\n",
    "    adv_acc_std_gather[num_user] = []\n",
    "    \n",
    "    # Test performance of aggregator on data \n",
    "    # aggregator.load_state(dir_path=save_path_FAT)\n",
    "    aggregator.update_clients()\n",
    "    \n",
    "    # Trim number of clients\n",
    "    aggregator.clients = aggregator.clients[0:num_user]\n",
    "    aggregator.clients_weights = np.divide(aggregator.clients_weights[0:num_user],np.sum(aggregator.clients_weights[0:num_user].numpy()))\n",
    "    aggregator.n_clients_per_round = num_user\n",
    "    \n",
    "    model_FAT = pull_model_from_agg(aggregator)\n",
    "    model_FAT.eval()\n",
    "\n",
    "    \n",
    "    # Add standard deviation\n",
    "    acc, adv_acc = get_adv_acc(aggregator_og, model_FAT, eps = eps_attack, step_size = step_size, steps = steps)\n",
    "\n",
    "    print(\"round\", 0 ,\"Test acc: \", np.mean(acc), \"(\", np.std(acc),\")\", \"adv acc: \", \n",
    "                  np.mean(adv_acc), \"(\", np.std(adv_acc),\")\")\n",
    "    test_acc_gather[num_user] += [np.mean(acc)]\n",
    "    adv_acc_gather[num_user] += [np.mean(adv_acc)]\n",
    "    test_acc_std_gather[num_user] += [np.std(acc)]\n",
    "    adv_acc_std_gather[num_user] += [np.std(adv_acc)]\n",
    "    \n",
    "    # Setting evasion attack parameters\n",
    "    x_min = torch.min(clients[0].adv_nn.dataloader.x_data)\n",
    "    x_max = torch.max(clients[0].adv_nn.dataloader.x_data)\n",
    "    atk_params = PGD_Params()\n",
    "    atk_params.set_params(batch_size=1, iteration = steps,\n",
    "                    target = -1, x_val_min = x_min, x_val_max = x_max,\n",
    "                    step_size = 0.01, step_norm = \"inf\", eps = eps_train, eps_norm = 2)\n",
    "    \n",
    "    #  Assign proportion and attack params\n",
    "    if False:\n",
    "        for c in aggregator.clients:\n",
    "            c.unlearning_flag = True\n",
    "            \n",
    "        for i in range(len(aggregator.clients)):\n",
    "            aggregator.clients[i].set_adv_params(peturb_prop, atk_params)\n",
    "            aggregator.clients[i].update_advnn()\n",
    "            aggregator.clients[i].assign_advdataset()\n",
    "    \n",
    "    for round in range(1,num_rounds+1):\n",
    "        \n",
    "        aggregator.mix()\n",
    "        model_overfit = pull_model_from_agg(aggregator)\n",
    "        \n",
    "        if round%1 == 0:\n",
    "            \n",
    "            # if round <= cutoff_round:\n",
    "            #     for i in range(len(aggregator.clients)):\n",
    "            #         aggregator.clients[i].set_adv_params(peturb_prop, atk_params)\n",
    "            #         aggregator.clients[i].update_advnn()\n",
    "            #         aggregator.clients[i].assign_advdataset()\n",
    "            # else:\n",
    "            #     for i in range(len(aggregator.clients)):\n",
    "            #         aggregator.clients[i].reset_dataset()\n",
    "                \n",
    "\n",
    "            model_overfit.eval()\n",
    "            acc, adv_acc = get_adv_acc(aggregator_og, model_overfit, eps = eps_attack, step_size = step_size, steps = steps)\n",
    "\n",
    "            print(\"round\", round,\"Test acc: \", np.mean(acc), \"(\", np.std(acc),\")\", \"adv acc: \", \n",
    "                  np.mean(adv_acc), \"(\", np.std(adv_acc),\")\")\n",
    "            test_acc_gather[num_user] += [np.mean(acc)]\n",
    "            adv_acc_gather[num_user] += [np.mean(adv_acc)]\n",
    "            test_acc_std_gather[num_user] += [np.std(acc)]\n",
    "            adv_acc_std_gather[num_user] += [np.std(adv_acc)]\n",
    "\n",
    "    del aggregator, clients, args_\n",
    "    gc.collect()\n",
    "    torch.cuda.empty_cache()\n"
   ]
  },
  {
   "cell_type": "code",
   "execution_count": 19,
   "metadata": {},
   "outputs": [
    {
     "data": {
      "image/png": "[encoded data removed]",
      "text/plain": [
       "<Figure size 480x320 with 1 Axes>"
      ]
     },
     "metadata": {
      "needs_background": "light"
     },
     "output_type": "display_data"
    }
   ],
   "source": [
    "\n",
    "# Initialize a new figure\n",
    "plt.figure(figsize=(6, 4), dpi=80)\n",
    "\n",
    "# X-axis values: 0 to 30 in intervals of 5 (7 points)\n",
    "x_values = np.arange(0, 21, 1)\n",
    "\n",
    "# Define a colormap\n",
    "colors = plt.get_cmap(\"tab10\").colors\n",
    "\n",
    "# Iterate over each num_user key\n",
    "for i, num_user in enumerate(test_acc_gather.keys()):\n",
    "    if i < 0:\n",
    "        continue\n",
    "\n",
    "    # Extract corresponding data for each num_user\n",
    "    test_acc = test_acc_gather[num_user]\n",
    "    adv_acc = adv_acc_gather[num_user]\n",
    "    test_acc_std = test_acc_std_gather[num_user]\n",
    "    adv_acc_std = adv_acc_std_gather[num_user]\n",
    "    \n",
    "    # Get the color for this line\n",
    "    color = colors[i]\n",
    "    \n",
    "    # Plot test accuracy with standard deviation\n",
    "    plt.plot(x_values, test_acc, label=f'Num User={num_user}', color=color)\n",
    "    plt.fill_between(x_values, np.array(test_acc) - np.array(test_acc_std),\n",
    "                     np.array(test_acc) + np.array(test_acc_std), color=color, alpha=0.2)\n",
    "    \n",
    "    # Plot adversarial accuracy with standard deviation (dotted line)\n",
    "    plt.plot(x_values, adv_acc, linestyle='--', color=color)\n",
    "    plt.fill_between(x_values, np.array(adv_acc) - np.array(adv_acc_std),\n",
    "                     np.array(adv_acc) + np.array(adv_acc_std), color=color, alpha=0.2)\n",
    "\n",
    "# Add title and labels with increased font size\n",
    "plt.title('FakeNewsNet: ARU Extraction from New Model', fontsize=16)\n",
    "plt.xlabel('Rounds of Extraction', fontsize=14)\n",
    "plt.ylabel('Accuracy', fontsize=14)\n",
    "\n",
    "# Combine legend to remove duplicates and label clarity with larger font\n",
    "plt.legend(loc='best', fontsize=12)\n",
    "\n",
    "# Increase tick label font size\n",
    "plt.xticks(np.arange(min(x_values), max(x_values) + 1, 2))  # Ensure whole number ticks\n",
    "plt.xticks(fontsize=12)\n",
    "plt.yticks(fontsize=12)\n",
    "\n",
    "\n",
    "# Show the plot\n",
    "plt.show()"
   ]
  },
  {
   "cell_type": "code",
   "execution_count": null,
   "metadata": {},
   "outputs": [],
   "source": []
  }
 ],
 "metadata": {
  "kernelspec": {
   "display_name": "FedEM_env",
   "language": "python",
   "name": "python3"
  },
  "language_info": {
   "codemirror_mode": {
    "name": "ipython",
    "version": 3
   },
   "file_extension": ".py",
   "mimetype": "text/x-python",
   "name": "python",
   "nbconvert_exporter": "python",
   "pygments_lexer": "ipython3",
   "version": "3.9.6"
  }
 },
 "nbformat": 4,
 "nbformat_minor": 4
}
