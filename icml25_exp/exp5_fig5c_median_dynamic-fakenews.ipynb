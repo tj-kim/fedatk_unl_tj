{
 "cells": [
  {
   "cell_type": "markdown",
   "metadata": {},
   "source": [
    "### Multiround UNL Attack Mixed\n",
    "\n",
    "Figure 5abc, and 6c\n",
    "Adjust the aggregation method accordingly based on hyperparameters (trimmed mean cutoff) to replicate results\n",
    "\n",
    "Can also use this code to perform experiments for table 2\n",
    "\n",
    "##### Summary\n",
    "Load FAT model trained for 150 rounds and for 50 rounds try and inject FedAvg model into the system. Try different scaling rates and spread out the model replacement attack."
   ]
  },
  {
   "cell_type": "code",
   "execution_count": 1,
   "metadata": {},
   "outputs": [
    {
     "name": "stdout",
     "output_type": "stream",
     "text": [
      "/home/ubuntu/fedatk_unl_tj\n"
     ]
    }
   ],
   "source": [
    "cd /home/ubuntu/fedatk_unl_tj/"
   ]
  },
  {
   "cell_type": "code",
   "execution_count": 2,
   "metadata": {},
   "outputs": [
    {
     "name": "stderr",
     "output_type": "stream",
     "text": [
      "/home/ubuntu/anaconda3/envs/FedEM_env/lib/python3.9/site-packages/pandas/core/computation/expressions.py:21: UserWarning: Pandas requires version '2.8.4' or newer of 'numexpr' (version '2.7.3' currently installed).\n",
      "  from pandas.core.computation.check import NUMEXPR_INSTALLED\n",
      "/home/ubuntu/anaconda3/envs/FedEM_env/lib/python3.9/site-packages/pandas/core/arrays/masked.py:60: UserWarning: Pandas requires version '1.3.6' or newer of 'bottleneck' (version '1.3.2' currently installed).\n",
      "  from pandas.core import (\n"
     ]
    }
   ],
   "source": [
    "# Import General Libraries\n",
    "import os\n",
    "import argparse\n",
    "import torch\n",
    "import copy\n",
    "import pickle\n",
    "import random\n",
    "import numpy as np\n",
    "import pandas as pd\n",
    "\n",
    "# Import FedEM based Libraries\n",
    "from utils.utils import *\n",
    "from utils.constants import *\n",
    "from utils.args import *\n",
    "from utils.util_notebooks import *\n",
    "from run_experiment import *\n",
    "from models import *\n",
    "\n",
    "# Import Transfer Attack\n",
    "from transfer_attacks.Personalized_NN import *\n",
    "from transfer_attacks.Params import *\n",
    "from transfer_attacks.Transferer import *\n",
    "from transfer_attacks.Args import *\n",
    "from transfer_attacks.TA_utils import *"
   ]
  },
  {
   "cell_type": "code",
   "execution_count": 3,
   "metadata": {},
   "outputs": [],
   "source": [
    "# Specify aggregation method, number of clients, and dataset\n",
    "setting, num_user = \"FedAvg_adv\", 20\n",
    "exp = \"fakenewsnet\"\n",
    "\n",
    "# Load models for FAT and FedAvg - write down path to where weights are saved\n",
    "# save_path_FAT = '/home/ubuntu/fedatk_unl_tj/weights/cifar100/250123_icml25/FAT/'\n",
    "# save_path_FedAvg =  '/home/ubuntu/fedatk_unl_tj/weights/cifar100/250123_icml25/FedAvg/'\n",
    "# save_path_FedAvg_150R = '/home/ubuntu/fedatk_unl_tj/weights/cifar100/250123_icml25/FAT_R50/'\n",
    "save_path_FAT = '/home/ubuntu/fedatk_unl_tj/weights/fakenews/250119_small_architecture_moreconv/FAT_ep02/'\n",
    "save_path_FedAvg =  '/home/ubuntu/fedatk_unl_tj/weights/fakenews/250119_small_architecture_moreconv/FedAvg/'\n",
    "save_path_FedAvg_150R = save_path_FAT# '/home/ubuntu/fedatk_unl_tj/weights/fakenews/250119_small_architecture_moreconv/FAT_R50_ep02/'\n",
    "\n",
    "\n",
    "# Attack parameters for performing PGD \n",
    "eps_attack = 0.1\n",
    "eps_train = 0.2\n",
    "step_size = 0.01\n",
    "steps = 10"
   ]
  },
  {
   "cell_type": "code",
   "execution_count": 4,
   "metadata": {},
   "outputs": [
    {
     "name": "stdout",
     "output_type": "stream",
     "text": [
      "==> Clients initialization..\n",
      "===> Building data iterators..\n"
     ]
    },
    {
     "name": "stderr",
     "output_type": "stream",
     "text": [
      "  0%|          | 0/20 [00:00<?, ?it/s]"
     ]
    },
    {
     "name": "stderr",
     "output_type": "stream",
     "text": [
      " 95%|█████████▌| 19/20 [00:01<00:00, 13.23it/s]\n"
     ]
    },
    {
     "name": "stdout",
     "output_type": "stream",
     "text": [
      "===> Initializing clients..\n"
     ]
    },
    {
     "name": "stderr",
     "output_type": "stream",
     "text": [
      "100%|██████████| 20/20 [00:01<00:00, 17.81it/s]\n",
      "/home/ubuntu/fedatk_unl_tj/aggregator.py:289: FutureWarning: You are using `torch.load` with `weights_only=False` (the current default value), which uses the default pickle module implicitly. It is possible to construct malicious pickle data which will execute arbitrary code during unpickling (See https://github.com/pytorch/pytorch/blob/main/SECURITY.md#untrusted-models for more details). In a future release, the default value for `weights_only` will be flipped to `True`. This limits the functions that could be executed during unpickling. Arbitrary objects will no longer be allowed to be loaded via this mode unless they are explicitly allowlisted by the user via `torch.serialization.add_safe_globals`. We recommend you start setting `weights_only=True` for any use case where you don't have full control of the loaded file. Please open an issue on GitHub for any issues related to this experimental feature.\n",
      "  learner.model.load_state_dict(torch.load(chkpts_path))\n"
     ]
    }
   ],
   "source": [
    "# Generate instance of aggregator that holds all clients, data and models and load relevant models in\n",
    "try: # Skip loading if already loaded\n",
    "    aggregator_og\n",
    "except:\n",
    "    aggregator_og, clients, args_ = set_args(setting, num_user,  experiment = exp) # Indicate dataset here\n",
    "\n",
    "model_FAT = copy.deepcopy(import_model_weights(num_user, setting, save_path_FAT, aggregator_og, args_)[0])\n",
    "model_Fedavg = copy.deepcopy(import_model_weights(num_user, setting, save_path_FedAvg, aggregator_og, args_)[0])\n",
    "\n",
    "# Obtain parameters for each layer\n",
    "params_FAT = model_FAT.state_dict()\n",
    "params_FedAvg = model_Fedavg.state_dict()\n",
    "\n",
    "# Just take the values of weights and bias for the model\n",
    "desired_keys = params_FAT.keys() # [key for key in params_FAT.keys() if 'weight' in key or 'bias' in key] # "
   ]
  },
  {
   "cell_type": "code",
   "execution_count": 5,
   "metadata": {},
   "outputs": [
    {
     "name": "stdout",
     "output_type": "stream",
     "text": [
      "==> Clients initialization..\n",
      "===> Building data iterators..\n"
     ]
    },
    {
     "name": "stderr",
     "output_type": "stream",
     "text": [
      " 95%|█████████▌| 19/20 [00:01<00:00, 16.63it/s]\n"
     ]
    },
    {
     "name": "stdout",
     "output_type": "stream",
     "text": [
      "===> Initializing clients..\n"
     ]
    },
    {
     "name": "stderr",
     "output_type": "stream",
     "text": [
      "100%|██████████| 20/20 [00:00<00:00, 32.99it/s]\n"
     ]
    },
    {
     "name": "stdout",
     "output_type": "stream",
     "text": [
      "Test acc:  0.7278571456670762 adv acc:  0.38071429207921026\n"
     ]
    },
    {
     "name": "stderr",
     "output_type": "stream",
     "text": [
      "/home/ubuntu/fedatk_unl_tj/learners/learner.py:192: UserWarning: The use of `x.T` on tensors of dimension other than 2 to reverse their shape is deprecated and it will throw an error in a future release. Consider `x.mT` to transpose batches of matrices or `x.permute(*torch.arange(x.ndim - 1, -1, -1))` to reverse the dimensions of a tensor. (Triggered internally at ../aten/src/ATen/native/TensorShape.cpp:3683.)\n",
      "  loss = (loss_vec.T @ weights[indices]) / loss_vec.size(0)\n"
     ]
    },
    {
     "name": "stdout",
     "output_type": "stream",
     "text": [
      "round 0 Test acc:  0.7035714343190194 adv acc:  0.3721428640186787\n",
      "round 1 Test acc:  0.6742857187986374 adv acc:  0.3828571498394012\n",
      "round 2 Test acc:  0.7164285778999329 adv acc:  0.3592857219278812\n",
      "round 3 Test acc:  0.7364285677671433 adv acc:  0.43214286416769027\n",
      "round 4 Test acc:  0.7242857158184052 adv acc:  0.4314285770058632\n",
      "round 5 Test acc:  0.7314285725355149 adv acc:  0.4271428644657135\n",
      "round 6 Test acc:  0.729285717010498 adv acc:  0.4278571501374245\n",
      "round 7 Test acc:  0.7321428596973419 adv acc:  0.42785714864730834\n",
      "round 8 Test acc:  0.7357142895460129 adv acc:  0.4228571504354477\n",
      "round 9 Test acc:  0.7400000035762787 adv acc:  0.4207142934203148\n",
      "round 10 Test acc:  0.742857140302658 adv acc:  0.4164285778999329\n",
      "round 11 Test acc:  0.7464285671710968 adv acc:  0.410714291036129\n",
      "round 12 Test acc:  0.7464285731315613 adv acc:  0.4078571490943432\n",
      "round 13 Test acc:  0.7478571385145187 adv acc:  0.3964285798370838\n",
      "round 14 Test acc:  0.7478571385145187 adv acc:  0.39714286401867865\n",
      "Test acc:  0.7278571456670762 adv acc:  0.38071429207921026\n",
      "round 0 Test acc:  0.7278571456670762 adv acc:  0.37857143506407737\n",
      "round 1 Test acc:  0.7285714268684387 adv acc:  0.38071429207921026\n",
      "round 2 Test acc:  0.7278571426868439 adv acc:  0.38071429207921026\n",
      "round 3 Test acc:  0.7271428614854812 adv acc:  0.3821428634226322\n",
      "round 4 Test acc:  0.7264285743236542 adv acc:  0.37857143506407737\n",
      "round 5 Test acc:  0.7242857158184052 adv acc:  0.3778571493923664\n",
      "round 6 Test acc:  0.7207142829895019 adv acc:  0.3764285780489445\n",
      "round 7 Test acc:  0.7178571462631226 adv acc:  0.3750000067055225\n",
      "round 8 Test acc:  0.7157142937183381 adv acc:  0.3735714353621006\n",
      "round 9 Test acc:  0.7157142907381058 adv acc:  0.3742857210338116\n",
      "round 10 Test acc:  0.7157142907381058 adv acc:  0.3714285783469677\n",
      "round 11 Test acc:  0.7157142907381058 adv acc:  0.3692857213318348\n",
      "round 12 Test acc:  0.7150000035762787 adv acc:  0.36857143566012385\n",
      "round 13 Test acc:  0.7121428608894348 adv acc:  0.3692857213318348\n",
      "round 14 Test acc:  0.7100000023841858 adv acc:  0.3692857213318348\n",
      "Test acc:  0.7278571456670762 adv acc:  0.3800000064074993\n",
      "round 0 Test acc:  0.728571429848671 adv acc:  0.37857143506407737\n",
      "round 1 Test acc:  0.7292857140302658 adv acc:  0.3771428637206554\n",
      "round 2 Test acc:  0.7307142883539199 adv acc:  0.37000000700354574\n",
      "round 3 Test acc:  0.7264285773038864 adv acc:  0.36357143595814706\n",
      "round 4 Test acc:  0.7214285731315613 adv acc:  0.3571428649127483\n",
      "round 5 Test acc:  0.7221428543329239 adv acc:  0.35000000819563865\n",
      "round 6 Test acc:  0.7192857176065445 adv acc:  0.34500000774860384\n",
      "round 7 Test acc:  0.7157142847776413 adv acc:  0.33214286640286445\n",
      "round 8 Test acc:  0.7085714295506478 adv acc:  0.32714286595582964\n",
      "round 9 Test acc:  0.6935714304447174 adv acc:  0.3342857226729393\n",
      "round 10 Test acc:  0.6850000038743019 adv acc:  0.3464285798370838\n",
      "round 11 Test acc:  0.6792857199907303 adv acc:  0.3514285795390606\n",
      "round 12 Test acc:  0.6757142916321754 adv acc:  0.36357143595814706\n",
      "round 13 Test acc:  0.6714285716414452 adv acc:  0.36285715103149413\n",
      "round 14 Test acc:  0.6721428602933883 adv acc:  0.36285715103149413\n",
      "Test acc:  0.7278571456670762 adv acc:  0.38142857775092126\n",
      "round 0 Test acc:  0.7278571456670762 adv acc:  0.3771428637206554\n",
      "round 1 Test acc:  0.7285714328289032 adv acc:  0.37285714969038963\n",
      "round 2 Test acc:  0.7307142853736878 adv acc:  0.3671428643167019\n",
      "round 3 Test acc:  0.735000005364418 adv acc:  0.35285715088248254\n",
      "round 4 Test acc:  0.7350000023841858 adv acc:  0.3392857231199741\n",
      "round 5 Test acc:  0.7385714292526245 adv acc:  0.3278571516275406\n",
      "round 6 Test acc:  0.7414285749197006 adv acc:  0.3114285796880722\n",
      "round 7 Test acc:  0.7492857128381729 adv acc:  0.29714286550879476\n",
      "round 8 Test acc:  0.7500000029802323 adv acc:  0.2807142950594425\n",
      "round 9 Test acc:  0.7578571408987045 adv acc:  0.2621428661048412\n",
      "round 10 Test acc:  0.7628571420907975 adv acc:  0.2442857228219509\n",
      "round 11 Test acc:  0.770714282989502 adv acc:  0.2335714355111122\n",
      "round 12 Test acc:  0.775 adv acc:  0.2150000050663948\n",
      "round 13 Test acc:  0.7785714268684387 adv acc:  0.2021428607404232\n",
      "round 14 Test acc:  0.7771428555250168 adv acc:  0.18928571790456772\n"
     ]
    }
   ],
   "source": [
    "num_aru = [5, 7, 10, 12]\n",
    "beta_params = [0.05, 0.1, 0.1, 0.2]\n",
    "weight2_list = [0.1, 0.1, 0.1, 0.1]\n",
    "agg_options = [\"median\", \"median\", \"median\",  \"median\"]\n",
    "\n",
    "num_rounds = 15\n",
    "eps = eps_attack\n",
    "\n",
    "result_list = []\n",
    "for itt in range(len(num_aru)):\n",
    "    result_list += [{}]\n",
    "\n",
    "# setting, num_user = \"FedAvg_adv\", 20\n",
    "aggregator, clients, args_ = set_args(setting, num_user,  experiment = exp)\n",
    "\n",
    "agg_choice = random.choices(range(3),k=num_rounds)\n",
    "\n",
    "if False:\n",
    "    print(\"updating adv data set\")\n",
    "    # add adv dataset update\n",
    "    Fu = np.zeros(num_user)\n",
    "    Fu[0:10] = 1\n",
    "\n",
    "    # Setting evasion attack parameters\n",
    "    x_min = torch.min(clients[0].adv_nn.dataloader.x_data)\n",
    "    x_max = torch.max(clients[0].adv_nn.dataloader.x_data)\n",
    "    atk_params = PGD_Params()\n",
    "    atk_params.set_params(batch_size=1, iteration = 10,\n",
    "                    target = -1, x_val_min = x_min, x_val_max = x_max,\n",
    "                    step_size = 0.05, step_norm = \"inf\", eps = eps, eps_norm = 2)\n",
    "\n",
    "    # Assign proportion and attack params\n",
    "    for c in range(len(clients)):\n",
    "        if Fu[c] > 0:\n",
    "            aggregator.clients[c].set_adv_params(Fu[c], atk_params)\n",
    "            aggregator.clients[c].update_advnn()\n",
    "            aggregator.clients[c].assign_advdataset()\n",
    "\n",
    "for itt in range(len(beta_params)):\n",
    "    # Perform 50 rounds of FAT on FedAvg model \n",
    "    num_adv = num_aru[itt]\n",
    "    # weight2 = 1/num_adv * weight2_list[itt]\n",
    "    weight2_temp = weight2_list[itt]\n",
    "    adv_id = random.sample(range(num_user), num_adv) # excluding 0-9 as Fu = 1\n",
    "    beta = beta_params[itt]\n",
    "\n",
    "    test_acc_gather = []\n",
    "    adv_acc_gather = []\n",
    "    test_acc_std = []\n",
    "    adv_acc_std = []\n",
    "    cosine_gather_layers = np.zeros([num_rounds, len(desired_keys)])\n",
    "\n",
    "    aggregator.tm_rate = beta\n",
    "\n",
    "    # Test performance of aggregator on data \n",
    "    aggregator.load_state(dir_path = save_path_FedAvg_150R)\n",
    "    aggregator.update_clients()\n",
    "    model_FA = pull_model_from_agg(aggregator)\n",
    "    model_FA.eval()\n",
    "    acc, adv_acc = get_adv_acc(aggregator, model_FA, eps = eps)\n",
    "\n",
    "    # prev_model = copy.deepcopy(model_FA)\n",
    "\n",
    "    print(\"Test acc: \", np.mean(acc), \"adv acc: \", np.mean(adv_acc))\n",
    "    test_acc_gather+= [np.mean(acc)]\n",
    "    adv_acc_gather += [np.mean(adv_acc)]\n",
    "    test_acc_std += [np.std(acc)]\n",
    "    adv_acc_std += [np.std(adv_acc)]\n",
    "\n",
    "\n",
    "\n",
    "    for i in range(num_rounds):\n",
    "        weight2 = 1/num_adv * weight2_temp\n",
    "        # Per round Freq\n",
    "        aggregator.aggregation_op = agg_options[itt]\n",
    "\n",
    "        # aggregator.mix()\n",
    "        UNL_mix(aggregator, adv_id, model_inject = model_Fedavg, keys = desired_keys, weight_scale_2 = weight2, dump_flag=False, tm_beta=beta)\n",
    "        model_overfit = pull_model_from_agg(aggregator)\n",
    "        model_overfit.eval()\n",
    "        acc, adv_acc = get_adv_acc(aggregator, model_overfit, eps = eps)\n",
    "\n",
    "        print(\"round\", i,\"Test acc: \", np.mean(acc), \"adv acc: \", np.mean(adv_acc))\n",
    "        test_acc_gather+= [np.mean(acc)]\n",
    "        adv_acc_gather += [np.mean(adv_acc)]\n",
    "        test_acc_std += [np.std(acc)]\n",
    "        adv_acc_std += [np.std(adv_acc)]\n",
    "        # prev_model = copy.deepcopy(model_overfit)\n",
    "\n",
    "        result_list[itt]['test_acc'] = copy.deepcopy(test_acc_gather)\n",
    "        result_list[itt]['adv_acc'] = copy.deepcopy(adv_acc_gather)\n",
    "        result_list[itt]['test_std'] = copy.deepcopy(test_acc_std)\n",
    "        result_list[itt]['adv_std'] = copy.deepcopy(adv_acc_std)\n",
    "        result_list[itt]['num_clients'] = num_adv\n",
    "        result_list[itt]['beta'] = beta\n",
    "        result_list[itt]['weight2'] = weight2_list[itt]\n",
    "        # Perform gradient direction gathering\n",
    "\n",
    "        weight2_temp += 0.1\n",
    "        if weight2_temp > 1:\n",
    "            weight2_temp = 1\n",
    "\n",
    "\n",
    "    "
   ]
  },
  {
   "cell_type": "code",
   "execution_count": 6,
   "metadata": {},
   "outputs": [],
   "source": [
    "import pickle\n",
    "\n",
    "a = result_list\n",
    "\n",
    "with open('saved_results/mixed_sweep/250127_5a_median_arui_fnn.pk', 'wb') as handle:\n",
    "    pickle.dump(a, handle, protocol=pickle.HIGHEST_PROTOCOL)"
   ]
  },
  {
   "cell_type": "code",
   "execution_count": 7,
   "metadata": {},
   "outputs": [],
   "source": [
    "with open('saved_results/mixed_sweep/250127_5a_median_arui_fnn.pk', 'rb') as handle:\n",
    "    result_list = pickle.load(handle)"
   ]
  },
  {
   "cell_type": "code",
   "execution_count": 10,
   "metadata": {},
   "outputs": [
    {
     "name": "stderr",
     "output_type": "stream",
     "text": [
      "findfont: Font family ['normal'] not found. Falling back to DejaVu Sans.\n"
     ]
    },
    {
     "data": {
      "image/png": "[encoded data removed]",
      "text/plain": [
       "<Figure size 480x320 with 1 Axes>"
      ]
     },
     "metadata": {
      "needs_background": "light"
     },
     "output_type": "display_data"
    }
   ],
   "source": [
    "import matplotlib.pyplot as plt\n",
    "import numpy as np\n",
    "\n",
    "font = {'family' : 'normal',\n",
    "        'weight' : 'normal',\n",
    "        'size'   : 18}\n",
    "\n",
    "plt.rc('font', **font)\n",
    "plt.figure(dpi=80, figsize=(6,4))\n",
    "\n",
    "plot_settings = [[5, \"0.1 - 1\"],[7, \"0.1 - 1\"],[10, \"0.1 - 1\"],[12, \"0.1 - 1\"]]\n",
    "\n",
    "num_aru = [5, 7, 10, 12]\n",
    "beta_params = [0.05, 0.1, 0.1, 0.2]\n",
    "weight2_list = [0.1, 0.1, 0.1, 0.1]\n",
    "agg_options = [\"median\", \"median\", \"median\",  \"median\"]\n",
    "\n",
    "# Generate some sample data\n",
    "x = range(16)  # 100 points from 0 to 10\n",
    "\n",
    "# Plotting the lines\n",
    "# plt.plot(x, y1, label='Test Acc')\n",
    "label_list = plot_settings\n",
    "for i in range(len(label_list)):\n",
    "    y = np.array(result_list[i]['adv_acc'])\n",
    "    error = np.array(result_list[i]['adv_std'])\n",
    "    plt.plot(x, y, label= str(label_list[i]))\n",
    "    plt.fill_between(x, y-error, y+error,\n",
    "    alpha=0.2)\n",
    "\n",
    "# Adding labels and title\n",
    "plt.xlabel('Injection Rounds')\n",
    "plt.ylabel('Adv. Acc. (Robustness)')\n",
    "plt.title('FakeNewsNet: ARU vs Median \\n Legend - [#ARU client, β]', fontsize = 'medium')\n",
    "\n",
    "# Adding a legend\n",
    "plt.legend( loc=\"best\", fontsize=14)\n",
    "\n",
    "\n",
    "# Display the plot\n",
    "plt.show()\n"
   ]
  },
  {
   "cell_type": "code",
   "execution_count": null,
   "metadata": {},
   "outputs": [],
   "source": []
  }
 ],
 "metadata": {
  "kernelspec": {
   "display_name": "FedEM_env",
   "language": "python",
   "name": "python3"
  },
  "language_info": {
   "codemirror_mode": {
    "name": "ipython",
    "version": 3
   },
   "file_extension": ".py",
   "mimetype": "text/x-python",
   "name": "python",
   "nbconvert_exporter": "python",
   "pygments_lexer": "ipython3",
   "version": "3.9.6"
  }
 },
 "nbformat": 4,
 "nbformat_minor": 2
}
