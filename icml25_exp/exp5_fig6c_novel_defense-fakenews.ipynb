{
 "cells": [
  {
   "cell_type": "markdown",
   "metadata": {},
   "source": [
    "### Multiround UNL Attack Mixed\n",
    "\n",
    "Figure 5abc, and 6c\n",
    "Adjust the aggregation method accordingly based on hyperparameters (trimmed mean cutoff) to replicate results\n",
    "\n",
    "Can also use this code to perform experiments for table 2\n",
    "\n",
    "##### Summary\n",
    "Load FAT model trained for 150 rounds and for 50 rounds try and inject FedAvg model into the system. Try different scaling rates and spread out the model replacement attack."
   ]
  },
  {
   "cell_type": "code",
   "execution_count": 1,
   "metadata": {},
   "outputs": [
    {
     "name": "stdout",
     "output_type": "stream",
     "text": [
      "/home/ubuntu/fedatk_unl_tj\n"
     ]
    }
   ],
   "source": [
    "cd /home/ubuntu/fedatk_unl_tj/"
   ]
  },
  {
   "cell_type": "code",
   "execution_count": 2,
   "metadata": {},
   "outputs": [
    {
     "name": "stderr",
     "output_type": "stream",
     "text": [
      "/home/ubuntu/anaconda3/envs/FedEM_env/lib/python3.9/site-packages/pandas/core/computation/expressions.py:21: UserWarning: Pandas requires version '2.8.4' or newer of 'numexpr' (version '2.7.3' currently installed).\n",
      "  from pandas.core.computation.check import NUMEXPR_INSTALLED\n",
      "/home/ubuntu/anaconda3/envs/FedEM_env/lib/python3.9/site-packages/pandas/core/arrays/masked.py:60: UserWarning: Pandas requires version '1.3.6' or newer of 'bottleneck' (version '1.3.2' currently installed).\n",
      "  from pandas.core import (\n"
     ]
    }
   ],
   "source": [
    "# Import General Libraries\n",
    "import os\n",
    "import argparse\n",
    "import torch\n",
    "import copy\n",
    "import pickle\n",
    "import random\n",
    "import numpy as np\n",
    "import pandas as pd\n",
    "\n",
    "# Import FedEM based Libraries\n",
    "from utils.utils import *\n",
    "from utils.constants import *\n",
    "from utils.args import *\n",
    "from utils.util_notebooks import *\n",
    "from run_experiment import *\n",
    "from models import *\n",
    "\n",
    "# Import Transfer Attack\n",
    "from transfer_attacks.Personalized_NN import *\n",
    "from transfer_attacks.Params import *\n",
    "from transfer_attacks.Transferer import *\n",
    "from transfer_attacks.Args import *\n",
    "from transfer_attacks.TA_utils import *"
   ]
  },
  {
   "cell_type": "code",
   "execution_count": 3,
   "metadata": {},
   "outputs": [],
   "source": [
    "# Specify aggregation method, number of clients, and dataset\n",
    "setting, num_user = \"FedAvg_adv\", 20\n",
    "exp = \"fakenewsnet\"\n",
    "\n",
    "# Load models for FAT and FedAvg - write down path to where weights are saved\n",
    "# save_path_FAT = '/home/ubuntu/fedatk_unl_tj/weights/cifar100/250123_icml25/FAT/'\n",
    "# save_path_FedAvg =  '/home/ubuntu/fedatk_unl_tj/weights/cifar100/250123_icml25/FedAvg/'\n",
    "# save_path_FedAvg_150R = '/home/ubuntu/fedatk_unl_tj/weights/cifar100/250123_icml25/FAT_R50/'\n",
    "\n",
    "save_path_FAT = '/home/ubuntu/fedatk_unl_tj/weights/fakenews/250119_small_architecture_moreconv/FAT_ep02/'\n",
    "save_path_FedAvg =  '/home/ubuntu/fedatk_unl_tj/weights/fakenews/250119_small_architecture_moreconv/FedAvg/'\n",
    "save_path_FedAvg_150R = save_path_FAT\n",
    "\n",
    "# Attack parameters for performing PGD \n",
    "eps_attack = 0.1\n",
    "eps_train = 0.2\n",
    "step_size = 0.01\n",
    "steps = 10"
   ]
  },
  {
   "cell_type": "code",
   "execution_count": 4,
   "metadata": {},
   "outputs": [
    {
     "name": "stdout",
     "output_type": "stream",
     "text": [
      "==> Clients initialization..\n",
      "===> Building data iterators..\n"
     ]
    },
    {
     "name": "stderr",
     "output_type": "stream",
     "text": [
      " 95%|█████████▌| 19/20 [00:02<00:00,  8.05it/s]\n"
     ]
    },
    {
     "name": "stdout",
     "output_type": "stream",
     "text": [
      "===> Initializing clients..\n"
     ]
    },
    {
     "name": "stderr",
     "output_type": "stream",
     "text": [
      "100%|██████████| 20/20 [00:01<00:00, 14.24it/s]\n",
      "/home/ubuntu/fedatk_unl_tj/aggregator.py:289: FutureWarning: You are using `torch.load` with `weights_only=False` (the current default value), which uses the default pickle module implicitly. It is possible to construct malicious pickle data which will execute arbitrary code during unpickling (See https://github.com/pytorch/pytorch/blob/main/SECURITY.md#untrusted-models for more details). In a future release, the default value for `weights_only` will be flipped to `True`. This limits the functions that could be executed during unpickling. Arbitrary objects will no longer be allowed to be loaded via this mode unless they are explicitly allowlisted by the user via `torch.serialization.add_safe_globals`. We recommend you start setting `weights_only=True` for any use case where you don't have full control of the loaded file. Please open an issue on GitHub for any issues related to this experimental feature.\n",
      "  learner.model.load_state_dict(torch.load(chkpts_path))\n"
     ]
    }
   ],
   "source": [
    "# Generate instance of aggregator that holds all clients, data and models and load relevant models in\n",
    "try: # Skip loading if already loaded\n",
    "    aggregator_og\n",
    "except:\n",
    "    aggregator_og, clients, args_ = set_args(setting, num_user,  experiment = exp) # Indicate dataset here\n",
    "\n",
    "model_FAT = copy.deepcopy(import_model_weights(num_user, setting, save_path_FAT, aggregator_og, args_)[0])\n",
    "model_Fedavg = copy.deepcopy(import_model_weights(num_user, setting, save_path_FedAvg, aggregator_og, args_)[0])\n",
    "\n",
    "# Obtain parameters for each layer\n",
    "params_FAT = model_FAT.state_dict()\n",
    "params_FedAvg = model_Fedavg.state_dict()\n",
    "\n",
    "# Just take the values of weights and bias for the model\n",
    "desired_keys = params_FAT.keys() # [key for key in params_FAT.keys() if 'weight' in key or 'bias' in key] # "
   ]
  },
  {
   "cell_type": "code",
   "execution_count": 5,
   "metadata": {},
   "outputs": [
    {
     "name": "stdout",
     "output_type": "stream",
     "text": [
      "==> Clients initialization..\n",
      "===> Building data iterators..\n"
     ]
    },
    {
     "name": "stderr",
     "output_type": "stream",
     "text": [
      "  0%|          | 0/20 [00:00<?, ?it/s]"
     ]
    },
    {
     "name": "stderr",
     "output_type": "stream",
     "text": [
      " 95%|█████████▌| 19/20 [00:01<00:00,  9.64it/s]\n"
     ]
    },
    {
     "name": "stdout",
     "output_type": "stream",
     "text": [
      "===> Initializing clients..\n"
     ]
    },
    {
     "name": "stderr",
     "output_type": "stream",
     "text": [
      "100%|██████████| 20/20 [00:00<00:00, 22.34it/s]\n"
     ]
    },
    {
     "name": "stdout",
     "output_type": "stream",
     "text": [
      "updating adv data set\n",
      "Test acc:  0.7278571456670762 adv acc:  0.37928572073578837\n"
     ]
    },
    {
     "name": "stderr",
     "output_type": "stream",
     "text": [
      "/home/ubuntu/fedatk_unl_tj/learners/learner.py:192: UserWarning: The use of `x.T` on tensors of dimension other than 2 to reverse their shape is deprecated and it will throw an error in a future release. Consider `x.mT` to transpose batches of matrices or `x.permute(*torch.arange(x.ndim - 1, -1, -1))` to reverse the dimensions of a tensor. (Triggered internally at ../aten/src/ATen/native/TensorShape.cpp:3683.)\n",
      "  loss = (loss_vec.T @ weights[indices]) / loss_vec.size(0)\n"
     ]
    },
    {
     "name": "stdout",
     "output_type": "stream",
     "text": [
      "round 0 Test acc:  0.7007142901420593 adv acc:  0.342142865806818\n",
      "round 1 Test acc:  0.7150000035762787 adv acc:  0.3278571508824825\n",
      "round 2 Test acc:  0.7385714322328567 adv acc:  0.3742857202887535\n",
      "round 3 Test acc:  0.7285714358091354 adv acc:  0.3778571493923664\n",
      "round 4 Test acc:  0.7421428620815277 adv acc:  0.2942857228219509\n",
      "round 5 Test acc:  0.7528571397066116 adv acc:  0.292857151478529\n",
      "round 6 Test acc:  0.7599999964237213 adv acc:  0.2857142947614193\n",
      "round 7 Test acc:  0.7671428591012954 adv acc:  0.2814285807311535\n",
      "round 8 Test acc:  0.7721428602933884 adv acc:  0.28214286640286446\n",
      "round 9 Test acc:  0.7699999958276749 adv acc:  0.28214286640286446\n",
      "round 10 Test acc:  0.773571428656578 adv acc:  0.28071429431438444\n",
      "round 11 Test acc:  0.7757142812013627 adv acc:  0.28071429282426835\n",
      "round 12 Test acc:  0.7778571367263794 adv acc:  0.27857143580913546\n",
      "round 13 Test acc:  0.7757142812013627 adv acc:  0.2792857214808464\n",
      "round 14 Test acc:  0.7764285683631897 adv acc:  0.2800000078976154\n",
      "round 15 Test acc:  0.7728571414947509 adv acc:  0.2821428649127483\n",
      "round 16 Test acc:  0.7735714256763458 adv acc:  0.2800000078976154\n",
      "round 17 Test acc:  0.7721428573131561 adv acc:  0.28142857998609544\n",
      "round 18 Test acc:  0.7707142859697342 adv acc:  0.2800000086426735\n",
      "round 19 Test acc:  0.7699999988079071 adv acc:  0.28142857998609544\n",
      "Test acc:  0.7278571456670762 adv acc:  0.37928572073578837\n",
      "round 0 Test acc:  0.7314285725355149 adv acc:  0.37071429267525674\n",
      "round 1 Test acc:  0.7314285695552826 adv acc:  0.36071429327130317\n",
      "round 2 Test acc:  0.73285713493824 adv acc:  0.35285715088248254\n",
      "round 3 Test acc:  0.73285713493824 adv acc:  0.3485714368522167\n",
      "round 4 Test acc:  0.7342857092618942 adv acc:  0.342142865806818\n",
      "round 5 Test acc:  0.7342857122421265 adv acc:  0.33428572192788125\n",
      "round 6 Test acc:  0.7357142865657806 adv acc:  0.3307142935693264\n",
      "round 7 Test acc:  0.7357142865657806 adv acc:  0.32500000670552254\n",
      "round 8 Test acc:  0.7357142835855484 adv acc:  0.32285714969038964\n",
      "round 9 Test acc:  0.7414285689592361 adv acc:  0.3171428643167019\n",
      "round 10 Test acc:  0.7414285689592361 adv acc:  0.3185714356601238\n",
      "round 11 Test acc:  0.7428571373224259 adv acc:  0.3121428646147251\n",
      "round 12 Test acc:  0.743571424484253 adv acc:  0.31000000759959223\n",
      "round 13 Test acc:  0.7464285731315613 adv acc:  0.3085714362561703\n",
      "round 14 Test acc:  0.7507142931222915 adv acc:  0.3121428653597832\n",
      "round 15 Test acc:  0.7528571486473083 adv acc:  0.30857143700122835\n",
      "round 16 Test acc:  0.7557142853736878 adv acc:  0.31071429401636125\n",
      "round 17 Test acc:  0.7564285725355149 adv acc:  0.3071428656578064\n",
      "round 18 Test acc:  0.7578571438789368 adv acc:  0.30785715132951735\n",
      "round 19 Test acc:  0.7642857104539871 adv acc:  0.3050000101327896\n",
      "Test acc:  0.7278571456670762 adv acc:  0.3821428634226322\n",
      "round 0 Test acc:  0.7321428537368775 adv acc:  0.35285715088248254\n",
      "round 1 Test acc:  0.7364285707473754 adv acc:  0.33714286535978316\n",
      "round 2 Test acc:  0.7428571373224259 adv acc:  0.32714286521077157\n",
      "round 3 Test acc:  0.746428570151329 adv acc:  0.31785714998841286\n",
      "round 4 Test acc:  0.7500000029802323 adv acc:  0.31285715028643607\n",
      "round 5 Test acc:  0.753571429848671 adv acc:  0.3071428656578064\n",
      "round 6 Test acc:  0.7542857110500336 adv acc:  0.3050000086426735\n",
      "round 7 Test acc:  0.7557142853736878 adv acc:  0.2992857232689857\n",
      "round 8 Test acc:  0.764999994635582 adv acc:  0.29785715118050576\n",
      "round 9 Test acc:  0.7692857056856155 adv acc:  0.29500000923871994\n",
      "round 10 Test acc:  0.7714285671710968 adv acc:  0.29357143864035606\n",
      "round 11 Test acc:  0.7678571403026581 adv acc:  0.295000009983778\n",
      "round 12 Test acc:  0.7735714316368103 adv acc:  0.2964285805821419\n",
      "round 13 Test acc:  0.7707142859697342 adv acc:  0.29642858132719996\n",
      "round 14 Test acc:  0.7664285600185394 adv acc:  0.29857143834233285\n",
      "round 15 Test acc:  0.7642857074737549 adv acc:  0.29785715267062185\n",
      "round 16 Test acc:  0.7642857104539871 adv acc:  0.29571429565548896\n",
      "round 17 Test acc:  0.7635714262723923 adv acc:  0.3000000096857548\n",
      "round 18 Test acc:  0.7600000023841857 adv acc:  0.3014285810291767\n",
      "round 19 Test acc:  0.7592857122421265 adv acc:  0.3000000096857548\n",
      "Test acc:  0.7278571456670762 adv acc:  0.38071429207921026\n",
      "round 0 Test acc:  0.7314285695552826 adv acc:  0.3714285783469677\n",
      "round 1 Test acc:  0.7314285695552826 adv acc:  0.3671428643167019\n",
      "round 2 Test acc:  0.7307142823934555 adv acc:  0.36357143595814706\n",
      "round 3 Test acc:  0.7314285635948181 adv acc:  0.36142857894301417\n",
      "round 4 Test acc:  0.7328571379184723 adv acc:  0.3535714365541935\n",
      "round 5 Test acc:  0.7342857152223587 adv acc:  0.3514285795390606\n",
      "round 6 Test acc:  0.7335714280605317 adv acc:  0.3471428655087948\n",
      "round 7 Test acc:  0.7335714280605317 adv acc:  0.34357143715023997\n",
      "round 8 Test acc:  0.7335714280605317 adv acc:  0.3428571499884129\n",
      "round 9 Test acc:  0.7357142865657806 adv acc:  0.33642857894301414\n",
      "round 10 Test acc:  0.7357142865657806 adv acc:  0.3321428641676903\n",
      "round 11 Test acc:  0.7335714250802994 adv acc:  0.32785715013742445\n",
      "round 12 Test acc:  0.7371428579092025 adv acc:  0.32571429312229155\n",
      "round 13 Test acc:  0.7385714262723923 adv acc:  0.32642857879400256\n",
      "round 14 Test acc:  0.7378571391105652 adv acc:  0.3242857217788696\n",
      "round 15 Test acc:  0.7414285689592361 adv acc:  0.3228571504354477\n",
      "round 16 Test acc:  0.7421428501605988 adv acc:  0.3200000077486038\n",
      "round 17 Test acc:  0.7449999958276748 adv acc:  0.3171428643167019\n",
      "round 18 Test acc:  0.7485714256763458 adv acc:  0.3200000077486038\n",
      "round 19 Test acc:  0.7500000029802323 adv acc:  0.3192857220768929\n"
     ]
    }
   ],
   "source": [
    "num_aru = [3, 3, 5, 5]\n",
    "beta_params = [0.05, 0.1, 0.1, 0.2]\n",
    "weight2_list = [0.3, 0.2, 0.3, 0.2]\n",
    "agg_options = [\"median_sublayers\", \"median_sublayers\", \"median_sublayers\", \"median_sublayers\"]\n",
    "\n",
    "median_layers = ['fc1.', 'fc1.', 'fc1.',  'fc1.'] # period is important \n",
    "\n",
    "num_rounds = 20\n",
    "eps = eps_attack\n",
    "\n",
    "result_list = []\n",
    "for itt in range(len(num_aru)):\n",
    "    result_list += [{}]\n",
    "\n",
    "# setting, num_user = \"FedAvg_adv\", 20\n",
    "aggregator, clients, args_ = set_args(setting, num_user,  experiment = exp)\n",
    "\n",
    "agg_choice = random.choices(range(3),k=num_rounds)\n",
    "\n",
    "if True:\n",
    "    print(\"updating adv data set\")\n",
    "    # add adv dataset update\n",
    "    Fu = np.zeros(num_user)\n",
    "    Fu[0:10] = 1\n",
    "\n",
    "    # Setting evasion attack parameters\n",
    "    x_min = torch.min(clients[0].adv_nn.dataloader.x_data)\n",
    "    x_max = torch.max(clients[0].adv_nn.dataloader.x_data)\n",
    "    atk_params = PGD_Params()\n",
    "    atk_params.set_params(batch_size=1, iteration = 10,\n",
    "                    target = -1, x_val_min = x_min, x_val_max = x_max,\n",
    "                    step_size = 0.05, step_norm = \"inf\", eps = eps, eps_norm = 2)\n",
    "\n",
    "    # Assign proportion and attack params\n",
    "    for c in range(len(clients)):\n",
    "        if Fu[c] > 0:\n",
    "            aggregator.clients[c].set_adv_params(Fu[c], atk_params)\n",
    "            aggregator.clients[c].update_advnn()\n",
    "            aggregator.clients[c].assign_advdataset()\n",
    "\n",
    "for itt in range(len(beta_params)):\n",
    "    # Perform 50 rounds of FAT on FedAvg model \n",
    "    num_adv = num_aru[itt]\n",
    "    weight2 = 1/num_adv * weight2_list[itt]\n",
    "    adv_id = random.sample(range(num_user), num_adv) # excluding 0-9 as Fu = 1\n",
    "    beta = beta_params[itt]\n",
    "\n",
    "    test_acc_gather = []\n",
    "    adv_acc_gather = []\n",
    "    test_acc_std = []\n",
    "    adv_acc_std = []\n",
    "    cosine_gather_layers = np.zeros([num_rounds, len(desired_keys)])\n",
    "\n",
    "    aggregator.tm_rate = beta\n",
    "\n",
    "    # Test performance of aggregator on data \n",
    "    aggregator.load_state(dir_path = save_path_FedAvg_150R)\n",
    "    aggregator.update_clients()\n",
    "    model_FA = pull_model_from_agg(aggregator)\n",
    "    model_FA.eval()\n",
    "    acc, adv_acc = get_adv_acc(aggregator, model_FA, eps = eps)\n",
    "\n",
    "    # prev_model = copy.deepcopy(model_FA)\n",
    "\n",
    "    print(\"Test acc: \", np.mean(acc), \"adv acc: \", np.mean(adv_acc))\n",
    "    test_acc_gather+= [np.mean(acc)]\n",
    "    adv_acc_gather += [np.mean(adv_acc)]\n",
    "    test_acc_std += [np.std(acc)]\n",
    "    adv_acc_std += [np.std(adv_acc)]\n",
    "\n",
    "\n",
    "\n",
    "    for i in range(num_rounds):\n",
    "\n",
    "        # Per round Freq\n",
    "        aggregator.aggregation_op = agg_options[itt]\n",
    "\n",
    "        # aggregator.mix()\n",
    "        UNL_mix_novel(aggregator, adv_id, model_inject = model_Fedavg, keys = desired_keys, weight_scale_2 = weight2, dump_flag=False, tm_beta=beta, median_layers = median_layers)\n",
    "        model_overfit = pull_model_from_agg(aggregator)\n",
    "        model_overfit.eval()\n",
    "        acc, adv_acc = get_adv_acc(aggregator, model_overfit, eps = eps)\n",
    "\n",
    "        print(\"round\", i,\"Test acc: \", np.mean(acc), \"adv acc: \", np.mean(adv_acc))\n",
    "        test_acc_gather+= [np.mean(acc)]\n",
    "        adv_acc_gather += [np.mean(adv_acc)]\n",
    "        test_acc_std += [np.std(acc)]\n",
    "        adv_acc_std += [np.std(adv_acc)]\n",
    "        # prev_model = copy.deepcopy(model_overfit)\n",
    "\n",
    "        result_list[itt]['test_acc'] = copy.deepcopy(test_acc_gather)\n",
    "        result_list[itt]['adv_acc'] = copy.deepcopy(adv_acc_gather)\n",
    "        result_list[itt]['test_std'] = copy.deepcopy(test_acc_std)\n",
    "        result_list[itt]['adv_std'] = copy.deepcopy(adv_acc_std)\n",
    "        result_list[itt]['num_clients'] = num_adv\n",
    "        result_list[itt]['beta'] = beta\n",
    "        result_list[itt]['weight2'] = weight2_list[itt]\n",
    "        # Perform gradient direction gathering\n",
    "\n",
    "        del model_overfit\n",
    "        gc.collect()\n",
    "        torch.cuda.empty_cache()\n",
    "\n",
    "\n",
    "    "
   ]
  },
  {
   "cell_type": "code",
   "execution_count": 9,
   "metadata": {},
   "outputs": [],
   "source": [
    "import pickle\n",
    "\n",
    "a = result_list\n",
    "\n",
    "with open('saved_results/mixed_sweep/250128_5b_msub_arui_fnn.pk', 'wb') as handle:\n",
    "    pickle.dump(a, handle, protocol=pickle.HIGHEST_PROTOCOL)"
   ]
  },
  {
   "cell_type": "code",
   "execution_count": 7,
   "metadata": {},
   "outputs": [],
   "source": [
    "# with open('saved_results/mixed_sweep/250128_5b_msub_arui_fnn.pk', 'rb') as handle:\n",
    "#     result_list = pickle.load(handle)"
   ]
  },
  {
   "cell_type": "code",
   "execution_count": 10,
   "metadata": {},
   "outputs": [
    {
     "data": {
      "image/png": "[encoded data removed]",
      "text/plain": [
       "<Figure size 480x320 with 1 Axes>"
      ]
     },
     "metadata": {
      "needs_background": "light"
     },
     "output_type": "display_data"
    }
   ],
   "source": [
    "import matplotlib.pyplot as plt\n",
    "import numpy as np\n",
    "\n",
    "font = {'family' : 'normal',\n",
    "        'weight' : 'normal',\n",
    "        'size'   : 18}\n",
    "\n",
    "plt.rc('font', **font)\n",
    "plt.figure(dpi=80, figsize=(6,4))\n",
    "\n",
    "plot_settings = [[3, 0.05, 0.3], [3, 0.1, 0.2], [5, 0.1, 0.3], [5,0.2, 0.2]]\n",
    "\n",
    "# Generate some sample data\n",
    "x = range(num_rounds+1)  # 100 points from 0 to 10\n",
    "\n",
    "# Plotting the lines\n",
    "# plt.plot(x, y1, label='Test Acc')\n",
    "label_list = plot_settings\n",
    "for i in range(len(label_list)):\n",
    "    y = np.array(result_list[i]['adv_acc'])\n",
    "    error = np.array(result_list[i]['adv_std'])\n",
    "    plt.plot(x, y, label= str(label_list[i]))\n",
    "    plt.fill_between(x, y-error, y+error,\n",
    "    alpha=0.2)\n",
    "\n",
    "# Adding labels and title\n",
    "plt.xlabel('Injection Rounds')\n",
    "plt.ylabel('Adv. Acc. (Robustness)')\n",
    "plt.title('FakeNewsNet: ARU vs Hybrid Defense \\n Legend - [#ARU client, tm_param, β]', fontsize = 'medium')\n",
    "\n",
    "# Adding a legend\n",
    "plt.legend( loc=\"best\", fontsize=13)\n",
    "\n",
    "\n",
    "# Display the plot\n",
    "plt.show()\n"
   ]
  },
  {
   "cell_type": "raw",
   "metadata": {
    "vscode": {
     "languageId": "raw"
    }
   },
   "source": [
    "'saved_results/mixed_sweep/250127_5b_tm_arui.pk'\n",
    "plot_settings = [[5 ,0.05,0.3],[5 ,0.2, 0.05],[5, 0.2, 0.1], [10, 0.2, 0.15]]\n",
    "num_round = 15\n",
    "\n",
    "'saved_results/mixed_sweep/250127_5b_tm_arui_2.pk'\n",
    "plot_settings = [[5 ,0.05,0.3],[5 ,0.1, 0.2],[10, 0.1, 0.3], [10, 0.2, 0.2]]\n",
    "num_round = 20\n"
   ]
  }
 ],
 "metadata": {
  "kernelspec": {
   "display_name": "FedEM_env",
   "language": "python",
   "name": "python3"
  },
  "language_info": {
   "codemirror_mode": {
    "name": "ipython",
    "version": 3
   },
   "file_extension": ".py",
   "mimetype": "text/x-python",
   "name": "python",
   "nbconvert_exporter": "python",
   "pygments_lexer": "ipython3",
   "version": "3.9.6"
  }
 },
 "nbformat": 4,
 "nbformat_minor": 2
}
