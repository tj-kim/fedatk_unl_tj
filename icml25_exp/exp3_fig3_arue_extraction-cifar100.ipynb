{
 "cells": [
  {
   "cell_type": "markdown",
   "metadata": {},
   "source": [
    "Figure 3 analysis\n",
    "Performing ARU-E (Extractin part) showing that from robust FAT model we can obtain non-robust model"
   ]
  },
  {
   "cell_type": "code",
   "execution_count": 1,
   "metadata": {},
   "outputs": [
    {
     "name": "stdout",
     "output_type": "stream",
     "text": [
      "/home/ubuntu/fedatk_unl_tj\n"
     ]
    }
   ],
   "source": [
    "cd /home/ubuntu/fedatk_unl_tj/"
   ]
  },
  {
   "cell_type": "code",
   "execution_count": 2,
   "metadata": {},
   "outputs": [
    {
     "name": "stderr",
     "output_type": "stream",
     "text": [
      "/home/ubuntu/anaconda3/envs/FedEM_env/lib/python3.9/site-packages/pandas/core/computation/expressions.py:21: UserWarning: Pandas requires version '2.8.4' or newer of 'numexpr' (version '2.7.3' currently installed).\n",
      "  from pandas.core.computation.check import NUMEXPR_INSTALLED\n",
      "/home/ubuntu/anaconda3/envs/FedEM_env/lib/python3.9/site-packages/pandas/core/arrays/masked.py:60: UserWarning: Pandas requires version '1.3.6' or newer of 'bottleneck' (version '1.3.2' currently installed).\n",
      "  from pandas.core import (\n"
     ]
    }
   ],
   "source": [
    "# Import General Libraries\n",
    "import os\n",
    "import argparse\n",
    "import torch\n",
    "import copy\n",
    "import pickle\n",
    "import random\n",
    "import numpy as np\n",
    "import pandas as pd\n",
    "\n",
    "# Import FedEM based Libraries\n",
    "from utils.utils import *\n",
    "from utils.constants import *\n",
    "from utils.args import *\n",
    "from utils.util_notebooks import *\n",
    "from run_experiment import *\n",
    "from models import *\n",
    "\n",
    "# Import Transfer Attack\n",
    "from transfer_attacks.Personalized_NN import *\n",
    "from transfer_attacks.Params import *\n",
    "from transfer_attacks.Transferer import *\n",
    "from transfer_attacks.Args import *\n",
    "from transfer_attacks.TA_utils import *"
   ]
  },
  {
   "cell_type": "code",
   "execution_count": 3,
   "metadata": {},
   "outputs": [],
   "source": [
    "# Specify aggregation method, number of clients, and dataset\n",
    "setting, num_user = \"FedAvg_adv\", 40\n",
    "exp = \"cifar100\"\n",
    "\n",
    "# Load models for FAT and FedAvg - write down path to where weights are saved\n",
    "save_path_FAT = '/home/ubuntu/fedatk_unl_tj/weights/cifar100/250123_icml25/FAT/'\n",
    "save_path_FedAvg =  '/home/ubuntu/fedatk_unl_tj/weights/cifar100/250123_icml25/FedAvg/'\n",
    "# save_path_FAT = '/home/ubuntu/fedatk_unl_tj/weights/fakenews/250119_small_architecture_moreconv/FAT_ep02/'\n",
    "# save_path_FedAvg =  '/home/ubuntu/fedatk_unl_tj/weights/fakenews/250119_small_architecture_moreconv/FedAvg/'\n",
    "\n",
    "# Attack parameters for performing PGD \n",
    "eps_attack = 4.0\n",
    "eps_train = 4.5\n",
    "step_size = 0.01\n",
    "steps = 10"
   ]
  },
  {
   "cell_type": "code",
   "execution_count": 4,
   "metadata": {},
   "outputs": [
    {
     "name": "stdout",
     "output_type": "stream",
     "text": [
      "==> Clients initialization..\n",
      "===> Building data iterators..\n"
     ]
    },
    {
     "name": "stderr",
     "output_type": "stream",
     "text": [
      " 39%|███▉      | 39/100 [00:00<00:00, 119.66it/s]\n"
     ]
    },
    {
     "name": "stdout",
     "output_type": "stream",
     "text": [
      "===> Initializing clients..\n"
     ]
    },
    {
     "name": "stderr",
     "output_type": "stream",
     "text": [
      "  0%|          | 0/40 [00:00<?, ?it/s]/home/ubuntu/anaconda3/envs/FedEM_env/lib/python3.9/site-packages/torchvision/models/_utils.py:208: UserWarning: The parameter 'pretrained' is deprecated since 0.13 and may be removed in the future, please use 'weights' instead.\n",
      "  warnings.warn(\n",
      "/home/ubuntu/anaconda3/envs/FedEM_env/lib/python3.9/site-packages/torchvision/models/_utils.py:223: UserWarning: Arguments other than a weight enum or `None` for 'weights' are deprecated since 0.13 and may be removed in the future. The current behavior is equivalent to passing `weights=MobileNet_V2_Weights.IMAGENET1K_V1`. You can also use `weights=MobileNet_V2_Weights.DEFAULT` to get the most up-to-date weights.\n",
      "  warnings.warn(msg)\n",
      "100%|██████████| 40/40 [00:17<00:00,  2.26it/s]\n",
      "/home/ubuntu/fedatk_unl_tj/aggregator.py:289: FutureWarning: You are using `torch.load` with `weights_only=False` (the current default value), which uses the default pickle module implicitly. It is possible to construct malicious pickle data which will execute arbitrary code during unpickling (See https://github.com/pytorch/pytorch/blob/main/SECURITY.md#untrusted-models for more details). In a future release, the default value for `weights_only` will be flipped to `True`. This limits the functions that could be executed during unpickling. Arbitrary objects will no longer be allowed to be loaded via this mode unless they are explicitly allowlisted by the user via `torch.serialization.add_safe_globals`. We recommend you start setting `weights_only=True` for any use case where you don't have full control of the loaded file. Please open an issue on GitHub for any issues related to this experimental feature.\n",
      "  learner.model.load_state_dict(torch.load(chkpts_path))\n"
     ]
    }
   ],
   "source": [
    "# Generate instance of aggregator that holds all clients, data and models and load relevant models in\n",
    "try: # Skip loading if already loaded\n",
    "    aggregator_og\n",
    "except:\n",
    "    aggregator_og, clients, args_ = set_args(setting, num_user,  experiment = exp) # Indicate dataset here\n",
    "\n",
    "model_FAT = copy.deepcopy(import_model_weights(num_user, setting, save_path_FAT, aggregator_og, args_)[0])\n",
    "model_Fedavg = copy.deepcopy(import_model_weights(num_user, setting, save_path_FedAvg, aggregator_og, args_)[0])\n",
    "\n",
    "# Obtain parameters for each layer\n",
    "params_FAT = model_FAT.state_dict()\n",
    "params_FedAvg = model_Fedavg.state_dict()\n",
    "\n",
    "# Just take the values of weights and bias for the model\n",
    "desired_keys = params_FAT.keys() # [key for key in params_FAT.keys() if 'weight' in key or 'bias' in key] # "
   ]
  },
  {
   "cell_type": "code",
   "execution_count": 10,
   "metadata": {},
   "outputs": [
    {
     "name": "stdout",
     "output_type": "stream",
     "text": [
      "==> Clients initialization..\n",
      "===> Building data iterators..\n"
     ]
    },
    {
     "name": "stderr",
     "output_type": "stream",
     "text": [
      "  0%|          | 0/100 [00:00<?, ?it/s]\n"
     ]
    },
    {
     "name": "stdout",
     "output_type": "stream",
     "text": [
      "===> Initializing clients..\n"
     ]
    },
    {
     "name": "stderr",
     "output_type": "stream",
     "text": [
      "  0%|          | 0/1 [00:00<?, ?it/s]/home/ubuntu/anaconda3/envs/FedEM_env/lib/python3.9/site-packages/torchvision/models/_utils.py:208: UserWarning: The parameter 'pretrained' is deprecated since 0.13 and may be removed in the future, please use 'weights' instead.\n",
      "  warnings.warn(\n",
      "/home/ubuntu/anaconda3/envs/FedEM_env/lib/python3.9/site-packages/torchvision/models/_utils.py:223: UserWarning: Arguments other than a weight enum or `None` for 'weights' are deprecated since 0.13 and may be removed in the future. The current behavior is equivalent to passing `weights=MobileNet_V2_Weights.IMAGENET1K_V1`. You can also use `weights=MobileNet_V2_Weights.DEFAULT` to get the most up-to-date weights.\n",
      "  warnings.warn(msg)\n",
      "100%|██████████| 1/1 [00:00<00:00,  3.14it/s]\n",
      "/home/ubuntu/fedatk_unl_tj/aggregator.py:289: FutureWarning: You are using `torch.load` with `weights_only=False` (the current default value), which uses the default pickle module implicitly. It is possible to construct malicious pickle data which will execute arbitrary code during unpickling (See https://github.com/pytorch/pytorch/blob/main/SECURITY.md#untrusted-models for more details). In a future release, the default value for `weights_only` will be flipped to `True`. This limits the functions that could be executed during unpickling. Arbitrary objects will no longer be allowed to be loaded via this mode unless they are explicitly allowlisted by the user via `torch.serialization.add_safe_globals`. We recommend you start setting `weights_only=True` for any use case where you don't have full control of the loaded file. Please open an issue on GitHub for any issues related to this experimental feature.\n",
      "  learner.model.load_state_dict(torch.load(chkpts_path))\n"
     ]
    },
    {
     "name": "stdout",
     "output_type": "stream",
     "text": [
      "round 0 Test acc:  0.41374999955296515 ( 0.06748327841049037 ) adv acc:  0.10645833485759795 ( 0.036299653979713846 )\n",
      "round 1 Test acc:  0.3341666668653488 ( 0.06475916981403156 ) adv acc:  0.07541666841134428 ( 0.03554877318309901 )\n",
      "round 2 Test acc:  0.19541666777804495 ( 0.059627022141860046 ) adv acc:  0.03583333441056311 ( 0.018181187210463943 )\n",
      "round 3 Test acc:  0.16395833427086473 ( 0.06822113382824817 ) adv acc:  0.024375000759027897 ( 0.01975435127027905 )\n",
      "round 4 Test acc:  0.1483333345502615 ( 0.07017339519515708 ) adv acc:  0.02708333432674408 ( 0.023917538398313072 )\n",
      "round 5 Test acc:  0.1266666676849127 ( 0.06788470492013768 ) adv acc:  0.02208333418238908 ( 0.021534049987389177 )\n",
      "round 6 Test acc:  0.14645833484828472 ( 0.07112409739863758 ) adv acc:  0.02708333416376263 ( 0.024349167809423623 )\n",
      "round 7 Test acc:  0.15583333438262342 ( 0.07171509937545735 ) adv acc:  0.030000000772997738 ( 0.027876214871479583 )\n",
      "round 8 Test acc:  0.1583333340473473 ( 0.07465196772238782 ) adv acc:  0.029583334270864726 ( 0.025883687966808237 )\n",
      "round 9 Test acc:  0.16270833425223827 ( 0.07575974913909816 ) adv acc:  0.029791667545214295 ( 0.0271880990903746 )\n",
      "round 10 Test acc:  0.16416666749864817 ( 0.07324805616150734 ) adv acc:  0.028125001047737897 ( 0.024557720440952963 )\n",
      "==> Clients initialization..\n",
      "===> Building data iterators..\n"
     ]
    },
    {
     "name": "stderr",
     "output_type": "stream",
     "text": [
      "  2%|▏         | 2/100 [00:00<00:00, 302.55it/s]\n"
     ]
    },
    {
     "name": "stdout",
     "output_type": "stream",
     "text": [
      "===> Initializing clients..\n"
     ]
    },
    {
     "name": "stderr",
     "output_type": "stream",
     "text": [
      "100%|██████████| 3/3 [00:00<00:00,  3.66it/s]\n"
     ]
    },
    {
     "name": "stdout",
     "output_type": "stream",
     "text": [
      "round 0 Test acc:  0.41374999955296515 ( 0.06748327841049037 ) adv acc:  0.10666666841134428 ( 0.03690264896912777 )\n",
      "round 1 Test acc:  0.37958333306014536 ( 0.07112562269050784 ) adv acc:  0.08708333503454924 ( 0.03554877292220615 )\n",
      "round 2 Test acc:  0.29166666604578495 ( 0.06777720763340697 ) adv acc:  0.05291666784323752 ( 0.030649791579976805 )\n",
      "round 3 Test acc:  0.25874999836087226 ( 0.08169110930018618 ) adv acc:  0.03937500109896064 ( 0.02548062355093794 )\n",
      "round 4 Test acc:  0.24833333268761634 ( 0.08023835971563659 ) adv acc:  0.03666666774079204 ( 0.031224990815194927 )\n",
      "round 5 Test acc:  0.24687499925494194 ( 0.0809811233933494 ) adv acc:  0.035625000833533704 ( 0.029638300098423314 )\n",
      "round 6 Test acc:  0.2575000016018748 ( 0.07903058484124574 ) adv acc:  0.037708334252238275 ( 0.030275787009226618 )\n",
      "round 7 Test acc:  0.2658333331346512 ( 0.07968688726345452 ) adv acc:  0.0381250009406358 ( 0.028191280287756786 )\n",
      "round 8 Test acc:  0.2672916665673256 ( 0.07704137328595421 ) adv acc:  0.038750001275911924 ( 0.0322506467005571 )\n",
      "round 9 Test acc:  0.26833333261311054 ( 0.07521266221429858 ) adv acc:  0.040000001131556925 ( 0.03355137099757973 )\n",
      "round 10 Test acc:  0.27187500074505805 ( 0.07838844609835645 ) adv acc:  0.04083333432208747 ( 0.03253203555037501 )\n",
      "==> Clients initialization..\n",
      "===> Building data iterators..\n"
     ]
    },
    {
     "name": "stderr",
     "output_type": "stream",
     "text": [
      "  4%|▍         | 4/100 [00:00<00:00, 176.29it/s]\n"
     ]
    },
    {
     "name": "stdout",
     "output_type": "stream",
     "text": [
      "===> Initializing clients..\n"
     ]
    },
    {
     "name": "stderr",
     "output_type": "stream",
     "text": [
      "100%|██████████| 5/5 [00:01<00:00,  3.52it/s]\n"
     ]
    },
    {
     "name": "stdout",
     "output_type": "stream",
     "text": [
      "round 0 Test acc:  0.41374999955296515 ( 0.06748327841049037 ) adv acc:  0.10666666864417493 ( 0.03699662169351098 )\n",
      "round 1 Test acc:  0.3858333326876163 ( 0.07282017302149955 ) adv acc:  0.08875000164844096 ( 0.03372426986017311 )\n",
      "round 2 Test acc:  0.3327083334326744 ( 0.07419445915500689 ) adv acc:  0.06687500192783773 ( 0.0269701164832872 )\n",
      "round 3 Test acc:  0.31979166604578496 ( 0.07256911332115246 ) adv acc:  0.05416666793171317 ( 0.03106892034070763 )\n",
      "round 4 Test acc:  0.31395833380520344 ( 0.0757460010721574 ) adv acc:  0.044375001033768055 ( 0.027156152464310464 )\n",
      "round 5 Test acc:  0.31124999895691874 ( 0.0741514493303247 ) adv acc:  0.04000000099185854 ( 0.027335366256876117 )\n",
      "round 6 Test acc:  0.3204166658222675 ( 0.07703151282500409 ) adv acc:  0.04000000110827386 ( 0.027208046656103484 )\n",
      "round 7 Test acc:  0.3266666684299707 ( 0.08045444008520525 ) adv acc:  0.042500001308508215 ( 0.02647063406537949 )\n",
      "round 8 Test acc:  0.3308333341032267 ( 0.0823314772727313 ) adv acc:  0.04250000109896064 ( 0.026007477860202768 )\n",
      "round 9 Test acc:  0.32937500029802325 ( 0.07830645705579596 ) adv acc:  0.04270833455957472 ( 0.02583249366211145 )\n",
      "round 10 Test acc:  0.3308333341032267 ( 0.07800017984100542 ) adv acc:  0.04270833460614085 ( 0.026496037035926994 )\n",
      "==> Clients initialization..\n",
      "===> Building data iterators..\n"
     ]
    },
    {
     "name": "stderr",
     "output_type": "stream",
     "text": [
      "  9%|▉         | 9/100 [00:00<00:00, 212.61it/s]\n"
     ]
    },
    {
     "name": "stdout",
     "output_type": "stream",
     "text": [
      "===> Initializing clients..\n"
     ]
    },
    {
     "name": "stderr",
     "output_type": "stream",
     "text": [
      "100%|██████████| 10/10 [00:02<00:00,  3.39it/s]\n"
     ]
    },
    {
     "name": "stdout",
     "output_type": "stream",
     "text": [
      "round 0 Test acc:  0.41374999955296515 ( 0.06748327841049037 ) adv acc:  0.1064583349507302 ( 0.037010110356615895 )\n",
      "round 1 Test acc:  0.3914583336561918 ( 0.06812181674694207 ) adv acc:  0.08916666838340462 ( 0.030629959867588548 )\n",
      "round 2 Test acc:  0.34812499955296516 ( 0.06480439212903111 ) adv acc:  0.06583333523012698 ( 0.03128054144079444 )\n",
      "round 3 Test acc:  0.3431250028312206 ( 0.059566942205265795 ) adv acc:  0.061458334675990045 ( 0.03160561599736673 )\n",
      "round 4 Test acc:  0.3464583341032267 ( 0.06598314776704182 ) adv acc:  0.06041666835080832 ( 0.03204543302902148 )\n",
      "round 5 Test acc:  0.34395833387970925 ( 0.07300560155325181 ) adv acc:  0.053958334820345046 ( 0.02674386635372104 )\n",
      "round 6 Test acc:  0.3518749989569187 ( 0.0676101859946828 ) adv acc:  0.054375001415610316 ( 0.027002282963425012 )\n",
      "round 7 Test acc:  0.35645833164453505 ( 0.07172205933253031 ) adv acc:  0.055000001564621925 ( 0.027118567235276888 )\n",
      "round 8 Test acc:  0.3566666696220636 ( 0.06977642732868551 ) adv acc:  0.056458334694616495 ( 0.02889681747122364 )\n",
      "round 9 Test acc:  0.36020833626389503 ( 0.07382146908723111 ) adv acc:  0.05583333468530327 ( 0.026951603097313113 )\n",
      "round 10 Test acc:  0.36062500104308126 ( 0.07281510637734923 ) adv acc:  0.05562500136438757 ( 0.027156152454843593 )\n"
     ]
    }
   ],
   "source": [
    "# Perform 50 rounds of full overfitting on benign data on 200R FAT model\n",
    "num_rounds = 10\n",
    "num_users = [1,3,5,10]\n",
    "\n",
    "test_acc_gather = {}\n",
    "adv_acc_gather = {}\n",
    "test_acc_std_gather = {}\n",
    "adv_acc_std_gather = {}\n",
    "\n",
    "peturb_prop = 0.3\n",
    "cutoff_round = 5\n",
    "\n",
    "\n",
    "# save_path_FAT150 = '/home/ubuntu/fedatk_unl_tj/weights/cifar10/250123_icml25/FAT_R50/'\n",
    "\n",
    "for num_user in num_users:\n",
    "    aggregator, clients, args_ = set_args(setting, num_user,  experiment = exp)\n",
    "\n",
    "    test_acc_gather[num_user] = []\n",
    "    adv_acc_gather[num_user] = []\n",
    "    test_acc_std_gather[num_user] = []\n",
    "    adv_acc_std_gather[num_user] = []\n",
    "    \n",
    "    # Test performance of aggregator on data \n",
    "    aggregator.load_state(dir_path=save_path_FAT)\n",
    "    aggregator.update_clients()\n",
    "    \n",
    "    # Trim number of clients\n",
    "    aggregator.clients = aggregator.clients[0:num_user]\n",
    "    aggregator.clients_weights = np.divide(aggregator.clients_weights[0:num_user],np.sum(aggregator.clients_weights[0:num_user].numpy()))\n",
    "    aggregator.n_clients_per_round = num_user\n",
    "    \n",
    "    model_FAT = pull_model_from_agg(aggregator)\n",
    "    model_FAT.eval()\n",
    "\n",
    "    \n",
    "    # Add standard deviation\n",
    "    acc, adv_acc = get_adv_acc(aggregator_og, model_FAT)\n",
    "\n",
    "    print(\"round\", 0 ,\"Test acc: \", np.mean(acc), \"(\", np.std(acc),\")\", \"adv acc: \", \n",
    "                  np.mean(adv_acc), \"(\", np.std(adv_acc),\")\")\n",
    "    test_acc_gather[num_user] += [np.mean(acc)]\n",
    "    adv_acc_gather[num_user] += [np.mean(adv_acc)]\n",
    "    test_acc_std_gather[num_user] += [np.std(acc)]\n",
    "    adv_acc_std_gather[num_user] += [np.std(adv_acc)]\n",
    "    \n",
    "    # Setting evasion attack parameters\n",
    "    x_min = torch.min(clients[0].adv_nn.dataloader.x_data)\n",
    "    x_max = torch.max(clients[0].adv_nn.dataloader.x_data)\n",
    "    atk_params = PGD_Params()\n",
    "    atk_params.set_params(batch_size=1, iteration = 5,\n",
    "                    target = -1, x_val_min = x_min, x_val_max = x_max,\n",
    "                    step_size = 0.05, step_norm = \"inf\", eps = 4.5, eps_norm = 2)\n",
    "    \n",
    "    #  Assign proportion and attack params\n",
    "    if True:\n",
    "        for c in aggregator.clients:\n",
    "            c.unlearning_flag = True\n",
    "            \n",
    "    for i in range(len(aggregator.clients)):\n",
    "        aggregator.clients[i].set_adv_params(peturb_prop, atk_params)\n",
    "        aggregator.clients[i].update_advnn()\n",
    "        aggregator.clients[i].assign_advdataset()\n",
    "    \n",
    "    for round in range(1,num_rounds+1):\n",
    "        \n",
    "        aggregator.mix()\n",
    "        model_overfit = pull_model_from_agg(aggregator)\n",
    "        \n",
    "        if round%1 == 0:\n",
    "            \n",
    "            if round <= cutoff_round:\n",
    "                for i in range(len(aggregator.clients)):\n",
    "                    aggregator.clients[i].set_adv_params(peturb_prop, atk_params)\n",
    "                    aggregator.clients[i].update_advnn()\n",
    "                    aggregator.clients[i].assign_advdataset()\n",
    "            else:\n",
    "                for i in range(len(aggregator.clients)):\n",
    "                    aggregator.clients[i].reset_dataset()\n",
    "                \n",
    "\n",
    "            model_overfit.eval()\n",
    "            acc, adv_acc = get_adv_acc(aggregator_og, model_overfit)\n",
    "\n",
    "            print(\"round\", round,\"Test acc: \", np.mean(acc), \"(\", np.std(acc),\")\", \"adv acc: \", \n",
    "                  np.mean(adv_acc), \"(\", np.std(adv_acc),\")\")\n",
    "            test_acc_gather[num_user] += [np.mean(acc)]\n",
    "            adv_acc_gather[num_user] += [np.mean(adv_acc)]\n",
    "            test_acc_std_gather[num_user] += [np.std(acc)]\n",
    "            adv_acc_std_gather[num_user] += [np.std(adv_acc)]\n",
    "\n",
    "    del aggregator, clients, args_\n",
    "    gc.collect()\n",
    "    torch.cuda.empty_cache()\n"
   ]
  },
  {
   "cell_type": "code",
   "execution_count": 11,
   "metadata": {},
   "outputs": [
    {
     "data": {
      "image/png": "[encoded data removed]",
      "text/plain": [
       "<Figure size 480x320 with 1 Axes>"
      ]
     },
     "metadata": {
      "needs_background": "light"
     },
     "output_type": "display_data"
    }
   ],
   "source": [
    "\n",
    "# Initialize a new figure\n",
    "plt.figure(figsize=(6, 4), dpi=80)\n",
    "\n",
    "# X-axis values: 0 to 30 in intervals of 5 (7 points)\n",
    "x_values = np.arange(0, 11, 1)\n",
    "\n",
    "# Define a colormap\n",
    "colors = plt.get_cmap(\"tab10\").colors\n",
    "\n",
    "# Iterate over each num_user key\n",
    "for i, num_user in enumerate(test_acc_gather.keys()):\n",
    "    # Extract corresponding data for each num_user\n",
    "    test_acc = test_acc_gather[num_user]\n",
    "    adv_acc = adv_acc_gather[num_user]\n",
    "    test_acc_std = test_acc_std_gather[num_user]\n",
    "    adv_acc_std = adv_acc_std_gather[num_user]\n",
    "    \n",
    "    # Get the color for this line\n",
    "    color = colors[i]\n",
    "    \n",
    "    # Plot test accuracy with standard deviation\n",
    "    plt.plot(x_values, test_acc, label=f'Num User={num_user}', color=color)\n",
    "    plt.fill_between(x_values, np.array(test_acc) - np.array(test_acc_std),\n",
    "                     np.array(test_acc) + np.array(test_acc_std), color=color, alpha=0.2)\n",
    "    \n",
    "    # Plot adversarial accuracy with standard deviation (dotted line)\n",
    "    plt.plot(x_values, adv_acc, linestyle='--', color=color)\n",
    "    plt.fill_between(x_values, np.array(adv_acc) - np.array(adv_acc_std),\n",
    "                     np.array(adv_acc) + np.array(adv_acc_std), color=color, alpha=0.2)\n",
    "\n",
    "# Add title and labels with increased font size\n",
    "plt.title('CIFAR-100: ARU Extraction from FAT Model', fontsize=16)\n",
    "plt.xlabel('Rounds of Extraction', fontsize=14)\n",
    "plt.ylabel('Accuracy', fontsize=14)\n",
    "\n",
    "# Combine legend to remove duplicates and label clarity with larger font\n",
    "plt.legend(loc='best', fontsize=12)\n",
    "\n",
    "# Increase tick label font size\n",
    "plt.xticks(fontsize=12)\n",
    "plt.yticks(fontsize=12)\n",
    "\n",
    "\n",
    "# Show the plot\n",
    "plt.show()"
   ]
  },
  {
   "cell_type": "raw",
   "metadata": {
    "vscode": {
     "languageId": "raw"
    }
   },
   "source": [
    "4%|▍         | 4/100 [00:00<00:00, 154.69it/s]\n",
    "===> Initializing clients..\n",
    "100%|██████████| 5/5 [00:01<00:00,  3.62it/s]\n",
    "round 0 Test acc:  0.41374999955296515 ( 0.06748327841049037 ) adv acc:  0.1068750020582229 ( 0.037954994675497275 )\n",
    "round 1 Test acc:  0.3560416683554649 ( 0.060724429645589016 ) adv acc:  0.07145833489485084 ( 0.031396185503364114 )\n",
    "round 2 Test acc:  0.2406249985098839 ( 0.06433925526528529 ) adv acc:  0.0366666677640751 ( 0.023629078616386877 )\n",
    "round 3 Test acc:  0.22354166600853204 ( 0.06026237316144901 ) adv acc:  0.029375000949949027 ( 0.021326456137291224 )\n",
    "round 4 Test acc:  0.22416666746139527 ( 0.06689544112057778 ) adv acc:  0.02541666745673865 ( 0.018252663882110387 )\n",
    "round 5 Test acc:  0.24624999836087227 ( 0.07548339381015995 ) adv acc:  0.026875001029111445 ( 0.020706908711488635 )\n",
    "round 6 Test acc:  0.2637499975040555 ( 0.07595571551524363 ) adv acc:  0.03125000090803951 ( 0.02505202959494341 )\n",
    "round 7 Test acc:  0.27729166820645335 ( 0.0750228549247556 ) adv acc:  0.03166666754987091 ( 0.025358540575141152 )\n",
    "round 8 Test acc:  0.28458333425223825 ( 0.07408117733947796 ) adv acc:  0.03354166771750897 ( 0.024543577136387232 )\n",
    "round 9 Test acc:  0.2889583330601454 ( 0.06993021065269653 ) adv acc:  0.03666666767094284 ( 0.022500000368044896 )\n",
    "round 10 Test acc:  0.2895833317190409 ( 0.07138875133240455 ) adv acc:  0.03687500110827387 ( 0.022039067783994924 )\n",
    "==> Clients initialization..\n",
    "===> Building data iterators..\n",
    "  9%|▉         | 9/100 [00:00<00:00, 329.97it/s]\n",
    "===> Initializing clients..\n",
    "100%|██████████| 10/10 [00:02<00:00,  3.64it/s]\n",
    "round 0 Test acc:  0.41374999955296515 ( 0.06748327841049037 ) adv acc:  0.10666666808538139 ( 0.037323658976712026 )\n",
    "round 1 Test acc:  0.39499999955296516 ( 0.06779769825890437 ) adv acc:  0.0879166682716459 ( 0.035303741217251154 )\n",
    "round 2 Test acc:  0.35833333171904086 ( 0.06305310845498913 ) adv acc:  0.06687500176485628 ( 0.028836675800089463 )\n",
    "round 3 Test acc:  0.34666666723787787 ( 0.0648395444969308 ) adv acc:  0.057291668467223646 ( 0.02643043210908397 )\n",
    "round 4 Test acc:  0.3425000004470348 ( 0.06246665585870411 ) adv acc:  0.058333334908820686 ( 0.026087460041939323 )\n",
    "round 5 Test acc:  0.3302083361893892 ( 0.06769230387874334 ) adv acc:  0.052291667996905745 ( 0.028986796739672485 )\n",
    "round 6 Test acc:  0.34625000022351743 ( 0.07347878476936462 ) adv acc:  0.054166667792014775 ( 0.026938716448417492 )\n",
    "round 7 Test acc:  0.3524999998509884 ( 0.07372056745638388 ) adv acc:  0.056041668215766546 ( 0.027385336088422637 )\n",
    "round 8 Test acc:  0.35562500059604646 ( 0.07526313756580441 ) adv acc:  0.056666668271645904 ( 0.026365486885101767 )\n",
    "round 9 Test acc:  0.3560416653752327 ( 0.06927169510686607 ) adv acc:  0.057500001648440956 ( 0.02768874633782183 )\n",
    "round 10 Test acc:  0.35687499940395356 ( 0.06919395643421601 ) adv acc:  0.05520833497866988 ( 0.026397568777439335 )"
   ]
  },
  {
   "cell_type": "raw",
   "metadata": {
    "vscode": {
     "languageId": "raw"
    }
   },
   "source": [
    "CUTOFF = 5\n",
    "==> Clients initialization..\n",
    "===> Building data iterators..\n",
    "  0%|          | 0/100 [00:00<?, ?it/s]\n",
    "===> Initializing clients..\n",
    "  0%|          | 0/1 [00:00<?, ?it/s]/home/ubuntu/anaconda3/envs/FedEM_env/lib/python3.9/site-packages/torchvision/models/_utils.py:208: UserWarning: The parameter 'pretrained' is deprecated since 0.13 and may be removed in the future, please use 'weights' instead.\n",
    "  warnings.warn(\n",
    "/home/ubuntu/anaconda3/envs/FedEM_env/lib/python3.9/site-packages/torchvision/models/_utils.py:223: UserWarning: Arguments other than a weight enum or `None` for 'weights' are deprecated since 0.13 and may be removed in the future. The current behavior is equivalent to passing `weights=MobileNet_V2_Weights.IMAGENET1K_V1`. You can also use `weights=MobileNet_V2_Weights.DEFAULT` to get the most up-to-date weights.\n",
    "  warnings.warn(msg)\n",
    "100%|██████████| 1/1 [00:00<00:00,  3.14it/s]\n",
    "/home/ubuntu/fedatk_unl_tj/aggregator.py:289: FutureWarning: You are using `torch.load` with `weights_only=False` (the current default value), which uses the default pickle module implicitly. It is possible to construct malicious pickle data which will execute arbitrary code during unpickling (See https://github.com/pytorch/pytorch/blob/main/SECURITY.md#untrusted-models for more details). In a future release, the default value for `weights_only` will be flipped to `True`. This limits the functions that could be executed during unpickling. Arbitrary objects will no longer be allowed to be loaded via this mode unless they are explicitly allowlisted by the user via `torch.serialization.add_safe_globals`. We recommend you start setting `weights_only=True` for any use case where you don't have full control of the loaded file. Please open an issue on GitHub for any issues related to this experimental feature.\n",
    "  learner.model.load_state_dict(torch.load(chkpts_path))\n",
    "round 0 Test acc:  0.41374999955296515 ( 0.06748327841049037 ) adv acc:  0.10645833485759795 ( 0.036299653979713846 )\n",
    "round 1 Test acc:  0.3341666668653488 ( 0.06475916981403156 ) adv acc:  0.07541666841134428 ( 0.03554877318309901 )\n",
    "round 2 Test acc:  0.19541666777804495 ( 0.059627022141860046 ) adv acc:  0.03583333441056311 ( 0.018181187210463943 )\n",
    "round 3 Test acc:  0.16395833427086473 ( 0.06822113382824817 ) adv acc:  0.024375000759027897 ( 0.01975435127027905 )\n",
    "round 4 Test acc:  0.1483333345502615 ( 0.07017339519515708 ) adv acc:  0.02708333432674408 ( 0.023917538398313072 )\n",
    "round 5 Test acc:  0.1266666676849127 ( 0.06788470492013768 ) adv acc:  0.02208333418238908 ( 0.021534049987389177 )\n",
    "round 6 Test acc:  0.14645833484828472 ( 0.07112409739863758 ) adv acc:  0.02708333416376263 ( 0.024349167809423623 )\n",
    "round 7 Test acc:  0.15583333438262342 ( 0.07171509937545735 ) adv acc:  0.030000000772997738 ( 0.027876214871479583 )\n",
    "round 8 Test acc:  0.1583333340473473 ( 0.07465196772238782 ) adv acc:  0.029583334270864726 ( 0.025883687966808237 )\n",
    "round 9 Test acc:  0.16270833425223827 ( 0.07575974913909816 ) adv acc:  0.029791667545214295 ( 0.0271880990903746 )\n",
    "round 10 Test acc:  0.16416666749864817 ( 0.07324805616150734 ) adv acc:  0.028125001047737897 ( 0.024557720440952963 )\n",
    "==> Clients initialization..\n",
    "===> Building data iterators..\n",
    "  2%|▏         | 2/100 [00:00<00:00, 302.55it/s]\n",
    "===> Initializing clients..\n",
    "100%|██████████| 3/3 [00:00<00:00,  3.66it/s]\n",
    "round 0 Test acc:  0.41374999955296515 ( 0.06748327841049037 ) adv acc:  0.10666666841134428 ( 0.03690264896912777 )\n",
    "round 1 Test acc:  0.37958333306014536 ( 0.07112562269050784 ) adv acc:  0.08708333503454924 ( 0.03554877292220615 )\n",
    "round 2 Test acc:  0.29166666604578495 ( 0.06777720763340697 ) adv acc:  0.05291666784323752 ( 0.030649791579976805 )\n",
    "round 3 Test acc:  0.25874999836087226 ( 0.08169110930018618 ) adv acc:  0.03937500109896064 ( 0.02548062355093794 )\n",
    "round 4 Test acc:  0.24833333268761634 ( 0.08023835971563659 ) adv acc:  0.03666666774079204 ( 0.031224990815194927 )\n",
    "round 5 Test acc:  0.24687499925494194 ( 0.0809811233933494 ) adv acc:  0.035625000833533704 ( 0.029638300098423314 )\n",
    "round 6 Test acc:  0.2575000016018748 ( 0.07903058484124574 ) adv acc:  0.037708334252238275 ( 0.030275787009226618 )\n",
    "round 7 Test acc:  0.2658333331346512 ( 0.07968688726345452 ) adv acc:  0.0381250009406358 ( 0.028191280287756786 )\n",
    "round 8 Test acc:  0.2672916665673256 ( 0.07704137328595421 ) adv acc:  0.038750001275911924 ( 0.0322506467005571 )\n",
    "round 9 Test acc:  0.26833333261311054 ( 0.07521266221429858 ) adv acc:  0.040000001131556925 ( 0.03355137099757973 )\n",
    "round 10 Test acc:  0.27187500074505805 ( 0.07838844609835645 ) adv acc:  0.04083333432208747 ( 0.03253203555037501 )\n",
    "==> Clients initialization..\n",
    "===> Building data iterators..\n",
    "  4%|▍         | 4/100 [00:00<00:00, 176.29it/s]\n",
    "===> Initializing clients..\n",
    "100%|██████████| 5/5 [00:01<00:00,  3.52it/s]\n",
    "round 0 Test acc:  0.41374999955296515 ( 0.06748327841049037 ) adv acc:  0.10666666864417493 ( 0.03699662169351098 )\n",
    "round 1 Test acc:  0.3858333326876163 ( 0.07282017302149955 ) adv acc:  0.08875000164844096 ( 0.03372426986017311 )\n",
    "round 2 Test acc:  0.3327083334326744 ( 0.07419445915500689 ) adv acc:  0.06687500192783773 ( 0.0269701164832872 )\n",
    "round 3 Test acc:  0.31979166604578496 ( 0.07256911332115246 ) adv acc:  0.05416666793171317 ( 0.03106892034070763 )\n",
    "round 4 Test acc:  0.31395833380520344 ( 0.0757460010721574 ) adv acc:  0.044375001033768055 ( 0.027156152464310464 )\n",
    "round 5 Test acc:  0.31124999895691874 ( 0.0741514493303247 ) adv acc:  0.04000000099185854 ( 0.027335366256876117 )\n",
    "round 6 Test acc:  0.3204166658222675 ( 0.07703151282500409 ) adv acc:  0.04000000110827386 ( 0.027208046656103484 )\n",
    "round 7 Test acc:  0.3266666684299707 ( 0.08045444008520525 ) adv acc:  0.042500001308508215 ( 0.02647063406537949 )\n",
    "round 8 Test acc:  0.3308333341032267 ( 0.0823314772727313 ) adv acc:  0.04250000109896064 ( 0.026007477860202768 )\n",
    "round 9 Test acc:  0.32937500029802325 ( 0.07830645705579596 ) adv acc:  0.04270833455957472 ( 0.02583249366211145 )\n",
    "round 10 Test acc:  0.3308333341032267 ( 0.07800017984100542 ) adv acc:  0.04270833460614085 ( 0.026496037035926994 )\n",
    "==> Clients initialization..\n",
    "===> Building data iterators..\n",
    "  9%|▉         | 9/100 [00:00<00:00, 212.61it/s]\n",
    "===> Initializing clients..\n",
    "100%|██████████| 10/10 [00:02<00:00,  3.39it/s]\n",
    "round 0 Test acc:  0.41374999955296515 ( 0.06748327841049037 ) adv acc:  0.1064583349507302 ( 0.037010110356615895 )\n",
    "round 1 Test acc:  0.3914583336561918 ( 0.06812181674694207 ) adv acc:  0.08916666838340462 ( 0.030629959867588548 )\n",
    "round 2 Test acc:  0.34812499955296516 ( 0.06480439212903111 ) adv acc:  0.06583333523012698 ( 0.03128054144079444 )\n",
    "round 3 Test acc:  0.3431250028312206 ( 0.059566942205265795 ) adv acc:  0.061458334675990045 ( 0.03160561599736673 )\n",
    "round 4 Test acc:  0.3464583341032267 ( 0.06598314776704182 ) adv acc:  0.06041666835080832 ( 0.03204543302902148 )\n",
    "round 5 Test acc:  0.34395833387970925 ( 0.07300560155325181 ) adv acc:  0.053958334820345046 ( 0.02674386635372104 )\n",
    "round 6 Test acc:  0.3518749989569187 ( 0.0676101859946828 ) adv acc:  0.054375001415610316 ( 0.027002282963425012 )\n",
    "round 7 Test acc:  0.35645833164453505 ( 0.07172205933253031 ) adv acc:  0.055000001564621925 ( 0.027118567235276888 )\n",
    "round 8 Test acc:  0.3566666696220636 ( 0.06977642732868551 ) adv acc:  0.056458334694616495 ( 0.02889681747122364 )\n",
    "round 9 Test acc:  0.36020833626389503 ( 0.07382146908723111 ) adv acc:  0.05583333468530327 ( 0.026951603097313113 )\n",
    "round 10 Test acc:  0.36062500104308126 ( 0.07281510637734923 ) adv acc:  0.05562500136438757 ( 0.027156152454843593 )"
   ]
  },
  {
   "cell_type": "raw",
   "metadata": {},
   "source": []
  }
 ],
 "metadata": {
  "kernelspec": {
   "display_name": "FedEM_env",
   "language": "python",
   "name": "python3"
  },
  "language_info": {
   "codemirror_mode": {
    "name": "ipython",
    "version": 3
   },
   "file_extension": ".py",
   "mimetype": "text/x-python",
   "name": "python",
   "nbconvert_exporter": "python",
   "pygments_lexer": "ipython3",
   "version": "3.9.6"
  }
 },
 "nbformat": 4,
 "nbformat_minor": 4
}
