{
 "cells": [
  {
   "cell_type": "markdown",
   "metadata": {},
   "source": [
    "Figure 3 analysis\n",
    "Performing ARU-E (Extractin part) showing that from robust FAT model we can obtain non-robust model"
   ]
  },
  {
   "cell_type": "code",
   "execution_count": 1,
   "metadata": {},
   "outputs": [
    {
     "name": "stdout",
     "output_type": "stream",
     "text": [
      "/home/ubuntu/fedatk_unl_tj\n"
     ]
    }
   ],
   "source": [
    "cd /home/ubuntu/fedatk_unl_tj/"
   ]
  },
  {
   "cell_type": "code",
   "execution_count": 2,
   "metadata": {},
   "outputs": [
    {
     "name": "stderr",
     "output_type": "stream",
     "text": [
      "/home/ubuntu/anaconda3/envs/FedEM_env/lib/python3.9/site-packages/pandas/core/computation/expressions.py:21: UserWarning: Pandas requires version '2.8.4' or newer of 'numexpr' (version '2.7.3' currently installed).\n",
      "  from pandas.core.computation.check import NUMEXPR_INSTALLED\n",
      "/home/ubuntu/anaconda3/envs/FedEM_env/lib/python3.9/site-packages/pandas/core/arrays/masked.py:60: UserWarning: Pandas requires version '1.3.6' or newer of 'bottleneck' (version '1.3.2' currently installed).\n",
      "  from pandas.core import (\n"
     ]
    }
   ],
   "source": [
    "# Import General Libraries\n",
    "import os\n",
    "import argparse\n",
    "import torch\n",
    "import copy\n",
    "import pickle\n",
    "import random\n",
    "import numpy as np\n",
    "import pandas as pd\n",
    "\n",
    "# Import FedEM based Libraries\n",
    "from utils.utils import *\n",
    "from utils.constants import *\n",
    "from utils.args import *\n",
    "from utils.util_notebooks import *\n",
    "from run_experiment import *\n",
    "from models import *\n",
    "\n",
    "# Import Transfer Attack\n",
    "from transfer_attacks.Personalized_NN import *\n",
    "from transfer_attacks.Params import *\n",
    "from transfer_attacks.Transferer import *\n",
    "from transfer_attacks.Args import *\n",
    "from transfer_attacks.TA_utils import *"
   ]
  },
  {
   "cell_type": "code",
   "execution_count": 3,
   "metadata": {},
   "outputs": [],
   "source": [
    "# Specify aggregation method, number of clients, and dataset\n",
    "setting, num_user = \"FedAvg_adv\", 40\n",
    "exp = \"cifar10\"\n",
    "\n",
    "# Load models for FAT and FedAvg - write down path to where weights are saved\n",
    "save_path_FAT = '/home/ubuntu/fedatk_unl_tj/weights/cifar10/250123_icml25/FAT/'\n",
    "save_path_FedAvg =  '/home/ubuntu/fedatk_unl_tj/weights/cifar10/250123_icml25/FedAvg/'\n",
    "# save_path_FAT = '/home/ubuntu/fedatk_unl_tj/weights/fakenews/250119_small_architecture_moreconv/FAT_ep02/'\n",
    "# save_path_FedAvg =  '/home/ubuntu/fedatk_unl_tj/weights/fakenews/250119_small_architecture_moreconv/FedAvg/'\n",
    "\n",
    "# Attack parameters for performing PGD \n",
    "eps_attack = 4.0\n",
    "eps_train = 4.5\n",
    "step_size = 0.01\n",
    "steps = 10"
   ]
  },
  {
   "cell_type": "code",
   "execution_count": 4,
   "metadata": {},
   "outputs": [
    {
     "name": "stdout",
     "output_type": "stream",
     "text": [
      "==> Clients initialization..\n",
      "===> Building data iterators..\n"
     ]
    },
    {
     "name": "stderr",
     "output_type": "stream",
     "text": [
      " 49%|████▉     | 39/80 [00:00<00:00, 116.04it/s]\n"
     ]
    },
    {
     "name": "stdout",
     "output_type": "stream",
     "text": [
      "===> Initializing clients..\n"
     ]
    },
    {
     "name": "stderr",
     "output_type": "stream",
     "text": [
      "  0%|          | 0/40 [00:00<?, ?it/s]/home/ubuntu/anaconda3/envs/FedEM_env/lib/python3.9/site-packages/torchvision/models/_utils.py:208: UserWarning: The parameter 'pretrained' is deprecated since 0.13 and may be removed in the future, please use 'weights' instead.\n",
      "  warnings.warn(\n",
      "/home/ubuntu/anaconda3/envs/FedEM_env/lib/python3.9/site-packages/torchvision/models/_utils.py:223: UserWarning: Arguments other than a weight enum or `None` for 'weights' are deprecated since 0.13 and may be removed in the future. The current behavior is equivalent to passing `weights=MobileNet_V2_Weights.IMAGENET1K_V1`. You can also use `weights=MobileNet_V2_Weights.DEFAULT` to get the most up-to-date weights.\n",
      "  warnings.warn(msg)\n",
      "100%|██████████| 40/40 [00:17<00:00,  2.31it/s]\n",
      "/home/ubuntu/fedatk_unl_tj/aggregator.py:289: FutureWarning: You are using `torch.load` with `weights_only=False` (the current default value), which uses the default pickle module implicitly. It is possible to construct malicious pickle data which will execute arbitrary code during unpickling (See https://github.com/pytorch/pytorch/blob/main/SECURITY.md#untrusted-models for more details). In a future release, the default value for `weights_only` will be flipped to `True`. This limits the functions that could be executed during unpickling. Arbitrary objects will no longer be allowed to be loaded via this mode unless they are explicitly allowlisted by the user via `torch.serialization.add_safe_globals`. We recommend you start setting `weights_only=True` for any use case where you don't have full control of the loaded file. Please open an issue on GitHub for any issues related to this experimental feature.\n",
      "  learner.model.load_state_dict(torch.load(chkpts_path))\n"
     ]
    }
   ],
   "source": [
    "# Generate instance of aggregator that holds all clients, data and models and load relevant models in\n",
    "try: # Skip loading if already loaded\n",
    "    aggregator_og\n",
    "except:\n",
    "    aggregator_og, clients, args_ = set_args(setting, num_user,  experiment = exp) # Indicate dataset here\n",
    "\n",
    "model_FAT = copy.deepcopy(import_model_weights(num_user, setting, save_path_FAT, aggregator_og, args_)[0])\n",
    "model_Fedavg = copy.deepcopy(import_model_weights(num_user, setting, save_path_FedAvg, aggregator_og, args_)[0])\n",
    "\n",
    "# Obtain parameters for each layer\n",
    "params_FAT = model_FAT.state_dict()\n",
    "params_FedAvg = model_Fedavg.state_dict()\n",
    "\n",
    "# Just take the values of weights and bias for the model\n",
    "desired_keys = params_FAT.keys() # [key for key in params_FAT.keys() if 'weight' in key or 'bias' in key] # "
   ]
  },
  {
   "cell_type": "code",
   "execution_count": 5,
   "metadata": {},
   "outputs": [
    {
     "name": "stdout",
     "output_type": "stream",
     "text": [
      "==> Clients initialization..\n",
      "===> Building data iterators..\n"
     ]
    },
    {
     "name": "stderr",
     "output_type": "stream",
     "text": [
      "  0%|          | 0/80 [00:00<?, ?it/s]\n"
     ]
    },
    {
     "name": "stdout",
     "output_type": "stream",
     "text": [
      "===> Initializing clients..\n"
     ]
    },
    {
     "name": "stderr",
     "output_type": "stream",
     "text": [
      "100%|██████████| 1/1 [00:00<00:00,  3.79it/s]\n"
     ]
    },
    {
     "name": "stdout",
     "output_type": "stream",
     "text": [
      "round 0 Test acc:  0.8043750002980232 ( 0.06334121691144534 ) adv acc:  0.4249999962747097 ( 0.11401753808272846 )\n"
     ]
    },
    {
     "name": "stderr",
     "output_type": "stream",
     "text": [
      "/home/ubuntu/fedatk_unl_tj/learners/learner.py:192: UserWarning: The use of `x.T` on tensors of dimension other than 2 to reverse their shape is deprecated and it will throw an error in a future release. Consider `x.mT` to transpose batches of matrices or `x.permute(*torch.arange(x.ndim - 1, -1, -1))` to reverse the dimensions of a tensor. (Triggered internally at ../aten/src/ATen/native/TensorShape.cpp:3683.)\n",
      "  loss = (loss_vec.T @ weights[indices]) / loss_vec.size(0)\n"
     ]
    },
    {
     "name": "stdout",
     "output_type": "stream",
     "text": [
      "round 1 Test acc:  0.8043749958276749 ( 0.06468372215881805 ) adv acc:  0.3793749988079071 ( 0.09068101599515453 )\n",
      "round 2 Test acc:  0.6925000011920929 ( 0.0806128843023888 ) adv acc:  0.27468750029802325 ( 0.06757446774332633 )\n",
      "round 3 Test acc:  0.5409375041723251 ( 0.07357964936152064 ) adv acc:  0.16874999944120644 ( 0.050543916414300914 )\n",
      "round 4 Test acc:  0.453437502682209 ( 0.09370780381949673 ) adv acc:  0.14000000148080288 ( 0.05563553323211172 )\n",
      "round 5 Test acc:  0.46281250193715096 ( 0.09776756140324405 ) adv acc:  0.15531249986961485 ( 0.06488496330343078 )\n",
      "round 6 Test acc:  0.47124999687075614 ( 0.10647769638529561 ) adv acc:  0.1578124992083758 ( 0.074565798861035 )\n",
      "round 7 Test acc:  0.4709374994039536 ( 0.12088177105585661 ) adv acc:  0.1587499993853271 ( 0.06621461099340752 )\n",
      "round 8 Test acc:  0.48093749657273294 ( 0.10554869972682282 ) adv acc:  0.16593749802559615 ( 0.06626105295317336 )\n",
      "round 9 Test acc:  0.4718749962747097 ( 0.11554050916706589 ) adv acc:  0.16468750019557774 ( 0.06800089091894573 )\n",
      "round 10 Test acc:  0.4865624956786633 ( 0.11072867609155156 ) adv acc:  0.16937499949708582 ( 0.06117022689129093 )\n",
      "==> Clients initialization..\n",
      "===> Building data iterators..\n"
     ]
    },
    {
     "name": "stderr",
     "output_type": "stream",
     "text": [
      "  2%|▎         | 2/80 [00:00<00:00, 114.66it/s]\n"
     ]
    },
    {
     "name": "stdout",
     "output_type": "stream",
     "text": [
      "===> Initializing clients..\n"
     ]
    },
    {
     "name": "stderr",
     "output_type": "stream",
     "text": [
      "100%|██████████| 3/3 [00:01<00:00,  2.71it/s]\n"
     ]
    },
    {
     "name": "stdout",
     "output_type": "stream",
     "text": [
      "round 0 Test acc:  0.8062500014901162 ( 0.062437469583846425 ) adv acc:  0.4353125013411045 ( 0.10034656665491831 )\n",
      "round 1 Test acc:  0.5053125023841858 ( 0.09265559153620467 ) adv acc:  0.1225000003585592 ( 0.0514781500608738 )\n",
      "round 2 Test acc:  0.47437500208616257 ( 0.08187022899830154 ) adv acc:  0.13187500080093742 ( 0.04097922534189644 )\n",
      "round 3 Test acc:  0.5868750058114529 ( 0.07935039131634258 ) adv acc:  0.17562499847263097 ( 0.04904955906694194 )\n",
      "round 4 Test acc:  0.5837500035762787 ( 0.08024376728332797 ) adv acc:  0.14343749983236193 ( 0.040018306248896955 )\n",
      "round 5 Test acc:  0.6046875014901161 ( 0.08522431528065519 ) adv acc:  0.15437499899417162 ( 0.0572514989853472 )\n",
      "round 6 Test acc:  0.6096874997019768 ( 0.07523335941293875 ) adv acc:  0.1450000001117587 ( 0.04895788975693942 )\n",
      "round 7 Test acc:  0.5953125029802322 ( 0.07963233289861577 ) adv acc:  0.1428125010803342 ( 0.03921968350062962 )\n",
      "round 8 Test acc:  0.5950000010430813 ( 0.07266146001286634 ) adv acc:  0.14093750026077032 ( 0.03862757777362494 )\n",
      "round 9 Test acc:  0.5906250007450581 ( 0.08007564458843623 ) adv acc:  0.13781250100582837 ( 0.04406028448113447 )\n",
      "round 10 Test acc:  0.6049999974668026 ( 0.08138450340787924 ) adv acc:  0.1334375010803342 ( 0.03637773880366129 )\n",
      "==> Clients initialization..\n",
      "===> Building data iterators..\n"
     ]
    },
    {
     "name": "stderr",
     "output_type": "stream",
     "text": [
      "  5%|▌         | 4/80 [00:00<00:00, 106.80it/s]\n"
     ]
    },
    {
     "name": "stdout",
     "output_type": "stream",
     "text": [
      "===> Initializing clients..\n"
     ]
    },
    {
     "name": "stderr",
     "output_type": "stream",
     "text": [
      "100%|██████████| 5/5 [00:02<00:00,  2.36it/s]\n"
     ]
    },
    {
     "name": "stdout",
     "output_type": "stream",
     "text": [
      "round 0 Test acc:  0.7999999970197678 ( 0.0657290826520894 ) adv acc:  0.41874999962747095 ( 0.11639103907293115 )\n",
      "round 1 Test acc:  0.6609374985098839 ( 0.0746443388623176 ) adv acc:  0.20781249850988387 ( 0.04699463866247273 )\n",
      "round 2 Test acc:  0.6115624994039536 ( 0.08972124503101897 ) adv acc:  0.17218750063329935 ( 0.045456666787203094 )\n",
      "round 3 Test acc:  0.6637500032782555 ( 0.05881645215378672 ) adv acc:  0.19218750093132259 ( 0.04327306927504573 )\n",
      "round 4 Test acc:  0.6674999967217445 ( 0.07047827644619609 ) adv acc:  0.1799999989569187 ( 0.04943429826199028 )\n",
      "round 5 Test acc:  0.665625 ( 0.056023848553802866 ) adv acc:  0.1681249998509884 ( 0.04011214689152936 )\n",
      "round 6 Test acc:  0.6615624994039535 ( 0.06779953583551057 ) adv acc:  0.15843749996274709 ( 0.04140005774209405 )\n",
      "round 7 Test acc:  0.6809375002980232 ( 0.06072398095788913 ) adv acc:  0.16218750067055226 ( 0.03927939758462872 )\n",
      "round 8 Test acc:  0.6781249985098838 ( 0.06695088824861563 ) adv acc:  0.1587500000372529 ( 0.04447611690709633 )\n",
      "round 9 Test acc:  0.6771874994039535 ( 0.06654929095769113 ) adv acc:  0.15625 ( 0.04841229134665997 )\n",
      "round 10 Test acc:  0.6837499931454658 ( 0.056124864989876413 ) adv acc:  0.15749999936670064 ( 0.04799088318493209 )\n",
      "==> Clients initialization..\n",
      "===> Building data iterators..\n"
     ]
    },
    {
     "name": "stderr",
     "output_type": "stream",
     "text": [
      " 11%|█▏        | 9/80 [00:00<00:00, 145.20it/s]\n"
     ]
    },
    {
     "name": "stdout",
     "output_type": "stream",
     "text": [
      "===> Initializing clients..\n"
     ]
    },
    {
     "name": "stderr",
     "output_type": "stream",
     "text": [
      "100%|██████████| 10/10 [00:03<00:00,  2.71it/s]\n"
     ]
    },
    {
     "name": "stdout",
     "output_type": "stream",
     "text": [
      "round 0 Test acc:  0.8090625002980232 ( 0.06737184043094029 ) adv acc:  0.43281249664723875 ( 0.10693483044614704 )\n",
      "round 1 Test acc:  0.7096875004470349 ( 0.08317374076079685 ) adv acc:  0.2446874998509884 ( 0.06500525874735011 )\n",
      "round 2 Test acc:  0.6412499986588955 ( 0.06411659045096808 ) adv acc:  0.19406249970197678 ( 0.05031055787844369 )\n",
      "round 3 Test acc:  0.6684374995529652 ( 0.07336698636901494 ) adv acc:  0.20812499932944775 ( 0.05112408180701319 )\n",
      "round 4 Test acc:  0.7031250014901161 ( 0.07393779116625404 ) adv acc:  0.21062499955296515 ( 0.06043785414073009 )\n",
      "round 5 Test acc:  0.6978125035762787 ( 0.0719639386108411 ) adv acc:  0.1668750002980232 ( 0.04450684633322907 )\n",
      "round 6 Test acc:  0.7146874949336052 ( 0.07399786087955558 ) adv acc:  0.1874999986961484 ( 0.05092887089888484 )\n",
      "round 7 Test acc:  0.7015624970197678 ( 0.06668416291767895 ) adv acc:  0.17218749988824128 ( 0.03907999522770536 )\n",
      "round 8 Test acc:  0.7087500035762787 ( 0.06668489421322725 ) adv acc:  0.17843750007450582 ( 0.04718542971208258 )\n",
      "round 9 Test acc:  0.7024999961256981 ( 0.06784633919437412 ) adv acc:  0.17531249951571226 ( 0.04562821029248161 )\n",
      "round 10 Test acc:  0.7096874997019768 ( 0.07029444057681258 ) adv acc:  0.1831249998882413 ( 0.05255577401583987 )\n"
     ]
    }
   ],
   "source": [
    "# Perform 50 rounds of full overfitting on benign data on 200R FAT model\n",
    "num_rounds = 10\n",
    "num_users = [1,3,5,10]\n",
    "\n",
    "\n",
    "test_acc_gather = {}\n",
    "adv_acc_gather = {}\n",
    "test_acc_std_gather = {}\n",
    "adv_acc_std_gather = {}\n",
    "\n",
    "peturb_prop = 0.5\n",
    "cutoff_round = 4\n",
    "\n",
    "\n",
    "# save_path_FAT150 = '/home/ubuntu/fedatk_unl_tj/weights/cifar10/250123_icml25/FAT_R50/'\n",
    "\n",
    "for num_user in num_users:\n",
    "    aggregator, clients, args_ = set_args(setting, num_user,  experiment = exp)\n",
    "\n",
    "    test_acc_gather[num_user] = []\n",
    "    adv_acc_gather[num_user] = []\n",
    "    test_acc_std_gather[num_user] = []\n",
    "    adv_acc_std_gather[num_user] = []\n",
    "    \n",
    "    # Test performance of aggregator on data \n",
    "    aggregator.load_state(dir_path=save_path_FAT)\n",
    "    aggregator.update_clients()\n",
    "    \n",
    "    # Trim number of clients\n",
    "    aggregator.clients = aggregator.clients[0:num_user]\n",
    "    aggregator.clients_weights = np.divide(aggregator.clients_weights[0:num_user],np.sum(aggregator.clients_weights[0:num_user].numpy()))\n",
    "    aggregator.n_clients_per_round = num_user\n",
    "    \n",
    "    model_FAT = pull_model_from_agg(aggregator)\n",
    "    model_FAT.eval()\n",
    "\n",
    "    \n",
    "    # Add standard deviation\n",
    "    acc, adv_acc = get_adv_acc(aggregator_og, model_FAT)\n",
    "\n",
    "    print(\"round\", 0 ,\"Test acc: \", np.mean(acc), \"(\", np.std(acc),\")\", \"adv acc: \", \n",
    "                  np.mean(adv_acc), \"(\", np.std(adv_acc),\")\")\n",
    "    test_acc_gather[num_user] += [np.mean(acc)]\n",
    "    adv_acc_gather[num_user] += [np.mean(adv_acc)]\n",
    "    test_acc_std_gather[num_user] += [np.std(acc)]\n",
    "    adv_acc_std_gather[num_user] += [np.std(adv_acc)]\n",
    "    \n",
    "    # Setting evasion attack parameters\n",
    "    x_min = torch.min(clients[0].adv_nn.dataloader.x_data)\n",
    "    x_max = torch.max(clients[0].adv_nn.dataloader.x_data)\n",
    "    atk_params = PGD_Params()\n",
    "    atk_params.set_params(batch_size=1, iteration = 5,\n",
    "                    target = -1, x_val_min = x_min, x_val_max = x_max,\n",
    "                    step_size = 0.05, step_norm = \"inf\", eps = 4.5, eps_norm = 2)\n",
    "    \n",
    "    #  Assign proportion and attack params\n",
    "    if True:\n",
    "        for c in aggregator.clients:\n",
    "            c.unlearning_flag = True\n",
    "            \n",
    "    for i in range(len(aggregator.clients)):\n",
    "        aggregator.clients[i].set_adv_params(peturb_prop, atk_params)\n",
    "        aggregator.clients[i].update_advnn()\n",
    "        aggregator.clients[i].assign_advdataset()\n",
    "    \n",
    "    for round in range(1,num_rounds+1):\n",
    "        \n",
    "        aggregator.mix()\n",
    "        model_overfit = pull_model_from_agg(aggregator)\n",
    "        \n",
    "        if round%1 == 0:\n",
    "            \n",
    "            if round <= cutoff_round:\n",
    "                for i in range(len(aggregator.clients)):\n",
    "                    aggregator.clients[i].set_adv_params(peturb_prop, atk_params)\n",
    "                    aggregator.clients[i].update_advnn()\n",
    "                    aggregator.clients[i].assign_advdataset()\n",
    "            else:\n",
    "                for i in range(len(aggregator.clients)):\n",
    "                    aggregator.clients[i].reset_dataset()\n",
    "                \n",
    "\n",
    "            model_overfit.eval()\n",
    "            acc, adv_acc = get_adv_acc(aggregator_og, model_overfit)\n",
    "\n",
    "            print(\"round\", round,\"Test acc: \", np.mean(acc), \"(\", np.std(acc),\")\", \"adv acc: \", \n",
    "                  np.mean(adv_acc), \"(\", np.std(adv_acc),\")\")\n",
    "            test_acc_gather[num_user] += [np.mean(acc)]\n",
    "            adv_acc_gather[num_user] += [np.mean(adv_acc)]\n",
    "            test_acc_std_gather[num_user] += [np.std(acc)]\n",
    "            adv_acc_std_gather[num_user] += [np.std(adv_acc)]\n",
    "\n",
    "    del aggregator, clients, args_\n",
    "    gc.collect()\n",
    "    torch.cuda.empty_cache()\n"
   ]
  },
  {
   "cell_type": "code",
   "execution_count": 11,
   "metadata": {},
   "outputs": [
    {
     "data": {
      "image/png": "[encoded data removed]",
      "text/plain": [
       "<Figure size 480x320 with 1 Axes>"
      ]
     },
     "metadata": {
      "needs_background": "light"
     },
     "output_type": "display_data"
    }
   ],
   "source": [
    "\n",
    "# Initialize a new figure\n",
    "plt.figure(figsize=(6, 4), dpi=80)\n",
    "\n",
    "# X-axis values: 0 to 30 in intervals of 5 (7 points)\n",
    "x_values = np.arange(0, 11, 1)\n",
    "\n",
    "# Define a colormap\n",
    "colors = plt.get_cmap(\"tab10\").colors\n",
    "\n",
    "# Iterate over each num_user key\n",
    "for i, num_user in enumerate(test_acc_gather.keys()):\n",
    "    # Extract corresponding data for each num_user\n",
    "    test_acc = test_acc_gather[num_user]\n",
    "    adv_acc = adv_acc_gather[num_user]\n",
    "    test_acc_std = test_acc_std_gather[num_user]\n",
    "    adv_acc_std = adv_acc_std_gather[num_user]\n",
    "    \n",
    "    # Get the color for this line\n",
    "    color = colors[i]\n",
    "    \n",
    "    # Plot test accuracy with standard deviation\n",
    "    plt.plot(x_values, test_acc, label=f'Num User={num_user}', color=color)\n",
    "    plt.fill_between(x_values, np.array(test_acc) - np.array(test_acc_std),\n",
    "                     np.array(test_acc) + np.array(test_acc_std), color=color, alpha=0.2)\n",
    "    \n",
    "    # Plot adversarial accuracy with standard deviation (dotted line)\n",
    "    plt.plot(x_values, adv_acc, linestyle='--', color=color)\n",
    "    plt.fill_between(x_values, np.array(adv_acc) - np.array(adv_acc_std),\n",
    "                     np.array(adv_acc) + np.array(adv_acc_std), color=color, alpha=0.2)\n",
    "\n",
    "# Add title and labels with increased font size\n",
    "plt.title('CIFAR-10: ARU Extraction from FAT Model', fontsize=16)\n",
    "plt.xlabel('Rounds of Extraction', fontsize=14)\n",
    "plt.ylabel('Accuracy', fontsize=14)\n",
    "\n",
    "# Combine legend to remove duplicates and label clarity with larger font\n",
    "plt.legend(loc='best', fontsize=12)\n",
    "\n",
    "# Increase tick label font size\n",
    "plt.xticks(fontsize=12)\n",
    "plt.yticks(fontsize=12)\n",
    "\n",
    "\n",
    "# Show the plot\n",
    "plt.show()"
   ]
  },
  {
   "cell_type": "raw",
   "metadata": {
    "vscode": {
     "languageId": "raw"
    }
   },
   "source": [
    "==> Clients initialization..\n",
    "===> Building data iterators..\n",
    "  0%|          | 0/80 [00:00<?, ?it/s]\n",
    "===> Initializing clients..\n",
    "100%|██████████| 1/1 [00:00<00:00,  3.79it/s]\n",
    "round 0 Test acc:  0.8043750002980232 ( 0.06334121691144534 ) adv acc:  0.4249999962747097 ( 0.11401753808272846 )\n",
    "/home/ubuntu/fedatk_unl_tj/learners/learner.py:192: UserWarning: The use of `x.T` on tensors of dimension other than 2 to reverse their shape is deprecated and it will throw an error in a future release. Consider `x.mT` to transpose batches of matrices or `x.permute(*torch.arange(x.ndim - 1, -1, -1))` to reverse the dimensions of a tensor. (Triggered internally at ../aten/src/ATen/native/TensorShape.cpp:3683.)\n",
    "  loss = (loss_vec.T @ weights[indices]) / loss_vec.size(0)\n",
    "round 1 Test acc:  0.8043749958276749 ( 0.06468372215881805 ) adv acc:  0.3793749988079071 ( 0.09068101599515453 )\n",
    "round 2 Test acc:  0.6925000011920929 ( 0.0806128843023888 ) adv acc:  0.27468750029802325 ( 0.06757446774332633 )\n",
    "round 3 Test acc:  0.5409375041723251 ( 0.07357964936152064 ) adv acc:  0.16874999944120644 ( 0.050543916414300914 )\n",
    "round 4 Test acc:  0.453437502682209 ( 0.09370780381949673 ) adv acc:  0.14000000148080288 ( 0.05563553323211172 )\n",
    "round 5 Test acc:  0.46281250193715096 ( 0.09776756140324405 ) adv acc:  0.15531249986961485 ( 0.06488496330343078 )\n",
    "round 6 Test acc:  0.47124999687075614 ( 0.10647769638529561 ) adv acc:  0.1578124992083758 ( 0.074565798861035 )\n",
    "round 7 Test acc:  0.4709374994039536 ( 0.12088177105585661 ) adv acc:  0.1587499993853271 ( 0.06621461099340752 )\n",
    "round 8 Test acc:  0.48093749657273294 ( 0.10554869972682282 ) adv acc:  0.16593749802559615 ( 0.06626105295317336 )\n",
    "round 9 Test acc:  0.4718749962747097 ( 0.11554050916706589 ) adv acc:  0.16468750019557774 ( 0.06800089091894573 )\n",
    "round 10 Test acc:  0.4865624956786633 ( 0.11072867609155156 ) adv acc:  0.16937499949708582 ( 0.06117022689129093 )\n",
    "==> Clients initialization..\n",
    "===> Building data iterators..\n",
    "  2%|▎         | 2/80 [00:00<00:00, 114.66it/s]\n",
    "===> Initializing clients..\n",
    "100%|██████████| 3/3 [00:01<00:00,  2.71it/s]\n",
    "round 0 Test acc:  0.8062500014901162 ( 0.062437469583846425 ) adv acc:  0.4353125013411045 ( 0.10034656665491831 )\n",
    "round 1 Test acc:  0.5053125023841858 ( 0.09265559153620467 ) adv acc:  0.1225000003585592 ( 0.0514781500608738 )\n",
    "round 2 Test acc:  0.47437500208616257 ( 0.08187022899830154 ) adv acc:  0.13187500080093742 ( 0.04097922534189644 )\n",
    "round 3 Test acc:  0.5868750058114529 ( 0.07935039131634258 ) adv acc:  0.17562499847263097 ( 0.04904955906694194 )\n",
    "round 4 Test acc:  0.5837500035762787 ( 0.08024376728332797 ) adv acc:  0.14343749983236193 ( 0.040018306248896955 )\n",
    "round 5 Test acc:  0.6046875014901161 ( 0.08522431528065519 ) adv acc:  0.15437499899417162 ( 0.0572514989853472 )\n",
    "round 6 Test acc:  0.6096874997019768 ( 0.07523335941293875 ) adv acc:  0.1450000001117587 ( 0.04895788975693942 )\n",
    "round 7 Test acc:  0.5953125029802322 ( 0.07963233289861577 ) adv acc:  0.1428125010803342 ( 0.03921968350062962 )\n",
    "round 8 Test acc:  0.5950000010430813 ( 0.07266146001286634 ) adv acc:  0.14093750026077032 ( 0.03862757777362494 )\n",
    "round 9 Test acc:  0.5906250007450581 ( 0.08007564458843623 ) adv acc:  0.13781250100582837 ( 0.04406028448113447 )\n",
    "round 10 Test acc:  0.6049999974668026 ( 0.08138450340787924 ) adv acc:  0.1334375010803342 ( 0.03637773880366129 )\n",
    "==> Clients initialization..\n",
    "===> Building data iterators..\n",
    "  5%|▌         | 4/80 [00:00<00:00, 106.80it/s]\n",
    "===> Initializing clients..\n",
    "100%|██████████| 5/5 [00:02<00:00,  2.36it/s]\n",
    "round 0 Test acc:  0.7999999970197678 ( 0.0657290826520894 ) adv acc:  0.41874999962747095 ( 0.11639103907293115 )\n",
    "round 1 Test acc:  0.6609374985098839 ( 0.0746443388623176 ) adv acc:  0.20781249850988387 ( 0.04699463866247273 )\n",
    "round 2 Test acc:  0.6115624994039536 ( 0.08972124503101897 ) adv acc:  0.17218750063329935 ( 0.045456666787203094 )\n",
    "round 3 Test acc:  0.6637500032782555 ( 0.05881645215378672 ) adv acc:  0.19218750093132259 ( 0.04327306927504573 )\n",
    "round 4 Test acc:  0.6674999967217445 ( 0.07047827644619609 ) adv acc:  0.1799999989569187 ( 0.04943429826199028 )\n",
    "round 5 Test acc:  0.665625 ( 0.056023848553802866 ) adv acc:  0.1681249998509884 ( 0.04011214689152936 )\n",
    "round 6 Test acc:  0.6615624994039535 ( 0.06779953583551057 ) adv acc:  0.15843749996274709 ( 0.04140005774209405 )\n",
    "round 7 Test acc:  0.6809375002980232 ( 0.06072398095788913 ) adv acc:  0.16218750067055226 ( 0.03927939758462872 )\n",
    "round 8 Test acc:  0.6781249985098838 ( 0.06695088824861563 ) adv acc:  0.1587500000372529 ( 0.04447611690709633 )\n",
    "round 9 Test acc:  0.6771874994039535 ( 0.06654929095769113 ) adv acc:  0.15625 ( 0.04841229134665997 )\n",
    "round 10 Test acc:  0.6837499931454658 ( 0.056124864989876413 ) adv acc:  0.15749999936670064 ( 0.04799088318493209 )\n",
    "==> Clients initialization..\n",
    "===> Building data iterators..\n",
    " 11%|█▏        | 9/80 [00:00<00:00, 145.20it/s]\n",
    "===> Initializing clients..\n",
    "100%|██████████| 10/10 [00:03<00:00,  2.71it/s]\n",
    "round 0 Test acc:  0.8090625002980232 ( 0.06737184043094029 ) adv acc:  0.43281249664723875 ( 0.10693483044614704 )\n",
    "round 1 Test acc:  0.7096875004470349 ( 0.08317374076079685 ) adv acc:  0.2446874998509884 ( 0.06500525874735011 )\n",
    "round 2 Test acc:  0.6412499986588955 ( 0.06411659045096808 ) adv acc:  0.19406249970197678 ( 0.05031055787844369 )\n",
    "round 3 Test acc:  0.6684374995529652 ( 0.07336698636901494 ) adv acc:  0.20812499932944775 ( 0.05112408180701319 )\n",
    "round 4 Test acc:  0.7031250014901161 ( 0.07393779116625404 ) adv acc:  0.21062499955296515 ( 0.06043785414073009 )\n",
    "round 5 Test acc:  0.6978125035762787 ( 0.0719639386108411 ) adv acc:  0.1668750002980232 ( 0.04450684633322907 )\n",
    "round 6 Test acc:  0.7146874949336052 ( 0.07399786087955558 ) adv acc:  0.1874999986961484 ( 0.05092887089888484 )\n",
    "round 7 Test acc:  0.7015624970197678 ( 0.06668416291767895 ) adv acc:  0.17218749988824128 ( 0.03907999522770536 )\n",
    "round 8 Test acc:  0.7087500035762787 ( 0.06668489421322725 ) adv acc:  0.17843750007450582 ( 0.04718542971208258 )\n",
    "round 9 Test acc:  0.7024999961256981 ( 0.06784633919437412 ) adv acc:  0.17531249951571226 ( 0.04562821029248161 )\n",
    "round 10 Test acc:  0.7096874997019768 ( 0.07029444057681258 ) adv acc:  0.1831249998882413 ( 0.05255577401583987 )"
   ]
  }
 ],
 "metadata": {
  "kernelspec": {
   "display_name": "FedEM_env",
   "language": "python",
   "name": "python3"
  },
  "language_info": {
   "codemirror_mode": {
    "name": "ipython",
    "version": 3
   },
   "file_extension": ".py",
   "mimetype": "text/x-python",
   "name": "python",
   "nbconvert_exporter": "python",
   "pygments_lexer": "ipython3",
   "version": "3.9.6"
  }
 },
 "nbformat": 4,
 "nbformat_minor": 4
}
