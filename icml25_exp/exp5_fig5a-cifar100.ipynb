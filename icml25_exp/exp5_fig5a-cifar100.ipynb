{
 "cells": [
  {
   "cell_type": "markdown",
   "metadata": {},
   "source": [
    "### Multiround UNL Attack Mixed\n",
    "\n",
    "Figure 5abc, and 6c\n",
    "Adjust the aggregation method accordingly based on hyperparameters (trimmed mean cutoff) to replicate results\n",
    "\n",
    "Can also use this code to perform experiments for table 2\n",
    "\n",
    "##### Summary\n",
    "Load FAT model trained for 150 rounds and for 50 rounds try and inject FedAvg model into the system. Try different scaling rates and spread out the model replacement attack."
   ]
  },
  {
   "cell_type": "code",
   "execution_count": 1,
   "metadata": {},
   "outputs": [
    {
     "name": "stdout",
     "output_type": "stream",
     "text": [
      "/home/ubuntu/fedatk_unl_tj\n"
     ]
    }
   ],
   "source": [
    "cd /home/ubuntu/fedatk_unl_tj/"
   ]
  },
  {
   "cell_type": "code",
   "execution_count": 2,
   "metadata": {},
   "outputs": [
    {
     "name": "stderr",
     "output_type": "stream",
     "text": [
      "/home/ubuntu/anaconda3/envs/FedEM_env/lib/python3.9/site-packages/pandas/core/computation/expressions.py:21: UserWarning: Pandas requires version '2.8.4' or newer of 'numexpr' (version '2.7.3' currently installed).\n",
      "  from pandas.core.computation.check import NUMEXPR_INSTALLED\n",
      "/home/ubuntu/anaconda3/envs/FedEM_env/lib/python3.9/site-packages/pandas/core/arrays/masked.py:60: UserWarning: Pandas requires version '1.3.6' or newer of 'bottleneck' (version '1.3.2' currently installed).\n",
      "  from pandas.core import (\n"
     ]
    }
   ],
   "source": [
    "# Import General Libraries\n",
    "import os\n",
    "import argparse\n",
    "import torch\n",
    "import copy\n",
    "import pickle\n",
    "import random\n",
    "import numpy as np\n",
    "import pandas as pd\n",
    "\n",
    "# Import FedEM based Libraries\n",
    "from utils.utils import *\n",
    "from utils.constants import *\n",
    "from utils.args import *\n",
    "from utils.util_notebooks import *\n",
    "from run_experiment import *\n",
    "from models import *\n",
    "\n",
    "# Import Transfer Attack\n",
    "from transfer_attacks.Personalized_NN import *\n",
    "from transfer_attacks.Params import *\n",
    "from transfer_attacks.Transferer import *\n",
    "from transfer_attacks.Args import *\n",
    "from transfer_attacks.TA_utils import *"
   ]
  },
  {
   "cell_type": "code",
   "execution_count": 3,
   "metadata": {},
   "outputs": [],
   "source": [
    "# Specify aggregation method, number of clients, and dataset\n",
    "setting, num_user = \"FedAvg_adv\", 50\n",
    "exp = \"cifar100\"\n",
    "\n",
    "# Load models for FAT and FedAvg - write down path to where weights are saved\n",
    "save_path_FAT = '/home/ubuntu/fedatk_unl_tj/weights/cifar100/250123_icml25/FAT/'\n",
    "save_path_FedAvg =  '/home/ubuntu/fedatk_unl_tj/weights/cifar100/250123_icml25/FedAvg/'\n",
    "save_path_FedAvg_150R = '/home/ubuntu/fedatk_unl_tj/weights/cifar100/250123_icml25/FAT_R50/'\n",
    "# save_path_FAT = '/home/ubuntu/fedatk_unl_tj/weights/fakenews/250119_small_architecture_moreconv/FAT_ep02/'\n",
    "# save_path_FedAvg =  '/home/ubuntu/fedatk_unl_tj/weights/fakenews/250119_small_architecture_moreconv/FedAvg/'\n",
    "\n",
    "# Attack parameters for performing PGD \n",
    "eps_attack = 4.0\n",
    "eps_train = 4.5\n",
    "step_size = 0.01\n",
    "steps = 10"
   ]
  },
  {
   "cell_type": "code",
   "execution_count": 4,
   "metadata": {},
   "outputs": [
    {
     "name": "stdout",
     "output_type": "stream",
     "text": [
      "==> Clients initialization..\n",
      "===> Building data iterators..\n"
     ]
    },
    {
     "name": "stderr",
     "output_type": "stream",
     "text": [
      " 49%|████▉     | 49/100 [00:00<00:00, 79.23it/s]\n"
     ]
    },
    {
     "name": "stdout",
     "output_type": "stream",
     "text": [
      "===> Initializing clients..\n"
     ]
    },
    {
     "name": "stderr",
     "output_type": "stream",
     "text": [
      "  0%|          | 0/50 [00:00<?, ?it/s]/home/ubuntu/anaconda3/envs/FedEM_env/lib/python3.9/site-packages/torchvision/models/_utils.py:208: UserWarning: The parameter 'pretrained' is deprecated since 0.13 and may be removed in the future, please use 'weights' instead.\n",
      "  warnings.warn(\n",
      "/home/ubuntu/anaconda3/envs/FedEM_env/lib/python3.9/site-packages/torchvision/models/_utils.py:223: UserWarning: Arguments other than a weight enum or `None` for 'weights' are deprecated since 0.13 and may be removed in the future. The current behavior is equivalent to passing `weights=MobileNet_V2_Weights.IMAGENET1K_V1`. You can also use `weights=MobileNet_V2_Weights.DEFAULT` to get the most up-to-date weights.\n",
      "  warnings.warn(msg)\n",
      "100%|██████████| 50/50 [00:36<00:00,  1.35it/s]\n",
      "/home/ubuntu/fedatk_unl_tj/aggregator.py:289: FutureWarning: You are using `torch.load` with `weights_only=False` (the current default value), which uses the default pickle module implicitly. It is possible to construct malicious pickle data which will execute arbitrary code during unpickling (See https://github.com/pytorch/pytorch/blob/main/SECURITY.md#untrusted-models for more details). In a future release, the default value for `weights_only` will be flipped to `True`. This limits the functions that could be executed during unpickling. Arbitrary objects will no longer be allowed to be loaded via this mode unless they are explicitly allowlisted by the user via `torch.serialization.add_safe_globals`. We recommend you start setting `weights_only=True` for any use case where you don't have full control of the loaded file. Please open an issue on GitHub for any issues related to this experimental feature.\n",
      "  learner.model.load_state_dict(torch.load(chkpts_path))\n"
     ]
    }
   ],
   "source": [
    "# Generate instance of aggregator that holds all clients, data and models and load relevant models in\n",
    "try: # Skip loading if already loaded\n",
    "    aggregator_og\n",
    "except:\n",
    "    aggregator_og, clients, args_ = set_args(setting, num_user,  experiment = exp) # Indicate dataset here\n",
    "\n",
    "model_FAT = copy.deepcopy(import_model_weights(num_user, setting, save_path_FAT, aggregator_og, args_)[0])\n",
    "model_Fedavg = copy.deepcopy(import_model_weights(num_user, setting, save_path_FedAvg, aggregator_og, args_)[0])\n",
    "\n",
    "# Obtain parameters for each layer\n",
    "params_FAT = model_FAT.state_dict()\n",
    "params_FedAvg = model_Fedavg.state_dict()\n",
    "\n",
    "# Just take the values of weights and bias for the model\n",
    "desired_keys = params_FAT.keys() # [key for key in params_FAT.keys() if 'weight' in key or 'bias' in key] # "
   ]
  },
  {
   "cell_type": "code",
   "execution_count": 5,
   "metadata": {},
   "outputs": [
    {
     "name": "stdout",
     "output_type": "stream",
     "text": [
      "==> Clients initialization..\n",
      "===> Building data iterators..\n"
     ]
    },
    {
     "name": "stderr",
     "output_type": "stream",
     "text": [
      " 49%|████▉     | 49/100 [00:01<00:01, 33.70it/s]\n"
     ]
    },
    {
     "name": "stdout",
     "output_type": "stream",
     "text": [
      "===> Initializing clients..\n"
     ]
    },
    {
     "name": "stderr",
     "output_type": "stream",
     "text": [
      "100%|██████████| 50/50 [00:28<00:00,  1.73it/s]\n"
     ]
    },
    {
     "name": "stdout",
     "output_type": "stream",
     "text": [
      "Test acc:  0.4156666654348373 adv acc:  0.10316666837781668\n"
     ]
    },
    {
     "name": "stderr",
     "output_type": "stream",
     "text": [
      "/home/ubuntu/fedatk_unl_tj/learners/learner.py:192: UserWarning: The use of `x.T` on tensors of dimension other than 2 to reverse their shape is deprecated and it will throw an error in a future release. Consider `x.mT` to transpose batches of matrices or `x.permute(*torch.arange(x.ndim - 1, -1, -1))` to reverse the dimensions of a tensor. (Triggered internally at ../aten/src/ATen/native/TensorShape.cpp:3683.)\n",
      "  loss = (loss_vec.T @ weights[indices]) / loss_vec.size(0)\n"
     ]
    },
    {
     "name": "stdout",
     "output_type": "stream",
     "text": [
      "Successfully copied values of 'features.17.conv.1.1.running_var' from source_model to target_model.\n",
      "Values of 'features.17.conv.1.1.running_var' successfully updated in the new model.\n",
      "round 0 Test acc:  0.41233333706855774 adv acc:  0.03483333440497518\n",
      "Successfully copied values of 'features.17.conv.1.1.running_var' from source_model to target_model.\n",
      "Values of 'features.17.conv.1.1.running_var' successfully updated in the new model.\n",
      "round 1 Test acc:  0.4059999999403954 adv acc:  0.01383333394303918\n",
      "Successfully copied values of 'features.17.conv.1.1.running_var' from source_model to target_model.\n",
      "Values of 'features.17.conv.1.1.running_var' successfully updated in the new model.\n",
      "round 2 Test acc:  0.3913333329558373 adv acc:  0.009500000383704901\n",
      "Successfully copied values of 'features.17.conv.1.1.running_var' from source_model to target_model.\n",
      "Values of 'features.17.conv.1.1.running_var' successfully updated in the new model.\n",
      "round 3 Test acc:  0.385999998152256 adv acc:  0.00883333370089531\n",
      "Successfully copied values of 'features.17.conv.1.1.running_var' from source_model to target_model.\n",
      "Values of 'features.17.conv.1.1.running_var' successfully updated in the new model.\n",
      "round 4 Test acc:  0.3830000016093254 adv acc:  0.005333333555608988\n",
      "Successfully copied values of 'features.17.conv.1.1.running_var' from source_model to target_model.\n",
      "Values of 'features.17.conv.1.1.running_var' successfully updated in the new model.\n",
      "round 5 Test acc:  0.3850000002980232 adv acc:  0.005666666924953461\n",
      "Successfully copied values of 'features.17.conv.1.1.running_var' from source_model to target_model.\n",
      "Values of 'features.17.conv.1.1.running_var' successfully updated in the new model.\n",
      "round 6 Test acc:  0.3821666657924652 adv acc:  0.00600000025704503\n",
      "Successfully copied values of 'features.17.conv.1.1.running_var' from source_model to target_model.\n",
      "Values of 'features.17.conv.1.1.running_var' successfully updated in the new model.\n",
      "round 7 Test acc:  0.38116666436195373 adv acc:  0.006666666995733976\n",
      "Successfully copied values of 'features.17.conv.1.1.running_var' from source_model to target_model.\n",
      "Values of 'features.17.conv.1.1.running_var' successfully updated in the new model.\n",
      "round 8 Test acc:  0.3811666661500931 adv acc:  0.00600000025704503\n",
      "Successfully copied values of 'features.17.conv.1.1.running_var' from source_model to target_model.\n",
      "Values of 'features.17.conv.1.1.running_var' successfully updated in the new model.\n",
      "round 9 Test acc:  0.38133333206176756 adv acc:  0.006833333652466535\n",
      "Successfully copied values of 'features.17.conv.1.1.running_var' from source_model to target_model.\n",
      "Values of 'features.17.conv.1.1.running_var' successfully updated in the new model.\n",
      "round 10 Test acc:  0.3811666667461395 adv acc:  0.005166666880249977\n",
      "Successfully copied values of 'features.17.conv.1.1.running_var' from source_model to target_model.\n",
      "Values of 'features.17.conv.1.1.running_var' successfully updated in the new model.\n",
      "round 11 Test acc:  0.3811666667461395 adv acc:  0.006000000275671482\n",
      "Successfully copied values of 'features.17.conv.1.1.running_var' from source_model to target_model.\n",
      "Values of 'features.17.conv.1.1.running_var' successfully updated in the new model.\n",
      "round 12 Test acc:  0.3811666661500931 adv acc:  0.0071666669845581055\n",
      "Successfully copied values of 'features.17.conv.1.1.running_var' from source_model to target_model.\n",
      "Values of 'features.17.conv.1.1.running_var' successfully updated in the new model.\n",
      "round 13 Test acc:  0.3811666661500931 adv acc:  0.00550000024959445\n",
      "Successfully copied values of 'features.17.conv.1.1.running_var' from source_model to target_model.\n",
      "Values of 'features.17.conv.1.1.running_var' successfully updated in the new model.\n",
      "round 14 Test acc:  0.38199999928474426 adv acc:  0.004833333548158407\n",
      "Test acc:  0.4156666654348373 adv acc:  0.10333333533257245\n",
      "Successfully copied values of 'features.17.conv.1.1.running_var' from source_model to target_model.\n",
      "Values of 'features.17.conv.1.1.running_var' successfully updated in the new model.\n",
      "round 0 Test acc:  0.42033333361148834 adv acc:  0.06700000178068877\n",
      "Successfully copied values of 'features.17.conv.1.1.running_var' from source_model to target_model.\n",
      "Values of 'features.17.conv.1.1.running_var' successfully updated in the new model.\n",
      "round 1 Test acc:  0.4180000001192093 adv acc:  0.03500000102445483\n",
      "Successfully copied values of 'features.17.conv.1.1.running_var' from source_model to target_model.\n",
      "Values of 'features.17.conv.1.1.running_var' successfully updated in the new model.\n",
      "round 2 Test acc:  0.4133333331346512 adv acc:  0.020166667457669974\n",
      "Successfully copied values of 'features.17.conv.1.1.running_var' from source_model to target_model.\n",
      "Values of 'features.17.conv.1.1.running_var' successfully updated in the new model.\n",
      "round 3 Test acc:  0.40499999940395354 adv acc:  0.014333333857357501\n",
      "Successfully copied values of 'features.17.conv.1.1.running_var' from source_model to target_model.\n",
      "Values of 'features.17.conv.1.1.running_var' successfully updated in the new model.\n",
      "round 4 Test acc:  0.3944999992847443 adv acc:  0.011333333794027567\n",
      "Successfully copied values of 'features.17.conv.1.1.running_var' from source_model to target_model.\n",
      "Values of 'features.17.conv.1.1.running_var' successfully updated in the new model.\n",
      "round 5 Test acc:  0.3910000005364418 adv acc:  0.009500000383704901\n",
      "Successfully copied values of 'features.17.conv.1.1.running_var' from source_model to target_model.\n",
      "Values of 'features.17.conv.1.1.running_var' successfully updated in the new model.\n",
      "round 6 Test acc:  0.38666666686534884 adv acc:  0.008500000331550836\n",
      "Successfully copied values of 'features.17.conv.1.1.running_var' from source_model to target_model.\n",
      "Values of 'features.17.conv.1.1.running_var' successfully updated in the new model.\n",
      "round 7 Test acc:  0.38550000041723254 adv acc:  0.008666667044162751\n",
      "Successfully copied values of 'features.17.conv.1.1.running_var' from source_model to target_model.\n",
      "Values of 'features.17.conv.1.1.running_var' successfully updated in the new model.\n",
      "round 8 Test acc:  0.3851666650176048 adv acc:  0.006833333671092987\n",
      "Successfully copied values of 'features.17.conv.1.1.running_var' from source_model to target_model.\n",
      "Values of 'features.17.conv.1.1.running_var' successfully updated in the new model.\n",
      "round 9 Test acc:  0.3844999974966049 adv acc:  0.0061666669137775895\n",
      "Successfully copied values of 'features.17.conv.1.1.running_var' from source_model to target_model.\n",
      "Values of 'features.17.conv.1.1.running_var' successfully updated in the new model.\n",
      "round 10 Test acc:  0.3836666652560234 adv acc:  0.006500000301748514\n",
      "Successfully copied values of 'features.17.conv.1.1.running_var' from source_model to target_model.\n",
      "Values of 'features.17.conv.1.1.running_var' successfully updated in the new model.\n",
      "round 11 Test acc:  0.3838333323597908 adv acc:  0.007333333659917116\n",
      "Successfully copied values of 'features.17.conv.1.1.running_var' from source_model to target_model.\n",
      "Values of 'features.17.conv.1.1.running_var' successfully updated in the new model.\n",
      "round 12 Test acc:  0.3831666675209999 adv acc:  0.006333333589136601\n",
      "Successfully copied values of 'features.17.conv.1.1.running_var' from source_model to target_model.\n",
      "Values of 'features.17.conv.1.1.running_var' successfully updated in the new model.\n",
      "round 13 Test acc:  0.38333333402872083 adv acc:  0.006500000301748514\n",
      "Successfully copied values of 'features.17.conv.1.1.running_var' from source_model to target_model.\n",
      "Values of 'features.17.conv.1.1.running_var' successfully updated in the new model.\n",
      "round 14 Test acc:  0.38200000166893006 adv acc:  0.0061666668951511384\n",
      "Test acc:  0.4156666654348373 adv acc:  0.10233333539217711\n",
      "Successfully copied values of 'features.17.conv.1.1.running_var' from source_model to target_model.\n",
      "Values of 'features.17.conv.1.1.running_var' successfully updated in the new model.\n",
      "round 0 Test acc:  0.4183333349227905 adv acc:  0.08333333496004343\n",
      "Successfully copied values of 'features.17.conv.1.1.running_var' from source_model to target_model.\n",
      "Values of 'features.17.conv.1.1.running_var' successfully updated in the new model.\n",
      "round 1 Test acc:  0.41966666638851163 adv acc:  0.06783333521336317\n",
      "Successfully copied values of 'features.17.conv.1.1.running_var' from source_model to target_model.\n",
      "Values of 'features.17.conv.1.1.running_var' successfully updated in the new model.\n",
      "round 2 Test acc:  0.42333333313465116 adv acc:  0.0505000014975667\n",
      "Successfully copied values of 'features.17.conv.1.1.running_var' from source_model to target_model.\n",
      "Values of 'features.17.conv.1.1.running_var' successfully updated in the new model.\n",
      "round 3 Test acc:  0.41983333468437195 adv acc:  0.036166667714715\n",
      "Successfully copied values of 'features.17.conv.1.1.running_var' from source_model to target_model.\n",
      "Values of 'features.17.conv.1.1.running_var' successfully updated in the new model.\n",
      "round 4 Test acc:  0.41666666567325594 adv acc:  0.028166667614132165\n",
      "Successfully copied values of 'features.17.conv.1.1.running_var' from source_model to target_model.\n",
      "Values of 'features.17.conv.1.1.running_var' successfully updated in the new model.\n",
      "round 5 Test acc:  0.4114999997615814 adv acc:  0.022833334095776082\n",
      "Successfully copied values of 'features.17.conv.1.1.running_var' from source_model to target_model.\n",
      "Values of 'features.17.conv.1.1.running_var' successfully updated in the new model.\n",
      "round 6 Test acc:  0.4108333319425583 adv acc:  0.019000000674277543\n",
      "Successfully copied values of 'features.17.conv.1.1.running_var' from source_model to target_model.\n",
      "Values of 'features.17.conv.1.1.running_var' successfully updated in the new model.\n",
      "round 7 Test acc:  0.40583333373069763 adv acc:  0.015333333779126405\n",
      "Successfully copied values of 'features.17.conv.1.1.running_var' from source_model to target_model.\n",
      "Values of 'features.17.conv.1.1.running_var' successfully updated in the new model.\n",
      "round 8 Test acc:  0.4028333330154419 adv acc:  0.013666667174547911\n",
      "Successfully copied values of 'features.17.conv.1.1.running_var' from source_model to target_model.\n",
      "Values of 'features.17.conv.1.1.running_var' successfully updated in the new model.\n",
      "round 9 Test acc:  0.39866666674613954 adv acc:  0.012500000484287739\n",
      "Successfully copied values of 'features.17.conv.1.1.running_var' from source_model to target_model.\n",
      "Values of 'features.17.conv.1.1.running_var' successfully updated in the new model.\n",
      "round 10 Test acc:  0.3924999994039535 adv acc:  0.010500000361353158\n",
      "Successfully copied values of 'features.17.conv.1.1.running_var' from source_model to target_model.\n",
      "Values of 'features.17.conv.1.1.running_var' successfully updated in the new model.\n",
      "round 11 Test acc:  0.3921666666865349 adv acc:  0.009500000290572644\n",
      "Successfully copied values of 'features.17.conv.1.1.running_var' from source_model to target_model.\n",
      "Values of 'features.17.conv.1.1.running_var' successfully updated in the new model.\n",
      "round 12 Test acc:  0.38933333575725554 adv acc:  0.009500000402331352\n",
      "Successfully copied values of 'features.17.conv.1.1.running_var' from source_model to target_model.\n",
      "Values of 'features.17.conv.1.1.running_var' successfully updated in the new model.\n",
      "round 13 Test acc:  0.38800000011920927 adv acc:  0.008666667006909847\n",
      "Successfully copied values of 'features.17.conv.1.1.running_var' from source_model to target_model.\n",
      "Values of 'features.17.conv.1.1.running_var' successfully updated in the new model.\n",
      "round 14 Test acc:  0.3856666666269302 adv acc:  0.008500000387430191\n"
     ]
    }
   ],
   "source": [
    "num_aru = [1, 5, 10]\n",
    "beta_params = [0.05, 0.05, 0.05]\n",
    "weight2_list = [0.5, 0.3, 0.15]\n",
    "agg_options = [None, None, None]\n",
    "\n",
    "num_rounds = 15\n",
    "eps = eps_attack\n",
    "\n",
    "result_list = []\n",
    "for itt in range(len(num_aru)):\n",
    "    result_list += [{}]\n",
    "\n",
    "# setting, num_user = \"FedAvg_adv\", 20\n",
    "aggregator, clients, args_ = set_args(setting, num_user,  experiment = exp)\n",
    "\n",
    "agg_choice = random.choices(range(3),k=num_rounds)\n",
    "\n",
    "if False:\n",
    "    print(\"updating adv data set\")\n",
    "    # add adv dataset update\n",
    "    Fu = np.zeros(num_user)\n",
    "    Fu[0:25] = 1\n",
    "\n",
    "    # Setting evasion attack parameters\n",
    "    x_min = torch.min(clients[0].adv_nn.dataloader.x_data)\n",
    "    x_max = torch.max(clients[0].adv_nn.dataloader.x_data)\n",
    "    atk_params = PGD_Params()\n",
    "    atk_params.set_params(batch_size=1, iteration = 10,\n",
    "                    target = -1, x_val_min = x_min, x_val_max = x_max,\n",
    "                    step_size = 0.05, step_norm = \"inf\", eps = eps, eps_norm = 2)\n",
    "\n",
    "    # Assign proportion and attack params\n",
    "    for c in range(len(clients)):\n",
    "        if Fu[c] > 0:\n",
    "            aggregator.clients[c].set_adv_params(Fu[c], atk_params)\n",
    "            aggregator.clients[c].update_advnn()\n",
    "            aggregator.clients[c].assign_advdataset()\n",
    "\n",
    "for itt in range(len(beta_params)):\n",
    "    # Perform 50 rounds of FAT on FedAvg model \n",
    "    num_adv = num_aru[itt]\n",
    "    weight2 = 1/num_adv * weight2_list[itt]\n",
    "    adv_id = random.sample(range(25,num_user), num_adv) # excluding 0-9 as Fu = 1\n",
    "    beta = beta_params[itt]\n",
    "\n",
    "    test_acc_gather = []\n",
    "    adv_acc_gather = []\n",
    "    test_acc_std = []\n",
    "    adv_acc_std = []\n",
    "    cosine_gather_layers = np.zeros([num_rounds, len(desired_keys)])\n",
    "\n",
    "    aggregator.tm_rate = beta\n",
    "\n",
    "    # Test performance of aggregator on data \n",
    "    aggregator.load_state(dir_path = save_path_FedAvg_150R)\n",
    "    aggregator.update_clients()\n",
    "    model_FA = pull_model_from_agg(aggregator)\n",
    "    model_FA.eval()\n",
    "    acc, adv_acc = get_adv_acc(aggregator, model_FA, eps = eps)\n",
    "\n",
    "    # prev_model = copy.deepcopy(model_FA)\n",
    "\n",
    "    print(\"Test acc: \", np.mean(acc), \"adv acc: \", np.mean(adv_acc))\n",
    "    test_acc_gather+= [np.mean(acc)]\n",
    "    adv_acc_gather += [np.mean(adv_acc)]\n",
    "    test_acc_std += [np.std(acc)]\n",
    "    adv_acc_std += [np.std(adv_acc)]\n",
    "\n",
    "\n",
    "\n",
    "    for i in range(num_rounds):\n",
    "\n",
    "        # Per round Freq\n",
    "        aggregator.aggregation_op = agg_options[itt]\n",
    "\n",
    "        # aggregator.mix()\n",
    "        UNL_mix(aggregator, adv_id, model_inject = model_Fedavg, keys = desired_keys, weight_scale_2 = weight2, dump_flag=False, tm_beta=beta)\n",
    "        model_overfit = pull_model_from_agg(aggregator)\n",
    "        model_overfit.eval()\n",
    "        acc, adv_acc = get_adv_acc(aggregator, model_overfit, eps = eps)\n",
    "\n",
    "        print(\"round\", i,\"Test acc: \", np.mean(acc), \"adv acc: \", np.mean(adv_acc))\n",
    "        test_acc_gather+= [np.mean(acc)]\n",
    "        adv_acc_gather += [np.mean(adv_acc)]\n",
    "        test_acc_std += [np.std(acc)]\n",
    "        adv_acc_std += [np.std(adv_acc)]\n",
    "        # prev_model = copy.deepcopy(model_overfit)\n",
    "\n",
    "        result_list[itt]['test_acc'] = copy.deepcopy(test_acc_gather)\n",
    "        result_list[itt]['adv_acc'] = copy.deepcopy(adv_acc_gather)\n",
    "        result_list[itt]['test_std'] = copy.deepcopy(test_acc_std)\n",
    "        result_list[itt]['adv_std'] = copy.deepcopy(adv_acc_std)\n",
    "        result_list[itt]['num_clients'] = num_adv\n",
    "        result_list[itt]['beta'] = beta\n",
    "        result_list[itt]['weight2'] = weight2_list[itt]\n",
    "        # Perform gradient direction gathering\n",
    "\n",
    "    "
   ]
  },
  {
   "cell_type": "code",
   "execution_count": 6,
   "metadata": {},
   "outputs": [],
   "source": [
    "import pickle\n",
    "\n",
    "a = result_list\n",
    "\n",
    "with open('saved_results/mixed_sweep/250127_5a_nodefense_arui_cifar100.pk', 'wb') as handle:\n",
    "    pickle.dump(a, handle, protocol=pickle.HIGHEST_PROTOCOL)"
   ]
  },
  {
   "cell_type": "code",
   "execution_count": 7,
   "metadata": {},
   "outputs": [],
   "source": [
    "with open('saved_results/mixed_sweep/250127_5a_nodefense_arui_cifar100.pk', 'rb') as handle:\n",
    "    result_list = pickle.load(handle)"
   ]
  },
  {
   "cell_type": "code",
   "execution_count": 8,
   "metadata": {},
   "outputs": [
    {
     "name": "stderr",
     "output_type": "stream",
     "text": [
      "findfont: Font family ['normal'] not found. Falling back to DejaVu Sans.\n",
      "findfont: Font family ['normal'] not found. Falling back to DejaVu Sans.\n"
     ]
    },
    {
     "data": {
      "image/png": "[encoded data removed]",
      "text/plain": [
       "<Figure size 480x320 with 1 Axes>"
      ]
     },
     "metadata": {
      "needs_background": "light"
     },
     "output_type": "display_data"
    }
   ],
   "source": [
    "import matplotlib.pyplot as plt\n",
    "import numpy as np\n",
    "\n",
    "font = {'family' : 'normal',\n",
    "        'weight' : 'normal',\n",
    "        'size'   : 18}\n",
    "\n",
    "plt.rc('font', **font)\n",
    "plt.figure(dpi=80, figsize=(6,4))\n",
    "\n",
    "plot_settings = [[1, 0.5],[5, 0.3],[10, 0.15]]\n",
    "\n",
    "# num_aru = [1, 5, 10]\n",
    "# beta_params = [0.05, 0.05, 0.05]\n",
    "# weight2_list = [0.5, 0.3, 0.15]\n",
    "\n",
    "# Generate some sample data\n",
    "x = range(16)  # 100 points from 0 to 10\n",
    "\n",
    "# Plotting the lines\n",
    "# plt.plot(x, y1, label='Test Acc')\n",
    "label_list = plot_settings\n",
    "for i in range(len(label_list)):\n",
    "    y = np.array(result_list[i]['adv_acc'])\n",
    "    error = np.array(result_list[i]['adv_std'])\n",
    "    plt.plot(x, y, label= str(label_list[i]))\n",
    "    plt.fill_between(x, y-error, y+error,\n",
    "    alpha=0.2)\n",
    "\n",
    "# Adding labels and title\n",
    "plt.xlabel('Injection Rounds')\n",
    "plt.ylabel('Adv. Acc. (Robustness)')\n",
    "plt.title('CIFAR-100: ARU vs No Defense \\n Legend - [#ARU client, β]', fontsize = 'medium')\n",
    "\n",
    "# Adding a legend\n",
    "plt.legend( loc=1, fontsize='small')\n",
    "\n",
    "\n",
    "# Display the plot\n",
    "plt.show()\n"
   ]
  },
  {
   "cell_type": "code",
   "execution_count": null,
   "metadata": {},
   "outputs": [],
   "source": []
  }
 ],
 "metadata": {
  "kernelspec": {
   "display_name": "FedEM_env",
   "language": "python",
   "name": "python3"
  },
  "language_info": {
   "codemirror_mode": {
    "name": "ipython",
    "version": 3
   },
   "file_extension": ".py",
   "mimetype": "text/x-python",
   "name": "python",
   "nbconvert_exporter": "python",
   "pygments_lexer": "ipython3",
   "version": "3.9.6"
  }
 },
 "nbformat": 4,
 "nbformat_minor": 2
}
