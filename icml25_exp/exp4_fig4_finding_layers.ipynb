{
 "cells": [
  {
   "cell_type": "markdown",
   "metadata": {
    "vscode": {
     "languageId": "plaintext"
    }
   },
   "source": [
    "### Experiment 2 - Table 2\n",
    "\n",
    "Calculating test accuracy and robustness (adversarial accuracy, adv. acc) for different datasets and different settings, given Trimmed mean and median aggregation schemes"
   ]
  },
  {
   "cell_type": "code",
   "execution_count": 1,
   "metadata": {},
   "outputs": [
    {
     "name": "stdout",
     "output_type": "stream",
     "text": [
      "/home/ubuntu/fedatk_unl_tj\n"
     ]
    }
   ],
   "source": [
    "cd /home/ubuntu/fedatk_unl_tj/"
   ]
  },
  {
   "cell_type": "code",
   "execution_count": 2,
   "metadata": {},
   "outputs": [
    {
     "name": "stderr",
     "output_type": "stream",
     "text": [
      "/home/ubuntu/anaconda3/envs/FedEM_env/lib/python3.9/site-packages/pandas/core/computation/expressions.py:21: UserWarning: Pandas requires version '2.8.4' or newer of 'numexpr' (version '2.7.3' currently installed).\n",
      "  from pandas.core.computation.check import NUMEXPR_INSTALLED\n",
      "/home/ubuntu/anaconda3/envs/FedEM_env/lib/python3.9/site-packages/pandas/core/arrays/masked.py:60: UserWarning: Pandas requires version '1.3.6' or newer of 'bottleneck' (version '1.3.2' currently installed).\n",
      "  from pandas.core import (\n"
     ]
    }
   ],
   "source": [
    "# Import General Libraries\n",
    "import os\n",
    "import argparse\n",
    "import torch\n",
    "import copy\n",
    "import pickle\n",
    "import random\n",
    "import numpy as np\n",
    "import pandas as pd\n",
    "import gc\n",
    "\n",
    "import torch.nn.functional as F\n",
    "import re\n",
    "\n",
    "# Import FedEM based Libraries\n",
    "from utils.utils import *\n",
    "from utils.constants import *\n",
    "from utils.args import *\n",
    "from utils.util_notebooks import *\n",
    "from utils.util_notebooks import set_args, import_model_weights, get_adv_acc\n",
    "from run_experiment import *\n",
    "from models import *\n",
    "\n",
    "# Import Transfer Attack\n",
    "from transfer_attacks.Personalized_NN import *\n",
    "from transfer_attacks.Params import *\n",
    "from transfer_attacks.Transferer import *\n",
    "from transfer_attacks.Args import *\n",
    "from transfer_attacks.TA_utils import *\n",
    "\n",
    "\n",
    "\n"
   ]
  },
  {
   "cell_type": "code",
   "execution_count": 3,
   "metadata": {},
   "outputs": [],
   "source": [
    "# Specify aggregation method, number of clients, and dataset\n",
    "setting, num_user = \"FedAvg_adv\", 20\n",
    "exp = \"cifar10\"\n",
    "\n",
    "# Load models for FAT and FedAvg - write down path to where weights are saved\n",
    "save_path_FAT = '/home/ubuntu/fedatk_unl_tj/weights/cifar10/250123_icml25/FAT/'\n",
    "save_path_FedAvg =  '/home/ubuntu/fedatk_unl_tj/weights/cifar10/250123_icml25/FedAvg/'\n",
    "# save_path_FAT = '/home/ubuntu/fedatk_unl_tj/weights/cifar10/231031_FAT150round/FAT/'\n",
    "# save_path_FedAvg =  '/home/ubuntu/fedatk_unl_tj/weights/cifar10/230922_baseline_train/fedavg/'\n",
    "# save_path_FAT = '/home/ubuntu/fedatk_unl_tj/weights/fakenews/250119_small_architecture_moreconv/FAT_ep02/'\n",
    "# save_path_FedAvg =  '/home/ubuntu/fedatk_unl_tj/weights/fakenews/250119_small_architecture_moreconv/FedAvg/'\n",
    "\n",
    "# Attack parameters for performing PGD \n",
    "eps_attack = 4.0\n",
    "eps_train = 4.5\n",
    "step_size = 0.01\n",
    "steps = 10"
   ]
  },
  {
   "cell_type": "code",
   "execution_count": null,
   "metadata": {},
   "outputs": [
    {
     "name": "stdout",
     "output_type": "stream",
     "text": [
      "==> Clients initialization..\n",
      "===> Building data iterators..\n"
     ]
    },
    {
     "name": "stderr",
     "output_type": "stream",
     "text": [
      " 24%|██▍       | 19/80 [00:00<00:00, 115.84it/s]\n"
     ]
    },
    {
     "name": "stdout",
     "output_type": "stream",
     "text": [
      "===> Initializing clients..\n"
     ]
    },
    {
     "name": "stderr",
     "output_type": "stream",
     "text": [
      "  0%|          | 0/20 [00:00<?, ?it/s]/home/ubuntu/anaconda3/envs/FedEM_env/lib/python3.9/site-packages/torchvision/models/_utils.py:208: UserWarning: The parameter 'pretrained' is deprecated since 0.13 and may be removed in the future, please use 'weights' instead.\n",
      "  warnings.warn(\n",
      "/home/ubuntu/anaconda3/envs/FedEM_env/lib/python3.9/site-packages/torchvision/models/_utils.py:223: UserWarning: Arguments other than a weight enum or `None` for 'weights' are deprecated since 0.13 and may be removed in the future. The current behavior is equivalent to passing `weights=MobileNet_V2_Weights.IMAGENET1K_V1`. You can also use `weights=MobileNet_V2_Weights.DEFAULT` to get the most up-to-date weights.\n",
      "  warnings.warn(msg)\n",
      "100%|██████████| 20/20 [00:08<00:00,  2.31it/s]\n"
     ]
    }
   ],
   "source": [
    "# Generate instance of aggregator that holds all clients, data and models and load relevant models in\n",
    "try: # Skip loading if already loaded\n",
    "    aggregator\n",
    "except:\n",
    "    aggregator, clients, args_ = set_args(setting, num_user,  experiment = exp) # Indicate dataset here\n",
    "\n",
    "model_FAT = copy.deepcopy(import_model_weights(num_user, setting, save_path_FAT, aggregator, args_)[0])\n",
    "model_Fedavg = copy.deepcopy(import_model_weights(num_user, setting, save_path_FedAvg, aggregator, args_)[0])\n",
    "\n",
    "# Obtain parameters for each layer\n",
    "params_FAT = model_FAT.state_dict()\n",
    "params_FedAvg = model_Fedavg.state_dict()\n",
    "\n",
    "# Just take the values of weights and bias for the model\n",
    "desired_keys = params_FAT.keys() # [key for key in params_FAT.keys() if 'weight' in key or 'bias' in key] # "
   ]
  },
  {
   "cell_type": "code",
   "execution_count": 5,
   "metadata": {},
   "outputs": [],
   "source": [
    "# aggregator.load_state(dir_path=save_path_FAT)\n",
    "# aggregator.update_clients()\n",
    "# aggregation_op = 'trimmed_mean'\n",
    "# aggregator.op = aggregation_op\n",
    "# weight_scale_2 = 1\n",
    "# atk_rounds = 1\n",
    "# tm_beta = 0\n",
    "# adv_id = [0]\n",
    "\n",
    "# model_inject = model_Fedavg\n",
    "# keys = desired_keys\n",
    "\n",
    "# ################################# Code starts here\n",
    "\n",
    "# weight_scale = 1/aggregator.clients_weights\n",
    "# model_global = aggregator.global_learners_ensemble[0].model\n",
    "\n",
    "# # if aggregation_op == None:\n",
    "# #     aggregation_op = aggregator.aggregation_op\n",
    "    \n",
    "# # Based on aggregation methods change weight scale\n",
    "# if aggregation_op in ['median', 'krum', 'median_sublayers']:# == \"median\" or aggregation_op == \"krum\":\n",
    "#     weight_scale = np.ones(weight_scale.shape)\n",
    "\n",
    "# if aggregation_op in ['trimmed_mean']: # simple averaging takes place instead of weighted\n",
    "#     N_removed = int(tm_beta*len(aggregator.clients))\n",
    "#     weight_scale = np.ones(len(aggregator.clients))  * (len(aggregator.clients)-N_removed*2)\n",
    "#     print(\"trimmed mean, N removed: \", N_removed)\n",
    "#     print(\"weight scale: \\n\", weight_scale)\n",
    "\n",
    "# # Give adversarial clients boosted models and train regular clients 1 round\n",
    "# benign_id = list(range(len(aggregator.clients)))\n",
    "\n",
    "# for a_id in adv_id:\n",
    "#     benign_id.remove(a_id)\n",
    "#     temp_atk_model = calc_atk_model(model_inject, model_global, keys, weight_scale[a_id], weight_scale_2)\n",
    "\n",
    "# for c_id in benign_id:\n",
    "#     aggregator.clients[c_id].step()\n",
    "\n",
    "# learner_id = 0\n",
    "# global_learner = aggregator.global_learners_ensemble[learner_id]\n",
    "# learners =  [client.learners_ensemble[learner_id] for client in [aggregator.clients[i] for i in benign_id]]\n",
    "# adjusted_weights = torch.from_numpy((1/weight_scale)[benign_id] / np.sum( (1/weight_scale)[benign_id]))\n",
    "# average_learners(learners, global_learner, weights=adjusted_weights)\n",
    "\n",
    "# model_global_updated = aggregator.global_learners_ensemble[0].model\n",
    "\n",
    "# ############# - Unmix temp atk model - ###########\n",
    "# reverse_model = undo_calc_atk_model(temp_atk_model, model_global_updated, keys, weight_scale[a_id], weight_scale_2)\n"
   ]
  },
  {
   "cell_type": "code",
   "execution_count": 6,
   "metadata": {},
   "outputs": [
    {
     "name": "stdout",
     "output_type": "stream",
     "text": [
      "---- FGSM Batch Size: 50 ----\n",
      "\n",
      "Orig Target: [0, 8, 0, 8, 8, 8, 12, 2, 8, 4, 0, 4, 0, 8, 8, 9, 0, 5, 8, 4, 12, 12, 0, 4, 8, 12, 4, 8, 0, 8, 4, 4, 8, 0, 4, 4, 0, 4, 4, 8, 0, 12, 0, 8, 8, 0, 12, 8, 4, 8]\n",
      "Orig Output: [0, 0, 0, 8, 8, 8, 12, 2, 8, 4, 8, 4, 4, 0, 8, 9, 0, 13, 8, 4, 4, 12, 0, 4, 8, 12, 4, 8, 0, 8, 4, 4, 8, 4, 8, 6, 0, 6, 4, 8, 0, 12, 0, 8, 8, 0, 12, 8, 4, 8]\n",
      "ADV Output : [13, 0, 11, 4, 2, 0, 8, 14, 4, 8, 8, 8, 12, 1, 6, 4, 8, 14, 1, 0, 5, 1, 8, 13, 10, 0, 10, 13, 12, 1, 12, 10, 4, 14, 9, 14, 5, 14, 13, 13, 14, 5, 12, 0, 0, 14, 5, 4, 12, 5] \n",
      "\n",
      "Orig Loss  : -13.831871032714844\n",
      "ADV Loss   : 5.941608428955078 \n",
      "\n",
      "Orig Acc   : 0.7999999523162842\n",
      "ADV Acc    : 0.0\n",
      "---- FGSM Batch Size: 50 ----\n",
      "\n",
      "Orig Target: [12, 0, 12, 12, 0, 12, 8, 12, 0, 4, 0, 4, 4, 0, 12, 2, 8, 0, 4, 4, 4, 4, 0, 12, 8, 0, 0, 0, 0, 0, 5, 12, 12, 12, 2, 4, 14, 8, 4, 8, 4, 4, 4, 8, 4, 8, 0, 12, 0, 0]\n",
      "Orig Output: [14, 0, 12, 12, 0, 12, 8, 12, 0, 4, 0, 4, 4, 0, 4, 0, 0, 0, 4, 0, 4, 4, 8, 12, 8, 0, 0, 0, 0, 0, 5, 12, 8, 4, 2, 0, 12, 8, 4, 0, 4, 4, 8, 8, 0, 8, 8, 8, 0, 0]\n",
      "ADV Output : [5, 8, 0, 6, 2, 0, 4, 10, 8, 13, 14, 14, 14, 12, 6, 8, 0, 4, 8, 8, 6, 9, 12, 5, 10, 8, 12, 10, 10, 14, 15, 8, 0, 4, 4, 8, 4, 12, 14, 0, 14, 0, 10, 2, 0, 13, 12, 9, 1, 12] \n",
      "\n",
      "Orig Loss  : -12.619232177734375\n",
      "ADV Loss   : 5.842076301574707 \n",
      "\n",
      "Orig Acc   : 0.699999988079071\n",
      "ADV Acc    : 0.0\n",
      "Accuracy of model_Fedavg on clean data (x_data): 80.00%\n",
      "Accuracy of model_Fedavg on adversarial data (x_adv): 0.00%\n",
      "Accuracy of model_FAT on clean data (x_data): 86.00%\n",
      "Accuracy of model_FAT on adversarial data (x_adv): 78.00%\n"
     ]
    }
   ],
   "source": [
    "x_min = torch.min(aggregator.clients[0].adv_nn.dataloader.x_data).detach().cuda()\n",
    "x_max = torch.max(aggregator.clients[0].adv_nn.dataloader.x_data).detach().cuda()\n",
    "import torch\n",
    "import torch.nn.functional as F\n",
    "\n",
    "def calculate_accuracy(model, x_data, y_data):\n",
    "    \"\"\"\n",
    "    Calculate accuracy of a model on given data.\n",
    "\n",
    "    Args:\n",
    "        model: The model to evaluate (e.g., model_Fedavg or model_FAT).\n",
    "        x_data: The input data (tensor).\n",
    "        y_data: The ground truth labels (tensor).\n",
    "\n",
    "    Returns:\n",
    "        Accuracy as a percentage (float).\n",
    "    \"\"\"\n",
    "    model.eval()  # Set model to evaluation mode\n",
    "    with torch.no_grad():\n",
    "        # Forward pass\n",
    "        outputs = model(x_data.cuda())  # Make sure input is on GPU\n",
    "        _, predicted = torch.max(outputs, 1)  # Get the predicted class\n",
    "        correct = (predicted == y_data.cuda()).sum().item()  # Count correct predictions\n",
    "        accuracy = correct / len(y_data) * 100  # Calculate accuracy percentage\n",
    "    return accuracy\n",
    "\n",
    "c_id = 3\n",
    "\n",
    "# Load client data\n",
    "dataloader = load_client_data(clients=aggregator.clients, c_id=c_id, mode='test')\n",
    "# x_data = copy.deepcopy(dataloader.x_data.to(torch.float32).cuda())  # Convert to float32 and move to GPU\n",
    "# y_data = dataloader.y_data.cuda()  # Move ground truth to GPU\n",
    "\n",
    "# Generate adversarial data (x_adv)\n",
    "atk_params = PGD_Params()\n",
    "atk_params.set_params(batch_size=50, iteration=steps,\n",
    "                target=-1, x_val_min=x_min, x_val_max=x_max,\n",
    "                step_size=step_size, step_norm=\"inf\", eps=eps_attack, eps_norm=2)\n",
    "\n",
    "combined_model = aggregator.clients[0].combine_learners_ensemble()\n",
    "generator = Adv_NN(model_Fedavg, dataloader)\n",
    "\n",
    "# Perform adversarial attack\n",
    "generator.pgd(atk_params, print_info = True)\n",
    "x_adv = generator.x_adv.to(torch.float32).cuda()  # Convert to float32 and move to GPU\n",
    "x_data = generator.x_orig.to(torch.float32).cuda()\n",
    "y_data = generator.y_orig.cuda()\n",
    "\n",
    "generator2 = Adv_NN(model_FAT, dataloader)\n",
    "generator.pgd(atk_params, print_info = True)\n",
    "\n",
    "# Calculate accuracy for x_data and x_adv using model_Fedavg and model_FAT\n",
    "accuracy_fedavg_x_data = calculate_accuracy(model_Fedavg, x_data, y_data)\n",
    "accuracy_fedavg_x_adv = calculate_accuracy(model_Fedavg, x_adv, y_data)\n",
    "\n",
    "accuracy_fat_x_data = calculate_accuracy(model_FAT, x_data, y_data)\n",
    "accuracy_fat_x_adv = calculate_accuracy(model_FAT, x_adv, y_data)\n",
    "\n",
    "# Print out the results\n",
    "print(f\"Accuracy of model_Fedavg on clean data (x_data): {accuracy_fedavg_x_data:.2f}%\")\n",
    "print(f\"Accuracy of model_Fedavg on adversarial data (x_adv): {accuracy_fedavg_x_adv:.2f}%\")\n",
    "\n",
    "print(f\"Accuracy of model_FAT on clean data (x_data): {accuracy_fat_x_data:.2f}%\")\n",
    "print(f\"Accuracy of model_FAT on adversarial data (x_adv): {accuracy_fat_x_adv:.2f}%\")\n"
   ]
  },
  {
   "cell_type": "code",
   "execution_count": 7,
   "metadata": {},
   "outputs": [
    {
     "name": "stderr",
     "output_type": "stream",
     "text": [
      "findfont: Font family ['normal'] not found. Falling back to DejaVu Sans.\n"
     ]
    },
    {
     "name": "stdout",
     "output_type": "stream",
     "text": [
      "Submodule Name                 Mean Cosine Similarity         Std Dev\n",
      "=================================================================\n",
      "features.0                               0.97798049      0.00552061 \n",
      "features.1                               0.83534741      0.01938468 !!!\n",
      "features.2                               0.82017720      0.02216417 !!!\n",
      "features.3                               0.82873839      0.02162367 !!!\n",
      "features.4                               0.82218945      0.02397164 !!!\n",
      "features.5                               0.80547714      0.02572455 !!!\n",
      "features.6                               0.80820942      0.02619664 !!!\n",
      "features.7                               0.80538589      0.03134723 !!!\n",
      "features.8                               0.81054288      0.02921005 !!!\n",
      "features.9                               0.79852659      0.02937685 !!!\n",
      "features.10                              0.77734250      0.03386020 !!!\n",
      "features.11                              0.76263905      0.03467214 !!!\n",
      "features.12                              0.73965740      0.03655548 !!!\n",
      "features.13                              0.71017540      0.03784055 !!!\n",
      "features.14                              0.62832767      0.06374711 !!!\n",
      "features.15                              0.58653271      0.07775020 !!!\n",
      "features.16                              0.56668669      0.09995620 !!!\n",
      "features.17                              0.49580073      0.08637096 !!!\n",
      "features.18                              0.59327185      0.07390992 !!!\n",
      "classifier.0                             0.61180806      0.07389298 !!!\n",
      "classifier.1                             0.90865105      0.06276900 !!!\n",
      "Submodule Name                 Mean Cosine Similarity         Std Dev\n",
      "=================================================================\n",
      "features.0                               0.97792584      0.00555034 \n",
      "features.1                               0.83456546      0.01926792 !!!\n",
      "features.2                               0.81605506      0.02168055 !!!\n",
      "features.3                               0.82090592      0.02181358 !!!\n",
      "features.4                               0.80609435      0.02469526 !!!\n",
      "features.5                               0.78633469      0.02683184 !!!\n",
      "features.6                               0.78530425      0.02861337 !!!\n",
      "features.7                               0.76632702      0.03534967 !!!\n",
      "features.8                               0.77203625      0.03357332 !!!\n",
      "features.9                               0.75786602      0.03540158 !!!\n",
      "features.10                              0.73358142      0.04001560 !!!\n",
      "features.11                              0.70338941      0.03926171 !!!\n",
      "features.12                              0.67317563      0.04133047 !!!\n",
      "features.13                              0.63165289      0.04766416 !!!\n",
      "features.14                              0.42798072      0.08074619 !!!\n",
      "features.15                              0.36251837      0.09783948 !!!\n",
      "features.16                              0.27830768      0.12821183 !!!\n",
      "features.17                              0.04479867      0.13404858 !!!\n",
      "features.18                              0.28548682      0.08227874 !!!\n",
      "classifier.0                             0.29518238      0.08459324 !!!\n",
      "classifier.1                            -0.09945740      0.34651834 !!!\n"
     ]
    },
    {
     "name": "stderr",
     "output_type": "stream",
     "text": [
      "findfont: Font family ['normal'] not found. Falling back to DejaVu Sans.\n",
      "findfont: Font family ['normal'] not found. Falling back to DejaVu Sans.\n"
     ]
    },
    {
     "data": {
      "image/png": "[encoded data removed]",
      "text/plain": [
       "<Figure size 480x320 with 1 Axes>"
      ]
     },
     "metadata": {
      "needs_background": "light"
     },
     "output_type": "display_data"
    }
   ],
   "source": [
    "# Assuming the function compare_top_level_outputs_with_cosine_similarity is already defined as previously\n",
    "\n",
    "# Example usage for Benign and Adversarial inputs\n",
    "labs1, cs1, std_dev1 = compare_top_level_outputs_with_cosine_similarity(model_FAT, model_Fedavg, x_data.cuda())\n",
    "labs2, cs2, std_dev2 = compare_top_level_outputs_with_cosine_similarity(model_FAT, model_Fedavg, x_adv.cuda())\n",
    "# labs1, cs1, std_dev1 = compare_top_level_outputs_with_cosine_similarity_fnn(model_FAT, model_Fedavg, x_data.cuda())\n",
    "# labs2, cs2, std_dev2 = compare_top_level_outputs_with_cosine_similarity_fnn(model_FAT, model_Fedavg, x_adv.cuda())\n",
    "\n",
    "# Plotting setup\n",
    "font = {'family': 'normal', 'weight': 'normal', 'size': 13}\n",
    "threshold = 0.95\n",
    "\n",
    "# Set font and figure size\n",
    "plt.rc('font', **font)\n",
    "plt.figure(dpi=80, figsize=(6, 4))\n",
    "\n",
    "# Plot Cosine Similarities for both sets of inputs\n",
    "line_color1 = 'b'  # Color for benign input\n",
    "line_color2 = 'r'  # Color for adversarial input\n",
    "\n",
    "plt.plot(labs1, cs1, marker=\"o\", color=line_color1, label=\"Benign Input\")\n",
    "plt.plot(labs2, cs2, marker=\"o\", color=line_color2, label=\"Adversarial Input\")\n",
    "\n",
    "# Overlay standard deviation ranges with matching colors\n",
    "plt.fill_between(labs1, \n",
    "                 np.array(cs1) - std_dev1, \n",
    "                 np.array(cs1) + std_dev1, \n",
    "                 color=line_color1, alpha=0.2)\n",
    "\n",
    "plt.fill_between(labs2, \n",
    "                 np.array(cs2) - std_dev2, \n",
    "                 np.array(cs2) + std_dev2, \n",
    "                 color=line_color2, alpha=0.2)\n",
    "\n",
    "# Add threshold line (optional)\n",
    "# plt.axhline(y=threshold, color=\"r\", linestyle=\"--\", label=f\"Threshold = {threshold}\")\n",
    "\n",
    "# Plot settings\n",
    "plt.xticks(rotation=45, ha=\"right\", fontsize=9)\n",
    "plt.ylabel(\"Cosine Similarity\")\n",
    "plt.title(\"Celeba Layer Comparison (Benign vs Adversarial Inputs)\")\n",
    "plt.legend()\n",
    "plt.tight_layout()\n",
    "\n",
    "# Display the plot\n",
    "plt.show()"
   ]
  },
  {
   "cell_type": "code",
   "execution_count": 8,
   "metadata": {},
   "outputs": [
    {
     "name": "stdout",
     "output_type": "stream",
     "text": [
      "Submodule Name                 Mean Cosine Similarity         Std Dev\n",
      "=================================================================\n",
      "features.0                               0.97798049      0.00552061 \n",
      "features.1                               0.89806896      0.00924663 !!!\n",
      "features.2                               0.90015584      0.01830671 !!!\n",
      "features.3                               0.96195936      0.00485038 \n",
      "features.4                               0.94467634      0.00403314 !!!\n",
      "features.5                               0.98320663      0.00129516 \n",
      "features.6                               0.98918605      0.00086616 \n",
      "features.7                               0.96109408      0.00323687 \n",
      "features.8                               0.97902119      0.00295001 \n",
      "features.9                               0.98802048      0.00166767 \n",
      "features.10                              0.98355108      0.01023172 \n",
      "features.11                              0.96765447      0.00221065 \n",
      "features.12                              0.96797997      0.00347614 \n",
      "features.13                              0.96584290      0.00833764 \n",
      "features.14                              0.92503309      0.00899715 !!!\n",
      "features.15                              0.96794617      0.00420475 \n",
      "features.16                              0.97310150      0.00434103 \n",
      "features.17                              0.88597953      0.01892358 !!!\n",
      "features.18                              0.98352158      0.00280086 \n",
      "classifier.0                             1.00000000      0.00000007 \n",
      "classifier.1                             0.98377401      0.00887661 \n",
      "Submodule Name                 Mean Cosine Similarity         Std Dev\n",
      "=================================================================\n",
      "features.0                               0.97792584      0.00555034 \n",
      "features.1                               0.89832240      0.00915678 !!!\n",
      "features.2                               0.89988971      0.01836708 !!!\n",
      "features.3                               0.96184486      0.00488180 \n",
      "features.4                               0.94447708      0.00406510 !!!\n",
      "features.5                               0.98319471      0.00130720 \n",
      "features.6                               0.98917753      0.00086286 \n",
      "features.7                               0.96100050      0.00322428 \n",
      "features.8                               0.97894192      0.00289129 \n",
      "features.9                               0.98799938      0.00163788 \n",
      "features.10                              0.98356426      0.01033781 \n",
      "features.11                              0.96760738      0.00222497 \n",
      "features.12                              0.96777481      0.00372783 \n",
      "features.13                              0.96562755      0.00866227 \n",
      "features.14                              0.92425328      0.00937683 !!!\n",
      "features.15                              0.96787232      0.00416477 \n",
      "features.16                              0.97315133      0.00421672 \n",
      "features.17                              0.88533902      0.01848776 !!!\n",
      "features.18                              0.98380107      0.00284582 \n",
      "classifier.0                             1.00000000      0.00000006 \n",
      "classifier.1                             0.98368025      0.00908493 \n"
     ]
    },
    {
     "data": {
      "image/png": "[encoded data removed]",
      "text/plain": [
       "<Figure size 480x320 with 1 Axes>"
      ]
     },
     "metadata": {
      "needs_background": "light"
     },
     "output_type": "display_data"
    }
   ],
   "source": [
    "\n",
    "# Example usage for benign and adversarial inputs\n",
    "labs1, cs1, std_dev1 = compare_intermediate_outputs_with_cosine_similarity(model_FAT, model_Fedavg, x_data.cuda())\n",
    "labs2, cs2, std_dev2 = compare_intermediate_outputs_with_cosine_similarity(model_FAT, model_Fedavg, x_adv.cuda())\n",
    "\n",
    "# labs1, cs1, std_dev1 = compare_intermediate_outputs_with_cosine_similarity_fnn(model_FAT, model_Fedavg, x_data.cuda())\n",
    "# labs2, cs2, std_dev2 = compare_intermediate_outputs_with_cosine_similarity_fnn(model_FAT, model_Fedavg, x_adv.cuda())\n",
    "\n",
    "# Plot cosine similarity with standard deviation range\n",
    "font = {'family': 'normal', 'weight': 'normal', 'size': 13}\n",
    "threshold = 0.95\n",
    "\n",
    "# Set font and figure size\n",
    "plt.rc('font', **font)\n",
    "plt.figure(dpi=80, figsize=(6, 4))\n",
    "\n",
    "# Plot the cosine similarity curves\n",
    "line_color1 = 'b'  # Benign input curve color\n",
    "line_color2 = 'r'  # Adversarial input curve color\n",
    "\n",
    "plt.plot(labs1, cs1, marker=\"o\", color=line_color1, label=\"Benign Input\")\n",
    "plt.plot(labs2, cs2, marker=\"o\", color=line_color2, label=\"Adversarial Input\")\n",
    "\n",
    "# Overlay standard deviation as shaded regions\n",
    "plt.fill_between(labs1, \n",
    "                 np.array(cs1) - std_dev1, \n",
    "                 np.array(cs1) + std_dev1, \n",
    "                 color=line_color1, alpha=0.2)\n",
    "\n",
    "plt.fill_between(labs2, \n",
    "                 np.array(cs2) - std_dev2, \n",
    "                 np.array(cs2) + std_dev2, \n",
    "                 color=line_color2, alpha=0.2)\n",
    "\n",
    "# Optional: Add threshold line\n",
    "plt.axhline(y=threshold, color=\"r\", linestyle=\"--\", label=f\"Threshold = {threshold}\")\n",
    "\n",
    "# Plot settings\n",
    "plt.xticks(rotation=45, ha=\"right\", fontsize=9)\n",
    "plt.ylabel(\"Cosine Similarity\")\n",
    "plt.title(\"Celeba Layer Compare (Same Inputs per Layer)\")\n",
    "plt.legend()\n",
    "plt.tight_layout()\n",
    "\n",
    "# Show the plot\n",
    "plt.show()"
   ]
  },
  {
   "cell_type": "code",
   "execution_count": 9,
   "metadata": {},
   "outputs": [
    {
     "data": {
      "text/plain": [
       "odict_keys(['features.0.0.weight', 'features.0.1.weight', 'features.0.1.bias', 'features.0.1.running_mean', 'features.0.1.running_var', 'features.0.1.num_batches_tracked', 'features.1.conv.0.0.weight', 'features.1.conv.0.1.weight', 'features.1.conv.0.1.bias', 'features.1.conv.0.1.running_mean', 'features.1.conv.0.1.running_var', 'features.1.conv.0.1.num_batches_tracked', 'features.1.conv.1.weight', 'features.1.conv.2.weight', 'features.1.conv.2.bias', 'features.1.conv.2.running_mean', 'features.1.conv.2.running_var', 'features.1.conv.2.num_batches_tracked', 'features.2.conv.0.0.weight', 'features.2.conv.0.1.weight', 'features.2.conv.0.1.bias', 'features.2.conv.0.1.running_mean', 'features.2.conv.0.1.running_var', 'features.2.conv.0.1.num_batches_tracked', 'features.2.conv.1.0.weight', 'features.2.conv.1.1.weight', 'features.2.conv.1.1.bias', 'features.2.conv.1.1.running_mean', 'features.2.conv.1.1.running_var', 'features.2.conv.1.1.num_batches_tracked', 'features.2.conv.2.weight', 'features.2.conv.3.weight', 'features.2.conv.3.bias', 'features.2.conv.3.running_mean', 'features.2.conv.3.running_var', 'features.2.conv.3.num_batches_tracked', 'features.3.conv.0.0.weight', 'features.3.conv.0.1.weight', 'features.3.conv.0.1.bias', 'features.3.conv.0.1.running_mean', 'features.3.conv.0.1.running_var', 'features.3.conv.0.1.num_batches_tracked', 'features.3.conv.1.0.weight', 'features.3.conv.1.1.weight', 'features.3.conv.1.1.bias', 'features.3.conv.1.1.running_mean', 'features.3.conv.1.1.running_var', 'features.3.conv.1.1.num_batches_tracked', 'features.3.conv.2.weight', 'features.3.conv.3.weight', 'features.3.conv.3.bias', 'features.3.conv.3.running_mean', 'features.3.conv.3.running_var', 'features.3.conv.3.num_batches_tracked', 'features.4.conv.0.0.weight', 'features.4.conv.0.1.weight', 'features.4.conv.0.1.bias', 'features.4.conv.0.1.running_mean', 'features.4.conv.0.1.running_var', 'features.4.conv.0.1.num_batches_tracked', 'features.4.conv.1.0.weight', 'features.4.conv.1.1.weight', 'features.4.conv.1.1.bias', 'features.4.conv.1.1.running_mean', 'features.4.conv.1.1.running_var', 'features.4.conv.1.1.num_batches_tracked', 'features.4.conv.2.weight', 'features.4.conv.3.weight', 'features.4.conv.3.bias', 'features.4.conv.3.running_mean', 'features.4.conv.3.running_var', 'features.4.conv.3.num_batches_tracked', 'features.5.conv.0.0.weight', 'features.5.conv.0.1.weight', 'features.5.conv.0.1.bias', 'features.5.conv.0.1.running_mean', 'features.5.conv.0.1.running_var', 'features.5.conv.0.1.num_batches_tracked', 'features.5.conv.1.0.weight', 'features.5.conv.1.1.weight', 'features.5.conv.1.1.bias', 'features.5.conv.1.1.running_mean', 'features.5.conv.1.1.running_var', 'features.5.conv.1.1.num_batches_tracked', 'features.5.conv.2.weight', 'features.5.conv.3.weight', 'features.5.conv.3.bias', 'features.5.conv.3.running_mean', 'features.5.conv.3.running_var', 'features.5.conv.3.num_batches_tracked', 'features.6.conv.0.0.weight', 'features.6.conv.0.1.weight', 'features.6.conv.0.1.bias', 'features.6.conv.0.1.running_mean', 'features.6.conv.0.1.running_var', 'features.6.conv.0.1.num_batches_tracked', 'features.6.conv.1.0.weight', 'features.6.conv.1.1.weight', 'features.6.conv.1.1.bias', 'features.6.conv.1.1.running_mean', 'features.6.conv.1.1.running_var', 'features.6.conv.1.1.num_batches_tracked', 'features.6.conv.2.weight', 'features.6.conv.3.weight', 'features.6.conv.3.bias', 'features.6.conv.3.running_mean', 'features.6.conv.3.running_var', 'features.6.conv.3.num_batches_tracked', 'features.7.conv.0.0.weight', 'features.7.conv.0.1.weight', 'features.7.conv.0.1.bias', 'features.7.conv.0.1.running_mean', 'features.7.conv.0.1.running_var', 'features.7.conv.0.1.num_batches_tracked', 'features.7.conv.1.0.weight', 'features.7.conv.1.1.weight', 'features.7.conv.1.1.bias', 'features.7.conv.1.1.running_mean', 'features.7.conv.1.1.running_var', 'features.7.conv.1.1.num_batches_tracked', 'features.7.conv.2.weight', 'features.7.conv.3.weight', 'features.7.conv.3.bias', 'features.7.conv.3.running_mean', 'features.7.conv.3.running_var', 'features.7.conv.3.num_batches_tracked', 'features.8.conv.0.0.weight', 'features.8.conv.0.1.weight', 'features.8.conv.0.1.bias', 'features.8.conv.0.1.running_mean', 'features.8.conv.0.1.running_var', 'features.8.conv.0.1.num_batches_tracked', 'features.8.conv.1.0.weight', 'features.8.conv.1.1.weight', 'features.8.conv.1.1.bias', 'features.8.conv.1.1.running_mean', 'features.8.conv.1.1.running_var', 'features.8.conv.1.1.num_batches_tracked', 'features.8.conv.2.weight', 'features.8.conv.3.weight', 'features.8.conv.3.bias', 'features.8.conv.3.running_mean', 'features.8.conv.3.running_var', 'features.8.conv.3.num_batches_tracked', 'features.9.conv.0.0.weight', 'features.9.conv.0.1.weight', 'features.9.conv.0.1.bias', 'features.9.conv.0.1.running_mean', 'features.9.conv.0.1.running_var', 'features.9.conv.0.1.num_batches_tracked', 'features.9.conv.1.0.weight', 'features.9.conv.1.1.weight', 'features.9.conv.1.1.bias', 'features.9.conv.1.1.running_mean', 'features.9.conv.1.1.running_var', 'features.9.conv.1.1.num_batches_tracked', 'features.9.conv.2.weight', 'features.9.conv.3.weight', 'features.9.conv.3.bias', 'features.9.conv.3.running_mean', 'features.9.conv.3.running_var', 'features.9.conv.3.num_batches_tracked', 'features.10.conv.0.0.weight', 'features.10.conv.0.1.weight', 'features.10.conv.0.1.bias', 'features.10.conv.0.1.running_mean', 'features.10.conv.0.1.running_var', 'features.10.conv.0.1.num_batches_tracked', 'features.10.conv.1.0.weight', 'features.10.conv.1.1.weight', 'features.10.conv.1.1.bias', 'features.10.conv.1.1.running_mean', 'features.10.conv.1.1.running_var', 'features.10.conv.1.1.num_batches_tracked', 'features.10.conv.2.weight', 'features.10.conv.3.weight', 'features.10.conv.3.bias', 'features.10.conv.3.running_mean', 'features.10.conv.3.running_var', 'features.10.conv.3.num_batches_tracked', 'features.11.conv.0.0.weight', 'features.11.conv.0.1.weight', 'features.11.conv.0.1.bias', 'features.11.conv.0.1.running_mean', 'features.11.conv.0.1.running_var', 'features.11.conv.0.1.num_batches_tracked', 'features.11.conv.1.0.weight', 'features.11.conv.1.1.weight', 'features.11.conv.1.1.bias', 'features.11.conv.1.1.running_mean', 'features.11.conv.1.1.running_var', 'features.11.conv.1.1.num_batches_tracked', 'features.11.conv.2.weight', 'features.11.conv.3.weight', 'features.11.conv.3.bias', 'features.11.conv.3.running_mean', 'features.11.conv.3.running_var', 'features.11.conv.3.num_batches_tracked', 'features.12.conv.0.0.weight', 'features.12.conv.0.1.weight', 'features.12.conv.0.1.bias', 'features.12.conv.0.1.running_mean', 'features.12.conv.0.1.running_var', 'features.12.conv.0.1.num_batches_tracked', 'features.12.conv.1.0.weight', 'features.12.conv.1.1.weight', 'features.12.conv.1.1.bias', 'features.12.conv.1.1.running_mean', 'features.12.conv.1.1.running_var', 'features.12.conv.1.1.num_batches_tracked', 'features.12.conv.2.weight', 'features.12.conv.3.weight', 'features.12.conv.3.bias', 'features.12.conv.3.running_mean', 'features.12.conv.3.running_var', 'features.12.conv.3.num_batches_tracked', 'features.13.conv.0.0.weight', 'features.13.conv.0.1.weight', 'features.13.conv.0.1.bias', 'features.13.conv.0.1.running_mean', 'features.13.conv.0.1.running_var', 'features.13.conv.0.1.num_batches_tracked', 'features.13.conv.1.0.weight', 'features.13.conv.1.1.weight', 'features.13.conv.1.1.bias', 'features.13.conv.1.1.running_mean', 'features.13.conv.1.1.running_var', 'features.13.conv.1.1.num_batches_tracked', 'features.13.conv.2.weight', 'features.13.conv.3.weight', 'features.13.conv.3.bias', 'features.13.conv.3.running_mean', 'features.13.conv.3.running_var', 'features.13.conv.3.num_batches_tracked', 'features.14.conv.0.0.weight', 'features.14.conv.0.1.weight', 'features.14.conv.0.1.bias', 'features.14.conv.0.1.running_mean', 'features.14.conv.0.1.running_var', 'features.14.conv.0.1.num_batches_tracked', 'features.14.conv.1.0.weight', 'features.14.conv.1.1.weight', 'features.14.conv.1.1.bias', 'features.14.conv.1.1.running_mean', 'features.14.conv.1.1.running_var', 'features.14.conv.1.1.num_batches_tracked', 'features.14.conv.2.weight', 'features.14.conv.3.weight', 'features.14.conv.3.bias', 'features.14.conv.3.running_mean', 'features.14.conv.3.running_var', 'features.14.conv.3.num_batches_tracked', 'features.15.conv.0.0.weight', 'features.15.conv.0.1.weight', 'features.15.conv.0.1.bias', 'features.15.conv.0.1.running_mean', 'features.15.conv.0.1.running_var', 'features.15.conv.0.1.num_batches_tracked', 'features.15.conv.1.0.weight', 'features.15.conv.1.1.weight', 'features.15.conv.1.1.bias', 'features.15.conv.1.1.running_mean', 'features.15.conv.1.1.running_var', 'features.15.conv.1.1.num_batches_tracked', 'features.15.conv.2.weight', 'features.15.conv.3.weight', 'features.15.conv.3.bias', 'features.15.conv.3.running_mean', 'features.15.conv.3.running_var', 'features.15.conv.3.num_batches_tracked', 'features.16.conv.0.0.weight', 'features.16.conv.0.1.weight', 'features.16.conv.0.1.bias', 'features.16.conv.0.1.running_mean', 'features.16.conv.0.1.running_var', 'features.16.conv.0.1.num_batches_tracked', 'features.16.conv.1.0.weight', 'features.16.conv.1.1.weight', 'features.16.conv.1.1.bias', 'features.16.conv.1.1.running_mean', 'features.16.conv.1.1.running_var', 'features.16.conv.1.1.num_batches_tracked', 'features.16.conv.2.weight', 'features.16.conv.3.weight', 'features.16.conv.3.bias', 'features.16.conv.3.running_mean', 'features.16.conv.3.running_var', 'features.16.conv.3.num_batches_tracked', 'features.17.conv.0.0.weight', 'features.17.conv.0.1.weight', 'features.17.conv.0.1.bias', 'features.17.conv.0.1.running_mean', 'features.17.conv.0.1.running_var', 'features.17.conv.0.1.num_batches_tracked', 'features.17.conv.1.0.weight', 'features.17.conv.1.1.weight', 'features.17.conv.1.1.bias', 'features.17.conv.1.1.running_mean', 'features.17.conv.1.1.running_var', 'features.17.conv.1.1.num_batches_tracked', 'features.17.conv.2.weight', 'features.17.conv.3.weight', 'features.17.conv.3.bias', 'features.17.conv.3.running_mean', 'features.17.conv.3.running_var', 'features.17.conv.3.num_batches_tracked', 'features.18.0.weight', 'features.18.1.weight', 'features.18.1.bias', 'features.18.1.running_mean', 'features.18.1.running_var', 'features.18.1.num_batches_tracked', 'classifier.1.weight', 'classifier.1.bias'])"
      ]
     },
     "execution_count": 9,
     "metadata": {},
     "output_type": "execute_result"
    }
   ],
   "source": [
    "model_Fedavg.state_dict().keys()"
   ]
  },
  {
   "cell_type": "code",
   "execution_count": 10,
   "metadata": {},
   "outputs": [
    {
     "name": "stdout",
     "output_type": "stream",
     "text": [
      "Test acc:  0.799399995803833  ( 0.05217871255242397 )  adv acc:  0.0  ( 0.0 ) \n",
      "Test acc:  0.8132666707038879  ( 0.055153083927723605 )  adv acc:  0.5271000072360039  ( 0.06360408055739084 ) \n"
     ]
    }
   ],
   "source": [
    "# Take measurement for FedAvg model\n",
    "aggregator.load_state(dir_path=save_path_FedAvg)\n",
    "aggregator.update_clients()\n",
    "model_FA = pull_model_from_agg(aggregator)\n",
    "model_FA.eval()\n",
    "acc, adv_acc = get_adv_acc(aggregator, model_FA, eps=eps_attack, step_size = step_size, steps = steps)\n",
    "\n",
    "print(\"Test acc: \", np.mean(acc), \" (\", np.std(acc),\") \", \"adv acc: \", np.mean(adv_acc),\" (\", np.std(adv_acc),\") \")\n",
    "\n",
    "# Take measurement for FedAvg model\n",
    "aggregator.load_state(dir_path=save_path_FAT)\n",
    "aggregator.update_clients()\n",
    "model_FA = pull_model_from_agg(aggregator)\n",
    "model_FA.eval()\n",
    "acc, adv_acc = get_adv_acc(aggregator, model_FA, eps=eps_attack, step_size = step_size, steps = steps)\n",
    "\n",
    "print(\"Test acc: \", np.mean(acc), \" (\", np.std(acc),\") \", \"adv acc: \", np.mean(adv_acc),\" (\", np.std(adv_acc),\") \")"
   ]
  },
  {
   "cell_type": "code",
   "execution_count": 11,
   "metadata": {},
   "outputs": [],
   "source": [
    "# # Take measurement for ARU attack\n",
    "# aggregator.load_state(dir_path=save_path_FAT)\n",
    "# aggregator.update_clients()\n",
    "# aggregation_op = 'trimmed_mean'\n",
    "# aggregator.op = aggregation_op\n",
    "# weight_scale_2 = 1\n",
    "# atk_rounds = 1\n",
    "# tm_beta = 0\n",
    "\n",
    "# if False:\n",
    "#     print(\"updating adv data set\")\n",
    "\n",
    "#     # add adv dataset update\n",
    "#     Fu = np.ones(num_user) * 0.5\n",
    "\n",
    "#     # Setting evasion attack parameters\n",
    "#     x_min = torch.min(aggregator.clients[0].adv_nn.dataloader.x_data).detach().cuda()\n",
    "#     x_max = torch.max(aggregator.clients[0].adv_nn.dataloader.x_data).detach().cuda()\n",
    "#     atk_params = PGD_Params()\n",
    "#     atk_params.set_params(batch_size=1, iteration = steps,\n",
    "#                     target = -1, x_val_min = x_min, x_val_max = x_max,\n",
    "#                     step_size = step_size, step_norm = \"inf\", eps = eps_train, eps_norm = 2)\n",
    "\n",
    "#     # Assign proportion and attack params\n",
    "#     for c in range(len(aggregator.clients)):\n",
    "#         if Fu[c] > 0:\n",
    "#             # print (c)\n",
    "#             aggregator.clients[c].set_adv_params(Fu[c], atk_params)\n",
    "#             aggregator.clients[c].update_advnn()\n",
    "\n",
    "#             aggregator.clients[c].assign_advdataset()\n",
    "\n",
    "\n",
    "# for i in range(atk_rounds):\n",
    "#     print('round ', i)\n",
    "#     UNL_mix(aggregator, adv_id=[0], model_inject=model_FAT, weight_scale_2 = weight_scale_2, keys=desired_keys, aggregation_op = aggregation_op, tm_beta = tm_beta)\n",
    "\n",
    "\n",
    "# model_overfit = pull_model_from_agg(aggregator)\n",
    "# model_overfit.eval()\n",
    "# acc, adv_acc = get_adv_acc(aggregator, model_overfit, eps=eps_attack, step_size = step_size, steps = steps)\n",
    "# print(\"TRIMMED MEAN\")\n",
    "# print(\"Test acc: \", np.mean(acc), \" (\", np.std(acc),\") \", \"adv acc: \", np.mean(adv_acc),\" (\", np.std(adv_acc),\") \")"
   ]
  },
  {
   "cell_type": "code",
   "execution_count": 12,
   "metadata": {},
   "outputs": [],
   "source": [
    "# dataloader = load_client_data(clients = aggregator.clients, c_id = 0, mode = 'test')\n",
    "# x_data = dataloader.x_data\n",
    "# y_data = dataloader.y_data\n",
    "# # Example usage\n",
    "# _ = compare_layer_outputs_with_cosine_similarity(model_Fedavg, model_overfit, x_data.cuda())"
   ]
  },
  {
   "cell_type": "code",
   "execution_count": null,
   "metadata": {},
   "outputs": [
    {
     "ename": "NameError",
     "evalue": "name 'model_overfit' is not defined",
     "output_type": "error",
     "traceback": [
      "\u001b[0;31m---------------------------------------------------------------------------\u001b[0m",
      "\u001b[0;31mNameError\u001b[0m                                 Traceback (most recent call last)",
      "\u001b[0;32m/tmp/ipykernel_56203/3343561266.py\u001b[0m in \u001b[0;36m<module>\u001b[0;34m\u001b[0m\n\u001b[0;32m----> 1\u001b[0;31m \u001b[0mmodel_overfit\u001b[0m\u001b[0;34m.\u001b[0m\u001b[0mstate_dict\u001b[0m\u001b[0;34m(\u001b[0m\u001b[0;34m)\u001b[0m\u001b[0;34m[\u001b[0m\u001b[0;34m'features.0.1.weight'\u001b[0m\u001b[0;34m]\u001b[0m\u001b[0;34m\u001b[0m\u001b[0;34m\u001b[0m\u001b[0m\n\u001b[0m",
      "\u001b[0;31mNameError\u001b[0m: name 'model_overfit' is not defined"
     ]
    }
   ],
   "source": [
    "# model_overfit.state_dict()['features.0.1.weight']"
   ]
  },
  {
   "cell_type": "code",
   "execution_count": null,
   "metadata": {},
   "outputs": [],
   "source": [
    "model_overfit"
   ]
  },
  {
   "cell_type": "code",
   "execution_count": null,
   "metadata": {},
   "outputs": [
    {
     "name": "stdout",
     "output_type": "stream",
     "text": [
      "round  0\n"
     ]
    }
   ],
   "source": [
    "# # Take measurement for ARU attack\n",
    "# aggregator.load_state(dir_path=save_path_FAT)\n",
    "# aggregator.update_clients()\n",
    "# aggregator.op = None\n",
    "# weight_scale_2 = 1\n",
    "# atk_rounds = 1\n",
    "# aggregation_op = 'median'\n",
    "\n",
    "# for i in range(atk_rounds):\n",
    "#     print('round ', i)\n",
    "#     UNL_mix(aggregator, adv_id=[0], model_inject=model_Fedavg, weight_scale_2 = weight_scale_2, keys=desired_keys, aggregation_op = aggregation_op)\n",
    "\n",
    "# model_overfit = pull_model_from_agg(aggregator)\n",
    "# model_overfit.eval()\n",
    "# acc, adv_acc = get_adv_acc(aggregator, model_overfit, eps=eps_attack, step_size = step_size, steps = steps)\n",
    "# print(\"MEDIAN\")\n",
    "# print(\"Test acc: \", np.mean(acc), \" (\", np.std(acc),\") \", \"adv acc: \", np.mean(adv_acc),\" (\", np.std(adv_acc),\") \")"
   ]
  },
  {
   "cell_type": "raw",
   "metadata": {
    "vscode": {
     "languageId": "raw"
    }
   },
   "source": [
    "+------------+\n",
    "   CIFAR-10\n",
    "+------------+\n",
    "TRIMMED MEAN\n",
    "MEDIAN\n",
    "\n",
    "+------------+\n",
    "  CIFAR-100 \n",
    "+------------+\n",
    "TRIMMED MEAN\n",
    "MEDIAN\n",
    "\n",
    "+------------+\n",
    "   CELEBA\n",
    "+------------+\n",
    "TRIMMED MEAN\n",
    "MEDIAN\n",
    "\n",
    "+------------+\n",
    " FAKENEWSNET\n",
    "+------------+\n",
    "TRIMMED MEAN\n",
    "MEDIAN\n"
   ]
  }
 ],
 "metadata": {
  "kernelspec": {
   "display_name": "FedEM_env",
   "language": "python",
   "name": "python3"
  },
  "language_info": {
   "codemirror_mode": {
    "name": "ipython",
    "version": 3
   },
   "file_extension": ".py",
   "mimetype": "text/x-python",
   "name": "python",
   "nbconvert_exporter": "python",
   "pygments_lexer": "ipython3",
   "version": "3.9.6"
  }
 },
 "nbformat": 4,
 "nbformat_minor": 2
}
