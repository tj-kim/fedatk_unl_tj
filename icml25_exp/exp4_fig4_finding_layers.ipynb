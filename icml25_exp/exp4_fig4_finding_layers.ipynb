{
 "cells": [
  {
   "cell_type": "markdown",
   "metadata": {
    "vscode": {
     "languageId": "plaintext"
    }
   },
   "source": [
    "### Experiment 4 - Fig 4 & Tbl 3\n",
    "\n",
    "Proving that FedAvg and FAT model are very similar and can have only a small subset of layers affect robustness"
   ]
  },
  {
   "cell_type": "code",
   "execution_count": 1,
   "metadata": {},
   "outputs": [
    {
     "name": "stdout",
     "output_type": "stream",
     "text": [
      "/home/ubuntu/fedatk_unl_tj\n"
     ]
    }
   ],
   "source": [
    "cd /home/ubuntu/fedatk_unl_tj/"
   ]
  },
  {
   "cell_type": "code",
   "execution_count": 2,
   "metadata": {},
   "outputs": [
    {
     "name": "stderr",
     "output_type": "stream",
     "text": [
      "/home/ubuntu/anaconda3/envs/FedEM_env/lib/python3.9/site-packages/pandas/core/computation/expressions.py:21: UserWarning: Pandas requires version '2.8.4' or newer of 'numexpr' (version '2.7.3' currently installed).\n",
      "  from pandas.core.computation.check import NUMEXPR_INSTALLED\n",
      "/home/ubuntu/anaconda3/envs/FedEM_env/lib/python3.9/site-packages/pandas/core/arrays/masked.py:60: UserWarning: Pandas requires version '1.3.6' or newer of 'bottleneck' (version '1.3.2' currently installed).\n",
      "  from pandas.core import (\n"
     ]
    }
   ],
   "source": [
    "# Import General Libraries\n",
    "import os\n",
    "import argparse\n",
    "import torch\n",
    "import copy\n",
    "import pickle\n",
    "import random\n",
    "import numpy as np\n",
    "import pandas as pd\n",
    "import gc\n",
    "\n",
    "import torch.nn.functional as F\n",
    "import re\n",
    "\n",
    "# Import FedEM based Libraries\n",
    "from utils.utils import *\n",
    "from utils.constants import *\n",
    "from utils.args import *\n",
    "from utils.util_notebooks import *\n",
    "from utils.util_notebooks import set_args, import_model_weights, get_adv_acc\n",
    "from run_experiment import *\n",
    "from models import *\n",
    "\n",
    "# Import Transfer Attack\n",
    "from transfer_attacks.Personalized_NN import *\n",
    "from transfer_attacks.Params import *\n",
    "from transfer_attacks.Transferer import *\n",
    "from transfer_attacks.Args import *\n",
    "from transfer_attacks.TA_utils import *\n",
    "\n",
    "\n",
    "\n"
   ]
  },
  {
   "cell_type": "code",
   "execution_count": 3,
   "metadata": {},
   "outputs": [],
   "source": [
    "# Specify aggregation method, number of clients, and dataset\n",
    "setting, num_user = \"FedAvg_adv\", 20\n",
    "exp = \"celeba\"\n",
    "\n",
    "# Load models for FAT and FedAvg - write down path to where weights are saved\n",
    "save_path_FAT = '/home/ubuntu/fedatk_unl_tj/weights/celeba/250123_icml25/FAT/'\n",
    "save_path_FedAvg =  '/home/ubuntu/fedatk_unl_tj/weights/celeba/250123_icml25/FedAvg/'\n",
    "# save_path_FAT = '/home/ubuntu/fedatk_unl_tj/weights/fakenews/250119_small_architecture_moreconv/FAT_ep02/'\n",
    "# save_path_FedAvg =  '/home/ubuntu/fedatk_unl_tj/weights/fakenews/250119_small_architecture_moreconv/FedAvg/'\n",
    "\n",
    "# Attack parameters for performing PGD \n",
    "eps_attack = 4.0\n",
    "eps_train = 4.5\n",
    "# eps_attack = 0.1\n",
    "# eps_train = 0.2\n",
    "step_size = 0.01\n",
    "steps = 10"
   ]
  },
  {
   "cell_type": "code",
   "execution_count": 4,
   "metadata": {},
   "outputs": [
    {
     "name": "stdout",
     "output_type": "stream",
     "text": [
      "==> Clients initialization..\n",
      "===> Building data iterators..\n",
      "get_celeba - Combining train batches... float16 version\n",
      "get_celeba -Combining test batches... float16 version\n"
     ]
    },
    {
     "name": "stderr",
     "output_type": "stream",
     "text": [
      " 13%|█▎        | 19/150 [00:00<00:04, 32.64it/s]\n"
     ]
    },
    {
     "name": "stdout",
     "output_type": "stream",
     "text": [
      "===> Initializing clients..\n"
     ]
    },
    {
     "name": "stderr",
     "output_type": "stream",
     "text": [
      "  0%|          | 0/20 [00:00<?, ?it/s]/home/ubuntu/anaconda3/envs/FedEM_env/lib/python3.9/site-packages/torchvision/models/_utils.py:208: UserWarning: The parameter 'pretrained' is deprecated since 0.13 and may be removed in the future, please use 'weights' instead.\n",
      "  warnings.warn(\n",
      "/home/ubuntu/anaconda3/envs/FedEM_env/lib/python3.9/site-packages/torchvision/models/_utils.py:223: UserWarning: Arguments other than a weight enum or `None` for 'weights' are deprecated since 0.13 and may be removed in the future. The current behavior is equivalent to passing `weights=MobileNet_V2_Weights.IMAGENET1K_V1`. You can also use `weights=MobileNet_V2_Weights.DEFAULT` to get the most up-to-date weights.\n",
      "  warnings.warn(msg)\n",
      "100%|██████████| 20/20 [00:05<00:00,  3.79it/s]\n",
      "/home/ubuntu/fedatk_unl_tj/aggregator.py:289: FutureWarning: You are using `torch.load` with `weights_only=False` (the current default value), which uses the default pickle module implicitly. It is possible to construct malicious pickle data which will execute arbitrary code during unpickling (See https://github.com/pytorch/pytorch/blob/main/SECURITY.md#untrusted-models for more details). In a future release, the default value for `weights_only` will be flipped to `True`. This limits the functions that could be executed during unpickling. Arbitrary objects will no longer be allowed to be loaded via this mode unless they are explicitly allowlisted by the user via `torch.serialization.add_safe_globals`. We recommend you start setting `weights_only=True` for any use case where you don't have full control of the loaded file. Please open an issue on GitHub for any issues related to this experimental feature.\n",
      "  learner.model.load_state_dict(torch.load(chkpts_path))\n"
     ]
    }
   ],
   "source": [
    "# Generate instance of aggregator that holds all clients, data and models and load relevant models in\n",
    "try: # Skip loading if already loaded\n",
    "    aggregator\n",
    "except:\n",
    "    aggregator, clients, args_ = set_args(setting, num_user,  experiment = exp) # Indicate dataset here\n",
    "\n",
    "model_FAT = copy.deepcopy(import_model_weights(num_user, setting, save_path_FAT, aggregator, args_)[0])\n",
    "model_Fedavg = copy.deepcopy(import_model_weights(num_user, setting, save_path_FedAvg, aggregator, args_)[0])\n",
    "\n",
    "# Obtain parameters for each layer\n",
    "params_FAT = model_FAT.state_dict()\n",
    "params_FedAvg = model_Fedavg.state_dict()\n",
    "\n",
    "# Just take the values of weights and bias for the model\n",
    "desired_keys = params_FAT.keys() # [key for key in params_FAT.keys() if 'weight' in key or 'bias' in key] # "
   ]
  },
  {
   "cell_type": "code",
   "execution_count": 5,
   "metadata": {},
   "outputs": [
    {
     "name": "stdout",
     "output_type": "stream",
     "text": [
      "---- FGSM Batch Size: 50 ----\n",
      "\n",
      "Orig Target: [6, 0, 8, 4, 0, 13, 4, 8, 8, 8, 0, 8, 12, 14, 10, 12, 4, 0, 4, 5, 8, 8, 0, 0, 12, 8, 12, 12, 8, 4, 12, 4, 4, 8, 8, 12, 4, 6, 0, 12, 8, 4, 4, 12, 8, 0, 4, 0, 0, 0]\n",
      "Orig Output: [6, 0, 8, 5, 0, 13, 4, 8, 8, 8, 0, 8, 12, 12, 10, 12, 4, 0, 4, 5, 8, 8, 0, 0, 12, 8, 12, 4, 8, 1, 12, 4, 4, 8, 8, 12, 4, 6, 0, 12, 8, 4, 4, 12, 8, 0, 0, 0, 0, 0]\n",
      "ADV Output : [4, 14, 9, 13, 14, 8, 10, 2, 4, 0, 12, 10, 0, 4, 5, 0, 9, 4, 12, 8, 15, 12, 12, 9, 0, 1, 4, 1, 0, 2, 14, 7, 8, 1, 0, 1, 8, 1, 8, 8, 4, 8, 9, 6, 0, 6, 9, 12, 10, 8] \n",
      "\n",
      "Orig Loss  : -14.453474998474121\n",
      "ADV Loss   : 5.225202560424805 \n",
      "\n",
      "Orig Acc   : 0.8999999761581421\n",
      "ADV Acc    : 0.0\n",
      "---- FGSM Batch Size: 50 ----\n",
      "\n",
      "Orig Target: [4, 13, 8, 8, 0, 4, 0, 8, 8, 8, 0, 5, 4, 0, 12, 0, 4, 8, 8, 8, 12, 4, 8, 0, 0, 8, 8, 0, 0, 4, 12, 8, 0, 0, 8, 8, 4, 5, 12, 4, 8, 0, 12, 0, 0, 0, 8, 0, 8, 0]\n",
      "Orig Output: [4, 13, 8, 8, 0, 4, 0, 8, 8, 8, 0, 4, 4, 0, 12, 0, 4, 8, 0, 0, 12, 6, 8, 0, 0, 8, 0, 0, 0, 4, 12, 8, 0, 0, 8, 0, 4, 13, 12, 4, 8, 0, 12, 0, 0, 0, 8, 0, 8, 0]\n",
      "ADV Output : [13, 8, 1, 6, 6, 0, 13, 4, 4, 0, 14, 4, 9, 10, 0, 8, 9, 0, 0, 0, 9, 14, 4, 7, 14, 4, 0, 12, 12, 8, 0, 2, 4, 8, 14, 5, 14, 14, 9, 8, 2, 8, 8, 4, 9, 13, 4, 12, 1, 5] \n",
      "\n",
      "Orig Loss  : -12.629608154296875\n",
      "ADV Loss   : 6.2043843269348145 \n",
      "\n",
      "Orig Acc   : 0.85999995470047\n",
      "ADV Acc    : 0.0\n",
      "Accuracy of model_Fedavg on clean data (x_data): 90.00%\n",
      "Accuracy of model_Fedavg on adversarial data (x_adv): 0.00%\n",
      "Accuracy of model_FAT on clean data (x_data): 82.00%\n",
      "Accuracy of model_FAT on adversarial data (x_adv): 76.00%\n"
     ]
    }
   ],
   "source": [
    "x_min = torch.min(aggregator.clients[0].adv_nn.dataloader.x_data).detach().cuda()\n",
    "x_max = torch.max(aggregator.clients[0].adv_nn.dataloader.x_data).detach().cuda()\n",
    "import torch\n",
    "import torch.nn.functional as F\n",
    "\n",
    "def calculate_accuracy(model, x_data, y_data):\n",
    "    \"\"\"\n",
    "    Calculate accuracy of a model on given data.\n",
    "\n",
    "    Args:\n",
    "        model: The model to evaluate (e.g., model_Fedavg or model_FAT).\n",
    "        x_data: The input data (tensor).\n",
    "        y_data: The ground truth labels (tensor).\n",
    "\n",
    "    Returns:\n",
    "        Accuracy as a percentage (float).\n",
    "    \"\"\"\n",
    "    model.eval()  # Set model to evaluation mode\n",
    "    with torch.no_grad():\n",
    "        # Forward pass\n",
    "        outputs = model(x_data.cuda())  # Make sure input is on GPU\n",
    "        _, predicted = torch.max(outputs, 1)  # Get the predicted class\n",
    "        correct = (predicted == y_data.cuda()).sum().item()  # Count correct predictions\n",
    "        accuracy = correct / len(y_data) * 100  # Calculate accuracy percentage\n",
    "    return accuracy\n",
    "\n",
    "c_id = 3\n",
    "\n",
    "# Load client data\n",
    "dataloader = load_client_data(clients=aggregator.clients, c_id=c_id, mode='test')\n",
    "# x_data = copy.deepcopy(dataloader.x_data.to(torch.float32).cuda())  # Convert to float32 and move to GPU\n",
    "# y_data = dataloader.y_data.cuda()  # Move ground truth to GPU\n",
    "\n",
    "# Generate adversarial data (x_adv)\n",
    "atk_params = PGD_Params()\n",
    "atk_params.set_params(batch_size=50, iteration=steps,\n",
    "                target=-1, x_val_min=x_min, x_val_max=x_max,\n",
    "                step_size=step_size, step_norm=\"inf\", eps=eps_attack, eps_norm=2)\n",
    "\n",
    "combined_model = aggregator.clients[0].combine_learners_ensemble()\n",
    "generator = Adv_NN(model_Fedavg, dataloader)\n",
    "\n",
    "# Perform adversarial attack\n",
    "generator.pgd(atk_params, print_info = True)\n",
    "x_adv = generator.x_adv.to(torch.float32).cuda()  # Convert to float32 and move to GPU\n",
    "x_data = generator.x_orig.to(torch.float32).cuda()\n",
    "y_data = generator.y_orig.cuda()\n",
    "\n",
    "generator2 = Adv_NN(model_FAT, dataloader)\n",
    "generator.pgd(atk_params, print_info = True)\n",
    "\n",
    "# Calculate accuracy for x_data and x_adv using model_Fedavg and model_FAT\n",
    "accuracy_fedavg_x_data = calculate_accuracy(model_Fedavg, x_data, y_data)\n",
    "accuracy_fedavg_x_adv = calculate_accuracy(model_Fedavg, x_adv, y_data)\n",
    "\n",
    "accuracy_fat_x_data = calculate_accuracy(model_FAT, x_data, y_data)\n",
    "accuracy_fat_x_adv = calculate_accuracy(model_FAT, x_adv, y_data)\n",
    "\n",
    "# Print out the results\n",
    "print(f\"Accuracy of model_Fedavg on clean data (x_data): {accuracy_fedavg_x_data:.2f}%\")\n",
    "print(f\"Accuracy of model_Fedavg on adversarial data (x_adv): {accuracy_fedavg_x_adv:.2f}%\")\n",
    "\n",
    "print(f\"Accuracy of model_FAT on clean data (x_data): {accuracy_fat_x_data:.2f}%\")\n",
    "print(f\"Accuracy of model_FAT on adversarial data (x_adv): {accuracy_fat_x_adv:.2f}%\")\n"
   ]
  },
  {
   "cell_type": "code",
   "execution_count": 6,
   "metadata": {},
   "outputs": [
    {
     "name": "stderr",
     "output_type": "stream",
     "text": [
      "findfont: Font family ['normal'] not found. Falling back to DejaVu Sans.\n",
      "findfont: Font family ['normal'] not found. Falling back to DejaVu Sans.\n",
      "findfont: Font family ['normal'] not found. Falling back to DejaVu Sans.\n"
     ]
    },
    {
     "name": "stdout",
     "output_type": "stream",
     "text": [
      "Submodule Name                 Mean Cosine Similarity         Std Dev\n",
      "=================================================================\n",
      "features.0                               0.97710145      0.00526916 \n",
      "features.1                               0.82941163      0.02300177 !!!\n",
      "features.2                               0.81529832      0.02355380 !!!\n",
      "features.3                               0.82574606      0.01950816 !!!\n",
      "features.4                               0.82021040      0.02407575 !!!\n",
      "features.5                               0.80046517      0.02580082 !!!\n",
      "features.6                               0.80458713      0.02688361 !!!\n",
      "features.7                               0.80430019      0.02812876 !!!\n",
      "features.8                               0.80907482      0.02420527 !!!\n",
      "features.9                               0.79809064      0.02786407 !!!\n",
      "features.10                              0.77584648      0.03398926 !!!\n",
      "features.11                              0.75734937      0.03453816 !!!\n",
      "features.12                              0.73703915      0.03850428 !!!\n",
      "features.13                              0.70187378      0.03949831 !!!\n",
      "features.14                              0.59297001      0.08301955 !!!\n",
      "features.15                              0.55310541      0.08990344 !!!\n",
      "features.16                              0.50794983      0.10723516 !!!\n",
      "features.17                              0.46019739      0.13056636 !!!\n",
      "features.18                              0.57395703      0.10620808 !!!\n",
      "classifier.0                             0.59108377      0.10682513 !!!\n",
      "classifier.1                             0.88062072      0.15676518 !!!\n",
      "Submodule Name                 Mean Cosine Similarity         Std Dev\n",
      "=================================================================\n",
      "features.0                               0.97706860      0.00528691 \n",
      "features.1                               0.82867157      0.02278034 !!!\n",
      "features.2                               0.81220698      0.02320978 !!!\n",
      "features.3                               0.81880921      0.01936803 !!!\n",
      "features.4                               0.80649251      0.02515534 !!!\n",
      "features.5                               0.78289574      0.02800413 !!!\n",
      "features.6                               0.78303701      0.02872250 !!!\n",
      "features.7                               0.76852041      0.02876701 !!!\n",
      "features.8                               0.77401531      0.02691536 !!!\n",
      "features.9                               0.76172107      0.02997636 !!!\n",
      "features.10                              0.73627561      0.03677070 !!!\n",
      "features.11                              0.70041990      0.03964240 !!!\n",
      "features.12                              0.67216790      0.04435213 !!!\n",
      "features.13                              0.63024873      0.04821693 !!!\n",
      "features.14                              0.42843047      0.10470578 !!!\n",
      "features.15                              0.36137334      0.11137167 !!!\n",
      "features.16                              0.27162293      0.11365591 !!!\n",
      "features.17                              0.04708419      0.13167895 !!!\n",
      "features.18                              0.29174075      0.07542150 !!!\n",
      "classifier.0                             0.30157390      0.07876904 !!!\n",
      "classifier.1                            -0.10629628      0.41740367 !!!\n"
     ]
    },
    {
     "data": {
      "image/png": "[encoded data removed]",
      "text/plain": [
       "<Figure size 480x320 with 1 Axes>"
      ]
     },
     "metadata": {
      "needs_background": "light"
     },
     "output_type": "display_data"
    }
   ],
   "source": [
    "# Assuming the function compare_top_level_outputs_with_cosine_similarity is already defined as previously\n",
    "\n",
    "# Example usage for Benign and Adversarial inputs\n",
    "labs1, cs1, std_dev1 = compare_top_level_outputs_with_cosine_similarity(model_FAT, model_Fedavg, x_data.cuda())\n",
    "labs2, cs2, std_dev2 = compare_top_level_outputs_with_cosine_similarity(model_FAT, model_Fedavg, x_adv.cuda())\n",
    "# labs1, cs1, std_dev1 = compare_top_level_outputs_with_cosine_similarity_fnn(model_FAT, model_Fedavg, x_data.cuda())\n",
    "# labs2, cs2, std_dev2 = compare_top_level_outputs_with_cosine_similarity_fnn(model_FAT, model_Fedavg, x_adv.cuda())\n",
    "\n",
    "# Plotting setup\n",
    "font = {'family': 'normal', 'weight': 'normal', 'size': 13}\n",
    "threshold = 0.95\n",
    "\n",
    "# Set font and figure size\n",
    "plt.rc('font', **font)\n",
    "plt.figure(dpi=80, figsize=(6, 4))\n",
    "\n",
    "# Plot Cosine Similarities for both sets of inputs\n",
    "line_color1 = 'b'  # Color for benign input\n",
    "line_color2 = 'r'  # Color for adversarial input\n",
    "\n",
    "plt.plot(labs1, cs1, marker=\"o\", color=line_color1, label=\"Benign Input\")\n",
    "plt.plot(labs2, cs2, marker=\"o\", color=line_color2, label=\"Adversarial Input\")\n",
    "\n",
    "# Overlay standard deviation ranges with matching colors\n",
    "plt.fill_between(labs1, \n",
    "                 np.array(cs1) - std_dev1, \n",
    "                 np.array(cs1) + std_dev1, \n",
    "                 color=line_color1, alpha=0.2)\n",
    "\n",
    "plt.fill_between(labs2, \n",
    "                 np.array(cs2) - std_dev2, \n",
    "                 np.array(cs2) + std_dev2, \n",
    "                 color=line_color2, alpha=0.2)\n",
    "\n",
    "# Add threshold line (optional)\n",
    "# plt.axhline(y=threshold, color=\"r\", linestyle=\"--\", label=f\"Threshold = {threshold}\")\n",
    "\n",
    "# Plot settings\n",
    "plt.xticks(rotation=45, ha=\"right\", fontsize=9)\n",
    "plt.ylabel(\"Cosine Similarity\")\n",
    "plt.title(\"Celeba Layer Comparison - Cumulative\")\n",
    "plt.legend()\n",
    "plt.tight_layout()\n",
    "\n",
    "# Display the plot\n",
    "plt.show()"
   ]
  },
  {
   "cell_type": "code",
   "execution_count": 7,
   "metadata": {},
   "outputs": [
    {
     "name": "stdout",
     "output_type": "stream",
     "text": [
      "Submodule Name                 Mean Cosine Similarity         Std Dev\n",
      "=================================================================\n",
      "features.0                               0.97710145      0.00526916 \n",
      "features.1                               0.89640427      0.00791742 !!!\n",
      "features.2                               0.89895523      0.01551565 !!!\n",
      "features.3                               0.96350563      0.00400216 \n",
      "features.4                               0.94457030      0.00337369 !!!\n",
      "features.5                               0.98323303      0.00112574 \n",
      "features.6                               0.98920971      0.00060818 \n",
      "features.7                               0.96132213      0.00293425 \n",
      "features.8                               0.97923839      0.00245047 \n",
      "features.9                               0.98827446      0.00157931 \n",
      "features.10                              0.98310059      0.00854248 \n",
      "features.11                              0.96764249      0.00185924 \n",
      "features.12                              0.96803784      0.00364500 \n",
      "features.13                              0.96774131      0.00301429 \n",
      "features.14                              0.92638958      0.00804052 !!!\n",
      "features.15                              0.96699059      0.00417650 \n",
      "features.16                              0.97204465      0.00430263 \n",
      "features.17                              0.88699234      0.02086552 !!!\n",
      "features.18                              0.98358762      0.00370722 \n",
      "classifier.0                             1.00000000      0.00000007 \n",
      "classifier.1                             0.98262525      0.01538719 \n",
      "Submodule Name                 Mean Cosine Similarity         Std Dev\n",
      "=================================================================\n",
      "features.0                               0.97706860      0.00528691 \n",
      "features.1                               0.89670104      0.00775291 !!!\n",
      "features.2                               0.89877486      0.01585395 !!!\n",
      "features.3                               0.96337181      0.00392994 \n",
      "features.4                               0.94443983      0.00334115 !!!\n",
      "features.5                               0.98323131      0.00112170 \n",
      "features.6                               0.98918778      0.00059692 \n",
      "features.7                               0.96123642      0.00292319 \n",
      "features.8                               0.97913861      0.00246870 \n",
      "features.9                               0.98822951      0.00159660 \n",
      "features.10                              0.98309994      0.00847902 \n",
      "features.11                              0.96759826      0.00187833 \n",
      "features.12                              0.96795386      0.00358352 \n",
      "features.13                              0.96756119      0.00299301 \n",
      "features.14                              0.92536283      0.00803629 !!!\n",
      "features.15                              0.96691680      0.00411573 \n",
      "features.16                              0.97214675      0.00427399 \n",
      "features.17                              0.88598967      0.02044617 !!!\n",
      "features.18                              0.98362738      0.00398452 \n",
      "classifier.0                             1.00000000      0.00000007 \n",
      "classifier.1                             0.98230207      0.01633828 \n"
     ]
    },
    {
     "data": {
      "image/png": "[encoded data removed]",
      "text/plain": [
       "<Figure size 480x320 with 1 Axes>"
      ]
     },
     "metadata": {
      "needs_background": "light"
     },
     "output_type": "display_data"
    }
   ],
   "source": [
    "\n",
    "# Example usage for benign and adversarial inputs\n",
    "labs1, cs1, std_dev1 = compare_intermediate_outputs_with_cosine_similarity(model_FAT, model_Fedavg, x_data.cuda())\n",
    "labs2, cs2, std_dev2 = compare_intermediate_outputs_with_cosine_similarity(model_FAT, model_Fedavg, x_adv.cuda())\n",
    "\n",
    "# labs1, cs1, std_dev1 = compare_intermediate_outputs_with_cosine_similarity_fnn(model_FAT, model_Fedavg, x_data.cuda())\n",
    "# labs2, cs2, std_dev2 = compare_intermediate_outputs_with_cosine_similarity_fnn(model_FAT, model_Fedavg, x_adv.cuda())\n",
    "\n",
    "# Plot cosine similarity with standard deviation range\n",
    "font = {'family': 'normal', 'weight': 'normal', 'size': 13}\n",
    "threshold = 0.95\n",
    "\n",
    "# Set font and figure size\n",
    "plt.rc('font', **font)\n",
    "plt.figure(dpi=80, figsize=(6, 4))\n",
    "\n",
    "# Plot the cosine similarity curves\n",
    "line_color1 = 'b'  # Benign input curve color\n",
    "line_color2 = 'r'  # Adversarial input curve color\n",
    "\n",
    "plt.plot(labs1, cs1, marker=\"o\", color=line_color1, label=\"Benign Input\")\n",
    "plt.plot(labs2, cs2, marker=\"o\", color=line_color2, label=\"Adversarial Input\")\n",
    "\n",
    "# Overlay standard deviation as shaded regions\n",
    "plt.fill_between(labs1, \n",
    "                 np.array(cs1) - std_dev1, \n",
    "                 np.array(cs1) + std_dev1, \n",
    "                 color=line_color1, alpha=0.2)\n",
    "\n",
    "plt.fill_between(labs2, \n",
    "                 np.array(cs2) - std_dev2, \n",
    "                 np.array(cs2) + std_dev2, \n",
    "                 color=line_color2, alpha=0.2)\n",
    "\n",
    "# Optional: Add threshold line\n",
    "plt.axhline(y=threshold, color=\"r\", linestyle=\"--\", label=f\"Threshold = {threshold}\")\n",
    "\n",
    "# Plot settings\n",
    "plt.xticks(rotation=45, ha=\"right\", fontsize=9)\n",
    "plt.ylabel(\"Cosine Similarity\")\n",
    "plt.title(\"Celeba Layer Comparison - Per Layer\")\n",
    "plt.legend()\n",
    "plt.tight_layout()\n",
    "\n",
    "# Show the plot\n",
    "plt.show()"
   ]
  },
  {
   "cell_type": "code",
   "execution_count": 8,
   "metadata": {},
   "outputs": [
    {
     "data": {
      "text/plain": [
       "odict_keys(['features.0.0.weight', 'features.0.1.weight', 'features.0.1.bias', 'features.0.1.running_mean', 'features.0.1.running_var', 'features.0.1.num_batches_tracked', 'features.1.conv.0.0.weight', 'features.1.conv.0.1.weight', 'features.1.conv.0.1.bias', 'features.1.conv.0.1.running_mean', 'features.1.conv.0.1.running_var', 'features.1.conv.0.1.num_batches_tracked', 'features.1.conv.1.weight', 'features.1.conv.2.weight', 'features.1.conv.2.bias', 'features.1.conv.2.running_mean', 'features.1.conv.2.running_var', 'features.1.conv.2.num_batches_tracked', 'features.2.conv.0.0.weight', 'features.2.conv.0.1.weight', 'features.2.conv.0.1.bias', 'features.2.conv.0.1.running_mean', 'features.2.conv.0.1.running_var', 'features.2.conv.0.1.num_batches_tracked', 'features.2.conv.1.0.weight', 'features.2.conv.1.1.weight', 'features.2.conv.1.1.bias', 'features.2.conv.1.1.running_mean', 'features.2.conv.1.1.running_var', 'features.2.conv.1.1.num_batches_tracked', 'features.2.conv.2.weight', 'features.2.conv.3.weight', 'features.2.conv.3.bias', 'features.2.conv.3.running_mean', 'features.2.conv.3.running_var', 'features.2.conv.3.num_batches_tracked', 'features.3.conv.0.0.weight', 'features.3.conv.0.1.weight', 'features.3.conv.0.1.bias', 'features.3.conv.0.1.running_mean', 'features.3.conv.0.1.running_var', 'features.3.conv.0.1.num_batches_tracked', 'features.3.conv.1.0.weight', 'features.3.conv.1.1.weight', 'features.3.conv.1.1.bias', 'features.3.conv.1.1.running_mean', 'features.3.conv.1.1.running_var', 'features.3.conv.1.1.num_batches_tracked', 'features.3.conv.2.weight', 'features.3.conv.3.weight', 'features.3.conv.3.bias', 'features.3.conv.3.running_mean', 'features.3.conv.3.running_var', 'features.3.conv.3.num_batches_tracked', 'features.4.conv.0.0.weight', 'features.4.conv.0.1.weight', 'features.4.conv.0.1.bias', 'features.4.conv.0.1.running_mean', 'features.4.conv.0.1.running_var', 'features.4.conv.0.1.num_batches_tracked', 'features.4.conv.1.0.weight', 'features.4.conv.1.1.weight', 'features.4.conv.1.1.bias', 'features.4.conv.1.1.running_mean', 'features.4.conv.1.1.running_var', 'features.4.conv.1.1.num_batches_tracked', 'features.4.conv.2.weight', 'features.4.conv.3.weight', 'features.4.conv.3.bias', 'features.4.conv.3.running_mean', 'features.4.conv.3.running_var', 'features.4.conv.3.num_batches_tracked', 'features.5.conv.0.0.weight', 'features.5.conv.0.1.weight', 'features.5.conv.0.1.bias', 'features.5.conv.0.1.running_mean', 'features.5.conv.0.1.running_var', 'features.5.conv.0.1.num_batches_tracked', 'features.5.conv.1.0.weight', 'features.5.conv.1.1.weight', 'features.5.conv.1.1.bias', 'features.5.conv.1.1.running_mean', 'features.5.conv.1.1.running_var', 'features.5.conv.1.1.num_batches_tracked', 'features.5.conv.2.weight', 'features.5.conv.3.weight', 'features.5.conv.3.bias', 'features.5.conv.3.running_mean', 'features.5.conv.3.running_var', 'features.5.conv.3.num_batches_tracked', 'features.6.conv.0.0.weight', 'features.6.conv.0.1.weight', 'features.6.conv.0.1.bias', 'features.6.conv.0.1.running_mean', 'features.6.conv.0.1.running_var', 'features.6.conv.0.1.num_batches_tracked', 'features.6.conv.1.0.weight', 'features.6.conv.1.1.weight', 'features.6.conv.1.1.bias', 'features.6.conv.1.1.running_mean', 'features.6.conv.1.1.running_var', 'features.6.conv.1.1.num_batches_tracked', 'features.6.conv.2.weight', 'features.6.conv.3.weight', 'features.6.conv.3.bias', 'features.6.conv.3.running_mean', 'features.6.conv.3.running_var', 'features.6.conv.3.num_batches_tracked', 'features.7.conv.0.0.weight', 'features.7.conv.0.1.weight', 'features.7.conv.0.1.bias', 'features.7.conv.0.1.running_mean', 'features.7.conv.0.1.running_var', 'features.7.conv.0.1.num_batches_tracked', 'features.7.conv.1.0.weight', 'features.7.conv.1.1.weight', 'features.7.conv.1.1.bias', 'features.7.conv.1.1.running_mean', 'features.7.conv.1.1.running_var', 'features.7.conv.1.1.num_batches_tracked', 'features.7.conv.2.weight', 'features.7.conv.3.weight', 'features.7.conv.3.bias', 'features.7.conv.3.running_mean', 'features.7.conv.3.running_var', 'features.7.conv.3.num_batches_tracked', 'features.8.conv.0.0.weight', 'features.8.conv.0.1.weight', 'features.8.conv.0.1.bias', 'features.8.conv.0.1.running_mean', 'features.8.conv.0.1.running_var', 'features.8.conv.0.1.num_batches_tracked', 'features.8.conv.1.0.weight', 'features.8.conv.1.1.weight', 'features.8.conv.1.1.bias', 'features.8.conv.1.1.running_mean', 'features.8.conv.1.1.running_var', 'features.8.conv.1.1.num_batches_tracked', 'features.8.conv.2.weight', 'features.8.conv.3.weight', 'features.8.conv.3.bias', 'features.8.conv.3.running_mean', 'features.8.conv.3.running_var', 'features.8.conv.3.num_batches_tracked', 'features.9.conv.0.0.weight', 'features.9.conv.0.1.weight', 'features.9.conv.0.1.bias', 'features.9.conv.0.1.running_mean', 'features.9.conv.0.1.running_var', 'features.9.conv.0.1.num_batches_tracked', 'features.9.conv.1.0.weight', 'features.9.conv.1.1.weight', 'features.9.conv.1.1.bias', 'features.9.conv.1.1.running_mean', 'features.9.conv.1.1.running_var', 'features.9.conv.1.1.num_batches_tracked', 'features.9.conv.2.weight', 'features.9.conv.3.weight', 'features.9.conv.3.bias', 'features.9.conv.3.running_mean', 'features.9.conv.3.running_var', 'features.9.conv.3.num_batches_tracked', 'features.10.conv.0.0.weight', 'features.10.conv.0.1.weight', 'features.10.conv.0.1.bias', 'features.10.conv.0.1.running_mean', 'features.10.conv.0.1.running_var', 'features.10.conv.0.1.num_batches_tracked', 'features.10.conv.1.0.weight', 'features.10.conv.1.1.weight', 'features.10.conv.1.1.bias', 'features.10.conv.1.1.running_mean', 'features.10.conv.1.1.running_var', 'features.10.conv.1.1.num_batches_tracked', 'features.10.conv.2.weight', 'features.10.conv.3.weight', 'features.10.conv.3.bias', 'features.10.conv.3.running_mean', 'features.10.conv.3.running_var', 'features.10.conv.3.num_batches_tracked', 'features.11.conv.0.0.weight', 'features.11.conv.0.1.weight', 'features.11.conv.0.1.bias', 'features.11.conv.0.1.running_mean', 'features.11.conv.0.1.running_var', 'features.11.conv.0.1.num_batches_tracked', 'features.11.conv.1.0.weight', 'features.11.conv.1.1.weight', 'features.11.conv.1.1.bias', 'features.11.conv.1.1.running_mean', 'features.11.conv.1.1.running_var', 'features.11.conv.1.1.num_batches_tracked', 'features.11.conv.2.weight', 'features.11.conv.3.weight', 'features.11.conv.3.bias', 'features.11.conv.3.running_mean', 'features.11.conv.3.running_var', 'features.11.conv.3.num_batches_tracked', 'features.12.conv.0.0.weight', 'features.12.conv.0.1.weight', 'features.12.conv.0.1.bias', 'features.12.conv.0.1.running_mean', 'features.12.conv.0.1.running_var', 'features.12.conv.0.1.num_batches_tracked', 'features.12.conv.1.0.weight', 'features.12.conv.1.1.weight', 'features.12.conv.1.1.bias', 'features.12.conv.1.1.running_mean', 'features.12.conv.1.1.running_var', 'features.12.conv.1.1.num_batches_tracked', 'features.12.conv.2.weight', 'features.12.conv.3.weight', 'features.12.conv.3.bias', 'features.12.conv.3.running_mean', 'features.12.conv.3.running_var', 'features.12.conv.3.num_batches_tracked', 'features.13.conv.0.0.weight', 'features.13.conv.0.1.weight', 'features.13.conv.0.1.bias', 'features.13.conv.0.1.running_mean', 'features.13.conv.0.1.running_var', 'features.13.conv.0.1.num_batches_tracked', 'features.13.conv.1.0.weight', 'features.13.conv.1.1.weight', 'features.13.conv.1.1.bias', 'features.13.conv.1.1.running_mean', 'features.13.conv.1.1.running_var', 'features.13.conv.1.1.num_batches_tracked', 'features.13.conv.2.weight', 'features.13.conv.3.weight', 'features.13.conv.3.bias', 'features.13.conv.3.running_mean', 'features.13.conv.3.running_var', 'features.13.conv.3.num_batches_tracked', 'features.14.conv.0.0.weight', 'features.14.conv.0.1.weight', 'features.14.conv.0.1.bias', 'features.14.conv.0.1.running_mean', 'features.14.conv.0.1.running_var', 'features.14.conv.0.1.num_batches_tracked', 'features.14.conv.1.0.weight', 'features.14.conv.1.1.weight', 'features.14.conv.1.1.bias', 'features.14.conv.1.1.running_mean', 'features.14.conv.1.1.running_var', 'features.14.conv.1.1.num_batches_tracked', 'features.14.conv.2.weight', 'features.14.conv.3.weight', 'features.14.conv.3.bias', 'features.14.conv.3.running_mean', 'features.14.conv.3.running_var', 'features.14.conv.3.num_batches_tracked', 'features.15.conv.0.0.weight', 'features.15.conv.0.1.weight', 'features.15.conv.0.1.bias', 'features.15.conv.0.1.running_mean', 'features.15.conv.0.1.running_var', 'features.15.conv.0.1.num_batches_tracked', 'features.15.conv.1.0.weight', 'features.15.conv.1.1.weight', 'features.15.conv.1.1.bias', 'features.15.conv.1.1.running_mean', 'features.15.conv.1.1.running_var', 'features.15.conv.1.1.num_batches_tracked', 'features.15.conv.2.weight', 'features.15.conv.3.weight', 'features.15.conv.3.bias', 'features.15.conv.3.running_mean', 'features.15.conv.3.running_var', 'features.15.conv.3.num_batches_tracked', 'features.16.conv.0.0.weight', 'features.16.conv.0.1.weight', 'features.16.conv.0.1.bias', 'features.16.conv.0.1.running_mean', 'features.16.conv.0.1.running_var', 'features.16.conv.0.1.num_batches_tracked', 'features.16.conv.1.0.weight', 'features.16.conv.1.1.weight', 'features.16.conv.1.1.bias', 'features.16.conv.1.1.running_mean', 'features.16.conv.1.1.running_var', 'features.16.conv.1.1.num_batches_tracked', 'features.16.conv.2.weight', 'features.16.conv.3.weight', 'features.16.conv.3.bias', 'features.16.conv.3.running_mean', 'features.16.conv.3.running_var', 'features.16.conv.3.num_batches_tracked', 'features.17.conv.0.0.weight', 'features.17.conv.0.1.weight', 'features.17.conv.0.1.bias', 'features.17.conv.0.1.running_mean', 'features.17.conv.0.1.running_var', 'features.17.conv.0.1.num_batches_tracked', 'features.17.conv.1.0.weight', 'features.17.conv.1.1.weight', 'features.17.conv.1.1.bias', 'features.17.conv.1.1.running_mean', 'features.17.conv.1.1.running_var', 'features.17.conv.1.1.num_batches_tracked', 'features.17.conv.2.weight', 'features.17.conv.3.weight', 'features.17.conv.3.bias', 'features.17.conv.3.running_mean', 'features.17.conv.3.running_var', 'features.17.conv.3.num_batches_tracked', 'features.18.0.weight', 'features.18.1.weight', 'features.18.1.bias', 'features.18.1.running_mean', 'features.18.1.running_var', 'features.18.1.num_batches_tracked', 'classifier.1.weight', 'classifier.1.bias'])"
      ]
     },
     "execution_count": 8,
     "metadata": {},
     "output_type": "execute_result"
    }
   ],
   "source": [
    "model_Fedavg.state_dict().keys()"
   ]
  },
  {
   "cell_type": "code",
   "execution_count": 9,
   "metadata": {},
   "outputs": [],
   "source": [
    "def generate_model_with_copied_layers(model1, model2, layers_to_copy):\n",
    "    \"\"\"\n",
    "    Generate a new model by copying specified layers from model1 to model2.\n",
    "    \n",
    "    Args:\n",
    "        model1 (torch.nn.Module): The source model.\n",
    "        model2 (torch.nn.Module): The base model to copy layers into.\n",
    "        layers_to_copy (list of str): List of prefixes indicating which layers to copy.\n",
    "    \n",
    "    Returns:\n",
    "        torch.nn.Module: A new model with the specified layers copied from model1.\n",
    "    \"\"\"\n",
    "    # Create a deep copy of model2 to preserve the original\n",
    "    model3 = copy.deepcopy(model2)\n",
    "    \n",
    "    state_dict1 = model1.state_dict()\n",
    "    state_dict3 = model3.state_dict()  # Get state_dict for the new model\n",
    "    \n",
    "    # Iterate through state_dict keys and check for matching prefixes\n",
    "    for key in state_dict1.keys():\n",
    "        if any(key.startswith(layer_prefix) for layer_prefix in layers_to_copy):\n",
    "            if key in state_dict3:  # Ensure the key exists in model3\n",
    "                print(\"copied key \", key)\n",
    "                state_dict3[key] = state_dict1[key].clone()\n",
    "    \n",
    "    # Load the updated state_dict into model3\n",
    "    model3.load_state_dict(state_dict3)\n",
    "    \n",
    "    return model3"
   ]
  },
  {
   "cell_type": "code",
   "execution_count": 10,
   "metadata": {},
   "outputs": [
    {
     "name": "stdout",
     "output_type": "stream",
     "text": [
      "copied key  features.1.conv.0.0.weight\n",
      "copied key  features.1.conv.0.1.weight\n",
      "copied key  features.1.conv.0.1.bias\n",
      "copied key  features.1.conv.0.1.running_mean\n",
      "copied key  features.1.conv.0.1.running_var\n",
      "copied key  features.1.conv.0.1.num_batches_tracked\n",
      "copied key  features.1.conv.1.weight\n",
      "copied key  features.1.conv.2.weight\n",
      "copied key  features.1.conv.2.bias\n",
      "copied key  features.1.conv.2.running_mean\n",
      "copied key  features.1.conv.2.running_var\n",
      "copied key  features.1.conv.2.num_batches_tracked\n",
      "copied key  features.2.conv.0.0.weight\n",
      "copied key  features.2.conv.0.1.weight\n",
      "copied key  features.2.conv.0.1.bias\n",
      "copied key  features.2.conv.0.1.running_mean\n",
      "copied key  features.2.conv.0.1.running_var\n",
      "copied key  features.2.conv.0.1.num_batches_tracked\n",
      "copied key  features.2.conv.1.0.weight\n",
      "copied key  features.2.conv.1.1.weight\n",
      "copied key  features.2.conv.1.1.bias\n",
      "copied key  features.2.conv.1.1.running_mean\n",
      "copied key  features.2.conv.1.1.running_var\n",
      "copied key  features.2.conv.1.1.num_batches_tracked\n",
      "copied key  features.2.conv.2.weight\n",
      "copied key  features.2.conv.3.weight\n",
      "copied key  features.2.conv.3.bias\n",
      "copied key  features.2.conv.3.running_mean\n",
      "copied key  features.2.conv.3.running_var\n",
      "copied key  features.2.conv.3.num_batches_tracked\n",
      "copied key  features.3.conv.0.0.weight\n",
      "copied key  features.3.conv.0.1.weight\n",
      "copied key  features.3.conv.0.1.bias\n",
      "copied key  features.3.conv.0.1.running_mean\n",
      "copied key  features.3.conv.0.1.running_var\n",
      "copied key  features.3.conv.0.1.num_batches_tracked\n",
      "copied key  features.3.conv.1.0.weight\n",
      "copied key  features.3.conv.1.1.weight\n",
      "copied key  features.3.conv.1.1.bias\n",
      "copied key  features.3.conv.1.1.running_mean\n",
      "copied key  features.3.conv.1.1.running_var\n",
      "copied key  features.3.conv.1.1.num_batches_tracked\n",
      "copied key  features.3.conv.2.weight\n",
      "copied key  features.3.conv.3.weight\n",
      "copied key  features.3.conv.3.bias\n",
      "copied key  features.3.conv.3.running_mean\n",
      "copied key  features.3.conv.3.running_var\n",
      "copied key  features.3.conv.3.num_batches_tracked\n",
      "copied key  features.4.conv.0.0.weight\n",
      "copied key  features.4.conv.0.1.weight\n",
      "copied key  features.4.conv.0.1.bias\n",
      "copied key  features.4.conv.0.1.running_mean\n",
      "copied key  features.4.conv.0.1.running_var\n",
      "copied key  features.4.conv.0.1.num_batches_tracked\n",
      "copied key  features.4.conv.1.0.weight\n",
      "copied key  features.4.conv.1.1.weight\n",
      "copied key  features.4.conv.1.1.bias\n",
      "copied key  features.4.conv.1.1.running_mean\n",
      "copied key  features.4.conv.1.1.running_var\n",
      "copied key  features.4.conv.1.1.num_batches_tracked\n",
      "copied key  features.4.conv.2.weight\n",
      "copied key  features.4.conv.3.weight\n",
      "copied key  features.4.conv.3.bias\n",
      "copied key  features.4.conv.3.running_mean\n",
      "copied key  features.4.conv.3.running_var\n",
      "copied key  features.4.conv.3.num_batches_tracked\n",
      "copied key  features.14.conv.0.0.weight\n",
      "copied key  features.14.conv.0.1.weight\n",
      "copied key  features.14.conv.0.1.bias\n",
      "copied key  features.14.conv.0.1.running_mean\n",
      "copied key  features.14.conv.0.1.running_var\n",
      "copied key  features.14.conv.0.1.num_batches_tracked\n",
      "copied key  features.14.conv.1.0.weight\n",
      "copied key  features.14.conv.1.1.weight\n",
      "copied key  features.14.conv.1.1.bias\n",
      "copied key  features.14.conv.1.1.running_mean\n",
      "copied key  features.14.conv.1.1.running_var\n",
      "copied key  features.14.conv.1.1.num_batches_tracked\n",
      "copied key  features.14.conv.2.weight\n",
      "copied key  features.14.conv.3.weight\n",
      "copied key  features.14.conv.3.bias\n",
      "copied key  features.14.conv.3.running_mean\n",
      "copied key  features.14.conv.3.running_var\n",
      "copied key  features.14.conv.3.num_batches_tracked\n",
      "copied key  features.17.conv.0.0.weight\n",
      "copied key  features.17.conv.0.1.weight\n",
      "copied key  features.17.conv.0.1.bias\n",
      "copied key  features.17.conv.0.1.running_mean\n",
      "copied key  features.17.conv.0.1.running_var\n",
      "copied key  features.17.conv.0.1.num_batches_tracked\n",
      "copied key  features.17.conv.1.0.weight\n",
      "copied key  features.17.conv.1.1.weight\n",
      "copied key  features.17.conv.1.1.bias\n",
      "copied key  features.17.conv.1.1.running_mean\n",
      "copied key  features.17.conv.1.1.running_var\n",
      "copied key  features.17.conv.1.1.num_batches_tracked\n",
      "copied key  features.17.conv.2.weight\n",
      "copied key  features.17.conv.3.weight\n",
      "copied key  features.17.conv.3.bias\n",
      "copied key  features.17.conv.3.running_mean\n",
      "copied key  features.17.conv.3.running_var\n",
      "copied key  features.17.conv.3.num_batches_tracked\n",
      "Test acc:  0.7661333292722702  ( 0.05763432683333118 )  adv acc:  0.10063333548605442  ( 0.05045062543655788 ) \n"
     ]
    }
   ],
   "source": [
    "if exp == 'cifar10':\n",
    "    # layers_to_copy = [\"features.1.\", \"features.2.\", \"features.3.\"]\n",
    "    layers_to_copy = [\"features.1.\", \"features.2.\", \"features.3\", \"features.4.\", \"features.14.\", 'features.17.']\n",
    "    # layers_to_copy = [\"features\"]\n",
    "    model_copied = generate_model_with_copied_layers(model_Fedavg, model_FAT, layers_to_copy)\n",
    "    # model_copied = generate_model_with_copied_layers(model_FAT, model_Fedavg, layers_to_copy)\n",
    "\n",
    "if exp == 'cifar100':\n",
    "    # layers_to_copy = [\"features.1.\", \"features.2.\", \"features.3.\"]\n",
    "    layers_to_copy = [\"features.1.\", \"features.2.\", \"features.3\", \"features.4.\", \"features.14.\", 'features.17.']\n",
    "    model_copied = generate_model_with_copied_layers(model_Fedavg, model_FAT, layers_to_copy)\n",
    "\n",
    "if exp == 'celeba':\n",
    "    # layers_to_copy = [\"features.1.\", \"features.2.\", \"features.3.\"]\n",
    "    layers_to_copy = [\"features.1.\", \"features.2.\", \"features.3\", \"features.4.\", \"features.14.\", 'features.17.']\n",
    "    model_copied = generate_model_with_copied_layers(model_Fedavg, model_FAT, layers_to_copy)\n",
    "\n",
    "if exp == 'fakenewsnet':\n",
    "    layers_to_copy = [\"fc1.\"]\n",
    "    # layers_to_copy = [\"conv1\", \"conv2\", \"conv3\"]\n",
    "    model_copied = generate_model_with_copied_layers(model_Fedavg, model_FAT, layers_to_copy)\n",
    "\n",
    "acc, adv_acc = get_adv_acc(aggregator, model_copied, eps=eps_attack, step_size = step_size, steps = steps)\n",
    "\n",
    "print(\"Test acc: \", np.mean(acc), \" (\", np.std(acc),\") \", \"adv acc: \", np.mean(adv_acc),\" (\", np.std(adv_acc),\") \")"
   ]
  },
  {
   "cell_type": "code",
   "execution_count": 11,
   "metadata": {},
   "outputs": [
    {
     "data": {
      "text/plain": [
       "'celeba'"
      ]
     },
     "execution_count": 11,
     "metadata": {},
     "output_type": "execute_result"
    }
   ],
   "source": [
    "exp"
   ]
  },
  {
   "cell_type": "raw",
   "metadata": {
    "vscode": {
     "languageId": "raw"
    }
   },
   "source": [
    "+------------+\n",
    "   CIFAR-10\n",
    "+------------+\n",
    "f1f2f3\n",
    "Test acc:  0.5756250008940696  ( 0.10763617921056291 )  adv acc:  0.10875000143423677  ( 0.04367851197988504 ) \n",
    "\n",
    "f1 f2 f14 f16\n",
    "Test acc:  0.6249999970197677  ( 0.07104136580648894 )  adv acc:  0.16312499828636645  ( 0.056799397733110914 ) \n",
    "\n",
    "f1 2 4 17\n",
    "Test acc:  0.5668749988079071  ( 0.0753403738880095 )  adv acc:  0.0912500006146729  ( 0.042774847174521305 ) \n",
    "\n",
    "f 1 2 4 14 17\n",
    "Test acc:  0.5718749940395356  ( 0.0740433735032682 )  adv acc:  0.08250000039115549  ( 0.03544361658860123 ) \n",
    "\n",
    "+------------+\n",
    "  CIFAR-100 \n",
    "+------------+\n",
    "f1f2f3\n",
    "Test acc:  0.3345833316445351  ( 0.0588828325249226 )  adv acc:  0.015833333926275374  ( 0.010172129924182552 ) \n",
    "\n",
    "f 1 2 4 14 17\n",
    "Test acc:  0.27999999821186067  ( 0.053515314469438684 )  adv acc:  0.00791666703298688  ( 0.009307628693166226 ) \n",
    "\n",
    "+------------+\n",
    "   CELEBA\n",
    "+------------+\n",
    "f1f2f3\n",
    "Test acc:  0.7760666638612748  ( 0.06835655150627634 )  adv acc:  0.18750000316649676  ( 0.09646596940368024 ) \n",
    "\n",
    "f 1 2 4 14 17\n",
    "Test acc:  0.7661333292722702  ( 0.05763432683333118 )  adv acc:  0.10063333548605442  ( 0.05045062543655788 ) \n",
    "\n",
    "+------------+\n",
    " FAKENEWSNET\n",
    "+------------+\n",
    "fc1\n",
    "Test acc:  0.7814285755157471  ( 0.051130083230459505 )  adv acc:  0.14357143305242062  ( 0.03177568142693467 ) \n",
    "\n",
    "\n"
   ]
  }
 ],
 "metadata": {
  "kernelspec": {
   "display_name": "FedEM_env",
   "language": "python",
   "name": "python3"
  },
  "language_info": {
   "codemirror_mode": {
    "name": "ipython",
    "version": 3
   },
   "file_extension": ".py",
   "mimetype": "text/x-python",
   "name": "python",
   "nbconvert_exporter": "python",
   "pygments_lexer": "ipython3",
   "version": "3.9.6"
  }
 },
 "nbformat": 4,
 "nbformat_minor": 2
}
