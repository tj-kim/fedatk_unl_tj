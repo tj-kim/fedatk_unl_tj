{
 "cells": [
  {
   "cell_type": "markdown",
   "metadata": {
    "vscode": {
     "languageId": "plaintext"
    }
   },
   "source": [
    "### Experiment 4 - Fig 4 & Tbl 3\n",
    "\n",
    "Proving that FedAvg and FAT model are very similar and can have only a small subset of layers affect robustness"
   ]
  },
  {
   "cell_type": "code",
   "execution_count": 1,
   "metadata": {},
   "outputs": [
    {
     "name": "stdout",
     "output_type": "stream",
     "text": [
      "/home/ubuntu/fedatk_unl_tj\n"
     ]
    }
   ],
   "source": [
    "cd /home/ubuntu/fedatk_unl_tj/"
   ]
  },
  {
   "cell_type": "code",
   "execution_count": 2,
   "metadata": {},
   "outputs": [
    {
     "name": "stderr",
     "output_type": "stream",
     "text": [
      "/home/ubuntu/anaconda3/envs/FedEM_env/lib/python3.9/site-packages/pandas/core/computation/expressions.py:21: UserWarning: Pandas requires version '2.8.4' or newer of 'numexpr' (version '2.7.3' currently installed).\n",
      "  from pandas.core.computation.check import NUMEXPR_INSTALLED\n",
      "/home/ubuntu/anaconda3/envs/FedEM_env/lib/python3.9/site-packages/pandas/core/arrays/masked.py:60: UserWarning: Pandas requires version '1.3.6' or newer of 'bottleneck' (version '1.3.2' currently installed).\n",
      "  from pandas.core import (\n"
     ]
    }
   ],
   "source": [
    "# Import General Libraries\n",
    "import os\n",
    "import argparse\n",
    "import torch\n",
    "import copy\n",
    "import pickle\n",
    "import random\n",
    "import numpy as np\n",
    "import pandas as pd\n",
    "import gc\n",
    "\n",
    "import torch.nn.functional as F\n",
    "import re\n",
    "\n",
    "# Import FedEM based Libraries\n",
    "from utils.utils import *\n",
    "from utils.constants import *\n",
    "from utils.args import *\n",
    "from utils.util_notebooks import *\n",
    "from utils.util_notebooks import set_args, import_model_weights, get_adv_acc\n",
    "from run_experiment import *\n",
    "from models import *\n",
    "\n",
    "# Import Transfer Attack\n",
    "from transfer_attacks.Personalized_NN import *\n",
    "from transfer_attacks.Params import *\n",
    "from transfer_attacks.Transferer import *\n",
    "from transfer_attacks.Args import *\n",
    "from transfer_attacks.TA_utils import *\n",
    "\n",
    "\n",
    "\n"
   ]
  },
  {
   "cell_type": "code",
   "execution_count": 3,
   "metadata": {},
   "outputs": [],
   "source": [
    "# Specify aggregation method, number of clients, and dataset\n",
    "setting, num_user = \"FedAvg_adv\", 20\n",
    "exp = \"fakenewsnet\"\n",
    "\n",
    "# Load models for FAT and FedAvg - write down path to where weights are saved\n",
    "# save_path_FAT = '/home/ubuntu/fedatk_unl_tj/weights/celeba/250123_icml25/FAT/'\n",
    "# save_path_FedAvg =  '/home/ubuntu/fedatk_unl_tj/weights/celeba/250123_icml25/FedAvg/'\n",
    "save_path_FAT = '/home/ubuntu/fedatk_unl_tj/weights/fakenews/250119_small_architecture_moreconv/FAT_ep02/'\n",
    "save_path_FedAvg =  '/home/ubuntu/fedatk_unl_tj/weights/fakenews/250119_small_architecture_moreconv/FedAvg/'\n",
    "\n",
    "# Attack parameters for performing PGD \n",
    "eps_attack = 0.1\n",
    "eps_train = 0.2\n",
    "step_size = 0.01\n",
    "steps = 10"
   ]
  },
  {
   "cell_type": "code",
   "execution_count": 4,
   "metadata": {},
   "outputs": [
    {
     "name": "stdout",
     "output_type": "stream",
     "text": [
      "==> Clients initialization..\n",
      "===> Building data iterators..\n"
     ]
    },
    {
     "name": "stderr",
     "output_type": "stream",
     "text": [
      " 95%|█████████▌| 19/20 [00:02<00:00,  8.41it/s]\n"
     ]
    },
    {
     "name": "stdout",
     "output_type": "stream",
     "text": [
      "===> Initializing clients..\n"
     ]
    },
    {
     "name": "stderr",
     "output_type": "stream",
     "text": [
      "100%|██████████| 20/20 [00:01<00:00, 13.30it/s]\n",
      "/home/ubuntu/fedatk_unl_tj/aggregator.py:289: FutureWarning: You are using `torch.load` with `weights_only=False` (the current default value), which uses the default pickle module implicitly. It is possible to construct malicious pickle data which will execute arbitrary code during unpickling (See https://github.com/pytorch/pytorch/blob/main/SECURITY.md#untrusted-models for more details). In a future release, the default value for `weights_only` will be flipped to `True`. This limits the functions that could be executed during unpickling. Arbitrary objects will no longer be allowed to be loaded via this mode unless they are explicitly allowlisted by the user via `torch.serialization.add_safe_globals`. We recommend you start setting `weights_only=True` for any use case where you don't have full control of the loaded file. Please open an issue on GitHub for any issues related to this experimental feature.\n",
      "  learner.model.load_state_dict(torch.load(chkpts_path))\n"
     ]
    }
   ],
   "source": [
    "# Generate instance of aggregator that holds all clients, data and models and load relevant models in\n",
    "try: # Skip loading if already loaded\n",
    "    aggregator\n",
    "except:\n",
    "    aggregator, clients, args_ = set_args(setting, num_user,  experiment = exp) # Indicate dataset here\n",
    "\n",
    "model_FAT = copy.deepcopy(import_model_weights(num_user, setting, save_path_FAT, aggregator, args_)[0])\n",
    "model_Fedavg = copy.deepcopy(import_model_weights(num_user, setting, save_path_FedAvg, aggregator, args_)[0])\n",
    "\n",
    "# Obtain parameters for each layer\n",
    "params_FAT = model_FAT.state_dict()\n",
    "params_FedAvg = model_Fedavg.state_dict()\n",
    "\n",
    "# Just take the values of weights and bias for the model\n",
    "desired_keys = params_FAT.keys() # [key for key in params_FAT.keys() if 'weight' in key or 'bias' in key] # "
   ]
  },
  {
   "cell_type": "code",
   "execution_count": 5,
   "metadata": {},
   "outputs": [
    {
     "name": "stdout",
     "output_type": "stream",
     "text": [
      "---- FGSM Batch Size: 50 ----\n",
      "\n",
      "Orig Target: [1, 0, 1, 0, 0, 0, 1, 1, 0, 1, 0, 1, 0, 1, 1, 0, 1, 0, 1, 0, 0, 0, 0, 0, 1, 0, 1, 1, 0, 0, 1, 0, 1, 1, 0, 0, 0, 0, 1, 1, 0, 0, 1, 0, 1, 1, 1, 1, 0, 0]\n",
      "Orig Output: [1, 0, 1, 0, 0, 0, 1, 1, 0, 0, 0, 1, 0, 0, 1, 1, 1, 0, 1, 0, 1, 0, 1, 0, 1, 0, 1, 0, 0, 0, 1, 1, 1, 1, 0, 1, 0, 0, 1, 1, 1, 0, 1, 0, 0, 0, 1, 0, 1, 1]\n",
      "ADV Output : [0, 0, 0, 1, 1, 0, 0, 0, 1, 0, 0, 0, 1, 0, 0, 1, 0, 1, 0, 0, 1, 0, 1, 1, 0, 1, 0, 0, 1, 1, 0, 1, 0, 0, 1, 1, 1, 1, 0, 0, 1, 1, 0, 1, 0, 0, 0, 0, 1, 1] \n",
      "\n",
      "Orig Loss  : -0.7358970642089844\n",
      "ADV Loss   : -0.0849042683839798 \n",
      "\n",
      "Orig Acc   : 0.7199999690055847\n",
      "ADV Acc    : 0.09999999403953552\n",
      "---- FGSM Batch Size: 50 ----\n",
      "\n",
      "Orig Target: [0, 0, 0, 1, 0, 0, 0, 0, 1, 1, 0, 1, 0, 0, 0, 0, 0, 0, 1, 1, 0, 1, 1, 0, 1, 1, 1, 0, 0, 1, 1, 0, 0, 0, 1, 1, 1, 1, 1, 1, 1, 1, 0, 1, 0, 0, 0, 0, 0, 0]\n",
      "Orig Output: [0, 1, 0, 1, 0, 1, 1, 0, 1, 1, 0, 0, 0, 1, 0, 0, 0, 0, 1, 1, 1, 0, 1, 1, 0, 1, 1, 0, 0, 0, 1, 0, 0, 1, 1, 0, 1, 0, 1, 1, 0, 1, 0, 1, 1, 0, 0, 1, 0, 1]\n",
      "ADV Output : [1, 1, 1, 0, 1, 1, 1, 1, 0, 0, 1, 0, 1, 1, 1, 1, 0, 1, 0, 0, 1, 0, 0, 1, 0, 0, 0, 1, 1, 0, 0, 0, 1, 1, 0, 0, 0, 0, 0, 0, 0, 0, 1, 0, 1, 0, 1, 1, 1, 1] \n",
      "\n",
      "Orig Loss  : -0.667615532875061\n",
      "ADV Loss   : -0.06301923841238022 \n",
      "\n",
      "Orig Acc   : 0.6599999666213989\n",
      "ADV Acc    : 0.05999999865889549\n",
      "Accuracy of model_Fedavg on clean data (x_data): 72.00%\n",
      "Accuracy of model_Fedavg on adversarial data (x_adv): 10.00%\n",
      "Accuracy of model_FAT on clean data (x_data): 72.00%\n",
      "Accuracy of model_FAT on adversarial data (x_adv): 46.00%\n"
     ]
    }
   ],
   "source": [
    "x_min = torch.min(aggregator.clients[0].adv_nn.dataloader.x_data).detach().cuda()\n",
    "x_max = torch.max(aggregator.clients[0].adv_nn.dataloader.x_data).detach().cuda()\n",
    "import torch\n",
    "import torch.nn.functional as F\n",
    "\n",
    "def calculate_accuracy(model, x_data, y_data):\n",
    "    \"\"\"\n",
    "    Calculate accuracy of a model on given data.\n",
    "\n",
    "    Args:\n",
    "        model: The model to evaluate (e.g., model_Fedavg or model_FAT).\n",
    "        x_data: The input data (tensor).\n",
    "        y_data: The ground truth labels (tensor).\n",
    "\n",
    "    Returns:\n",
    "        Accuracy as a percentage (float).\n",
    "    \"\"\"\n",
    "    model.eval()  # Set model to evaluation mode\n",
    "    with torch.no_grad():\n",
    "        # Forward pass\n",
    "        outputs = model(x_data.cuda())  # Make sure input is on GPU\n",
    "        _, predicted = torch.max(outputs, 1)  # Get the predicted class\n",
    "        correct = (predicted == y_data.cuda()).sum().item()  # Count correct predictions\n",
    "        accuracy = correct / len(y_data) * 100  # Calculate accuracy percentage\n",
    "    return accuracy\n",
    "\n",
    "c_id = 3\n",
    "\n",
    "# Load client data\n",
    "dataloader = load_client_data(clients=aggregator.clients, c_id=c_id, mode='test')\n",
    "# x_data = copy.deepcopy(dataloader.x_data.to(torch.float32).cuda())  # Convert to float32 and move to GPU\n",
    "# y_data = dataloader.y_data.cuda()  # Move ground truth to GPU\n",
    "\n",
    "# Generate adversarial data (x_adv)\n",
    "atk_params = PGD_Params()\n",
    "atk_params.set_params(batch_size=50, iteration=steps,\n",
    "                target=-1, x_val_min=x_min, x_val_max=x_max,\n",
    "                step_size=step_size, step_norm=\"inf\", eps=eps_attack, eps_norm=2)\n",
    "\n",
    "combined_model = aggregator.clients[0].combine_learners_ensemble()\n",
    "generator = Adv_NN(model_Fedavg, dataloader)\n",
    "\n",
    "# Perform adversarial attack\n",
    "generator.pgd(atk_params, print_info = True)\n",
    "x_adv = generator.x_adv.to(torch.float32).cuda()  # Convert to float32 and move to GPU\n",
    "x_data = generator.x_orig.to(torch.float32).cuda()\n",
    "y_data = generator.y_orig.cuda()\n",
    "\n",
    "generator2 = Adv_NN(model_FAT, dataloader)\n",
    "generator.pgd(atk_params, print_info = True)\n",
    "\n",
    "# Calculate accuracy for x_data and x_adv using model_Fedavg and model_FAT\n",
    "accuracy_fedavg_x_data = calculate_accuracy(model_Fedavg, x_data, y_data)\n",
    "accuracy_fedavg_x_adv = calculate_accuracy(model_Fedavg, x_adv, y_data)\n",
    "\n",
    "accuracy_fat_x_data = calculate_accuracy(model_FAT, x_data, y_data)\n",
    "accuracy_fat_x_adv = calculate_accuracy(model_FAT, x_adv, y_data)\n",
    "\n",
    "# Print out the results\n",
    "print(f\"Accuracy of model_Fedavg on clean data (x_data): {accuracy_fedavg_x_data:.2f}%\")\n",
    "print(f\"Accuracy of model_Fedavg on adversarial data (x_adv): {accuracy_fedavg_x_adv:.2f}%\")\n",
    "\n",
    "print(f\"Accuracy of model_FAT on clean data (x_data): {accuracy_fat_x_data:.2f}%\")\n",
    "print(f\"Accuracy of model_FAT on adversarial data (x_adv): {accuracy_fat_x_adv:.2f}%\")\n"
   ]
  },
  {
   "cell_type": "code",
   "execution_count": 6,
   "metadata": {},
   "outputs": [
    {
     "name": "stderr",
     "output_type": "stream",
     "text": [
      "findfont: Font family ['normal'] not found. Falling back to DejaVu Sans.\n",
      "findfont: Font family ['normal'] not found. Falling back to DejaVu Sans.\n",
      "findfont: Font family ['normal'] not found. Falling back to DejaVu Sans.\n"
     ]
    },
    {
     "name": "stdout",
     "output_type": "stream",
     "text": [
      "Submodule Name                 Mean Cosine Similarity         Std Dev\n",
      "=================================================================\n",
      "conv1                                    0.99998945      0.00000013 \n",
      "conv2                                    0.96400386      0.00037096 \n",
      "conv3                                    0.93532485      0.00125236 !!!\n",
      "fc1                                      0.68324208      0.04682943 !!!\n",
      "fc2                                      0.21597053      0.42754918 !!!\n",
      "Submodule Name                 Mean Cosine Similarity         Std Dev\n",
      "=================================================================\n",
      "conv1                                    0.99998939      0.00000015 \n",
      "conv2                                    0.96399730      0.00038767 \n",
      "conv3                                    0.93527329      0.00129195 !!!\n",
      "fc1                                      0.63809937      0.06025668 !!!\n",
      "fc2                                      0.13829431      0.37143031 !!!\n"
     ]
    },
    {
     "data": {
      "image/png": "[encoded data removed]",
      "text/plain": [
       "<Figure size 480x320 with 1 Axes>"
      ]
     },
     "metadata": {
      "needs_background": "light"
     },
     "output_type": "display_data"
    }
   ],
   "source": [
    "# Assuming the function compare_top_level_outputs_with_cosine_similarity is already defined as previously\n",
    "\n",
    "# Example usage for Benign and Adversarial inputs\n",
    "# labs1, cs1, std_dev1 = compare_top_level_outputs_with_cosine_similarity(model_FAT, model_Fedavg, x_data.cuda())\n",
    "# labs2, cs2, std_dev2 = compare_top_level_outputs_with_cosine_similarity(model_FAT, model_Fedavg, x_adv.cuda())\n",
    "labs1, cs1, std_dev1 = compare_top_level_outputs_with_cosine_similarity_fnn(model_FAT, model_Fedavg, x_data.cuda())\n",
    "labs2, cs2, std_dev2 = compare_top_level_outputs_with_cosine_similarity_fnn(model_FAT, model_Fedavg, x_adv.cuda())\n",
    "\n",
    "# Plotting setup\n",
    "font = {'family': 'normal', 'weight': 'normal', 'size': 13}\n",
    "threshold = 0.95\n",
    "\n",
    "# Set font and figure size\n",
    "plt.rc('font', **font)\n",
    "plt.figure(dpi=80, figsize=(6, 4))\n",
    "\n",
    "# Plot Cosine Similarities for both sets of inputs\n",
    "line_color1 = 'b'  # Color for benign input\n",
    "line_color2 = 'r'  # Color for adversarial input\n",
    "\n",
    "plt.plot(labs1, cs1, marker=\"o\", color=line_color1, label=\"Benign Input\")\n",
    "plt.plot(labs2, cs2, marker=\"o\", color=line_color2, label=\"Adversarial Input\")\n",
    "\n",
    "# Overlay standard deviation ranges with matching colors\n",
    "plt.fill_between(labs1, \n",
    "                 np.array(cs1) - std_dev1, \n",
    "                 np.array(cs1) + std_dev1, \n",
    "                 color=line_color1, alpha=0.2)\n",
    "\n",
    "plt.fill_between(labs2, \n",
    "                 np.array(cs2) - std_dev2, \n",
    "                 np.array(cs2) + std_dev2, \n",
    "                 color=line_color2, alpha=0.2)\n",
    "\n",
    "# Add threshold line (optional)\n",
    "# plt.axhline(y=threshold, color=\"r\", linestyle=\"--\", label=f\"Threshold = {threshold}\")\n",
    "\n",
    "# Plot settings\n",
    "plt.xticks(rotation=45, ha=\"right\", fontsize=9)\n",
    "plt.ylabel(\"Cosine Similarity\")\n",
    "plt.title(\"Celeba Layer Comparison (Benign vs Adversarial Inputs)\")\n",
    "plt.legend()\n",
    "plt.tight_layout()\n",
    "\n",
    "# Display the plot\n",
    "plt.show()"
   ]
  },
  {
   "cell_type": "code",
   "execution_count": 7,
   "metadata": {},
   "outputs": [
    {
     "name": "stdout",
     "output_type": "stream",
     "text": [
      "Submodule Name                 Mean Cosine Similarity         Std Dev\n",
      "=================================================================\n",
      "conv1                                    0.99998945      0.00000013 \n",
      "conv2                                    0.96766704      0.00035094 \n",
      "conv3                                    0.96883667      0.00054326 \n",
      "fc1                                      0.70861584      0.04356606 !!!\n",
      "fc2                                      0.90968990      0.05535355 !!!\n",
      "Submodule Name                 Mean Cosine Similarity         Std Dev\n",
      "=================================================================\n",
      "conv1                                    0.99998939      0.00000015 \n",
      "conv2                                    0.96766353      0.00036444 \n",
      "conv3                                    0.96872467      0.00056658 \n",
      "fc1                                      0.68697774      0.04154177 !!!\n",
      "fc2                                      0.91684294      0.06311116 !!!\n"
     ]
    },
    {
     "data": {
      "image/png": "[encoded data removed]",
      "text/plain": [
       "<Figure size 480x320 with 1 Axes>"
      ]
     },
     "metadata": {
      "needs_background": "light"
     },
     "output_type": "display_data"
    }
   ],
   "source": [
    "\n",
    "# Example usage for benign and adversarial inputs\n",
    "# labs1, cs1, std_dev1 = compare_intermediate_outputs_with_cosine_similarity(model_FAT, model_Fedavg, x_data.cuda())\n",
    "# labs2, cs2, std_dev2 = compare_intermediate_outputs_with_cosine_similarity(model_FAT, model_Fedavg, x_adv.cuda())\n",
    "\n",
    "labs1, cs1, std_dev1 = compare_intermediate_outputs_with_cosine_similarity_fnn(model_FAT, model_Fedavg, x_data.cuda())\n",
    "labs2, cs2, std_dev2 = compare_intermediate_outputs_with_cosine_similarity_fnn(model_FAT, model_Fedavg, x_adv.cuda())\n",
    "\n",
    "# Plot cosine similarity with standard deviation range\n",
    "font = {'family': 'normal', 'weight': 'normal', 'size': 13}\n",
    "threshold = 0.95\n",
    "\n",
    "# Set font and figure size\n",
    "plt.rc('font', **font)\n",
    "plt.figure(dpi=80, figsize=(6, 4))\n",
    "\n",
    "# Plot the cosine similarity curves\n",
    "line_color1 = 'b'  # Benign input curve color\n",
    "line_color2 = 'r'  # Adversarial input curve color\n",
    "\n",
    "plt.plot(labs1, cs1, marker=\"o\", color=line_color1, label=\"Benign Input\")\n",
    "plt.plot(labs2, cs2, marker=\"o\", color=line_color2, label=\"Adversarial Input\")\n",
    "\n",
    "# Overlay standard deviation as shaded regions\n",
    "plt.fill_between(labs1, \n",
    "                 np.array(cs1) - std_dev1, \n",
    "                 np.array(cs1) + std_dev1, \n",
    "                 color=line_color1, alpha=0.2)\n",
    "\n",
    "plt.fill_between(labs2, \n",
    "                 np.array(cs2) - std_dev2, \n",
    "                 np.array(cs2) + std_dev2, \n",
    "                 color=line_color2, alpha=0.2)\n",
    "\n",
    "# Optional: Add threshold line\n",
    "plt.axhline(y=threshold, color=\"r\", linestyle=\"--\", label=f\"Threshold = {threshold}\")\n",
    "\n",
    "# Plot settings\n",
    "plt.xticks(rotation=45, ha=\"right\", fontsize=9)\n",
    "plt.ylabel(\"Cosine Similarity\")\n",
    "plt.title(\"Celeba Layer Compare (Same Inputs per Layer)\")\n",
    "plt.legend()\n",
    "plt.tight_layout()\n",
    "\n",
    "# Show the plot\n",
    "plt.show()"
   ]
  },
  {
   "cell_type": "code",
   "execution_count": 8,
   "metadata": {},
   "outputs": [
    {
     "data": {
      "text/plain": [
       "odict_keys(['conv1.weight', 'conv1.bias', 'conv1_bn.weight', 'conv1_bn.bias', 'conv1_bn.running_mean', 'conv1_bn.running_var', 'conv1_bn.num_batches_tracked', 'conv2.weight', 'conv2.bias', 'conv2_bn.weight', 'conv2_bn.bias', 'conv2_bn.running_mean', 'conv2_bn.running_var', 'conv2_bn.num_batches_tracked', 'conv3.weight', 'conv3.bias', 'conv3_bn.weight', 'conv3_bn.bias', 'conv3_bn.running_mean', 'conv3_bn.running_var', 'conv3_bn.num_batches_tracked', 'fc1.weight', 'fc1.bias', 'fc2.weight', 'fc2.bias'])"
      ]
     },
     "execution_count": 8,
     "metadata": {},
     "output_type": "execute_result"
    }
   ],
   "source": [
    "model_Fedavg.state_dict().keys()"
   ]
  },
  {
   "cell_type": "code",
   "execution_count": 9,
   "metadata": {},
   "outputs": [],
   "source": [
    "def generate_model_with_copied_layers(model1, model2, layers_to_copy):\n",
    "    \"\"\"\n",
    "    Generate a new model by copying specified layers from model1 to model2.\n",
    "    \n",
    "    Args:\n",
    "        model1 (torch.nn.Module): The source model.\n",
    "        model2 (torch.nn.Module): The base model to copy layers into.\n",
    "        layers_to_copy (list of str): List of prefixes indicating which layers to copy.\n",
    "    \n",
    "    Returns:\n",
    "        torch.nn.Module: A new model with the specified layers copied from model1.\n",
    "    \"\"\"\n",
    "    # Create a deep copy of model2 to preserve the original\n",
    "    model3 = copy.deepcopy(model2)\n",
    "    \n",
    "    state_dict1 = model1.state_dict()\n",
    "    state_dict3 = model3.state_dict()  # Get state_dict for the new model\n",
    "    \n",
    "    # Iterate through state_dict keys and check for matching prefixes\n",
    "    for key in state_dict1.keys():\n",
    "        if any(key.startswith(layer_prefix) for layer_prefix in layers_to_copy):\n",
    "            if key in state_dict3:  # Ensure the key exists in model3\n",
    "                state_dict3[key] = state_dict1[key].clone()\n",
    "    \n",
    "    # Load the updated state_dict into model3\n",
    "    model3.load_state_dict(state_dict3)\n",
    "    \n",
    "    return model3"
   ]
  },
  {
   "cell_type": "code",
   "execution_count": 11,
   "metadata": {},
   "outputs": [
    {
     "name": "stdout",
     "output_type": "stream",
     "text": [
      "Test acc:  0.7428571432828903  ( 0.05170559915428367 )  adv acc:  0.3300000086426735  ( 0.06450755257018174 ) \n"
     ]
    }
   ],
   "source": [
    "if exp == 'cifar10':\n",
    "    layers_to_copy = [\"features.1\"]\n",
    "    model_copied = generate_model_with_copied_layers(model_Fedavg, model_FAT, layers_to_copy)\n",
    "\n",
    "if exp == 'cifar100':\n",
    "    layers_to_copy = [\"features.1\", \"features.2\", \"features.3\"]\n",
    "    model_copied = generate_model_with_copied_layers(model_Fedavg, model_FAT, layers_to_copy)\n",
    "\n",
    "if exp == 'celeba':\n",
    "    layers_to_copy = [\"features.1\", \"features.2\", \"features.3\", \"features.4\"]\n",
    "    model_copied = generate_model_with_copied_layers(model_Fedavg, model_FAT, layers_to_copy)\n",
    "\n",
    "if exp == 'fakenewsnet':\n",
    "    layers_to_copy = [\"fc1\"]\n",
    "    # layers_to_copy = [\"conv1\", \"conv2\", \"conv3\"]\n",
    "    model_copied = generate_model_with_copied_layers(model_Fedavg, model_FAT, layers_to_copy)\n",
    "\n",
    "acc, adv_acc = get_adv_acc(aggregator, model_copied, eps=eps_attack, step_size = step_size, steps = steps)\n",
    "\n",
    "print(\"Test acc: \", np.mean(acc), \" (\", np.std(acc),\") \", \"adv acc: \", np.mean(adv_acc),\" (\", np.std(adv_acc),\") \")"
   ]
  },
  {
   "cell_type": "code",
   "execution_count": 12,
   "metadata": {},
   "outputs": [
    {
     "data": {
      "text/plain": [
       "'fakenewsnet'"
      ]
     },
     "execution_count": 12,
     "metadata": {},
     "output_type": "execute_result"
    }
   ],
   "source": [
    "exp"
   ]
  },
  {
   "cell_type": "code",
   "execution_count": 13,
   "metadata": {},
   "outputs": [
    {
     "name": "stderr",
     "output_type": "stream",
     "text": [
      "/home/ubuntu/fedatk_unl_tj/aggregator.py:289: FutureWarning: You are using `torch.load` with `weights_only=False` (the current default value), which uses the default pickle module implicitly. It is possible to construct malicious pickle data which will execute arbitrary code during unpickling (See https://github.com/pytorch/pytorch/blob/main/SECURITY.md#untrusted-models for more details). In a future release, the default value for `weights_only` will be flipped to `True`. This limits the functions that could be executed during unpickling. Arbitrary objects will no longer be allowed to be loaded via this mode unless they are explicitly allowlisted by the user via `torch.serialization.add_safe_globals`. We recommend you start setting `weights_only=True` for any use case where you don't have full control of the loaded file. Please open an issue on GitHub for any issues related to this experimental feature.\n",
      "  learner.model.load_state_dict(torch.load(chkpts_path))\n"
     ]
    },
    {
     "name": "stdout",
     "output_type": "stream",
     "text": [
      "Test acc:  0.7821428537368774  ( 0.05418694061844876 )  adv acc:  0.05000000125728547  ( 0.019430673136934223 ) \n",
      "Test acc:  0.7278571456670762  ( 0.048545160504614424 )  adv acc:  0.38071429207921026  ( 0.06345092714007233 ) \n"
     ]
    }
   ],
   "source": [
    "# Take measurement for FedAvg model\n",
    "aggregator.load_state(dir_path=save_path_FedAvg)\n",
    "aggregator.update_clients()\n",
    "model_FA = pull_model_from_agg(aggregator)\n",
    "model_FA.eval()\n",
    "acc, adv_acc = get_adv_acc(aggregator, model_FA, eps=eps_attack, step_size = step_size, steps = steps)\n",
    "\n",
    "print(\"Test acc: \", np.mean(acc), \" (\", np.std(acc),\") \", \"adv acc: \", np.mean(adv_acc),\" (\", np.std(adv_acc),\") \")\n",
    "\n",
    "# Take measurement for FedAvg model\n",
    "aggregator.load_state(dir_path=save_path_FAT)\n",
    "aggregator.update_clients()\n",
    "model_FA = pull_model_from_agg(aggregator)\n",
    "model_FA.eval()\n",
    "acc, adv_acc = get_adv_acc(aggregator, model_FA, eps=eps_attack, step_size = step_size, steps = steps)\n",
    "\n",
    "print(\"Test acc: \", np.mean(acc), \" (\", np.std(acc),\") \", \"adv acc: \", np.mean(adv_acc),\" (\", np.std(adv_acc),\") \")"
   ]
  },
  {
   "cell_type": "raw",
   "metadata": {
    "vscode": {
     "languageId": "raw"
    }
   },
   "source": [
    "+------------+\n",
    "   CIFAR-10\n",
    "+------------+\n",
    "\n",
    "+------------+\n",
    "  CIFAR-100 \n",
    "+------------+\n",
    "TRIMMED MEAN\n",
    "MEDIAN\n",
    "\n",
    "+------------+\n",
    "   CELEBA\n",
    "+------------+\n",
    "TRIMMED MEAN\n",
    "MEDIAN\n",
    "\n",
    "+------------+\n",
    " FAKENEWSNET\n",
    "+------------+\n",
    "TRIMMED MEAN\n",
    "MEDIAN\n"
   ]
  }
 ],
 "metadata": {
  "kernelspec": {
   "display_name": "FedEM_env",
   "language": "python",
   "name": "python3"
  },
  "language_info": {
   "codemirror_mode": {
    "name": "ipython",
    "version": 3
   },
   "file_extension": ".py",
   "mimetype": "text/x-python",
   "name": "python",
   "nbconvert_exporter": "python",
   "pygments_lexer": "ipython3",
   "version": "3.9.6"
  }
 },
 "nbformat": 4,
 "nbformat_minor": 2
}
