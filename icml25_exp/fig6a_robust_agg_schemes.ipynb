{
 "cells": [
  {
   "cell_type": "markdown",
   "metadata": {},
   "source": [
    "### Model Aggregation Scheme Overview\n",
    "\n",
    "##### Summary\n",
    "Trained 6 models [FedAvg, FAT] x [Vanilla, Trimmed Mean, Median]. Record test acc and adv acc for each setting. Each model has only been trained for 50 round to save time.\n",
    "\n",
    "Table 2 "
   ]
  },
  {
   "cell_type": "code",
   "execution_count": 1,
   "metadata": {},
   "outputs": [
    {
     "name": "stdout",
     "output_type": "stream",
     "text": [
      "/home/ubuntu/fedatk_unl_tj\n"
     ]
    }
   ],
   "source": [
    "cd /home/ubuntu/fedatk_unl_tj"
   ]
  },
  {
   "cell_type": "code",
   "execution_count": 2,
   "metadata": {},
   "outputs": [
    {
     "name": "stderr",
     "output_type": "stream",
     "text": [
      "/home/ubuntu/anaconda3/envs/FedEM_env/lib/python3.9/site-packages/pandas/core/computation/expressions.py:21: UserWarning: Pandas requires version '2.8.4' or newer of 'numexpr' (version '2.7.3' currently installed).\n",
      "  from pandas.core.computation.check import NUMEXPR_INSTALLED\n",
      "/home/ubuntu/anaconda3/envs/FedEM_env/lib/python3.9/site-packages/pandas/core/arrays/masked.py:60: UserWarning: Pandas requires version '1.3.6' or newer of 'bottleneck' (version '1.3.2' currently installed).\n",
      "  from pandas.core import (\n"
     ]
    }
   ],
   "source": [
    "# Import General Libraries\n",
    "import os\n",
    "import argparse\n",
    "import torch\n",
    "import copy\n",
    "import pickle\n",
    "import random\n",
    "import numpy as np\n",
    "import pandas as pd\n",
    "\n",
    "# Import FedEM based Libraries\n",
    "from utils.utils import *\n",
    "from utils.constants import *\n",
    "from utils.args import *\n",
    "from utils.util_notebooks import *\n",
    "from run_experiment import *\n",
    "from models import *\n",
    "\n",
    "# Import Transfer Attack\n",
    "from transfer_attacks.Personalized_NN import *\n",
    "from transfer_attacks.Params import *\n",
    "from transfer_attacks.Transferer import *\n",
    "from transfer_attacks.Args import *\n",
    "from transfer_attacks.TA_utils import *"
   ]
  },
  {
   "cell_type": "code",
   "execution_count": 3,
   "metadata": {},
   "outputs": [
    {
     "name": "stdout",
     "output_type": "stream",
     "text": [
      "==> Clients initialization..\n",
      "===> Building data iterators..\n"
     ]
    },
    {
     "name": "stderr",
     "output_type": "stream",
     "text": [
      " 49%|████▉     | 39/80 [00:00<00:00, 120.90it/s]\n"
     ]
    },
    {
     "name": "stdout",
     "output_type": "stream",
     "text": [
      "===> Initializing clients..\n"
     ]
    },
    {
     "name": "stderr",
     "output_type": "stream",
     "text": [
      "  0%|          | 0/40 [00:00<?, ?it/s]/home/ubuntu/anaconda3/envs/FedEM_env/lib/python3.9/site-packages/torchvision/models/_utils.py:208: UserWarning: The parameter 'pretrained' is deprecated since 0.13 and may be removed in the future, please use 'weights' instead.\n",
      "  warnings.warn(\n",
      "/home/ubuntu/anaconda3/envs/FedEM_env/lib/python3.9/site-packages/torchvision/models/_utils.py:223: UserWarning: Arguments other than a weight enum or `None` for 'weights' are deprecated since 0.13 and may be removed in the future. The current behavior is equivalent to passing `weights=MobileNet_V2_Weights.IMAGENET1K_V1`. You can also use `weights=MobileNet_V2_Weights.DEFAULT` to get the most up-to-date weights.\n",
      "  warnings.warn(msg)\n",
      "100%|██████████| 40/40 [00:05<00:00,  6.69it/s]\n",
      "/home/ubuntu/fedatk_unl_tj/aggregator.py:289: FutureWarning: You are using `torch.load` with `weights_only=False` (the current default value), which uses the default pickle module implicitly. It is possible to construct malicious pickle data which will execute arbitrary code during unpickling (See https://github.com/pytorch/pytorch/blob/main/SECURITY.md#untrusted-models for more details). In a future release, the default value for `weights_only` will be flipped to `True`. This limits the functions that could be executed during unpickling. Arbitrary objects will no longer be allowed to be loaded via this mode unless they are explicitly allowlisted by the user via `torch.serialization.add_safe_globals`. We recommend you start setting `weights_only=True` for any use case where you don't have full control of the loaded file. Please open an issue on GitHub for any issues related to this experimental feature.\n",
      "  learner.model.load_state_dict(torch.load(chkpts_path))\n"
     ]
    }
   ],
   "source": [
    "setting, num_user = \"FedAvg\", 40\n",
    "\n",
    "try: # Skip loading if already loaded\n",
    "    aggregator\n",
    "except:\n",
    "    aggregator, clients, args_ = set_args(setting, num_user)\n",
    "\n",
    "# Load models for FAT and FedAvg\n",
    "# Change path to where models are stored trained via trimmed mean and median given noniid induced by FAT \n",
    "# model is trained by run_model_training/train_model_noniid_sweep.py\n",
    "save_path_tm_iid = \"/home/ubuntu/fedatk_unl_tj/weights/cifar10/250123_icml25/tm_iid/\"\n",
    "save_path_tm_niid = \"/home/ubuntu/fedatk_unl_tj/weights/cifar10/250123_icml25/tm_niid/\"\n",
    "save_path_med_iid = \"/home/ubuntu/fedatk_unl_tj/weights/cifar10/250123_icml25/med_iid/\"\n",
    "save_path_med_niid = \"/home/ubuntu/fedatk_unl_tj/weights/cifar10/250123_icml25/med_niid/\"\n",
    "\n",
    "model_tm_iid = copy.deepcopy(import_model_weights(num_user, setting, save_path_tm_iid, aggregator, args_)[0])\n",
    "model_tm_niid = copy.deepcopy(import_model_weights(num_user, setting, save_path_tm_niid, aggregator, args_)[0])\n",
    "\n",
    "model_med_iid = copy.deepcopy(import_model_weights(num_user, setting, save_path_med_iid, aggregator, args_)[0])\n",
    "model_med_niid = copy.deepcopy(import_model_weights(num_user, setting, save_path_med_niid, aggregator, args_)[0])"
   ]
  },
  {
   "cell_type": "code",
   "execution_count": 4,
   "metadata": {},
   "outputs": [
    {
     "name": "stdout",
     "output_type": "stream",
     "text": [
      "Running cid trial 0\n",
      "\t Adv idx: 0\n",
      "\t Adv idx: 1\n",
      "\t Adv idx: 2\n",
      "\t Adv idx: 3\n",
      "Running cid trial 1\n",
      "\t Adv idx: 0\n",
      "\t Adv idx: 1\n",
      "\t Adv idx: 2\n",
      "\t Adv idx: 3\n",
      "Running cid trial 2\n",
      "\t Adv idx: 0\n",
      "\t Adv idx: 1\n",
      "\t Adv idx: 2\n",
      "\t Adv idx: 3\n",
      "Running cid trial 3\n",
      "\t Adv idx: 0\n",
      "\t Adv idx: 1\n",
      "\t Adv idx: 2\n",
      "\t Adv idx: 3\n",
      "Running cid trial 4\n",
      "\t Adv idx: 0\n",
      "\t Adv idx: 1\n",
      "\t Adv idx: 2\n",
      "\t Adv idx: 3\n"
     ]
    }
   ],
   "source": [
    "metrics = ['orig_acc_transfers','orig_similarities','adv_acc_transfers','adv_similarities_target',\n",
    "            'adv_similarities_untarget','adv_target','adv_miss']\n",
    "\n",
    "# Perform transfer attack from one client to another and record stats\n",
    "models_test = [model_tm_iid, model_tm_niid,model_med_iid,model_med_niid]\n",
    "\n",
    "# Run Measurements for both targetted and untargeted analysis\n",
    "victim_idxs = range(len(models_test))\n",
    "custom_batch_size = 1000\n",
    "eps = 4.0\n",
    "\n",
    "num_cid = 5\n",
    "c_id_list = range(num_cid)\n",
    "\n",
    "acc_store = np.zeros([num_cid, len(models_test)])\n",
    "adv_store = np.zeros([num_cid, len(models_test)])\n",
    "\n",
    "\n",
    "for t in c_id_list:\n",
    "    print(\"Running cid trial\", t)\n",
    "    logs_adv = generate_logs_adv(len(models_test))\n",
    "    dataloader = load_client_data(clients = clients, c_id = t, mode = 'test') # or test/train\n",
    "    cross_attack(logs_adv, victim_idxs, dataloader, models_test, custom_batch_size, eps)\n",
    "    \n",
    "    adv_miss = get_metric_list(\"adv_miss\", logs_adv, victim_idxs)\n",
    "    acc = get_metric_list(\"orig_acc_transfers\", logs_adv, victim_idxs)\n",
    "    adv_target = get_metric_list(\"adv_target\", logs_adv, victim_idxs)\n",
    "    \n",
    "    for m in range(len(models_test)):\n",
    "        acc_store[t,m] = acc[m,m]\n",
    "        adv_store[t,m] = adv_miss[m,m]\n",
    "\n",
    "\n"
   ]
  },
  {
   "cell_type": "code",
   "execution_count": 5,
   "metadata": {},
   "outputs": [
    {
     "data": {
      "text/plain": [
       "array([[0.47, 0.35, 0.57, 0.34],\n",
       "       [0.41, 0.28, 0.52, 0.31],\n",
       "       [0.48, 0.29, 0.54, 0.37],\n",
       "       [0.35, 0.28, 0.48, 0.31],\n",
       "       [0.40, 0.23, 0.48, 0.25]])"
      ]
     },
     "execution_count": 5,
     "metadata": {},
     "output_type": "execute_result"
    }
   ],
   "source": [
    "adv_store"
   ]
  },
  {
   "cell_type": "code",
   "execution_count": 6,
   "metadata": {},
   "outputs": [],
   "source": [
    "# Print along diagonal and plot \"robustness against white-box attacks (self)\"\n",
    "adv_list = []\n",
    "acc_list = []\n",
    "adv_std_list = []\n",
    "acc_std_list = []\n",
    "for i in range(len(models_test)):\n",
    "    adv_list += [np.mean(adv_store[:,i])]\n",
    "    acc_list += [np.mean(acc_store[:,i])]\n",
    "    \n",
    "    adv_std_list += [np.std(adv_store[:,i])]\n",
    "    acc_std_list += [np.std(acc_store[:,i])]\n",
    "\n"
   ]
  },
  {
   "cell_type": "code",
   "execution_count": 9,
   "metadata": {},
   "outputs": [
    {
     "name": "stdout",
     "output_type": "stream",
     "text": [
      "+----------+--------------------+----------------------+---------------------+---------------------+\n",
      "| Setting  |      Test Acc      |     Test Acc STD     |       Adv Acc       |     Adv Acc STD     |\n",
      "+----------+--------------------+----------------------+---------------------+---------------------+\n",
      "|  TM_iid  | 0.8172259449958801 | 0.03096604724400304  | 0.42284799814224244 | 0.04946804434469969 |\n",
      "| TM_niid  | 0.8172710299491882 | 0.030829598283105025 |  0.2848703145980835 | 0.03768478208152037 |\n",
      "| Med_iid  | 0.8031113862991333 | 0.022935331031556924 |  0.5181314527988434 | 0.03665270265445393 |\n",
      "| Med_niid | 0.8062481760978699 | 0.007653997879287788 |  0.3166157782077789 | 0.03799640415606277 |\n",
      "+----------+--------------------+----------------------+---------------------+---------------------+\n"
     ]
    }
   ],
   "source": [
    "from prettytable import PrettyTable\n",
    "\n",
    "# Your lists\n",
    "labels = ['TM_iid', 'TM_niid', 'Med_iid', 'Med_niid']\n",
    "x_values = acc_list\n",
    "y_values = adv_list\n",
    "xstd_values = acc_std_list\n",
    "ystd_values = adv_std_list\n",
    "\n",
    "# Creating the table\n",
    "table = PrettyTable()\n",
    "table.field_names = [\"Setting\", \"Test Acc\", \"Test Acc STD\", \"Adv Acc\", \"Adv Acc STD\"]\n",
    "\n",
    "# Adding rows\n",
    "for label, x, x1, y, y1 in zip(labels, x_values, xstd_values, y_values,ystd_values):\n",
    "    table.add_row([label, x, x1, y, y1])\n",
    "\n",
    "# Printing the table\n",
    "print(table)\n"
   ]
  },
  {
   "cell_type": "code",
   "execution_count": 10,
   "metadata": {},
   "outputs": [
    {
     "data": {
      "text/plain": [
       "array([[0.40, 0.58, 0.54, 0.52],\n",
       "       [0.62, 0.23, 0.54, 0.47],\n",
       "       [0.66, 0.66, 0.48, 0.59],\n",
       "       [0.76, 0.60, 0.64, 0.25]])"
      ]
     },
     "execution_count": 10,
     "metadata": {},
     "output_type": "execute_result"
    }
   ],
   "source": [
    "adv_miss"
   ]
  },
  {
   "cell_type": "code",
   "execution_count": 22,
   "metadata": {},
   "outputs": [
    {
     "data": {
      "image/png": "[encoded data removed]",
      "text/plain": [
       "<Figure size 480x320 with 1 Axes>"
      ]
     },
     "metadata": {
      "needs_background": "light"
     },
     "output_type": "display_data"
    }
   ],
   "source": [
    "import numpy as np\n",
    "import matplotlib.pyplot as plt\n",
    "\n",
    "# Use existing variables\n",
    "settings = ['Trim-Mean\\ni.i.d.', 'Trim-Mean\\nnon-i.i.d.', 'Median\\ni.i.d.', 'Median\\nnon-i.i.d.']\n",
    "test_acc = x_values  # acc_list\n",
    "test_acc_std = xstd_values  # acc_std_list\n",
    "adv_acc = y_values  # adv_list\n",
    "adv_acc_std = ystd_values  # adv_std_list\n",
    "\n",
    "# Bar width and positions\n",
    "bar_width = 0.35\n",
    "x = np.arange(len(settings))\n",
    "\n",
    "# Create the bar chart\n",
    "fig, ax = plt.subplots(figsize=(6, 4), dpi=80)\n",
    "bars1 = ax.bar(x - bar_width/2, test_acc, bar_width, yerr=test_acc_std, capsize=5, label=\"Test Acc.\", color=\"royalblue\")\n",
    "bars2 = ax.bar(x + bar_width/2, adv_acc, bar_width, yerr=adv_acc_std, capsize=5, label=\"Adv. Acc.\", color=\"orangered\")\n",
    "\n",
    "# Labels and titles\n",
    "ax.set_ylabel(\"Accuracy\", size = 14)\n",
    "ax.set_title(\"Data Distribution and Defenses\", size = 18)\n",
    "ax.set_xticks(x)\n",
    "ax.set_xticklabels(settings, size = 14)\n",
    "ax.tick_params(axis='y', labelsize=14)  # Increase y-axis label size\n",
    "ax.legend(fontsize = 14)\n",
    "\n",
    "# Display the plot\n",
    "plt.show()\n"
   ]
  },
  {
   "cell_type": "code",
   "execution_count": null,
   "metadata": {},
   "outputs": [],
   "source": []
  }
 ],
 "metadata": {
  "kernelspec": {
   "display_name": "FedEM_env",
   "language": "python",
   "name": "python3"
  },
  "language_info": {
   "codemirror_mode": {
    "name": "ipython",
    "version": 3
   },
   "file_extension": ".py",
   "mimetype": "text/x-python",
   "name": "python",
   "nbconvert_exporter": "python",
   "pygments_lexer": "ipython3",
   "version": "3.9.6"
  }
 },
 "nbformat": 4,
 "nbformat_minor": 2
}
